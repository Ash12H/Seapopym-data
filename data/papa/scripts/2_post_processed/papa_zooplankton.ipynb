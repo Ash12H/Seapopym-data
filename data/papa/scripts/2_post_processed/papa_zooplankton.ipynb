{
 "cells": [
  {
   "cell_type": "code",
   "execution_count": 21,
   "metadata": {},
   "outputs": [],
   "source": [
    "import pandas as pd\n",
    "import xarray as xr\n",
    "import cf_xarray.units  # noqa: F401\n",
    "import pint_xarray  # noqa: F401\n",
    "\n",
    "pd.options.plotting.backend = \"plotly\""
   ]
  },
  {
   "cell_type": "code",
   "execution_count": 2,
   "metadata": {},
   "outputs": [],
   "source": [
    "data = pd.read_excel(\n",
    "    \"../../1_raw/P26-zoo_1995-2020 major taxa by size.xlsx\",\n",
    "    sheet_name=\"P26 mg per m3_groups\",\n",
    "    skiprows=1,\n",
    ")"
   ]
  },
  {
   "cell_type": "markdown",
   "metadata": {},
   "source": [
    "We only need these columns :\n"
   ]
  },
  {
   "cell_type": "code",
   "execution_count": 3,
   "metadata": {},
   "outputs": [],
   "source": [
    "header = (\"date\", \"N/Day\", \"Net_Mouth_Dia(m)\", \"DEPTH_STRT\", \"Volume Filtered(m3)\")\n",
    "columns = (\n",
    "    \"CRUST (mg/m3)\",\n",
    "    \"LARV (mg/m3)\",\n",
    "    \"THAL(mg/m3)\",\n",
    "    \"CHAETO(mg/m3)\",\n",
    "    \"PTEROPOD(mg/m3)\",\n",
    "    \"small GEL(mg/m3)\",\n",
    "    \"FORAM(mg/m3)\",\n",
    "    \"OTH(mg/m3)\",\n",
    "    \"TOTAL non GEL(mg/m3)\",\n",
    ")"
   ]
  },
  {
   "cell_type": "code",
   "execution_count": 4,
   "metadata": {},
   "outputs": [
    {
     "data": {
      "text/html": [
       "<div>\n",
       "<style scoped>\n",
       "    .dataframe tbody tr th:only-of-type {\n",
       "        vertical-align: middle;\n",
       "    }\n",
       "\n",
       "    .dataframe tbody tr th {\n",
       "        vertical-align: top;\n",
       "    }\n",
       "\n",
       "    .dataframe thead th {\n",
       "        text-align: right;\n",
       "    }\n",
       "</style>\n",
       "<table border=\"1\" class=\"dataframe\">\n",
       "  <thead>\n",
       "    <tr style=\"text-align: right;\">\n",
       "      <th></th>\n",
       "      <th>date</th>\n",
       "      <th>N/Day</th>\n",
       "      <th>Net_Mouth_Dia(m)</th>\n",
       "      <th>DEPTH_STRT</th>\n",
       "      <th>Volume Filtered(m3)</th>\n",
       "      <th>CRUST \\n(mg/m3)</th>\n",
       "      <th>LARV \\n(mg/m3)</th>\n",
       "      <th>THAL\\n(mg/m3)</th>\n",
       "      <th>CHAETO\\n(mg/m3)</th>\n",
       "      <th>PTEROPOD\\n(mg/m3)</th>\n",
       "      <th>small GEL\\n(mg/m3)</th>\n",
       "      <th>FORAM\\n(mg/m3)</th>\n",
       "      <th>OTH\\n(mg/m3)</th>\n",
       "      <th>TOTAL non GEL\\n(mg/m3)</th>\n",
       "    </tr>\n",
       "  </thead>\n",
       "  <tbody>\n",
       "    <tr>\n",
       "      <th>0</th>\n",
       "      <td>1997-02-21</td>\n",
       "      <td>N</td>\n",
       "      <td>0.56</td>\n",
       "      <td>123</td>\n",
       "      <td>64.79</td>\n",
       "      <td>5.75863</td>\n",
       "      <td>0.05149</td>\n",
       "      <td>0.0</td>\n",
       "      <td>0.27368</td>\n",
       "      <td>0.06297</td>\n",
       "      <td>0.51674</td>\n",
       "      <td>0.00519</td>\n",
       "      <td>0.00648</td>\n",
       "      <td>6.10695</td>\n",
       "    </tr>\n",
       "    <tr>\n",
       "      <th>1</th>\n",
       "      <td>1997-02-21</td>\n",
       "      <td>N</td>\n",
       "      <td>0.56</td>\n",
       "      <td>136</td>\n",
       "      <td>77.41</td>\n",
       "      <td>5.49039</td>\n",
       "      <td>0.32688</td>\n",
       "      <td>0.0</td>\n",
       "      <td>0.29913</td>\n",
       "      <td>0.07854</td>\n",
       "      <td>1.27374</td>\n",
       "      <td>0.00000</td>\n",
       "      <td>0.32088</td>\n",
       "      <td>6.18894</td>\n",
       "    </tr>\n",
       "  </tbody>\n",
       "</table>\n",
       "</div>"
      ],
      "text/plain": [
       "        date N/Day  Net_Mouth_Dia(m)  DEPTH_STRT  Volume Filtered(m3)  \\\n",
       "0 1997-02-21     N              0.56         123                64.79   \n",
       "1 1997-02-21     N              0.56         136                77.41   \n",
       "\n",
       "   CRUST \\n(mg/m3)  LARV \\n(mg/m3)  THAL\\n(mg/m3)  CHAETO\\n(mg/m3)  \\\n",
       "0          5.75863         0.05149            0.0          0.27368   \n",
       "1          5.49039         0.32688            0.0          0.29913   \n",
       "\n",
       "   PTEROPOD\\n(mg/m3)  small GEL\\n(mg/m3)  FORAM\\n(mg/m3)  OTH\\n(mg/m3)  \\\n",
       "0            0.06297             0.51674         0.00519       0.00648   \n",
       "1            0.07854             1.27374         0.00000       0.32088   \n",
       "\n",
       "   TOTAL non GEL\\n(mg/m3)  \n",
       "0                 6.10695  \n",
       "1                 6.18894  "
      ]
     },
     "execution_count": 4,
     "metadata": {},
     "output_type": "execute_result"
    }
   ],
   "source": [
    "# garder les 5 premieres columns et les 9 dernières\n",
    "data = data.iloc[:, [*list(range(5)), *list(range(-9, 0))]]\n",
    "data.head(2)"
   ]
  },
  {
   "cell_type": "markdown",
   "metadata": {},
   "source": [
    "Then we rename and keep the units.\n"
   ]
  },
  {
   "cell_type": "code",
   "execution_count": 5,
   "metadata": {},
   "outputs": [],
   "source": [
    "data = data.rename(\n",
    "    columns={\n",
    "        \"CRUST \\n(mg/m3)\": \"crustaceans\",\n",
    "        \"LARV \\n(mg/m3)\": \"larvae\",\n",
    "        \"THAL\\n(mg/m3)\": \"thaliaceans\",\n",
    "        \"CHAETO\\n(mg/m3)\": \"chaetognaths\",\n",
    "        \"PTEROPOD\\n(mg/m3)\": \"pteropods\",\n",
    "        \"small GEL\\n(mg/m3)\": \"small_gelatinous\",\n",
    "        \"FORAM\\n(mg/m3)\": \"foram\",\n",
    "        \"OTH\\n(mg/m3)\": \"other\",\n",
    "        \"TOTAL non GEL\\n(mg/m3)\": \"total_non_gelatinous\",\n",
    "        \"DEPTH_STRT\": \"depth\",\n",
    "    }\n",
    ")\n",
    "species_unit = \"mg/m3\"\n",
    "volum_unit = \"m3\""
   ]
  },
  {
   "cell_type": "code",
   "execution_count": 6,
   "metadata": {},
   "outputs": [
    {
     "data": {
      "text/html": [
       "<div>\n",
       "<style scoped>\n",
       "    .dataframe tbody tr th:only-of-type {\n",
       "        vertical-align: middle;\n",
       "    }\n",
       "\n",
       "    .dataframe tbody tr th {\n",
       "        vertical-align: top;\n",
       "    }\n",
       "\n",
       "    .dataframe thead th {\n",
       "        text-align: right;\n",
       "    }\n",
       "</style>\n",
       "<table border=\"1\" class=\"dataframe\">\n",
       "  <thead>\n",
       "    <tr style=\"text-align: right;\">\n",
       "      <th></th>\n",
       "      <th>date</th>\n",
       "      <th>N/Day</th>\n",
       "      <th>Net_Mouth_Dia(m)</th>\n",
       "      <th>depth</th>\n",
       "      <th>Volume Filtered(m3)</th>\n",
       "      <th>crustaceans</th>\n",
       "      <th>larvae</th>\n",
       "      <th>thaliaceans</th>\n",
       "      <th>chaetognaths</th>\n",
       "      <th>pteropods</th>\n",
       "      <th>small_gelatinous</th>\n",
       "      <th>foram</th>\n",
       "      <th>other</th>\n",
       "      <th>total_non_gelatinous</th>\n",
       "    </tr>\n",
       "  </thead>\n",
       "  <tbody>\n",
       "    <tr>\n",
       "      <th>0</th>\n",
       "      <td>1997-02-21</td>\n",
       "      <td>N</td>\n",
       "      <td>0.56</td>\n",
       "      <td>123</td>\n",
       "      <td>64.79</td>\n",
       "      <td>5.75863</td>\n",
       "      <td>0.05149</td>\n",
       "      <td>0.0</td>\n",
       "      <td>0.27368</td>\n",
       "      <td>0.06297</td>\n",
       "      <td>0.51674</td>\n",
       "      <td>0.00519</td>\n",
       "      <td>0.00648</td>\n",
       "      <td>6.10695</td>\n",
       "    </tr>\n",
       "    <tr>\n",
       "      <th>1</th>\n",
       "      <td>1997-02-21</td>\n",
       "      <td>N</td>\n",
       "      <td>0.56</td>\n",
       "      <td>136</td>\n",
       "      <td>77.41</td>\n",
       "      <td>5.49039</td>\n",
       "      <td>0.32688</td>\n",
       "      <td>0.0</td>\n",
       "      <td>0.29913</td>\n",
       "      <td>0.07854</td>\n",
       "      <td>1.27374</td>\n",
       "      <td>0.00000</td>\n",
       "      <td>0.32088</td>\n",
       "      <td>6.18894</td>\n",
       "    </tr>\n",
       "  </tbody>\n",
       "</table>\n",
       "</div>"
      ],
      "text/plain": [
       "        date N/Day  Net_Mouth_Dia(m)  depth  Volume Filtered(m3)  crustaceans  \\\n",
       "0 1997-02-21     N              0.56    123                64.79      5.75863   \n",
       "1 1997-02-21     N              0.56    136                77.41      5.49039   \n",
       "\n",
       "    larvae  thaliaceans  chaetognaths  pteropods  small_gelatinous    foram  \\\n",
       "0  0.05149          0.0       0.27368    0.06297           0.51674  0.00519   \n",
       "1  0.32688          0.0       0.29913    0.07854           1.27374  0.00000   \n",
       "\n",
       "     other  total_non_gelatinous  \n",
       "0  0.00648               6.10695  \n",
       "1  0.32088               6.18894  "
      ]
     },
     "execution_count": 6,
     "metadata": {},
     "output_type": "execute_result"
    }
   ],
   "source": [
    "data.head(2)"
   ]
  },
  {
   "cell_type": "markdown",
   "metadata": {},
   "source": [
    "Sometimes the net mouth diameter is different.\n"
   ]
  },
  {
   "cell_type": "code",
   "execution_count": 7,
   "metadata": {},
   "outputs": [
    {
     "data": {
      "application/vnd.plotly.v1+json": {
       "config": {
        "plotlyServerURL": "https://plot.ly"
       },
       "data": [
        {
         "alignmentgroup": "True",
         "bingroup": "x",
         "hovertemplate": "variable=Net_Mouth_Dia(m)<br>value=%{x}<br>count=%{y}<extra></extra>",
         "legendgroup": "Net_Mouth_Dia(m)",
         "marker": {
          "color": "#636efa",
          "pattern": {
           "shape": ""
          }
         },
         "name": "Net_Mouth_Dia(m)",
         "offsetgroup": "Net_Mouth_Dia(m)",
         "orientation": "v",
         "showlegend": true,
         "type": "histogram",
         "x": [
          0.56,
          0.56,
          0.56,
          0.56,
          0.56,
          0.44,
          0.56,
          0.56,
          0.56,
          0.42,
          0.56,
          0.56,
          0.42,
          0.56,
          0.56,
          0.56,
          0.56,
          0.42,
          0.56,
          0.56,
          0.42,
          0.56,
          0.56,
          0.56,
          0.56,
          0.42,
          0.56,
          0.56,
          0.56,
          0.56,
          0.56,
          0.42,
          0.56,
          0.56,
          0.42,
          0.56,
          0.56,
          0.56,
          0.56,
          0.42,
          0.56,
          0.56,
          0.56,
          0.56,
          0.42,
          0.56,
          0.56,
          0.56,
          0.56,
          0.56,
          0.56,
          0.56,
          0.56,
          0.56,
          0.56,
          0.56,
          0.56,
          0.56,
          0.56,
          0.56,
          0.56,
          0.56,
          0.56,
          0.56,
          0.56,
          0.56,
          0.56,
          0.56,
          0.56,
          0.56,
          0.56,
          0.56,
          0.56,
          0.56,
          0.56,
          0.56,
          0.56,
          0.56,
          0.56,
          0.56,
          0.56,
          0.56,
          0.56,
          0.56,
          0.56,
          0.56,
          0.56,
          0.56,
          0.56,
          0.56,
          0.56,
          0.56,
          0.56,
          0.56,
          0.56,
          0.56,
          0.56,
          0.56,
          0.56,
          0.56,
          0.56,
          0.56,
          0.56,
          0.56,
          0.56,
          0.56,
          0.56,
          0.56,
          0.56,
          0.56
         ],
         "xaxis": "x",
         "yaxis": "y"
        }
       ],
       "layout": {
        "barmode": "relative",
        "height": 300,
        "legend": {
         "title": {
          "text": "variable"
         },
         "tracegroupgap": 0
        },
        "margin": {
         "t": 60
        },
        "template": {
         "data": {
          "bar": [
           {
            "error_x": {
             "color": "#2a3f5f"
            },
            "error_y": {
             "color": "#2a3f5f"
            },
            "marker": {
             "line": {
              "color": "#E5ECF6",
              "width": 0.5
             },
             "pattern": {
              "fillmode": "overlay",
              "size": 10,
              "solidity": 0.2
             }
            },
            "type": "bar"
           }
          ],
          "barpolar": [
           {
            "marker": {
             "line": {
              "color": "#E5ECF6",
              "width": 0.5
             },
             "pattern": {
              "fillmode": "overlay",
              "size": 10,
              "solidity": 0.2
             }
            },
            "type": "barpolar"
           }
          ],
          "carpet": [
           {
            "aaxis": {
             "endlinecolor": "#2a3f5f",
             "gridcolor": "white",
             "linecolor": "white",
             "minorgridcolor": "white",
             "startlinecolor": "#2a3f5f"
            },
            "baxis": {
             "endlinecolor": "#2a3f5f",
             "gridcolor": "white",
             "linecolor": "white",
             "minorgridcolor": "white",
             "startlinecolor": "#2a3f5f"
            },
            "type": "carpet"
           }
          ],
          "choropleth": [
           {
            "colorbar": {
             "outlinewidth": 0,
             "ticks": ""
            },
            "type": "choropleth"
           }
          ],
          "contour": [
           {
            "colorbar": {
             "outlinewidth": 0,
             "ticks": ""
            },
            "colorscale": [
             [
              0,
              "#0d0887"
             ],
             [
              0.1111111111111111,
              "#46039f"
             ],
             [
              0.2222222222222222,
              "#7201a8"
             ],
             [
              0.3333333333333333,
              "#9c179e"
             ],
             [
              0.4444444444444444,
              "#bd3786"
             ],
             [
              0.5555555555555556,
              "#d8576b"
             ],
             [
              0.6666666666666666,
              "#ed7953"
             ],
             [
              0.7777777777777778,
              "#fb9f3a"
             ],
             [
              0.8888888888888888,
              "#fdca26"
             ],
             [
              1,
              "#f0f921"
             ]
            ],
            "type": "contour"
           }
          ],
          "contourcarpet": [
           {
            "colorbar": {
             "outlinewidth": 0,
             "ticks": ""
            },
            "type": "contourcarpet"
           }
          ],
          "heatmap": [
           {
            "colorbar": {
             "outlinewidth": 0,
             "ticks": ""
            },
            "colorscale": [
             [
              0,
              "#0d0887"
             ],
             [
              0.1111111111111111,
              "#46039f"
             ],
             [
              0.2222222222222222,
              "#7201a8"
             ],
             [
              0.3333333333333333,
              "#9c179e"
             ],
             [
              0.4444444444444444,
              "#bd3786"
             ],
             [
              0.5555555555555556,
              "#d8576b"
             ],
             [
              0.6666666666666666,
              "#ed7953"
             ],
             [
              0.7777777777777778,
              "#fb9f3a"
             ],
             [
              0.8888888888888888,
              "#fdca26"
             ],
             [
              1,
              "#f0f921"
             ]
            ],
            "type": "heatmap"
           }
          ],
          "heatmapgl": [
           {
            "colorbar": {
             "outlinewidth": 0,
             "ticks": ""
            },
            "colorscale": [
             [
              0,
              "#0d0887"
             ],
             [
              0.1111111111111111,
              "#46039f"
             ],
             [
              0.2222222222222222,
              "#7201a8"
             ],
             [
              0.3333333333333333,
              "#9c179e"
             ],
             [
              0.4444444444444444,
              "#bd3786"
             ],
             [
              0.5555555555555556,
              "#d8576b"
             ],
             [
              0.6666666666666666,
              "#ed7953"
             ],
             [
              0.7777777777777778,
              "#fb9f3a"
             ],
             [
              0.8888888888888888,
              "#fdca26"
             ],
             [
              1,
              "#f0f921"
             ]
            ],
            "type": "heatmapgl"
           }
          ],
          "histogram": [
           {
            "marker": {
             "pattern": {
              "fillmode": "overlay",
              "size": 10,
              "solidity": 0.2
             }
            },
            "type": "histogram"
           }
          ],
          "histogram2d": [
           {
            "colorbar": {
             "outlinewidth": 0,
             "ticks": ""
            },
            "colorscale": [
             [
              0,
              "#0d0887"
             ],
             [
              0.1111111111111111,
              "#46039f"
             ],
             [
              0.2222222222222222,
              "#7201a8"
             ],
             [
              0.3333333333333333,
              "#9c179e"
             ],
             [
              0.4444444444444444,
              "#bd3786"
             ],
             [
              0.5555555555555556,
              "#d8576b"
             ],
             [
              0.6666666666666666,
              "#ed7953"
             ],
             [
              0.7777777777777778,
              "#fb9f3a"
             ],
             [
              0.8888888888888888,
              "#fdca26"
             ],
             [
              1,
              "#f0f921"
             ]
            ],
            "type": "histogram2d"
           }
          ],
          "histogram2dcontour": [
           {
            "colorbar": {
             "outlinewidth": 0,
             "ticks": ""
            },
            "colorscale": [
             [
              0,
              "#0d0887"
             ],
             [
              0.1111111111111111,
              "#46039f"
             ],
             [
              0.2222222222222222,
              "#7201a8"
             ],
             [
              0.3333333333333333,
              "#9c179e"
             ],
             [
              0.4444444444444444,
              "#bd3786"
             ],
             [
              0.5555555555555556,
              "#d8576b"
             ],
             [
              0.6666666666666666,
              "#ed7953"
             ],
             [
              0.7777777777777778,
              "#fb9f3a"
             ],
             [
              0.8888888888888888,
              "#fdca26"
             ],
             [
              1,
              "#f0f921"
             ]
            ],
            "type": "histogram2dcontour"
           }
          ],
          "mesh3d": [
           {
            "colorbar": {
             "outlinewidth": 0,
             "ticks": ""
            },
            "type": "mesh3d"
           }
          ],
          "parcoords": [
           {
            "line": {
             "colorbar": {
              "outlinewidth": 0,
              "ticks": ""
             }
            },
            "type": "parcoords"
           }
          ],
          "pie": [
           {
            "automargin": true,
            "type": "pie"
           }
          ],
          "scatter": [
           {
            "fillpattern": {
             "fillmode": "overlay",
             "size": 10,
             "solidity": 0.2
            },
            "type": "scatter"
           }
          ],
          "scatter3d": [
           {
            "line": {
             "colorbar": {
              "outlinewidth": 0,
              "ticks": ""
             }
            },
            "marker": {
             "colorbar": {
              "outlinewidth": 0,
              "ticks": ""
             }
            },
            "type": "scatter3d"
           }
          ],
          "scattercarpet": [
           {
            "marker": {
             "colorbar": {
              "outlinewidth": 0,
              "ticks": ""
             }
            },
            "type": "scattercarpet"
           }
          ],
          "scattergeo": [
           {
            "marker": {
             "colorbar": {
              "outlinewidth": 0,
              "ticks": ""
             }
            },
            "type": "scattergeo"
           }
          ],
          "scattergl": [
           {
            "marker": {
             "colorbar": {
              "outlinewidth": 0,
              "ticks": ""
             }
            },
            "type": "scattergl"
           }
          ],
          "scattermapbox": [
           {
            "marker": {
             "colorbar": {
              "outlinewidth": 0,
              "ticks": ""
             }
            },
            "type": "scattermapbox"
           }
          ],
          "scatterpolar": [
           {
            "marker": {
             "colorbar": {
              "outlinewidth": 0,
              "ticks": ""
             }
            },
            "type": "scatterpolar"
           }
          ],
          "scatterpolargl": [
           {
            "marker": {
             "colorbar": {
              "outlinewidth": 0,
              "ticks": ""
             }
            },
            "type": "scatterpolargl"
           }
          ],
          "scatterternary": [
           {
            "marker": {
             "colorbar": {
              "outlinewidth": 0,
              "ticks": ""
             }
            },
            "type": "scatterternary"
           }
          ],
          "surface": [
           {
            "colorbar": {
             "outlinewidth": 0,
             "ticks": ""
            },
            "colorscale": [
             [
              0,
              "#0d0887"
             ],
             [
              0.1111111111111111,
              "#46039f"
             ],
             [
              0.2222222222222222,
              "#7201a8"
             ],
             [
              0.3333333333333333,
              "#9c179e"
             ],
             [
              0.4444444444444444,
              "#bd3786"
             ],
             [
              0.5555555555555556,
              "#d8576b"
             ],
             [
              0.6666666666666666,
              "#ed7953"
             ],
             [
              0.7777777777777778,
              "#fb9f3a"
             ],
             [
              0.8888888888888888,
              "#fdca26"
             ],
             [
              1,
              "#f0f921"
             ]
            ],
            "type": "surface"
           }
          ],
          "table": [
           {
            "cells": {
             "fill": {
              "color": "#EBF0F8"
             },
             "line": {
              "color": "white"
             }
            },
            "header": {
             "fill": {
              "color": "#C8D4E3"
             },
             "line": {
              "color": "white"
             }
            },
            "type": "table"
           }
          ]
         },
         "layout": {
          "annotationdefaults": {
           "arrowcolor": "#2a3f5f",
           "arrowhead": 0,
           "arrowwidth": 1
          },
          "autotypenumbers": "strict",
          "coloraxis": {
           "colorbar": {
            "outlinewidth": 0,
            "ticks": ""
           }
          },
          "colorscale": {
           "diverging": [
            [
             0,
             "#8e0152"
            ],
            [
             0.1,
             "#c51b7d"
            ],
            [
             0.2,
             "#de77ae"
            ],
            [
             0.3,
             "#f1b6da"
            ],
            [
             0.4,
             "#fde0ef"
            ],
            [
             0.5,
             "#f7f7f7"
            ],
            [
             0.6,
             "#e6f5d0"
            ],
            [
             0.7,
             "#b8e186"
            ],
            [
             0.8,
             "#7fbc41"
            ],
            [
             0.9,
             "#4d9221"
            ],
            [
             1,
             "#276419"
            ]
           ],
           "sequential": [
            [
             0,
             "#0d0887"
            ],
            [
             0.1111111111111111,
             "#46039f"
            ],
            [
             0.2222222222222222,
             "#7201a8"
            ],
            [
             0.3333333333333333,
             "#9c179e"
            ],
            [
             0.4444444444444444,
             "#bd3786"
            ],
            [
             0.5555555555555556,
             "#d8576b"
            ],
            [
             0.6666666666666666,
             "#ed7953"
            ],
            [
             0.7777777777777778,
             "#fb9f3a"
            ],
            [
             0.8888888888888888,
             "#fdca26"
            ],
            [
             1,
             "#f0f921"
            ]
           ],
           "sequentialminus": [
            [
             0,
             "#0d0887"
            ],
            [
             0.1111111111111111,
             "#46039f"
            ],
            [
             0.2222222222222222,
             "#7201a8"
            ],
            [
             0.3333333333333333,
             "#9c179e"
            ],
            [
             0.4444444444444444,
             "#bd3786"
            ],
            [
             0.5555555555555556,
             "#d8576b"
            ],
            [
             0.6666666666666666,
             "#ed7953"
            ],
            [
             0.7777777777777778,
             "#fb9f3a"
            ],
            [
             0.8888888888888888,
             "#fdca26"
            ],
            [
             1,
             "#f0f921"
            ]
           ]
          },
          "colorway": [
           "#636efa",
           "#EF553B",
           "#00cc96",
           "#ab63fa",
           "#FFA15A",
           "#19d3f3",
           "#FF6692",
           "#B6E880",
           "#FF97FF",
           "#FECB52"
          ],
          "font": {
           "color": "#2a3f5f"
          },
          "geo": {
           "bgcolor": "white",
           "lakecolor": "white",
           "landcolor": "#E5ECF6",
           "showlakes": true,
           "showland": true,
           "subunitcolor": "white"
          },
          "hoverlabel": {
           "align": "left"
          },
          "hovermode": "closest",
          "mapbox": {
           "style": "light"
          },
          "paper_bgcolor": "white",
          "plot_bgcolor": "#E5ECF6",
          "polar": {
           "angularaxis": {
            "gridcolor": "white",
            "linecolor": "white",
            "ticks": ""
           },
           "bgcolor": "#E5ECF6",
           "radialaxis": {
            "gridcolor": "white",
            "linecolor": "white",
            "ticks": ""
           }
          },
          "scene": {
           "xaxis": {
            "backgroundcolor": "#E5ECF6",
            "gridcolor": "white",
            "gridwidth": 2,
            "linecolor": "white",
            "showbackground": true,
            "ticks": "",
            "zerolinecolor": "white"
           },
           "yaxis": {
            "backgroundcolor": "#E5ECF6",
            "gridcolor": "white",
            "gridwidth": 2,
            "linecolor": "white",
            "showbackground": true,
            "ticks": "",
            "zerolinecolor": "white"
           },
           "zaxis": {
            "backgroundcolor": "#E5ECF6",
            "gridcolor": "white",
            "gridwidth": 2,
            "linecolor": "white",
            "showbackground": true,
            "ticks": "",
            "zerolinecolor": "white"
           }
          },
          "shapedefaults": {
           "line": {
            "color": "#2a3f5f"
           }
          },
          "ternary": {
           "aaxis": {
            "gridcolor": "white",
            "linecolor": "white",
            "ticks": ""
           },
           "baxis": {
            "gridcolor": "white",
            "linecolor": "white",
            "ticks": ""
           },
           "bgcolor": "#E5ECF6",
           "caxis": {
            "gridcolor": "white",
            "linecolor": "white",
            "ticks": ""
           }
          },
          "title": {
           "x": 0.05
          },
          "xaxis": {
           "automargin": true,
           "gridcolor": "white",
           "linecolor": "white",
           "ticks": "",
           "title": {
            "standoff": 15
           },
           "zerolinecolor": "white",
           "zerolinewidth": 2
          },
          "yaxis": {
           "automargin": true,
           "gridcolor": "white",
           "linecolor": "white",
           "ticks": "",
           "title": {
            "standoff": 15
           },
           "zerolinecolor": "white",
           "zerolinewidth": 2
          }
         }
        },
        "width": 600,
        "xaxis": {
         "anchor": "y",
         "domain": [
          0,
          1
         ],
         "title": {
          "text": "value"
         }
        },
        "yaxis": {
         "anchor": "x",
         "domain": [
          0,
          1
         ],
         "title": {
          "text": "count"
         }
        }
       }
      }
     },
     "metadata": {},
     "output_type": "display_data"
    }
   ],
   "source": [
    "fig = data[\"Net_Mouth_Dia(m)\"].plot(kind=\"hist\")\n",
    "fig.update_layout(width=600, height=300)"
   ]
  },
  {
   "cell_type": "code",
   "execution_count": 8,
   "metadata": {},
   "outputs": [
    {
     "data": {
      "application/vnd.plotly.v1+json": {
       "config": {
        "plotlyServerURL": "https://plot.ly"
       },
       "data": [
        {
         "alignmentgroup": "True",
         "bingroup": "x",
         "hovertemplate": "variable=Volume Filtered(m3)<br>value=%{x}<br>count=%{y}<extra></extra>",
         "legendgroup": "Volume Filtered(m3)",
         "marker": {
          "color": "#636efa",
          "pattern": {
           "shape": ""
          }
         },
         "name": "Volume Filtered(m3)",
         "offsetgroup": "Volume Filtered(m3)",
         "orientation": "v",
         "showlegend": true,
         "type": "histogram",
         "x": [
          64.79,
          77.41,
          67.39,
          56.45,
          31.44,
          20.26,
          31.45,
          52.11,
          52.11,
          21.01,
          30.68,
          31.44,
          19.04,
          52.74,
          52.74,
          4.96,
          31.4,
          25.22,
          38.42,
          53.25,
          19.12,
          31.59,
          31.59,
          47.45,
          47.45,
          16.41,
          34.28,
          81.35,
          31.4,
          32.45,
          32.45,
          18.19,
          30.04,
          38.3,
          17.58,
          55.43,
          55.43,
          52.54,
          51.82,
          27.8,
          36.22,
          36.22,
          41.32,
          41.32,
          26.46,
          43.3,
          48.05,
          61.75,
          45.53,
          69.34,
          47.08,
          52.04,
          61.86,
          33.33,
          61.93,
          59.55,
          31.66,
          56.76,
          42.46,
          42.28,
          37.16,
          90.96,
          62.29,
          59.68,
          29.56,
          77.38,
          92.32,
          52.53,
          85.39,
          78.11,
          102.42,
          93.4,
          89.5,
          83.76,
          104.21,
          58.23,
          103.28,
          56.76,
          52.06,
          111.7,
          69.39,
          74.32,
          52.34,
          75.83,
          65.74,
          71.01,
          78.93,
          117.52,
          52.34,
          70.39,
          87.24,
          99.08,
          88.59,
          58.9,
          52.24,
          70.64,
          52.34,
          69.1,
          53.09,
          96.2,
          91.18,
          76.78,
          52.34,
          71.09,
          78.45,
          76.48,
          65.02,
          88.62,
          71,
          65.52
         ],
         "xaxis": "x",
         "yaxis": "y"
        }
       ],
       "layout": {
        "barmode": "relative",
        "height": 300,
        "legend": {
         "title": {
          "text": "variable"
         },
         "tracegroupgap": 0
        },
        "margin": {
         "t": 60
        },
        "template": {
         "data": {
          "bar": [
           {
            "error_x": {
             "color": "#2a3f5f"
            },
            "error_y": {
             "color": "#2a3f5f"
            },
            "marker": {
             "line": {
              "color": "#E5ECF6",
              "width": 0.5
             },
             "pattern": {
              "fillmode": "overlay",
              "size": 10,
              "solidity": 0.2
             }
            },
            "type": "bar"
           }
          ],
          "barpolar": [
           {
            "marker": {
             "line": {
              "color": "#E5ECF6",
              "width": 0.5
             },
             "pattern": {
              "fillmode": "overlay",
              "size": 10,
              "solidity": 0.2
             }
            },
            "type": "barpolar"
           }
          ],
          "carpet": [
           {
            "aaxis": {
             "endlinecolor": "#2a3f5f",
             "gridcolor": "white",
             "linecolor": "white",
             "minorgridcolor": "white",
             "startlinecolor": "#2a3f5f"
            },
            "baxis": {
             "endlinecolor": "#2a3f5f",
             "gridcolor": "white",
             "linecolor": "white",
             "minorgridcolor": "white",
             "startlinecolor": "#2a3f5f"
            },
            "type": "carpet"
           }
          ],
          "choropleth": [
           {
            "colorbar": {
             "outlinewidth": 0,
             "ticks": ""
            },
            "type": "choropleth"
           }
          ],
          "contour": [
           {
            "colorbar": {
             "outlinewidth": 0,
             "ticks": ""
            },
            "colorscale": [
             [
              0,
              "#0d0887"
             ],
             [
              0.1111111111111111,
              "#46039f"
             ],
             [
              0.2222222222222222,
              "#7201a8"
             ],
             [
              0.3333333333333333,
              "#9c179e"
             ],
             [
              0.4444444444444444,
              "#bd3786"
             ],
             [
              0.5555555555555556,
              "#d8576b"
             ],
             [
              0.6666666666666666,
              "#ed7953"
             ],
             [
              0.7777777777777778,
              "#fb9f3a"
             ],
             [
              0.8888888888888888,
              "#fdca26"
             ],
             [
              1,
              "#f0f921"
             ]
            ],
            "type": "contour"
           }
          ],
          "contourcarpet": [
           {
            "colorbar": {
             "outlinewidth": 0,
             "ticks": ""
            },
            "type": "contourcarpet"
           }
          ],
          "heatmap": [
           {
            "colorbar": {
             "outlinewidth": 0,
             "ticks": ""
            },
            "colorscale": [
             [
              0,
              "#0d0887"
             ],
             [
              0.1111111111111111,
              "#46039f"
             ],
             [
              0.2222222222222222,
              "#7201a8"
             ],
             [
              0.3333333333333333,
              "#9c179e"
             ],
             [
              0.4444444444444444,
              "#bd3786"
             ],
             [
              0.5555555555555556,
              "#d8576b"
             ],
             [
              0.6666666666666666,
              "#ed7953"
             ],
             [
              0.7777777777777778,
              "#fb9f3a"
             ],
             [
              0.8888888888888888,
              "#fdca26"
             ],
             [
              1,
              "#f0f921"
             ]
            ],
            "type": "heatmap"
           }
          ],
          "heatmapgl": [
           {
            "colorbar": {
             "outlinewidth": 0,
             "ticks": ""
            },
            "colorscale": [
             [
              0,
              "#0d0887"
             ],
             [
              0.1111111111111111,
              "#46039f"
             ],
             [
              0.2222222222222222,
              "#7201a8"
             ],
             [
              0.3333333333333333,
              "#9c179e"
             ],
             [
              0.4444444444444444,
              "#bd3786"
             ],
             [
              0.5555555555555556,
              "#d8576b"
             ],
             [
              0.6666666666666666,
              "#ed7953"
             ],
             [
              0.7777777777777778,
              "#fb9f3a"
             ],
             [
              0.8888888888888888,
              "#fdca26"
             ],
             [
              1,
              "#f0f921"
             ]
            ],
            "type": "heatmapgl"
           }
          ],
          "histogram": [
           {
            "marker": {
             "pattern": {
              "fillmode": "overlay",
              "size": 10,
              "solidity": 0.2
             }
            },
            "type": "histogram"
           }
          ],
          "histogram2d": [
           {
            "colorbar": {
             "outlinewidth": 0,
             "ticks": ""
            },
            "colorscale": [
             [
              0,
              "#0d0887"
             ],
             [
              0.1111111111111111,
              "#46039f"
             ],
             [
              0.2222222222222222,
              "#7201a8"
             ],
             [
              0.3333333333333333,
              "#9c179e"
             ],
             [
              0.4444444444444444,
              "#bd3786"
             ],
             [
              0.5555555555555556,
              "#d8576b"
             ],
             [
              0.6666666666666666,
              "#ed7953"
             ],
             [
              0.7777777777777778,
              "#fb9f3a"
             ],
             [
              0.8888888888888888,
              "#fdca26"
             ],
             [
              1,
              "#f0f921"
             ]
            ],
            "type": "histogram2d"
           }
          ],
          "histogram2dcontour": [
           {
            "colorbar": {
             "outlinewidth": 0,
             "ticks": ""
            },
            "colorscale": [
             [
              0,
              "#0d0887"
             ],
             [
              0.1111111111111111,
              "#46039f"
             ],
             [
              0.2222222222222222,
              "#7201a8"
             ],
             [
              0.3333333333333333,
              "#9c179e"
             ],
             [
              0.4444444444444444,
              "#bd3786"
             ],
             [
              0.5555555555555556,
              "#d8576b"
             ],
             [
              0.6666666666666666,
              "#ed7953"
             ],
             [
              0.7777777777777778,
              "#fb9f3a"
             ],
             [
              0.8888888888888888,
              "#fdca26"
             ],
             [
              1,
              "#f0f921"
             ]
            ],
            "type": "histogram2dcontour"
           }
          ],
          "mesh3d": [
           {
            "colorbar": {
             "outlinewidth": 0,
             "ticks": ""
            },
            "type": "mesh3d"
           }
          ],
          "parcoords": [
           {
            "line": {
             "colorbar": {
              "outlinewidth": 0,
              "ticks": ""
             }
            },
            "type": "parcoords"
           }
          ],
          "pie": [
           {
            "automargin": true,
            "type": "pie"
           }
          ],
          "scatter": [
           {
            "fillpattern": {
             "fillmode": "overlay",
             "size": 10,
             "solidity": 0.2
            },
            "type": "scatter"
           }
          ],
          "scatter3d": [
           {
            "line": {
             "colorbar": {
              "outlinewidth": 0,
              "ticks": ""
             }
            },
            "marker": {
             "colorbar": {
              "outlinewidth": 0,
              "ticks": ""
             }
            },
            "type": "scatter3d"
           }
          ],
          "scattercarpet": [
           {
            "marker": {
             "colorbar": {
              "outlinewidth": 0,
              "ticks": ""
             }
            },
            "type": "scattercarpet"
           }
          ],
          "scattergeo": [
           {
            "marker": {
             "colorbar": {
              "outlinewidth": 0,
              "ticks": ""
             }
            },
            "type": "scattergeo"
           }
          ],
          "scattergl": [
           {
            "marker": {
             "colorbar": {
              "outlinewidth": 0,
              "ticks": ""
             }
            },
            "type": "scattergl"
           }
          ],
          "scattermapbox": [
           {
            "marker": {
             "colorbar": {
              "outlinewidth": 0,
              "ticks": ""
             }
            },
            "type": "scattermapbox"
           }
          ],
          "scatterpolar": [
           {
            "marker": {
             "colorbar": {
              "outlinewidth": 0,
              "ticks": ""
             }
            },
            "type": "scatterpolar"
           }
          ],
          "scatterpolargl": [
           {
            "marker": {
             "colorbar": {
              "outlinewidth": 0,
              "ticks": ""
             }
            },
            "type": "scatterpolargl"
           }
          ],
          "scatterternary": [
           {
            "marker": {
             "colorbar": {
              "outlinewidth": 0,
              "ticks": ""
             }
            },
            "type": "scatterternary"
           }
          ],
          "surface": [
           {
            "colorbar": {
             "outlinewidth": 0,
             "ticks": ""
            },
            "colorscale": [
             [
              0,
              "#0d0887"
             ],
             [
              0.1111111111111111,
              "#46039f"
             ],
             [
              0.2222222222222222,
              "#7201a8"
             ],
             [
              0.3333333333333333,
              "#9c179e"
             ],
             [
              0.4444444444444444,
              "#bd3786"
             ],
             [
              0.5555555555555556,
              "#d8576b"
             ],
             [
              0.6666666666666666,
              "#ed7953"
             ],
             [
              0.7777777777777778,
              "#fb9f3a"
             ],
             [
              0.8888888888888888,
              "#fdca26"
             ],
             [
              1,
              "#f0f921"
             ]
            ],
            "type": "surface"
           }
          ],
          "table": [
           {
            "cells": {
             "fill": {
              "color": "#EBF0F8"
             },
             "line": {
              "color": "white"
             }
            },
            "header": {
             "fill": {
              "color": "#C8D4E3"
             },
             "line": {
              "color": "white"
             }
            },
            "type": "table"
           }
          ]
         },
         "layout": {
          "annotationdefaults": {
           "arrowcolor": "#2a3f5f",
           "arrowhead": 0,
           "arrowwidth": 1
          },
          "autotypenumbers": "strict",
          "coloraxis": {
           "colorbar": {
            "outlinewidth": 0,
            "ticks": ""
           }
          },
          "colorscale": {
           "diverging": [
            [
             0,
             "#8e0152"
            ],
            [
             0.1,
             "#c51b7d"
            ],
            [
             0.2,
             "#de77ae"
            ],
            [
             0.3,
             "#f1b6da"
            ],
            [
             0.4,
             "#fde0ef"
            ],
            [
             0.5,
             "#f7f7f7"
            ],
            [
             0.6,
             "#e6f5d0"
            ],
            [
             0.7,
             "#b8e186"
            ],
            [
             0.8,
             "#7fbc41"
            ],
            [
             0.9,
             "#4d9221"
            ],
            [
             1,
             "#276419"
            ]
           ],
           "sequential": [
            [
             0,
             "#0d0887"
            ],
            [
             0.1111111111111111,
             "#46039f"
            ],
            [
             0.2222222222222222,
             "#7201a8"
            ],
            [
             0.3333333333333333,
             "#9c179e"
            ],
            [
             0.4444444444444444,
             "#bd3786"
            ],
            [
             0.5555555555555556,
             "#d8576b"
            ],
            [
             0.6666666666666666,
             "#ed7953"
            ],
            [
             0.7777777777777778,
             "#fb9f3a"
            ],
            [
             0.8888888888888888,
             "#fdca26"
            ],
            [
             1,
             "#f0f921"
            ]
           ],
           "sequentialminus": [
            [
             0,
             "#0d0887"
            ],
            [
             0.1111111111111111,
             "#46039f"
            ],
            [
             0.2222222222222222,
             "#7201a8"
            ],
            [
             0.3333333333333333,
             "#9c179e"
            ],
            [
             0.4444444444444444,
             "#bd3786"
            ],
            [
             0.5555555555555556,
             "#d8576b"
            ],
            [
             0.6666666666666666,
             "#ed7953"
            ],
            [
             0.7777777777777778,
             "#fb9f3a"
            ],
            [
             0.8888888888888888,
             "#fdca26"
            ],
            [
             1,
             "#f0f921"
            ]
           ]
          },
          "colorway": [
           "#636efa",
           "#EF553B",
           "#00cc96",
           "#ab63fa",
           "#FFA15A",
           "#19d3f3",
           "#FF6692",
           "#B6E880",
           "#FF97FF",
           "#FECB52"
          ],
          "font": {
           "color": "#2a3f5f"
          },
          "geo": {
           "bgcolor": "white",
           "lakecolor": "white",
           "landcolor": "#E5ECF6",
           "showlakes": true,
           "showland": true,
           "subunitcolor": "white"
          },
          "hoverlabel": {
           "align": "left"
          },
          "hovermode": "closest",
          "mapbox": {
           "style": "light"
          },
          "paper_bgcolor": "white",
          "plot_bgcolor": "#E5ECF6",
          "polar": {
           "angularaxis": {
            "gridcolor": "white",
            "linecolor": "white",
            "ticks": ""
           },
           "bgcolor": "#E5ECF6",
           "radialaxis": {
            "gridcolor": "white",
            "linecolor": "white",
            "ticks": ""
           }
          },
          "scene": {
           "xaxis": {
            "backgroundcolor": "#E5ECF6",
            "gridcolor": "white",
            "gridwidth": 2,
            "linecolor": "white",
            "showbackground": true,
            "ticks": "",
            "zerolinecolor": "white"
           },
           "yaxis": {
            "backgroundcolor": "#E5ECF6",
            "gridcolor": "white",
            "gridwidth": 2,
            "linecolor": "white",
            "showbackground": true,
            "ticks": "",
            "zerolinecolor": "white"
           },
           "zaxis": {
            "backgroundcolor": "#E5ECF6",
            "gridcolor": "white",
            "gridwidth": 2,
            "linecolor": "white",
            "showbackground": true,
            "ticks": "",
            "zerolinecolor": "white"
           }
          },
          "shapedefaults": {
           "line": {
            "color": "#2a3f5f"
           }
          },
          "ternary": {
           "aaxis": {
            "gridcolor": "white",
            "linecolor": "white",
            "ticks": ""
           },
           "baxis": {
            "gridcolor": "white",
            "linecolor": "white",
            "ticks": ""
           },
           "bgcolor": "#E5ECF6",
           "caxis": {
            "gridcolor": "white",
            "linecolor": "white",
            "ticks": ""
           }
          },
          "title": {
           "x": 0.05
          },
          "xaxis": {
           "automargin": true,
           "gridcolor": "white",
           "linecolor": "white",
           "ticks": "",
           "title": {
            "standoff": 15
           },
           "zerolinecolor": "white",
           "zerolinewidth": 2
          },
          "yaxis": {
           "automargin": true,
           "gridcolor": "white",
           "linecolor": "white",
           "ticks": "",
           "title": {
            "standoff": 15
           },
           "zerolinecolor": "white",
           "zerolinewidth": 2
          }
         }
        },
        "width": 600,
        "xaxis": {
         "anchor": "y",
         "domain": [
          0,
          1
         ],
         "title": {
          "text": "value"
         }
        },
        "yaxis": {
         "anchor": "x",
         "domain": [
          0,
          1
         ],
         "title": {
          "text": "count"
         }
        }
       }
      }
     },
     "metadata": {},
     "output_type": "display_data"
    }
   ],
   "source": [
    "fig = data[\"Volume Filtered(m3)\"].plot(kind=\"hist\")\n",
    "fig.update_layout(width=600, height=300)"
   ]
  },
  {
   "cell_type": "code",
   "execution_count": 9,
   "metadata": {},
   "outputs": [
    {
     "data": {
      "text/html": [
       "<div>\n",
       "<style scoped>\n",
       "    .dataframe tbody tr th:only-of-type {\n",
       "        vertical-align: middle;\n",
       "    }\n",
       "\n",
       "    .dataframe tbody tr th {\n",
       "        vertical-align: top;\n",
       "    }\n",
       "\n",
       "    .dataframe thead th {\n",
       "        text-align: right;\n",
       "    }\n",
       "</style>\n",
       "<table border=\"1\" class=\"dataframe\">\n",
       "  <thead>\n",
       "    <tr style=\"text-align: right;\">\n",
       "      <th></th>\n",
       "      <th>date</th>\n",
       "      <th>N/Day</th>\n",
       "      <th>depth</th>\n",
       "      <th>crustaceans</th>\n",
       "      <th>larvae</th>\n",
       "      <th>thaliaceans</th>\n",
       "      <th>chaetognaths</th>\n",
       "      <th>pteropods</th>\n",
       "      <th>small_gelatinous</th>\n",
       "      <th>foram</th>\n",
       "      <th>other</th>\n",
       "      <th>total_non_gelatinous</th>\n",
       "    </tr>\n",
       "  </thead>\n",
       "  <tbody>\n",
       "    <tr>\n",
       "      <th>0</th>\n",
       "      <td>1997-02-21</td>\n",
       "      <td>N</td>\n",
       "      <td>123</td>\n",
       "      <td>5.75863</td>\n",
       "      <td>0.05149</td>\n",
       "      <td>0.0</td>\n",
       "      <td>0.27368</td>\n",
       "      <td>0.06297</td>\n",
       "      <td>0.51674</td>\n",
       "      <td>0.00519</td>\n",
       "      <td>0.00648</td>\n",
       "      <td>6.10695</td>\n",
       "    </tr>\n",
       "    <tr>\n",
       "      <th>1</th>\n",
       "      <td>1997-02-21</td>\n",
       "      <td>N</td>\n",
       "      <td>136</td>\n",
       "      <td>5.49039</td>\n",
       "      <td>0.32688</td>\n",
       "      <td>0.0</td>\n",
       "      <td>0.29913</td>\n",
       "      <td>0.07854</td>\n",
       "      <td>1.27374</td>\n",
       "      <td>0.00000</td>\n",
       "      <td>0.32088</td>\n",
       "      <td>6.18894</td>\n",
       "    </tr>\n",
       "  </tbody>\n",
       "</table>\n",
       "</div>"
      ],
      "text/plain": [
       "        date N/Day  depth  crustaceans   larvae  thaliaceans  chaetognaths  \\\n",
       "0 1997-02-21     N    123      5.75863  0.05149          0.0       0.27368   \n",
       "1 1997-02-21     N    136      5.49039  0.32688          0.0       0.29913   \n",
       "\n",
       "   pteropods  small_gelatinous    foram    other  total_non_gelatinous  \n",
       "0    0.06297           0.51674  0.00519  0.00648               6.10695  \n",
       "1    0.07854           1.27374  0.00000  0.32088               6.18894  "
      ]
     },
     "execution_count": 9,
     "metadata": {},
     "output_type": "execute_result"
    }
   ],
   "source": [
    "data = data.drop(columns=[\"Net_Mouth_Dia(m)\", \"Volume Filtered(m3)\"])\n",
    "data.head(2)"
   ]
  },
  {
   "cell_type": "markdown",
   "metadata": {},
   "source": [
    "---\n",
    "\n",
    "Now we clean the data.\n"
   ]
  },
  {
   "cell_type": "code",
   "execution_count": 10,
   "metadata": {},
   "outputs": [
    {
     "data": {
      "application/vnd.plotly.v1+json": {
       "config": {
        "plotlyServerURL": "https://plot.ly"
       },
       "data": [
        {
         "alignmentgroup": "True",
         "hovertemplate": "variable=%{x}<br>value=%{y}<extra></extra>",
         "legendgroup": "",
         "marker": {
          "color": "#636efa"
         },
         "name": "",
         "notched": false,
         "offsetgroup": "",
         "orientation": "v",
         "showlegend": false,
         "type": "box",
         "x": [
          "crustaceans",
          "crustaceans",
          "crustaceans",
          "crustaceans",
          "crustaceans",
          "crustaceans",
          "crustaceans",
          "crustaceans",
          "crustaceans",
          "crustaceans",
          "crustaceans",
          "crustaceans",
          "crustaceans",
          "crustaceans",
          "crustaceans",
          "crustaceans",
          "crustaceans",
          "crustaceans",
          "crustaceans",
          "crustaceans",
          "crustaceans",
          "crustaceans",
          "crustaceans",
          "crustaceans",
          "crustaceans",
          "crustaceans",
          "crustaceans",
          "crustaceans",
          "crustaceans",
          "crustaceans",
          "crustaceans",
          "crustaceans",
          "crustaceans",
          "crustaceans",
          "crustaceans",
          "crustaceans",
          "crustaceans",
          "crustaceans",
          "crustaceans",
          "crustaceans",
          "crustaceans",
          "crustaceans",
          "crustaceans",
          "crustaceans",
          "crustaceans",
          "crustaceans",
          "crustaceans",
          "crustaceans",
          "crustaceans",
          "crustaceans",
          "crustaceans",
          "crustaceans",
          "crustaceans",
          "crustaceans",
          "crustaceans",
          "crustaceans",
          "crustaceans",
          "crustaceans",
          "crustaceans",
          "crustaceans",
          "crustaceans",
          "crustaceans",
          "crustaceans",
          "crustaceans",
          "crustaceans",
          "crustaceans",
          "crustaceans",
          "crustaceans",
          "crustaceans",
          "crustaceans",
          "crustaceans",
          "crustaceans",
          "crustaceans",
          "crustaceans",
          "crustaceans",
          "crustaceans",
          "crustaceans",
          "crustaceans",
          "crustaceans",
          "crustaceans",
          "crustaceans",
          "crustaceans",
          "crustaceans",
          "crustaceans",
          "crustaceans",
          "crustaceans",
          "crustaceans",
          "crustaceans",
          "crustaceans",
          "crustaceans",
          "crustaceans",
          "crustaceans",
          "crustaceans",
          "crustaceans",
          "crustaceans",
          "crustaceans",
          "crustaceans",
          "crustaceans",
          "crustaceans",
          "crustaceans",
          "crustaceans",
          "crustaceans",
          "crustaceans",
          "crustaceans",
          "crustaceans",
          "crustaceans",
          "crustaceans",
          "crustaceans",
          "crustaceans",
          "crustaceans",
          "larvae",
          "larvae",
          "larvae",
          "larvae",
          "larvae",
          "larvae",
          "larvae",
          "larvae",
          "larvae",
          "larvae",
          "larvae",
          "larvae",
          "larvae",
          "larvae",
          "larvae",
          "larvae",
          "larvae",
          "larvae",
          "larvae",
          "larvae",
          "larvae",
          "larvae",
          "larvae",
          "larvae",
          "larvae",
          "larvae",
          "larvae",
          "larvae",
          "larvae",
          "larvae",
          "larvae",
          "larvae",
          "larvae",
          "larvae",
          "larvae",
          "larvae",
          "larvae",
          "larvae",
          "larvae",
          "larvae",
          "larvae",
          "larvae",
          "larvae",
          "larvae",
          "larvae",
          "larvae",
          "larvae",
          "larvae",
          "larvae",
          "larvae",
          "larvae",
          "larvae",
          "larvae",
          "larvae",
          "larvae",
          "larvae",
          "larvae",
          "larvae",
          "larvae",
          "larvae",
          "larvae",
          "larvae",
          "larvae",
          "larvae",
          "larvae",
          "larvae",
          "larvae",
          "larvae",
          "larvae",
          "larvae",
          "larvae",
          "larvae",
          "larvae",
          "larvae",
          "larvae",
          "larvae",
          "larvae",
          "larvae",
          "larvae",
          "larvae",
          "larvae",
          "larvae",
          "larvae",
          "larvae",
          "larvae",
          "larvae",
          "larvae",
          "larvae",
          "larvae",
          "larvae",
          "larvae",
          "larvae",
          "larvae",
          "larvae",
          "larvae",
          "larvae",
          "larvae",
          "larvae",
          "larvae",
          "larvae",
          "larvae",
          "larvae",
          "larvae",
          "larvae",
          "larvae",
          "larvae",
          "larvae",
          "larvae",
          "larvae",
          "larvae",
          "thaliaceans",
          "thaliaceans",
          "thaliaceans",
          "thaliaceans",
          "thaliaceans",
          "thaliaceans",
          "thaliaceans",
          "thaliaceans",
          "thaliaceans",
          "thaliaceans",
          "thaliaceans",
          "thaliaceans",
          "thaliaceans",
          "thaliaceans",
          "thaliaceans",
          "thaliaceans",
          "thaliaceans",
          "thaliaceans",
          "thaliaceans",
          "thaliaceans",
          "thaliaceans",
          "thaliaceans",
          "thaliaceans",
          "thaliaceans",
          "thaliaceans",
          "thaliaceans",
          "thaliaceans",
          "thaliaceans",
          "thaliaceans",
          "thaliaceans",
          "thaliaceans",
          "thaliaceans",
          "thaliaceans",
          "thaliaceans",
          "thaliaceans",
          "thaliaceans",
          "thaliaceans",
          "thaliaceans",
          "thaliaceans",
          "thaliaceans",
          "thaliaceans",
          "thaliaceans",
          "thaliaceans",
          "thaliaceans",
          "thaliaceans",
          "thaliaceans",
          "thaliaceans",
          "thaliaceans",
          "thaliaceans",
          "thaliaceans",
          "thaliaceans",
          "thaliaceans",
          "thaliaceans",
          "thaliaceans",
          "thaliaceans",
          "thaliaceans",
          "thaliaceans",
          "thaliaceans",
          "thaliaceans",
          "thaliaceans",
          "thaliaceans",
          "thaliaceans",
          "thaliaceans",
          "thaliaceans",
          "thaliaceans",
          "thaliaceans",
          "thaliaceans",
          "thaliaceans",
          "thaliaceans",
          "thaliaceans",
          "thaliaceans",
          "thaliaceans",
          "thaliaceans",
          "thaliaceans",
          "thaliaceans",
          "thaliaceans",
          "thaliaceans",
          "thaliaceans",
          "thaliaceans",
          "thaliaceans",
          "thaliaceans",
          "thaliaceans",
          "thaliaceans",
          "thaliaceans",
          "thaliaceans",
          "thaliaceans",
          "thaliaceans",
          "thaliaceans",
          "thaliaceans",
          "thaliaceans",
          "thaliaceans",
          "thaliaceans",
          "thaliaceans",
          "thaliaceans",
          "thaliaceans",
          "thaliaceans",
          "thaliaceans",
          "thaliaceans",
          "thaliaceans",
          "thaliaceans",
          "thaliaceans",
          "thaliaceans",
          "thaliaceans",
          "thaliaceans",
          "thaliaceans",
          "thaliaceans",
          "thaliaceans",
          "thaliaceans",
          "thaliaceans",
          "thaliaceans",
          "chaetognaths",
          "chaetognaths",
          "chaetognaths",
          "chaetognaths",
          "chaetognaths",
          "chaetognaths",
          "chaetognaths",
          "chaetognaths",
          "chaetognaths",
          "chaetognaths",
          "chaetognaths",
          "chaetognaths",
          "chaetognaths",
          "chaetognaths",
          "chaetognaths",
          "chaetognaths",
          "chaetognaths",
          "chaetognaths",
          "chaetognaths",
          "chaetognaths",
          "chaetognaths",
          "chaetognaths",
          "chaetognaths",
          "chaetognaths",
          "chaetognaths",
          "chaetognaths",
          "chaetognaths",
          "chaetognaths",
          "chaetognaths",
          "chaetognaths",
          "chaetognaths",
          "chaetognaths",
          "chaetognaths",
          "chaetognaths",
          "chaetognaths",
          "chaetognaths",
          "chaetognaths",
          "chaetognaths",
          "chaetognaths",
          "chaetognaths",
          "chaetognaths",
          "chaetognaths",
          "chaetognaths",
          "chaetognaths",
          "chaetognaths",
          "chaetognaths",
          "chaetognaths",
          "chaetognaths",
          "chaetognaths",
          "chaetognaths",
          "chaetognaths",
          "chaetognaths",
          "chaetognaths",
          "chaetognaths",
          "chaetognaths",
          "chaetognaths",
          "chaetognaths",
          "chaetognaths",
          "chaetognaths",
          "chaetognaths",
          "chaetognaths",
          "chaetognaths",
          "chaetognaths",
          "chaetognaths",
          "chaetognaths",
          "chaetognaths",
          "chaetognaths",
          "chaetognaths",
          "chaetognaths",
          "chaetognaths",
          "chaetognaths",
          "chaetognaths",
          "chaetognaths",
          "chaetognaths",
          "chaetognaths",
          "chaetognaths",
          "chaetognaths",
          "chaetognaths",
          "chaetognaths",
          "chaetognaths",
          "chaetognaths",
          "chaetognaths",
          "chaetognaths",
          "chaetognaths",
          "chaetognaths",
          "chaetognaths",
          "chaetognaths",
          "chaetognaths",
          "chaetognaths",
          "chaetognaths",
          "chaetognaths",
          "chaetognaths",
          "chaetognaths",
          "chaetognaths",
          "chaetognaths",
          "chaetognaths",
          "chaetognaths",
          "chaetognaths",
          "chaetognaths",
          "chaetognaths",
          "chaetognaths",
          "chaetognaths",
          "chaetognaths",
          "chaetognaths",
          "chaetognaths",
          "chaetognaths",
          "chaetognaths",
          "chaetognaths",
          "chaetognaths",
          "chaetognaths",
          "pteropods",
          "pteropods",
          "pteropods",
          "pteropods",
          "pteropods",
          "pteropods",
          "pteropods",
          "pteropods",
          "pteropods",
          "pteropods",
          "pteropods",
          "pteropods",
          "pteropods",
          "pteropods",
          "pteropods",
          "pteropods",
          "pteropods",
          "pteropods",
          "pteropods",
          "pteropods",
          "pteropods",
          "pteropods",
          "pteropods",
          "pteropods",
          "pteropods",
          "pteropods",
          "pteropods",
          "pteropods",
          "pteropods",
          "pteropods",
          "pteropods",
          "pteropods",
          "pteropods",
          "pteropods",
          "pteropods",
          "pteropods",
          "pteropods",
          "pteropods",
          "pteropods",
          "pteropods",
          "pteropods",
          "pteropods",
          "pteropods",
          "pteropods",
          "pteropods",
          "pteropods",
          "pteropods",
          "pteropods",
          "pteropods",
          "pteropods",
          "pteropods",
          "pteropods",
          "pteropods",
          "pteropods",
          "pteropods",
          "pteropods",
          "pteropods",
          "pteropods",
          "pteropods",
          "pteropods",
          "pteropods",
          "pteropods",
          "pteropods",
          "pteropods",
          "pteropods",
          "pteropods",
          "pteropods",
          "pteropods",
          "pteropods",
          "pteropods",
          "pteropods",
          "pteropods",
          "pteropods",
          "pteropods",
          "pteropods",
          "pteropods",
          "pteropods",
          "pteropods",
          "pteropods",
          "pteropods",
          "pteropods",
          "pteropods",
          "pteropods",
          "pteropods",
          "pteropods",
          "pteropods",
          "pteropods",
          "pteropods",
          "pteropods",
          "pteropods",
          "pteropods",
          "pteropods",
          "pteropods",
          "pteropods",
          "pteropods",
          "pteropods",
          "pteropods",
          "pteropods",
          "pteropods",
          "pteropods",
          "pteropods",
          "pteropods",
          "pteropods",
          "pteropods",
          "pteropods",
          "pteropods",
          "pteropods",
          "pteropods",
          "pteropods",
          "pteropods",
          "small_gelatinous",
          "small_gelatinous",
          "small_gelatinous",
          "small_gelatinous",
          "small_gelatinous",
          "small_gelatinous",
          "small_gelatinous",
          "small_gelatinous",
          "small_gelatinous",
          "small_gelatinous",
          "small_gelatinous",
          "small_gelatinous",
          "small_gelatinous",
          "small_gelatinous",
          "small_gelatinous",
          "small_gelatinous",
          "small_gelatinous",
          "small_gelatinous",
          "small_gelatinous",
          "small_gelatinous",
          "small_gelatinous",
          "small_gelatinous",
          "small_gelatinous",
          "small_gelatinous",
          "small_gelatinous",
          "small_gelatinous",
          "small_gelatinous",
          "small_gelatinous",
          "small_gelatinous",
          "small_gelatinous",
          "small_gelatinous",
          "small_gelatinous",
          "small_gelatinous",
          "small_gelatinous",
          "small_gelatinous",
          "small_gelatinous",
          "small_gelatinous",
          "small_gelatinous",
          "small_gelatinous",
          "small_gelatinous",
          "small_gelatinous",
          "small_gelatinous",
          "small_gelatinous",
          "small_gelatinous",
          "small_gelatinous",
          "small_gelatinous",
          "small_gelatinous",
          "small_gelatinous",
          "small_gelatinous",
          "small_gelatinous",
          "small_gelatinous",
          "small_gelatinous",
          "small_gelatinous",
          "small_gelatinous",
          "small_gelatinous",
          "small_gelatinous",
          "small_gelatinous",
          "small_gelatinous",
          "small_gelatinous",
          "small_gelatinous",
          "small_gelatinous",
          "small_gelatinous",
          "small_gelatinous",
          "small_gelatinous",
          "small_gelatinous",
          "small_gelatinous",
          "small_gelatinous",
          "small_gelatinous",
          "small_gelatinous",
          "small_gelatinous",
          "small_gelatinous",
          "small_gelatinous",
          "small_gelatinous",
          "small_gelatinous",
          "small_gelatinous",
          "small_gelatinous",
          "small_gelatinous",
          "small_gelatinous",
          "small_gelatinous",
          "small_gelatinous",
          "small_gelatinous",
          "small_gelatinous",
          "small_gelatinous",
          "small_gelatinous",
          "small_gelatinous",
          "small_gelatinous",
          "small_gelatinous",
          "small_gelatinous",
          "small_gelatinous",
          "small_gelatinous",
          "small_gelatinous",
          "small_gelatinous",
          "small_gelatinous",
          "small_gelatinous",
          "small_gelatinous",
          "small_gelatinous",
          "small_gelatinous",
          "small_gelatinous",
          "small_gelatinous",
          "small_gelatinous",
          "small_gelatinous",
          "small_gelatinous",
          "small_gelatinous",
          "small_gelatinous",
          "small_gelatinous",
          "small_gelatinous",
          "small_gelatinous",
          "small_gelatinous",
          "small_gelatinous",
          "small_gelatinous",
          "foram",
          "foram",
          "foram",
          "foram",
          "foram",
          "foram",
          "foram",
          "foram",
          "foram",
          "foram",
          "foram",
          "foram",
          "foram",
          "foram",
          "foram",
          "foram",
          "foram",
          "foram",
          "foram",
          "foram",
          "foram",
          "foram",
          "foram",
          "foram",
          "foram",
          "foram",
          "foram",
          "foram",
          "foram",
          "foram",
          "foram",
          "foram",
          "foram",
          "foram",
          "foram",
          "foram",
          "foram",
          "foram",
          "foram",
          "foram",
          "foram",
          "foram",
          "foram",
          "foram",
          "foram",
          "foram",
          "foram",
          "foram",
          "foram",
          "foram",
          "foram",
          "foram",
          "foram",
          "foram",
          "foram",
          "foram",
          "foram",
          "foram",
          "foram",
          "foram",
          "foram",
          "foram",
          "foram",
          "foram",
          "foram",
          "foram",
          "foram",
          "foram",
          "foram",
          "foram",
          "foram",
          "foram",
          "foram",
          "foram",
          "foram",
          "foram",
          "foram",
          "foram",
          "foram",
          "foram",
          "foram",
          "foram",
          "foram",
          "foram",
          "foram",
          "foram",
          "foram",
          "foram",
          "foram",
          "foram",
          "foram",
          "foram",
          "foram",
          "foram",
          "foram",
          "foram",
          "foram",
          "foram",
          "foram",
          "foram",
          "foram",
          "foram",
          "foram",
          "foram",
          "foram",
          "foram",
          "foram",
          "foram",
          "foram",
          "foram",
          "other",
          "other",
          "other",
          "other",
          "other",
          "other",
          "other",
          "other",
          "other",
          "other",
          "other",
          "other",
          "other",
          "other",
          "other",
          "other",
          "other",
          "other",
          "other",
          "other",
          "other",
          "other",
          "other",
          "other",
          "other",
          "other",
          "other",
          "other",
          "other",
          "other",
          "other",
          "other",
          "other",
          "other",
          "other",
          "other",
          "other",
          "other",
          "other",
          "other",
          "other",
          "other",
          "other",
          "other",
          "other",
          "other",
          "other",
          "other",
          "other",
          "other",
          "other",
          "other",
          "other",
          "other",
          "other",
          "other",
          "other",
          "other",
          "other",
          "other",
          "other",
          "other",
          "other",
          "other",
          "other",
          "other",
          "other",
          "other",
          "other",
          "other",
          "other",
          "other",
          "other",
          "other",
          "other",
          "other",
          "other",
          "other",
          "other",
          "other",
          "other",
          "other",
          "other",
          "other",
          "other",
          "other",
          "other",
          "other",
          "other",
          "other",
          "other",
          "other",
          "other",
          "other",
          "other",
          "other",
          "other",
          "other",
          "other",
          "other",
          "other",
          "other",
          "other",
          "other",
          "other",
          "other",
          "other",
          "other",
          "other",
          "other",
          "total_non_gelatinous",
          "total_non_gelatinous",
          "total_non_gelatinous",
          "total_non_gelatinous",
          "total_non_gelatinous",
          "total_non_gelatinous",
          "total_non_gelatinous",
          "total_non_gelatinous",
          "total_non_gelatinous",
          "total_non_gelatinous",
          "total_non_gelatinous",
          "total_non_gelatinous",
          "total_non_gelatinous",
          "total_non_gelatinous",
          "total_non_gelatinous",
          "total_non_gelatinous",
          "total_non_gelatinous",
          "total_non_gelatinous",
          "total_non_gelatinous",
          "total_non_gelatinous",
          "total_non_gelatinous",
          "total_non_gelatinous",
          "total_non_gelatinous",
          "total_non_gelatinous",
          "total_non_gelatinous",
          "total_non_gelatinous",
          "total_non_gelatinous",
          "total_non_gelatinous",
          "total_non_gelatinous",
          "total_non_gelatinous",
          "total_non_gelatinous",
          "total_non_gelatinous",
          "total_non_gelatinous",
          "total_non_gelatinous",
          "total_non_gelatinous",
          "total_non_gelatinous",
          "total_non_gelatinous",
          "total_non_gelatinous",
          "total_non_gelatinous",
          "total_non_gelatinous",
          "total_non_gelatinous",
          "total_non_gelatinous",
          "total_non_gelatinous",
          "total_non_gelatinous",
          "total_non_gelatinous",
          "total_non_gelatinous",
          "total_non_gelatinous",
          "total_non_gelatinous",
          "total_non_gelatinous",
          "total_non_gelatinous",
          "total_non_gelatinous",
          "total_non_gelatinous",
          "total_non_gelatinous",
          "total_non_gelatinous",
          "total_non_gelatinous",
          "total_non_gelatinous",
          "total_non_gelatinous",
          "total_non_gelatinous",
          "total_non_gelatinous",
          "total_non_gelatinous",
          "total_non_gelatinous",
          "total_non_gelatinous",
          "total_non_gelatinous",
          "total_non_gelatinous",
          "total_non_gelatinous",
          "total_non_gelatinous",
          "total_non_gelatinous",
          "total_non_gelatinous",
          "total_non_gelatinous",
          "total_non_gelatinous",
          "total_non_gelatinous",
          "total_non_gelatinous",
          "total_non_gelatinous",
          "total_non_gelatinous",
          "total_non_gelatinous",
          "total_non_gelatinous",
          "total_non_gelatinous",
          "total_non_gelatinous",
          "total_non_gelatinous",
          "total_non_gelatinous",
          "total_non_gelatinous",
          "total_non_gelatinous",
          "total_non_gelatinous",
          "total_non_gelatinous",
          "total_non_gelatinous",
          "total_non_gelatinous",
          "total_non_gelatinous",
          "total_non_gelatinous",
          "total_non_gelatinous",
          "total_non_gelatinous",
          "total_non_gelatinous",
          "total_non_gelatinous",
          "total_non_gelatinous",
          "total_non_gelatinous",
          "total_non_gelatinous",
          "total_non_gelatinous",
          "total_non_gelatinous",
          "total_non_gelatinous",
          "total_non_gelatinous",
          "total_non_gelatinous",
          "total_non_gelatinous",
          "total_non_gelatinous",
          "total_non_gelatinous",
          "total_non_gelatinous",
          "total_non_gelatinous",
          "total_non_gelatinous",
          "total_non_gelatinous",
          "total_non_gelatinous",
          "total_non_gelatinous",
          "total_non_gelatinous"
         ],
         "x0": " ",
         "xaxis": "x",
         "y": [
          5.75863,
          5.49039,
          4.810599999999999,
          8.6019,
          10.378440000000003,
          15.056339999999999,
          6.481860000000001,
          8.80166,
          15.117830000000001,
          13.55864,
          25.836830000000003,
          34.12307,
          27.808830000000004,
          23.72565,
          20.18053,
          37.26017,
          3.9298499999999996,
          3.7005799999999995,
          3.7656899999999998,
          2.91108,
          3.97982,
          3.65985,
          5.46612,
          4.87036,
          4.7010499999999995,
          4.79398,
          2.5232799999999997,
          4.08542,
          15.909410000000001,
          4.094780000000001,
          4.155550000000001,
          2.4514299999999998,
          2.92401,
          2.19403,
          4.09966,
          0.48824,
          0.63925,
          4.3272200000000005,
          4.694,
          3.4664999999999995,
          0.30137,
          1.10583,
          3.2513799999999997,
          1.8703400000000001,
          4.0103,
          3.93573,
          28.277639999999995,
          3.26547,
          12.9824,
          1.41572,
          18.9421,
          18.47525,
          16.8041,
          8.022459999999999,
          5.986980000000001,
          12.0634,
          11.468740000000002,
          16.667709999999996,
          26.304309999999994,
          3.0771399999999995,
          18.74115,
          5.479520000000001,
          15.491330000000001,
          14.520340000000001,
          15.733439999999998,
          1.67248,
          42.66532000000001,
          23.657040000000002,
          7.839980000000001,
          28.829690000000006,
          3.93079,
          6.2415600000000016,
          44.03242,
          8.39388,
          2.95451,
          57.285959999999996,
          21.94815,
          6.17317,
          23.047420000000002,
          5.4941699999999996,
          29.91911,
          17.815060000000003,
          5.21883,
          44.12279999999999,
          26.0531,
          29.56812,
          20.48861,
          3.49607,
          15.771109999999998,
          17.9495,
          19.249649999999995,
          28.288200000000003,
          14.191830000000001,
          14.45091,
          41.80123,
          27.245549999999998,
          15.394079999999999,
          25.390349999999994,
          11.73576,
          3.5099600000000004,
          15.31037,
          9.18688,
          8.624239999999999,
          25.5368,
          13.020120000000004,
          4.01363,
          10.27576,
          3.0930999999999997,
          2.68974,
          26.657899999999994,
          0.05149,
          0.32687999999999995,
          0.29891,
          0.10769999999999999,
          0,
          0,
          0,
          0,
          0,
          0,
          0,
          0,
          0.14916,
          0,
          0,
          0.51613,
          0.06879,
          0.01665,
          0.00666,
          0.00225,
          0.00209,
          0.0038,
          0.00633,
          0.25627,
          0.19557,
          0.0646,
          0.00058,
          0,
          0.13758,
          0.07149,
          0.11341,
          0.14513,
          0.1012,
          0.11112,
          0.22298,
          0,
          0.00505,
          0.17663,
          0.13894,
          0.16978,
          0,
          0.02982,
          0.12778,
          0.04066,
          0.19955,
          0.23279,
          0.7249,
          0,
          0.49620000000000003,
          0.08099,
          0,
          0,
          0,
          0.07129,
          0.08267,
          0.41754,
          0.16677,
          0.54799,
          0,
          0,
          0,
          0.0076500000000000005,
          0.00899,
          0.0134,
          0.11907999999999999,
          0.03887,
          0.07487,
          0,
          0.0075,
          0,
          0,
          0.027069999999999997,
          0.17018999999999998,
          0,
          0.00768,
          0.33742,
          0,
          0.02114,
          0.04302,
          0.00573,
          0.09223999999999999,
          0,
          0.03909,
          0.0211,
          0,
          0.062189999999999995,
          0.14211,
          0,
          0.09324,
          0.05001,
          0,
          0.00969,
          0,
          1.17406,
          1.80092,
          0.07248,
          0.10394,
          0.30935,
          0.00301,
          0.00748,
          0.03624,
          0.04709,
          0.06175,
          0.042319999999999997,
          0.00408,
          0.013389999999999999,
          0.01821,
          0,
          0.11673,
          0.15629,
          0,
          0,
          0,
          0.85031,
          0,
          0,
          3.55485,
          0.82518,
          0,
          2.45597,
          0.29335,
          0.14313,
          0,
          0.08532,
          0.3413,
          3.62903,
          1.00318,
          0.23394,
          0.70276,
          0.39061,
          0.47071,
          0.2849,
          0.5698,
          0.56902,
          0,
          0.27422,
          0.39382,
          1.9754099999999999,
          0,
          0,
          0,
          0,
          0,
          0,
          0,
          0,
          0,
          0,
          0,
          0,
          0,
          0,
          0,
          0,
          0,
          0,
          0,
          0,
          0,
          0,
          0,
          2.16756,
          0,
          0,
          0.8590300000000001,
          0.02687,
          0,
          0.05638,
          2.9091,
          0,
          0.37944,
          0.19349,
          1.95472,
          2.0683599999999998,
          0,
          0,
          0.04159,
          0.01218,
          0.01874,
          0.07169,
          0.00312,
          0.02741,
          0.18592,
          0.01528,
          0.00154,
          0.08793,
          0.07436,
          0,
          0.21514000000000003,
          1.4397400000000002,
          0.28591999999999995,
          0.06028,
          0,
          0.0844,
          0.01947,
          0.01803,
          0.12568000000000001,
          0.08032,
          0.17119,
          5.7167200000000005,
          0.05892,
          11.13283,
          0.01084,
          0.0489,
          0.20827,
          0.02718,
          0.02446,
          0.0741,
          6.53983,
          0.06445,
          0.00351,
          0.10629000000000001,
          0.00611,
          23.28542,
          0,
          0.01805,
          0.014759999999999999,
          0,
          0.00451,
          9.00122,
          0.27368,
          0.29913,
          0.33013000000000003,
          9.71564,
          8.83231,
          6.8152099999999995,
          5.54835,
          3.16899,
          6.462940000000001,
          4.906230000000001,
          15.651100000000001,
          14.09771,
          13.534030000000001,
          6.07918,
          4.58308,
          3.4185399999999997,
          0.73796,
          0.9419499999999998,
          0.95784,
          1.68496,
          1.6552199999999997,
          0.96151,
          1.18848,
          0.31015,
          0.9465100000000001,
          1.71846,
          3.5691300000000004,
          0.03105,
          1.49249,
          0.5226599999999999,
          0.6326499999999999,
          0.86574,
          1.30473,
          0.7944599999999999,
          1.4329899999999998,
          0.03475,
          0.03684,
          0.47179,
          0.82085,
          0.34057,
          0.01331,
          0.09756999999999999,
          0.17763999999999996,
          0.09526,
          1.13681,
          0.72139,
          7.9975000000000005,
          1.75275,
          0.77803,
          0.46587,
          1.88784,
          3.41891,
          1.24035,
          2.51154,
          0.38437,
          4.085979999999999,
          7.09817,
          7.77322,
          5.9789,
          6.8813699999999995,
          21.2732,
          0.60497,
          4.465949999999999,
          4.44223,
          5.18215,
          1.86011,
          18.172269999999997,
          5.44602,
          7.89863,
          6.00098,
          4.42984,
          3.83804,
          12.49323,
          5.40744,
          0.82645,
          11.70229,
          9.440589999999998,
          2.22362,
          9.702949999999998,
          2.4298100000000002,
          7.778,
          7.10883,
          1.46373,
          6.00291,
          5.34444,
          7.39659,
          5.078930000000001,
          4.765000000000001,
          9.70913,
          5.31371,
          3.6852899999999997,
          3.85628,
          4.14801,
          3.76924,
          12.052059999999999,
          7.53794,
          6.64363,
          8.448039999999999,
          9.86611,
          0.45826999999999996,
          1.1575300000000002,
          4.27048,
          4.40291,
          4.5526599999999995,
          3.9127,
          2.21695,
          6.65629,
          3.34029,
          2.46445,
          5.028560000000001,
          0.06297,
          0.07854,
          0.08072,
          0.5909599999999999,
          0.37405,
          0.51431,
          1.131,
          0.23181999999999997,
          2.59528,
          0.46454,
          1.0430300000000001,
          0.53817,
          0.94958,
          1.10807,
          1.8134299999999999,
          1.29839,
          0.19236,
          0.01348,
          0.07808,
          0.13897,
          0.13572,
          0.04242,
          0.36087,
          0,
          0.18462,
          0.29616,
          0.09801,
          0.11875000000000001,
          1.21274,
          1.8982999999999999,
          3.3454499999999996,
          0.8796,
          1.11052,
          0.68615,
          2.2025,
          0.09958,
          0.22046000000000002,
          2.44537,
          1.08066,
          1.51942,
          0.29045,
          0.60078,
          2.88868,
          1.39207,
          1.8019600000000002,
          2.45358,
          4.04912,
          1.5906099999999999,
          0.63386,
          0.8976000000000001,
          2.07137,
          3.0868599999999997,
          0.29745,
          0.90969,
          0.31488,
          6.9414,
          2.80986,
          1.71388,
          3.43288,
          3.1239399999999997,
          10.536059999999999,
          5.53298,
          0.84637,
          1.11126,
          1.36941,
          0.10545,
          4.63042,
          0.53303,
          0,
          0.93407,
          0.30697,
          0,
          0.77586,
          0.17669,
          0.16966,
          0,
          4.73122,
          0.17688,
          2.20911,
          2.67718,
          7.71984,
          2.6318599999999996,
          0.10394,
          13.64737,
          0.12169,
          0.45965,
          1.1757300000000002,
          0.21783000000000002,
          0.8483,
          2.02756,
          0.03118,
          0.08074,
          2.13567,
          0.83124,
          0.90046,
          7.068809999999999,
          1.44898,
          2.52273,
          53.28311000000001,
          2.4199599999999997,
          0.8436099999999999,
          0.38968,
          0.64043,
          0.5334099999999999,
          5.35985,
          0.22672,
          0.10518999999999999,
          0.058449999999999995,
          0.16225,
          0.45086,
          0.51674,
          1.27374,
          1.00624,
          0.61364,
          0.52162,
          0.51234,
          0.0159,
          0.25907,
          0.49549,
          0.81771,
          0.65059,
          0.75827,
          1.66177,
          0.46720000000000006,
          1.01024,
          13.352820000000001,
          2.24681,
          2.4722399999999998,
          2.3178,
          1.4276,
          2.64502,
          2.1443399999999997,
          1.57866,
          1.12287,
          2.2432,
          2.6794700000000002,
          2.05543,
          0.23246,
          2.35988,
          2.14222,
          3.56734,
          1.26962,
          2.89399,
          3.83521,
          2.14263,
          0.56216,
          0.53563,
          1.9375300000000002,
          2.2573800000000004,
          1.94096,
          0.06875,
          0.20265,
          0.7767499999999999,
          0.24903999999999998,
          2.9675,
          1.86369,
          7.78606,
          1.0259200000000002,
          12.258299999999998,
          8.804730000000001,
          4.36278,
          9.88701,
          0.80893,
          7.46324,
          1.18973,
          1.26953,
          3.6879299999999997,
          2.99577,
          0.8092299999999999,
          9.270579999999999,
          17.63401,
          1.99637,
          0.40584000000000003,
          0.58847,
          21.66576,
          4.966149999999999,
          24.19757,
          6.74509,
          0.53402,
          1.36576,
          3.479,
          2.6008500000000003,
          1.14904,
          1.84623,
          1.2071699999999999,
          5.4927,
          0.8086800000000001,
          6.0620199999999995,
          2.0053799999999997,
          2.9493199999999997,
          8.47384,
          2.30463,
          0.22888,
          0.40195000000000003,
          1.5686,
          1.98733,
          0.96644,
          0.61266,
          1.55904,
          2.2935100000000004,
          1.54883,
          0.6637000000000001,
          0.11243,
          1.4207200000000002,
          1.8591099999999998,
          3.95969,
          2.09312,
          1.30478,
          3.0639399999999997,
          0.14074,
          0.49943999999999994,
          1.24678,
          0.42568,
          1.0398100000000001,
          0.87393,
          0.55387,
          0.11689,
          0.26676,
          1.88788,
          3.9087600000000005,
          0.00519,
          0,
          0.01187,
          0.04439,
          0.0022900000000000004,
          0.013000000000000001,
          0.00955,
          0.01644,
          0.02812,
          0.00071,
          0.00263,
          0.00025,
          0.03227,
          0.07406,
          0.01942,
          1.0829,
          0.15027,
          0.07305,
          0.02759,
          0.05854,
          0.06323,
          0.03395,
          0.09773000000000001,
          0.0756,
          0.06733,
          0.12979,
          0.08879,
          0.00139,
          0.13513,
          0.01499,
          0.0212,
          0.00308,
          0.029830000000000002,
          0.013449999999999998,
          0.04022,
          0.00303,
          0.00152,
          0.010660000000000001,
          0.01791,
          0.01238,
          0.00271,
          0.008060000000000001,
          0.015870000000000002,
          0.00697,
          0.01089,
          0.01404,
          0.14012,
          0.6018,
          0.018619999999999998,
          0.0045000000000000005,
          0.10386,
          0.47348,
          0.01537,
          0.05357,
          0.031,
          0.14701999999999998,
          0.28259999999999996,
          0.00925,
          0.11885,
          0,
          0.6885600000000001,
          0.0331,
          0.01233,
          0.43179,
          1.19296,
          0.20047,
          0.31654,
          1.53464,
          0.8563000000000001,
          0.41975,
          0.56565,
          0.33421,
          0.72116,
          0.45329,
          0.058499999999999996,
          1.76074,
          0.47665,
          0.0017950000000000002,
          0.04849,
          0.16607999999999998,
          0.0794,
          0.64885,
          0.07458999999999999,
          0.22176,
          0.5454800000000001,
          0.15177000000000002,
          0.02282,
          0.055889999999999995,
          0.33075,
          0.15093,
          0.22118,
          0.0393,
          0.30782,
          0.37813,
          0.27918,
          3.13766,
          0.52334,
          0,
          0.02001,
          0.01871,
          0.11747,
          0.31216,
          0.26652,
          0.01035,
          0.21513000000000002,
          0.00471,
          0.01633,
          0.05324,
          0.29721,
          0.41137999999999997,
          0.00648,
          0.32088,
          0.35199,
          0.00567,
          0.02571,
          0.03811,
          0.13239,
          0.019870000000000002,
          0.00806,
          0.036460000000000006,
          0.04711,
          0.07252,
          0.04121,
          0.03231,
          0.13863999999999999,
          0.20806,
          0.01096,
          0.02238,
          0.018949999999999998,
          0.0305,
          0.02879,
          0.01338,
          0.06875,
          0.007690000000000001,
          0.029,
          0.01572,
          0.02384,
          0.009909999999999999,
          0,
          0.37627,
          0.90936,
          0.01869,
          0.40681,
          0.019950000000000002,
          0.028900000000000002,
          0.01227,
          0.00009,
          0,
          0.02122,
          0.01223,
          0.07731,
          0.00939,
          0.42038,
          0.01839,
          0.041569999999999996,
          0.04129,
          1.03515,
          0.26496000000000003,
          0.22052,
          0.02942,
          0.51038,
          2.6887,
          0.76754,
          0.06509999999999999,
          0,
          0.06046,
          0.02173,
          0.07188,
          0.04409,
          0.40509999999999996,
          0.15544,
          0.10466,
          0.21994999999999998,
          2.4077,
          0.02842,
          0.22810000000000002,
          0.96058,
          0.06092,
          0,
          0.67465,
          0.011680000000000001,
          0.06981,
          0.08581,
          0.7434200000000001,
          0.01056,
          0.23767,
          14.040890000000001,
          0.14976,
          2.35345,
          9.66804,
          0.36431,
          0.48284,
          0.010509999999999999,
          0.10882,
          0.1623,
          0.14533000000000001,
          0.20889,
          0.03284,
          0.19232,
          3.4635599999999998,
          0.04695,
          0.01696,
          0.01535,
          0.27097,
          0.13109,
          0.40098,
          0,
          0.40876999999999997,
          1.4711599999999998,
          0.029519999999999998,
          0.58413,
          0.12876,
          0,
          0.39864,
          0.25647,
          0.03556,
          0.15832999999999997,
          0,
          0.29268,
          0.53678,
          6.106949999999999,
          6.18894,
          5.58531,
          18.95856,
          19.612800000000004,
          22.436970000000002,
          13.303150000000002,
          12.238779999999998,
          24.21223,
          18.966580000000004,
          42.580700000000014,
          48.83172,
          42.365919999999996,
          31.019270000000002,
          26.7351,
          43.268060000000006,
          5.021399999999999,
          4.75144,
          4.84815,
          4.82405,
          5.86278,
          4.71111,
          7.1819500000000005,
          5.2638,
          5.928509999999999,
          6.95411,
          6.303050000000001,
          4.246519999999999,
          18.74977,
          6.907000000000001,
          9.06421,
          4.21854,
          5.7759,
          3.7080400000000004,
          7.804270000000001,
          0.63787,
          0.89816,
          7.255040000000001,
          6.634639999999999,
          5.3511,
          0.6851499999999999,
          1.82163,
          6.753949999999999,
          3.3830299999999998,
          7.00153,
          7.166029999999999,
          41.49953,
          7.47559,
          14.63343,
          2.8131100000000004,
          23.515550000000005,
          28.1432,
          19.12481,
          11.562359999999998,
          6.71723,
          23.298260000000003,
          21.6811,
          26.235939999999996,
          35.87902999999999,
          13.487549999999997,
          51.39441,
          11.755230000000001,
          21.03593,
          22.91332,
          23.506379999999996,
          4.06661,
          66.74513,
          31.231650000000002,
          16.594910000000002,
          36.859140000000004,
          9.24493,
          10.483620000000002,
          58.10848,
          15.174720000000002,
          4.019679999999999,
          70.98665999999999,
          50.6375,
          8.725225,
          37.36142000000001,
          20.43528,
          45.86066,
          28.687440000000002,
          6.871599999999999,
          64.10365999999999,
          32.22701,
          37.72146,
          26.974980000000002,
          8.56763,
          26.851609999999994,
          28.905260000000002,
          23.234249999999992,
          32.281479999999995,
          20.798680000000004,
          19.70049,
          55.164019999999994,
          45.39093999999999,
          24.010029999999997,
          36.76988999999999,
          76.37615000000001,
          6.436419999999999,
          18.013109999999998,
          14.287960000000002,
          13.934099999999999,
          31.031859999999998,
          22.76427,
          6.4975700000000005,
          17.2119,
          6.545079999999999,
          5.90633,
          33.08548
         ],
         "y0": " ",
         "yaxis": "y"
        }
       ],
       "layout": {
        "boxmode": "group",
        "legend": {
         "tracegroupgap": 0
        },
        "template": {
         "data": {
          "bar": [
           {
            "error_x": {
             "color": "#2a3f5f"
            },
            "error_y": {
             "color": "#2a3f5f"
            },
            "marker": {
             "line": {
              "color": "#E5ECF6",
              "width": 0.5
             },
             "pattern": {
              "fillmode": "overlay",
              "size": 10,
              "solidity": 0.2
             }
            },
            "type": "bar"
           }
          ],
          "barpolar": [
           {
            "marker": {
             "line": {
              "color": "#E5ECF6",
              "width": 0.5
             },
             "pattern": {
              "fillmode": "overlay",
              "size": 10,
              "solidity": 0.2
             }
            },
            "type": "barpolar"
           }
          ],
          "carpet": [
           {
            "aaxis": {
             "endlinecolor": "#2a3f5f",
             "gridcolor": "white",
             "linecolor": "white",
             "minorgridcolor": "white",
             "startlinecolor": "#2a3f5f"
            },
            "baxis": {
             "endlinecolor": "#2a3f5f",
             "gridcolor": "white",
             "linecolor": "white",
             "minorgridcolor": "white",
             "startlinecolor": "#2a3f5f"
            },
            "type": "carpet"
           }
          ],
          "choropleth": [
           {
            "colorbar": {
             "outlinewidth": 0,
             "ticks": ""
            },
            "type": "choropleth"
           }
          ],
          "contour": [
           {
            "colorbar": {
             "outlinewidth": 0,
             "ticks": ""
            },
            "colorscale": [
             [
              0,
              "#0d0887"
             ],
             [
              0.1111111111111111,
              "#46039f"
             ],
             [
              0.2222222222222222,
              "#7201a8"
             ],
             [
              0.3333333333333333,
              "#9c179e"
             ],
             [
              0.4444444444444444,
              "#bd3786"
             ],
             [
              0.5555555555555556,
              "#d8576b"
             ],
             [
              0.6666666666666666,
              "#ed7953"
             ],
             [
              0.7777777777777778,
              "#fb9f3a"
             ],
             [
              0.8888888888888888,
              "#fdca26"
             ],
             [
              1,
              "#f0f921"
             ]
            ],
            "type": "contour"
           }
          ],
          "contourcarpet": [
           {
            "colorbar": {
             "outlinewidth": 0,
             "ticks": ""
            },
            "type": "contourcarpet"
           }
          ],
          "heatmap": [
           {
            "colorbar": {
             "outlinewidth": 0,
             "ticks": ""
            },
            "colorscale": [
             [
              0,
              "#0d0887"
             ],
             [
              0.1111111111111111,
              "#46039f"
             ],
             [
              0.2222222222222222,
              "#7201a8"
             ],
             [
              0.3333333333333333,
              "#9c179e"
             ],
             [
              0.4444444444444444,
              "#bd3786"
             ],
             [
              0.5555555555555556,
              "#d8576b"
             ],
             [
              0.6666666666666666,
              "#ed7953"
             ],
             [
              0.7777777777777778,
              "#fb9f3a"
             ],
             [
              0.8888888888888888,
              "#fdca26"
             ],
             [
              1,
              "#f0f921"
             ]
            ],
            "type": "heatmap"
           }
          ],
          "heatmapgl": [
           {
            "colorbar": {
             "outlinewidth": 0,
             "ticks": ""
            },
            "colorscale": [
             [
              0,
              "#0d0887"
             ],
             [
              0.1111111111111111,
              "#46039f"
             ],
             [
              0.2222222222222222,
              "#7201a8"
             ],
             [
              0.3333333333333333,
              "#9c179e"
             ],
             [
              0.4444444444444444,
              "#bd3786"
             ],
             [
              0.5555555555555556,
              "#d8576b"
             ],
             [
              0.6666666666666666,
              "#ed7953"
             ],
             [
              0.7777777777777778,
              "#fb9f3a"
             ],
             [
              0.8888888888888888,
              "#fdca26"
             ],
             [
              1,
              "#f0f921"
             ]
            ],
            "type": "heatmapgl"
           }
          ],
          "histogram": [
           {
            "marker": {
             "pattern": {
              "fillmode": "overlay",
              "size": 10,
              "solidity": 0.2
             }
            },
            "type": "histogram"
           }
          ],
          "histogram2d": [
           {
            "colorbar": {
             "outlinewidth": 0,
             "ticks": ""
            },
            "colorscale": [
             [
              0,
              "#0d0887"
             ],
             [
              0.1111111111111111,
              "#46039f"
             ],
             [
              0.2222222222222222,
              "#7201a8"
             ],
             [
              0.3333333333333333,
              "#9c179e"
             ],
             [
              0.4444444444444444,
              "#bd3786"
             ],
             [
              0.5555555555555556,
              "#d8576b"
             ],
             [
              0.6666666666666666,
              "#ed7953"
             ],
             [
              0.7777777777777778,
              "#fb9f3a"
             ],
             [
              0.8888888888888888,
              "#fdca26"
             ],
             [
              1,
              "#f0f921"
             ]
            ],
            "type": "histogram2d"
           }
          ],
          "histogram2dcontour": [
           {
            "colorbar": {
             "outlinewidth": 0,
             "ticks": ""
            },
            "colorscale": [
             [
              0,
              "#0d0887"
             ],
             [
              0.1111111111111111,
              "#46039f"
             ],
             [
              0.2222222222222222,
              "#7201a8"
             ],
             [
              0.3333333333333333,
              "#9c179e"
             ],
             [
              0.4444444444444444,
              "#bd3786"
             ],
             [
              0.5555555555555556,
              "#d8576b"
             ],
             [
              0.6666666666666666,
              "#ed7953"
             ],
             [
              0.7777777777777778,
              "#fb9f3a"
             ],
             [
              0.8888888888888888,
              "#fdca26"
             ],
             [
              1,
              "#f0f921"
             ]
            ],
            "type": "histogram2dcontour"
           }
          ],
          "mesh3d": [
           {
            "colorbar": {
             "outlinewidth": 0,
             "ticks": ""
            },
            "type": "mesh3d"
           }
          ],
          "parcoords": [
           {
            "line": {
             "colorbar": {
              "outlinewidth": 0,
              "ticks": ""
             }
            },
            "type": "parcoords"
           }
          ],
          "pie": [
           {
            "automargin": true,
            "type": "pie"
           }
          ],
          "scatter": [
           {
            "fillpattern": {
             "fillmode": "overlay",
             "size": 10,
             "solidity": 0.2
            },
            "type": "scatter"
           }
          ],
          "scatter3d": [
           {
            "line": {
             "colorbar": {
              "outlinewidth": 0,
              "ticks": ""
             }
            },
            "marker": {
             "colorbar": {
              "outlinewidth": 0,
              "ticks": ""
             }
            },
            "type": "scatter3d"
           }
          ],
          "scattercarpet": [
           {
            "marker": {
             "colorbar": {
              "outlinewidth": 0,
              "ticks": ""
             }
            },
            "type": "scattercarpet"
           }
          ],
          "scattergeo": [
           {
            "marker": {
             "colorbar": {
              "outlinewidth": 0,
              "ticks": ""
             }
            },
            "type": "scattergeo"
           }
          ],
          "scattergl": [
           {
            "marker": {
             "colorbar": {
              "outlinewidth": 0,
              "ticks": ""
             }
            },
            "type": "scattergl"
           }
          ],
          "scattermapbox": [
           {
            "marker": {
             "colorbar": {
              "outlinewidth": 0,
              "ticks": ""
             }
            },
            "type": "scattermapbox"
           }
          ],
          "scatterpolar": [
           {
            "marker": {
             "colorbar": {
              "outlinewidth": 0,
              "ticks": ""
             }
            },
            "type": "scatterpolar"
           }
          ],
          "scatterpolargl": [
           {
            "marker": {
             "colorbar": {
              "outlinewidth": 0,
              "ticks": ""
             }
            },
            "type": "scatterpolargl"
           }
          ],
          "scatterternary": [
           {
            "marker": {
             "colorbar": {
              "outlinewidth": 0,
              "ticks": ""
             }
            },
            "type": "scatterternary"
           }
          ],
          "surface": [
           {
            "colorbar": {
             "outlinewidth": 0,
             "ticks": ""
            },
            "colorscale": [
             [
              0,
              "#0d0887"
             ],
             [
              0.1111111111111111,
              "#46039f"
             ],
             [
              0.2222222222222222,
              "#7201a8"
             ],
             [
              0.3333333333333333,
              "#9c179e"
             ],
             [
              0.4444444444444444,
              "#bd3786"
             ],
             [
              0.5555555555555556,
              "#d8576b"
             ],
             [
              0.6666666666666666,
              "#ed7953"
             ],
             [
              0.7777777777777778,
              "#fb9f3a"
             ],
             [
              0.8888888888888888,
              "#fdca26"
             ],
             [
              1,
              "#f0f921"
             ]
            ],
            "type": "surface"
           }
          ],
          "table": [
           {
            "cells": {
             "fill": {
              "color": "#EBF0F8"
             },
             "line": {
              "color": "white"
             }
            },
            "header": {
             "fill": {
              "color": "#C8D4E3"
             },
             "line": {
              "color": "white"
             }
            },
            "type": "table"
           }
          ]
         },
         "layout": {
          "annotationdefaults": {
           "arrowcolor": "#2a3f5f",
           "arrowhead": 0,
           "arrowwidth": 1
          },
          "autotypenumbers": "strict",
          "coloraxis": {
           "colorbar": {
            "outlinewidth": 0,
            "ticks": ""
           }
          },
          "colorscale": {
           "diverging": [
            [
             0,
             "#8e0152"
            ],
            [
             0.1,
             "#c51b7d"
            ],
            [
             0.2,
             "#de77ae"
            ],
            [
             0.3,
             "#f1b6da"
            ],
            [
             0.4,
             "#fde0ef"
            ],
            [
             0.5,
             "#f7f7f7"
            ],
            [
             0.6,
             "#e6f5d0"
            ],
            [
             0.7,
             "#b8e186"
            ],
            [
             0.8,
             "#7fbc41"
            ],
            [
             0.9,
             "#4d9221"
            ],
            [
             1,
             "#276419"
            ]
           ],
           "sequential": [
            [
             0,
             "#0d0887"
            ],
            [
             0.1111111111111111,
             "#46039f"
            ],
            [
             0.2222222222222222,
             "#7201a8"
            ],
            [
             0.3333333333333333,
             "#9c179e"
            ],
            [
             0.4444444444444444,
             "#bd3786"
            ],
            [
             0.5555555555555556,
             "#d8576b"
            ],
            [
             0.6666666666666666,
             "#ed7953"
            ],
            [
             0.7777777777777778,
             "#fb9f3a"
            ],
            [
             0.8888888888888888,
             "#fdca26"
            ],
            [
             1,
             "#f0f921"
            ]
           ],
           "sequentialminus": [
            [
             0,
             "#0d0887"
            ],
            [
             0.1111111111111111,
             "#46039f"
            ],
            [
             0.2222222222222222,
             "#7201a8"
            ],
            [
             0.3333333333333333,
             "#9c179e"
            ],
            [
             0.4444444444444444,
             "#bd3786"
            ],
            [
             0.5555555555555556,
             "#d8576b"
            ],
            [
             0.6666666666666666,
             "#ed7953"
            ],
            [
             0.7777777777777778,
             "#fb9f3a"
            ],
            [
             0.8888888888888888,
             "#fdca26"
            ],
            [
             1,
             "#f0f921"
            ]
           ]
          },
          "colorway": [
           "#636efa",
           "#EF553B",
           "#00cc96",
           "#ab63fa",
           "#FFA15A",
           "#19d3f3",
           "#FF6692",
           "#B6E880",
           "#FF97FF",
           "#FECB52"
          ],
          "font": {
           "color": "#2a3f5f"
          },
          "geo": {
           "bgcolor": "white",
           "lakecolor": "white",
           "landcolor": "#E5ECF6",
           "showlakes": true,
           "showland": true,
           "subunitcolor": "white"
          },
          "hoverlabel": {
           "align": "left"
          },
          "hovermode": "closest",
          "mapbox": {
           "style": "light"
          },
          "paper_bgcolor": "white",
          "plot_bgcolor": "#E5ECF6",
          "polar": {
           "angularaxis": {
            "gridcolor": "white",
            "linecolor": "white",
            "ticks": ""
           },
           "bgcolor": "#E5ECF6",
           "radialaxis": {
            "gridcolor": "white",
            "linecolor": "white",
            "ticks": ""
           }
          },
          "scene": {
           "xaxis": {
            "backgroundcolor": "#E5ECF6",
            "gridcolor": "white",
            "gridwidth": 2,
            "linecolor": "white",
            "showbackground": true,
            "ticks": "",
            "zerolinecolor": "white"
           },
           "yaxis": {
            "backgroundcolor": "#E5ECF6",
            "gridcolor": "white",
            "gridwidth": 2,
            "linecolor": "white",
            "showbackground": true,
            "ticks": "",
            "zerolinecolor": "white"
           },
           "zaxis": {
            "backgroundcolor": "#E5ECF6",
            "gridcolor": "white",
            "gridwidth": 2,
            "linecolor": "white",
            "showbackground": true,
            "ticks": "",
            "zerolinecolor": "white"
           }
          },
          "shapedefaults": {
           "line": {
            "color": "#2a3f5f"
           }
          },
          "ternary": {
           "aaxis": {
            "gridcolor": "white",
            "linecolor": "white",
            "ticks": ""
           },
           "baxis": {
            "gridcolor": "white",
            "linecolor": "white",
            "ticks": ""
           },
           "bgcolor": "#E5ECF6",
           "caxis": {
            "gridcolor": "white",
            "linecolor": "white",
            "ticks": ""
           }
          },
          "title": {
           "x": 0.05
          },
          "xaxis": {
           "automargin": true,
           "gridcolor": "white",
           "linecolor": "white",
           "ticks": "",
           "title": {
            "standoff": 15
           },
           "zerolinecolor": "white",
           "zerolinewidth": 2
          },
          "yaxis": {
           "automargin": true,
           "gridcolor": "white",
           "linecolor": "white",
           "ticks": "",
           "title": {
            "standoff": 15
           },
           "zerolinecolor": "white",
           "zerolinewidth": 2
          }
         }
        },
        "title": {
         "text": "Data distribution"
        },
        "xaxis": {
         "anchor": "y",
         "domain": [
          0,
          1
         ],
         "title": {
          "text": "variable"
         }
        },
        "yaxis": {
         "anchor": "x",
         "domain": [
          0,
          1
         ],
         "title": {
          "text": "value"
         }
        }
       }
      }
     },
     "metadata": {},
     "output_type": "display_data"
    }
   ],
   "source": [
    "data.iloc[:, 3:].plot.box(title=\"Data distribution\")"
   ]
  },
  {
   "cell_type": "markdown",
   "metadata": {},
   "source": [
    "We see a lot of 0 values. Does this mean that the individuals are not in the region? Difficult to say, and even more difficult on a larger scale.\n"
   ]
  },
  {
   "cell_type": "code",
   "execution_count": 11,
   "metadata": {},
   "outputs": [],
   "source": [
    "data = data.rename(columns={\"date\": \"time\"})"
   ]
  },
  {
   "cell_type": "code",
   "execution_count": 12,
   "metadata": {},
   "outputs": [],
   "source": [
    "papa_latitude = 50\n",
    "papa_longitude = -150\n",
    "\n",
    "data[\"latitude\"] = papa_latitude\n",
    "data[\"longitude\"] = papa_longitude"
   ]
  },
  {
   "cell_type": "code",
   "execution_count": 13,
   "metadata": {},
   "outputs": [
    {
     "data": {
      "text/html": [
       "<div>\n",
       "<style scoped>\n",
       "    .dataframe tbody tr th:only-of-type {\n",
       "        vertical-align: middle;\n",
       "    }\n",
       "\n",
       "    .dataframe tbody tr th {\n",
       "        vertical-align: top;\n",
       "    }\n",
       "\n",
       "    .dataframe thead th {\n",
       "        text-align: right;\n",
       "    }\n",
       "</style>\n",
       "<table border=\"1\" class=\"dataframe\">\n",
       "  <thead>\n",
       "    <tr style=\"text-align: right;\">\n",
       "      <th></th>\n",
       "      <th>time</th>\n",
       "      <th>is_day</th>\n",
       "      <th>depth</th>\n",
       "      <th>crustaceans</th>\n",
       "      <th>larvae</th>\n",
       "      <th>thaliaceans</th>\n",
       "      <th>chaetognaths</th>\n",
       "      <th>pteropods</th>\n",
       "      <th>small_gelatinous</th>\n",
       "      <th>foram</th>\n",
       "      <th>other</th>\n",
       "      <th>total_non_gelatinous</th>\n",
       "      <th>latitude</th>\n",
       "      <th>longitude</th>\n",
       "    </tr>\n",
       "  </thead>\n",
       "  <tbody>\n",
       "    <tr>\n",
       "      <th>0</th>\n",
       "      <td>1997-02-21</td>\n",
       "      <td>False</td>\n",
       "      <td>123</td>\n",
       "      <td>5.75863</td>\n",
       "      <td>0.05149</td>\n",
       "      <td>0.0</td>\n",
       "      <td>0.27368</td>\n",
       "      <td>0.06297</td>\n",
       "      <td>0.51674</td>\n",
       "      <td>0.00519</td>\n",
       "      <td>0.00648</td>\n",
       "      <td>6.10695</td>\n",
       "      <td>50</td>\n",
       "      <td>-150</td>\n",
       "    </tr>\n",
       "    <tr>\n",
       "      <th>1</th>\n",
       "      <td>1997-02-21</td>\n",
       "      <td>False</td>\n",
       "      <td>136</td>\n",
       "      <td>5.49039</td>\n",
       "      <td>0.32688</td>\n",
       "      <td>0.0</td>\n",
       "      <td>0.29913</td>\n",
       "      <td>0.07854</td>\n",
       "      <td>1.27374</td>\n",
       "      <td>0.00000</td>\n",
       "      <td>0.32088</td>\n",
       "      <td>6.18894</td>\n",
       "      <td>50</td>\n",
       "      <td>-150</td>\n",
       "    </tr>\n",
       "  </tbody>\n",
       "</table>\n",
       "</div>"
      ],
      "text/plain": [
       "        time  is_day  depth  crustaceans   larvae  thaliaceans  chaetognaths  \\\n",
       "0 1997-02-21   False    123      5.75863  0.05149          0.0       0.27368   \n",
       "1 1997-02-21   False    136      5.49039  0.32688          0.0       0.29913   \n",
       "\n",
       "   pteropods  small_gelatinous    foram    other  total_non_gelatinous  \\\n",
       "0    0.06297           0.51674  0.00519  0.00648               6.10695   \n",
       "1    0.07854           1.27374  0.00000  0.32088               6.18894   \n",
       "\n",
       "   latitude  longitude  \n",
       "0        50       -150  \n",
       "1        50       -150  "
      ]
     },
     "execution_count": 13,
     "metadata": {},
     "output_type": "execute_result"
    }
   ],
   "source": [
    "# transforme data[\"N/Day\"] en colonne bool\n",
    "data[\"N/Day\"] = data[\"N/Day\"] == \"D\"\n",
    "data = data.rename(columns={\"N/Day\": \"is_day\"})\n",
    "data.head(2)"
   ]
  },
  {
   "cell_type": "code",
   "execution_count": 14,
   "metadata": {},
   "outputs": [
    {
     "data": {
      "application/vnd.plotly.v1+json": {
       "config": {
        "plotlyServerURL": "https://plot.ly"
       },
       "data": [
        {
         "alignmentgroup": "True",
         "bingroup": "x",
         "hovertemplate": "variable=depth<br>value=%{x}<br>count=%{y}<extra></extra>",
         "legendgroup": "depth",
         "marker": {
          "color": "#636efa",
          "pattern": {
           "shape": ""
          }
         },
         "name": "depth",
         "offsetgroup": "depth",
         "orientation": "v",
         "showlegend": true,
         "type": "histogram",
         "x": [
          123,
          136,
          130,
          148,
          145,
          145,
          141,
          141,
          141,
          147,
          141,
          145,
          145,
          141,
          141,
          148,
          148,
          181,
          159,
          179,
          164,
          149,
          149,
          145,
          145,
          136,
          150,
          244,
          150,
          150,
          150,
          150,
          150,
          150,
          150,
          150,
          150,
          150,
          150,
          150,
          150,
          150,
          152,
          152,
          150,
          153,
          149,
          150,
          150,
          150,
          150,
          150,
          150,
          150,
          150,
          250,
          148,
          249,
          150,
          150,
          150,
          150,
          246,
          250,
          145,
          150,
          251,
          250,
          251,
          250,
          241,
          249,
          250,
          235,
          250,
          250,
          250,
          250,
          250,
          250,
          250,
          250,
          250,
          249,
          250,
          250,
          250,
          249,
          250,
          250,
          249,
          250,
          256,
          249,
          250,
          249,
          250,
          250,
          245,
          250,
          250,
          250,
          250,
          250,
          246,
          249,
          244,
          241,
          250,
          250
         ],
         "xaxis": "x",
         "yaxis": "y"
        }
       ],
       "layout": {
        "barmode": "relative",
        "legend": {
         "title": {
          "text": "variable"
         },
         "tracegroupgap": 0
        },
        "margin": {
         "t": 60
        },
        "template": {
         "data": {
          "bar": [
           {
            "error_x": {
             "color": "#2a3f5f"
            },
            "error_y": {
             "color": "#2a3f5f"
            },
            "marker": {
             "line": {
              "color": "#E5ECF6",
              "width": 0.5
             },
             "pattern": {
              "fillmode": "overlay",
              "size": 10,
              "solidity": 0.2
             }
            },
            "type": "bar"
           }
          ],
          "barpolar": [
           {
            "marker": {
             "line": {
              "color": "#E5ECF6",
              "width": 0.5
             },
             "pattern": {
              "fillmode": "overlay",
              "size": 10,
              "solidity": 0.2
             }
            },
            "type": "barpolar"
           }
          ],
          "carpet": [
           {
            "aaxis": {
             "endlinecolor": "#2a3f5f",
             "gridcolor": "white",
             "linecolor": "white",
             "minorgridcolor": "white",
             "startlinecolor": "#2a3f5f"
            },
            "baxis": {
             "endlinecolor": "#2a3f5f",
             "gridcolor": "white",
             "linecolor": "white",
             "minorgridcolor": "white",
             "startlinecolor": "#2a3f5f"
            },
            "type": "carpet"
           }
          ],
          "choropleth": [
           {
            "colorbar": {
             "outlinewidth": 0,
             "ticks": ""
            },
            "type": "choropleth"
           }
          ],
          "contour": [
           {
            "colorbar": {
             "outlinewidth": 0,
             "ticks": ""
            },
            "colorscale": [
             [
              0,
              "#0d0887"
             ],
             [
              0.1111111111111111,
              "#46039f"
             ],
             [
              0.2222222222222222,
              "#7201a8"
             ],
             [
              0.3333333333333333,
              "#9c179e"
             ],
             [
              0.4444444444444444,
              "#bd3786"
             ],
             [
              0.5555555555555556,
              "#d8576b"
             ],
             [
              0.6666666666666666,
              "#ed7953"
             ],
             [
              0.7777777777777778,
              "#fb9f3a"
             ],
             [
              0.8888888888888888,
              "#fdca26"
             ],
             [
              1,
              "#f0f921"
             ]
            ],
            "type": "contour"
           }
          ],
          "contourcarpet": [
           {
            "colorbar": {
             "outlinewidth": 0,
             "ticks": ""
            },
            "type": "contourcarpet"
           }
          ],
          "heatmap": [
           {
            "colorbar": {
             "outlinewidth": 0,
             "ticks": ""
            },
            "colorscale": [
             [
              0,
              "#0d0887"
             ],
             [
              0.1111111111111111,
              "#46039f"
             ],
             [
              0.2222222222222222,
              "#7201a8"
             ],
             [
              0.3333333333333333,
              "#9c179e"
             ],
             [
              0.4444444444444444,
              "#bd3786"
             ],
             [
              0.5555555555555556,
              "#d8576b"
             ],
             [
              0.6666666666666666,
              "#ed7953"
             ],
             [
              0.7777777777777778,
              "#fb9f3a"
             ],
             [
              0.8888888888888888,
              "#fdca26"
             ],
             [
              1,
              "#f0f921"
             ]
            ],
            "type": "heatmap"
           }
          ],
          "heatmapgl": [
           {
            "colorbar": {
             "outlinewidth": 0,
             "ticks": ""
            },
            "colorscale": [
             [
              0,
              "#0d0887"
             ],
             [
              0.1111111111111111,
              "#46039f"
             ],
             [
              0.2222222222222222,
              "#7201a8"
             ],
             [
              0.3333333333333333,
              "#9c179e"
             ],
             [
              0.4444444444444444,
              "#bd3786"
             ],
             [
              0.5555555555555556,
              "#d8576b"
             ],
             [
              0.6666666666666666,
              "#ed7953"
             ],
             [
              0.7777777777777778,
              "#fb9f3a"
             ],
             [
              0.8888888888888888,
              "#fdca26"
             ],
             [
              1,
              "#f0f921"
             ]
            ],
            "type": "heatmapgl"
           }
          ],
          "histogram": [
           {
            "marker": {
             "pattern": {
              "fillmode": "overlay",
              "size": 10,
              "solidity": 0.2
             }
            },
            "type": "histogram"
           }
          ],
          "histogram2d": [
           {
            "colorbar": {
             "outlinewidth": 0,
             "ticks": ""
            },
            "colorscale": [
             [
              0,
              "#0d0887"
             ],
             [
              0.1111111111111111,
              "#46039f"
             ],
             [
              0.2222222222222222,
              "#7201a8"
             ],
             [
              0.3333333333333333,
              "#9c179e"
             ],
             [
              0.4444444444444444,
              "#bd3786"
             ],
             [
              0.5555555555555556,
              "#d8576b"
             ],
             [
              0.6666666666666666,
              "#ed7953"
             ],
             [
              0.7777777777777778,
              "#fb9f3a"
             ],
             [
              0.8888888888888888,
              "#fdca26"
             ],
             [
              1,
              "#f0f921"
             ]
            ],
            "type": "histogram2d"
           }
          ],
          "histogram2dcontour": [
           {
            "colorbar": {
             "outlinewidth": 0,
             "ticks": ""
            },
            "colorscale": [
             [
              0,
              "#0d0887"
             ],
             [
              0.1111111111111111,
              "#46039f"
             ],
             [
              0.2222222222222222,
              "#7201a8"
             ],
             [
              0.3333333333333333,
              "#9c179e"
             ],
             [
              0.4444444444444444,
              "#bd3786"
             ],
             [
              0.5555555555555556,
              "#d8576b"
             ],
             [
              0.6666666666666666,
              "#ed7953"
             ],
             [
              0.7777777777777778,
              "#fb9f3a"
             ],
             [
              0.8888888888888888,
              "#fdca26"
             ],
             [
              1,
              "#f0f921"
             ]
            ],
            "type": "histogram2dcontour"
           }
          ],
          "mesh3d": [
           {
            "colorbar": {
             "outlinewidth": 0,
             "ticks": ""
            },
            "type": "mesh3d"
           }
          ],
          "parcoords": [
           {
            "line": {
             "colorbar": {
              "outlinewidth": 0,
              "ticks": ""
             }
            },
            "type": "parcoords"
           }
          ],
          "pie": [
           {
            "automargin": true,
            "type": "pie"
           }
          ],
          "scatter": [
           {
            "fillpattern": {
             "fillmode": "overlay",
             "size": 10,
             "solidity": 0.2
            },
            "type": "scatter"
           }
          ],
          "scatter3d": [
           {
            "line": {
             "colorbar": {
              "outlinewidth": 0,
              "ticks": ""
             }
            },
            "marker": {
             "colorbar": {
              "outlinewidth": 0,
              "ticks": ""
             }
            },
            "type": "scatter3d"
           }
          ],
          "scattercarpet": [
           {
            "marker": {
             "colorbar": {
              "outlinewidth": 0,
              "ticks": ""
             }
            },
            "type": "scattercarpet"
           }
          ],
          "scattergeo": [
           {
            "marker": {
             "colorbar": {
              "outlinewidth": 0,
              "ticks": ""
             }
            },
            "type": "scattergeo"
           }
          ],
          "scattergl": [
           {
            "marker": {
             "colorbar": {
              "outlinewidth": 0,
              "ticks": ""
             }
            },
            "type": "scattergl"
           }
          ],
          "scattermapbox": [
           {
            "marker": {
             "colorbar": {
              "outlinewidth": 0,
              "ticks": ""
             }
            },
            "type": "scattermapbox"
           }
          ],
          "scatterpolar": [
           {
            "marker": {
             "colorbar": {
              "outlinewidth": 0,
              "ticks": ""
             }
            },
            "type": "scatterpolar"
           }
          ],
          "scatterpolargl": [
           {
            "marker": {
             "colorbar": {
              "outlinewidth": 0,
              "ticks": ""
             }
            },
            "type": "scatterpolargl"
           }
          ],
          "scatterternary": [
           {
            "marker": {
             "colorbar": {
              "outlinewidth": 0,
              "ticks": ""
             }
            },
            "type": "scatterternary"
           }
          ],
          "surface": [
           {
            "colorbar": {
             "outlinewidth": 0,
             "ticks": ""
            },
            "colorscale": [
             [
              0,
              "#0d0887"
             ],
             [
              0.1111111111111111,
              "#46039f"
             ],
             [
              0.2222222222222222,
              "#7201a8"
             ],
             [
              0.3333333333333333,
              "#9c179e"
             ],
             [
              0.4444444444444444,
              "#bd3786"
             ],
             [
              0.5555555555555556,
              "#d8576b"
             ],
             [
              0.6666666666666666,
              "#ed7953"
             ],
             [
              0.7777777777777778,
              "#fb9f3a"
             ],
             [
              0.8888888888888888,
              "#fdca26"
             ],
             [
              1,
              "#f0f921"
             ]
            ],
            "type": "surface"
           }
          ],
          "table": [
           {
            "cells": {
             "fill": {
              "color": "#EBF0F8"
             },
             "line": {
              "color": "white"
             }
            },
            "header": {
             "fill": {
              "color": "#C8D4E3"
             },
             "line": {
              "color": "white"
             }
            },
            "type": "table"
           }
          ]
         },
         "layout": {
          "annotationdefaults": {
           "arrowcolor": "#2a3f5f",
           "arrowhead": 0,
           "arrowwidth": 1
          },
          "autotypenumbers": "strict",
          "coloraxis": {
           "colorbar": {
            "outlinewidth": 0,
            "ticks": ""
           }
          },
          "colorscale": {
           "diverging": [
            [
             0,
             "#8e0152"
            ],
            [
             0.1,
             "#c51b7d"
            ],
            [
             0.2,
             "#de77ae"
            ],
            [
             0.3,
             "#f1b6da"
            ],
            [
             0.4,
             "#fde0ef"
            ],
            [
             0.5,
             "#f7f7f7"
            ],
            [
             0.6,
             "#e6f5d0"
            ],
            [
             0.7,
             "#b8e186"
            ],
            [
             0.8,
             "#7fbc41"
            ],
            [
             0.9,
             "#4d9221"
            ],
            [
             1,
             "#276419"
            ]
           ],
           "sequential": [
            [
             0,
             "#0d0887"
            ],
            [
             0.1111111111111111,
             "#46039f"
            ],
            [
             0.2222222222222222,
             "#7201a8"
            ],
            [
             0.3333333333333333,
             "#9c179e"
            ],
            [
             0.4444444444444444,
             "#bd3786"
            ],
            [
             0.5555555555555556,
             "#d8576b"
            ],
            [
             0.6666666666666666,
             "#ed7953"
            ],
            [
             0.7777777777777778,
             "#fb9f3a"
            ],
            [
             0.8888888888888888,
             "#fdca26"
            ],
            [
             1,
             "#f0f921"
            ]
           ],
           "sequentialminus": [
            [
             0,
             "#0d0887"
            ],
            [
             0.1111111111111111,
             "#46039f"
            ],
            [
             0.2222222222222222,
             "#7201a8"
            ],
            [
             0.3333333333333333,
             "#9c179e"
            ],
            [
             0.4444444444444444,
             "#bd3786"
            ],
            [
             0.5555555555555556,
             "#d8576b"
            ],
            [
             0.6666666666666666,
             "#ed7953"
            ],
            [
             0.7777777777777778,
             "#fb9f3a"
            ],
            [
             0.8888888888888888,
             "#fdca26"
            ],
            [
             1,
             "#f0f921"
            ]
           ]
          },
          "colorway": [
           "#636efa",
           "#EF553B",
           "#00cc96",
           "#ab63fa",
           "#FFA15A",
           "#19d3f3",
           "#FF6692",
           "#B6E880",
           "#FF97FF",
           "#FECB52"
          ],
          "font": {
           "color": "#2a3f5f"
          },
          "geo": {
           "bgcolor": "white",
           "lakecolor": "white",
           "landcolor": "#E5ECF6",
           "showlakes": true,
           "showland": true,
           "subunitcolor": "white"
          },
          "hoverlabel": {
           "align": "left"
          },
          "hovermode": "closest",
          "mapbox": {
           "style": "light"
          },
          "paper_bgcolor": "white",
          "plot_bgcolor": "#E5ECF6",
          "polar": {
           "angularaxis": {
            "gridcolor": "white",
            "linecolor": "white",
            "ticks": ""
           },
           "bgcolor": "#E5ECF6",
           "radialaxis": {
            "gridcolor": "white",
            "linecolor": "white",
            "ticks": ""
           }
          },
          "scene": {
           "xaxis": {
            "backgroundcolor": "#E5ECF6",
            "gridcolor": "white",
            "gridwidth": 2,
            "linecolor": "white",
            "showbackground": true,
            "ticks": "",
            "zerolinecolor": "white"
           },
           "yaxis": {
            "backgroundcolor": "#E5ECF6",
            "gridcolor": "white",
            "gridwidth": 2,
            "linecolor": "white",
            "showbackground": true,
            "ticks": "",
            "zerolinecolor": "white"
           },
           "zaxis": {
            "backgroundcolor": "#E5ECF6",
            "gridcolor": "white",
            "gridwidth": 2,
            "linecolor": "white",
            "showbackground": true,
            "ticks": "",
            "zerolinecolor": "white"
           }
          },
          "shapedefaults": {
           "line": {
            "color": "#2a3f5f"
           }
          },
          "ternary": {
           "aaxis": {
            "gridcolor": "white",
            "linecolor": "white",
            "ticks": ""
           },
           "baxis": {
            "gridcolor": "white",
            "linecolor": "white",
            "ticks": ""
           },
           "bgcolor": "#E5ECF6",
           "caxis": {
            "gridcolor": "white",
            "linecolor": "white",
            "ticks": ""
           }
          },
          "title": {
           "x": 0.05
          },
          "xaxis": {
           "automargin": true,
           "gridcolor": "white",
           "linecolor": "white",
           "ticks": "",
           "title": {
            "standoff": 15
           },
           "zerolinecolor": "white",
           "zerolinewidth": 2
          },
          "yaxis": {
           "automargin": true,
           "gridcolor": "white",
           "linecolor": "white",
           "ticks": "",
           "title": {
            "standoff": 15
           },
           "zerolinecolor": "white",
           "zerolinewidth": 2
          }
         }
        },
        "xaxis": {
         "anchor": "y",
         "domain": [
          0,
          1
         ],
         "title": {
          "text": "value"
         }
        },
        "yaxis": {
         "anchor": "x",
         "domain": [
          0,
          1
         ],
         "title": {
          "text": "count"
         }
        }
       }
      }
     },
     "metadata": {},
     "output_type": "display_data"
    }
   ],
   "source": [
    "data[\"depth\"].plot.hist()"
   ]
  },
  {
   "cell_type": "code",
   "execution_count": 15,
   "metadata": {},
   "outputs": [],
   "source": [
    "# group depth by 50m bins\n",
    "data[\"depth\"] = pd.cut(\n",
    "    data[\"depth\"],\n",
    "    bins=[0, 50, 100, 150, 200, 250, 300, 350, 400],\n",
    "    labels=[50, 100, 150, 200, 250, 300, 350, 400],\n",
    "    right=False,\n",
    ")"
   ]
  },
  {
   "cell_type": "code",
   "execution_count": 16,
   "metadata": {},
   "outputs": [
    {
     "data": {
      "application/vnd.plotly.v1+json": {
       "config": {
        "plotlyServerURL": "https://plot.ly"
       },
       "data": [
        {
         "alignmentgroup": "True",
         "bingroup": "x",
         "hovertemplate": "variable=depth<br>Depth (m)=%{x}<br>count=%{y}<extra></extra>",
         "legendgroup": "depth",
         "marker": {
          "color": "#636efa",
          "pattern": {
           "shape": ""
          }
         },
         "name": "depth",
         "offsetgroup": "depth",
         "orientation": "v",
         "showlegend": true,
         "type": "histogram",
         "x": [
          150,
          150,
          150,
          150,
          150,
          150,
          150,
          150,
          150,
          150,
          150,
          150,
          150,
          150,
          150,
          150,
          150,
          200,
          200,
          200,
          200,
          150,
          150,
          150,
          150,
          150,
          200,
          250,
          200,
          200,
          200,
          200,
          200,
          200,
          200,
          200,
          200,
          200,
          200,
          200,
          200,
          200,
          200,
          200,
          200,
          200,
          150,
          200,
          200,
          200,
          200,
          200,
          200,
          200,
          200,
          300,
          150,
          250,
          200,
          200,
          200,
          200,
          250,
          300,
          150,
          200,
          300,
          300,
          300,
          300,
          250,
          250,
          300,
          250,
          300,
          300,
          300,
          300,
          300,
          300,
          300,
          300,
          300,
          250,
          300,
          300,
          300,
          250,
          300,
          300,
          250,
          300,
          300,
          250,
          300,
          250,
          300,
          300,
          250,
          300,
          300,
          300,
          300,
          300,
          250,
          250,
          250,
          250,
          300,
          300
         ],
         "xaxis": "x",
         "yaxis": "y"
        }
       ],
       "layout": {
        "barmode": "relative",
        "legend": {
         "title": {
          "text": "variable"
         },
         "tracegroupgap": 0
        },
        "template": {
         "data": {
          "bar": [
           {
            "error_x": {
             "color": "#2a3f5f"
            },
            "error_y": {
             "color": "#2a3f5f"
            },
            "marker": {
             "line": {
              "color": "#E5ECF6",
              "width": 0.5
             },
             "pattern": {
              "fillmode": "overlay",
              "size": 10,
              "solidity": 0.2
             }
            },
            "type": "bar"
           }
          ],
          "barpolar": [
           {
            "marker": {
             "line": {
              "color": "#E5ECF6",
              "width": 0.5
             },
             "pattern": {
              "fillmode": "overlay",
              "size": 10,
              "solidity": 0.2
             }
            },
            "type": "barpolar"
           }
          ],
          "carpet": [
           {
            "aaxis": {
             "endlinecolor": "#2a3f5f",
             "gridcolor": "white",
             "linecolor": "white",
             "minorgridcolor": "white",
             "startlinecolor": "#2a3f5f"
            },
            "baxis": {
             "endlinecolor": "#2a3f5f",
             "gridcolor": "white",
             "linecolor": "white",
             "minorgridcolor": "white",
             "startlinecolor": "#2a3f5f"
            },
            "type": "carpet"
           }
          ],
          "choropleth": [
           {
            "colorbar": {
             "outlinewidth": 0,
             "ticks": ""
            },
            "type": "choropleth"
           }
          ],
          "contour": [
           {
            "colorbar": {
             "outlinewidth": 0,
             "ticks": ""
            },
            "colorscale": [
             [
              0,
              "#0d0887"
             ],
             [
              0.1111111111111111,
              "#46039f"
             ],
             [
              0.2222222222222222,
              "#7201a8"
             ],
             [
              0.3333333333333333,
              "#9c179e"
             ],
             [
              0.4444444444444444,
              "#bd3786"
             ],
             [
              0.5555555555555556,
              "#d8576b"
             ],
             [
              0.6666666666666666,
              "#ed7953"
             ],
             [
              0.7777777777777778,
              "#fb9f3a"
             ],
             [
              0.8888888888888888,
              "#fdca26"
             ],
             [
              1,
              "#f0f921"
             ]
            ],
            "type": "contour"
           }
          ],
          "contourcarpet": [
           {
            "colorbar": {
             "outlinewidth": 0,
             "ticks": ""
            },
            "type": "contourcarpet"
           }
          ],
          "heatmap": [
           {
            "colorbar": {
             "outlinewidth": 0,
             "ticks": ""
            },
            "colorscale": [
             [
              0,
              "#0d0887"
             ],
             [
              0.1111111111111111,
              "#46039f"
             ],
             [
              0.2222222222222222,
              "#7201a8"
             ],
             [
              0.3333333333333333,
              "#9c179e"
             ],
             [
              0.4444444444444444,
              "#bd3786"
             ],
             [
              0.5555555555555556,
              "#d8576b"
             ],
             [
              0.6666666666666666,
              "#ed7953"
             ],
             [
              0.7777777777777778,
              "#fb9f3a"
             ],
             [
              0.8888888888888888,
              "#fdca26"
             ],
             [
              1,
              "#f0f921"
             ]
            ],
            "type": "heatmap"
           }
          ],
          "heatmapgl": [
           {
            "colorbar": {
             "outlinewidth": 0,
             "ticks": ""
            },
            "colorscale": [
             [
              0,
              "#0d0887"
             ],
             [
              0.1111111111111111,
              "#46039f"
             ],
             [
              0.2222222222222222,
              "#7201a8"
             ],
             [
              0.3333333333333333,
              "#9c179e"
             ],
             [
              0.4444444444444444,
              "#bd3786"
             ],
             [
              0.5555555555555556,
              "#d8576b"
             ],
             [
              0.6666666666666666,
              "#ed7953"
             ],
             [
              0.7777777777777778,
              "#fb9f3a"
             ],
             [
              0.8888888888888888,
              "#fdca26"
             ],
             [
              1,
              "#f0f921"
             ]
            ],
            "type": "heatmapgl"
           }
          ],
          "histogram": [
           {
            "marker": {
             "pattern": {
              "fillmode": "overlay",
              "size": 10,
              "solidity": 0.2
             }
            },
            "type": "histogram"
           }
          ],
          "histogram2d": [
           {
            "colorbar": {
             "outlinewidth": 0,
             "ticks": ""
            },
            "colorscale": [
             [
              0,
              "#0d0887"
             ],
             [
              0.1111111111111111,
              "#46039f"
             ],
             [
              0.2222222222222222,
              "#7201a8"
             ],
             [
              0.3333333333333333,
              "#9c179e"
             ],
             [
              0.4444444444444444,
              "#bd3786"
             ],
             [
              0.5555555555555556,
              "#d8576b"
             ],
             [
              0.6666666666666666,
              "#ed7953"
             ],
             [
              0.7777777777777778,
              "#fb9f3a"
             ],
             [
              0.8888888888888888,
              "#fdca26"
             ],
             [
              1,
              "#f0f921"
             ]
            ],
            "type": "histogram2d"
           }
          ],
          "histogram2dcontour": [
           {
            "colorbar": {
             "outlinewidth": 0,
             "ticks": ""
            },
            "colorscale": [
             [
              0,
              "#0d0887"
             ],
             [
              0.1111111111111111,
              "#46039f"
             ],
             [
              0.2222222222222222,
              "#7201a8"
             ],
             [
              0.3333333333333333,
              "#9c179e"
             ],
             [
              0.4444444444444444,
              "#bd3786"
             ],
             [
              0.5555555555555556,
              "#d8576b"
             ],
             [
              0.6666666666666666,
              "#ed7953"
             ],
             [
              0.7777777777777778,
              "#fb9f3a"
             ],
             [
              0.8888888888888888,
              "#fdca26"
             ],
             [
              1,
              "#f0f921"
             ]
            ],
            "type": "histogram2dcontour"
           }
          ],
          "mesh3d": [
           {
            "colorbar": {
             "outlinewidth": 0,
             "ticks": ""
            },
            "type": "mesh3d"
           }
          ],
          "parcoords": [
           {
            "line": {
             "colorbar": {
              "outlinewidth": 0,
              "ticks": ""
             }
            },
            "type": "parcoords"
           }
          ],
          "pie": [
           {
            "automargin": true,
            "type": "pie"
           }
          ],
          "scatter": [
           {
            "fillpattern": {
             "fillmode": "overlay",
             "size": 10,
             "solidity": 0.2
            },
            "type": "scatter"
           }
          ],
          "scatter3d": [
           {
            "line": {
             "colorbar": {
              "outlinewidth": 0,
              "ticks": ""
             }
            },
            "marker": {
             "colorbar": {
              "outlinewidth": 0,
              "ticks": ""
             }
            },
            "type": "scatter3d"
           }
          ],
          "scattercarpet": [
           {
            "marker": {
             "colorbar": {
              "outlinewidth": 0,
              "ticks": ""
             }
            },
            "type": "scattercarpet"
           }
          ],
          "scattergeo": [
           {
            "marker": {
             "colorbar": {
              "outlinewidth": 0,
              "ticks": ""
             }
            },
            "type": "scattergeo"
           }
          ],
          "scattergl": [
           {
            "marker": {
             "colorbar": {
              "outlinewidth": 0,
              "ticks": ""
             }
            },
            "type": "scattergl"
           }
          ],
          "scattermapbox": [
           {
            "marker": {
             "colorbar": {
              "outlinewidth": 0,
              "ticks": ""
             }
            },
            "type": "scattermapbox"
           }
          ],
          "scatterpolar": [
           {
            "marker": {
             "colorbar": {
              "outlinewidth": 0,
              "ticks": ""
             }
            },
            "type": "scatterpolar"
           }
          ],
          "scatterpolargl": [
           {
            "marker": {
             "colorbar": {
              "outlinewidth": 0,
              "ticks": ""
             }
            },
            "type": "scatterpolargl"
           }
          ],
          "scatterternary": [
           {
            "marker": {
             "colorbar": {
              "outlinewidth": 0,
              "ticks": ""
             }
            },
            "type": "scatterternary"
           }
          ],
          "surface": [
           {
            "colorbar": {
             "outlinewidth": 0,
             "ticks": ""
            },
            "colorscale": [
             [
              0,
              "#0d0887"
             ],
             [
              0.1111111111111111,
              "#46039f"
             ],
             [
              0.2222222222222222,
              "#7201a8"
             ],
             [
              0.3333333333333333,
              "#9c179e"
             ],
             [
              0.4444444444444444,
              "#bd3786"
             ],
             [
              0.5555555555555556,
              "#d8576b"
             ],
             [
              0.6666666666666666,
              "#ed7953"
             ],
             [
              0.7777777777777778,
              "#fb9f3a"
             ],
             [
              0.8888888888888888,
              "#fdca26"
             ],
             [
              1,
              "#f0f921"
             ]
            ],
            "type": "surface"
           }
          ],
          "table": [
           {
            "cells": {
             "fill": {
              "color": "#EBF0F8"
             },
             "line": {
              "color": "white"
             }
            },
            "header": {
             "fill": {
              "color": "#C8D4E3"
             },
             "line": {
              "color": "white"
             }
            },
            "type": "table"
           }
          ]
         },
         "layout": {
          "annotationdefaults": {
           "arrowcolor": "#2a3f5f",
           "arrowhead": 0,
           "arrowwidth": 1
          },
          "autotypenumbers": "strict",
          "coloraxis": {
           "colorbar": {
            "outlinewidth": 0,
            "ticks": ""
           }
          },
          "colorscale": {
           "diverging": [
            [
             0,
             "#8e0152"
            ],
            [
             0.1,
             "#c51b7d"
            ],
            [
             0.2,
             "#de77ae"
            ],
            [
             0.3,
             "#f1b6da"
            ],
            [
             0.4,
             "#fde0ef"
            ],
            [
             0.5,
             "#f7f7f7"
            ],
            [
             0.6,
             "#e6f5d0"
            ],
            [
             0.7,
             "#b8e186"
            ],
            [
             0.8,
             "#7fbc41"
            ],
            [
             0.9,
             "#4d9221"
            ],
            [
             1,
             "#276419"
            ]
           ],
           "sequential": [
            [
             0,
             "#0d0887"
            ],
            [
             0.1111111111111111,
             "#46039f"
            ],
            [
             0.2222222222222222,
             "#7201a8"
            ],
            [
             0.3333333333333333,
             "#9c179e"
            ],
            [
             0.4444444444444444,
             "#bd3786"
            ],
            [
             0.5555555555555556,
             "#d8576b"
            ],
            [
             0.6666666666666666,
             "#ed7953"
            ],
            [
             0.7777777777777778,
             "#fb9f3a"
            ],
            [
             0.8888888888888888,
             "#fdca26"
            ],
            [
             1,
             "#f0f921"
            ]
           ],
           "sequentialminus": [
            [
             0,
             "#0d0887"
            ],
            [
             0.1111111111111111,
             "#46039f"
            ],
            [
             0.2222222222222222,
             "#7201a8"
            ],
            [
             0.3333333333333333,
             "#9c179e"
            ],
            [
             0.4444444444444444,
             "#bd3786"
            ],
            [
             0.5555555555555556,
             "#d8576b"
            ],
            [
             0.6666666666666666,
             "#ed7953"
            ],
            [
             0.7777777777777778,
             "#fb9f3a"
            ],
            [
             0.8888888888888888,
             "#fdca26"
            ],
            [
             1,
             "#f0f921"
            ]
           ]
          },
          "colorway": [
           "#636efa",
           "#EF553B",
           "#00cc96",
           "#ab63fa",
           "#FFA15A",
           "#19d3f3",
           "#FF6692",
           "#B6E880",
           "#FF97FF",
           "#FECB52"
          ],
          "font": {
           "color": "#2a3f5f"
          },
          "geo": {
           "bgcolor": "white",
           "lakecolor": "white",
           "landcolor": "#E5ECF6",
           "showlakes": true,
           "showland": true,
           "subunitcolor": "white"
          },
          "hoverlabel": {
           "align": "left"
          },
          "hovermode": "closest",
          "mapbox": {
           "style": "light"
          },
          "paper_bgcolor": "white",
          "plot_bgcolor": "#E5ECF6",
          "polar": {
           "angularaxis": {
            "gridcolor": "white",
            "linecolor": "white",
            "ticks": ""
           },
           "bgcolor": "#E5ECF6",
           "radialaxis": {
            "gridcolor": "white",
            "linecolor": "white",
            "ticks": ""
           }
          },
          "scene": {
           "xaxis": {
            "backgroundcolor": "#E5ECF6",
            "gridcolor": "white",
            "gridwidth": 2,
            "linecolor": "white",
            "showbackground": true,
            "ticks": "",
            "zerolinecolor": "white"
           },
           "yaxis": {
            "backgroundcolor": "#E5ECF6",
            "gridcolor": "white",
            "gridwidth": 2,
            "linecolor": "white",
            "showbackground": true,
            "ticks": "",
            "zerolinecolor": "white"
           },
           "zaxis": {
            "backgroundcolor": "#E5ECF6",
            "gridcolor": "white",
            "gridwidth": 2,
            "linecolor": "white",
            "showbackground": true,
            "ticks": "",
            "zerolinecolor": "white"
           }
          },
          "shapedefaults": {
           "line": {
            "color": "#2a3f5f"
           }
          },
          "ternary": {
           "aaxis": {
            "gridcolor": "white",
            "linecolor": "white",
            "ticks": ""
           },
           "baxis": {
            "gridcolor": "white",
            "linecolor": "white",
            "ticks": ""
           },
           "bgcolor": "#E5ECF6",
           "caxis": {
            "gridcolor": "white",
            "linecolor": "white",
            "ticks": ""
           }
          },
          "title": {
           "x": 0.05
          },
          "xaxis": {
           "automargin": true,
           "gridcolor": "white",
           "linecolor": "white",
           "ticks": "",
           "title": {
            "standoff": 15
           },
           "zerolinecolor": "white",
           "zerolinewidth": 2
          },
          "yaxis": {
           "automargin": true,
           "gridcolor": "white",
           "linecolor": "white",
           "ticks": "",
           "title": {
            "standoff": 15
           },
           "zerolinecolor": "white",
           "zerolinewidth": 2
          }
         }
        },
        "title": {
         "text": "Depth"
        },
        "xaxis": {
         "anchor": "y",
         "domain": [
          0,
          1
         ],
         "title": {
          "text": "Depth (m)"
         }
        },
        "yaxis": {
         "anchor": "x",
         "domain": [
          0,
          1
         ],
         "title": {
          "text": "count"
         }
        }
       }
      }
     },
     "metadata": {},
     "output_type": "display_data"
    }
   ],
   "source": [
    "data[\"depth\"].astype(float).plot.hist(title=\"Depth\", labels=dict(value=\"Depth (m)\"))"
   ]
  },
  {
   "cell_type": "code",
   "execution_count": 17,
   "metadata": {},
   "outputs": [
    {
     "name": "stderr",
     "output_type": "stream",
     "text": [
      "/var/folders/36/grrgsqjd14j4tf6cf5ty4ykh0000gn/T/ipykernel_17724/609279031.py:2: FutureWarning:\n",
      "\n",
      "The default of observed=False is deprecated and will be changed to True in a future version of pandas. Pass observed=False to retain current behavior or observed=True to adopt the future default and silence this warning.\n",
      "\n"
     ]
    }
   ],
   "source": [
    "preprocessed_data = xr.Dataset.from_dataframe(\n",
    "    data.groupby([\"time\", \"is_day\", \"latitude\", \"longitude\", \"depth\"]).mean()\n",
    ")\n",
    "preprocessed_data = preprocessed_data.dropna(\"depth\", how=\"all\")"
   ]
  },
  {
   "cell_type": "code",
   "execution_count": 18,
   "metadata": {},
   "outputs": [],
   "source": [
    "for var in preprocessed_data:\n",
    "    preprocessed_data[var].attrs = {\"units\": species_unit}"
   ]
  },
  {
   "cell_type": "code",
   "execution_count": 19,
   "metadata": {},
   "outputs": [
    {
     "data": {
      "text/html": [
       "<div><svg style=\"position: absolute; width: 0; height: 0; overflow: hidden\">\n",
       "<defs>\n",
       "<symbol id=\"icon-database\" viewBox=\"0 0 32 32\">\n",
       "<path d=\"M16 0c-8.837 0-16 2.239-16 5v4c0 2.761 7.163 5 16 5s16-2.239 16-5v-4c0-2.761-7.163-5-16-5z\"></path>\n",
       "<path d=\"M16 17c-8.837 0-16-2.239-16-5v6c0 2.761 7.163 5 16 5s16-2.239 16-5v-6c0 2.761-7.163 5-16 5z\"></path>\n",
       "<path d=\"M16 26c-8.837 0-16-2.239-16-5v6c0 2.761 7.163 5 16 5s16-2.239 16-5v-6c0 2.761-7.163 5-16 5z\"></path>\n",
       "</symbol>\n",
       "<symbol id=\"icon-file-text2\" viewBox=\"0 0 32 32\">\n",
       "<path d=\"M28.681 7.159c-0.694-0.947-1.662-2.053-2.724-3.116s-2.169-2.030-3.116-2.724c-1.612-1.182-2.393-1.319-2.841-1.319h-15.5c-1.378 0-2.5 1.121-2.5 2.5v27c0 1.378 1.122 2.5 2.5 2.5h23c1.378 0 2.5-1.122 2.5-2.5v-19.5c0-0.448-0.137-1.23-1.319-2.841zM24.543 5.457c0.959 0.959 1.712 1.825 2.268 2.543h-4.811v-4.811c0.718 0.556 1.584 1.309 2.543 2.268zM28 29.5c0 0.271-0.229 0.5-0.5 0.5h-23c-0.271 0-0.5-0.229-0.5-0.5v-27c0-0.271 0.229-0.5 0.5-0.5 0 0 15.499-0 15.5 0v7c0 0.552 0.448 1 1 1h7v19.5z\"></path>\n",
       "<path d=\"M23 26h-14c-0.552 0-1-0.448-1-1s0.448-1 1-1h14c0.552 0 1 0.448 1 1s-0.448 1-1 1z\"></path>\n",
       "<path d=\"M23 22h-14c-0.552 0-1-0.448-1-1s0.448-1 1-1h14c0.552 0 1 0.448 1 1s-0.448 1-1 1z\"></path>\n",
       "<path d=\"M23 18h-14c-0.552 0-1-0.448-1-1s0.448-1 1-1h14c0.552 0 1 0.448 1 1s-0.448 1-1 1z\"></path>\n",
       "</symbol>\n",
       "</defs>\n",
       "</svg>\n",
       "<style>/* CSS stylesheet for displaying xarray objects in jupyterlab.\n",
       " *\n",
       " */\n",
       "\n",
       ":root {\n",
       "  --xr-font-color0: var(--jp-content-font-color0, rgba(0, 0, 0, 1));\n",
       "  --xr-font-color2: var(--jp-content-font-color2, rgba(0, 0, 0, 0.54));\n",
       "  --xr-font-color3: var(--jp-content-font-color3, rgba(0, 0, 0, 0.38));\n",
       "  --xr-border-color: var(--jp-border-color2, #e0e0e0);\n",
       "  --xr-disabled-color: var(--jp-layout-color3, #bdbdbd);\n",
       "  --xr-background-color: var(--jp-layout-color0, white);\n",
       "  --xr-background-color-row-even: var(--jp-layout-color1, white);\n",
       "  --xr-background-color-row-odd: var(--jp-layout-color2, #eeeeee);\n",
       "}\n",
       "\n",
       "html[theme=dark],\n",
       "body[data-theme=dark],\n",
       "body.vscode-dark {\n",
       "  --xr-font-color0: rgba(255, 255, 255, 1);\n",
       "  --xr-font-color2: rgba(255, 255, 255, 0.54);\n",
       "  --xr-font-color3: rgba(255, 255, 255, 0.38);\n",
       "  --xr-border-color: #1F1F1F;\n",
       "  --xr-disabled-color: #515151;\n",
       "  --xr-background-color: #111111;\n",
       "  --xr-background-color-row-even: #111111;\n",
       "  --xr-background-color-row-odd: #313131;\n",
       "}\n",
       "\n",
       ".xr-wrap {\n",
       "  display: block !important;\n",
       "  min-width: 300px;\n",
       "  max-width: 700px;\n",
       "}\n",
       "\n",
       ".xr-text-repr-fallback {\n",
       "  /* fallback to plain text repr when CSS is not injected (untrusted notebook) */\n",
       "  display: none;\n",
       "}\n",
       "\n",
       ".xr-header {\n",
       "  padding-top: 6px;\n",
       "  padding-bottom: 6px;\n",
       "  margin-bottom: 4px;\n",
       "  border-bottom: solid 1px var(--xr-border-color);\n",
       "}\n",
       "\n",
       ".xr-header > div,\n",
       ".xr-header > ul {\n",
       "  display: inline;\n",
       "  margin-top: 0;\n",
       "  margin-bottom: 0;\n",
       "}\n",
       "\n",
       ".xr-obj-type,\n",
       ".xr-array-name {\n",
       "  margin-left: 2px;\n",
       "  margin-right: 10px;\n",
       "}\n",
       "\n",
       ".xr-obj-type {\n",
       "  color: var(--xr-font-color2);\n",
       "}\n",
       "\n",
       ".xr-sections {\n",
       "  padding-left: 0 !important;\n",
       "  display: grid;\n",
       "  grid-template-columns: 150px auto auto 1fr 20px 20px;\n",
       "}\n",
       "\n",
       ".xr-section-item {\n",
       "  display: contents;\n",
       "}\n",
       "\n",
       ".xr-section-item input {\n",
       "  display: none;\n",
       "}\n",
       "\n",
       ".xr-section-item input + label {\n",
       "  color: var(--xr-disabled-color);\n",
       "}\n",
       "\n",
       ".xr-section-item input:enabled + label {\n",
       "  cursor: pointer;\n",
       "  color: var(--xr-font-color2);\n",
       "}\n",
       "\n",
       ".xr-section-item input:enabled + label:hover {\n",
       "  color: var(--xr-font-color0);\n",
       "}\n",
       "\n",
       ".xr-section-summary {\n",
       "  grid-column: 1;\n",
       "  color: var(--xr-font-color2);\n",
       "  font-weight: 500;\n",
       "}\n",
       "\n",
       ".xr-section-summary > span {\n",
       "  display: inline-block;\n",
       "  padding-left: 0.5em;\n",
       "}\n",
       "\n",
       ".xr-section-summary-in:disabled + label {\n",
       "  color: var(--xr-font-color2);\n",
       "}\n",
       "\n",
       ".xr-section-summary-in + label:before {\n",
       "  display: inline-block;\n",
       "  content: '►';\n",
       "  font-size: 11px;\n",
       "  width: 15px;\n",
       "  text-align: center;\n",
       "}\n",
       "\n",
       ".xr-section-summary-in:disabled + label:before {\n",
       "  color: var(--xr-disabled-color);\n",
       "}\n",
       "\n",
       ".xr-section-summary-in:checked + label:before {\n",
       "  content: '▼';\n",
       "}\n",
       "\n",
       ".xr-section-summary-in:checked + label > span {\n",
       "  display: none;\n",
       "}\n",
       "\n",
       ".xr-section-summary,\n",
       ".xr-section-inline-details {\n",
       "  padding-top: 4px;\n",
       "  padding-bottom: 4px;\n",
       "}\n",
       "\n",
       ".xr-section-inline-details {\n",
       "  grid-column: 2 / -1;\n",
       "}\n",
       "\n",
       ".xr-section-details {\n",
       "  display: none;\n",
       "  grid-column: 1 / -1;\n",
       "  margin-bottom: 5px;\n",
       "}\n",
       "\n",
       ".xr-section-summary-in:checked ~ .xr-section-details {\n",
       "  display: contents;\n",
       "}\n",
       "\n",
       ".xr-array-wrap {\n",
       "  grid-column: 1 / -1;\n",
       "  display: grid;\n",
       "  grid-template-columns: 20px auto;\n",
       "}\n",
       "\n",
       ".xr-array-wrap > label {\n",
       "  grid-column: 1;\n",
       "  vertical-align: top;\n",
       "}\n",
       "\n",
       ".xr-preview {\n",
       "  color: var(--xr-font-color3);\n",
       "}\n",
       "\n",
       ".xr-array-preview,\n",
       ".xr-array-data {\n",
       "  padding: 0 5px !important;\n",
       "  grid-column: 2;\n",
       "}\n",
       "\n",
       ".xr-array-data,\n",
       ".xr-array-in:checked ~ .xr-array-preview {\n",
       "  display: none;\n",
       "}\n",
       "\n",
       ".xr-array-in:checked ~ .xr-array-data,\n",
       ".xr-array-preview {\n",
       "  display: inline-block;\n",
       "}\n",
       "\n",
       ".xr-dim-list {\n",
       "  display: inline-block !important;\n",
       "  list-style: none;\n",
       "  padding: 0 !important;\n",
       "  margin: 0;\n",
       "}\n",
       "\n",
       ".xr-dim-list li {\n",
       "  display: inline-block;\n",
       "  padding: 0;\n",
       "  margin: 0;\n",
       "}\n",
       "\n",
       ".xr-dim-list:before {\n",
       "  content: '(';\n",
       "}\n",
       "\n",
       ".xr-dim-list:after {\n",
       "  content: ')';\n",
       "}\n",
       "\n",
       ".xr-dim-list li:not(:last-child):after {\n",
       "  content: ',';\n",
       "  padding-right: 5px;\n",
       "}\n",
       "\n",
       ".xr-has-index {\n",
       "  font-weight: bold;\n",
       "}\n",
       "\n",
       ".xr-var-list,\n",
       ".xr-var-item {\n",
       "  display: contents;\n",
       "}\n",
       "\n",
       ".xr-var-item > div,\n",
       ".xr-var-item label,\n",
       ".xr-var-item > .xr-var-name span {\n",
       "  background-color: var(--xr-background-color-row-even);\n",
       "  margin-bottom: 0;\n",
       "}\n",
       "\n",
       ".xr-var-item > .xr-var-name:hover span {\n",
       "  padding-right: 5px;\n",
       "}\n",
       "\n",
       ".xr-var-list > li:nth-child(odd) > div,\n",
       ".xr-var-list > li:nth-child(odd) > label,\n",
       ".xr-var-list > li:nth-child(odd) > .xr-var-name span {\n",
       "  background-color: var(--xr-background-color-row-odd);\n",
       "}\n",
       "\n",
       ".xr-var-name {\n",
       "  grid-column: 1;\n",
       "}\n",
       "\n",
       ".xr-var-dims {\n",
       "  grid-column: 2;\n",
       "}\n",
       "\n",
       ".xr-var-dtype {\n",
       "  grid-column: 3;\n",
       "  text-align: right;\n",
       "  color: var(--xr-font-color2);\n",
       "}\n",
       "\n",
       ".xr-var-preview {\n",
       "  grid-column: 4;\n",
       "}\n",
       "\n",
       ".xr-index-preview {\n",
       "  grid-column: 2 / 5;\n",
       "  color: var(--xr-font-color2);\n",
       "}\n",
       "\n",
       ".xr-var-name,\n",
       ".xr-var-dims,\n",
       ".xr-var-dtype,\n",
       ".xr-preview,\n",
       ".xr-attrs dt {\n",
       "  white-space: nowrap;\n",
       "  overflow: hidden;\n",
       "  text-overflow: ellipsis;\n",
       "  padding-right: 10px;\n",
       "}\n",
       "\n",
       ".xr-var-name:hover,\n",
       ".xr-var-dims:hover,\n",
       ".xr-var-dtype:hover,\n",
       ".xr-attrs dt:hover {\n",
       "  overflow: visible;\n",
       "  width: auto;\n",
       "  z-index: 1;\n",
       "}\n",
       "\n",
       ".xr-var-attrs,\n",
       ".xr-var-data,\n",
       ".xr-index-data {\n",
       "  display: none;\n",
       "  background-color: var(--xr-background-color) !important;\n",
       "  padding-bottom: 5px !important;\n",
       "}\n",
       "\n",
       ".xr-var-attrs-in:checked ~ .xr-var-attrs,\n",
       ".xr-var-data-in:checked ~ .xr-var-data,\n",
       ".xr-index-data-in:checked ~ .xr-index-data {\n",
       "  display: block;\n",
       "}\n",
       "\n",
       ".xr-var-data > table {\n",
       "  float: right;\n",
       "}\n",
       "\n",
       ".xr-var-name span,\n",
       ".xr-var-data,\n",
       ".xr-index-name div,\n",
       ".xr-index-data,\n",
       ".xr-attrs {\n",
       "  padding-left: 25px !important;\n",
       "}\n",
       "\n",
       ".xr-attrs,\n",
       ".xr-var-attrs,\n",
       ".xr-var-data,\n",
       ".xr-index-data {\n",
       "  grid-column: 1 / -1;\n",
       "}\n",
       "\n",
       "dl.xr-attrs {\n",
       "  padding: 0;\n",
       "  margin: 0;\n",
       "  display: grid;\n",
       "  grid-template-columns: 125px auto;\n",
       "}\n",
       "\n",
       ".xr-attrs dt,\n",
       ".xr-attrs dd {\n",
       "  padding: 0;\n",
       "  margin: 0;\n",
       "  float: left;\n",
       "  padding-right: 10px;\n",
       "  width: auto;\n",
       "}\n",
       "\n",
       ".xr-attrs dt {\n",
       "  font-weight: normal;\n",
       "  grid-column: 1;\n",
       "}\n",
       "\n",
       ".xr-attrs dt:hover span {\n",
       "  display: inline-block;\n",
       "  background: var(--xr-background-color);\n",
       "  padding-right: 10px;\n",
       "}\n",
       "\n",
       ".xr-attrs dd {\n",
       "  grid-column: 2;\n",
       "  white-space: pre-wrap;\n",
       "  word-break: break-all;\n",
       "}\n",
       "\n",
       ".xr-icon-database,\n",
       ".xr-icon-file-text2,\n",
       ".xr-no-icon {\n",
       "  display: inline-block;\n",
       "  vertical-align: middle;\n",
       "  width: 1em;\n",
       "  height: 1.5em !important;\n",
       "  stroke-width: 0;\n",
       "  stroke: currentColor;\n",
       "  fill: currentColor;\n",
       "}\n",
       "</style><pre class='xr-text-repr-fallback'>&lt;xarray.Dataset&gt; Size: 40kB\n",
       "Dimensions:               (time: 69, is_day: 2, latitude: 1, longitude: 1,\n",
       "                           depth: 4)\n",
       "Coordinates:\n",
       "  * time                  (time) datetime64[ns] 552B 1997-02-21 ... 2020-08-20\n",
       "  * is_day                (is_day) bool 2B False True\n",
       "  * latitude              (latitude) int64 8B 50\n",
       "  * longitude             (longitude) int64 8B -150\n",
       "  * depth                 (depth) int64 32B 150 200 250 300\n",
       "Data variables:\n",
       "    crustaceans           (time, is_day, latitude, longitude, depth) float64 4kB ...\n",
       "    larvae                (time, is_day, latitude, longitude, depth) float64 4kB ...\n",
       "    thaliaceans           (time, is_day, latitude, longitude, depth) float64 4kB ...\n",
       "    chaetognaths          (time, is_day, latitude, longitude, depth) float64 4kB ...\n",
       "    pteropods             (time, is_day, latitude, longitude, depth) float64 4kB ...\n",
       "    small_gelatinous      (time, is_day, latitude, longitude, depth) float64 4kB ...\n",
       "    foram                 (time, is_day, latitude, longitude, depth) float64 4kB ...\n",
       "    other                 (time, is_day, latitude, longitude, depth) float64 4kB ...\n",
       "    total_non_gelatinous  (time, is_day, latitude, longitude, depth) float64 4kB ...</pre><div class='xr-wrap' style='display:none'><div class='xr-header'><div class='xr-obj-type'>xarray.Dataset</div></div><ul class='xr-sections'><li class='xr-section-item'><input id='section-4b52fc8c-ea33-4a05-8273-6db64ccc5cfc' class='xr-section-summary-in' type='checkbox' disabled ><label for='section-4b52fc8c-ea33-4a05-8273-6db64ccc5cfc' class='xr-section-summary'  title='Expand/collapse section'>Dimensions:</label><div class='xr-section-inline-details'><ul class='xr-dim-list'><li><span class='xr-has-index'>time</span>: 69</li><li><span class='xr-has-index'>is_day</span>: 2</li><li><span class='xr-has-index'>latitude</span>: 1</li><li><span class='xr-has-index'>longitude</span>: 1</li><li><span class='xr-has-index'>depth</span>: 4</li></ul></div><div class='xr-section-details'></div></li><li class='xr-section-item'><input id='section-ca5706bd-b876-413e-8123-08e7e5192422' class='xr-section-summary-in' type='checkbox'  checked><label for='section-ca5706bd-b876-413e-8123-08e7e5192422' class='xr-section-summary' >Coordinates: <span>(5)</span></label><div class='xr-section-inline-details'></div><div class='xr-section-details'><ul class='xr-var-list'><li class='xr-var-item'><div class='xr-var-name'><span class='xr-has-index'>time</span></div><div class='xr-var-dims'>(time)</div><div class='xr-var-dtype'>datetime64[ns]</div><div class='xr-var-preview xr-preview'>1997-02-21 ... 2020-08-20</div><input id='attrs-e139b9a3-4f93-455b-8a4f-37b022b9e971' class='xr-var-attrs-in' type='checkbox' ><label for='attrs-e139b9a3-4f93-455b-8a4f-37b022b9e971' title='Show/Hide attributes'><svg class='icon xr-icon-file-text2'><use xlink:href='#icon-file-text2'></use></svg></label><input id='data-5c32b9b0-ff05-4bf6-9986-e5a0e477f0dd' class='xr-var-data-in' type='checkbox'><label for='data-5c32b9b0-ff05-4bf6-9986-e5a0e477f0dd' title='Show/Hide data repr'><svg class='icon xr-icon-database'><use xlink:href='#icon-database'></use></svg></label><div class='xr-var-attrs'><dl class='xr-attrs'><dt><span>standard_name :</span></dt><dd>time</dd><dt><span>long_name :</span></dt><dd>time</dd><dt><span>axis :</span></dt><dd>T</dd></dl></div><div class='xr-var-data'><pre>array([&#x27;1997-02-21T00:00:00.000000000&#x27;, &#x27;1997-06-15T00:00:00.000000000&#x27;,\n",
       "       &#x27;1997-06-16T00:00:00.000000000&#x27;, &#x27;1997-09-04T00:00:00.000000000&#x27;,\n",
       "       &#x27;1997-09-05T00:00:00.000000000&#x27;, &#x27;1998-02-27T00:00:00.000000000&#x27;,\n",
       "       &#x27;1998-02-28T00:00:00.000000000&#x27;, &#x27;1998-06-13T00:00:00.000000000&#x27;,\n",
       "       &#x27;1998-09-05T00:00:00.000000000&#x27;, &#x27;1999-02-18T00:00:00.000000000&#x27;,\n",
       "       &#x27;1999-09-02T00:00:00.000000000&#x27;, &#x27;2000-06-09T00:00:00.000000000&#x27;,\n",
       "       &#x27;2000-09-14T00:00:00.000000000&#x27;, &#x27;2001-02-12T00:00:00.000000000&#x27;,\n",
       "       &#x27;2002-02-13T00:00:00.000000000&#x27;, &#x27;2002-07-05T00:00:00.000000000&#x27;,\n",
       "       &#x27;2002-09-03T00:00:00.000000000&#x27;, &#x27;2003-02-12T00:00:00.000000000&#x27;,\n",
       "       &#x27;2003-06-03T00:00:00.000000000&#x27;, &#x27;2003-09-06T00:00:00.000000000&#x27;,\n",
       "       &#x27;2003-09-07T00:00:00.000000000&#x27;, &#x27;2004-02-24T00:00:00.000000000&#x27;,\n",
       "       &#x27;2004-06-07T00:00:00.000000000&#x27;, &#x27;2004-08-26T00:00:00.000000000&#x27;,\n",
       "       &#x27;2005-02-18T00:00:00.000000000&#x27;, &#x27;2005-06-07T00:00:00.000000000&#x27;,\n",
       "       &#x27;2005-08-23T00:00:00.000000000&#x27;, &#x27;2006-02-13T00:00:00.000000000&#x27;,\n",
       "       &#x27;2006-07-17T00:00:00.000000000&#x27;, &#x27;2006-09-28T00:00:00.000000000&#x27;,\n",
       "       &#x27;2007-02-15T00:00:00.000000000&#x27;, &#x27;2007-06-07T00:00:00.000000000&#x27;,\n",
       "       &#x27;2007-08-22T00:00:00.000000000&#x27;, &#x27;2008-02-10T00:00:00.000000000&#x27;,\n",
       "       &#x27;2008-06-08T00:00:00.000000000&#x27;, &#x27;2008-08-21T00:00:00.000000000&#x27;,\n",
       "       &#x27;2009-02-05T00:00:00.000000000&#x27;, &#x27;2009-06-14T00:00:00.000000000&#x27;,\n",
       "       &#x27;2009-08-27T00:00:00.000000000&#x27;, &#x27;2010-06-14T00:00:00.000000000&#x27;,\n",
       "       &#x27;2010-08-26T00:00:00.000000000&#x27;, &#x27;2011-02-16T00:00:00.000000000&#x27;,\n",
       "       &#x27;2011-06-13T00:00:00.000000000&#x27;, &#x27;2011-08-26T00:00:00.000000000&#x27;,\n",
       "       &#x27;2012-02-15T00:00:00.000000000&#x27;, &#x27;2012-06-03T00:00:00.000000000&#x27;,\n",
       "       &#x27;2012-08-24T00:00:00.000000000&#x27;, &#x27;2013-02-13T00:00:00.000000000&#x27;,\n",
       "       &#x27;2013-06-18T00:00:00.000000000&#x27;, &#x27;2013-08-30T00:00:00.000000000&#x27;,\n",
       "       &#x27;2014-06-17T00:00:00.000000000&#x27;, &#x27;2014-08-26T00:00:00.000000000&#x27;,\n",
       "       &#x27;2015-02-19T00:00:00.000000000&#x27;, &#x27;2015-06-17T00:00:00.000000000&#x27;,\n",
       "       &#x27;2015-08-28T00:00:00.000000000&#x27;, &#x27;2016-02-16T00:00:00.000000000&#x27;,\n",
       "       &#x27;2016-06-14T00:00:00.000000000&#x27;, &#x27;2016-08-26T00:00:00.000000000&#x27;,\n",
       "       &#x27;2017-02-12T00:00:00.000000000&#x27;, &#x27;2017-06-13T00:00:00.000000000&#x27;,\n",
       "       &#x27;2017-08-24T00:00:00.000000000&#x27;, &#x27;2018-02-26T00:00:00.000000000&#x27;,\n",
       "       &#x27;2018-06-13T00:00:00.000000000&#x27;, &#x27;2018-09-20T00:00:00.000000000&#x27;,\n",
       "       &#x27;2019-02-12T00:00:00.000000000&#x27;, &#x27;2019-06-11T00:00:00.000000000&#x27;,\n",
       "       &#x27;2019-08-23T00:00:00.000000000&#x27;, &#x27;2020-02-16T00:00:00.000000000&#x27;,\n",
       "       &#x27;2020-08-20T00:00:00.000000000&#x27;], dtype=&#x27;datetime64[ns]&#x27;)</pre></div></li><li class='xr-var-item'><div class='xr-var-name'><span class='xr-has-index'>is_day</span></div><div class='xr-var-dims'>(is_day)</div><div class='xr-var-dtype'>bool</div><div class='xr-var-preview xr-preview'>False True</div><input id='attrs-ec963d12-3a98-4770-857a-d9fc19e8d7c0' class='xr-var-attrs-in' type='checkbox' ><label for='attrs-ec963d12-3a98-4770-857a-d9fc19e8d7c0' title='Show/Hide attributes'><svg class='icon xr-icon-file-text2'><use xlink:href='#icon-file-text2'></use></svg></label><input id='data-7845d208-12a2-4bb2-88a4-9653bfd3fbe6' class='xr-var-data-in' type='checkbox'><label for='data-7845d208-12a2-4bb2-88a4-9653bfd3fbe6' title='Show/Hide data repr'><svg class='icon xr-icon-database'><use xlink:href='#icon-database'></use></svg></label><div class='xr-var-attrs'><dl class='xr-attrs'><dt><span>flag_values :</span></dt><dd>[True, False]</dd><dt><span>flag_meanings :</span></dt><dd>day night</dd><dt><span>standard_name :</span></dt><dd>is_day</dd><dt><span>long_name :</span></dt><dd>Is day</dd><dt><span>description :</span></dt><dd>Flag to indicate if the time is during the day or night</dd></dl></div><div class='xr-var-data'><pre>array([False,  True])</pre></div></li><li class='xr-var-item'><div class='xr-var-name'><span class='xr-has-index'>latitude</span></div><div class='xr-var-dims'>(latitude)</div><div class='xr-var-dtype'>int64</div><div class='xr-var-preview xr-preview'>50</div><input id='attrs-29840a99-b890-48f5-88f5-aa73b9476325' class='xr-var-attrs-in' type='checkbox' ><label for='attrs-29840a99-b890-48f5-88f5-aa73b9476325' title='Show/Hide attributes'><svg class='icon xr-icon-file-text2'><use xlink:href='#icon-file-text2'></use></svg></label><input id='data-59095b5d-3fcd-42cd-84cf-889da58e1f6f' class='xr-var-data-in' type='checkbox'><label for='data-59095b5d-3fcd-42cd-84cf-889da58e1f6f' title='Show/Hide data repr'><svg class='icon xr-icon-database'><use xlink:href='#icon-database'></use></svg></label><div class='xr-var-attrs'><dl class='xr-attrs'><dt><span>standard_name :</span></dt><dd>latitude</dd><dt><span>long_name :</span></dt><dd>latitude</dd><dt><span>axis :</span></dt><dd>Y</dd><dt><span>units :</span></dt><dd>degrees_north</dd></dl></div><div class='xr-var-data'><pre>array([50])</pre></div></li><li class='xr-var-item'><div class='xr-var-name'><span class='xr-has-index'>longitude</span></div><div class='xr-var-dims'>(longitude)</div><div class='xr-var-dtype'>int64</div><div class='xr-var-preview xr-preview'>-150</div><input id='attrs-33bba346-31c8-4747-97e3-5668d909352a' class='xr-var-attrs-in' type='checkbox' ><label for='attrs-33bba346-31c8-4747-97e3-5668d909352a' title='Show/Hide attributes'><svg class='icon xr-icon-file-text2'><use xlink:href='#icon-file-text2'></use></svg></label><input id='data-ee21c239-8fd1-4dce-8a8c-86641531a7c4' class='xr-var-data-in' type='checkbox'><label for='data-ee21c239-8fd1-4dce-8a8c-86641531a7c4' title='Show/Hide data repr'><svg class='icon xr-icon-database'><use xlink:href='#icon-database'></use></svg></label><div class='xr-var-attrs'><dl class='xr-attrs'><dt><span>standard_name :</span></dt><dd>longitude</dd><dt><span>long_name :</span></dt><dd>longitude</dd><dt><span>axis :</span></dt><dd>X</dd><dt><span>units :</span></dt><dd>degrees_east</dd></dl></div><div class='xr-var-data'><pre>array([-150])</pre></div></li><li class='xr-var-item'><div class='xr-var-name'><span class='xr-has-index'>depth</span></div><div class='xr-var-dims'>(depth)</div><div class='xr-var-dtype'>int64</div><div class='xr-var-preview xr-preview'>150 200 250 300</div><input id='attrs-e7b336ce-2429-4201-848e-5a2b6e812345' class='xr-var-attrs-in' type='checkbox' ><label for='attrs-e7b336ce-2429-4201-848e-5a2b6e812345' title='Show/Hide attributes'><svg class='icon xr-icon-file-text2'><use xlink:href='#icon-file-text2'></use></svg></label><input id='data-8c88a23d-ec45-4b22-adc2-d8056156291a' class='xr-var-data-in' type='checkbox'><label for='data-8c88a23d-ec45-4b22-adc2-d8056156291a' title='Show/Hide data repr'><svg class='icon xr-icon-database'><use xlink:href='#icon-database'></use></svg></label><div class='xr-var-attrs'><dl class='xr-attrs'><dt><span>standard_name :</span></dt><dd>depth</dd><dt><span>long_name :</span></dt><dd>depth</dd><dt><span>axis :</span></dt><dd>Z</dd><dt><span>units :</span></dt><dd>m</dd></dl></div><div class='xr-var-data'><pre>array([150, 200, 250, 300])</pre></div></li></ul></div></li><li class='xr-section-item'><input id='section-3595f0cd-5f08-40cf-8206-f689259dcb04' class='xr-section-summary-in' type='checkbox'  checked><label for='section-3595f0cd-5f08-40cf-8206-f689259dcb04' class='xr-section-summary' >Data variables: <span>(9)</span></label><div class='xr-section-inline-details'></div><div class='xr-section-details'><ul class='xr-var-list'><li class='xr-var-item'><div class='xr-var-name'><span>crustaceans</span></div><div class='xr-var-dims'>(time, is_day, latitude, longitude, depth)</div><div class='xr-var-dtype'>float64</div><div class='xr-var-preview xr-preview'>5.353 nan nan nan ... nan nan nan</div><input id='attrs-a25b4a5b-2f34-42a2-829f-b521ac1fe51c' class='xr-var-attrs-in' type='checkbox' ><label for='attrs-a25b4a5b-2f34-42a2-829f-b521ac1fe51c' title='Show/Hide attributes'><svg class='icon xr-icon-file-text2'><use xlink:href='#icon-file-text2'></use></svg></label><input id='data-78ffe064-5931-4a52-84ca-bd18f52b7827' class='xr-var-data-in' type='checkbox'><label for='data-78ffe064-5931-4a52-84ca-bd18f52b7827' title='Show/Hide data repr'><svg class='icon xr-icon-database'><use xlink:href='#icon-database'></use></svg></label><div class='xr-var-attrs'><dl class='xr-attrs'><dt><span>units :</span></dt><dd>mg/m3</dd></dl></div><div class='xr-var-data'><pre>array([[[[[ 5.35320667,         nan,         nan,         nan]]],\n",
       "\n",
       "\n",
       "        [[[        nan,         nan,         nan,         nan]]]],\n",
       "\n",
       "\n",
       "\n",
       "       [[[[ 8.6019    ,         nan,         nan,         nan]]],\n",
       "\n",
       "\n",
       "        [[[        nan,         nan,         nan,         nan]]]],\n",
       "\n",
       "\n",
       "\n",
       "       [[[[        nan,         nan,         nan,         nan]]],\n",
       "\n",
       "\n",
       "        [[[18.27906182,         nan,         nan,         nan]]]],\n",
       "\n",
       "\n",
       "...\n",
       "\n",
       "\n",
       "       [[[[        nan,         nan,         nan,         nan]]],\n",
       "\n",
       "\n",
       "        [[[        nan,         nan,  3.0931    ,         nan]]]],\n",
       "\n",
       "\n",
       "\n",
       "       [[[[        nan,         nan,         nan,         nan]]],\n",
       "\n",
       "\n",
       "        [[[        nan,         nan,         nan,  2.68974   ]]]],\n",
       "\n",
       "\n",
       "\n",
       "       [[[[        nan,         nan,         nan, 26.6579    ]]],\n",
       "\n",
       "\n",
       "        [[[        nan,         nan,         nan,         nan]]]]])</pre></div></li><li class='xr-var-item'><div class='xr-var-name'><span>larvae</span></div><div class='xr-var-dims'>(time, is_day, latitude, longitude, depth)</div><div class='xr-var-dtype'>float64</div><div class='xr-var-preview xr-preview'>0.2258 nan nan nan ... nan nan nan</div><input id='attrs-e6dc8d95-6e3c-44a3-9d25-d23be2fa76d2' class='xr-var-attrs-in' type='checkbox' ><label for='attrs-e6dc8d95-6e3c-44a3-9d25-d23be2fa76d2' title='Show/Hide attributes'><svg class='icon xr-icon-file-text2'><use xlink:href='#icon-file-text2'></use></svg></label><input id='data-4311c58b-9f68-43be-bc20-42a2fd169137' class='xr-var-data-in' type='checkbox'><label for='data-4311c58b-9f68-43be-bc20-42a2fd169137' title='Show/Hide data repr'><svg class='icon xr-icon-database'><use xlink:href='#icon-database'></use></svg></label><div class='xr-var-attrs'><dl class='xr-attrs'><dt><span>units :</span></dt><dd>mg/m3</dd></dl></div><div class='xr-var-data'><pre>array([[[[[0.22576   ,        nan,        nan,        nan]]],\n",
       "\n",
       "\n",
       "        [[[       nan,        nan,        nan,        nan]]]],\n",
       "\n",
       "\n",
       "\n",
       "       [[[[0.1077    ,        nan,        nan,        nan]]],\n",
       "\n",
       "\n",
       "        [[[       nan,        nan,        nan,        nan]]]],\n",
       "\n",
       "\n",
       "\n",
       "       [[[[       nan,        nan,        nan,        nan]]],\n",
       "\n",
       "\n",
       "        [[[0.01356   ,        nan,        nan,        nan]]]],\n",
       "\n",
       "\n",
       "...\n",
       "\n",
       "\n",
       "       [[[[       nan,        nan,        nan,        nan]]],\n",
       "\n",
       "\n",
       "        [[[       nan,        nan, 0.        ,        nan]]]],\n",
       "\n",
       "\n",
       "\n",
       "       [[[[       nan,        nan,        nan,        nan]]],\n",
       "\n",
       "\n",
       "        [[[       nan,        nan,        nan, 0.11673   ]]]],\n",
       "\n",
       "\n",
       "\n",
       "       [[[[       nan,        nan,        nan, 0.15629   ]]],\n",
       "\n",
       "\n",
       "        [[[       nan,        nan,        nan,        nan]]]]])</pre></div></li><li class='xr-var-item'><div class='xr-var-name'><span>thaliaceans</span></div><div class='xr-var-dims'>(time, is_day, latitude, longitude, depth)</div><div class='xr-var-dtype'>float64</div><div class='xr-var-preview xr-preview'>0.0 nan nan nan ... nan nan nan nan</div><input id='attrs-4b8f8f40-8c61-460b-b590-bf515d38f74d' class='xr-var-attrs-in' type='checkbox' ><label for='attrs-4b8f8f40-8c61-460b-b590-bf515d38f74d' title='Show/Hide attributes'><svg class='icon xr-icon-file-text2'><use xlink:href='#icon-file-text2'></use></svg></label><input id='data-49d23c78-83fd-4ca6-8d18-529443d757bc' class='xr-var-data-in' type='checkbox'><label for='data-49d23c78-83fd-4ca6-8d18-529443d757bc' title='Show/Hide data repr'><svg class='icon xr-icon-database'><use xlink:href='#icon-database'></use></svg></label><div class='xr-var-attrs'><dl class='xr-attrs'><dt><span>units :</span></dt><dd>mg/m3</dd></dl></div><div class='xr-var-data'><pre>array([[[[[0.00000000e+00,            nan,            nan,\n",
       "                      nan]]],\n",
       "\n",
       "\n",
       "        [[[           nan,            nan,            nan,\n",
       "                      nan]]]],\n",
       "\n",
       "\n",
       "\n",
       "       [[[[8.50310000e-01,            nan,            nan,\n",
       "                      nan]]],\n",
       "\n",
       "\n",
       "        [[[           nan,            nan,            nan,\n",
       "                      nan]]]],\n",
       "\n",
       "\n",
       "\n",
       "       [[[[           nan,            nan,            nan,\n",
       "                      nan]]],\n",
       "...\n",
       "        [[[           nan,            nan, 0.00000000e+00,\n",
       "                      nan]]]],\n",
       "\n",
       "\n",
       "\n",
       "       [[[[           nan,            nan,            nan,\n",
       "                      nan]]],\n",
       "\n",
       "\n",
       "        [[[           nan,            nan,            nan,\n",
       "           4.51000000e-03]]]],\n",
       "\n",
       "\n",
       "\n",
       "       [[[[           nan,            nan,            nan,\n",
       "           9.00122000e+00]]],\n",
       "\n",
       "\n",
       "        [[[           nan,            nan,            nan,\n",
       "                      nan]]]]])</pre></div></li><li class='xr-var-item'><div class='xr-var-name'><span>chaetognaths</span></div><div class='xr-var-dims'>(time, is_day, latitude, longitude, depth)</div><div class='xr-var-dtype'>float64</div><div class='xr-var-preview xr-preview'>0.301 nan nan nan ... nan nan nan</div><input id='attrs-50ebe13b-d566-47bf-8da1-db04f690cfb8' class='xr-var-attrs-in' type='checkbox' ><label for='attrs-50ebe13b-d566-47bf-8da1-db04f690cfb8' title='Show/Hide attributes'><svg class='icon xr-icon-file-text2'><use xlink:href='#icon-file-text2'></use></svg></label><input id='data-af83ad22-4561-45b0-ab60-44b826fa21bb' class='xr-var-data-in' type='checkbox'><label for='data-af83ad22-4561-45b0-ab60-44b826fa21bb' title='Show/Hide data repr'><svg class='icon xr-icon-database'><use xlink:href='#icon-database'></use></svg></label><div class='xr-var-attrs'><dl class='xr-attrs'><dt><span>units :</span></dt><dd>mg/m3</dd></dl></div><div class='xr-var-data'><pre>array([[[[[ 0.30098   ,         nan,         nan,         nan]]],\n",
       "\n",
       "\n",
       "        [[[        nan,         nan,         nan,         nan]]]],\n",
       "\n",
       "\n",
       "\n",
       "       [[[[ 9.71564   ,         nan,         nan,         nan]]],\n",
       "\n",
       "\n",
       "        [[[        nan,         nan,         nan,         nan]]]],\n",
       "\n",
       "\n",
       "\n",
       "       [[[[        nan,         nan,         nan,         nan]]],\n",
       "\n",
       "\n",
       "        [[[ 8.15264818,         nan,         nan,         nan]]]],\n",
       "\n",
       "\n",
       "...\n",
       "\n",
       "\n",
       "       [[[[        nan,         nan,         nan,         nan]]],\n",
       "\n",
       "\n",
       "        [[[        nan,         nan,  3.34029   ,         nan]]]],\n",
       "\n",
       "\n",
       "\n",
       "       [[[[        nan,         nan,         nan,         nan]]],\n",
       "\n",
       "\n",
       "        [[[        nan,         nan,         nan,  2.46445   ]]]],\n",
       "\n",
       "\n",
       "\n",
       "       [[[[        nan,         nan,         nan,  5.02856   ]]],\n",
       "\n",
       "\n",
       "        [[[        nan,         nan,         nan,         nan]]]]])</pre></div></li><li class='xr-var-item'><div class='xr-var-name'><span>pteropods</span></div><div class='xr-var-dims'>(time, is_day, latitude, longitude, depth)</div><div class='xr-var-dtype'>float64</div><div class='xr-var-preview xr-preview'>0.07408 nan nan nan ... nan nan nan</div><input id='attrs-3b60235d-a947-401c-a7bb-8c9709218614' class='xr-var-attrs-in' type='checkbox' ><label for='attrs-3b60235d-a947-401c-a7bb-8c9709218614' title='Show/Hide attributes'><svg class='icon xr-icon-file-text2'><use xlink:href='#icon-file-text2'></use></svg></label><input id='data-9f965f74-0717-49ea-891f-d3aec1587068' class='xr-var-data-in' type='checkbox'><label for='data-9f965f74-0717-49ea-891f-d3aec1587068' title='Show/Hide data repr'><svg class='icon xr-icon-database'><use xlink:href='#icon-database'></use></svg></label><div class='xr-var-attrs'><dl class='xr-attrs'><dt><span>units :</span></dt><dd>mg/m3</dd></dl></div><div class='xr-var-data'><pre>array([[[[[7.40766667e-02,            nan,            nan,\n",
       "                      nan]]],\n",
       "\n",
       "\n",
       "        [[[           nan,            nan,            nan,\n",
       "                      nan]]]],\n",
       "\n",
       "\n",
       "\n",
       "       [[[[5.90960000e-01,            nan,            nan,\n",
       "                      nan]]],\n",
       "\n",
       "\n",
       "        [[[           nan,            nan,            nan,\n",
       "                      nan]]]],\n",
       "\n",
       "\n",
       "\n",
       "       [[[[           nan,            nan,            nan,\n",
       "                      nan]]],\n",
       "...\n",
       "        [[[           nan,            nan, 5.84500000e-02,\n",
       "                      nan]]]],\n",
       "\n",
       "\n",
       "\n",
       "       [[[[           nan,            nan,            nan,\n",
       "                      nan]]],\n",
       "\n",
       "\n",
       "        [[[           nan,            nan,            nan,\n",
       "           1.62250000e-01]]]],\n",
       "\n",
       "\n",
       "\n",
       "       [[[[           nan,            nan,            nan,\n",
       "           4.50860000e-01]]],\n",
       "\n",
       "\n",
       "        [[[           nan,            nan,            nan,\n",
       "                      nan]]]]])</pre></div></li><li class='xr-var-item'><div class='xr-var-name'><span>small_gelatinous</span></div><div class='xr-var-dims'>(time, is_day, latitude, longitude, depth)</div><div class='xr-var-dtype'>float64</div><div class='xr-var-preview xr-preview'>0.9322 nan nan nan ... nan nan nan</div><input id='attrs-7dd7fcf9-3748-489e-9946-6486fd69fd99' class='xr-var-attrs-in' type='checkbox' ><label for='attrs-7dd7fcf9-3748-489e-9946-6486fd69fd99' title='Show/Hide attributes'><svg class='icon xr-icon-file-text2'><use xlink:href='#icon-file-text2'></use></svg></label><input id='data-fcacf967-fb44-48ec-ac06-568f35b3cfd2' class='xr-var-data-in' type='checkbox'><label for='data-fcacf967-fb44-48ec-ac06-568f35b3cfd2' title='Show/Hide data repr'><svg class='icon xr-icon-database'><use xlink:href='#icon-database'></use></svg></label><div class='xr-var-attrs'><dl class='xr-attrs'><dt><span>units :</span></dt><dd>mg/m3</dd></dl></div><div class='xr-var-data'><pre>array([[[[[ 0.93224   ,         nan,         nan,         nan]]],\n",
       "\n",
       "\n",
       "        [[[        nan,         nan,         nan,         nan]]]],\n",
       "\n",
       "\n",
       "\n",
       "       [[[[ 0.61364   ,         nan,         nan,         nan]]],\n",
       "\n",
       "\n",
       "        [[[        nan,         nan,         nan,         nan]]]],\n",
       "\n",
       "\n",
       "\n",
       "       [[[[        nan,         nan,         nan,         nan]]],\n",
       "\n",
       "\n",
       "        [[[ 0.65183636,         nan,         nan,         nan]]]],\n",
       "\n",
       "\n",
       "...\n",
       "\n",
       "\n",
       "       [[[[        nan,         nan,         nan,         nan]]],\n",
       "\n",
       "\n",
       "        [[[        nan,         nan,  0.26676   ,         nan]]]],\n",
       "\n",
       "\n",
       "\n",
       "       [[[[        nan,         nan,         nan,         nan]]],\n",
       "\n",
       "\n",
       "        [[[        nan,         nan,         nan,  1.88788   ]]]],\n",
       "\n",
       "\n",
       "\n",
       "       [[[[        nan,         nan,         nan,  3.90876   ]]],\n",
       "\n",
       "\n",
       "        [[[        nan,         nan,         nan,         nan]]]]])</pre></div></li><li class='xr-var-item'><div class='xr-var-name'><span>foram</span></div><div class='xr-var-dims'>(time, is_day, latitude, longitude, depth)</div><div class='xr-var-dtype'>float64</div><div class='xr-var-preview xr-preview'>0.005687 nan nan ... nan nan nan</div><input id='attrs-f491c79c-f4f8-4155-ab89-604095b9693f' class='xr-var-attrs-in' type='checkbox' ><label for='attrs-f491c79c-f4f8-4155-ab89-604095b9693f' title='Show/Hide attributes'><svg class='icon xr-icon-file-text2'><use xlink:href='#icon-file-text2'></use></svg></label><input id='data-213ec6b8-b112-4a7e-abe4-5c472c1375a7' class='xr-var-data-in' type='checkbox'><label for='data-213ec6b8-b112-4a7e-abe4-5c472c1375a7' title='Show/Hide data repr'><svg class='icon xr-icon-database'><use xlink:href='#icon-database'></use></svg></label><div class='xr-var-attrs'><dl class='xr-attrs'><dt><span>units :</span></dt><dd>mg/m3</dd></dl></div><div class='xr-var-data'><pre>array([[[[[5.68666667e-03,            nan,            nan,\n",
       "                      nan]]],\n",
       "\n",
       "\n",
       "        [[[           nan,            nan,            nan,\n",
       "                      nan]]]],\n",
       "\n",
       "\n",
       "\n",
       "       [[[[4.43900000e-02,            nan,            nan,\n",
       "                      nan]]],\n",
       "\n",
       "\n",
       "        [[[           nan,            nan,            nan,\n",
       "                      nan]]]],\n",
       "\n",
       "\n",
       "\n",
       "       [[[[           nan,            nan,            nan,\n",
       "                      nan]]],\n",
       "...\n",
       "        [[[           nan,            nan, 5.32400000e-02,\n",
       "                      nan]]]],\n",
       "\n",
       "\n",
       "\n",
       "       [[[[           nan,            nan,            nan,\n",
       "                      nan]]],\n",
       "\n",
       "\n",
       "        [[[           nan,            nan,            nan,\n",
       "           2.97210000e-01]]]],\n",
       "\n",
       "\n",
       "\n",
       "       [[[[           nan,            nan,            nan,\n",
       "           4.11380000e-01]]],\n",
       "\n",
       "\n",
       "        [[[           nan,            nan,            nan,\n",
       "                      nan]]]]])</pre></div></li><li class='xr-var-item'><div class='xr-var-name'><span>other</span></div><div class='xr-var-dims'>(time, is_day, latitude, longitude, depth)</div><div class='xr-var-dtype'>float64</div><div class='xr-var-preview xr-preview'>0.2265 nan nan nan ... nan nan nan</div><input id='attrs-72aad220-7df4-449a-8f91-29c344f7939c' class='xr-var-attrs-in' type='checkbox' ><label for='attrs-72aad220-7df4-449a-8f91-29c344f7939c' title='Show/Hide attributes'><svg class='icon xr-icon-file-text2'><use xlink:href='#icon-file-text2'></use></svg></label><input id='data-69856d11-b7ac-494f-a846-30df092dce0f' class='xr-var-data-in' type='checkbox'><label for='data-69856d11-b7ac-494f-a846-30df092dce0f' title='Show/Hide data repr'><svg class='icon xr-icon-database'><use xlink:href='#icon-database'></use></svg></label><div class='xr-var-attrs'><dl class='xr-attrs'><dt><span>units :</span></dt><dd>mg/m3</dd></dl></div><div class='xr-var-data'><pre>array([[[[[2.26450000e-01,            nan,            nan,\n",
       "                      nan]]],\n",
       "\n",
       "\n",
       "        [[[           nan,            nan,            nan,\n",
       "                      nan]]]],\n",
       "\n",
       "\n",
       "\n",
       "       [[[[5.67000000e-03,            nan,            nan,\n",
       "                      nan]]],\n",
       "\n",
       "\n",
       "        [[[           nan,            nan,            nan,\n",
       "                      nan]]]],\n",
       "\n",
       "\n",
       "\n",
       "       [[[[           nan,            nan,            nan,\n",
       "                      nan]]],\n",
       "...\n",
       "        [[[           nan,            nan, 0.00000000e+00,\n",
       "                      nan]]]],\n",
       "\n",
       "\n",
       "\n",
       "       [[[[           nan,            nan,            nan,\n",
       "                      nan]]],\n",
       "\n",
       "\n",
       "        [[[           nan,            nan,            nan,\n",
       "           2.92680000e-01]]]],\n",
       "\n",
       "\n",
       "\n",
       "       [[[[           nan,            nan,            nan,\n",
       "           5.36780000e-01]]],\n",
       "\n",
       "\n",
       "        [[[           nan,            nan,            nan,\n",
       "                      nan]]]]])</pre></div></li><li class='xr-var-item'><div class='xr-var-name'><span>total_non_gelatinous</span></div><div class='xr-var-dims'>(time, is_day, latitude, longitude, depth)</div><div class='xr-var-dtype'>float64</div><div class='xr-var-preview xr-preview'>5.96 nan nan nan ... nan nan nan</div><input id='attrs-ca7e8c09-4853-4543-8860-c92c5810537f' class='xr-var-attrs-in' type='checkbox' ><label for='attrs-ca7e8c09-4853-4543-8860-c92c5810537f' title='Show/Hide attributes'><svg class='icon xr-icon-file-text2'><use xlink:href='#icon-file-text2'></use></svg></label><input id='data-0ed9569e-4916-470f-b8fc-5f8d88122cc6' class='xr-var-data-in' type='checkbox'><label for='data-0ed9569e-4916-470f-b8fc-5f8d88122cc6' title='Show/Hide data repr'><svg class='icon xr-icon-database'><use xlink:href='#icon-database'></use></svg></label><div class='xr-var-attrs'><dl class='xr-attrs'><dt><span>units :</span></dt><dd>mg/m3</dd></dl></div><div class='xr-var-data'><pre>array([[[[[ 5.9604    ,         nan,         nan,         nan]]],\n",
       "\n",
       "\n",
       "        [[[        nan,         nan,         nan,         nan]]]],\n",
       "\n",
       "\n",
       "\n",
       "       [[[[18.95856   ,         nan,         nan,         nan]]],\n",
       "\n",
       "\n",
       "        [[[        nan,         nan,         nan,         nan]]]],\n",
       "\n",
       "\n",
       "\n",
       "       [[[[        nan,         nan,         nan,         nan]]],\n",
       "\n",
       "\n",
       "        [[[27.48211091,         nan,         nan,         nan]]]],\n",
       "\n",
       "\n",
       "...\n",
       "\n",
       "\n",
       "       [[[[        nan,         nan,         nan,         nan]]],\n",
       "\n",
       "\n",
       "        [[[        nan,         nan,  6.54508   ,         nan]]]],\n",
       "\n",
       "\n",
       "\n",
       "       [[[[        nan,         nan,         nan,         nan]]],\n",
       "\n",
       "\n",
       "        [[[        nan,         nan,         nan,  5.90633   ]]]],\n",
       "\n",
       "\n",
       "\n",
       "       [[[[        nan,         nan,         nan, 33.08548   ]]],\n",
       "\n",
       "\n",
       "        [[[        nan,         nan,         nan,         nan]]]]])</pre></div></li></ul></div></li><li class='xr-section-item'><input id='section-2f63e1c2-766e-497a-b31c-2b676dfab3f5' class='xr-section-summary-in' type='checkbox'  ><label for='section-2f63e1c2-766e-497a-b31c-2b676dfab3f5' class='xr-section-summary' >Indexes: <span>(5)</span></label><div class='xr-section-inline-details'></div><div class='xr-section-details'><ul class='xr-var-list'><li class='xr-var-item'><div class='xr-index-name'><div>time</div></div><div class='xr-index-preview'>PandasIndex</div><div></div><input id='index-79372f56-42da-4c5d-af3e-3e20d691617e' class='xr-index-data-in' type='checkbox'/><label for='index-79372f56-42da-4c5d-af3e-3e20d691617e' title='Show/Hide index repr'><svg class='icon xr-icon-database'><use xlink:href='#icon-database'></use></svg></label><div class='xr-index-data'><pre>PandasIndex(DatetimeIndex([&#x27;1997-02-21&#x27;, &#x27;1997-06-15&#x27;, &#x27;1997-06-16&#x27;, &#x27;1997-09-04&#x27;,\n",
       "               &#x27;1997-09-05&#x27;, &#x27;1998-02-27&#x27;, &#x27;1998-02-28&#x27;, &#x27;1998-06-13&#x27;,\n",
       "               &#x27;1998-09-05&#x27;, &#x27;1999-02-18&#x27;, &#x27;1999-09-02&#x27;, &#x27;2000-06-09&#x27;,\n",
       "               &#x27;2000-09-14&#x27;, &#x27;2001-02-12&#x27;, &#x27;2002-02-13&#x27;, &#x27;2002-07-05&#x27;,\n",
       "               &#x27;2002-09-03&#x27;, &#x27;2003-02-12&#x27;, &#x27;2003-06-03&#x27;, &#x27;2003-09-06&#x27;,\n",
       "               &#x27;2003-09-07&#x27;, &#x27;2004-02-24&#x27;, &#x27;2004-06-07&#x27;, &#x27;2004-08-26&#x27;,\n",
       "               &#x27;2005-02-18&#x27;, &#x27;2005-06-07&#x27;, &#x27;2005-08-23&#x27;, &#x27;2006-02-13&#x27;,\n",
       "               &#x27;2006-07-17&#x27;, &#x27;2006-09-28&#x27;, &#x27;2007-02-15&#x27;, &#x27;2007-06-07&#x27;,\n",
       "               &#x27;2007-08-22&#x27;, &#x27;2008-02-10&#x27;, &#x27;2008-06-08&#x27;, &#x27;2008-08-21&#x27;,\n",
       "               &#x27;2009-02-05&#x27;, &#x27;2009-06-14&#x27;, &#x27;2009-08-27&#x27;, &#x27;2010-06-14&#x27;,\n",
       "               &#x27;2010-08-26&#x27;, &#x27;2011-02-16&#x27;, &#x27;2011-06-13&#x27;, &#x27;2011-08-26&#x27;,\n",
       "               &#x27;2012-02-15&#x27;, &#x27;2012-06-03&#x27;, &#x27;2012-08-24&#x27;, &#x27;2013-02-13&#x27;,\n",
       "               &#x27;2013-06-18&#x27;, &#x27;2013-08-30&#x27;, &#x27;2014-06-17&#x27;, &#x27;2014-08-26&#x27;,\n",
       "               &#x27;2015-02-19&#x27;, &#x27;2015-06-17&#x27;, &#x27;2015-08-28&#x27;, &#x27;2016-02-16&#x27;,\n",
       "               &#x27;2016-06-14&#x27;, &#x27;2016-08-26&#x27;, &#x27;2017-02-12&#x27;, &#x27;2017-06-13&#x27;,\n",
       "               &#x27;2017-08-24&#x27;, &#x27;2018-02-26&#x27;, &#x27;2018-06-13&#x27;, &#x27;2018-09-20&#x27;,\n",
       "               &#x27;2019-02-12&#x27;, &#x27;2019-06-11&#x27;, &#x27;2019-08-23&#x27;, &#x27;2020-02-16&#x27;,\n",
       "               &#x27;2020-08-20&#x27;],\n",
       "              dtype=&#x27;datetime64[ns]&#x27;, name=&#x27;time&#x27;, freq=None))</pre></div></li><li class='xr-var-item'><div class='xr-index-name'><div>is_day</div></div><div class='xr-index-preview'>PandasIndex</div><div></div><input id='index-02710187-c696-4d3f-b8be-599b4c56a9a3' class='xr-index-data-in' type='checkbox'/><label for='index-02710187-c696-4d3f-b8be-599b4c56a9a3' title='Show/Hide index repr'><svg class='icon xr-icon-database'><use xlink:href='#icon-database'></use></svg></label><div class='xr-index-data'><pre>PandasIndex(Index([False, True], dtype=&#x27;bool&#x27;, name=&#x27;is_day&#x27;))</pre></div></li><li class='xr-var-item'><div class='xr-index-name'><div>latitude</div></div><div class='xr-index-preview'>PandasIndex</div><div></div><input id='index-fd6fddd9-d5e2-49da-b235-4a92d3d67f50' class='xr-index-data-in' type='checkbox'/><label for='index-fd6fddd9-d5e2-49da-b235-4a92d3d67f50' title='Show/Hide index repr'><svg class='icon xr-icon-database'><use xlink:href='#icon-database'></use></svg></label><div class='xr-index-data'><pre>PandasIndex(Index([50], dtype=&#x27;int64&#x27;, name=&#x27;latitude&#x27;))</pre></div></li><li class='xr-var-item'><div class='xr-index-name'><div>longitude</div></div><div class='xr-index-preview'>PandasIndex</div><div></div><input id='index-5af7b97e-4d3e-4a36-8cab-7f1081ecfcba' class='xr-index-data-in' type='checkbox'/><label for='index-5af7b97e-4d3e-4a36-8cab-7f1081ecfcba' title='Show/Hide index repr'><svg class='icon xr-icon-database'><use xlink:href='#icon-database'></use></svg></label><div class='xr-index-data'><pre>PandasIndex(Index([-150], dtype=&#x27;int64&#x27;, name=&#x27;longitude&#x27;))</pre></div></li><li class='xr-var-item'><div class='xr-index-name'><div>depth</div></div><div class='xr-index-preview'>PandasIndex</div><div></div><input id='index-0a0c7c0b-29ee-4475-a72a-372b2a479239' class='xr-index-data-in' type='checkbox'/><label for='index-0a0c7c0b-29ee-4475-a72a-372b2a479239' title='Show/Hide index repr'><svg class='icon xr-icon-database'><use xlink:href='#icon-database'></use></svg></label><div class='xr-index-data'><pre>PandasIndex(CategoricalIndex([150, 200, 250, 300], categories=[50, 100, 150, 200, 250, 300, 350, 400], ordered=True, dtype=&#x27;category&#x27;, name=&#x27;depth&#x27;))</pre></div></li></ul></div></li><li class='xr-section-item'><input id='section-3f404ad1-c85b-4e35-b5d2-5ee376a2dae4' class='xr-section-summary-in' type='checkbox' disabled ><label for='section-3f404ad1-c85b-4e35-b5d2-5ee376a2dae4' class='xr-section-summary'  title='Expand/collapse section'>Attributes: <span>(0)</span></label><div class='xr-section-inline-details'></div><div class='xr-section-details'><dl class='xr-attrs'></dl></div></li></ul></div></div>"
      ],
      "text/plain": [
       "<xarray.Dataset> Size: 40kB\n",
       "Dimensions:               (time: 69, is_day: 2, latitude: 1, longitude: 1,\n",
       "                           depth: 4)\n",
       "Coordinates:\n",
       "  * time                  (time) datetime64[ns] 552B 1997-02-21 ... 2020-08-20\n",
       "  * is_day                (is_day) bool 2B False True\n",
       "  * latitude              (latitude) int64 8B 50\n",
       "  * longitude             (longitude) int64 8B -150\n",
       "  * depth                 (depth) int64 32B 150 200 250 300\n",
       "Data variables:\n",
       "    crustaceans           (time, is_day, latitude, longitude, depth) float64 4kB ...\n",
       "    larvae                (time, is_day, latitude, longitude, depth) float64 4kB ...\n",
       "    thaliaceans           (time, is_day, latitude, longitude, depth) float64 4kB ...\n",
       "    chaetognaths          (time, is_day, latitude, longitude, depth) float64 4kB ...\n",
       "    pteropods             (time, is_day, latitude, longitude, depth) float64 4kB ...\n",
       "    small_gelatinous      (time, is_day, latitude, longitude, depth) float64 4kB ...\n",
       "    foram                 (time, is_day, latitude, longitude, depth) float64 4kB ...\n",
       "    other                 (time, is_day, latitude, longitude, depth) float64 4kB ...\n",
       "    total_non_gelatinous  (time, is_day, latitude, longitude, depth) float64 4kB ..."
      ]
     },
     "execution_count": 19,
     "metadata": {},
     "output_type": "execute_result"
    }
   ],
   "source": [
    "preprocessed_data[\"time\"].attrs = {\n",
    "    \"standard_name\": \"time\",\n",
    "    \"long_name\": \"time\",\n",
    "    \"axis\": \"T\",\n",
    "}\n",
    "\n",
    "preprocessed_data[\"is_day\"].attrs = {\n",
    "    \"flag_values\": f\"{[True, False]}\",\n",
    "    \"flag_meanings\": \"day night\",\n",
    "    \"standard_name\": \"is_day\",\n",
    "    \"long_name\": \"Is day\",\n",
    "    \"description\": \"Flag to indicate if the time is during the day or night\",\n",
    "}\n",
    "\n",
    "preprocessed_data[\"latitude\"].attrs = {\n",
    "    \"standard_name\": \"latitude\",\n",
    "    \"long_name\": \"latitude\",\n",
    "    \"axis\": \"Y\",\n",
    "    \"units\": \"degrees_north\",\n",
    "}\n",
    "preprocessed_data[\"longitude\"].attrs = {\n",
    "    \"standard_name\": \"longitude\",\n",
    "    \"long_name\": \"longitude\",\n",
    "    \"axis\": \"X\",\n",
    "    \"units\": \"degrees_east\",\n",
    "}\n",
    "preprocessed_data[\"depth\"].attrs = {\n",
    "    \"standard_name\": \"depth\",\n",
    "    \"long_name\": \"depth\",\n",
    "    \"axis\": \"Z\",\n",
    "    \"units\": \"m\",\n",
    "}\n",
    "\n",
    "preprocessed_data"
   ]
  },
  {
   "cell_type": "markdown",
   "metadata": {},
   "source": [
    "## Export preprocessed data\n",
    "\n",
    "---\n"
   ]
  },
  {
   "cell_type": "code",
   "execution_count": 22,
   "metadata": {},
   "outputs": [],
   "source": [
    "try:\n",
    "    preprocessed_data.pint.quantify()\n",
    "except Exception as e:\n",
    "    print(e)\n",
    "    print(\"Some units cannot be quantified and are only here for information.\")"
   ]
  },
  {
   "cell_type": "code",
   "execution_count": 23,
   "metadata": {},
   "outputs": [
    {
     "data": {
      "text/plain": [
       "<xarray.backends.zarr.ZarrStore at 0x168bc8240>"
      ]
     },
     "execution_count": 23,
     "metadata": {},
     "output_type": "execute_result"
    }
   ],
   "source": [
    "preprocessed_data.to_zarr(\"../../3_post_processed/papa_zooplankton.zarr\")"
   ]
  }
 ],
 "metadata": {
  "kernelspec": {
   "display_name": ".venv",
   "language": "python",
   "name": "python3"
  },
  "language_info": {
   "codemirror_mode": {
    "name": "ipython",
    "version": 3
   },
   "file_extension": ".py",
   "mimetype": "text/x-python",
   "name": "python",
   "nbconvert_exporter": "python",
   "pygments_lexer": "ipython3",
   "version": "3.12.5"
  }
 },
 "nbformat": 4,
 "nbformat_minor": 2
}
