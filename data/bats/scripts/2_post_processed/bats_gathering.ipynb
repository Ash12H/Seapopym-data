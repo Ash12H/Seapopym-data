{
 "cells": [
  {
   "cell_type": "code",
   "execution_count": null,
   "metadata": {},
   "outputs": [],
   "source": [
    "import pandas as pd\n",
    "import numpy as np\n",
    "import plotly.express as px\n",
    "import plotly.figure_factory as ff\n",
    "import xarray as xr\n",
    "import matplotlib.pyplot as plt\n",
    "\n",
    "pd.options.plotting.backend = \"plotly\""
   ]
  },
  {
   "cell_type": "markdown",
   "metadata": {},
   "source": [
    "## Load dataset\n",
    "\n",
    "---\n"
   ]
  },
  {
   "cell_type": "code",
   "execution_count": null,
   "metadata": {},
   "outputs": [],
   "source": [
    "bats_bottle = xr.open_zarr(\"../../2_processed/bats_bottle.zarr\")\n",
    "bats_primary_production = xr.open_zarr(\"../../2_processed/bats_primary_production.zarr\")\n",
    "bats_zooplankton = xr.open_zarr(\"../../2_processed/bats_zooplankton.zarr\")"
   ]
  },
  {
   "cell_type": "code",
   "execution_count": null,
   "metadata": {},
   "outputs": [],
   "source": [
    "bats_zooplankton"
   ]
  },
  {
   "cell_type": "code",
   "execution_count": null,
   "metadata": {},
   "outputs": [],
   "source": [
    "bats_primary_production"
   ]
  },
  {
   "cell_type": "code",
   "execution_count": null,
   "metadata": {},
   "outputs": [],
   "source": [
    "bats_bottle"
   ]
  },
  {
   "cell_type": "markdown",
   "metadata": {},
   "source": [
    "## Manage index\n",
    "\n",
    "---\n"
   ]
  },
  {
   "cell_type": "code",
   "execution_count": null,
   "metadata": {},
   "outputs": [],
   "source": [
    "times = pd.DataFrame(\n",
    "    {\n",
    "        \"btl_time\": bats_bottle.time.to_series(),\n",
    "        \"zpk_time\": bats_zooplankton.time.to_series(),\n",
    "        \"pp_time\": bats_primary_production.time.to_series(),\n",
    "    }\n",
    ")\n",
    "fig = px.histogram(\n",
    "    times,\n",
    "    x=[\"btl_time\", \"zpk_time\", \"pp_time\"],\n",
    "    title=\"time distribution\",\n",
    "    opacity=0.5,\n",
    "    log_y=True,\n",
    "    nbins=30,\n",
    "    barmode=\"overlay\",\n",
    "    marginal=\"box\",\n",
    "    labels={\"value\": \"time (m)\", \"variable\": \"Datasets\"},\n",
    ")\n",
    "\n",
    "fig.show()"
   ]
  },
  {
   "cell_type": "code",
   "execution_count": null,
   "metadata": {},
   "outputs": [],
   "source": [
    "depths = pd.DataFrame(\n",
    "    {\n",
    "        \"ctd_depth\": bats_bottle.depth.to_series(),\n",
    "        \"zpk_depth\": bats_zooplankton.depth.to_series(),\n",
    "        \"pp_depth\": bats_primary_production.depth.to_series(),\n",
    "    }\n",
    ")\n",
    "px.box(\n",
    "    depths.stack().reset_index().rename(columns={\"level_1\": \"dataset\"}),\n",
    "    x=\"dataset\",\n",
    "    y=\"depth\",\n",
    ")"
   ]
  },
  {
   "cell_type": "markdown",
   "metadata": {},
   "source": [
    "## Migrant and resident\n"
   ]
  },
  {
   "cell_type": "code",
   "execution_count": null,
   "metadata": {},
   "outputs": [],
   "source": [
    "with xr.set_options(keep_attrs=True):\n",
    "    night_condition = (bats_zooplankton.time.dt.hour > 18) | (\n",
    "        bats_zooplankton.time.dt.hour < 6\n",
    "    )\n",
    "\n",
    "    bats_zooplankton = bats_zooplankton.assign_coords(is_night=night_condition)\n",
    "    bats_zooplankton.is_night.attrs = {\n",
    "        \"flag_values\": f\"{[True, False]}\",\n",
    "        \"flag_meanings\": \"night day\",\n",
    "        \"standard_name\": \"is_night\",\n",
    "        \"long_name\": \"Is night\",\n",
    "    }\n",
    "    zpk_resident = (\n",
    "        bats_zooplankton.swap_dims({\"time\": \"is_night\"})\n",
    "        .sel(is_night=False)\n",
    "        .swap_dims({\"is_night\": \"time\"})\n",
    "        .drop_vars(\"is_night\")\n",
    "    )\n",
    "\n",
    "    zpk_migrant = (\n",
    "        bats_zooplankton.swap_dims({\"time\": \"is_night\"})\n",
    "        .sel(is_night=True)\n",
    "        .swap_dims({\"is_night\": \"time\"})\n",
    "        .drop_vars(\"is_night\")\n",
    "    )\n",
    "    zpk_resident = zpk_resident.resample(time=\"1D\").mean().dropna(\"time\", how=\"all\")\n",
    "    zpk_migrant = zpk_migrant.resample(time=\"1D\").mean().dropna(\"time\", how=\"all\")\n",
    "    zpk_migrant = zpk_migrant - zpk_resident\n",
    "    zpk_migrant = xr.where(zpk_migrant > 0, zpk_migrant, 0).dropna(\"time\", how=\"all\")\n",
    "    zpk_migrant = zpk_migrant[\n",
    "        [\"dry_weight_vol_water_ratio\", \"wet_weight_vol_water_ratio\"]\n",
    "    ].rename(\n",
    "        {\n",
    "            \"dry_weight_vol_water_ratio\": \"dry_weight_migrant\",\n",
    "            \"wet_weight_vol_water_ratio\": \"wet_weight_migrant\",\n",
    "        }\n",
    "    )\n",
    "    zpk_resident = zpk_resident[\n",
    "        [\"dry_weight_vol_water_ratio\", \"wet_weight_vol_water_ratio\"]\n",
    "    ].rename(\n",
    "        {\n",
    "            \"dry_weight_vol_water_ratio\": \"dry_weight_resident\",\n",
    "            \"wet_weight_vol_water_ratio\": \"wet_weight_resident\",\n",
    "        }\n",
    "    )\n",
    "    bats_zooplankton = xr.merge([zpk_migrant, zpk_resident])\n",
    "    # reorder dims as : time -> lat -> lon -> depth -> sieve_size\n",
    "    bats_zooplankton = bats_zooplankton.transpose(\n",
    "        \"sieve_size\", \"time\", \"latitude\", \"longitude\", \"depth\"\n",
    "    )\n",
    "bats_zooplankton"
   ]
  },
  {
   "cell_type": "markdown",
   "metadata": {},
   "source": [
    "## Gathering\n",
    "\n",
    "---\n"
   ]
  },
  {
   "cell_type": "markdown",
   "metadata": {},
   "source": [
    "# TODO : Select only the wanted variables in each dataset\n"
   ]
  },
  {
   "cell_type": "code",
   "execution_count": null,
   "metadata": {},
   "outputs": [],
   "source": [
    "final_dataset = xr.merge([bats_zooplankton, bats_primary_production, bats_bottle])\n",
    "final_dataset"
   ]
  }
 ],
 "metadata": {
  "kernelspec": {
   "display_name": ".venv",
   "language": "python",
   "name": "python3"
  },
  "language_info": {
   "codemirror_mode": {
    "name": "ipython",
    "version": 3
   },
   "file_extension": ".py",
   "mimetype": "text/x-python",
   "name": "python",
   "nbconvert_exporter": "python",
   "pygments_lexer": "ipython3",
   "version": "3.12.3"
  }
 },
 "nbformat": 4,
 "nbformat_minor": 2
}
