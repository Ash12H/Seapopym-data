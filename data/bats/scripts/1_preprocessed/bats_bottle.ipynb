{
 "cells": [
  {
   "cell_type": "markdown",
   "metadata": {},
   "source": [
    "# Bottle data in bats\n"
   ]
  },
  {
   "cell_type": "code",
   "execution_count": null,
   "metadata": {},
   "outputs": [],
   "source": [
    "import pandas as pd\n",
    "import numpy as np\n",
    "import plotly.express as px\n",
    "\n",
    "pd.options.plotting.backend = \"plotly\""
   ]
  },
  {
   "cell_type": "markdown",
   "metadata": {},
   "source": [
    "## Load raw data\n",
    "\n",
    "---\n"
   ]
  },
  {
   "cell_type": "code",
   "execution_count": null,
   "metadata": {},
   "outputs": [],
   "source": [
    "INDEX = {\n",
    "    \"id\": int,\n",
    "    \"date\": int,\n",
    "    \"date_decy\": float,\n",
    "    \"time\": int,\n",
    "    \"lat\": float,\n",
    "    \"lon\": float,\n",
    "    \"quality_flag\": int,\n",
    "    \"depth\": float,\n",
    "}\n",
    "DATA = {\n",
    "    \"temperature\": float,\n",
    "    \"ctd salinity\": float,\n",
    "    \"salinity\": float,\n",
    "    \"sigma-theta\": float,\n",
    "    \"oxygen\": float,\n",
    "    \"oxygen fix temp\": float,\n",
    "    \"oxy anomaly\": float,\n",
    "    \"dissolved inorganic carbon\": float,\n",
    "    \"alkalinity\": float,\n",
    "    \"nitrate+nitrite\": float,\n",
    "    \"nitrite\": float,\n",
    "    \"phosphate\": float,\n",
    "    \"silicate\": float,\n",
    "    \"poc\": float,\n",
    "    \"pon\": float,\n",
    "    \"toc\": float,\n",
    "    \"tn\": float,\n",
    "    \"bacteria enumeration\": float,\n",
    "    \"pop\": float,\n",
    "    \"total dissolved phosphorus\": float,\n",
    "    \"Low-level phosphorus\": float,\n",
    "    \"particulate biogenic silica\": float,\n",
    "    \"particulate lithogenic silica\": float,\n",
    "    \"prochlorococcus\": float,\n",
    "    \"synechococcus\": float,\n",
    "    \"picoeukaryotes\": float,\n",
    "    \"nanoeukaryotes\": float,\n",
    "}\n",
    "HEADER = list(INDEX.keys()) + list(DATA.keys())\n",
    "DTYPE = {**INDEX, **DATA}"
   ]
  },
  {
   "cell_type": "code",
   "execution_count": null,
   "metadata": {},
   "outputs": [],
   "source": [
    "# Set the data type of each column manualy\n",
    "raw_data = pd.read_csv(\n",
    "    \"../../1_raw/bats_bottle.txt\",\n",
    "    skiprows=59,\n",
    "    sep=\"\\t\",\n",
    "    names=HEADER,\n",
    "    dtype=DTYPE,\n",
    ")\n",
    "raw_data[list(DATA.keys())] = raw_data[list(DATA.keys())].apply(\n",
    "    pd.to_numeric, errors=\"coerce\"\n",
    ")\n",
    "raw_data.head()"
   ]
  },
  {
   "cell_type": "markdown",
   "metadata": {},
   "source": [
    "We replace NaN values in time column with 0.\n"
   ]
  },
  {
   "cell_type": "code",
   "execution_count": null,
   "metadata": {},
   "outputs": [],
   "source": [
    "# convert -999 to NaN\n",
    "raw_data = raw_data.replace(-999, np.nan)\n",
    "# replace NaN with 0 in time column because day/night cycle is not relevant here\n",
    "raw_data[\"time\"] = raw_data[\"time\"].fillna(0)"
   ]
  },
  {
   "cell_type": "code",
   "execution_count": null,
   "metadata": {},
   "outputs": [],
   "source": [
    "raw_data.info()"
   ]
  },
  {
   "cell_type": "markdown",
   "metadata": {},
   "source": [
    "## Clean data\n",
    "\n",
    "---\n"
   ]
  },
  {
   "cell_type": "markdown",
   "metadata": {},
   "source": [
    "Remove the data when time and position are not known.\n"
   ]
  },
  {
   "cell_type": "code",
   "execution_count": null,
   "metadata": {},
   "outputs": [],
   "source": [
    "raw_data = raw_data.dropna(subset=list(INDEX.keys()))"
   ]
  },
  {
   "cell_type": "markdown",
   "metadata": {},
   "source": [
    "We only select the data with a flag equal to 2 (verified/acceptable).\n"
   ]
  },
  {
   "cell_type": "code",
   "execution_count": null,
   "metadata": {},
   "outputs": [],
   "source": [
    "print(f\"Count QF flag : {np.unique(raw_data[\"quality_flag\"], return_counts=True)}\")\n",
    "# Drop when QF is not 2\n",
    "raw_data = raw_data[raw_data[\"quality_flag\"] == 2]"
   ]
  },
  {
   "cell_type": "code",
   "execution_count": null,
   "metadata": {},
   "outputs": [],
   "source": [
    "fig = (\n",
    "    raw_data.isna()\n",
    "    .sum()\n",
    "    .plot(\n",
    "        kind=\"bar\",\n",
    "        title=f\"Missing values per column for a total of {len(raw_data)} entries\",\n",
    "        labels=dict(\n",
    "            index=\"Column\",\n",
    "            value=\"Number of missing values\",\n",
    "        ),\n",
    "    )\n",
    ")\n",
    "# Rotate x-axis labels by 45 degrees\n",
    "fig.update_xaxes(tickangle=-45)\n",
    "# multiply the figure ratio of height by 2\n",
    "fig.update_layout(height=500)\n",
    "# Remove legend\n",
    "fig.update_layout(showlegend=False)\n",
    "fig.show()"
   ]
  },
  {
   "cell_type": "markdown",
   "metadata": {},
   "source": [
    "## Manage date\n",
    "\n",
    "---\n"
   ]
  },
  {
   "cell_type": "code",
   "execution_count": null,
   "metadata": {},
   "outputs": [],
   "source": [
    "# Format is yearmonthday : yyyymmdd\n",
    "raw_data[\"date\"] = pd.to_datetime(raw_data[\"date\"], format=\"%Y%m%d\")\n",
    "# Format is hourminute : hhmm\n",
    "raw_data[\"time\"] = raw_data[\"time\"].astype(int).apply(lambda x: str(x).zfill(4))\n",
    "raw_data[\"time\"] = pd.to_timedelta(\n",
    "    raw_data[\"time\"].str[:2] + \":\" + raw_data[\"time\"].str[2:] + \":00\"\n",
    ")\n",
    "raw_data[\"date\"] = raw_data[\"date\"] + raw_data[\"time\"]"
   ]
  },
  {
   "cell_type": "markdown",
   "metadata": {},
   "source": [
    "## Manage space\n",
    "\n",
    "---\n"
   ]
  },
  {
   "cell_type": "markdown",
   "metadata": {},
   "source": [
    "Standard longitude should be between -180 and 180 degrees and expressed as degrees_east.\n"
   ]
  },
  {
   "cell_type": "code",
   "execution_count": null,
   "metadata": {},
   "outputs": [],
   "source": [
    "raw_data[\"lon\"] = -raw_data[\"lon\"]"
   ]
  },
  {
   "cell_type": "code",
   "execution_count": null,
   "metadata": {},
   "outputs": [],
   "source": [
    "fig = raw_data[\"lon\"].plot(kind=\"hist\", title=\"Longitude distribution\", nbins=100)\n",
    "# change the axis name\n",
    "fig.update_xaxes(title_text=\"Longitude (degree_east)\")\n",
    "fig.update_yaxes(title_text=\"Count\")\n",
    "fig.show()"
   ]
  },
  {
   "cell_type": "code",
   "execution_count": null,
   "metadata": {},
   "outputs": [],
   "source": [
    "fig = raw_data[\"lat\"].plot(kind=\"hist\", title=\"Latitude distribution\", nbins=100)\n",
    "# change the axis name\n",
    "fig.update_xaxes(title_text=\"Latitude (degree_north)\")\n",
    "fig.update_yaxes(title_text=\"Count\")\n",
    "fig.show()"
   ]
  },
  {
   "cell_type": "code",
   "execution_count": null,
   "metadata": {},
   "outputs": [],
   "source": [
    "raw_data[\"depth\"].astype(float).describe()"
   ]
  },
  {
   "cell_type": "code",
   "execution_count": null,
   "metadata": {},
   "outputs": [],
   "source": [
    "raw_data[\"depth\"].astype(float).plot.hist(nbins=100)"
   ]
  },
  {
   "cell_type": "markdown",
   "metadata": {},
   "source": [
    "## Produce preprocessed data\n",
    "\n",
    "---\n"
   ]
  },
  {
   "cell_type": "code",
   "execution_count": null,
   "metadata": {},
   "outputs": [],
   "source": [
    "preprocessed_data = pd.DataFrame(\n",
    "    {\n",
    "        \"time\": raw_data[\"date\"],\n",
    "        \"latitude\": raw_data[\"lat\"],\n",
    "        \"longitude\": raw_data[\"lon\"],\n",
    "        \"depth\": raw_data[\"depth\"],\n",
    "        **{k: raw_data[k] for k in DATA.keys()},\n",
    "    }\n",
    ")\n",
    "preprocessed_data.head()"
   ]
  },
  {
   "cell_type": "markdown",
   "metadata": {},
   "source": [
    "## Final plot\n",
    "\n",
    "---\n"
   ]
  },
  {
   "cell_type": "code",
   "execution_count": null,
   "metadata": {},
   "outputs": [],
   "source": [
    "preprocessed_data.describe()"
   ]
  },
  {
   "cell_type": "code",
   "execution_count": null,
   "metadata": {},
   "outputs": [],
   "source": [
    "df_normalized = preprocessed_data.groupby(\n",
    "    [\"time\", \"latitude\", \"longitude\", \"depth\"]\n",
    ").mean()\n",
    "df_normalized = (df_normalized - df_normalized.min()) / (\n",
    "    df_normalized.max() - df_normalized.min()\n",
    ")\n",
    "fig = df_normalized.plot.box()\n",
    "fig.update_xaxes(title_text=\"Variable\")\n",
    "fig.update_yaxes(title_text=\"Normalized values distribution\")\n",
    "fig.show()"
   ]
  },
  {
   "cell_type": "markdown",
   "metadata": {},
   "source": [
    "## Export preprocessed data\n",
    "\n",
    "---\n"
   ]
  },
  {
   "cell_type": "code",
   "execution_count": null,
   "metadata": {},
   "outputs": [],
   "source": [
    "preprocessed_data.to_csv(\"../../2_preprocessed/bats_bottle.csv\")"
   ]
  }
 ],
 "metadata": {
  "kernelspec": {
   "display_name": ".venv",
   "language": "python",
   "name": "python3"
  },
  "language_info": {
   "codemirror_mode": {
    "name": "ipython",
    "version": 3
   },
   "file_extension": ".py",
   "mimetype": "text/x-python",
   "name": "python",
   "nbconvert_exporter": "python",
   "pygments_lexer": "ipython3",
   "version": "3.12.3"
  }
 },
 "nbformat": 4,
 "nbformat_minor": 2
}
