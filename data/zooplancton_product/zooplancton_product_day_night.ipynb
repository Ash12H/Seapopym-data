{
 "cells": [
  {
   "cell_type": "code",
   "execution_count": 59,
   "metadata": {},
   "outputs": [],
   "source": [
    "import xarray as xr\n",
    "import plotly.express as px\n",
    "import plotly.graph_objects as go\n",
    "import pandas as pd\n",
    "import cf_xarray.units  # noqa: F401\n",
    "import pint_xarray  # noqa: F401\n",
    "from datetime import datetime\n",
    "\n",
    "pd.options.plotting.backend = \"plotly\""
   ]
  },
  {
   "cell_type": "markdown",
   "metadata": {},
   "source": [
    "---\n",
    "\n",
    "## Load datasets\n"
   ]
  },
  {
   "cell_type": "code",
   "execution_count": 60,
   "metadata": {},
   "outputs": [
    {
     "data": {
      "text/html": [
       "<div><svg style=\"position: absolute; width: 0; height: 0; overflow: hidden\">\n",
       "<defs>\n",
       "<symbol id=\"icon-database\" viewBox=\"0 0 32 32\">\n",
       "<path d=\"M16 0c-8.837 0-16 2.239-16 5v4c0 2.761 7.163 5 16 5s16-2.239 16-5v-4c0-2.761-7.163-5-16-5z\"></path>\n",
       "<path d=\"M16 17c-8.837 0-16-2.239-16-5v6c0 2.761 7.163 5 16 5s16-2.239 16-5v-6c0 2.761-7.163 5-16 5z\"></path>\n",
       "<path d=\"M16 26c-8.837 0-16-2.239-16-5v6c0 2.761 7.163 5 16 5s16-2.239 16-5v-6c0 2.761-7.163 5-16 5z\"></path>\n",
       "</symbol>\n",
       "<symbol id=\"icon-file-text2\" viewBox=\"0 0 32 32\">\n",
       "<path d=\"M28.681 7.159c-0.694-0.947-1.662-2.053-2.724-3.116s-2.169-2.030-3.116-2.724c-1.612-1.182-2.393-1.319-2.841-1.319h-15.5c-1.378 0-2.5 1.121-2.5 2.5v27c0 1.378 1.122 2.5 2.5 2.5h23c1.378 0 2.5-1.122 2.5-2.5v-19.5c0-0.448-0.137-1.23-1.319-2.841zM24.543 5.457c0.959 0.959 1.712 1.825 2.268 2.543h-4.811v-4.811c0.718 0.556 1.584 1.309 2.543 2.268zM28 29.5c0 0.271-0.229 0.5-0.5 0.5h-23c-0.271 0-0.5-0.229-0.5-0.5v-27c0-0.271 0.229-0.5 0.5-0.5 0 0 15.499-0 15.5 0v7c0 0.552 0.448 1 1 1h7v19.5z\"></path>\n",
       "<path d=\"M23 26h-14c-0.552 0-1-0.448-1-1s0.448-1 1-1h14c0.552 0 1 0.448 1 1s-0.448 1-1 1z\"></path>\n",
       "<path d=\"M23 22h-14c-0.552 0-1-0.448-1-1s0.448-1 1-1h14c0.552 0 1 0.448 1 1s-0.448 1-1 1z\"></path>\n",
       "<path d=\"M23 18h-14c-0.552 0-1-0.448-1-1s0.448-1 1-1h14c0.552 0 1 0.448 1 1s-0.448 1-1 1z\"></path>\n",
       "</symbol>\n",
       "</defs>\n",
       "</svg>\n",
       "<style>/* CSS stylesheet for displaying xarray objects in jupyterlab.\n",
       " *\n",
       " */\n",
       "\n",
       ":root {\n",
       "  --xr-font-color0: var(--jp-content-font-color0, rgba(0, 0, 0, 1));\n",
       "  --xr-font-color2: var(--jp-content-font-color2, rgba(0, 0, 0, 0.54));\n",
       "  --xr-font-color3: var(--jp-content-font-color3, rgba(0, 0, 0, 0.38));\n",
       "  --xr-border-color: var(--jp-border-color2, #e0e0e0);\n",
       "  --xr-disabled-color: var(--jp-layout-color3, #bdbdbd);\n",
       "  --xr-background-color: var(--jp-layout-color0, white);\n",
       "  --xr-background-color-row-even: var(--jp-layout-color1, white);\n",
       "  --xr-background-color-row-odd: var(--jp-layout-color2, #eeeeee);\n",
       "}\n",
       "\n",
       "html[theme=dark],\n",
       "body[data-theme=dark],\n",
       "body.vscode-dark {\n",
       "  --xr-font-color0: rgba(255, 255, 255, 1);\n",
       "  --xr-font-color2: rgba(255, 255, 255, 0.54);\n",
       "  --xr-font-color3: rgba(255, 255, 255, 0.38);\n",
       "  --xr-border-color: #1F1F1F;\n",
       "  --xr-disabled-color: #515151;\n",
       "  --xr-background-color: #111111;\n",
       "  --xr-background-color-row-even: #111111;\n",
       "  --xr-background-color-row-odd: #313131;\n",
       "}\n",
       "\n",
       ".xr-wrap {\n",
       "  display: block !important;\n",
       "  min-width: 300px;\n",
       "  max-width: 700px;\n",
       "}\n",
       "\n",
       ".xr-text-repr-fallback {\n",
       "  /* fallback to plain text repr when CSS is not injected (untrusted notebook) */\n",
       "  display: none;\n",
       "}\n",
       "\n",
       ".xr-header {\n",
       "  padding-top: 6px;\n",
       "  padding-bottom: 6px;\n",
       "  margin-bottom: 4px;\n",
       "  border-bottom: solid 1px var(--xr-border-color);\n",
       "}\n",
       "\n",
       ".xr-header > div,\n",
       ".xr-header > ul {\n",
       "  display: inline;\n",
       "  margin-top: 0;\n",
       "  margin-bottom: 0;\n",
       "}\n",
       "\n",
       ".xr-obj-type,\n",
       ".xr-array-name {\n",
       "  margin-left: 2px;\n",
       "  margin-right: 10px;\n",
       "}\n",
       "\n",
       ".xr-obj-type {\n",
       "  color: var(--xr-font-color2);\n",
       "}\n",
       "\n",
       ".xr-sections {\n",
       "  padding-left: 0 !important;\n",
       "  display: grid;\n",
       "  grid-template-columns: 150px auto auto 1fr 20px 20px;\n",
       "}\n",
       "\n",
       ".xr-section-item {\n",
       "  display: contents;\n",
       "}\n",
       "\n",
       ".xr-section-item input {\n",
       "  display: none;\n",
       "}\n",
       "\n",
       ".xr-section-item input + label {\n",
       "  color: var(--xr-disabled-color);\n",
       "}\n",
       "\n",
       ".xr-section-item input:enabled + label {\n",
       "  cursor: pointer;\n",
       "  color: var(--xr-font-color2);\n",
       "}\n",
       "\n",
       ".xr-section-item input:enabled + label:hover {\n",
       "  color: var(--xr-font-color0);\n",
       "}\n",
       "\n",
       ".xr-section-summary {\n",
       "  grid-column: 1;\n",
       "  color: var(--xr-font-color2);\n",
       "  font-weight: 500;\n",
       "}\n",
       "\n",
       ".xr-section-summary > span {\n",
       "  display: inline-block;\n",
       "  padding-left: 0.5em;\n",
       "}\n",
       "\n",
       ".xr-section-summary-in:disabled + label {\n",
       "  color: var(--xr-font-color2);\n",
       "}\n",
       "\n",
       ".xr-section-summary-in + label:before {\n",
       "  display: inline-block;\n",
       "  content: '►';\n",
       "  font-size: 11px;\n",
       "  width: 15px;\n",
       "  text-align: center;\n",
       "}\n",
       "\n",
       ".xr-section-summary-in:disabled + label:before {\n",
       "  color: var(--xr-disabled-color);\n",
       "}\n",
       "\n",
       ".xr-section-summary-in:checked + label:before {\n",
       "  content: '▼';\n",
       "}\n",
       "\n",
       ".xr-section-summary-in:checked + label > span {\n",
       "  display: none;\n",
       "}\n",
       "\n",
       ".xr-section-summary,\n",
       ".xr-section-inline-details {\n",
       "  padding-top: 4px;\n",
       "  padding-bottom: 4px;\n",
       "}\n",
       "\n",
       ".xr-section-inline-details {\n",
       "  grid-column: 2 / -1;\n",
       "}\n",
       "\n",
       ".xr-section-details {\n",
       "  display: none;\n",
       "  grid-column: 1 / -1;\n",
       "  margin-bottom: 5px;\n",
       "}\n",
       "\n",
       ".xr-section-summary-in:checked ~ .xr-section-details {\n",
       "  display: contents;\n",
       "}\n",
       "\n",
       ".xr-array-wrap {\n",
       "  grid-column: 1 / -1;\n",
       "  display: grid;\n",
       "  grid-template-columns: 20px auto;\n",
       "}\n",
       "\n",
       ".xr-array-wrap > label {\n",
       "  grid-column: 1;\n",
       "  vertical-align: top;\n",
       "}\n",
       "\n",
       ".xr-preview {\n",
       "  color: var(--xr-font-color3);\n",
       "}\n",
       "\n",
       ".xr-array-preview,\n",
       ".xr-array-data {\n",
       "  padding: 0 5px !important;\n",
       "  grid-column: 2;\n",
       "}\n",
       "\n",
       ".xr-array-data,\n",
       ".xr-array-in:checked ~ .xr-array-preview {\n",
       "  display: none;\n",
       "}\n",
       "\n",
       ".xr-array-in:checked ~ .xr-array-data,\n",
       ".xr-array-preview {\n",
       "  display: inline-block;\n",
       "}\n",
       "\n",
       ".xr-dim-list {\n",
       "  display: inline-block !important;\n",
       "  list-style: none;\n",
       "  padding: 0 !important;\n",
       "  margin: 0;\n",
       "}\n",
       "\n",
       ".xr-dim-list li {\n",
       "  display: inline-block;\n",
       "  padding: 0;\n",
       "  margin: 0;\n",
       "}\n",
       "\n",
       ".xr-dim-list:before {\n",
       "  content: '(';\n",
       "}\n",
       "\n",
       ".xr-dim-list:after {\n",
       "  content: ')';\n",
       "}\n",
       "\n",
       ".xr-dim-list li:not(:last-child):after {\n",
       "  content: ',';\n",
       "  padding-right: 5px;\n",
       "}\n",
       "\n",
       ".xr-has-index {\n",
       "  font-weight: bold;\n",
       "}\n",
       "\n",
       ".xr-var-list,\n",
       ".xr-var-item {\n",
       "  display: contents;\n",
       "}\n",
       "\n",
       ".xr-var-item > div,\n",
       ".xr-var-item label,\n",
       ".xr-var-item > .xr-var-name span {\n",
       "  background-color: var(--xr-background-color-row-even);\n",
       "  margin-bottom: 0;\n",
       "}\n",
       "\n",
       ".xr-var-item > .xr-var-name:hover span {\n",
       "  padding-right: 5px;\n",
       "}\n",
       "\n",
       ".xr-var-list > li:nth-child(odd) > div,\n",
       ".xr-var-list > li:nth-child(odd) > label,\n",
       ".xr-var-list > li:nth-child(odd) > .xr-var-name span {\n",
       "  background-color: var(--xr-background-color-row-odd);\n",
       "}\n",
       "\n",
       ".xr-var-name {\n",
       "  grid-column: 1;\n",
       "}\n",
       "\n",
       ".xr-var-dims {\n",
       "  grid-column: 2;\n",
       "}\n",
       "\n",
       ".xr-var-dtype {\n",
       "  grid-column: 3;\n",
       "  text-align: right;\n",
       "  color: var(--xr-font-color2);\n",
       "}\n",
       "\n",
       ".xr-var-preview {\n",
       "  grid-column: 4;\n",
       "}\n",
       "\n",
       ".xr-index-preview {\n",
       "  grid-column: 2 / 5;\n",
       "  color: var(--xr-font-color2);\n",
       "}\n",
       "\n",
       ".xr-var-name,\n",
       ".xr-var-dims,\n",
       ".xr-var-dtype,\n",
       ".xr-preview,\n",
       ".xr-attrs dt {\n",
       "  white-space: nowrap;\n",
       "  overflow: hidden;\n",
       "  text-overflow: ellipsis;\n",
       "  padding-right: 10px;\n",
       "}\n",
       "\n",
       ".xr-var-name:hover,\n",
       ".xr-var-dims:hover,\n",
       ".xr-var-dtype:hover,\n",
       ".xr-attrs dt:hover {\n",
       "  overflow: visible;\n",
       "  width: auto;\n",
       "  z-index: 1;\n",
       "}\n",
       "\n",
       ".xr-var-attrs,\n",
       ".xr-var-data,\n",
       ".xr-index-data {\n",
       "  display: none;\n",
       "  background-color: var(--xr-background-color) !important;\n",
       "  padding-bottom: 5px !important;\n",
       "}\n",
       "\n",
       ".xr-var-attrs-in:checked ~ .xr-var-attrs,\n",
       ".xr-var-data-in:checked ~ .xr-var-data,\n",
       ".xr-index-data-in:checked ~ .xr-index-data {\n",
       "  display: block;\n",
       "}\n",
       "\n",
       ".xr-var-data > table {\n",
       "  float: right;\n",
       "}\n",
       "\n",
       ".xr-var-name span,\n",
       ".xr-var-data,\n",
       ".xr-index-name div,\n",
       ".xr-index-data,\n",
       ".xr-attrs {\n",
       "  padding-left: 25px !important;\n",
       "}\n",
       "\n",
       ".xr-attrs,\n",
       ".xr-var-attrs,\n",
       ".xr-var-data,\n",
       ".xr-index-data {\n",
       "  grid-column: 1 / -1;\n",
       "}\n",
       "\n",
       "dl.xr-attrs {\n",
       "  padding: 0;\n",
       "  margin: 0;\n",
       "  display: grid;\n",
       "  grid-template-columns: 125px auto;\n",
       "}\n",
       "\n",
       ".xr-attrs dt,\n",
       ".xr-attrs dd {\n",
       "  padding: 0;\n",
       "  margin: 0;\n",
       "  float: left;\n",
       "  padding-right: 10px;\n",
       "  width: auto;\n",
       "}\n",
       "\n",
       ".xr-attrs dt {\n",
       "  font-weight: normal;\n",
       "  grid-column: 1;\n",
       "}\n",
       "\n",
       ".xr-attrs dt:hover span {\n",
       "  display: inline-block;\n",
       "  background: var(--xr-background-color);\n",
       "  padding-right: 10px;\n",
       "}\n",
       "\n",
       ".xr-attrs dd {\n",
       "  grid-column: 2;\n",
       "  white-space: pre-wrap;\n",
       "  word-break: break-all;\n",
       "}\n",
       "\n",
       ".xr-icon-database,\n",
       ".xr-icon-file-text2,\n",
       ".xr-no-icon {\n",
       "  display: inline-block;\n",
       "  vertical-align: middle;\n",
       "  width: 1em;\n",
       "  height: 1.5em !important;\n",
       "  stroke-width: 0;\n",
       "  stroke: currentColor;\n",
       "  fill: currentColor;\n",
       "}\n",
       "</style><pre class='xr-text-repr-fallback'>&lt;xarray.Dataset&gt; Size: 16MB\n",
       "Dimensions:                        (time: 4428, depth: 8, latitude: 1,\n",
       "                                    longitude: 1, is_day: 2, sieve_size: 5)\n",
       "Coordinates:\n",
       "  * depth                          (depth) float64 64B 50.0 100.0 ... 400.0\n",
       "  * is_day                         (is_day) bool 2B False True\n",
       "  * latitude                       (latitude) float64 8B 31.6\n",
       "  * longitude                      (longitude) float64 8B -64.2\n",
       "  * sieve_size                     (sieve_size) float64 40B 0.2 0.5 1.0 2.0 5.0\n",
       "  * time                           (time) datetime64[ns] 35kB 1988-10-21T04:5...\n",
       "Data variables: (12/37)\n",
       "    CO2                            (time, depth, latitude, longitude) float64 283kB ...\n",
       "    CTD_salinity                   (time, depth, latitude, longitude) float64 283kB ...\n",
       "    POC                            (time, depth, latitude, longitude) float64 283kB ...\n",
       "    PON                            (time, depth, latitude, longitude) float64 283kB ...\n",
       "    POP                            (time, depth, latitude, longitude) float64 283kB ...\n",
       "    TN                             (time, depth, latitude, longitude) float64 283kB ...\n",
       "    ...                             ...\n",
       "    silicate                       (time, depth, latitude, longitude) float64 283kB ...\n",
       "    synechococcus                  (time, depth, latitude, longitude) float64 283kB ...\n",
       "    t0                             (time, depth, latitude, longitude) float64 283kB ...\n",
       "    temp                           (time, depth, latitude, longitude) float64 283kB ...\n",
       "    total_dissolved_phosphorus     (time, depth, latitude, longitude) float64 283kB ...\n",
       "    wet_weight_vol_water_ratio     (time, is_day, depth, latitude, longitude, sieve_size) float64 3MB ...</pre><div class='xr-wrap' style='display:none'><div class='xr-header'><div class='xr-obj-type'>xarray.Dataset</div></div><ul class='xr-sections'><li class='xr-section-item'><input id='section-368a31e5-4b7e-4539-909f-b2c1db2071cc' class='xr-section-summary-in' type='checkbox' disabled ><label for='section-368a31e5-4b7e-4539-909f-b2c1db2071cc' class='xr-section-summary'  title='Expand/collapse section'>Dimensions:</label><div class='xr-section-inline-details'><ul class='xr-dim-list'><li><span class='xr-has-index'>time</span>: 4428</li><li><span class='xr-has-index'>depth</span>: 8</li><li><span class='xr-has-index'>latitude</span>: 1</li><li><span class='xr-has-index'>longitude</span>: 1</li><li><span class='xr-has-index'>is_day</span>: 2</li><li><span class='xr-has-index'>sieve_size</span>: 5</li></ul></div><div class='xr-section-details'></div></li><li class='xr-section-item'><input id='section-b23fb9ab-5046-4519-8eaf-4cb879fca1cc' class='xr-section-summary-in' type='checkbox'  checked><label for='section-b23fb9ab-5046-4519-8eaf-4cb879fca1cc' class='xr-section-summary' >Coordinates: <span>(6)</span></label><div class='xr-section-inline-details'></div><div class='xr-section-details'><ul class='xr-var-list'><li class='xr-var-item'><div class='xr-var-name'><span class='xr-has-index'>depth</span></div><div class='xr-var-dims'>(depth)</div><div class='xr-var-dtype'>float64</div><div class='xr-var-preview xr-preview'>50.0 100.0 150.0 ... 350.0 400.0</div><input id='attrs-569cf3bd-6cfe-430a-892e-8ec573db87e7' class='xr-var-attrs-in' type='checkbox' ><label for='attrs-569cf3bd-6cfe-430a-892e-8ec573db87e7' title='Show/Hide attributes'><svg class='icon xr-icon-file-text2'><use xlink:href='#icon-file-text2'></use></svg></label><input id='data-8de8f50b-faa8-4678-abef-53298661453f' class='xr-var-data-in' type='checkbox'><label for='data-8de8f50b-faa8-4678-abef-53298661453f' title='Show/Hide data repr'><svg class='icon xr-icon-database'><use xlink:href='#icon-database'></use></svg></label><div class='xr-var-attrs'><dl class='xr-attrs'><dt><span>axis :</span></dt><dd>Z</dd><dt><span>long_name :</span></dt><dd>depth</dd><dt><span>standard_name :</span></dt><dd>depth</dd><dt><span>units :</span></dt><dd>m</dd></dl></div><div class='xr-var-data'><pre>array([ 50., 100., 150., 200., 250., 300., 350., 400.])</pre></div></li><li class='xr-var-item'><div class='xr-var-name'><span class='xr-has-index'>is_day</span></div><div class='xr-var-dims'>(is_day)</div><div class='xr-var-dtype'>bool</div><div class='xr-var-preview xr-preview'>False True</div><input id='attrs-c44fe73d-d242-4f16-9ceb-e254df8dbcd2' class='xr-var-attrs-in' type='checkbox' ><label for='attrs-c44fe73d-d242-4f16-9ceb-e254df8dbcd2' title='Show/Hide attributes'><svg class='icon xr-icon-file-text2'><use xlink:href='#icon-file-text2'></use></svg></label><input id='data-6463ac4d-f8ea-49a9-8065-9ec537847363' class='xr-var-data-in' type='checkbox'><label for='data-6463ac4d-f8ea-49a9-8065-9ec537847363' title='Show/Hide data repr'><svg class='icon xr-icon-database'><use xlink:href='#icon-database'></use></svg></label><div class='xr-var-attrs'><dl class='xr-attrs'><dt><span>description :</span></dt><dd>Flag to indicate if the time is during the day or night</dd><dt><span>flag_meanings :</span></dt><dd>day night</dd><dt><span>flag_values :</span></dt><dd>[True, False]</dd><dt><span>long_name :</span></dt><dd>Is day</dd><dt><span>standard_name :</span></dt><dd>is_day</dd></dl></div><div class='xr-var-data'><pre>array([False,  True])</pre></div></li><li class='xr-var-item'><div class='xr-var-name'><span class='xr-has-index'>latitude</span></div><div class='xr-var-dims'>(latitude)</div><div class='xr-var-dtype'>float64</div><div class='xr-var-preview xr-preview'>31.6</div><input id='attrs-553e00c1-b9c8-41d2-9bef-1496973dac76' class='xr-var-attrs-in' type='checkbox' ><label for='attrs-553e00c1-b9c8-41d2-9bef-1496973dac76' title='Show/Hide attributes'><svg class='icon xr-icon-file-text2'><use xlink:href='#icon-file-text2'></use></svg></label><input id='data-1099a689-a0ac-4d4a-bd98-67d237665a4d' class='xr-var-data-in' type='checkbox'><label for='data-1099a689-a0ac-4d4a-bd98-67d237665a4d' title='Show/Hide data repr'><svg class='icon xr-icon-database'><use xlink:href='#icon-database'></use></svg></label><div class='xr-var-attrs'><dl class='xr-attrs'><dt><span>axis :</span></dt><dd>Y</dd><dt><span>long_name :</span></dt><dd>latitude</dd><dt><span>standard_name :</span></dt><dd>latitude</dd><dt><span>units :</span></dt><dd>degrees_north</dd></dl></div><div class='xr-var-data'><pre>array([31.6])</pre></div></li><li class='xr-var-item'><div class='xr-var-name'><span class='xr-has-index'>longitude</span></div><div class='xr-var-dims'>(longitude)</div><div class='xr-var-dtype'>float64</div><div class='xr-var-preview xr-preview'>-64.2</div><input id='attrs-429a4ea2-8230-4a6e-b733-7536d36b3d69' class='xr-var-attrs-in' type='checkbox' ><label for='attrs-429a4ea2-8230-4a6e-b733-7536d36b3d69' title='Show/Hide attributes'><svg class='icon xr-icon-file-text2'><use xlink:href='#icon-file-text2'></use></svg></label><input id='data-e4963f32-b2e2-426f-a259-63a100899e8a' class='xr-var-data-in' type='checkbox'><label for='data-e4963f32-b2e2-426f-a259-63a100899e8a' title='Show/Hide data repr'><svg class='icon xr-icon-database'><use xlink:href='#icon-database'></use></svg></label><div class='xr-var-attrs'><dl class='xr-attrs'><dt><span>axis :</span></dt><dd>X</dd><dt><span>long_name :</span></dt><dd>longitude</dd><dt><span>standard_name :</span></dt><dd>longitude</dd><dt><span>units :</span></dt><dd>degrees_east</dd></dl></div><div class='xr-var-data'><pre>array([-64.2])</pre></div></li><li class='xr-var-item'><div class='xr-var-name'><span class='xr-has-index'>sieve_size</span></div><div class='xr-var-dims'>(sieve_size)</div><div class='xr-var-dtype'>float64</div><div class='xr-var-preview xr-preview'>0.2 0.5 1.0 2.0 5.0</div><input id='attrs-c2b4ba79-3910-4364-9fe3-bf3f998165b9' class='xr-var-attrs-in' type='checkbox' ><label for='attrs-c2b4ba79-3910-4364-9fe3-bf3f998165b9' title='Show/Hide attributes'><svg class='icon xr-icon-file-text2'><use xlink:href='#icon-file-text2'></use></svg></label><input id='data-1752a225-89fd-48bc-bd8a-6181a71e4ba6' class='xr-var-data-in' type='checkbox'><label for='data-1752a225-89fd-48bc-bd8a-6181a71e4ba6' title='Show/Hide data repr'><svg class='icon xr-icon-database'><use xlink:href='#icon-database'></use></svg></label><div class='xr-var-attrs'><dl class='xr-attrs'><dt><span>long_name :</span></dt><dd>Sieve size</dd><dt><span>standard_name :</span></dt><dd>size</dd><dt><span>units :</span></dt><dd>mm</dd></dl></div><div class='xr-var-data'><pre>array([0.2, 0.5, 1. , 2. , 5. ])</pre></div></li><li class='xr-var-item'><div class='xr-var-name'><span class='xr-has-index'>time</span></div><div class='xr-var-dims'>(time)</div><div class='xr-var-dtype'>datetime64[ns]</div><div class='xr-var-preview xr-preview'>1988-10-21T04:55:00 ... 2022-12-...</div><input id='attrs-cd5655d2-cbbb-4e9b-8223-b7ddc104006f' class='xr-var-attrs-in' type='checkbox' ><label for='attrs-cd5655d2-cbbb-4e9b-8223-b7ddc104006f' title='Show/Hide attributes'><svg class='icon xr-icon-file-text2'><use xlink:href='#icon-file-text2'></use></svg></label><input id='data-bf53297f-010c-453c-86a0-172492d39959' class='xr-var-data-in' type='checkbox'><label for='data-bf53297f-010c-453c-86a0-172492d39959' title='Show/Hide data repr'><svg class='icon xr-icon-database'><use xlink:href='#icon-database'></use></svg></label><div class='xr-var-attrs'><dl class='xr-attrs'><dt><span>axis :</span></dt><dd>T</dd><dt><span>long_name :</span></dt><dd>time</dd><dt><span>standard_name :</span></dt><dd>time</dd></dl></div><div class='xr-var-data'><pre>array([&#x27;1988-10-21T04:55:00.000000000&#x27;, &#x27;1988-11-23T14:00:00.000000000&#x27;,\n",
       "       &#x27;1988-11-23T20:45:00.000000000&#x27;, ..., &#x27;2022-12-16T10:36:00.000000000&#x27;,\n",
       "       &#x27;2022-12-16T14:01:00.000000000&#x27;, &#x27;2022-12-16T16:07:00.000000000&#x27;],\n",
       "      dtype=&#x27;datetime64[ns]&#x27;)</pre></div></li></ul></div></li><li class='xr-section-item'><input id='section-a28a5285-eaeb-400b-aa72-404c0ea70c8c' class='xr-section-summary-in' type='checkbox'  ><label for='section-a28a5285-eaeb-400b-aa72-404c0ea70c8c' class='xr-section-summary' >Data variables: <span>(37)</span></label><div class='xr-section-inline-details'></div><div class='xr-section-details'><ul class='xr-var-list'><li class='xr-var-item'><div class='xr-var-name'><span>CO2</span></div><div class='xr-var-dims'>(time, depth, latitude, longitude)</div><div class='xr-var-dtype'>float64</div><div class='xr-var-preview xr-preview'>...</div><input id='attrs-9152062e-6ac8-4aaf-90c7-8ffcfd789c53' class='xr-var-attrs-in' type='checkbox' ><label for='attrs-9152062e-6ac8-4aaf-90c7-8ffcfd789c53' title='Show/Hide attributes'><svg class='icon xr-icon-file-text2'><use xlink:href='#icon-file-text2'></use></svg></label><input id='data-53f72463-c7d7-4728-b5b8-28a83fffc6b8' class='xr-var-data-in' type='checkbox'><label for='data-53f72463-c7d7-4728-b5b8-28a83fffc6b8' title='Show/Hide data repr'><svg class='icon xr-icon-database'><use xlink:href='#icon-database'></use></svg></label><div class='xr-var-attrs'><dl class='xr-attrs'><dt><span>acknowledgement :</span></dt><dd>Bermuda Institute of Ocean Sciences</dd><dt><span>comment :</span></dt><dd>nan</dd><dt><span>data_source :</span></dt><dd>Bermuda Institute of Ocean Sciences</dd><dt><span>dataset_description :</span></dt><dd>The BATS Bottle dataset is a collection of discrete bottle samples from 1988-2022, including in-situ measurements of CO2, nutrients, carbon, oxygen, temperature, and Prochlorococcus and Synechococcus abundance. Note all bottle fires are included that do not have any BATS core parameters so as to be of use for other ancillary measurements.\n",
       "\n",
       "This description has been reproduced using https://www.dropbox.com/s/4sdk2tewx46cla8/bats_bottle.txt?dl=0</dd><dt><span>dataset_id :</span></dt><dd>676</dd><dt><span>dataset_name :</span></dt><dd>Bermuda Atlantic Time-Series Study (BATS) Bottle</dd><dt><span>dataset_short_name :</span></dt><dd>BATS_Bottle</dd><dt><span>depth_max :</span></dt><dd>4987.3</dd><dt><span>depth_min :</span></dt><dd>0.1</dd><dt><span>distributor :</span></dt><dd>Bermuda Institute of Ocean Sciences</dd><dt><span>id :</span></dt><dd>17040</dd><dt><span>keywords :</span></dt><dd>AE0811, AE0813, AE0816, AE0820, AE0823, AE0826, AE0829, AE0901, AE0902, AE0903, AE0904, AE0905, AE0907, AE0909, AE0911, AE0916, AE0919, AE0921, AE0924, AE0926, AE0928, AE1001, AE1003, AE1005, AE1006, AE1007, AE1009, AE1012, AE1016, AE1021, AE1024, AE1026, AE1031, AE1033, AE1036, AE1102, AE1105, AE1106, AE1108, AE1109, AE1111, AE1113, AE1116, AE1119, AE1121, AE1125, AE1128, AE1131, AE1201, AE1202, AE1205, AE1207, AE1209, AE1210, AE1212, AE1214, AE1218, AE1222, AE1223, AE1228, AE1231, AE1234, AE1301, AE1302, AE1303, AE1304, AE1305, AE1306, AE1307, AE1309, AE1310, AE1313, AE1315, AE1318, AE1320, AE1323, AE1326, AE1328, AE1402, AE1406, AE1408, AE1411, AE1413, AE1416, AE1418, AE1422, AE1424, AE1425, AE1502, AE1503, AE1505, AE1508, AE1510, AE1511, AE1512, AE1515, AE1517, AE1520, AE1523, AE1528, AE1529, AE1531, AE1602, AE1603, AE1604, AE1605, AE1608, AE1611, AE1615, AE1618, AE1621, AE1624, AE1627, AE1629, AE1701, AE1704, AE1705, AE1707, AE1708, AE1709, AE1713, AE1715, AE1718, AE1722, AE1726, AE1729, AE1802, AE1805, AE1806, AE1808, AE1810, AE1811, AE1814, AE1817, AE1820, AE1822, AE1825, AE1829, AE1831, AE1836, AE1902, AE1905, AE1906, AE1909, AE1912, AE1917, AE1921, AE1923, AE1927, AE1930, AE1932, AE2003, AE2005, AE2009, AE2010, AE2012, AE2014, AE2015, AE2017, AE2019, AE2021, AE2022, AE2101, AE2102, AE2103, AE2104, AE2105, AE2107, AE2109, AE2110, AE2112, AE2116, AE2117, AE2120, AE2124, AE2126, AE2201, AE2204, AE2205, AE2208, AE2210, AE2212, AE2214, AE2217, AE2219, AE2222, AE2224, AE2226, BATS, bats_bottle, Bermuda Atlantic Time-series Study, Bermuda Atlantic Time-series Study (BATS) Bottle, Bermuda Institute of Ocean Sciences, bio, biogeo, biogeochemistry, biology, BIOS, Bottle, carbon dioxide, CO2, Coulometer, cruise, Discrete, EN592, EN629, EN631, in situ, insitu, in-situ, North Atlantic Ocean, observation, OC449-10, rep, reprocessed, station, Total CO2</dd><dt><span>lat_max :</span></dt><dd>35.667</dd><dt><span>lat_min :</span></dt><dd>24.759</dd><dt><span>lon_max :</span></dt><dd>-60.447</dd><dt><span>lon_min :</span></dt><dd>-66.169</dd><dt><span>long_name :</span></dt><dd>Total CO2</dd><dt><span>make :</span></dt><dd>Observation</dd><dt><span>process_level :</span></dt><dd>Reprocessed</dd><dt><span>refrences :</span></dt><dd>nan</dd><dt><span>sensor :</span></dt><dd>Coulometer</dd><dt><span>spatial_resolution :</span></dt><dd>Irregular</dd><dt><span>study_domain :</span></dt><dd>Biogeochemistry</dd><dt><span>table_name :</span></dt><dd>tblBATS_Bottle</dd><dt><span>temporal_resolution :</span></dt><dd>Irregular</dd><dt><span>time_max :</span></dt><dd>2022-12-16T19:08:00.000Z</dd><dt><span>time_min :</span></dt><dd>1988-10-20T22:30:00.000Z</dd><dt><span>units :</span></dt><dd>umol/kg</dd><dt><span>variable_25th :</span></dt><dd>2070.0</dd><dt><span>variable_50th :</span></dt><dd>2091.0</dd><dt><span>variable_75th :</span></dt><dd>2123.3</dd><dt><span>variable_count :</span></dt><dd>8012.0</dd><dt><span>variable_max :</span></dt><dd>2200.0</dd><dt><span>variable_mean :</span></dt><dd>2100.432900649</dd><dt><span>variable_min :</span></dt><dd>2000.5</dd><dt><span>variable_std :</span></dt><dd>42.6286671611</dd><dt><span>visualize :</span></dt><dd>1.0</dd></dl></div><div class='xr-var-data'><pre>[35424 values with dtype=float64]</pre></div></li><li class='xr-var-item'><div class='xr-var-name'><span>CTD_salinity</span></div><div class='xr-var-dims'>(time, depth, latitude, longitude)</div><div class='xr-var-dtype'>float64</div><div class='xr-var-preview xr-preview'>...</div><input id='attrs-6b0461ef-e541-4f41-8c9c-1ca71e0019cc' class='xr-var-attrs-in' type='checkbox' ><label for='attrs-6b0461ef-e541-4f41-8c9c-1ca71e0019cc' title='Show/Hide attributes'><svg class='icon xr-icon-file-text2'><use xlink:href='#icon-file-text2'></use></svg></label><input id='data-4576c784-66a9-4681-b5e8-e693548c773b' class='xr-var-data-in' type='checkbox'><label for='data-4576c784-66a9-4681-b5e8-e693548c773b' title='Show/Hide data repr'><svg class='icon xr-icon-database'><use xlink:href='#icon-database'></use></svg></label><div class='xr-var-attrs'><dl class='xr-attrs'><dt><span>acknowledgement :</span></dt><dd>Bermuda Institute of Ocean Sciences</dd><dt><span>comment :</span></dt><dd>nan</dd><dt><span>data_source :</span></dt><dd>Bermuda Institute of Ocean Sciences</dd><dt><span>dataset_description :</span></dt><dd>The BATS Bottle dataset is a collection of discrete bottle samples from 1988-2022, including in-situ measurements of CO2, nutrients, carbon, oxygen, temperature, and Prochlorococcus and Synechococcus abundance. Note all bottle fires are included that do not have any BATS core parameters so as to be of use for other ancillary measurements.\n",
       "\n",
       "This description has been reproduced using https://www.dropbox.com/s/4sdk2tewx46cla8/bats_bottle.txt?dl=0</dd><dt><span>dataset_id :</span></dt><dd>676</dd><dt><span>dataset_name :</span></dt><dd>Bermuda Atlantic Time-Series Study (BATS) Bottle</dd><dt><span>dataset_short_name :</span></dt><dd>BATS_Bottle</dd><dt><span>depth_max :</span></dt><dd>4987.3</dd><dt><span>depth_min :</span></dt><dd>0.1</dd><dt><span>distributor :</span></dt><dd>Bermuda Institute of Ocean Sciences</dd><dt><span>id :</span></dt><dd>17034</dd><dt><span>keywords :</span></dt><dd>AE0811, AE0813, AE0816, AE0820, AE0823, AE0826, AE0829, AE0901, AE0902, AE0903, AE0904, AE0905, AE0907, AE0909, AE0911, AE0916, AE0919, AE0921, AE0924, AE0926, AE0928, AE1001, AE1003, AE1005, AE1006, AE1007, AE1009, AE1012, AE1016, AE1021, AE1024, AE1026, AE1031, AE1033, AE1036, AE1102, AE1105, AE1106, AE1108, AE1109, AE1111, AE1113, AE1116, AE1119, AE1121, AE1125, AE1128, AE1131, AE1201, AE1202, AE1205, AE1207, AE1209, AE1210, AE1212, AE1214, AE1218, AE1222, AE1223, AE1228, AE1231, AE1234, AE1301, AE1302, AE1303, AE1304, AE1305, AE1306, AE1307, AE1309, AE1310, AE1313, AE1315, AE1318, AE1320, AE1323, AE1326, AE1328, AE1402, AE1406, AE1408, AE1411, AE1413, AE1416, AE1418, AE1422, AE1424, AE1425, AE1502, AE1503, AE1505, AE1508, AE1510, AE1511, AE1512, AE1515, AE1517, AE1520, AE1523, AE1528, AE1529, AE1531, AE1602, AE1603, AE1604, AE1605, AE1608, AE1611, AE1615, AE1618, AE1621, AE1624, AE1627, AE1629, AE1701, AE1704, AE1705, AE1707, AE1708, AE1709, AE1713, AE1715, AE1718, AE1722, AE1726, AE1729, AE1802, AE1805, AE1806, AE1808, AE1810, AE1811, AE1814, AE1817, AE1820, AE1822, AE1825, AE1829, AE1831, AE1836, AE1902, AE1905, AE1906, AE1909, AE1912, AE1917, AE1921, AE1923, AE1927, AE1930, AE1932, AE2003, AE2005, AE2009, AE2010, AE2012, AE2014, AE2015, AE2017, AE2019, AE2021, AE2022, AE2101, AE2102, AE2103, AE2104, AE2105, AE2107, AE2109, AE2110, AE2112, AE2116, AE2117, AE2120, AE2124, AE2126, AE2201, AE2204, AE2205, AE2208, AE2210, AE2212, AE2214, AE2217, AE2219, AE2222, AE2224, AE2226, BATS, bats_bottle, Bermuda Atlantic Time-series Study, Bermuda Atlantic Time-series Study (BATS) Bottle, Bermuda Institute of Ocean Sciences, bio, biogeo, biogeochemistry, biology, BIOS, Bottle, cruise, CTD, CTD Salinity, CTD_salinity, Discrete, EN592, EN629, EN631, in situ, insitu, in-situ, North Atlantic Ocean, observation, OC449-10, rep, reprocessed, station</dd><dt><span>lat_max :</span></dt><dd>35.667</dd><dt><span>lat_min :</span></dt><dd>24.759</dd><dt><span>lon_max :</span></dt><dd>-60.447</dd><dt><span>lon_min :</span></dt><dd>-66.169</dd><dt><span>long_name :</span></dt><dd>CTD Salinity</dd><dt><span>make :</span></dt><dd>Observation</dd><dt><span>process_level :</span></dt><dd>Reprocessed</dd><dt><span>refrences :</span></dt><dd>nan</dd><dt><span>sensor :</span></dt><dd>CTD</dd><dt><span>spatial_resolution :</span></dt><dd>Irregular</dd><dt><span>study_domain :</span></dt><dd>Biogeochemistry</dd><dt><span>table_name :</span></dt><dd>tblBATS_Bottle</dd><dt><span>temporal_resolution :</span></dt><dd>Irregular</dd><dt><span>time_max :</span></dt><dd>2022-12-16T19:08:00.000Z</dd><dt><span>time_min :</span></dt><dd>1988-10-20T22:30:00.000Z</dd><dt><span>units :</span></dt><dd>PSS-78</dd><dt><span>variable_25th :</span></dt><dd>36.402</dd><dt><span>variable_50th :</span></dt><dd>36.599</dd><dt><span>variable_75th :</span></dt><dd>36.675</dd><dt><span>variable_count :</span></dt><dd>65343.0</dd><dt><span>variable_max :</span></dt><dd>37.381</dd><dt><span>variable_mean :</span></dt><dd>36.3386702019</dd><dt><span>variable_min :</span></dt><dd>34.866</dd><dt><span>variable_std :</span></dt><dd>0.6003157242</dd><dt><span>visualize :</span></dt><dd>1.0</dd></dl></div><div class='xr-var-data'><pre>[35424 values with dtype=float64]</pre></div></li><li class='xr-var-item'><div class='xr-var-name'><span>POC</span></div><div class='xr-var-dims'>(time, depth, latitude, longitude)</div><div class='xr-var-dtype'>float64</div><div class='xr-var-preview xr-preview'>...</div><input id='attrs-26ae1b96-7d6b-4a07-812b-976a10d81f20' class='xr-var-attrs-in' type='checkbox' ><label for='attrs-26ae1b96-7d6b-4a07-812b-976a10d81f20' title='Show/Hide attributes'><svg class='icon xr-icon-file-text2'><use xlink:href='#icon-file-text2'></use></svg></label><input id='data-9756ea20-d961-4382-8381-00b82477acac' class='xr-var-data-in' type='checkbox'><label for='data-9756ea20-d961-4382-8381-00b82477acac' title='Show/Hide data repr'><svg class='icon xr-icon-database'><use xlink:href='#icon-database'></use></svg></label><div class='xr-var-attrs'><dl class='xr-attrs'><dt><span>acknowledgement :</span></dt><dd>Bermuda Institute of Ocean Sciences</dd><dt><span>comment :</span></dt><dd>nan</dd><dt><span>data_source :</span></dt><dd>Bermuda Institute of Ocean Sciences</dd><dt><span>dataset_description :</span></dt><dd>The BATS Bottle dataset is a collection of discrete bottle samples from 1988-2022, including in-situ measurements of CO2, nutrients, carbon, oxygen, temperature, and Prochlorococcus and Synechococcus abundance. Note all bottle fires are included that do not have any BATS core parameters so as to be of use for other ancillary measurements.\n",
       "\n",
       "This description has been reproduced using https://www.dropbox.com/s/4sdk2tewx46cla8/bats_bottle.txt?dl=0</dd><dt><span>dataset_id :</span></dt><dd>676</dd><dt><span>dataset_name :</span></dt><dd>Bermuda Atlantic Time-Series Study (BATS) Bottle</dd><dt><span>dataset_short_name :</span></dt><dd>BATS_Bottle</dd><dt><span>depth_max :</span></dt><dd>4987.3</dd><dt><span>depth_min :</span></dt><dd>0.1</dd><dt><span>distributor :</span></dt><dd>Bermuda Institute of Ocean Sciences</dd><dt><span>id :</span></dt><dd>17046</dd><dt><span>keywords :</span></dt><dd>AE0811, AE0813, AE0816, AE0820, AE0823, AE0826, AE0829, AE0901, AE0902, AE0903, AE0904, AE0905, AE0907, AE0909, AE0911, AE0916, AE0919, AE0921, AE0924, AE0926, AE0928, AE1001, AE1003, AE1005, AE1006, AE1007, AE1009, AE1012, AE1016, AE1021, AE1024, AE1026, AE1031, AE1033, AE1036, AE1102, AE1105, AE1106, AE1108, AE1109, AE1111, AE1113, AE1116, AE1119, AE1121, AE1125, AE1128, AE1131, AE1201, AE1202, AE1205, AE1207, AE1209, AE1210, AE1212, AE1214, AE1218, AE1222, AE1223, AE1228, AE1231, AE1234, AE1301, AE1302, AE1303, AE1304, AE1305, AE1306, AE1307, AE1309, AE1310, AE1313, AE1315, AE1318, AE1320, AE1323, AE1326, AE1328, AE1402, AE1406, AE1408, AE1411, AE1413, AE1416, AE1418, AE1422, AE1424, AE1425, AE1502, AE1503, AE1505, AE1508, AE1510, AE1511, AE1512, AE1515, AE1517, AE1520, AE1523, AE1528, AE1529, AE1531, AE1602, AE1603, AE1604, AE1605, AE1608, AE1611, AE1615, AE1618, AE1621, AE1624, AE1627, AE1629, AE1701, AE1704, AE1705, AE1707, AE1708, AE1709, AE1713, AE1715, AE1718, AE1722, AE1726, AE1729, AE1802, AE1805, AE1806, AE1808, AE1810, AE1811, AE1814, AE1817, AE1820, AE1822, AE1825, AE1829, AE1831, AE1836, AE1902, AE1905, AE1906, AE1909, AE1912, AE1917, AE1921, AE1923, AE1927, AE1930, AE1932, AE2003, AE2005, AE2009, AE2010, AE2012, AE2014, AE2015, AE2017, AE2019, AE2021, AE2022, AE2101, AE2102, AE2103, AE2104, AE2105, AE2107, AE2109, AE2110, AE2112, AE2116, AE2117, AE2120, AE2124, AE2126, AE2201, AE2204, AE2205, AE2208, AE2210, AE2212, AE2214, AE2217, AE2219, AE2222, AE2224, AE2226, BATS, bats_bottle, Bermuda Atlantic Time-series Study, Bermuda Atlantic Time-series Study (BATS) Bottle, Bermuda Institute of Ocean Sciences, bio, biogeo, biogeochemistry, biology, BIOS, Bottle, cruise, Discrete, Elemental Analyzer, EN592, EN629, EN631, in situ, insitu, in-situ, North Atlantic Ocean, observation, OC449-10, Particulate Organic Carbon, POC, rep, reprocessed, station</dd><dt><span>lat_max :</span></dt><dd>35.667</dd><dt><span>lat_min :</span></dt><dd>24.759</dd><dt><span>lon_max :</span></dt><dd>-60.447</dd><dt><span>lon_min :</span></dt><dd>-66.169</dd><dt><span>long_name :</span></dt><dd>Particulate Organic Carbon</dd><dt><span>make :</span></dt><dd>Observation</dd><dt><span>process_level :</span></dt><dd>Reprocessed</dd><dt><span>refrences :</span></dt><dd>nan</dd><dt><span>sensor :</span></dt><dd>Elemental Analyzer</dd><dt><span>spatial_resolution :</span></dt><dd>Irregular</dd><dt><span>study_domain :</span></dt><dd>Biogeochemistry</dd><dt><span>table_name :</span></dt><dd>tblBATS_Bottle</dd><dt><span>temporal_resolution :</span></dt><dd>Irregular</dd><dt><span>time_max :</span></dt><dd>2022-12-16T19:08:00.000Z</dd><dt><span>time_min :</span></dt><dd>1988-10-20T22:30:00.000Z</dd><dt><span>units :</span></dt><dd>ug/kg</dd><dt><span>variable_25th :</span></dt><dd>6.89</dd><dt><span>variable_50th :</span></dt><dd>14.13</dd><dt><span>variable_75th :</span></dt><dd>24.05</dd><dt><span>variable_count :</span></dt><dd>8758.0</dd><dt><span>variable_max :</span></dt><dd>135.72</dd><dt><span>variable_mean :</span></dt><dd>16.8126615666</dd><dt><span>variable_min :</span></dt><dd>0.0</dd><dt><span>variable_std :</span></dt><dd>12.1646364629</dd><dt><span>visualize :</span></dt><dd>1.0</dd></dl></div><div class='xr-var-data'><pre>[35424 values with dtype=float64]</pre></div></li><li class='xr-var-item'><div class='xr-var-name'><span>PON</span></div><div class='xr-var-dims'>(time, depth, latitude, longitude)</div><div class='xr-var-dtype'>float64</div><div class='xr-var-preview xr-preview'>...</div><input id='attrs-3654cae7-b80e-4111-9466-812dca0a8aef' class='xr-var-attrs-in' type='checkbox' ><label for='attrs-3654cae7-b80e-4111-9466-812dca0a8aef' title='Show/Hide attributes'><svg class='icon xr-icon-file-text2'><use xlink:href='#icon-file-text2'></use></svg></label><input id='data-1896d351-3462-4673-8a3c-c642dbec4375' class='xr-var-data-in' type='checkbox'><label for='data-1896d351-3462-4673-8a3c-c642dbec4375' title='Show/Hide data repr'><svg class='icon xr-icon-database'><use xlink:href='#icon-database'></use></svg></label><div class='xr-var-attrs'><dl class='xr-attrs'><dt><span>acknowledgement :</span></dt><dd>Bermuda Institute of Ocean Sciences</dd><dt><span>comment :</span></dt><dd>nan</dd><dt><span>data_source :</span></dt><dd>Bermuda Institute of Ocean Sciences</dd><dt><span>dataset_description :</span></dt><dd>The BATS Bottle dataset is a collection of discrete bottle samples from 1988-2022, including in-situ measurements of CO2, nutrients, carbon, oxygen, temperature, and Prochlorococcus and Synechococcus abundance. Note all bottle fires are included that do not have any BATS core parameters so as to be of use for other ancillary measurements.\n",
       "\n",
       "This description has been reproduced using https://www.dropbox.com/s/4sdk2tewx46cla8/bats_bottle.txt?dl=0</dd><dt><span>dataset_id :</span></dt><dd>676</dd><dt><span>dataset_name :</span></dt><dd>Bermuda Atlantic Time-Series Study (BATS) Bottle</dd><dt><span>dataset_short_name :</span></dt><dd>BATS_Bottle</dd><dt><span>depth_max :</span></dt><dd>4987.3</dd><dt><span>depth_min :</span></dt><dd>0.1</dd><dt><span>distributor :</span></dt><dd>Bermuda Institute of Ocean Sciences</dd><dt><span>id :</span></dt><dd>17047</dd><dt><span>keywords :</span></dt><dd>AE0811, AE0813, AE0816, AE0820, AE0823, AE0826, AE0829, AE0901, AE0902, AE0903, AE0904, AE0905, AE0907, AE0909, AE0911, AE0916, AE0919, AE0921, AE0924, AE0926, AE0928, AE1001, AE1003, AE1005, AE1006, AE1007, AE1009, AE1012, AE1016, AE1021, AE1024, AE1026, AE1031, AE1033, AE1036, AE1102, AE1105, AE1106, AE1108, AE1109, AE1111, AE1113, AE1116, AE1119, AE1121, AE1125, AE1128, AE1131, AE1201, AE1202, AE1205, AE1207, AE1209, AE1210, AE1212, AE1214, AE1218, AE1222, AE1223, AE1228, AE1231, AE1234, AE1301, AE1302, AE1303, AE1304, AE1305, AE1306, AE1307, AE1309, AE1310, AE1313, AE1315, AE1318, AE1320, AE1323, AE1326, AE1328, AE1402, AE1406, AE1408, AE1411, AE1413, AE1416, AE1418, AE1422, AE1424, AE1425, AE1502, AE1503, AE1505, AE1508, AE1510, AE1511, AE1512, AE1515, AE1517, AE1520, AE1523, AE1528, AE1529, AE1531, AE1602, AE1603, AE1604, AE1605, AE1608, AE1611, AE1615, AE1618, AE1621, AE1624, AE1627, AE1629, AE1701, AE1704, AE1705, AE1707, AE1708, AE1709, AE1713, AE1715, AE1718, AE1722, AE1726, AE1729, AE1802, AE1805, AE1806, AE1808, AE1810, AE1811, AE1814, AE1817, AE1820, AE1822, AE1825, AE1829, AE1831, AE1836, AE1902, AE1905, AE1906, AE1909, AE1912, AE1917, AE1921, AE1923, AE1927, AE1930, AE1932, AE2003, AE2005, AE2009, AE2010, AE2012, AE2014, AE2015, AE2017, AE2019, AE2021, AE2022, AE2101, AE2102, AE2103, AE2104, AE2105, AE2107, AE2109, AE2110, AE2112, AE2116, AE2117, AE2120, AE2124, AE2126, AE2201, AE2204, AE2205, AE2208, AE2210, AE2212, AE2214, AE2217, AE2219, AE2222, AE2224, AE2226, BATS, bats_bottle, Bermuda Atlantic Time-series Study, Bermuda Atlantic Time-series Study (BATS) Bottle, Bermuda Institute of Ocean Sciences, bio, biogeo, biogeochemistry, biology, BIOS, Bottle, cruise, Discrete, Elemental Analyzer, EN592, EN629, EN631, in situ, insitu, in-situ, North Atlantic Ocean, observation, OC449-10, Particulate Organic Nitrogen, PON, rep, reprocessed, station</dd><dt><span>lat_max :</span></dt><dd>35.667</dd><dt><span>lat_min :</span></dt><dd>24.759</dd><dt><span>lon_max :</span></dt><dd>-60.447</dd><dt><span>lon_min :</span></dt><dd>-66.169</dd><dt><span>long_name :</span></dt><dd>Particulate Organic Nitrogen</dd><dt><span>make :</span></dt><dd>Observation</dd><dt><span>process_level :</span></dt><dd>Reprocessed</dd><dt><span>refrences :</span></dt><dd>nan</dd><dt><span>sensor :</span></dt><dd>Elemental Analyzer</dd><dt><span>spatial_resolution :</span></dt><dd>Irregular</dd><dt><span>study_domain :</span></dt><dd>Biogeochemistry</dd><dt><span>table_name :</span></dt><dd>tblBATS_Bottle</dd><dt><span>temporal_resolution :</span></dt><dd>Irregular</dd><dt><span>time_max :</span></dt><dd>2022-12-16T19:08:00.000Z</dd><dt><span>time_min :</span></dt><dd>1988-10-20T22:30:00.000Z</dd><dt><span>units :</span></dt><dd>ug/kg</dd><dt><span>variable_25th :</span></dt><dd>1.18</dd><dt><span>variable_50th :</span></dt><dd>2.54</dd><dt><span>variable_75th :</span></dt><dd>4.2925</dd><dt><span>variable_count :</span></dt><dd>8796.0</dd><dt><span>variable_max :</span></dt><dd>35.77</dd><dt><span>variable_mean :</span></dt><dd>2.9638608458</dd><dt><span>variable_min :</span></dt><dd>0.0</dd><dt><span>variable_std :</span></dt><dd>2.2250881538</dd><dt><span>visualize :</span></dt><dd>1.0</dd></dl></div><div class='xr-var-data'><pre>[35424 values with dtype=float64]</pre></div></li><li class='xr-var-item'><div class='xr-var-name'><span>POP</span></div><div class='xr-var-dims'>(time, depth, latitude, longitude)</div><div class='xr-var-dtype'>float64</div><div class='xr-var-preview xr-preview'>...</div><input id='attrs-771ee1b3-e20e-46d3-8341-7112a449ab7b' class='xr-var-attrs-in' type='checkbox' ><label for='attrs-771ee1b3-e20e-46d3-8341-7112a449ab7b' title='Show/Hide attributes'><svg class='icon xr-icon-file-text2'><use xlink:href='#icon-file-text2'></use></svg></label><input id='data-db406298-3fbe-46dc-9926-c1b3366ef922' class='xr-var-data-in' type='checkbox'><label for='data-db406298-3fbe-46dc-9926-c1b3366ef922' title='Show/Hide data repr'><svg class='icon xr-icon-database'><use xlink:href='#icon-database'></use></svg></label><div class='xr-var-attrs'><dl class='xr-attrs'><dt><span>acknowledgement :</span></dt><dd>Bermuda Institute of Ocean Sciences</dd><dt><span>comment :</span></dt><dd>nan</dd><dt><span>data_source :</span></dt><dd>Bermuda Institute of Ocean Sciences</dd><dt><span>dataset_description :</span></dt><dd>The BATS Bottle dataset is a collection of discrete bottle samples from 1988-2022, including in-situ measurements of CO2, nutrients, carbon, oxygen, temperature, and Prochlorococcus and Synechococcus abundance. Note all bottle fires are included that do not have any BATS core parameters so as to be of use for other ancillary measurements.\n",
       "\n",
       "This description has been reproduced using https://www.dropbox.com/s/4sdk2tewx46cla8/bats_bottle.txt?dl=0</dd><dt><span>dataset_id :</span></dt><dd>676</dd><dt><span>dataset_name :</span></dt><dd>Bermuda Atlantic Time-Series Study (BATS) Bottle</dd><dt><span>dataset_short_name :</span></dt><dd>BATS_Bottle</dd><dt><span>depth_max :</span></dt><dd>4987.3</dd><dt><span>depth_min :</span></dt><dd>0.1</dd><dt><span>distributor :</span></dt><dd>Bermuda Institute of Ocean Sciences</dd><dt><span>id :</span></dt><dd>17051</dd><dt><span>keywords :</span></dt><dd>AE0811, AE0813, AE0816, AE0820, AE0823, AE0826, AE0829, AE0901, AE0902, AE0903, AE0904, AE0905, AE0907, AE0909, AE0911, AE0916, AE0919, AE0921, AE0924, AE0926, AE0928, AE1001, AE1003, AE1005, AE1006, AE1007, AE1009, AE1012, AE1016, AE1021, AE1024, AE1026, AE1031, AE1033, AE1036, AE1102, AE1105, AE1106, AE1108, AE1109, AE1111, AE1113, AE1116, AE1119, AE1121, AE1125, AE1128, AE1131, AE1201, AE1202, AE1205, AE1207, AE1209, AE1210, AE1212, AE1214, AE1218, AE1222, AE1223, AE1228, AE1231, AE1234, AE1301, AE1302, AE1303, AE1304, AE1305, AE1306, AE1307, AE1309, AE1310, AE1313, AE1315, AE1318, AE1320, AE1323, AE1326, AE1328, AE1402, AE1406, AE1408, AE1411, AE1413, AE1416, AE1418, AE1422, AE1424, AE1425, AE1502, AE1503, AE1505, AE1508, AE1510, AE1511, AE1512, AE1515, AE1517, AE1520, AE1523, AE1528, AE1529, AE1531, AE1602, AE1603, AE1604, AE1605, AE1608, AE1611, AE1615, AE1618, AE1621, AE1624, AE1627, AE1629, AE1701, AE1704, AE1705, AE1707, AE1708, AE1709, AE1713, AE1715, AE1718, AE1722, AE1726, AE1729, AE1802, AE1805, AE1806, AE1808, AE1810, AE1811, AE1814, AE1817, AE1820, AE1822, AE1825, AE1829, AE1831, AE1836, AE1902, AE1905, AE1906, AE1909, AE1912, AE1917, AE1921, AE1923, AE1927, AE1930, AE1932, AE2003, AE2005, AE2009, AE2010, AE2012, AE2014, AE2015, AE2017, AE2019, AE2021, AE2022, AE2101, AE2102, AE2103, AE2104, AE2105, AE2107, AE2109, AE2110, AE2112, AE2116, AE2117, AE2120, AE2124, AE2126, AE2201, AE2204, AE2205, AE2208, AE2210, AE2212, AE2214, AE2217, AE2219, AE2222, AE2224, AE2226, BATS, bats_bottle, Bermuda Atlantic Time-series Study, Bermuda Atlantic Time-series Study (BATS) Bottle, Bermuda Institute of Ocean Sciences, bio, biogeo, biogeochemistry, biology, BIOS, Bottle, cruise, Discrete, EN592, EN629, EN631, in situ, insitu, in-situ, North Atlantic Ocean, observation, OC449-10, Particulate Organic Phosphorus, POP, rep, reprocessed, station</dd><dt><span>lat_max :</span></dt><dd>35.667</dd><dt><span>lat_min :</span></dt><dd>24.759</dd><dt><span>lon_max :</span></dt><dd>-60.447</dd><dt><span>lon_min :</span></dt><dd>-66.169</dd><dt><span>long_name :</span></dt><dd>Particulate Organic Phosphorus</dd><dt><span>make :</span></dt><dd>Observation</dd><dt><span>process_level :</span></dt><dd>Reprocessed</dd><dt><span>refrences :</span></dt><dd>nan</dd><dt><span>sensor :</span></dt><dd>Uncategorized</dd><dt><span>spatial_resolution :</span></dt><dd>Irregular</dd><dt><span>study_domain :</span></dt><dd>Biogeochemistry</dd><dt><span>table_name :</span></dt><dd>tblBATS_Bottle</dd><dt><span>temporal_resolution :</span></dt><dd>Irregular</dd><dt><span>time_max :</span></dt><dd>2022-12-16T19:08:00.000Z</dd><dt><span>time_min :</span></dt><dd>1988-10-20T22:30:00.000Z</dd><dt><span>units :</span></dt><dd>umol/kg</dd><dt><span>variable_25th :</span></dt><dd>0.003</dd><dt><span>variable_50th :</span></dt><dd>0.007</dd><dt><span>variable_75th :</span></dt><dd>0.01</dd><dt><span>variable_count :</span></dt><dd>3789.0</dd><dt><span>variable_max :</span></dt><dd>0.069</dd><dt><span>variable_mean :</span></dt><dd>0.0075252045</dd><dt><span>variable_min :</span></dt><dd>0.0</dd><dt><span>variable_std :</span></dt><dd>0.0058747676</dd><dt><span>visualize :</span></dt><dd>1.0</dd></dl></div><div class='xr-var-data'><pre>[35424 values with dtype=float64]</pre></div></li><li class='xr-var-item'><div class='xr-var-name'><span>TN</span></div><div class='xr-var-dims'>(time, depth, latitude, longitude)</div><div class='xr-var-dtype'>float64</div><div class='xr-var-preview xr-preview'>...</div><input id='attrs-7075839f-7bbf-40eb-9ed5-16b028a195ca' class='xr-var-attrs-in' type='checkbox' ><label for='attrs-7075839f-7bbf-40eb-9ed5-16b028a195ca' title='Show/Hide attributes'><svg class='icon xr-icon-file-text2'><use xlink:href='#icon-file-text2'></use></svg></label><input id='data-d5827083-7e64-4de9-9532-b8e3df3151bc' class='xr-var-data-in' type='checkbox'><label for='data-d5827083-7e64-4de9-9532-b8e3df3151bc' title='Show/Hide data repr'><svg class='icon xr-icon-database'><use xlink:href='#icon-database'></use></svg></label><div class='xr-var-attrs'><dl class='xr-attrs'><dt><span>acknowledgement :</span></dt><dd>Bermuda Institute of Ocean Sciences</dd><dt><span>comment :</span></dt><dd>nan</dd><dt><span>data_source :</span></dt><dd>Bermuda Institute of Ocean Sciences</dd><dt><span>dataset_description :</span></dt><dd>The BATS Bottle dataset is a collection of discrete bottle samples from 1988-2022, including in-situ measurements of CO2, nutrients, carbon, oxygen, temperature, and Prochlorococcus and Synechococcus abundance. Note all bottle fires are included that do not have any BATS core parameters so as to be of use for other ancillary measurements.\n",
       "\n",
       "This description has been reproduced using https://www.dropbox.com/s/4sdk2tewx46cla8/bats_bottle.txt?dl=0</dd><dt><span>dataset_id :</span></dt><dd>676</dd><dt><span>dataset_name :</span></dt><dd>Bermuda Atlantic Time-Series Study (BATS) Bottle</dd><dt><span>dataset_short_name :</span></dt><dd>BATS_Bottle</dd><dt><span>depth_max :</span></dt><dd>4987.3</dd><dt><span>depth_min :</span></dt><dd>0.1</dd><dt><span>distributor :</span></dt><dd>Bermuda Institute of Ocean Sciences</dd><dt><span>id :</span></dt><dd>17049</dd><dt><span>keywords :</span></dt><dd>AE0811, AE0813, AE0816, AE0820, AE0823, AE0826, AE0829, AE0901, AE0902, AE0903, AE0904, AE0905, AE0907, AE0909, AE0911, AE0916, AE0919, AE0921, AE0924, AE0926, AE0928, AE1001, AE1003, AE1005, AE1006, AE1007, AE1009, AE1012, AE1016, AE1021, AE1024, AE1026, AE1031, AE1033, AE1036, AE1102, AE1105, AE1106, AE1108, AE1109, AE1111, AE1113, AE1116, AE1119, AE1121, AE1125, AE1128, AE1131, AE1201, AE1202, AE1205, AE1207, AE1209, AE1210, AE1212, AE1214, AE1218, AE1222, AE1223, AE1228, AE1231, AE1234, AE1301, AE1302, AE1303, AE1304, AE1305, AE1306, AE1307, AE1309, AE1310, AE1313, AE1315, AE1318, AE1320, AE1323, AE1326, AE1328, AE1402, AE1406, AE1408, AE1411, AE1413, AE1416, AE1418, AE1422, AE1424, AE1425, AE1502, AE1503, AE1505, AE1508, AE1510, AE1511, AE1512, AE1515, AE1517, AE1520, AE1523, AE1528, AE1529, AE1531, AE1602, AE1603, AE1604, AE1605, AE1608, AE1611, AE1615, AE1618, AE1621, AE1624, AE1627, AE1629, AE1701, AE1704, AE1705, AE1707, AE1708, AE1709, AE1713, AE1715, AE1718, AE1722, AE1726, AE1729, AE1802, AE1805, AE1806, AE1808, AE1810, AE1811, AE1814, AE1817, AE1820, AE1822, AE1825, AE1829, AE1831, AE1836, AE1902, AE1905, AE1906, AE1909, AE1912, AE1917, AE1921, AE1923, AE1927, AE1930, AE1932, AE2003, AE2005, AE2009, AE2010, AE2012, AE2014, AE2015, AE2017, AE2019, AE2021, AE2022, AE2101, AE2102, AE2103, AE2104, AE2105, AE2107, AE2109, AE2110, AE2112, AE2116, AE2117, AE2120, AE2124, AE2126, AE2201, AE2204, AE2205, AE2208, AE2210, AE2212, AE2214, AE2217, AE2219, AE2222, AE2224, AE2226, BATS, bats_bottle, Bermuda Atlantic Time-series Study, Bermuda Atlantic Time-series Study (BATS) Bottle, Bermuda Institute of Ocean Sciences, bio, biogeo, biogeochemistry, biology, BIOS, Bottle, cruise, Discrete, EN592, EN629, EN631, in situ, insitu, in-situ, North Atlantic Ocean, observation, OC449-10, rep, reprocessed, station, TN, Total Nitrogen</dd><dt><span>lat_max :</span></dt><dd>35.667</dd><dt><span>lat_min :</span></dt><dd>24.759</dd><dt><span>lon_max :</span></dt><dd>-60.447</dd><dt><span>lon_min :</span></dt><dd>-66.169</dd><dt><span>long_name :</span></dt><dd>Total Nitrogen</dd><dt><span>make :</span></dt><dd>Observation</dd><dt><span>process_level :</span></dt><dd>Reprocessed</dd><dt><span>refrences :</span></dt><dd>nan</dd><dt><span>sensor :</span></dt><dd>Uncategorized</dd><dt><span>spatial_resolution :</span></dt><dd>Irregular</dd><dt><span>study_domain :</span></dt><dd>Biogeochemistry</dd><dt><span>table_name :</span></dt><dd>tblBATS_Bottle</dd><dt><span>temporal_resolution :</span></dt><dd>Irregular</dd><dt><span>time_max :</span></dt><dd>2022-12-16T19:08:00.000Z</dd><dt><span>time_min :</span></dt><dd>1988-10-20T22:30:00.000Z</dd><dt><span>units :</span></dt><dd>umol/kg</dd><dt><span>variable_25th :</span></dt><dd>4.5</dd><dt><span>variable_50th :</span></dt><dd>6.8</dd><dt><span>variable_75th :</span></dt><dd>20.4</dd><dt><span>variable_count :</span></dt><dd>7512.0</dd><dt><span>variable_max :</span></dt><dd>28.0</dd><dt><span>variable_mean :</span></dt><dd>11.6299920128</dd><dt><span>variable_min :</span></dt><dd>1.5</dd><dt><span>variable_std :</span></dt><dd>7.9777754534</dd><dt><span>visualize :</span></dt><dd>1.0</dd></dl></div><div class='xr-var-data'><pre>[35424 values with dtype=float64]</pre></div></li><li class='xr-var-item'><div class='xr-var-name'><span>TOC</span></div><div class='xr-var-dims'>(time, depth, latitude, longitude)</div><div class='xr-var-dtype'>float64</div><div class='xr-var-preview xr-preview'>...</div><input id='attrs-0d743f39-7f5f-4a88-a33c-b086c3048e6a' class='xr-var-attrs-in' type='checkbox' ><label for='attrs-0d743f39-7f5f-4a88-a33c-b086c3048e6a' title='Show/Hide attributes'><svg class='icon xr-icon-file-text2'><use xlink:href='#icon-file-text2'></use></svg></label><input id='data-7a37c574-c211-4b4c-b4f9-727d71b89e66' class='xr-var-data-in' type='checkbox'><label for='data-7a37c574-c211-4b4c-b4f9-727d71b89e66' title='Show/Hide data repr'><svg class='icon xr-icon-database'><use xlink:href='#icon-database'></use></svg></label><div class='xr-var-attrs'><dl class='xr-attrs'><dt><span>acknowledgement :</span></dt><dd>Bermuda Institute of Ocean Sciences</dd><dt><span>comment :</span></dt><dd>nan</dd><dt><span>data_source :</span></dt><dd>Bermuda Institute of Ocean Sciences</dd><dt><span>dataset_description :</span></dt><dd>The BATS Bottle dataset is a collection of discrete bottle samples from 1988-2022, including in-situ measurements of CO2, nutrients, carbon, oxygen, temperature, and Prochlorococcus and Synechococcus abundance. Note all bottle fires are included that do not have any BATS core parameters so as to be of use for other ancillary measurements.\n",
       "\n",
       "This description has been reproduced using https://www.dropbox.com/s/4sdk2tewx46cla8/bats_bottle.txt?dl=0</dd><dt><span>dataset_id :</span></dt><dd>676</dd><dt><span>dataset_name :</span></dt><dd>Bermuda Atlantic Time-Series Study (BATS) Bottle</dd><dt><span>dataset_short_name :</span></dt><dd>BATS_Bottle</dd><dt><span>depth_max :</span></dt><dd>4987.3</dd><dt><span>depth_min :</span></dt><dd>0.1</dd><dt><span>distributor :</span></dt><dd>Bermuda Institute of Ocean Sciences</dd><dt><span>id :</span></dt><dd>17048</dd><dt><span>keywords :</span></dt><dd>AE0811, AE0813, AE0816, AE0820, AE0823, AE0826, AE0829, AE0901, AE0902, AE0903, AE0904, AE0905, AE0907, AE0909, AE0911, AE0916, AE0919, AE0921, AE0924, AE0926, AE0928, AE1001, AE1003, AE1005, AE1006, AE1007, AE1009, AE1012, AE1016, AE1021, AE1024, AE1026, AE1031, AE1033, AE1036, AE1102, AE1105, AE1106, AE1108, AE1109, AE1111, AE1113, AE1116, AE1119, AE1121, AE1125, AE1128, AE1131, AE1201, AE1202, AE1205, AE1207, AE1209, AE1210, AE1212, AE1214, AE1218, AE1222, AE1223, AE1228, AE1231, AE1234, AE1301, AE1302, AE1303, AE1304, AE1305, AE1306, AE1307, AE1309, AE1310, AE1313, AE1315, AE1318, AE1320, AE1323, AE1326, AE1328, AE1402, AE1406, AE1408, AE1411, AE1413, AE1416, AE1418, AE1422, AE1424, AE1425, AE1502, AE1503, AE1505, AE1508, AE1510, AE1511, AE1512, AE1515, AE1517, AE1520, AE1523, AE1528, AE1529, AE1531, AE1602, AE1603, AE1604, AE1605, AE1608, AE1611, AE1615, AE1618, AE1621, AE1624, AE1627, AE1629, AE1701, AE1704, AE1705, AE1707, AE1708, AE1709, AE1713, AE1715, AE1718, AE1722, AE1726, AE1729, AE1802, AE1805, AE1806, AE1808, AE1810, AE1811, AE1814, AE1817, AE1820, AE1822, AE1825, AE1829, AE1831, AE1836, AE1902, AE1905, AE1906, AE1909, AE1912, AE1917, AE1921, AE1923, AE1927, AE1930, AE1932, AE2003, AE2005, AE2009, AE2010, AE2012, AE2014, AE2015, AE2017, AE2019, AE2021, AE2022, AE2101, AE2102, AE2103, AE2104, AE2105, AE2107, AE2109, AE2110, AE2112, AE2116, AE2117, AE2120, AE2124, AE2126, AE2201, AE2204, AE2205, AE2208, AE2210, AE2212, AE2214, AE2217, AE2219, AE2222, AE2224, AE2226, BATS, bats_bottle, Bermuda Atlantic Time-series Study, Bermuda Atlantic Time-series Study (BATS) Bottle, Bermuda Institute of Ocean Sciences, bio, biogeo, biogeochemistry, biology, BIOS, Bottle, cruise, Discrete, EN592, EN629, EN631, in situ, insitu, in-situ, North Atlantic Ocean, observation, OC449-10, rep, reprocessed, station, TOC, TOC Analyzer, Total Organic Carbon</dd><dt><span>lat_max :</span></dt><dd>35.667</dd><dt><span>lat_min :</span></dt><dd>24.759</dd><dt><span>lon_max :</span></dt><dd>-60.447</dd><dt><span>lon_min :</span></dt><dd>-66.169</dd><dt><span>long_name :</span></dt><dd>Total Organic Carbon</dd><dt><span>make :</span></dt><dd>Observation</dd><dt><span>process_level :</span></dt><dd>Reprocessed</dd><dt><span>refrences :</span></dt><dd>nan</dd><dt><span>sensor :</span></dt><dd>Uncategorized</dd><dt><span>spatial_resolution :</span></dt><dd>Irregular</dd><dt><span>study_domain :</span></dt><dd>Biogeochemistry</dd><dt><span>table_name :</span></dt><dd>tblBATS_Bottle</dd><dt><span>temporal_resolution :</span></dt><dd>Irregular</dd><dt><span>time_max :</span></dt><dd>2022-12-16T19:08:00.000Z</dd><dt><span>time_min :</span></dt><dd>1988-10-20T22:30:00.000Z</dd><dt><span>units :</span></dt><dd>umol/kg</dd><dt><span>variable_25th :</span></dt><dd>43.8</dd><dt><span>variable_50th :</span></dt><dd>51.2</dd><dt><span>variable_75th :</span></dt><dd>61.0</dd><dt><span>variable_count :</span></dt><dd>8919.0</dd><dt><span>variable_max :</span></dt><dd>86.2</dd><dt><span>variable_mean :</span></dt><dd>52.7469895728</dd><dt><span>variable_min :</span></dt><dd>38.0</dd><dt><span>variable_std :</span></dt><dd>8.8810016722</dd><dt><span>visualize :</span></dt><dd>1.0</dd></dl></div><div class='xr-var-data'><pre>[35424 values with dtype=float64]</pre></div></li><li class='xr-var-item'><div class='xr-var-name'><span>alkalinity</span></div><div class='xr-var-dims'>(time, depth, latitude, longitude)</div><div class='xr-var-dtype'>float64</div><div class='xr-var-preview xr-preview'>...</div><input id='attrs-dafc7ec6-0da1-4d56-8f66-a4a9894df86a' class='xr-var-attrs-in' type='checkbox' ><label for='attrs-dafc7ec6-0da1-4d56-8f66-a4a9894df86a' title='Show/Hide attributes'><svg class='icon xr-icon-file-text2'><use xlink:href='#icon-file-text2'></use></svg></label><input id='data-f972e026-5d1b-4e9e-8b64-773168fd4670' class='xr-var-data-in' type='checkbox'><label for='data-f972e026-5d1b-4e9e-8b64-773168fd4670' title='Show/Hide data repr'><svg class='icon xr-icon-database'><use xlink:href='#icon-database'></use></svg></label><div class='xr-var-attrs'><dl class='xr-attrs'><dt><span>acknowledgement :</span></dt><dd>Bermuda Institute of Ocean Sciences</dd><dt><span>comment :</span></dt><dd>nan</dd><dt><span>data_source :</span></dt><dd>Bermuda Institute of Ocean Sciences</dd><dt><span>dataset_description :</span></dt><dd>The BATS Bottle dataset is a collection of discrete bottle samples from 1988-2022, including in-situ measurements of CO2, nutrients, carbon, oxygen, temperature, and Prochlorococcus and Synechococcus abundance. Note all bottle fires are included that do not have any BATS core parameters so as to be of use for other ancillary measurements.\n",
       "\n",
       "This description has been reproduced using https://www.dropbox.com/s/4sdk2tewx46cla8/bats_bottle.txt?dl=0</dd><dt><span>dataset_id :</span></dt><dd>676</dd><dt><span>dataset_name :</span></dt><dd>Bermuda Atlantic Time-Series Study (BATS) Bottle</dd><dt><span>dataset_short_name :</span></dt><dd>BATS_Bottle</dd><dt><span>depth_max :</span></dt><dd>4987.3</dd><dt><span>depth_min :</span></dt><dd>0.1</dd><dt><span>distributor :</span></dt><dd>Bermuda Institute of Ocean Sciences</dd><dt><span>id :</span></dt><dd>17041</dd><dt><span>keywords :</span></dt><dd>AE0811, AE0813, AE0816, AE0820, AE0823, AE0826, AE0829, AE0901, AE0902, AE0903, AE0904, AE0905, AE0907, AE0909, AE0911, AE0916, AE0919, AE0921, AE0924, AE0926, AE0928, AE1001, AE1003, AE1005, AE1006, AE1007, AE1009, AE1012, AE1016, AE1021, AE1024, AE1026, AE1031, AE1033, AE1036, AE1102, AE1105, AE1106, AE1108, AE1109, AE1111, AE1113, AE1116, AE1119, AE1121, AE1125, AE1128, AE1131, AE1201, AE1202, AE1205, AE1207, AE1209, AE1210, AE1212, AE1214, AE1218, AE1222, AE1223, AE1228, AE1231, AE1234, AE1301, AE1302, AE1303, AE1304, AE1305, AE1306, AE1307, AE1309, AE1310, AE1313, AE1315, AE1318, AE1320, AE1323, AE1326, AE1328, AE1402, AE1406, AE1408, AE1411, AE1413, AE1416, AE1418, AE1422, AE1424, AE1425, AE1502, AE1503, AE1505, AE1508, AE1510, AE1511, AE1512, AE1515, AE1517, AE1520, AE1523, AE1528, AE1529, AE1531, AE1602, AE1603, AE1604, AE1605, AE1608, AE1611, AE1615, AE1618, AE1621, AE1624, AE1627, AE1629, AE1701, AE1704, AE1705, AE1707, AE1708, AE1709, AE1713, AE1715, AE1718, AE1722, AE1726, AE1729, AE1802, AE1805, AE1806, AE1808, AE1810, AE1811, AE1814, AE1817, AE1820, AE1822, AE1825, AE1829, AE1831, AE1836, AE1902, AE1905, AE1906, AE1909, AE1912, AE1917, AE1921, AE1923, AE1927, AE1930, AE1932, AE2003, AE2005, AE2009, AE2010, AE2012, AE2014, AE2015, AE2017, AE2019, AE2021, AE2022, AE2101, AE2102, AE2103, AE2104, AE2105, AE2107, AE2109, AE2110, AE2112, AE2116, AE2117, AE2120, AE2124, AE2126, AE2201, AE2204, AE2205, AE2208, AE2210, AE2212, AE2214, AE2217, AE2219, AE2222, AE2224, AE2226, Alkalinity, BATS, bats_bottle, Bermuda Atlantic Time-series Study, Bermuda Atlantic Time-series Study (BATS) Bottle, Bermuda Institute of Ocean Sciences, bio, biogeo, biogeochemistry, biology, BIOS, Bottle, cruise, Discrete, EN592, EN629, EN631, High Precision Titration, in situ, insitu, in-situ, North Atlantic Ocean, observation, OC449-10, rep, reprocessed, station</dd><dt><span>lat_max :</span></dt><dd>35.667</dd><dt><span>lat_min :</span></dt><dd>24.759</dd><dt><span>lon_max :</span></dt><dd>-60.447</dd><dt><span>lon_min :</span></dt><dd>-66.169</dd><dt><span>long_name :</span></dt><dd>Alkalinity</dd><dt><span>make :</span></dt><dd>Observation</dd><dt><span>process_level :</span></dt><dd>Reprocessed</dd><dt><span>refrences :</span></dt><dd>nan</dd><dt><span>sensor :</span></dt><dd>Uncategorized</dd><dt><span>spatial_resolution :</span></dt><dd>Irregular</dd><dt><span>study_domain :</span></dt><dd>Biogeochemistry</dd><dt><span>table_name :</span></dt><dd>tblBATS_Bottle</dd><dt><span>temporal_resolution :</span></dt><dd>Irregular</dd><dt><span>time_max :</span></dt><dd>2022-12-16T19:08:00.000Z</dd><dt><span>time_min :</span></dt><dd>1988-10-20T22:30:00.000Z</dd><dt><span>units :</span></dt><dd>uequiv</dd><dt><span>variable_25th :</span></dt><dd>2366.15</dd><dt><span>variable_50th :</span></dt><dd>2391.7</dd><dt><span>variable_75th :</span></dt><dd>2399.0</dd><dt><span>variable_count :</span></dt><dd>6631.0</dd><dt><span>variable_max :</span></dt><dd>2446.2</dd><dt><span>variable_mean :</span></dt><dd>2378.1548333585</dd><dt><span>variable_min :</span></dt><dd>2302.4</dd><dt><span>variable_std :</span></dt><dd>31.0880457997</dd><dt><span>visualize :</span></dt><dd>1.0</dd></dl></div><div class='xr-var-data'><pre>[35424 values with dtype=float64]</pre></div></li><li class='xr-var-item'><div class='xr-var-name'><span>bacteria_enumeration</span></div><div class='xr-var-dims'>(time, depth, latitude, longitude)</div><div class='xr-var-dtype'>float64</div><div class='xr-var-preview xr-preview'>...</div><input id='attrs-db251f2b-b4a2-47d6-9730-95c84b548432' class='xr-var-attrs-in' type='checkbox' ><label for='attrs-db251f2b-b4a2-47d6-9730-95c84b548432' title='Show/Hide attributes'><svg class='icon xr-icon-file-text2'><use xlink:href='#icon-file-text2'></use></svg></label><input id='data-a3991fbe-aac4-435c-8c81-96fdeba0006f' class='xr-var-data-in' type='checkbox'><label for='data-a3991fbe-aac4-435c-8c81-96fdeba0006f' title='Show/Hide data repr'><svg class='icon xr-icon-database'><use xlink:href='#icon-database'></use></svg></label><div class='xr-var-attrs'><dl class='xr-attrs'><dt><span>acknowledgement :</span></dt><dd>Bermuda Institute of Ocean Sciences</dd><dt><span>comment :</span></dt><dd>nan</dd><dt><span>data_source :</span></dt><dd>Bermuda Institute of Ocean Sciences</dd><dt><span>dataset_description :</span></dt><dd>The BATS Bottle dataset is a collection of discrete bottle samples from 1988-2022, including in-situ measurements of CO2, nutrients, carbon, oxygen, temperature, and Prochlorococcus and Synechococcus abundance. Note all bottle fires are included that do not have any BATS core parameters so as to be of use for other ancillary measurements.\n",
       "\n",
       "This description has been reproduced using https://www.dropbox.com/s/4sdk2tewx46cla8/bats_bottle.txt?dl=0</dd><dt><span>dataset_id :</span></dt><dd>676</dd><dt><span>dataset_name :</span></dt><dd>Bermuda Atlantic Time-Series Study (BATS) Bottle</dd><dt><span>dataset_short_name :</span></dt><dd>BATS_Bottle</dd><dt><span>depth_max :</span></dt><dd>4987.3</dd><dt><span>depth_min :</span></dt><dd>0.1</dd><dt><span>distributor :</span></dt><dd>Bermuda Institute of Ocean Sciences</dd><dt><span>id :</span></dt><dd>17050</dd><dt><span>keywords :</span></dt><dd>AE0811, AE0813, AE0816, AE0820, AE0823, AE0826, AE0829, AE0901, AE0902, AE0903, AE0904, AE0905, AE0907, AE0909, AE0911, AE0916, AE0919, AE0921, AE0924, AE0926, AE0928, AE1001, AE1003, AE1005, AE1006, AE1007, AE1009, AE1012, AE1016, AE1021, AE1024, AE1026, AE1031, AE1033, AE1036, AE1102, AE1105, AE1106, AE1108, AE1109, AE1111, AE1113, AE1116, AE1119, AE1121, AE1125, AE1128, AE1131, AE1201, AE1202, AE1205, AE1207, AE1209, AE1210, AE1212, AE1214, AE1218, AE1222, AE1223, AE1228, AE1231, AE1234, AE1301, AE1302, AE1303, AE1304, AE1305, AE1306, AE1307, AE1309, AE1310, AE1313, AE1315, AE1318, AE1320, AE1323, AE1326, AE1328, AE1402, AE1406, AE1408, AE1411, AE1413, AE1416, AE1418, AE1422, AE1424, AE1425, AE1502, AE1503, AE1505, AE1508, AE1510, AE1511, AE1512, AE1515, AE1517, AE1520, AE1523, AE1528, AE1529, AE1531, AE1602, AE1603, AE1604, AE1605, AE1608, AE1611, AE1615, AE1618, AE1621, AE1624, AE1627, AE1629, AE1701, AE1704, AE1705, AE1707, AE1708, AE1709, AE1713, AE1715, AE1718, AE1722, AE1726, AE1729, AE1802, AE1805, AE1806, AE1808, AE1810, AE1811, AE1814, AE1817, AE1820, AE1822, AE1825, AE1829, AE1831, AE1836, AE1902, AE1905, AE1906, AE1909, AE1912, AE1917, AE1921, AE1923, AE1927, AE1930, AE1932, AE2003, AE2005, AE2009, AE2010, AE2012, AE2014, AE2015, AE2017, AE2019, AE2021, AE2022, AE2101, AE2102, AE2103, AE2104, AE2105, AE2107, AE2109, AE2110, AE2112, AE2116, AE2117, AE2120, AE2124, AE2126, AE2201, AE2204, AE2205, AE2208, AE2210, AE2212, AE2214, AE2217, AE2219, AE2222, AE2224, AE2226, Bacteria Enumeration, bacteria_enumeration, BATS, bats_bottle, Bermuda Atlantic Time-series Study, Bermuda Atlantic Time-series Study (BATS) Bottle, Bermuda Institute of Ocean Sciences, bio, biogeo, biogeochemistry, biology, BIOS, Bottle, cruise, Discrete, EN592, EN629, EN631, in situ, insitu, in-situ, microscope, North Atlantic Ocean, observation, OC449-10, rep, reprocessed, station</dd><dt><span>lat_max :</span></dt><dd>35.667</dd><dt><span>lat_min :</span></dt><dd>24.759</dd><dt><span>lon_max :</span></dt><dd>-60.447</dd><dt><span>lon_min :</span></dt><dd>-66.169</dd><dt><span>long_name :</span></dt><dd>Bacteria Enumeration</dd><dt><span>make :</span></dt><dd>Observation</dd><dt><span>process_level :</span></dt><dd>Reprocessed</dd><dt><span>refrences :</span></dt><dd>nan</dd><dt><span>sensor :</span></dt><dd>Uncategorized</dd><dt><span>spatial_resolution :</span></dt><dd>Irregular</dd><dt><span>study_domain :</span></dt><dd>Biogeochemistry</dd><dt><span>table_name :</span></dt><dd>tblBATS_Bottle</dd><dt><span>temporal_resolution :</span></dt><dd>Irregular</dd><dt><span>time_max :</span></dt><dd>2022-12-16T19:08:00.000Z</dd><dt><span>time_min :</span></dt><dd>1988-10-20T22:30:00.000Z</dd><dt><span>units :</span></dt><dd>cells*10^8/kg</dd><dt><span>variable_25th :</span></dt><dd>0.9</dd><dt><span>variable_50th :</span></dt><dd>2.4</dd><dt><span>variable_75th :</span></dt><dd>4.6</dd><dt><span>variable_count :</span></dt><dd>8774.0</dd><dt><span>variable_max :</span></dt><dd>15.0</dd><dt><span>variable_mean :</span></dt><dd>2.8769774333</dd><dt><span>variable_min :</span></dt><dd>0.0</dd><dt><span>variable_std :</span></dt><dd>2.2159054645</dd><dt><span>visualize :</span></dt><dd>1.0</dd></dl></div><div class='xr-var-data'><pre>[35424 values with dtype=float64]</pre></div></li><li class='xr-var-item'><div class='xr-var-name'><span>dark</span></div><div class='xr-var-dims'>(time, depth, latitude, longitude)</div><div class='xr-var-dtype'>float64</div><div class='xr-var-preview xr-preview'>...</div><input id='attrs-74df22bd-559d-475e-bd83-7571a7db2887' class='xr-var-attrs-in' type='checkbox' ><label for='attrs-74df22bd-559d-475e-bd83-7571a7db2887' title='Show/Hide attributes'><svg class='icon xr-icon-file-text2'><use xlink:href='#icon-file-text2'></use></svg></label><input id='data-c83f50d1-4a72-4580-8db1-75b77cbabd4d' class='xr-var-data-in' type='checkbox'><label for='data-c83f50d1-4a72-4580-8db1-75b77cbabd4d' title='Show/Hide data repr'><svg class='icon xr-icon-database'><use xlink:href='#icon-database'></use></svg></label><div class='xr-var-attrs'><dl class='xr-attrs'><dt><span>acknowledgement :</span></dt><dd>Bermuda Institute of Ocean Sciences</dd><dt><span>comment :</span></dt><dd>https://bats.bios.asu.edu/wp-content/uploads/2017/07/chapter18.pdf</dd><dt><span>data_source :</span></dt><dd>Bermuda Institute of Ocean Sciences</dd><dt><span>dataset_description :</span></dt><dd>The BATS (Bermuda Atlantic Time-series Study) primary production rates dataset is time-series spanning from 1988 to 2022. The dataset contains six primary production bottle estimates, along with CTD temperature and salinity measurements.\n",
       "\n",
       "This description has been reproduced using https://www.dropbox.com/sh/8dbumf8tx3uidjv/AADlDuNqqGVOQ08TLyjQ7nxAa/bats_primary_production_v002.txt?dl=0</dd><dt><span>dataset_id :</span></dt><dd>677</dd><dt><span>dataset_name :</span></dt><dd>Bermuda Atlantic Time-Series Study (BATS) Primary Production</dd><dt><span>dataset_short_name :</span></dt><dd>BATS_Primary_Production</dd><dt><span>depth_max :</span></dt><dd>160.7</dd><dt><span>depth_min :</span></dt><dd>0</dd><dt><span>distributor :</span></dt><dd>Bermuda Institute of Ocean Sciences</dd><dt><span>id :</span></dt><dd>17072</dd><dt><span>keywords :</span></dt><dd>14C Primary Production Dark Bottle, AE0811, AE0813, AE0820, AE0823, AE0826, AE0829, AE0901, AE0902, AE0903, AE0905, AE0907, AE0909, AE0911, AE0916, AE0919, AE0921, AE0924, AE0926, AE0928, AE1003, AE1006, AE1007, AE1009, AE1012, AE1016, AE1021, AE1024, AE1026, AE1031, AE1033, AE1036, AE1102, AE1105, AE1106, AE1108, AE1111, AE1113, AE1116, AE1119, AE1121, AE1125, AE1128, AE1131, AE1201, AE1202, AE1205, AE1207, AE1209, AE1210, AE1212, AE1214, AE1218, AE1222, AE1223, AE1228, AE1231, AE1234, AE1301, AE1303, AE1304, AE1307, AE1309, AE1313, AE1315, AE1318, AE1320, AE1323, AE1326, AE1328, AE1402, AE1406, AE1408, AE1411, AE1413, AE1416, AE1418, AE1422, AE1424, AE1425, AE1502, AE1503, AE1505, AE1508, AE1510, AE1511, AE1515, AE1517, AE1520, AE1523, AE1529, AE1531, AE1602, AE1603, AE1605, AE1608, AE1611, AE1615, AE1618, AE1621, AE1624, AE1627, AE1629, AE1701, AE1704, AE1707, AE1708, AE1709, AE1713, AE1715, AE1718, AE1722, AE1726, AE1729, AE1802, AE1805, AE1806, AE1808, AE1810, AE1811, AE1814, AE1817, AE1820, AE1822, AE1825, AE1829, AE1831, AE1836, AE1902, AE1905, AE1906, AE1909, AE1912, AE1917, AE1921, AE1923, AE1927, AE1930, AE1932, AE2003, AE2005, AE2009, AE2010, AE2012, AE2015, AE2017, AE2019, AE2021, AE2102, AE2103, AE2104, AE2107, AE2109, AE2110, AE2112, AE2116, AE2117, AE2120, AE2124, AE2126, AE2201, AE2205, AE2208, AE2210, AE2212, AE2214, AE2217, AE2219, AE2224, AE2226, BATS, bats_primary_production, Bermuda Atlantic Time-series Study, Bermuda Atlantic Time-Series Study (BATS) Primary Production, Bermuda Institute of Ocean Sciences, bio, biogeo, biogeochemistry, biology, BIOS, cruise, CTD, dark, EN592, EN629, EN631, in situ, insitu, in-situ, North Atlantic Ocean, observation, PP, Primary Production, rep, reprocessed, station</dd><dt><span>lat_max :</span></dt><dd>32.108</dd><dt><span>lat_min :</span></dt><dd>31.135</dd><dt><span>lon_max :</span></dt><dd>-64.012</dd><dt><span>lon_min :</span></dt><dd>-64.914</dd><dt><span>long_name :</span></dt><dd>14C Primary Production Dark Bottle</dd><dt><span>make :</span></dt><dd>Observation</dd><dt><span>process_level :</span></dt><dd>Reprocessed</dd><dt><span>refrences :</span></dt><dd>nan</dd><dt><span>sensor :</span></dt><dd>Uncategorized</dd><dt><span>spatial_resolution :</span></dt><dd>Irregular</dd><dt><span>study_domain :</span></dt><dd>Biogeochemistry</dd><dt><span>table_name :</span></dt><dd>tblBATS_Primary_Production</dd><dt><span>temporal_resolution :</span></dt><dd>Irregular</dd><dt><span>time_max :</span></dt><dd>2022-12-16T08:11:00.000Z</dd><dt><span>time_min :</span></dt><dd>1988-12-18T00:00:00.000Z</dd><dt><span>units :</span></dt><dd>mgC/m^3/day</dd><dt><span>variable_25th :</span></dt><dd>0.39</dd><dt><span>variable_50th :</span></dt><dd>0.58</dd><dt><span>variable_75th :</span></dt><dd>0.9</dd><dt><span>variable_count :</span></dt><dd>3484.0</dd><dt><span>variable_max :</span></dt><dd>22.98</dd><dt><span>variable_mean :</span></dt><dd>1.0357204363</dd><dt><span>variable_min :</span></dt><dd>0.13</dd><dt><span>variable_std :</span></dt><dd>1.7507841885</dd><dt><span>visualize :</span></dt><dd>1.0</dd></dl></div><div class='xr-var-data'><pre>[35424 values with dtype=float64]</pre></div></li><li class='xr-var-item'><div class='xr-var-name'><span>dry_weight_vol_water_ratio</span></div><div class='xr-var-dims'>(time, is_day, depth, latitude, longitude, sieve_size)</div><div class='xr-var-dtype'>float64</div><div class='xr-var-preview xr-preview'>...</div><input id='attrs-cfe577db-afeb-4d3d-8b2b-5b61c7545140' class='xr-var-attrs-in' type='checkbox' ><label for='attrs-cfe577db-afeb-4d3d-8b2b-5b61c7545140' title='Show/Hide attributes'><svg class='icon xr-icon-file-text2'><use xlink:href='#icon-file-text2'></use></svg></label><input id='data-2f35da68-d2a5-4a0b-a80d-6f785a811e70' class='xr-var-data-in' type='checkbox'><label for='data-2f35da68-d2a5-4a0b-a80d-6f785a811e70' title='Show/Hide data repr'><svg class='icon xr-icon-database'><use xlink:href='#icon-database'></use></svg></label><div class='xr-var-attrs'><dl class='xr-attrs'><dt><span>acknowledgement :</span></dt><dd>Bermuda Institute of Ocean Sciences</dd><dt><span>comment :</span></dt><dd>nan</dd><dt><span>data_source :</span></dt><dd>Bermuda Institute of Ocean Sciences</dd><dt><span>dataset_description :</span></dt><dd>The BATS (Bermuda Atlantic Time-series Study) zooplankton biomass dataset is time-series spanning from 1994 to 2022. The dataset contains zooplankton biomass measurements.\n",
       "Due to an ambiguity with depth a subset of the dataset been removed as part of the Simons CMAP curation process. Â The full dataset is available at: https://10.5281/zenodo.10182499. The following dates were impacted by this depth ambiguity: 1994 (4/6 â 12/12); 1995 (1/11 â 4/27, 8/22); 2000 (2/28); 2001 (1/30, 8/7-8/8, 9/12, 10/16); 2004 (2/14, 3/23, 4/7, 7/14-15, 8/16-17); 2005 (1/27); 2006 (5/11, 6/26, 9/4-9/5); 2007 (7/18, 8/9, 10/6); 2008 (6/22); 2009 (2/10, 4/1, 4/15, 5/16, 5/19, 10/10); 2017 (5/9); 2018: (8/13); 2022: (6/29). This description has been reproduced using https://www.dropbox.com/sh/xo6c72qaeznyv05/AACCiijqHcd2chjbwrqNcxica?dl=0&amp;preview=BATS_zooplankton.txt</dd><dt><span>dataset_id :</span></dt><dd>689</dd><dt><span>dataset_name :</span></dt><dd>Bermuda Atlantic Time-Series Study (BATS) Zooplankton Biomass</dd><dt><span>dataset_short_name :</span></dt><dd>BATS_Zooplankton_Biomass</dd><dt><span>depth_max :</span></dt><dd>306.2</dd><dt><span>depth_min :</span></dt><dd>40</dd><dt><span>distributor :</span></dt><dd>Bermuda Institute of Ocean Sciences</dd><dt><span>id :</span></dt><dd>17276</dd><dt><span>keywords :</span></dt><dd>AE0811, AE0813, AE0816, AE0820, AE0823, AE0826, AE0902, AE0903, AE0904, AE0905, AE0911, AE0916, AE0919, AE0921, AE0924, AE0926, AE0928, AE1003, AE1005, AE1006, AE1007, AE1009, AE1012, AE1016, AE1021, AE1024, AE1026, AE1031, AE1033, AE1036, AE1102, AE1105, AE1106, AE1108, AE1109, AE1111, AE1113, AE1116, AE1119, AE1121, AE1125, AE1128, AE1131, AE1201, AE1202, AE1205, AE1209, AE1210, AE1212, AE1214, AE1218, AE1222, AE1223, AE1228, AE1231, AE1234, AE1301, AE1303, AE1304, AE1305, AE1306, AE1307, AE1309, AE1310, AE1313, AE1315, AE1318, AE1320, AE1323, AE1326, AE1328, AE1402, AE1406, AE1408, AE1411, AE1413, AE1416, AE1418, AE1422, AE1424, AE1425, AE1502, AE1503, AE1505, AE1508, AE1510, AE1511, AE1512, AE1515, AE1517, AE1520, AE1523, AE1529, AE1531, AE1602, AE1603, AE1604, AE1605, AE1608, AE1611, AE1615, AE1618, AE1621, AE1624, AE1627, AE1629, AE1701, AE1704, AE1707, AE1708, AE1709, AE1713, AE1715, AE1718, AE1722, AE1726, AE1729, AE1802, AE1805, AE1806, AE1808, AE1810, AE1811, AE1814, AE1817, AE1820, AE1822, AE1825, AE1829, AE1831, AE1836, AE1902, AE1905, AE1906, AE1909, AE1912, AE1917, AE1921, AE1923, AE1927, AE1930, AE1932, AE2003, AE2005, AE2009, AE2010, AE2012, AE2015, AE2017, AE2019, AE2021, AE2101, AE2102, AE2103, AE2104, AE2105, AE2107, AE2109, AE2110, AE2112, AE2116, AE2117, AE2120, AE2124, AE2126, AE2201, AE2204, AE2208, AE2210, AE2212, AE2214, AE2217, AE2219, AE2222, AE2224, AE2226, BATS, bats_zooplankton_biomass, Bermuda Atlantic Time-series Study, Bermuda Atlantic Time-Series Study (BATS) Zooplankton Biomass, Bermuda Institute of Ocean Sciences, bio, biogeo, biogeochemistry, biology, BIOS, cruise, Dry Weight / Volume of Water, dry_weight_vol_water_ratio, EN592, EN629, EN631, in situ, insitu, in-situ, North Atlantic Ocean, observation, rep, reprocessed, station, Zooplankton Biomass, Zooplankton Net</dd><dt><span>lat_max :</span></dt><dd>31.9190833333</dd><dt><span>lat_min :</span></dt><dd>31.4113166667</dd><dt><span>lon_max :</span></dt><dd>-63.8625</dd><dt><span>lon_min :</span></dt><dd>-64.5048333333</dd><dt><span>long_name :</span></dt><dd>Dry Weight / Volume of Water</dd><dt><span>make :</span></dt><dd>Observation</dd><dt><span>process_level :</span></dt><dd>Reprocessed</dd><dt><span>refrences :</span></dt><dd>nan</dd><dt><span>sensor :</span></dt><dd>Zooplankton Net</dd><dt><span>spatial_resolution :</span></dt><dd>Irregular</dd><dt><span>study_domain :</span></dt><dd>Biogeochemistry</dd><dt><span>table_name :</span></dt><dd>tblBATS_Zooplankton_Biomass</dd><dt><span>temporal_resolution :</span></dt><dd>Irregular</dd><dt><span>time_max :</span></dt><dd>2022-12-13T00:00:00.000Z</dd><dt><span>time_min :</span></dt><dd>1995-05-10T00:00:00.000Z</dd><dt><span>units :</span></dt><dd>mg/m^3</dd><dt><span>variable_25th :</span></dt><dd>0.25</dd><dt><span>variable_50th :</span></dt><dd>0.48</dd><dt><span>variable_75th :</span></dt><dd>0.8</dd><dt><span>variable_count :</span></dt><dd>6666.0</dd><dt><span>variable_max :</span></dt><dd>8.88</dd><dt><span>variable_mean :</span></dt><dd>0.6208475848</dd><dt><span>variable_min :</span></dt><dd>0.0</dd><dt><span>variable_std :</span></dt><dd>0.5814016629</dd><dt><span>visualize :</span></dt><dd>1.0</dd></dl></div><div class='xr-var-data'><pre>[354240 values with dtype=float64]</pre></div></li><li class='xr-var-item'><div class='xr-var-name'><span>low_level_phosphorus</span></div><div class='xr-var-dims'>(time, depth, latitude, longitude)</div><div class='xr-var-dtype'>float64</div><div class='xr-var-preview xr-preview'>...</div><input id='attrs-30eecbd0-f177-457d-94c4-594923a8f49b' class='xr-var-attrs-in' type='checkbox' ><label for='attrs-30eecbd0-f177-457d-94c4-594923a8f49b' title='Show/Hide attributes'><svg class='icon xr-icon-file-text2'><use xlink:href='#icon-file-text2'></use></svg></label><input id='data-13bd047d-b557-4a69-ade1-86f26d8be684' class='xr-var-data-in' type='checkbox'><label for='data-13bd047d-b557-4a69-ade1-86f26d8be684' title='Show/Hide data repr'><svg class='icon xr-icon-database'><use xlink:href='#icon-database'></use></svg></label><div class='xr-var-attrs'><dl class='xr-attrs'><dt><span>acknowledgement :</span></dt><dd>Bermuda Institute of Ocean Sciences</dd><dt><span>comment :</span></dt><dd>nan</dd><dt><span>data_source :</span></dt><dd>Bermuda Institute of Ocean Sciences</dd><dt><span>dataset_description :</span></dt><dd>The BATS Bottle dataset is a collection of discrete bottle samples from 1988-2022, including in-situ measurements of CO2, nutrients, carbon, oxygen, temperature, and Prochlorococcus and Synechococcus abundance. Note all bottle fires are included that do not have any BATS core parameters so as to be of use for other ancillary measurements.\n",
       "\n",
       "This description has been reproduced using https://www.dropbox.com/s/4sdk2tewx46cla8/bats_bottle.txt?dl=0</dd><dt><span>dataset_id :</span></dt><dd>676</dd><dt><span>dataset_name :</span></dt><dd>Bermuda Atlantic Time-Series Study (BATS) Bottle</dd><dt><span>dataset_short_name :</span></dt><dd>BATS_Bottle</dd><dt><span>depth_max :</span></dt><dd>4987.3</dd><dt><span>depth_min :</span></dt><dd>0.1</dd><dt><span>distributor :</span></dt><dd>Bermuda Institute of Ocean Sciences</dd><dt><span>id :</span></dt><dd>17053</dd><dt><span>keywords :</span></dt><dd>AE0811, AE0813, AE0816, AE0820, AE0823, AE0826, AE0829, AE0901, AE0902, AE0903, AE0904, AE0905, AE0907, AE0909, AE0911, AE0916, AE0919, AE0921, AE0924, AE0926, AE0928, AE1001, AE1003, AE1005, AE1006, AE1007, AE1009, AE1012, AE1016, AE1021, AE1024, AE1026, AE1031, AE1033, AE1036, AE1102, AE1105, AE1106, AE1108, AE1109, AE1111, AE1113, AE1116, AE1119, AE1121, AE1125, AE1128, AE1131, AE1201, AE1202, AE1205, AE1207, AE1209, AE1210, AE1212, AE1214, AE1218, AE1222, AE1223, AE1228, AE1231, AE1234, AE1301, AE1302, AE1303, AE1304, AE1305, AE1306, AE1307, AE1309, AE1310, AE1313, AE1315, AE1318, AE1320, AE1323, AE1326, AE1328, AE1402, AE1406, AE1408, AE1411, AE1413, AE1416, AE1418, AE1422, AE1424, AE1425, AE1502, AE1503, AE1505, AE1508, AE1510, AE1511, AE1512, AE1515, AE1517, AE1520, AE1523, AE1528, AE1529, AE1531, AE1602, AE1603, AE1604, AE1605, AE1608, AE1611, AE1615, AE1618, AE1621, AE1624, AE1627, AE1629, AE1701, AE1704, AE1705, AE1707, AE1708, AE1709, AE1713, AE1715, AE1718, AE1722, AE1726, AE1729, AE1802, AE1805, AE1806, AE1808, AE1810, AE1811, AE1814, AE1817, AE1820, AE1822, AE1825, AE1829, AE1831, AE1836, AE1902, AE1905, AE1906, AE1909, AE1912, AE1917, AE1921, AE1923, AE1927, AE1930, AE1932, AE2003, AE2005, AE2009, AE2010, AE2012, AE2014, AE2015, AE2017, AE2019, AE2021, AE2022, AE2101, AE2102, AE2103, AE2104, AE2105, AE2107, AE2109, AE2110, AE2112, AE2116, AE2117, AE2120, AE2124, AE2126, AE2201, AE2204, AE2205, AE2208, AE2210, AE2212, AE2214, AE2217, AE2219, AE2222, AE2224, AE2226, BATS, bats_bottle, Bermuda Atlantic Time-series Study, Bermuda Atlantic Time-series Study (BATS) Bottle, Bermuda Institute of Ocean Sciences, bio, biogeo, biogeochemistry, biology, BIOS, Bottle, cruise, Discrete, EN592, EN629, EN631, in situ, insitu, in-situ, LLP, low_level_phosphorus, Low-level Phosphorus, North Atlantic Ocean, observation, OC449-10, rep, reprocessed, station</dd><dt><span>lat_max :</span></dt><dd>35.667</dd><dt><span>lat_min :</span></dt><dd>24.759</dd><dt><span>lon_max :</span></dt><dd>-60.447</dd><dt><span>lon_min :</span></dt><dd>-66.169</dd><dt><span>long_name :</span></dt><dd>Low-level Phosphorus</dd><dt><span>make :</span></dt><dd>Observation</dd><dt><span>process_level :</span></dt><dd>Reprocessed</dd><dt><span>refrences :</span></dt><dd>nan</dd><dt><span>sensor :</span></dt><dd>Uncategorized</dd><dt><span>spatial_resolution :</span></dt><dd>Irregular</dd><dt><span>study_domain :</span></dt><dd>Biogeochemistry</dd><dt><span>table_name :</span></dt><dd>tblBATS_Bottle</dd><dt><span>temporal_resolution :</span></dt><dd>Irregular</dd><dt><span>time_max :</span></dt><dd>2022-12-16T19:08:00.000Z</dd><dt><span>time_min :</span></dt><dd>1988-10-20T22:30:00.000Z</dd><dt><span>units :</span></dt><dd>nmol/kg</dd><dt><span>variable_25th :</span></dt><dd>2.0</dd><dt><span>variable_50th :</span></dt><dd>8.0</dd><dt><span>variable_75th :</span></dt><dd>49.0</dd><dt><span>variable_count :</span></dt><dd>2918.0</dd><dt><span>variable_max :</span></dt><dd>500.0</dd><dt><span>variable_mean :</span></dt><dd>33.1507882111</dd><dt><span>variable_min :</span></dt><dd>0.0</dd><dt><span>variable_std :</span></dt><dd>48.0480192515</dd><dt><span>visualize :</span></dt><dd>1.0</dd></dl></div><div class='xr-var-data'><pre>[35424 values with dtype=float64]</pre></div></li><li class='xr-var-item'><div class='xr-var-name'><span>lt1</span></div><div class='xr-var-dims'>(time, depth, latitude, longitude)</div><div class='xr-var-dtype'>float64</div><div class='xr-var-preview xr-preview'>...</div><input id='attrs-648884b6-c75c-4560-9871-16412ce3b90f' class='xr-var-attrs-in' type='checkbox' ><label for='attrs-648884b6-c75c-4560-9871-16412ce3b90f' title='Show/Hide attributes'><svg class='icon xr-icon-file-text2'><use xlink:href='#icon-file-text2'></use></svg></label><input id='data-e4e66c43-7ba8-4b65-b289-b49177a6dc4a' class='xr-var-data-in' type='checkbox'><label for='data-e4e66c43-7ba8-4b65-b289-b49177a6dc4a' title='Show/Hide data repr'><svg class='icon xr-icon-database'><use xlink:href='#icon-database'></use></svg></label><div class='xr-var-attrs'><dl class='xr-attrs'><dt><span>acknowledgement :</span></dt><dd>Bermuda Institute of Ocean Sciences</dd><dt><span>comment :</span></dt><dd>https://bats.bios.asu.edu/wp-content/uploads/2017/07/chapter18.pdf</dd><dt><span>data_source :</span></dt><dd>Bermuda Institute of Ocean Sciences</dd><dt><span>dataset_description :</span></dt><dd>The BATS (Bermuda Atlantic Time-series Study) primary production rates dataset is time-series spanning from 1988 to 2022. The dataset contains six primary production bottle estimates, along with CTD temperature and salinity measurements.\n",
       "\n",
       "This description has been reproduced using https://www.dropbox.com/sh/8dbumf8tx3uidjv/AADlDuNqqGVOQ08TLyjQ7nxAa/bats_primary_production_v002.txt?dl=0</dd><dt><span>dataset_id :</span></dt><dd>677</dd><dt><span>dataset_name :</span></dt><dd>Bermuda Atlantic Time-Series Study (BATS) Primary Production</dd><dt><span>dataset_short_name :</span></dt><dd>BATS_Primary_Production</dd><dt><span>depth_max :</span></dt><dd>160.7</dd><dt><span>depth_min :</span></dt><dd>0</dd><dt><span>distributor :</span></dt><dd>Bermuda Institute of Ocean Sciences</dd><dt><span>id :</span></dt><dd>17069</dd><dt><span>keywords :</span></dt><dd>14C Primary Production Light Bottle #1, AE0811, AE0813, AE0820, AE0823, AE0826, AE0829, AE0901, AE0902, AE0903, AE0905, AE0907, AE0909, AE0911, AE0916, AE0919, AE0921, AE0924, AE0926, AE0928, AE1003, AE1006, AE1007, AE1009, AE1012, AE1016, AE1021, AE1024, AE1026, AE1031, AE1033, AE1036, AE1102, AE1105, AE1106, AE1108, AE1111, AE1113, AE1116, AE1119, AE1121, AE1125, AE1128, AE1131, AE1201, AE1202, AE1205, AE1207, AE1209, AE1210, AE1212, AE1214, AE1218, AE1222, AE1223, AE1228, AE1231, AE1234, AE1301, AE1303, AE1304, AE1307, AE1309, AE1313, AE1315, AE1318, AE1320, AE1323, AE1326, AE1328, AE1402, AE1406, AE1408, AE1411, AE1413, AE1416, AE1418, AE1422, AE1424, AE1425, AE1502, AE1503, AE1505, AE1508, AE1510, AE1511, AE1515, AE1517, AE1520, AE1523, AE1529, AE1531, AE1602, AE1603, AE1605, AE1608, AE1611, AE1615, AE1618, AE1621, AE1624, AE1627, AE1629, AE1701, AE1704, AE1707, AE1708, AE1709, AE1713, AE1715, AE1718, AE1722, AE1726, AE1729, AE1802, AE1805, AE1806, AE1808, AE1810, AE1811, AE1814, AE1817, AE1820, AE1822, AE1825, AE1829, AE1831, AE1836, AE1902, AE1905, AE1906, AE1909, AE1912, AE1917, AE1921, AE1923, AE1927, AE1930, AE1932, AE2003, AE2005, AE2009, AE2010, AE2012, AE2015, AE2017, AE2019, AE2021, AE2102, AE2103, AE2104, AE2107, AE2109, AE2110, AE2112, AE2116, AE2117, AE2120, AE2124, AE2126, AE2201, AE2205, AE2208, AE2210, AE2212, AE2214, AE2217, AE2219, AE2224, AE2226, BATS, bats_primary_production, Bermuda Atlantic Time-series Study, Bermuda Atlantic Time-Series Study (BATS) Primary Production, Bermuda Institute of Ocean Sciences, bio, biogeo, biogeochemistry, biology, BIOS, cruise, CTD, EN592, EN629, EN631, in situ, insitu, in-situ, lt1, North Atlantic Ocean, observation, PP, Primary Production, rep, reprocessed, station</dd><dt><span>lat_max :</span></dt><dd>32.108</dd><dt><span>lat_min :</span></dt><dd>31.135</dd><dt><span>lon_max :</span></dt><dd>-64.012</dd><dt><span>lon_min :</span></dt><dd>-64.914</dd><dt><span>long_name :</span></dt><dd>14C Primary Production Light Bottle #1</dd><dt><span>make :</span></dt><dd>Observation</dd><dt><span>process_level :</span></dt><dd>Reprocessed</dd><dt><span>refrences :</span></dt><dd>nan</dd><dt><span>sensor :</span></dt><dd>Uncategorized</dd><dt><span>spatial_resolution :</span></dt><dd>Irregular</dd><dt><span>study_domain :</span></dt><dd>Biogeochemistry</dd><dt><span>table_name :</span></dt><dd>tblBATS_Primary_Production</dd><dt><span>temporal_resolution :</span></dt><dd>Irregular</dd><dt><span>time_max :</span></dt><dd>2022-12-16T08:11:00.000Z</dd><dt><span>time_min :</span></dt><dd>1988-12-18T00:00:00.000Z</dd><dt><span>units :</span></dt><dd>mgC/m^3/day</dd><dt><span>variable_25th :</span></dt><dd>1.17</dd><dt><span>variable_50th :</span></dt><dd>3.3</dd><dt><span>variable_75th :</span></dt><dd>5.67</dd><dt><span>variable_count :</span></dt><dd>3477.0</dd><dt><span>variable_max :</span></dt><dd>61.11</dd><dt><span>variable_mean :</span></dt><dd>4.3149065286</dd><dt><span>variable_min :</span></dt><dd>-1.05</dd><dt><span>variable_std :</span></dt><dd>4.4822067637</dd><dt><span>visualize :</span></dt><dd>1.0</dd></dl></div><div class='xr-var-data'><pre>[35424 values with dtype=float64]</pre></div></li><li class='xr-var-item'><div class='xr-var-name'><span>lt2</span></div><div class='xr-var-dims'>(time, depth, latitude, longitude)</div><div class='xr-var-dtype'>float64</div><div class='xr-var-preview xr-preview'>...</div><input id='attrs-7f4e9d5a-7078-4c0b-af8e-2cef45a96e63' class='xr-var-attrs-in' type='checkbox' ><label for='attrs-7f4e9d5a-7078-4c0b-af8e-2cef45a96e63' title='Show/Hide attributes'><svg class='icon xr-icon-file-text2'><use xlink:href='#icon-file-text2'></use></svg></label><input id='data-5d47c080-7bf5-4ece-84f2-b07d11682b5e' class='xr-var-data-in' type='checkbox'><label for='data-5d47c080-7bf5-4ece-84f2-b07d11682b5e' title='Show/Hide data repr'><svg class='icon xr-icon-database'><use xlink:href='#icon-database'></use></svg></label><div class='xr-var-attrs'><dl class='xr-attrs'><dt><span>acknowledgement :</span></dt><dd>Bermuda Institute of Ocean Sciences</dd><dt><span>comment :</span></dt><dd>https://bats.bios.asu.edu/wp-content/uploads/2017/07/chapter18.pdf</dd><dt><span>data_source :</span></dt><dd>Bermuda Institute of Ocean Sciences</dd><dt><span>dataset_description :</span></dt><dd>The BATS (Bermuda Atlantic Time-series Study) primary production rates dataset is time-series spanning from 1988 to 2022. The dataset contains six primary production bottle estimates, along with CTD temperature and salinity measurements.\n",
       "\n",
       "This description has been reproduced using https://www.dropbox.com/sh/8dbumf8tx3uidjv/AADlDuNqqGVOQ08TLyjQ7nxAa/bats_primary_production_v002.txt?dl=0</dd><dt><span>dataset_id :</span></dt><dd>677</dd><dt><span>dataset_name :</span></dt><dd>Bermuda Atlantic Time-Series Study (BATS) Primary Production</dd><dt><span>dataset_short_name :</span></dt><dd>BATS_Primary_Production</dd><dt><span>depth_max :</span></dt><dd>160.7</dd><dt><span>depth_min :</span></dt><dd>0</dd><dt><span>distributor :</span></dt><dd>Bermuda Institute of Ocean Sciences</dd><dt><span>id :</span></dt><dd>17070</dd><dt><span>keywords :</span></dt><dd>14C Primary Production Light Bottle #2, AE0811, AE0813, AE0820, AE0823, AE0826, AE0829, AE0901, AE0902, AE0903, AE0905, AE0907, AE0909, AE0911, AE0916, AE0919, AE0921, AE0924, AE0926, AE0928, AE1003, AE1006, AE1007, AE1009, AE1012, AE1016, AE1021, AE1024, AE1026, AE1031, AE1033, AE1036, AE1102, AE1105, AE1106, AE1108, AE1111, AE1113, AE1116, AE1119, AE1121, AE1125, AE1128, AE1131, AE1201, AE1202, AE1205, AE1207, AE1209, AE1210, AE1212, AE1214, AE1218, AE1222, AE1223, AE1228, AE1231, AE1234, AE1301, AE1303, AE1304, AE1307, AE1309, AE1313, AE1315, AE1318, AE1320, AE1323, AE1326, AE1328, AE1402, AE1406, AE1408, AE1411, AE1413, AE1416, AE1418, AE1422, AE1424, AE1425, AE1502, AE1503, AE1505, AE1508, AE1510, AE1511, AE1515, AE1517, AE1520, AE1523, AE1529, AE1531, AE1602, AE1603, AE1605, AE1608, AE1611, AE1615, AE1618, AE1621, AE1624, AE1627, AE1629, AE1701, AE1704, AE1707, AE1708, AE1709, AE1713, AE1715, AE1718, AE1722, AE1726, AE1729, AE1802, AE1805, AE1806, AE1808, AE1810, AE1811, AE1814, AE1817, AE1820, AE1822, AE1825, AE1829, AE1831, AE1836, AE1902, AE1905, AE1906, AE1909, AE1912, AE1917, AE1921, AE1923, AE1927, AE1930, AE1932, AE2003, AE2005, AE2009, AE2010, AE2012, AE2015, AE2017, AE2019, AE2021, AE2102, AE2103, AE2104, AE2107, AE2109, AE2110, AE2112, AE2116, AE2117, AE2120, AE2124, AE2126, AE2201, AE2205, AE2208, AE2210, AE2212, AE2214, AE2217, AE2219, AE2224, AE2226, BATS, bats_primary_production, Bermuda Atlantic Time-series Study, Bermuda Atlantic Time-Series Study (BATS) Primary Production, Bermuda Institute of Ocean Sciences, bio, biogeo, biogeochemistry, biology, BIOS, cruise, CTD, EN592, EN629, EN631, in situ, insitu, in-situ, lt2, North Atlantic Ocean, observation, PP, Primary Production, rep, reprocessed, station</dd><dt><span>lat_max :</span></dt><dd>32.108</dd><dt><span>lat_min :</span></dt><dd>31.135</dd><dt><span>lon_max :</span></dt><dd>-64.012</dd><dt><span>lon_min :</span></dt><dd>-64.914</dd><dt><span>long_name :</span></dt><dd>14C Primary Production Light Bottle #2</dd><dt><span>make :</span></dt><dd>Observation</dd><dt><span>process_level :</span></dt><dd>Reprocessed</dd><dt><span>refrences :</span></dt><dd>nan</dd><dt><span>sensor :</span></dt><dd>Uncategorized</dd><dt><span>spatial_resolution :</span></dt><dd>Irregular</dd><dt><span>study_domain :</span></dt><dd>Biogeochemistry</dd><dt><span>table_name :</span></dt><dd>tblBATS_Primary_Production</dd><dt><span>temporal_resolution :</span></dt><dd>Irregular</dd><dt><span>time_max :</span></dt><dd>2022-12-16T08:11:00.000Z</dd><dt><span>time_min :</span></dt><dd>1988-12-18T00:00:00.000Z</dd><dt><span>units :</span></dt><dd>mgC/m^3/day</dd><dt><span>variable_25th :</span></dt><dd>1.18</dd><dt><span>variable_50th :</span></dt><dd>3.31</dd><dt><span>variable_75th :</span></dt><dd>5.69</dd><dt><span>variable_count :</span></dt><dd>3465.0</dd><dt><span>variable_max :</span></dt><dd>66.4</dd><dt><span>variable_mean :</span></dt><dd>4.3482539683</dd><dt><span>variable_min :</span></dt><dd>-0.77</dd><dt><span>variable_std :</span></dt><dd>4.6013423692</dd><dt><span>visualize :</span></dt><dd>1.0</dd></dl></div><div class='xr-var-data'><pre>[35424 values with dtype=float64]</pre></div></li><li class='xr-var-item'><div class='xr-var-name'><span>lt3</span></div><div class='xr-var-dims'>(time, depth, latitude, longitude)</div><div class='xr-var-dtype'>float64</div><div class='xr-var-preview xr-preview'>...</div><input id='attrs-cfdbb7ba-329d-485a-826d-488882a213b8' class='xr-var-attrs-in' type='checkbox' ><label for='attrs-cfdbb7ba-329d-485a-826d-488882a213b8' title='Show/Hide attributes'><svg class='icon xr-icon-file-text2'><use xlink:href='#icon-file-text2'></use></svg></label><input id='data-2cae9b6b-d247-46a9-97a4-e2f3db852274' class='xr-var-data-in' type='checkbox'><label for='data-2cae9b6b-d247-46a9-97a4-e2f3db852274' title='Show/Hide data repr'><svg class='icon xr-icon-database'><use xlink:href='#icon-database'></use></svg></label><div class='xr-var-attrs'><dl class='xr-attrs'><dt><span>acknowledgement :</span></dt><dd>Bermuda Institute of Ocean Sciences</dd><dt><span>comment :</span></dt><dd>https://bats.bios.asu.edu/wp-content/uploads/2017/07/chapter18.pdf</dd><dt><span>data_source :</span></dt><dd>Bermuda Institute of Ocean Sciences</dd><dt><span>dataset_description :</span></dt><dd>The BATS (Bermuda Atlantic Time-series Study) primary production rates dataset is time-series spanning from 1988 to 2022. The dataset contains six primary production bottle estimates, along with CTD temperature and salinity measurements.\n",
       "\n",
       "This description has been reproduced using https://www.dropbox.com/sh/8dbumf8tx3uidjv/AADlDuNqqGVOQ08TLyjQ7nxAa/bats_primary_production_v002.txt?dl=0</dd><dt><span>dataset_id :</span></dt><dd>677</dd><dt><span>dataset_name :</span></dt><dd>Bermuda Atlantic Time-Series Study (BATS) Primary Production</dd><dt><span>dataset_short_name :</span></dt><dd>BATS_Primary_Production</dd><dt><span>depth_max :</span></dt><dd>160.7</dd><dt><span>depth_min :</span></dt><dd>0</dd><dt><span>distributor :</span></dt><dd>Bermuda Institute of Ocean Sciences</dd><dt><span>id :</span></dt><dd>17071</dd><dt><span>keywords :</span></dt><dd>14C Primary Production Light Bottle #3, AE0811, AE0813, AE0820, AE0823, AE0826, AE0829, AE0901, AE0902, AE0903, AE0905, AE0907, AE0909, AE0911, AE0916, AE0919, AE0921, AE0924, AE0926, AE0928, AE1003, AE1006, AE1007, AE1009, AE1012, AE1016, AE1021, AE1024, AE1026, AE1031, AE1033, AE1036, AE1102, AE1105, AE1106, AE1108, AE1111, AE1113, AE1116, AE1119, AE1121, AE1125, AE1128, AE1131, AE1201, AE1202, AE1205, AE1207, AE1209, AE1210, AE1212, AE1214, AE1218, AE1222, AE1223, AE1228, AE1231, AE1234, AE1301, AE1303, AE1304, AE1307, AE1309, AE1313, AE1315, AE1318, AE1320, AE1323, AE1326, AE1328, AE1402, AE1406, AE1408, AE1411, AE1413, AE1416, AE1418, AE1422, AE1424, AE1425, AE1502, AE1503, AE1505, AE1508, AE1510, AE1511, AE1515, AE1517, AE1520, AE1523, AE1529, AE1531, AE1602, AE1603, AE1605, AE1608, AE1611, AE1615, AE1618, AE1621, AE1624, AE1627, AE1629, AE1701, AE1704, AE1707, AE1708, AE1709, AE1713, AE1715, AE1718, AE1722, AE1726, AE1729, AE1802, AE1805, AE1806, AE1808, AE1810, AE1811, AE1814, AE1817, AE1820, AE1822, AE1825, AE1829, AE1831, AE1836, AE1902, AE1905, AE1906, AE1909, AE1912, AE1917, AE1921, AE1923, AE1927, AE1930, AE1932, AE2003, AE2005, AE2009, AE2010, AE2012, AE2015, AE2017, AE2019, AE2021, AE2102, AE2103, AE2104, AE2107, AE2109, AE2110, AE2112, AE2116, AE2117, AE2120, AE2124, AE2126, AE2201, AE2205, AE2208, AE2210, AE2212, AE2214, AE2217, AE2219, AE2224, AE2226, BATS, bats_primary_production, Bermuda Atlantic Time-series Study, Bermuda Atlantic Time-Series Study (BATS) Primary Production, Bermuda Institute of Ocean Sciences, bio, biogeo, biogeochemistry, biology, BIOS, cruise, CTD, EN592, EN629, EN631, in situ, insitu, in-situ, lt3, North Atlantic Ocean, observation, PP, Primary Production, rep, reprocessed, station</dd><dt><span>lat_max :</span></dt><dd>32.108</dd><dt><span>lat_min :</span></dt><dd>31.135</dd><dt><span>lon_max :</span></dt><dd>-64.012</dd><dt><span>lon_min :</span></dt><dd>-64.914</dd><dt><span>long_name :</span></dt><dd>14C Primary Production Light Bottle #3</dd><dt><span>make :</span></dt><dd>Observation</dd><dt><span>process_level :</span></dt><dd>Reprocessed</dd><dt><span>refrences :</span></dt><dd>nan</dd><dt><span>sensor :</span></dt><dd>Uncategorized</dd><dt><span>spatial_resolution :</span></dt><dd>Irregular</dd><dt><span>study_domain :</span></dt><dd>Biogeochemistry</dd><dt><span>table_name :</span></dt><dd>tblBATS_Primary_Production</dd><dt><span>temporal_resolution :</span></dt><dd>Irregular</dd><dt><span>time_max :</span></dt><dd>2022-12-16T08:11:00.000Z</dd><dt><span>time_min :</span></dt><dd>1988-12-18T00:00:00.000Z</dd><dt><span>units :</span></dt><dd>mgC/m^3/day</dd><dt><span>variable_25th :</span></dt><dd>1.16</dd><dt><span>variable_50th :</span></dt><dd>3.28</dd><dt><span>variable_75th :</span></dt><dd>5.71</dd><dt><span>variable_count :</span></dt><dd>3442.0</dd><dt><span>variable_max :</span></dt><dd>66.72</dd><dt><span>variable_mean :</span></dt><dd>4.3723038931</dd><dt><span>variable_min :</span></dt><dd>-1.32</dd><dt><span>variable_std :</span></dt><dd>4.6418038634</dd><dt><span>visualize :</span></dt><dd>1.0</dd></dl></div><div class='xr-var-data'><pre>[35424 values with dtype=float64]</pre></div></li><li class='xr-var-item'><div class='xr-var-name'><span>nanoeukaryotes</span></div><div class='xr-var-dims'>(time, depth, latitude, longitude)</div><div class='xr-var-dtype'>float64</div><div class='xr-var-preview xr-preview'>...</div><input id='attrs-f2a4fb77-544a-41f9-945e-878f4ed479de' class='xr-var-attrs-in' type='checkbox' ><label for='attrs-f2a4fb77-544a-41f9-945e-878f4ed479de' title='Show/Hide attributes'><svg class='icon xr-icon-file-text2'><use xlink:href='#icon-file-text2'></use></svg></label><input id='data-bd8b7c05-9366-4c6b-9658-c6e67e451b9c' class='xr-var-data-in' type='checkbox'><label for='data-bd8b7c05-9366-4c6b-9658-c6e67e451b9c' title='Show/Hide data repr'><svg class='icon xr-icon-database'><use xlink:href='#icon-database'></use></svg></label><div class='xr-var-attrs'><dl class='xr-attrs'><dt><span>acknowledgement :</span></dt><dd>Bermuda Institute of Ocean Sciences</dd><dt><span>comment :</span></dt><dd>nan</dd><dt><span>data_source :</span></dt><dd>Bermuda Institute of Ocean Sciences</dd><dt><span>dataset_description :</span></dt><dd>The BATS Bottle dataset is a collection of discrete bottle samples from 1988-2022, including in-situ measurements of CO2, nutrients, carbon, oxygen, temperature, and Prochlorococcus and Synechococcus abundance. Note all bottle fires are included that do not have any BATS core parameters so as to be of use for other ancillary measurements.\n",
       "\n",
       "This description has been reproduced using https://www.dropbox.com/s/4sdk2tewx46cla8/bats_bottle.txt?dl=0</dd><dt><span>dataset_id :</span></dt><dd>676</dd><dt><span>dataset_name :</span></dt><dd>Bermuda Atlantic Time-Series Study (BATS) Bottle</dd><dt><span>dataset_short_name :</span></dt><dd>BATS_Bottle</dd><dt><span>depth_max :</span></dt><dd>4987.3</dd><dt><span>depth_min :</span></dt><dd>0.1</dd><dt><span>distributor :</span></dt><dd>Bermuda Institute of Ocean Sciences</dd><dt><span>id :</span></dt><dd>17059</dd><dt><span>keywords :</span></dt><dd>AE0811, AE0813, AE0816, AE0820, AE0823, AE0826, AE0829, AE0901, AE0902, AE0903, AE0904, AE0905, AE0907, AE0909, AE0911, AE0916, AE0919, AE0921, AE0924, AE0926, AE0928, AE1001, AE1003, AE1005, AE1006, AE1007, AE1009, AE1012, AE1016, AE1021, AE1024, AE1026, AE1031, AE1033, AE1036, AE1102, AE1105, AE1106, AE1108, AE1109, AE1111, AE1113, AE1116, AE1119, AE1121, AE1125, AE1128, AE1131, AE1201, AE1202, AE1205, AE1207, AE1209, AE1210, AE1212, AE1214, AE1218, AE1222, AE1223, AE1228, AE1231, AE1234, AE1301, AE1302, AE1303, AE1304, AE1305, AE1306, AE1307, AE1309, AE1310, AE1313, AE1315, AE1318, AE1320, AE1323, AE1326, AE1328, AE1402, AE1406, AE1408, AE1411, AE1413, AE1416, AE1418, AE1422, AE1424, AE1425, AE1502, AE1503, AE1505, AE1508, AE1510, AE1511, AE1512, AE1515, AE1517, AE1520, AE1523, AE1528, AE1529, AE1531, AE1602, AE1603, AE1604, AE1605, AE1608, AE1611, AE1615, AE1618, AE1621, AE1624, AE1627, AE1629, AE1701, AE1704, AE1705, AE1707, AE1708, AE1709, AE1713, AE1715, AE1718, AE1722, AE1726, AE1729, AE1802, AE1805, AE1806, AE1808, AE1810, AE1811, AE1814, AE1817, AE1820, AE1822, AE1825, AE1829, AE1831, AE1836, AE1902, AE1905, AE1906, AE1909, AE1912, AE1917, AE1921, AE1923, AE1927, AE1930, AE1932, AE2003, AE2005, AE2009, AE2010, AE2012, AE2014, AE2015, AE2017, AE2019, AE2021, AE2022, AE2101, AE2102, AE2103, AE2104, AE2105, AE2107, AE2109, AE2110, AE2112, AE2116, AE2117, AE2120, AE2124, AE2126, AE2201, AE2204, AE2205, AE2208, AE2210, AE2212, AE2214, AE2217, AE2219, AE2222, AE2224, AE2226, BATS, bats_bottle, Bermuda Atlantic Time-series Study, Bermuda Atlantic Time-series Study (BATS) Bottle, Bermuda Institute of Ocean Sciences, bio, biogeo, biogeochemistry, biology, BIOS, Bottle, cruise, Discrete, EN592, EN629, EN631, Flow Cytometer, in situ, insitu, in-situ, Nanoeukaryotes, North Atlantic Ocean, observation, OC449-10, rep, reprocessed, station</dd><dt><span>lat_max :</span></dt><dd>35.667</dd><dt><span>lat_min :</span></dt><dd>24.759</dd><dt><span>lon_max :</span></dt><dd>-60.447</dd><dt><span>lon_min :</span></dt><dd>-66.169</dd><dt><span>long_name :</span></dt><dd>Nanoeukaryotes</dd><dt><span>make :</span></dt><dd>Observation</dd><dt><span>process_level :</span></dt><dd>Reprocessed</dd><dt><span>refrences :</span></dt><dd>nan</dd><dt><span>sensor :</span></dt><dd>Flow Cytometer</dd><dt><span>spatial_resolution :</span></dt><dd>Irregular</dd><dt><span>study_domain :</span></dt><dd>Biogeochemistry</dd><dt><span>table_name :</span></dt><dd>tblBATS_Bottle</dd><dt><span>temporal_resolution :</span></dt><dd>Irregular</dd><dt><span>time_max :</span></dt><dd>2022-12-16T19:08:00.000Z</dd><dt><span>time_min :</span></dt><dd>1988-10-20T22:30:00.000Z</dd><dt><span>units :</span></dt><dd>cells/ml</dd><dt><span>variable_25th :</span></dt><dd>23.0</dd><dt><span>variable_50th :</span></dt><dd>61.0</dd><dt><span>variable_75th :</span></dt><dd>145.0</dd><dt><span>variable_count :</span></dt><dd>2581.0</dd><dt><span>variable_max :</span></dt><dd>3829.0</dd><dt><span>variable_mean :</span></dt><dd>133.024021697</dd><dt><span>variable_min :</span></dt><dd>5.0</dd><dt><span>variable_std :</span></dt><dd>207.3793125355</dd><dt><span>visualize :</span></dt><dd>1.0</dd></dl></div><div class='xr-var-data'><pre>[35424 values with dtype=float64]</pre></div></li><li class='xr-var-item'><div class='xr-var-name'><span>nitrate_nitrite</span></div><div class='xr-var-dims'>(time, depth, latitude, longitude)</div><div class='xr-var-dtype'>float64</div><div class='xr-var-preview xr-preview'>...</div><input id='attrs-1334f2cc-6032-468f-89e2-42ba87731a36' class='xr-var-attrs-in' type='checkbox' ><label for='attrs-1334f2cc-6032-468f-89e2-42ba87731a36' title='Show/Hide attributes'><svg class='icon xr-icon-file-text2'><use xlink:href='#icon-file-text2'></use></svg></label><input id='data-5e2a5dfa-a929-4992-b864-833608e6b65b' class='xr-var-data-in' type='checkbox'><label for='data-5e2a5dfa-a929-4992-b864-833608e6b65b' title='Show/Hide data repr'><svg class='icon xr-icon-database'><use xlink:href='#icon-database'></use></svg></label><div class='xr-var-attrs'><dl class='xr-attrs'><dt><span>acknowledgement :</span></dt><dd>Bermuda Institute of Ocean Sciences</dd><dt><span>comment :</span></dt><dd>nan</dd><dt><span>data_source :</span></dt><dd>Bermuda Institute of Ocean Sciences</dd><dt><span>dataset_description :</span></dt><dd>The BATS Bottle dataset is a collection of discrete bottle samples from 1988-2022, including in-situ measurements of CO2, nutrients, carbon, oxygen, temperature, and Prochlorococcus and Synechococcus abundance. Note all bottle fires are included that do not have any BATS core parameters so as to be of use for other ancillary measurements.\n",
       "\n",
       "This description has been reproduced using https://www.dropbox.com/s/4sdk2tewx46cla8/bats_bottle.txt?dl=0</dd><dt><span>dataset_id :</span></dt><dd>676</dd><dt><span>dataset_name :</span></dt><dd>Bermuda Atlantic Time-Series Study (BATS) Bottle</dd><dt><span>dataset_short_name :</span></dt><dd>BATS_Bottle</dd><dt><span>depth_max :</span></dt><dd>4987.3</dd><dt><span>depth_min :</span></dt><dd>0.1</dd><dt><span>distributor :</span></dt><dd>Bermuda Institute of Ocean Sciences</dd><dt><span>id :</span></dt><dd>17042</dd><dt><span>keywords :</span></dt><dd>AE0811, AE0813, AE0816, AE0820, AE0823, AE0826, AE0829, AE0901, AE0902, AE0903, AE0904, AE0905, AE0907, AE0909, AE0911, AE0916, AE0919, AE0921, AE0924, AE0926, AE0928, AE1001, AE1003, AE1005, AE1006, AE1007, AE1009, AE1012, AE1016, AE1021, AE1024, AE1026, AE1031, AE1033, AE1036, AE1102, AE1105, AE1106, AE1108, AE1109, AE1111, AE1113, AE1116, AE1119, AE1121, AE1125, AE1128, AE1131, AE1201, AE1202, AE1205, AE1207, AE1209, AE1210, AE1212, AE1214, AE1218, AE1222, AE1223, AE1228, AE1231, AE1234, AE1301, AE1302, AE1303, AE1304, AE1305, AE1306, AE1307, AE1309, AE1310, AE1313, AE1315, AE1318, AE1320, AE1323, AE1326, AE1328, AE1402, AE1406, AE1408, AE1411, AE1413, AE1416, AE1418, AE1422, AE1424, AE1425, AE1502, AE1503, AE1505, AE1508, AE1510, AE1511, AE1512, AE1515, AE1517, AE1520, AE1523, AE1528, AE1529, AE1531, AE1602, AE1603, AE1604, AE1605, AE1608, AE1611, AE1615, AE1618, AE1621, AE1624, AE1627, AE1629, AE1701, AE1704, AE1705, AE1707, AE1708, AE1709, AE1713, AE1715, AE1718, AE1722, AE1726, AE1729, AE1802, AE1805, AE1806, AE1808, AE1810, AE1811, AE1814, AE1817, AE1820, AE1822, AE1825, AE1829, AE1831, AE1836, AE1902, AE1905, AE1906, AE1909, AE1912, AE1917, AE1921, AE1923, AE1927, AE1930, AE1932, AE2003, AE2005, AE2009, AE2010, AE2012, AE2014, AE2015, AE2017, AE2019, AE2021, AE2022, AE2101, AE2102, AE2103, AE2104, AE2105, AE2107, AE2109, AE2110, AE2112, AE2116, AE2117, AE2120, AE2124, AE2126, AE2201, AE2204, AE2205, AE2208, AE2210, AE2212, AE2214, AE2217, AE2219, AE2222, AE2224, AE2226, Autoanalyzer, BATS, bats_bottle, Bermuda Atlantic Time-series Study, Bermuda Atlantic Time-series Study (BATS) Bottle, Bermuda Institute of Ocean Sciences, bio, biogeo, biogeochemistry, biology, BIOS, Bottle, cruise, Discrete, EN592, EN629, EN631, in situ, insitu, in-situ, N+N, nitrate_nitrite, Nitrate+Nitrite-1, NO2+NO3, North Atlantic Ocean, observation, OC449-10, rep, reprocessed, station</dd><dt><span>lat_max :</span></dt><dd>35.667</dd><dt><span>lat_min :</span></dt><dd>24.759</dd><dt><span>lon_max :</span></dt><dd>-60.447</dd><dt><span>lon_min :</span></dt><dd>-66.169</dd><dt><span>long_name :</span></dt><dd>Nitrate+Nitrite-1</dd><dt><span>make :</span></dt><dd>Observation</dd><dt><span>process_level :</span></dt><dd>Reprocessed</dd><dt><span>refrences :</span></dt><dd>nan</dd><dt><span>sensor :</span></dt><dd>Autoanalyzer</dd><dt><span>spatial_resolution :</span></dt><dd>Irregular</dd><dt><span>study_domain :</span></dt><dd>Biogeochemistry</dd><dt><span>table_name :</span></dt><dd>tblBATS_Bottle</dd><dt><span>temporal_resolution :</span></dt><dd>Irregular</dd><dt><span>time_max :</span></dt><dd>2022-12-16T19:08:00.000Z</dd><dt><span>time_min :</span></dt><dd>1988-10-20T22:30:00.000Z</dd><dt><span>units :</span></dt><dd>umol/kg</dd><dt><span>variable_25th :</span></dt><dd>0.39</dd><dt><span>variable_50th :</span></dt><dd>6.81</dd><dt><span>variable_75th :</span></dt><dd>18.37</dd><dt><span>variable_count :</span></dt><dd>16267.0</dd><dt><span>variable_max :</span></dt><dd>28.37</dd><dt><span>variable_mean :</span></dt><dd>9.6319622549</dd><dt><span>variable_min :</span></dt><dd>0.0</dd><dt><span>variable_std :</span></dt><dd>8.7264101218</dd><dt><span>visualize :</span></dt><dd>1.0</dd></dl></div><div class='xr-var-data'><pre>[35424 values with dtype=float64]</pre></div></li><li class='xr-var-item'><div class='xr-var-name'><span>nitrite</span></div><div class='xr-var-dims'>(time, depth, latitude, longitude)</div><div class='xr-var-dtype'>float64</div><div class='xr-var-preview xr-preview'>...</div><input id='attrs-8e768369-1d04-461c-bd7d-e0977a639eb5' class='xr-var-attrs-in' type='checkbox' ><label for='attrs-8e768369-1d04-461c-bd7d-e0977a639eb5' title='Show/Hide attributes'><svg class='icon xr-icon-file-text2'><use xlink:href='#icon-file-text2'></use></svg></label><input id='data-f964e05b-52a9-44b7-9e3c-2f6130106024' class='xr-var-data-in' type='checkbox'><label for='data-f964e05b-52a9-44b7-9e3c-2f6130106024' title='Show/Hide data repr'><svg class='icon xr-icon-database'><use xlink:href='#icon-database'></use></svg></label><div class='xr-var-attrs'><dl class='xr-attrs'><dt><span>acknowledgement :</span></dt><dd>Bermuda Institute of Ocean Sciences</dd><dt><span>comment :</span></dt><dd>nan</dd><dt><span>data_source :</span></dt><dd>Bermuda Institute of Ocean Sciences</dd><dt><span>dataset_description :</span></dt><dd>The BATS Bottle dataset is a collection of discrete bottle samples from 1988-2022, including in-situ measurements of CO2, nutrients, carbon, oxygen, temperature, and Prochlorococcus and Synechococcus abundance. Note all bottle fires are included that do not have any BATS core parameters so as to be of use for other ancillary measurements.\n",
       "\n",
       "This description has been reproduced using https://www.dropbox.com/s/4sdk2tewx46cla8/bats_bottle.txt?dl=0</dd><dt><span>dataset_id :</span></dt><dd>676</dd><dt><span>dataset_name :</span></dt><dd>Bermuda Atlantic Time-Series Study (BATS) Bottle</dd><dt><span>dataset_short_name :</span></dt><dd>BATS_Bottle</dd><dt><span>depth_max :</span></dt><dd>4987.3</dd><dt><span>depth_min :</span></dt><dd>0.1</dd><dt><span>distributor :</span></dt><dd>Bermuda Institute of Ocean Sciences</dd><dt><span>id :</span></dt><dd>17043</dd><dt><span>keywords :</span></dt><dd>AE0811, AE0813, AE0816, AE0820, AE0823, AE0826, AE0829, AE0901, AE0902, AE0903, AE0904, AE0905, AE0907, AE0909, AE0911, AE0916, AE0919, AE0921, AE0924, AE0926, AE0928, AE1001, AE1003, AE1005, AE1006, AE1007, AE1009, AE1012, AE1016, AE1021, AE1024, AE1026, AE1031, AE1033, AE1036, AE1102, AE1105, AE1106, AE1108, AE1109, AE1111, AE1113, AE1116, AE1119, AE1121, AE1125, AE1128, AE1131, AE1201, AE1202, AE1205, AE1207, AE1209, AE1210, AE1212, AE1214, AE1218, AE1222, AE1223, AE1228, AE1231, AE1234, AE1301, AE1302, AE1303, AE1304, AE1305, AE1306, AE1307, AE1309, AE1310, AE1313, AE1315, AE1318, AE1320, AE1323, AE1326, AE1328, AE1402, AE1406, AE1408, AE1411, AE1413, AE1416, AE1418, AE1422, AE1424, AE1425, AE1502, AE1503, AE1505, AE1508, AE1510, AE1511, AE1512, AE1515, AE1517, AE1520, AE1523, AE1528, AE1529, AE1531, AE1602, AE1603, AE1604, AE1605, AE1608, AE1611, AE1615, AE1618, AE1621, AE1624, AE1627, AE1629, AE1701, AE1704, AE1705, AE1707, AE1708, AE1709, AE1713, AE1715, AE1718, AE1722, AE1726, AE1729, AE1802, AE1805, AE1806, AE1808, AE1810, AE1811, AE1814, AE1817, AE1820, AE1822, AE1825, AE1829, AE1831, AE1836, AE1902, AE1905, AE1906, AE1909, AE1912, AE1917, AE1921, AE1923, AE1927, AE1930, AE1932, AE2003, AE2005, AE2009, AE2010, AE2012, AE2014, AE2015, AE2017, AE2019, AE2021, AE2022, AE2101, AE2102, AE2103, AE2104, AE2105, AE2107, AE2109, AE2110, AE2112, AE2116, AE2117, AE2120, AE2124, AE2126, AE2201, AE2204, AE2205, AE2208, AE2210, AE2212, AE2214, AE2217, AE2219, AE2222, AE2224, AE2226, Autoanalyzer, BATS, bats_bottle, Bermuda Atlantic Time-series Study, Bermuda Atlantic Time-series Study (BATS) Bottle, Bermuda Institute of Ocean Sciences, bio, biogeo, biogeochemistry, biology, BIOS, Bottle, cruise, Discrete, EN592, EN629, EN631, in situ, insitu, in-situ, nitrite, Nitrite-1, NO2, North Atlantic Ocean, observation, OC449-10, rep, reprocessed, station</dd><dt><span>lat_max :</span></dt><dd>35.667</dd><dt><span>lat_min :</span></dt><dd>24.759</dd><dt><span>lon_max :</span></dt><dd>-60.447</dd><dt><span>lon_min :</span></dt><dd>-66.169</dd><dt><span>long_name :</span></dt><dd>Nitrite-1</dd><dt><span>make :</span></dt><dd>Observation</dd><dt><span>process_level :</span></dt><dd>Reprocessed</dd><dt><span>refrences :</span></dt><dd>nan</dd><dt><span>sensor :</span></dt><dd>Autoanalyzer</dd><dt><span>spatial_resolution :</span></dt><dd>Irregular</dd><dt><span>study_domain :</span></dt><dd>Biogeochemistry</dd><dt><span>table_name :</span></dt><dd>tblBATS_Bottle</dd><dt><span>temporal_resolution :</span></dt><dd>Irregular</dd><dt><span>time_max :</span></dt><dd>2022-12-16T19:08:00.000Z</dd><dt><span>time_min :</span></dt><dd>1988-10-20T22:30:00.000Z</dd><dt><span>units :</span></dt><dd>umol/kg</dd><dt><span>variable_25th :</span></dt><dd>0.0</dd><dt><span>variable_50th :</span></dt><dd>0.0</dd><dt><span>variable_75th :</span></dt><dd>0.0</dd><dt><span>variable_count :</span></dt><dd>15107.0</dd><dt><span>variable_max :</span></dt><dd>0.478</dd><dt><span>variable_mean :</span></dt><dd>0.0145376978</dd><dt><span>variable_min :</span></dt><dd>0.0</dd><dt><span>variable_std :</span></dt><dd>0.0432807942</dd><dt><span>visualize :</span></dt><dd>1.0</dd></dl></div><div class='xr-var-data'><pre>[35424 values with dtype=float64]</pre></div></li><li class='xr-var-item'><div class='xr-var-name'><span>oxygen</span></div><div class='xr-var-dims'>(time, depth, latitude, longitude)</div><div class='xr-var-dtype'>float64</div><div class='xr-var-preview xr-preview'>...</div><input id='attrs-5153c5be-0ebd-4114-9a18-631a50773d50' class='xr-var-attrs-in' type='checkbox' ><label for='attrs-5153c5be-0ebd-4114-9a18-631a50773d50' title='Show/Hide attributes'><svg class='icon xr-icon-file-text2'><use xlink:href='#icon-file-text2'></use></svg></label><input id='data-de7c19da-6488-4fec-be47-8f84038f42fd' class='xr-var-data-in' type='checkbox'><label for='data-de7c19da-6488-4fec-be47-8f84038f42fd' title='Show/Hide data repr'><svg class='icon xr-icon-database'><use xlink:href='#icon-database'></use></svg></label><div class='xr-var-attrs'><dl class='xr-attrs'><dt><span>acknowledgement :</span></dt><dd>Bermuda Institute of Ocean Sciences</dd><dt><span>comment :</span></dt><dd>nan</dd><dt><span>data_source :</span></dt><dd>Bermuda Institute of Ocean Sciences</dd><dt><span>dataset_description :</span></dt><dd>The BATS Bottle dataset is a collection of discrete bottle samples from 1988-2022, including in-situ measurements of CO2, nutrients, carbon, oxygen, temperature, and Prochlorococcus and Synechococcus abundance. Note all bottle fires are included that do not have any BATS core parameters so as to be of use for other ancillary measurements.\n",
       "\n",
       "This description has been reproduced using https://www.dropbox.com/s/4sdk2tewx46cla8/bats_bottle.txt?dl=0</dd><dt><span>dataset_id :</span></dt><dd>676</dd><dt><span>dataset_name :</span></dt><dd>Bermuda Atlantic Time-Series Study (BATS) Bottle</dd><dt><span>dataset_short_name :</span></dt><dd>BATS_Bottle</dd><dt><span>depth_max :</span></dt><dd>4987.3</dd><dt><span>depth_min :</span></dt><dd>0.1</dd><dt><span>distributor :</span></dt><dd>Bermuda Institute of Ocean Sciences</dd><dt><span>id :</span></dt><dd>17037</dd><dt><span>keywords :</span></dt><dd>AE0811, AE0813, AE0816, AE0820, AE0823, AE0826, AE0829, AE0901, AE0902, AE0903, AE0904, AE0905, AE0907, AE0909, AE0911, AE0916, AE0919, AE0921, AE0924, AE0926, AE0928, AE1001, AE1003, AE1005, AE1006, AE1007, AE1009, AE1012, AE1016, AE1021, AE1024, AE1026, AE1031, AE1033, AE1036, AE1102, AE1105, AE1106, AE1108, AE1109, AE1111, AE1113, AE1116, AE1119, AE1121, AE1125, AE1128, AE1131, AE1201, AE1202, AE1205, AE1207, AE1209, AE1210, AE1212, AE1214, AE1218, AE1222, AE1223, AE1228, AE1231, AE1234, AE1301, AE1302, AE1303, AE1304, AE1305, AE1306, AE1307, AE1309, AE1310, AE1313, AE1315, AE1318, AE1320, AE1323, AE1326, AE1328, AE1402, AE1406, AE1408, AE1411, AE1413, AE1416, AE1418, AE1422, AE1424, AE1425, AE1502, AE1503, AE1505, AE1508, AE1510, AE1511, AE1512, AE1515, AE1517, AE1520, AE1523, AE1528, AE1529, AE1531, AE1602, AE1603, AE1604, AE1605, AE1608, AE1611, AE1615, AE1618, AE1621, AE1624, AE1627, AE1629, AE1701, AE1704, AE1705, AE1707, AE1708, AE1709, AE1713, AE1715, AE1718, AE1722, AE1726, AE1729, AE1802, AE1805, AE1806, AE1808, AE1810, AE1811, AE1814, AE1817, AE1820, AE1822, AE1825, AE1829, AE1831, AE1836, AE1902, AE1905, AE1906, AE1909, AE1912, AE1917, AE1921, AE1923, AE1927, AE1930, AE1932, AE2003, AE2005, AE2009, AE2010, AE2012, AE2014, AE2015, AE2017, AE2019, AE2021, AE2022, AE2101, AE2102, AE2103, AE2104, AE2105, AE2107, AE2109, AE2110, AE2112, AE2116, AE2117, AE2120, AE2124, AE2126, AE2201, AE2204, AE2205, AE2208, AE2210, AE2212, AE2214, AE2217, AE2219, AE2222, AE2224, AE2226, BATS, bats_bottle, Bermuda Atlantic Time-series Study, Bermuda Atlantic Time-series Study (BATS) Bottle, Bermuda Institute of Ocean Sciences, bio, biogeo, biogeochemistry, biology, BIOS, Bottle, cruise, Discrete, EN592, EN629, EN631, in situ, insitu, in-situ, North Atlantic Ocean, O2, observation, OC449-10, oxygen, Oxygen-1, rep, reprocessed, station, Winkler Titration</dd><dt><span>lat_max :</span></dt><dd>35.667</dd><dt><span>lat_min :</span></dt><dd>24.759</dd><dt><span>lon_max :</span></dt><dd>-60.447</dd><dt><span>lon_min :</span></dt><dd>-66.169</dd><dt><span>long_name :</span></dt><dd>Oxygen-1</dd><dt><span>make :</span></dt><dd>Observation</dd><dt><span>process_level :</span></dt><dd>Reprocessed</dd><dt><span>refrences :</span></dt><dd>nan</dd><dt><span>sensor :</span></dt><dd>Winkler Titration</dd><dt><span>spatial_resolution :</span></dt><dd>Irregular</dd><dt><span>study_domain :</span></dt><dd>Biogeochemistry</dd><dt><span>table_name :</span></dt><dd>tblBATS_Bottle</dd><dt><span>temporal_resolution :</span></dt><dd>Irregular</dd><dt><span>time_max :</span></dt><dd>2022-12-16T19:08:00.000Z</dd><dt><span>time_min :</span></dt><dd>1988-10-20T22:30:00.000Z</dd><dt><span>units :</span></dt><dd>umol/kg</dd><dt><span>variable_25th :</span></dt><dd>202.0</dd><dt><span>variable_50th :</span></dt><dd>218.8</dd><dt><span>variable_75th :</span></dt><dd>256.0</dd><dt><span>variable_count :</span></dt><dd>17529.0</dd><dt><span>variable_max :</span></dt><dd>276.5</dd><dt><span>variable_mean :</span></dt><dd>221.0569399281</dd><dt><span>variable_min :</span></dt><dd>129.9</dd><dt><span>variable_std :</span></dt><dd>32.1222190334</dd><dt><span>visualize :</span></dt><dd>1.0</dd></dl></div><div class='xr-var-data'><pre>[35424 values with dtype=float64]</pre></div></li><li class='xr-var-item'><div class='xr-var-name'><span>oxygen_anomaly</span></div><div class='xr-var-dims'>(time, depth, latitude, longitude)</div><div class='xr-var-dtype'>float64</div><div class='xr-var-preview xr-preview'>...</div><input id='attrs-336877fb-67cd-40ee-974b-e590f04cadb5' class='xr-var-attrs-in' type='checkbox' ><label for='attrs-336877fb-67cd-40ee-974b-e590f04cadb5' title='Show/Hide attributes'><svg class='icon xr-icon-file-text2'><use xlink:href='#icon-file-text2'></use></svg></label><input id='data-b96f6dd7-02bb-41ef-a683-c0ecfab81f15' class='xr-var-data-in' type='checkbox'><label for='data-b96f6dd7-02bb-41ef-a683-c0ecfab81f15' title='Show/Hide data repr'><svg class='icon xr-icon-database'><use xlink:href='#icon-database'></use></svg></label><div class='xr-var-attrs'><dl class='xr-attrs'><dt><span>acknowledgement :</span></dt><dd>Bermuda Institute of Ocean Sciences</dd><dt><span>comment :</span></dt><dd>nan</dd><dt><span>data_source :</span></dt><dd>Bermuda Institute of Ocean Sciences</dd><dt><span>dataset_description :</span></dt><dd>The BATS Bottle dataset is a collection of discrete bottle samples from 1988-2022, including in-situ measurements of CO2, nutrients, carbon, oxygen, temperature, and Prochlorococcus and Synechococcus abundance. Note all bottle fires are included that do not have any BATS core parameters so as to be of use for other ancillary measurements.\n",
       "\n",
       "This description has been reproduced using https://www.dropbox.com/s/4sdk2tewx46cla8/bats_bottle.txt?dl=0</dd><dt><span>dataset_id :</span></dt><dd>676</dd><dt><span>dataset_name :</span></dt><dd>Bermuda Atlantic Time-Series Study (BATS) Bottle</dd><dt><span>dataset_short_name :</span></dt><dd>BATS_Bottle</dd><dt><span>depth_max :</span></dt><dd>4987.3</dd><dt><span>depth_min :</span></dt><dd>0.1</dd><dt><span>distributor :</span></dt><dd>Bermuda Institute of Ocean Sciences</dd><dt><span>id :</span></dt><dd>17039</dd><dt><span>keywords :</span></dt><dd>AE0811, AE0813, AE0816, AE0820, AE0823, AE0826, AE0829, AE0901, AE0902, AE0903, AE0904, AE0905, AE0907, AE0909, AE0911, AE0916, AE0919, AE0921, AE0924, AE0926, AE0928, AE1001, AE1003, AE1005, AE1006, AE1007, AE1009, AE1012, AE1016, AE1021, AE1024, AE1026, AE1031, AE1033, AE1036, AE1102, AE1105, AE1106, AE1108, AE1109, AE1111, AE1113, AE1116, AE1119, AE1121, AE1125, AE1128, AE1131, AE1201, AE1202, AE1205, AE1207, AE1209, AE1210, AE1212, AE1214, AE1218, AE1222, AE1223, AE1228, AE1231, AE1234, AE1301, AE1302, AE1303, AE1304, AE1305, AE1306, AE1307, AE1309, AE1310, AE1313, AE1315, AE1318, AE1320, AE1323, AE1326, AE1328, AE1402, AE1406, AE1408, AE1411, AE1413, AE1416, AE1418, AE1422, AE1424, AE1425, AE1502, AE1503, AE1505, AE1508, AE1510, AE1511, AE1512, AE1515, AE1517, AE1520, AE1523, AE1528, AE1529, AE1531, AE1602, AE1603, AE1604, AE1605, AE1608, AE1611, AE1615, AE1618, AE1621, AE1624, AE1627, AE1629, AE1701, AE1704, AE1705, AE1707, AE1708, AE1709, AE1713, AE1715, AE1718, AE1722, AE1726, AE1729, AE1802, AE1805, AE1806, AE1808, AE1810, AE1811, AE1814, AE1817, AE1820, AE1822, AE1825, AE1829, AE1831, AE1836, AE1902, AE1905, AE1906, AE1909, AE1912, AE1917, AE1921, AE1923, AE1927, AE1930, AE1932, AE2003, AE2005, AE2009, AE2010, AE2012, AE2014, AE2015, AE2017, AE2019, AE2021, AE2022, AE2101, AE2102, AE2103, AE2104, AE2105, AE2107, AE2109, AE2110, AE2112, AE2116, AE2117, AE2120, AE2124, AE2126, AE2201, AE2204, AE2205, AE2208, AE2210, AE2212, AE2214, AE2217, AE2219, AE2222, AE2224, AE2226, BATS, bats_bottle, Bermuda Atlantic Time-series Study, Bermuda Atlantic Time-series Study (BATS) Bottle, Bermuda Institute of Ocean Sciences, bio, biogeo, biogeochemistry, biology, BIOS, Bottle, cruise, Discrete, EN592, EN629, EN631, in situ, insitu, in-situ, North Atlantic Ocean, O2, observation, OC449-10, Oxy Anomaly-1, oxygen_anomaly, rep, reprocessed, station</dd><dt><span>lat_max :</span></dt><dd>35.667</dd><dt><span>lat_min :</span></dt><dd>24.759</dd><dt><span>lon_max :</span></dt><dd>-60.447</dd><dt><span>lon_min :</span></dt><dd>-66.169</dd><dt><span>long_name :</span></dt><dd>Oxy Anomaly-1</dd><dt><span>make :</span></dt><dd>Observation</dd><dt><span>process_level :</span></dt><dd>Reprocessed</dd><dt><span>refrences :</span></dt><dd>nan</dd><dt><span>sensor :</span></dt><dd>Uncategorized</dd><dt><span>spatial_resolution :</span></dt><dd>Irregular</dd><dt><span>study_domain :</span></dt><dd>Biogeochemistry</dd><dt><span>table_name :</span></dt><dd>tblBATS_Bottle</dd><dt><span>temporal_resolution :</span></dt><dd>Irregular</dd><dt><span>time_max :</span></dt><dd>2022-12-16T19:08:00.000Z</dd><dt><span>time_min :</span></dt><dd>1988-10-20T22:30:00.000Z</dd><dt><span>units :</span></dt><dd>umol/kg</dd><dt><span>variable_25th :</span></dt><dd>-64.2</dd><dt><span>variable_50th :</span></dt><dd>-44.0</dd><dt><span>variable_75th :</span></dt><dd>-3.1</dd><dt><span>variable_count :</span></dt><dd>17488.0</dd><dt><span>variable_max :</span></dt><dd>39.2</dd><dt><span>variable_mean :</span></dt><dd>-40.3624027905</dd><dt><span>variable_min :</span></dt><dd>-146.2</dd><dt><span>variable_std :</span></dt><dd>37.5152622378</dd><dt><span>visualize :</span></dt><dd>1.0</dd></dl></div><div class='xr-var-data'><pre>[35424 values with dtype=float64]</pre></div></li><li class='xr-var-item'><div class='xr-var-name'><span>oxygen_fix_temp</span></div><div class='xr-var-dims'>(time, depth, latitude, longitude)</div><div class='xr-var-dtype'>float64</div><div class='xr-var-preview xr-preview'>...</div><input id='attrs-eeef454a-170d-4c15-b21f-4638a5130047' class='xr-var-attrs-in' type='checkbox' ><label for='attrs-eeef454a-170d-4c15-b21f-4638a5130047' title='Show/Hide attributes'><svg class='icon xr-icon-file-text2'><use xlink:href='#icon-file-text2'></use></svg></label><input id='data-52b67b90-6737-4585-8fa8-e5ea1d0eb75e' class='xr-var-data-in' type='checkbox'><label for='data-52b67b90-6737-4585-8fa8-e5ea1d0eb75e' title='Show/Hide data repr'><svg class='icon xr-icon-database'><use xlink:href='#icon-database'></use></svg></label><div class='xr-var-attrs'><dl class='xr-attrs'><dt><span>acknowledgement :</span></dt><dd>Bermuda Institute of Ocean Sciences</dd><dt><span>comment :</span></dt><dd>nan</dd><dt><span>data_source :</span></dt><dd>Bermuda Institute of Ocean Sciences</dd><dt><span>dataset_description :</span></dt><dd>The BATS Bottle dataset is a collection of discrete bottle samples from 1988-2022, including in-situ measurements of CO2, nutrients, carbon, oxygen, temperature, and Prochlorococcus and Synechococcus abundance. Note all bottle fires are included that do not have any BATS core parameters so as to be of use for other ancillary measurements.\n",
       "\n",
       "This description has been reproduced using https://www.dropbox.com/s/4sdk2tewx46cla8/bats_bottle.txt?dl=0</dd><dt><span>dataset_id :</span></dt><dd>676</dd><dt><span>dataset_name :</span></dt><dd>Bermuda Atlantic Time-Series Study (BATS) Bottle</dd><dt><span>dataset_short_name :</span></dt><dd>BATS_Bottle</dd><dt><span>depth_max :</span></dt><dd>4987.3</dd><dt><span>depth_min :</span></dt><dd>0.1</dd><dt><span>distributor :</span></dt><dd>Bermuda Institute of Ocean Sciences</dd><dt><span>id :</span></dt><dd>17038</dd><dt><span>keywords :</span></dt><dd>AE0811, AE0813, AE0816, AE0820, AE0823, AE0826, AE0829, AE0901, AE0902, AE0903, AE0904, AE0905, AE0907, AE0909, AE0911, AE0916, AE0919, AE0921, AE0924, AE0926, AE0928, AE1001, AE1003, AE1005, AE1006, AE1007, AE1009, AE1012, AE1016, AE1021, AE1024, AE1026, AE1031, AE1033, AE1036, AE1102, AE1105, AE1106, AE1108, AE1109, AE1111, AE1113, AE1116, AE1119, AE1121, AE1125, AE1128, AE1131, AE1201, AE1202, AE1205, AE1207, AE1209, AE1210, AE1212, AE1214, AE1218, AE1222, AE1223, AE1228, AE1231, AE1234, AE1301, AE1302, AE1303, AE1304, AE1305, AE1306, AE1307, AE1309, AE1310, AE1313, AE1315, AE1318, AE1320, AE1323, AE1326, AE1328, AE1402, AE1406, AE1408, AE1411, AE1413, AE1416, AE1418, AE1422, AE1424, AE1425, AE1502, AE1503, AE1505, AE1508, AE1510, AE1511, AE1512, AE1515, AE1517, AE1520, AE1523, AE1528, AE1529, AE1531, AE1602, AE1603, AE1604, AE1605, AE1608, AE1611, AE1615, AE1618, AE1621, AE1624, AE1627, AE1629, AE1701, AE1704, AE1705, AE1707, AE1708, AE1709, AE1713, AE1715, AE1718, AE1722, AE1726, AE1729, AE1802, AE1805, AE1806, AE1808, AE1810, AE1811, AE1814, AE1817, AE1820, AE1822, AE1825, AE1829, AE1831, AE1836, AE1902, AE1905, AE1906, AE1909, AE1912, AE1917, AE1921, AE1923, AE1927, AE1930, AE1932, AE2003, AE2005, AE2009, AE2010, AE2012, AE2014, AE2015, AE2017, AE2019, AE2021, AE2022, AE2101, AE2102, AE2103, AE2104, AE2105, AE2107, AE2109, AE2110, AE2112, AE2116, AE2117, AE2120, AE2124, AE2126, AE2201, AE2204, AE2205, AE2208, AE2210, AE2212, AE2214, AE2217, AE2219, AE2222, AE2224, AE2226, BATS, bats_bottle, Bermuda Atlantic Time-series Study, Bermuda Atlantic Time-series Study (BATS) Bottle, Bermuda Institute of Ocean Sciences, bio, biogeo, biogeochemistry, biology, BIOS, Bottle, cruise, Discrete, EN592, EN629, EN631, in situ, insitu, in-situ, North Atlantic Ocean, O2, observation, OC449-10, Oxygen Fix Temp, oxygen_fix_temp, rep, reprocessed, station</dd><dt><span>lat_max :</span></dt><dd>35.667</dd><dt><span>lat_min :</span></dt><dd>24.759</dd><dt><span>lon_max :</span></dt><dd>-60.447</dd><dt><span>lon_min :</span></dt><dd>-66.169</dd><dt><span>long_name :</span></dt><dd>Oxygen Fix Temp</dd><dt><span>make :</span></dt><dd>Observation</dd><dt><span>process_level :</span></dt><dd>Reprocessed</dd><dt><span>refrences :</span></dt><dd>nan</dd><dt><span>sensor :</span></dt><dd>Uncategorized</dd><dt><span>spatial_resolution :</span></dt><dd>Irregular</dd><dt><span>study_domain :</span></dt><dd>Biogeochemistry</dd><dt><span>table_name :</span></dt><dd>tblBATS_Bottle</dd><dt><span>temporal_resolution :</span></dt><dd>Irregular</dd><dt><span>time_max :</span></dt><dd>2022-12-16T19:08:00.000Z</dd><dt><span>time_min :</span></dt><dd>1988-10-20T22:30:00.000Z</dd><dt><span>units :</span></dt><dd>C</dd><dt><span>variable_25th :</span></dt><dd>16.7</dd><dt><span>variable_50th :</span></dt><dd>19.2</dd><dt><span>variable_75th :</span></dt><dd>21.6</dd><dt><span>variable_count :</span></dt><dd>64777.0</dd><dt><span>variable_max :</span></dt><dd>30.6</dd><dt><span>variable_mean :</span></dt><dd>18.6600923167</dd><dt><span>variable_min :</span></dt><dd>4.2</dd><dt><span>variable_std :</span></dt><dd>5.2535641387</dd><dt><span>visualize :</span></dt><dd>1.0</dd></dl></div><div class='xr-var-data'><pre>[35424 values with dtype=float64]</pre></div></li><li class='xr-var-item'><div class='xr-var-name'><span>particulate_biogenic_silica</span></div><div class='xr-var-dims'>(time, depth, latitude, longitude)</div><div class='xr-var-dtype'>float64</div><div class='xr-var-preview xr-preview'>...</div><input id='attrs-51fca133-cb34-4b62-a5be-cdb5946a55ed' class='xr-var-attrs-in' type='checkbox' ><label for='attrs-51fca133-cb34-4b62-a5be-cdb5946a55ed' title='Show/Hide attributes'><svg class='icon xr-icon-file-text2'><use xlink:href='#icon-file-text2'></use></svg></label><input id='data-22385e71-e334-439e-b659-291269cdcb9a' class='xr-var-data-in' type='checkbox'><label for='data-22385e71-e334-439e-b659-291269cdcb9a' title='Show/Hide data repr'><svg class='icon xr-icon-database'><use xlink:href='#icon-database'></use></svg></label><div class='xr-var-attrs'><dl class='xr-attrs'><dt><span>acknowledgement :</span></dt><dd>Bermuda Institute of Ocean Sciences</dd><dt><span>comment :</span></dt><dd>nan</dd><dt><span>data_source :</span></dt><dd>Bermuda Institute of Ocean Sciences</dd><dt><span>dataset_description :</span></dt><dd>The BATS Bottle dataset is a collection of discrete bottle samples from 1988-2022, including in-situ measurements of CO2, nutrients, carbon, oxygen, temperature, and Prochlorococcus and Synechococcus abundance. Note all bottle fires are included that do not have any BATS core parameters so as to be of use for other ancillary measurements.\n",
       "\n",
       "This description has been reproduced using https://www.dropbox.com/s/4sdk2tewx46cla8/bats_bottle.txt?dl=0</dd><dt><span>dataset_id :</span></dt><dd>676</dd><dt><span>dataset_name :</span></dt><dd>Bermuda Atlantic Time-Series Study (BATS) Bottle</dd><dt><span>dataset_short_name :</span></dt><dd>BATS_Bottle</dd><dt><span>depth_max :</span></dt><dd>4987.3</dd><dt><span>depth_min :</span></dt><dd>0.1</dd><dt><span>distributor :</span></dt><dd>Bermuda Institute of Ocean Sciences</dd><dt><span>id :</span></dt><dd>17054</dd><dt><span>keywords :</span></dt><dd>AE0811, AE0813, AE0816, AE0820, AE0823, AE0826, AE0829, AE0901, AE0902, AE0903, AE0904, AE0905, AE0907, AE0909, AE0911, AE0916, AE0919, AE0921, AE0924, AE0926, AE0928, AE1001, AE1003, AE1005, AE1006, AE1007, AE1009, AE1012, AE1016, AE1021, AE1024, AE1026, AE1031, AE1033, AE1036, AE1102, AE1105, AE1106, AE1108, AE1109, AE1111, AE1113, AE1116, AE1119, AE1121, AE1125, AE1128, AE1131, AE1201, AE1202, AE1205, AE1207, AE1209, AE1210, AE1212, AE1214, AE1218, AE1222, AE1223, AE1228, AE1231, AE1234, AE1301, AE1302, AE1303, AE1304, AE1305, AE1306, AE1307, AE1309, AE1310, AE1313, AE1315, AE1318, AE1320, AE1323, AE1326, AE1328, AE1402, AE1406, AE1408, AE1411, AE1413, AE1416, AE1418, AE1422, AE1424, AE1425, AE1502, AE1503, AE1505, AE1508, AE1510, AE1511, AE1512, AE1515, AE1517, AE1520, AE1523, AE1528, AE1529, AE1531, AE1602, AE1603, AE1604, AE1605, AE1608, AE1611, AE1615, AE1618, AE1621, AE1624, AE1627, AE1629, AE1701, AE1704, AE1705, AE1707, AE1708, AE1709, AE1713, AE1715, AE1718, AE1722, AE1726, AE1729, AE1802, AE1805, AE1806, AE1808, AE1810, AE1811, AE1814, AE1817, AE1820, AE1822, AE1825, AE1829, AE1831, AE1836, AE1902, AE1905, AE1906, AE1909, AE1912, AE1917, AE1921, AE1923, AE1927, AE1930, AE1932, AE2003, AE2005, AE2009, AE2010, AE2012, AE2014, AE2015, AE2017, AE2019, AE2021, AE2022, AE2101, AE2102, AE2103, AE2104, AE2105, AE2107, AE2109, AE2110, AE2112, AE2116, AE2117, AE2120, AE2124, AE2126, AE2201, AE2204, AE2205, AE2208, AE2210, AE2212, AE2214, AE2217, AE2219, AE2222, AE2224, AE2226, BATS, bats_bottle, Bermuda Atlantic Time-series Study, Bermuda Atlantic Time-series Study (BATS) Bottle, Bermuda Institute of Ocean Sciences, bio, biogeo, biogeochemistry, biology, BIOS, Bottle, Colorometer, cruise, Discrete, EN592, EN629, EN631, in situ, insitu, in-situ, North Atlantic Ocean, observation, OC449-10, Particulate Biogenic Silica, particulate_biogenic_silica, rep, reprocessed, Si, station</dd><dt><span>lat_max :</span></dt><dd>35.667</dd><dt><span>lat_min :</span></dt><dd>24.759</dd><dt><span>lon_max :</span></dt><dd>-60.447</dd><dt><span>lon_min :</span></dt><dd>-66.169</dd><dt><span>long_name :</span></dt><dd>Particulate Biogenic Silica</dd><dt><span>make :</span></dt><dd>Observation</dd><dt><span>process_level :</span></dt><dd>Reprocessed</dd><dt><span>refrences :</span></dt><dd>nan</dd><dt><span>sensor :</span></dt><dd>Uncategorized</dd><dt><span>spatial_resolution :</span></dt><dd>Irregular</dd><dt><span>study_domain :</span></dt><dd>Biogeochemistry</dd><dt><span>table_name :</span></dt><dd>tblBATS_Bottle</dd><dt><span>temporal_resolution :</span></dt><dd>Irregular</dd><dt><span>time_max :</span></dt><dd>2022-12-16T19:08:00.000Z</dd><dt><span>time_min :</span></dt><dd>1988-10-20T22:30:00.000Z</dd><dt><span>units :</span></dt><dd>umol/kg</dd><dt><span>variable_25th :</span></dt><dd>6.75</dd><dt><span>variable_50th :</span></dt><dd>10.57</dd><dt><span>variable_75th :</span></dt><dd>17.735</dd><dt><span>variable_count :</span></dt><dd>4203.0</dd><dt><span>variable_max :</span></dt><dd>630.25</dd><dt><span>variable_mean :</span></dt><dd>17.7778301213</dd><dt><span>variable_min :</span></dt><dd>0.0</dd><dt><span>variable_std :</span></dt><dd>31.6981441147</dd><dt><span>visualize :</span></dt><dd>1.0</dd></dl></div><div class='xr-var-data'><pre>[35424 values with dtype=float64]</pre></div></li><li class='xr-var-item'><div class='xr-var-name'><span>particulate_lithogenic_silica</span></div><div class='xr-var-dims'>(time, depth, latitude, longitude)</div><div class='xr-var-dtype'>float64</div><div class='xr-var-preview xr-preview'>...</div><input id='attrs-8a034659-9056-42fb-ad62-ee7b0a46214d' class='xr-var-attrs-in' type='checkbox' ><label for='attrs-8a034659-9056-42fb-ad62-ee7b0a46214d' title='Show/Hide attributes'><svg class='icon xr-icon-file-text2'><use xlink:href='#icon-file-text2'></use></svg></label><input id='data-d3f06395-5391-4732-afdc-0ec5cf5d0bb4' class='xr-var-data-in' type='checkbox'><label for='data-d3f06395-5391-4732-afdc-0ec5cf5d0bb4' title='Show/Hide data repr'><svg class='icon xr-icon-database'><use xlink:href='#icon-database'></use></svg></label><div class='xr-var-attrs'><dl class='xr-attrs'><dt><span>acknowledgement :</span></dt><dd>Bermuda Institute of Ocean Sciences</dd><dt><span>comment :</span></dt><dd>nan</dd><dt><span>data_source :</span></dt><dd>Bermuda Institute of Ocean Sciences</dd><dt><span>dataset_description :</span></dt><dd>The BATS Bottle dataset is a collection of discrete bottle samples from 1988-2022, including in-situ measurements of CO2, nutrients, carbon, oxygen, temperature, and Prochlorococcus and Synechococcus abundance. Note all bottle fires are included that do not have any BATS core parameters so as to be of use for other ancillary measurements.\n",
       "\n",
       "This description has been reproduced using https://www.dropbox.com/s/4sdk2tewx46cla8/bats_bottle.txt?dl=0</dd><dt><span>dataset_id :</span></dt><dd>676</dd><dt><span>dataset_name :</span></dt><dd>Bermuda Atlantic Time-Series Study (BATS) Bottle</dd><dt><span>dataset_short_name :</span></dt><dd>BATS_Bottle</dd><dt><span>depth_max :</span></dt><dd>4987.3</dd><dt><span>depth_min :</span></dt><dd>0.1</dd><dt><span>distributor :</span></dt><dd>Bermuda Institute of Ocean Sciences</dd><dt><span>id :</span></dt><dd>17055</dd><dt><span>keywords :</span></dt><dd>AE0811, AE0813, AE0816, AE0820, AE0823, AE0826, AE0829, AE0901, AE0902, AE0903, AE0904, AE0905, AE0907, AE0909, AE0911, AE0916, AE0919, AE0921, AE0924, AE0926, AE0928, AE1001, AE1003, AE1005, AE1006, AE1007, AE1009, AE1012, AE1016, AE1021, AE1024, AE1026, AE1031, AE1033, AE1036, AE1102, AE1105, AE1106, AE1108, AE1109, AE1111, AE1113, AE1116, AE1119, AE1121, AE1125, AE1128, AE1131, AE1201, AE1202, AE1205, AE1207, AE1209, AE1210, AE1212, AE1214, AE1218, AE1222, AE1223, AE1228, AE1231, AE1234, AE1301, AE1302, AE1303, AE1304, AE1305, AE1306, AE1307, AE1309, AE1310, AE1313, AE1315, AE1318, AE1320, AE1323, AE1326, AE1328, AE1402, AE1406, AE1408, AE1411, AE1413, AE1416, AE1418, AE1422, AE1424, AE1425, AE1502, AE1503, AE1505, AE1508, AE1510, AE1511, AE1512, AE1515, AE1517, AE1520, AE1523, AE1528, AE1529, AE1531, AE1602, AE1603, AE1604, AE1605, AE1608, AE1611, AE1615, AE1618, AE1621, AE1624, AE1627, AE1629, AE1701, AE1704, AE1705, AE1707, AE1708, AE1709, AE1713, AE1715, AE1718, AE1722, AE1726, AE1729, AE1802, AE1805, AE1806, AE1808, AE1810, AE1811, AE1814, AE1817, AE1820, AE1822, AE1825, AE1829, AE1831, AE1836, AE1902, AE1905, AE1906, AE1909, AE1912, AE1917, AE1921, AE1923, AE1927, AE1930, AE1932, AE2003, AE2005, AE2009, AE2010, AE2012, AE2014, AE2015, AE2017, AE2019, AE2021, AE2022, AE2101, AE2102, AE2103, AE2104, AE2105, AE2107, AE2109, AE2110, AE2112, AE2116, AE2117, AE2120, AE2124, AE2126, AE2201, AE2204, AE2205, AE2208, AE2210, AE2212, AE2214, AE2217, AE2219, AE2222, AE2224, AE2226, BATS, bats_bottle, Bermuda Atlantic Time-series Study, Bermuda Atlantic Time-series Study (BATS) Bottle, Bermuda Institute of Ocean Sciences, bio, biogeo, biogeochemistry, biology, BIOS, Bottle, cruise, Discrete, EN592, EN629, EN631, in situ, insitu, in-situ, North Atlantic Ocean, observation, OC449-10, Particulate Lithogenic Silica, particulate_lithogenic_silica, rep, reprocessed, Si, station</dd><dt><span>lat_max :</span></dt><dd>35.667</dd><dt><span>lat_min :</span></dt><dd>24.759</dd><dt><span>lon_max :</span></dt><dd>-60.447</dd><dt><span>lon_min :</span></dt><dd>-66.169</dd><dt><span>long_name :</span></dt><dd>Particulate Lithogenic Silica</dd><dt><span>make :</span></dt><dd>Observation</dd><dt><span>process_level :</span></dt><dd>Reprocessed</dd><dt><span>refrences :</span></dt><dd>nan</dd><dt><span>sensor :</span></dt><dd>Uncategorized</dd><dt><span>spatial_resolution :</span></dt><dd>Irregular</dd><dt><span>study_domain :</span></dt><dd>Biogeochemistry</dd><dt><span>table_name :</span></dt><dd>tblBATS_Bottle</dd><dt><span>temporal_resolution :</span></dt><dd>Irregular</dd><dt><span>time_max :</span></dt><dd>2022-12-16T19:08:00.000Z</dd><dt><span>time_min :</span></dt><dd>1988-10-20T22:30:00.000Z</dd><dt><span>units :</span></dt><dd>umol/kg</dd><dt><span>variable_25th :</span></dt><dd>2.055</dd><dt><span>variable_50th :</span></dt><dd>4.02</dd><dt><span>variable_75th :</span></dt><dd>6.63</dd><dt><span>variable_count :</span></dt><dd>1471.0</dd><dt><span>variable_max :</span></dt><dd>56.19</dd><dt><span>variable_mean :</span></dt><dd>5.1517335146</dd><dt><span>variable_min :</span></dt><dd>0.0</dd><dt><span>variable_std :</span></dt><dd>5.2943443627</dd><dt><span>visualize :</span></dt><dd>1.0</dd></dl></div><div class='xr-var-data'><pre>[35424 values with dtype=float64]</pre></div></li><li class='xr-var-item'><div class='xr-var-name'><span>phosphate</span></div><div class='xr-var-dims'>(time, depth, latitude, longitude)</div><div class='xr-var-dtype'>float64</div><div class='xr-var-preview xr-preview'>...</div><input id='attrs-c343dadb-91ab-4074-aab7-5f94cf8c85b7' class='xr-var-attrs-in' type='checkbox' ><label for='attrs-c343dadb-91ab-4074-aab7-5f94cf8c85b7' title='Show/Hide attributes'><svg class='icon xr-icon-file-text2'><use xlink:href='#icon-file-text2'></use></svg></label><input id='data-200ed7e6-3436-4a5e-8f9b-d22975c6c790' class='xr-var-data-in' type='checkbox'><label for='data-200ed7e6-3436-4a5e-8f9b-d22975c6c790' title='Show/Hide data repr'><svg class='icon xr-icon-database'><use xlink:href='#icon-database'></use></svg></label><div class='xr-var-attrs'><dl class='xr-attrs'><dt><span>acknowledgement :</span></dt><dd>Bermuda Institute of Ocean Sciences</dd><dt><span>comment :</span></dt><dd>nan</dd><dt><span>data_source :</span></dt><dd>Bermuda Institute of Ocean Sciences</dd><dt><span>dataset_description :</span></dt><dd>The BATS Bottle dataset is a collection of discrete bottle samples from 1988-2022, including in-situ measurements of CO2, nutrients, carbon, oxygen, temperature, and Prochlorococcus and Synechococcus abundance. Note all bottle fires are included that do not have any BATS core parameters so as to be of use for other ancillary measurements.\n",
       "\n",
       "This description has been reproduced using https://www.dropbox.com/s/4sdk2tewx46cla8/bats_bottle.txt?dl=0</dd><dt><span>dataset_id :</span></dt><dd>676</dd><dt><span>dataset_name :</span></dt><dd>Bermuda Atlantic Time-Series Study (BATS) Bottle</dd><dt><span>dataset_short_name :</span></dt><dd>BATS_Bottle</dd><dt><span>depth_max :</span></dt><dd>4987.3</dd><dt><span>depth_min :</span></dt><dd>0.1</dd><dt><span>distributor :</span></dt><dd>Bermuda Institute of Ocean Sciences</dd><dt><span>id :</span></dt><dd>17044</dd><dt><span>keywords :</span></dt><dd>AE0811, AE0813, AE0816, AE0820, AE0823, AE0826, AE0829, AE0901, AE0902, AE0903, AE0904, AE0905, AE0907, AE0909, AE0911, AE0916, AE0919, AE0921, AE0924, AE0926, AE0928, AE1001, AE1003, AE1005, AE1006, AE1007, AE1009, AE1012, AE1016, AE1021, AE1024, AE1026, AE1031, AE1033, AE1036, AE1102, AE1105, AE1106, AE1108, AE1109, AE1111, AE1113, AE1116, AE1119, AE1121, AE1125, AE1128, AE1131, AE1201, AE1202, AE1205, AE1207, AE1209, AE1210, AE1212, AE1214, AE1218, AE1222, AE1223, AE1228, AE1231, AE1234, AE1301, AE1302, AE1303, AE1304, AE1305, AE1306, AE1307, AE1309, AE1310, AE1313, AE1315, AE1318, AE1320, AE1323, AE1326, AE1328, AE1402, AE1406, AE1408, AE1411, AE1413, AE1416, AE1418, AE1422, AE1424, AE1425, AE1502, AE1503, AE1505, AE1508, AE1510, AE1511, AE1512, AE1515, AE1517, AE1520, AE1523, AE1528, AE1529, AE1531, AE1602, AE1603, AE1604, AE1605, AE1608, AE1611, AE1615, AE1618, AE1621, AE1624, AE1627, AE1629, AE1701, AE1704, AE1705, AE1707, AE1708, AE1709, AE1713, AE1715, AE1718, AE1722, AE1726, AE1729, AE1802, AE1805, AE1806, AE1808, AE1810, AE1811, AE1814, AE1817, AE1820, AE1822, AE1825, AE1829, AE1831, AE1836, AE1902, AE1905, AE1906, AE1909, AE1912, AE1917, AE1921, AE1923, AE1927, AE1930, AE1932, AE2003, AE2005, AE2009, AE2010, AE2012, AE2014, AE2015, AE2017, AE2019, AE2021, AE2022, AE2101, AE2102, AE2103, AE2104, AE2105, AE2107, AE2109, AE2110, AE2112, AE2116, AE2117, AE2120, AE2124, AE2126, AE2201, AE2204, AE2205, AE2208, AE2210, AE2212, AE2214, AE2217, AE2219, AE2222, AE2224, AE2226, Autoanalyzer, BATS, bats_bottle, Bermuda Atlantic Time-series Study, Bermuda Atlantic Time-series Study (BATS) Bottle, Bermuda Institute of Ocean Sciences, bio, biogeo, biogeochemistry, biology, BIOS, Bottle, cruise, Discrete, EN592, EN629, EN631, in situ, insitu, in-situ, North Atlantic Ocean, observation, OC449-10, phosphate, Phosphate-1, PO4, rep, reprocessed, station</dd><dt><span>lat_max :</span></dt><dd>35.667</dd><dt><span>lat_min :</span></dt><dd>24.759</dd><dt><span>lon_max :</span></dt><dd>-60.447</dd><dt><span>lon_min :</span></dt><dd>-66.169</dd><dt><span>long_name :</span></dt><dd>Phosphate-1</dd><dt><span>make :</span></dt><dd>Observation</dd><dt><span>process_level :</span></dt><dd>Reprocessed</dd><dt><span>refrences :</span></dt><dd>nan</dd><dt><span>sensor :</span></dt><dd>Autoanalyzer</dd><dt><span>spatial_resolution :</span></dt><dd>Irregular</dd><dt><span>study_domain :</span></dt><dd>Biogeochemistry</dd><dt><span>table_name :</span></dt><dd>tblBATS_Bottle</dd><dt><span>temporal_resolution :</span></dt><dd>Irregular</dd><dt><span>time_max :</span></dt><dd>2022-12-16T19:08:00.000Z</dd><dt><span>time_min :</span></dt><dd>1988-10-20T22:30:00.000Z</dd><dt><span>units :</span></dt><dd>umol/kg</dd><dt><span>variable_25th :</span></dt><dd>0.0</dd><dt><span>variable_50th :</span></dt><dd>0.29</dd><dt><span>variable_75th :</span></dt><dd>1.23</dd><dt><span>variable_count :</span></dt><dd>16001.0</dd><dt><span>variable_max :</span></dt><dd>1.93</dd><dt><span>variable_mean :</span></dt><dd>0.6027173302</dd><dt><span>variable_min :</span></dt><dd>0.0</dd><dt><span>variable_std :</span></dt><dd>0.5905788712</dd><dt><span>visualize :</span></dt><dd>1.0</dd></dl></div><div class='xr-var-data'><pre>[35424 values with dtype=float64]</pre></div></li><li class='xr-var-item'><div class='xr-var-name'><span>picoeukaryotes</span></div><div class='xr-var-dims'>(time, depth, latitude, longitude)</div><div class='xr-var-dtype'>float64</div><div class='xr-var-preview xr-preview'>...</div><input id='attrs-b2c589db-a898-4246-a293-60181bc7e0c3' class='xr-var-attrs-in' type='checkbox' ><label for='attrs-b2c589db-a898-4246-a293-60181bc7e0c3' title='Show/Hide attributes'><svg class='icon xr-icon-file-text2'><use xlink:href='#icon-file-text2'></use></svg></label><input id='data-1480bd22-98bb-4595-b4b3-736bd69fdf40' class='xr-var-data-in' type='checkbox'><label for='data-1480bd22-98bb-4595-b4b3-736bd69fdf40' title='Show/Hide data repr'><svg class='icon xr-icon-database'><use xlink:href='#icon-database'></use></svg></label><div class='xr-var-attrs'><dl class='xr-attrs'><dt><span>acknowledgement :</span></dt><dd>Bermuda Institute of Ocean Sciences</dd><dt><span>comment :</span></dt><dd>nan</dd><dt><span>data_source :</span></dt><dd>Bermuda Institute of Ocean Sciences</dd><dt><span>dataset_description :</span></dt><dd>The BATS Bottle dataset is a collection of discrete bottle samples from 1988-2022, including in-situ measurements of CO2, nutrients, carbon, oxygen, temperature, and Prochlorococcus and Synechococcus abundance. Note all bottle fires are included that do not have any BATS core parameters so as to be of use for other ancillary measurements.\n",
       "\n",
       "This description has been reproduced using https://www.dropbox.com/s/4sdk2tewx46cla8/bats_bottle.txt?dl=0</dd><dt><span>dataset_id :</span></dt><dd>676</dd><dt><span>dataset_name :</span></dt><dd>Bermuda Atlantic Time-Series Study (BATS) Bottle</dd><dt><span>dataset_short_name :</span></dt><dd>BATS_Bottle</dd><dt><span>depth_max :</span></dt><dd>4987.3</dd><dt><span>depth_min :</span></dt><dd>0.1</dd><dt><span>distributor :</span></dt><dd>Bermuda Institute of Ocean Sciences</dd><dt><span>id :</span></dt><dd>17058</dd><dt><span>keywords :</span></dt><dd>AE0811, AE0813, AE0816, AE0820, AE0823, AE0826, AE0829, AE0901, AE0902, AE0903, AE0904, AE0905, AE0907, AE0909, AE0911, AE0916, AE0919, AE0921, AE0924, AE0926, AE0928, AE1001, AE1003, AE1005, AE1006, AE1007, AE1009, AE1012, AE1016, AE1021, AE1024, AE1026, AE1031, AE1033, AE1036, AE1102, AE1105, AE1106, AE1108, AE1109, AE1111, AE1113, AE1116, AE1119, AE1121, AE1125, AE1128, AE1131, AE1201, AE1202, AE1205, AE1207, AE1209, AE1210, AE1212, AE1214, AE1218, AE1222, AE1223, AE1228, AE1231, AE1234, AE1301, AE1302, AE1303, AE1304, AE1305, AE1306, AE1307, AE1309, AE1310, AE1313, AE1315, AE1318, AE1320, AE1323, AE1326, AE1328, AE1402, AE1406, AE1408, AE1411, AE1413, AE1416, AE1418, AE1422, AE1424, AE1425, AE1502, AE1503, AE1505, AE1508, AE1510, AE1511, AE1512, AE1515, AE1517, AE1520, AE1523, AE1528, AE1529, AE1531, AE1602, AE1603, AE1604, AE1605, AE1608, AE1611, AE1615, AE1618, AE1621, AE1624, AE1627, AE1629, AE1701, AE1704, AE1705, AE1707, AE1708, AE1709, AE1713, AE1715, AE1718, AE1722, AE1726, AE1729, AE1802, AE1805, AE1806, AE1808, AE1810, AE1811, AE1814, AE1817, AE1820, AE1822, AE1825, AE1829, AE1831, AE1836, AE1902, AE1905, AE1906, AE1909, AE1912, AE1917, AE1921, AE1923, AE1927, AE1930, AE1932, AE2003, AE2005, AE2009, AE2010, AE2012, AE2014, AE2015, AE2017, AE2019, AE2021, AE2022, AE2101, AE2102, AE2103, AE2104, AE2105, AE2107, AE2109, AE2110, AE2112, AE2116, AE2117, AE2120, AE2124, AE2126, AE2201, AE2204, AE2205, AE2208, AE2210, AE2212, AE2214, AE2217, AE2219, AE2222, AE2224, AE2226, BATS, bats_bottle, Bermuda Atlantic Time-series Study, Bermuda Atlantic Time-series Study (BATS) Bottle, Bermuda Institute of Ocean Sciences, bio, biogeo, biogeochemistry, biology, BIOS, Bottle, cruise, Discrete, EN592, EN629, EN631, Flow Cytometer, in situ, insitu, in-situ, North Atlantic Ocean, observation, OC449-10, Picoeukaryotes, rep, reprocessed, station</dd><dt><span>lat_max :</span></dt><dd>35.667</dd><dt><span>lat_min :</span></dt><dd>24.759</dd><dt><span>lon_max :</span></dt><dd>-60.447</dd><dt><span>lon_min :</span></dt><dd>-66.169</dd><dt><span>long_name :</span></dt><dd>Picoeukaryotes</dd><dt><span>make :</span></dt><dd>Observation</dd><dt><span>process_level :</span></dt><dd>Reprocessed</dd><dt><span>refrences :</span></dt><dd>nan</dd><dt><span>sensor :</span></dt><dd>Flow Cytometer</dd><dt><span>spatial_resolution :</span></dt><dd>Irregular</dd><dt><span>study_domain :</span></dt><dd>Biogeochemistry</dd><dt><span>table_name :</span></dt><dd>tblBATS_Bottle</dd><dt><span>temporal_resolution :</span></dt><dd>Irregular</dd><dt><span>time_max :</span></dt><dd>2022-12-16T19:08:00.000Z</dd><dt><span>time_min :</span></dt><dd>1988-10-20T22:30:00.000Z</dd><dt><span>units :</span></dt><dd>cells/ml</dd><dt><span>variable_25th :</span></dt><dd>308.0</dd><dt><span>variable_50th :</span></dt><dd>684.5</dd><dt><span>variable_75th :</span></dt><dd>1219.0</dd><dt><span>variable_count :</span></dt><dd>3104.0</dd><dt><span>variable_max :</span></dt><dd>22513.0</dd><dt><span>variable_mean :</span></dt><dd>1122.9826030928</dd><dt><span>variable_min :</span></dt><dd>5.0</dd><dt><span>variable_std :</span></dt><dd>1572.6459430992</dd><dt><span>visualize :</span></dt><dd>1.0</dd></dl></div><div class='xr-var-data'><pre>[35424 values with dtype=float64]</pre></div></li><li class='xr-var-item'><div class='xr-var-name'><span>pp</span></div><div class='xr-var-dims'>(time, depth, latitude, longitude)</div><div class='xr-var-dtype'>float64</div><div class='xr-var-preview xr-preview'>...</div><input id='attrs-225a0ee9-7aad-42de-9e0f-11d8cb6da5a2' class='xr-var-attrs-in' type='checkbox' ><label for='attrs-225a0ee9-7aad-42de-9e0f-11d8cb6da5a2' title='Show/Hide attributes'><svg class='icon xr-icon-file-text2'><use xlink:href='#icon-file-text2'></use></svg></label><input id='data-925bcc52-1779-41ab-b570-f4ad56c5c0ce' class='xr-var-data-in' type='checkbox'><label for='data-925bcc52-1779-41ab-b570-f4ad56c5c0ce' title='Show/Hide data repr'><svg class='icon xr-icon-database'><use xlink:href='#icon-database'></use></svg></label><div class='xr-var-attrs'><dl class='xr-attrs'><dt><span>acknowledgement :</span></dt><dd>Bermuda Institute of Ocean Sciences</dd><dt><span>comment :</span></dt><dd>https://bats.bios.asu.edu/wp-content/uploads/2017/07/chapter18.pdf</dd><dt><span>data_source :</span></dt><dd>Bermuda Institute of Ocean Sciences</dd><dt><span>dataset_description :</span></dt><dd>The BATS (Bermuda Atlantic Time-series Study) primary production rates dataset is time-series spanning from 1988 to 2022. The dataset contains six primary production bottle estimates, along with CTD temperature and salinity measurements.\n",
       "\n",
       "This description has been reproduced using https://www.dropbox.com/sh/8dbumf8tx3uidjv/AADlDuNqqGVOQ08TLyjQ7nxAa/bats_primary_production_v002.txt?dl=0</dd><dt><span>dataset_id :</span></dt><dd>677</dd><dt><span>dataset_name :</span></dt><dd>Bermuda Atlantic Time-Series Study (BATS) Primary Production</dd><dt><span>dataset_short_name :</span></dt><dd>BATS_Primary_Production</dd><dt><span>depth_max :</span></dt><dd>160.7</dd><dt><span>depth_min :</span></dt><dd>0</dd><dt><span>distributor :</span></dt><dd>Bermuda Institute of Ocean Sciences</dd><dt><span>id :</span></dt><dd>17074</dd><dt><span>keywords :</span></dt><dd>AE0811, AE0813, AE0820, AE0823, AE0826, AE0829, AE0901, AE0902, AE0903, AE0905, AE0907, AE0909, AE0911, AE0916, AE0919, AE0921, AE0924, AE0926, AE0928, AE1003, AE1006, AE1007, AE1009, AE1012, AE1016, AE1021, AE1024, AE1026, AE1031, AE1033, AE1036, AE1102, AE1105, AE1106, AE1108, AE1111, AE1113, AE1116, AE1119, AE1121, AE1125, AE1128, AE1131, AE1201, AE1202, AE1205, AE1207, AE1209, AE1210, AE1212, AE1214, AE1218, AE1222, AE1223, AE1228, AE1231, AE1234, AE1301, AE1303, AE1304, AE1307, AE1309, AE1313, AE1315, AE1318, AE1320, AE1323, AE1326, AE1328, AE1402, AE1406, AE1408, AE1411, AE1413, AE1416, AE1418, AE1422, AE1424, AE1425, AE1502, AE1503, AE1505, AE1508, AE1510, AE1511, AE1515, AE1517, AE1520, AE1523, AE1529, AE1531, AE1602, AE1603, AE1605, AE1608, AE1611, AE1615, AE1618, AE1621, AE1624, AE1627, AE1629, AE1701, AE1704, AE1707, AE1708, AE1709, AE1713, AE1715, AE1718, AE1722, AE1726, AE1729, AE1802, AE1805, AE1806, AE1808, AE1810, AE1811, AE1814, AE1817, AE1820, AE1822, AE1825, AE1829, AE1831, AE1836, AE1902, AE1905, AE1906, AE1909, AE1912, AE1917, AE1921, AE1923, AE1927, AE1930, AE1932, AE2003, AE2005, AE2009, AE2010, AE2012, AE2015, AE2017, AE2019, AE2021, AE2102, AE2103, AE2104, AE2107, AE2109, AE2110, AE2112, AE2116, AE2117, AE2120, AE2124, AE2126, AE2201, AE2205, AE2208, AE2210, AE2212, AE2214, AE2217, AE2219, AE2224, AE2226, BATS, bats_primary_production, Bermuda Atlantic Time-series Study, Bermuda Atlantic Time-Series Study (BATS) Primary Production, Bermuda Institute of Ocean Sciences, bio, biogeo, biogeochemistry, biology, BIOS, cruise, CTD, EN592, EN629, EN631, in situ, insitu, in-situ, North Atlantic Ocean, observation, PP, Primary Production, Primary Production Mean Light Values - Dark Value, rep, reprocessed, station</dd><dt><span>lat_max :</span></dt><dd>32.108</dd><dt><span>lat_min :</span></dt><dd>31.135</dd><dt><span>lon_max :</span></dt><dd>-64.012</dd><dt><span>lon_min :</span></dt><dd>-64.914</dd><dt><span>long_name :</span></dt><dd>Primary Production Mean Light Values - Dark Value</dd><dt><span>make :</span></dt><dd>Observation</dd><dt><span>process_level :</span></dt><dd>Reprocessed</dd><dt><span>refrences :</span></dt><dd>nan</dd><dt><span>sensor :</span></dt><dd>Uncategorized</dd><dt><span>spatial_resolution :</span></dt><dd>Irregular</dd><dt><span>study_domain :</span></dt><dd>Biogeochemistry</dd><dt><span>table_name :</span></dt><dd>tblBATS_Primary_Production</dd><dt><span>temporal_resolution :</span></dt><dd>Irregular</dd><dt><span>time_max :</span></dt><dd>2022-12-16T08:11:00.000Z</dd><dt><span>time_min :</span></dt><dd>1988-12-18T00:00:00.000Z</dd><dt><span>units :</span></dt><dd>mgC/m^3/day</dd><dt><span>variable_25th :</span></dt><dd>0.48</dd><dt><span>variable_50th :</span></dt><dd>2.45</dd><dt><span>variable_75th :</span></dt><dd>4.595</dd><dt><span>variable_count :</span></dt><dd>3483.0</dd><dt><span>variable_max :</span></dt><dd>53.92</dd><dt><span>variable_mean :</span></dt><dd>3.3255928797</dd><dt><span>variable_min :</span></dt><dd>-3.11</dd><dt><span>variable_std :</span></dt><dd>4.0398004416</dd><dt><span>visualize :</span></dt><dd>1.0</dd></dl></div><div class='xr-var-data'><pre>[35424 values with dtype=float64]</pre></div></li><li class='xr-var-item'><div class='xr-var-name'><span>pres</span></div><div class='xr-var-dims'>(time, depth, latitude, longitude)</div><div class='xr-var-dtype'>float64</div><div class='xr-var-preview xr-preview'>...</div><input id='attrs-39f96c7a-db5b-47a3-acc5-721a10b9a8f2' class='xr-var-attrs-in' type='checkbox' ><label for='attrs-39f96c7a-db5b-47a3-acc5-721a10b9a8f2' title='Show/Hide attributes'><svg class='icon xr-icon-file-text2'><use xlink:href='#icon-file-text2'></use></svg></label><input id='data-7da9087b-68f9-4107-bb84-e0ff3576e7c8' class='xr-var-data-in' type='checkbox'><label for='data-7da9087b-68f9-4107-bb84-e0ff3576e7c8' title='Show/Hide data repr'><svg class='icon xr-icon-database'><use xlink:href='#icon-database'></use></svg></label><div class='xr-var-attrs'><dl class='xr-attrs'><dt><span>acknowledgement :</span></dt><dd>Bermuda Institute of Ocean Sciences</dd><dt><span>comment :</span></dt><dd>nan</dd><dt><span>data_source :</span></dt><dd>Bermuda Institute of Ocean Sciences</dd><dt><span>dataset_description :</span></dt><dd>The BATS (Bermuda Atlantic Time-series Study) primary production rates dataset is time-series spanning from 1988 to 2022. The dataset contains six primary production bottle estimates, along with CTD temperature and salinity measurements.\n",
       "\n",
       "This description has been reproduced using https://www.dropbox.com/sh/8dbumf8tx3uidjv/AADlDuNqqGVOQ08TLyjQ7nxAa/bats_primary_production_v002.txt?dl=0</dd><dt><span>dataset_id :</span></dt><dd>677</dd><dt><span>dataset_name :</span></dt><dd>Bermuda Atlantic Time-Series Study (BATS) Primary Production</dd><dt><span>dataset_short_name :</span></dt><dd>BATS_Primary_Production</dd><dt><span>depth_max :</span></dt><dd>160.7</dd><dt><span>depth_min :</span></dt><dd>0</dd><dt><span>distributor :</span></dt><dd>Bermuda Institute of Ocean Sciences</dd><dt><span>id :</span></dt><dd>17066</dd><dt><span>keywords :</span></dt><dd>AE0811, AE0813, AE0820, AE0823, AE0826, AE0829, AE0901, AE0902, AE0903, AE0905, AE0907, AE0909, AE0911, AE0916, AE0919, AE0921, AE0924, AE0926, AE0928, AE1003, AE1006, AE1007, AE1009, AE1012, AE1016, AE1021, AE1024, AE1026, AE1031, AE1033, AE1036, AE1102, AE1105, AE1106, AE1108, AE1111, AE1113, AE1116, AE1119, AE1121, AE1125, AE1128, AE1131, AE1201, AE1202, AE1205, AE1207, AE1209, AE1210, AE1212, AE1214, AE1218, AE1222, AE1223, AE1228, AE1231, AE1234, AE1301, AE1303, AE1304, AE1307, AE1309, AE1313, AE1315, AE1318, AE1320, AE1323, AE1326, AE1328, AE1402, AE1406, AE1408, AE1411, AE1413, AE1416, AE1418, AE1422, AE1424, AE1425, AE1502, AE1503, AE1505, AE1508, AE1510, AE1511, AE1515, AE1517, AE1520, AE1523, AE1529, AE1531, AE1602, AE1603, AE1605, AE1608, AE1611, AE1615, AE1618, AE1621, AE1624, AE1627, AE1629, AE1701, AE1704, AE1707, AE1708, AE1709, AE1713, AE1715, AE1718, AE1722, AE1726, AE1729, AE1802, AE1805, AE1806, AE1808, AE1810, AE1811, AE1814, AE1817, AE1820, AE1822, AE1825, AE1829, AE1831, AE1836, AE1902, AE1905, AE1906, AE1909, AE1912, AE1917, AE1921, AE1923, AE1927, AE1930, AE1932, AE2003, AE2005, AE2009, AE2010, AE2012, AE2015, AE2017, AE2019, AE2021, AE2102, AE2103, AE2104, AE2107, AE2109, AE2110, AE2112, AE2116, AE2117, AE2120, AE2124, AE2126, AE2201, AE2205, AE2208, AE2210, AE2212, AE2214, AE2217, AE2219, AE2224, AE2226, BATS, bats_primary_production, Bermuda Atlantic Time-series Study, Bermuda Atlantic Time-Series Study (BATS) Primary Production, Bermuda Institute of Ocean Sciences, bio, biogeo, biogeochemistry, biology, BIOS, cruise, CTD, EN592, EN629, EN631, in situ, insitu, in-situ, North Atlantic Ocean, observation, PP, pres, Pressure, Primary Production, rep, reprocessed, station</dd><dt><span>lat_max :</span></dt><dd>32.108</dd><dt><span>lat_min :</span></dt><dd>31.135</dd><dt><span>lon_max :</span></dt><dd>-64.012</dd><dt><span>lon_min :</span></dt><dd>-64.914</dd><dt><span>long_name :</span></dt><dd>Pressure</dd><dt><span>make :</span></dt><dd>Observation</dd><dt><span>process_level :</span></dt><dd>Reprocessed</dd><dt><span>refrences :</span></dt><dd>nan</dd><dt><span>sensor :</span></dt><dd>CTD</dd><dt><span>spatial_resolution :</span></dt><dd>Irregular</dd><dt><span>study_domain :</span></dt><dd>Biogeochemistry</dd><dt><span>table_name :</span></dt><dd>tblBATS_Primary_Production</dd><dt><span>temporal_resolution :</span></dt><dd>Irregular</dd><dt><span>time_max :</span></dt><dd>2022-12-16T08:11:00.000Z</dd><dt><span>time_min :</span></dt><dd>1988-12-18T00:00:00.000Z</dd><dt><span>units :</span></dt><dd>dbar</dd><dt><span>variable_25th :</span></dt><dd>25.725</dd><dt><span>variable_50th :</span></dt><dd>69.7</dd><dt><span>variable_75th :</span></dt><dd>102.875</dd><dt><span>variable_count :</span></dt><dd>1554.0</dd><dt><span>variable_max :</span></dt><dd>161.9</dd><dt><span>variable_mean :</span></dt><dd>71.0835263835</dd><dt><span>variable_min :</span></dt><dd>0.9</dd><dt><span>variable_std :</span></dt><dd>45.494583208</dd><dt><span>visualize :</span></dt><dd>nan</dd></dl></div><div class='xr-var-data'><pre>[35424 values with dtype=float64]</pre></div></li><li class='xr-var-item'><div class='xr-var-name'><span>prochlorococcus</span></div><div class='xr-var-dims'>(time, depth, latitude, longitude)</div><div class='xr-var-dtype'>float64</div><div class='xr-var-preview xr-preview'>...</div><input id='attrs-222a8d6f-7480-4b95-b0d3-4c81d986118f' class='xr-var-attrs-in' type='checkbox' ><label for='attrs-222a8d6f-7480-4b95-b0d3-4c81d986118f' title='Show/Hide attributes'><svg class='icon xr-icon-file-text2'><use xlink:href='#icon-file-text2'></use></svg></label><input id='data-b6057db6-f5da-4fdc-966b-6acdc629e2c3' class='xr-var-data-in' type='checkbox'><label for='data-b6057db6-f5da-4fdc-966b-6acdc629e2c3' title='Show/Hide data repr'><svg class='icon xr-icon-database'><use xlink:href='#icon-database'></use></svg></label><div class='xr-var-attrs'><dl class='xr-attrs'><dt><span>acknowledgement :</span></dt><dd>Bermuda Institute of Ocean Sciences</dd><dt><span>comment :</span></dt><dd>nan</dd><dt><span>data_source :</span></dt><dd>Bermuda Institute of Ocean Sciences</dd><dt><span>dataset_description :</span></dt><dd>The BATS Bottle dataset is a collection of discrete bottle samples from 1988-2022, including in-situ measurements of CO2, nutrients, carbon, oxygen, temperature, and Prochlorococcus and Synechococcus abundance. Note all bottle fires are included that do not have any BATS core parameters so as to be of use for other ancillary measurements.\n",
       "\n",
       "This description has been reproduced using https://www.dropbox.com/s/4sdk2tewx46cla8/bats_bottle.txt?dl=0</dd><dt><span>dataset_id :</span></dt><dd>676</dd><dt><span>dataset_name :</span></dt><dd>Bermuda Atlantic Time-Series Study (BATS) Bottle</dd><dt><span>dataset_short_name :</span></dt><dd>BATS_Bottle</dd><dt><span>depth_max :</span></dt><dd>4987.3</dd><dt><span>depth_min :</span></dt><dd>0.1</dd><dt><span>distributor :</span></dt><dd>Bermuda Institute of Ocean Sciences</dd><dt><span>id :</span></dt><dd>17056</dd><dt><span>keywords :</span></dt><dd>AE0811, AE0813, AE0816, AE0820, AE0823, AE0826, AE0829, AE0901, AE0902, AE0903, AE0904, AE0905, AE0907, AE0909, AE0911, AE0916, AE0919, AE0921, AE0924, AE0926, AE0928, AE1001, AE1003, AE1005, AE1006, AE1007, AE1009, AE1012, AE1016, AE1021, AE1024, AE1026, AE1031, AE1033, AE1036, AE1102, AE1105, AE1106, AE1108, AE1109, AE1111, AE1113, AE1116, AE1119, AE1121, AE1125, AE1128, AE1131, AE1201, AE1202, AE1205, AE1207, AE1209, AE1210, AE1212, AE1214, AE1218, AE1222, AE1223, AE1228, AE1231, AE1234, AE1301, AE1302, AE1303, AE1304, AE1305, AE1306, AE1307, AE1309, AE1310, AE1313, AE1315, AE1318, AE1320, AE1323, AE1326, AE1328, AE1402, AE1406, AE1408, AE1411, AE1413, AE1416, AE1418, AE1422, AE1424, AE1425, AE1502, AE1503, AE1505, AE1508, AE1510, AE1511, AE1512, AE1515, AE1517, AE1520, AE1523, AE1528, AE1529, AE1531, AE1602, AE1603, AE1604, AE1605, AE1608, AE1611, AE1615, AE1618, AE1621, AE1624, AE1627, AE1629, AE1701, AE1704, AE1705, AE1707, AE1708, AE1709, AE1713, AE1715, AE1718, AE1722, AE1726, AE1729, AE1802, AE1805, AE1806, AE1808, AE1810, AE1811, AE1814, AE1817, AE1820, AE1822, AE1825, AE1829, AE1831, AE1836, AE1902, AE1905, AE1906, AE1909, AE1912, AE1917, AE1921, AE1923, AE1927, AE1930, AE1932, AE2003, AE2005, AE2009, AE2010, AE2012, AE2014, AE2015, AE2017, AE2019, AE2021, AE2022, AE2101, AE2102, AE2103, AE2104, AE2105, AE2107, AE2109, AE2110, AE2112, AE2116, AE2117, AE2120, AE2124, AE2126, AE2201, AE2204, AE2205, AE2208, AE2210, AE2212, AE2214, AE2217, AE2219, AE2222, AE2224, AE2226, BATS, bats_bottle, Bermuda Atlantic Time-series Study, Bermuda Atlantic Time-series Study (BATS) Bottle, Bermuda Institute of Ocean Sciences, bio, biogeo, biogeochemistry, biology, BIOS, Bottle, cruise, Discrete, EN592, EN629, EN631, Flow Cytometer, in situ, insitu, in-situ, North Atlantic Ocean, observation, OC449-10, Prochlorococcus, rep, reprocessed, station</dd><dt><span>lat_max :</span></dt><dd>35.667</dd><dt><span>lat_min :</span></dt><dd>24.759</dd><dt><span>lon_max :</span></dt><dd>-60.447</dd><dt><span>lon_min :</span></dt><dd>-66.169</dd><dt><span>long_name :</span></dt><dd>Prochlorococcus</dd><dt><span>make :</span></dt><dd>Observation</dd><dt><span>process_level :</span></dt><dd>Reprocessed</dd><dt><span>refrences :</span></dt><dd>nan</dd><dt><span>sensor :</span></dt><dd>Flow Cytometer</dd><dt><span>spatial_resolution :</span></dt><dd>Irregular</dd><dt><span>study_domain :</span></dt><dd>Biogeochemistry</dd><dt><span>table_name :</span></dt><dd>tblBATS_Bottle</dd><dt><span>temporal_resolution :</span></dt><dd>Irregular</dd><dt><span>time_max :</span></dt><dd>2022-12-16T19:08:00.000Z</dd><dt><span>time_min :</span></dt><dd>1988-10-20T22:30:00.000Z</dd><dt><span>units :</span></dt><dd>cells/ml</dd><dt><span>variable_25th :</span></dt><dd>3148.0</dd><dt><span>variable_50th :</span></dt><dd>19895.0</dd><dt><span>variable_75th :</span></dt><dd>47994.0</dd><dt><span>variable_count :</span></dt><dd>3397.0</dd><dt><span>variable_max :</span></dt><dd>292753.0</dd><dt><span>variable_mean :</span></dt><dd>31165.9069767442</dd><dt><span>variable_min :</span></dt><dd>10.0</dd><dt><span>variable_std :</span></dt><dd>34547.1707122369</dd><dt><span>visualize :</span></dt><dd>1.0</dd></dl></div><div class='xr-var-data'><pre>[35424 values with dtype=float64]</pre></div></li><li class='xr-var-item'><div class='xr-var-name'><span>salinity</span></div><div class='xr-var-dims'>(time, depth, latitude, longitude)</div><div class='xr-var-dtype'>float64</div><div class='xr-var-preview xr-preview'>...</div><input id='attrs-576569aa-9b92-4bd8-a3f0-ec41ca379911' class='xr-var-attrs-in' type='checkbox' ><label for='attrs-576569aa-9b92-4bd8-a3f0-ec41ca379911' title='Show/Hide attributes'><svg class='icon xr-icon-file-text2'><use xlink:href='#icon-file-text2'></use></svg></label><input id='data-1227ed5f-c4e3-4fe7-98da-9f8270eb4c9d' class='xr-var-data-in' type='checkbox'><label for='data-1227ed5f-c4e3-4fe7-98da-9f8270eb4c9d' title='Show/Hide data repr'><svg class='icon xr-icon-database'><use xlink:href='#icon-database'></use></svg></label><div class='xr-var-attrs'><dl class='xr-attrs'><dt><span>acknowledgement :</span></dt><dd>Bermuda Institute of Ocean Sciences</dd><dt><span>comment :</span></dt><dd>nan</dd><dt><span>data_source :</span></dt><dd>Bermuda Institute of Ocean Sciences</dd><dt><span>dataset_description :</span></dt><dd>The BATS Bottle dataset is a collection of discrete bottle samples from 1988-2022, including in-situ measurements of CO2, nutrients, carbon, oxygen, temperature, and Prochlorococcus and Synechococcus abundance. Note all bottle fires are included that do not have any BATS core parameters so as to be of use for other ancillary measurements.\n",
       "\n",
       "This description has been reproduced using https://www.dropbox.com/s/4sdk2tewx46cla8/bats_bottle.txt?dl=0</dd><dt><span>dataset_id :</span></dt><dd>676</dd><dt><span>dataset_name :</span></dt><dd>Bermuda Atlantic Time-Series Study (BATS) Bottle</dd><dt><span>dataset_short_name :</span></dt><dd>BATS_Bottle</dd><dt><span>depth_max :</span></dt><dd>4987.3</dd><dt><span>depth_min :</span></dt><dd>0.1</dd><dt><span>distributor :</span></dt><dd>Bermuda Institute of Ocean Sciences</dd><dt><span>id :</span></dt><dd>17035</dd><dt><span>keywords :</span></dt><dd>AE0811, AE0813, AE0816, AE0820, AE0823, AE0826, AE0829, AE0901, AE0902, AE0903, AE0904, AE0905, AE0907, AE0909, AE0911, AE0916, AE0919, AE0921, AE0924, AE0926, AE0928, AE1001, AE1003, AE1005, AE1006, AE1007, AE1009, AE1012, AE1016, AE1021, AE1024, AE1026, AE1031, AE1033, AE1036, AE1102, AE1105, AE1106, AE1108, AE1109, AE1111, AE1113, AE1116, AE1119, AE1121, AE1125, AE1128, AE1131, AE1201, AE1202, AE1205, AE1207, AE1209, AE1210, AE1212, AE1214, AE1218, AE1222, AE1223, AE1228, AE1231, AE1234, AE1301, AE1302, AE1303, AE1304, AE1305, AE1306, AE1307, AE1309, AE1310, AE1313, AE1315, AE1318, AE1320, AE1323, AE1326, AE1328, AE1402, AE1406, AE1408, AE1411, AE1413, AE1416, AE1418, AE1422, AE1424, AE1425, AE1502, AE1503, AE1505, AE1508, AE1510, AE1511, AE1512, AE1515, AE1517, AE1520, AE1523, AE1528, AE1529, AE1531, AE1602, AE1603, AE1604, AE1605, AE1608, AE1611, AE1615, AE1618, AE1621, AE1624, AE1627, AE1629, AE1701, AE1704, AE1705, AE1707, AE1708, AE1709, AE1713, AE1715, AE1718, AE1722, AE1726, AE1729, AE1802, AE1805, AE1806, AE1808, AE1810, AE1811, AE1814, AE1817, AE1820, AE1822, AE1825, AE1829, AE1831, AE1836, AE1902, AE1905, AE1906, AE1909, AE1912, AE1917, AE1921, AE1923, AE1927, AE1930, AE1932, AE2003, AE2005, AE2009, AE2010, AE2012, AE2014, AE2015, AE2017, AE2019, AE2021, AE2022, AE2101, AE2102, AE2103, AE2104, AE2105, AE2107, AE2109, AE2110, AE2112, AE2116, AE2117, AE2120, AE2124, AE2126, AE2201, AE2204, AE2205, AE2208, AE2210, AE2212, AE2214, AE2217, AE2219, AE2222, AE2224, AE2226, BATS, bats_bottle, Bermuda Atlantic Time-series Study, Bermuda Atlantic Time-series Study (BATS) Bottle, Bermuda Institute of Ocean Sciences, bio, biogeo, biogeochemistry, biology, BIOS, Bottle, cruise, Discrete, EN592, EN629, EN631, in situ, insitu, in-situ, North Atlantic Ocean, observation, OC449-10, rep, reprocessed, salinity, Salinity-1, Salinometer, station</dd><dt><span>lat_max :</span></dt><dd>35.667</dd><dt><span>lat_min :</span></dt><dd>24.759</dd><dt><span>lon_max :</span></dt><dd>-60.447</dd><dt><span>lon_min :</span></dt><dd>-66.169</dd><dt><span>long_name :</span></dt><dd>Salinity-1</dd><dt><span>make :</span></dt><dd>Observation</dd><dt><span>process_level :</span></dt><dd>Reprocessed</dd><dt><span>refrences :</span></dt><dd>nan</dd><dt><span>sensor :</span></dt><dd>Salinometer</dd><dt><span>spatial_resolution :</span></dt><dd>Irregular</dd><dt><span>study_domain :</span></dt><dd>Biogeochemistry</dd><dt><span>table_name :</span></dt><dd>tblBATS_Bottle</dd><dt><span>temporal_resolution :</span></dt><dd>Irregular</dd><dt><span>time_max :</span></dt><dd>2022-12-16T19:08:00.000Z</dd><dt><span>time_min :</span></dt><dd>1988-10-20T22:30:00.000Z</dd><dt><span>units :</span></dt><dd>PSS-78</dd><dt><span>variable_25th :</span></dt><dd>34.996</dd><dt><span>variable_50th :</span></dt><dd>36.2915</dd><dt><span>variable_75th :</span></dt><dd>36.624</dd><dt><span>variable_count :</span></dt><dd>16442.0</dd><dt><span>variable_max :</span></dt><dd>37.094</dd><dt><span>variable_mean :</span></dt><dd>35.8782277095</dd><dt><span>variable_min :</span></dt><dd>34.876</dd><dt><span>variable_std :</span></dt><dd>0.7865807664</dd><dt><span>visualize :</span></dt><dd>1.0</dd></dl></div><div class='xr-var-data'><pre>[35424 values with dtype=float64]</pre></div></li><li class='xr-var-item'><div class='xr-var-name'><span>salt</span></div><div class='xr-var-dims'>(time, depth, latitude, longitude)</div><div class='xr-var-dtype'>float64</div><div class='xr-var-preview xr-preview'>...</div><input id='attrs-4c695747-4ac6-4b50-b932-c1394b2c0acc' class='xr-var-attrs-in' type='checkbox' ><label for='attrs-4c695747-4ac6-4b50-b932-c1394b2c0acc' title='Show/Hide attributes'><svg class='icon xr-icon-file-text2'><use xlink:href='#icon-file-text2'></use></svg></label><input id='data-1ae0993f-561a-4d17-ae14-bbd4cf40f1c0' class='xr-var-data-in' type='checkbox'><label for='data-1ae0993f-561a-4d17-ae14-bbd4cf40f1c0' title='Show/Hide data repr'><svg class='icon xr-icon-database'><use xlink:href='#icon-database'></use></svg></label><div class='xr-var-attrs'><dl class='xr-attrs'><dt><span>acknowledgement :</span></dt><dd>Bermuda Institute of Ocean Sciences</dd><dt><span>comment :</span></dt><dd>Collected from goflo bottle or CTD</dd><dt><span>data_source :</span></dt><dd>Bermuda Institute of Ocean Sciences</dd><dt><span>dataset_description :</span></dt><dd>The BATS (Bermuda Atlantic Time-series Study) primary production rates dataset is time-series spanning from 1988 to 2022. The dataset contains six primary production bottle estimates, along with CTD temperature and salinity measurements.\n",
       "\n",
       "This description has been reproduced using https://www.dropbox.com/sh/8dbumf8tx3uidjv/AADlDuNqqGVOQ08TLyjQ7nxAa/bats_primary_production_v002.txt?dl=0</dd><dt><span>dataset_id :</span></dt><dd>677</dd><dt><span>dataset_name :</span></dt><dd>Bermuda Atlantic Time-Series Study (BATS) Primary Production</dd><dt><span>dataset_short_name :</span></dt><dd>BATS_Primary_Production</dd><dt><span>depth_max :</span></dt><dd>160.7</dd><dt><span>depth_min :</span></dt><dd>0</dd><dt><span>distributor :</span></dt><dd>Bermuda Institute of Ocean Sciences</dd><dt><span>id :</span></dt><dd>17068</dd><dt><span>keywords :</span></dt><dd>AE0811, AE0813, AE0820, AE0823, AE0826, AE0829, AE0901, AE0902, AE0903, AE0905, AE0907, AE0909, AE0911, AE0916, AE0919, AE0921, AE0924, AE0926, AE0928, AE1003, AE1006, AE1007, AE1009, AE1012, AE1016, AE1021, AE1024, AE1026, AE1031, AE1033, AE1036, AE1102, AE1105, AE1106, AE1108, AE1111, AE1113, AE1116, AE1119, AE1121, AE1125, AE1128, AE1131, AE1201, AE1202, AE1205, AE1207, AE1209, AE1210, AE1212, AE1214, AE1218, AE1222, AE1223, AE1228, AE1231, AE1234, AE1301, AE1303, AE1304, AE1307, AE1309, AE1313, AE1315, AE1318, AE1320, AE1323, AE1326, AE1328, AE1402, AE1406, AE1408, AE1411, AE1413, AE1416, AE1418, AE1422, AE1424, AE1425, AE1502, AE1503, AE1505, AE1508, AE1510, AE1511, AE1515, AE1517, AE1520, AE1523, AE1529, AE1531, AE1602, AE1603, AE1605, AE1608, AE1611, AE1615, AE1618, AE1621, AE1624, AE1627, AE1629, AE1701, AE1704, AE1707, AE1708, AE1709, AE1713, AE1715, AE1718, AE1722, AE1726, AE1729, AE1802, AE1805, AE1806, AE1808, AE1810, AE1811, AE1814, AE1817, AE1820, AE1822, AE1825, AE1829, AE1831, AE1836, AE1902, AE1905, AE1906, AE1909, AE1912, AE1917, AE1921, AE1923, AE1927, AE1930, AE1932, AE2003, AE2005, AE2009, AE2010, AE2012, AE2015, AE2017, AE2019, AE2021, AE2102, AE2103, AE2104, AE2107, AE2109, AE2110, AE2112, AE2116, AE2117, AE2120, AE2124, AE2126, AE2201, AE2205, AE2208, AE2210, AE2212, AE2214, AE2217, AE2219, AE2224, AE2226, BATS, bats_primary_production, Bermuda Atlantic Time-series Study, Bermuda Atlantic Time-Series Study (BATS) Primary Production, Bermuda Institute of Ocean Sciences, bio, biogeo, biogeochemistry, biology, BIOS, cruise, CTD, EN592, EN629, EN631, in situ, insitu, in-situ, North Atlantic Ocean, observation, PP, Primary Production, rep, reprocessed, Salinity, salt, station</dd><dt><span>lat_max :</span></dt><dd>32.108</dd><dt><span>lat_min :</span></dt><dd>31.135</dd><dt><span>lon_max :</span></dt><dd>-64.012</dd><dt><span>lon_min :</span></dt><dd>-64.914</dd><dt><span>long_name :</span></dt><dd>Salinity</dd><dt><span>make :</span></dt><dd>Observation</dd><dt><span>process_level :</span></dt><dd>Reprocessed</dd><dt><span>refrences :</span></dt><dd>nan</dd><dt><span>sensor :</span></dt><dd>CTD</dd><dt><span>spatial_resolution :</span></dt><dd>Irregular</dd><dt><span>study_domain :</span></dt><dd>Biogeochemistry</dd><dt><span>table_name :</span></dt><dd>tblBATS_Primary_Production</dd><dt><span>temporal_resolution :</span></dt><dd>Irregular</dd><dt><span>time_max :</span></dt><dd>2022-12-16T08:11:00.000Z</dd><dt><span>time_min :</span></dt><dd>1988-12-18T00:00:00.000Z</dd><dt><span>units :</span></dt><dd>nan</dd><dt><span>variable_25th :</span></dt><dd>36.602</dd><dt><span>variable_50th :</span></dt><dd>36.656</dd><dt><span>variable_75th :</span></dt><dd>36.713</dd><dt><span>variable_count :</span></dt><dd>2860.0</dd><dt><span>variable_max :</span></dt><dd>37.118</dd><dt><span>variable_mean :</span></dt><dd>36.6525622378</dd><dt><span>variable_min :</span></dt><dd>36.077</dd><dt><span>variable_std :</span></dt><dd>0.1103242731</dd><dt><span>visualize :</span></dt><dd>1.0</dd></dl></div><div class='xr-var-data'><pre>[35424 values with dtype=float64]</pre></div></li><li class='xr-var-item'><div class='xr-var-name'><span>sigma_theta</span></div><div class='xr-var-dims'>(time, depth, latitude, longitude)</div><div class='xr-var-dtype'>float64</div><div class='xr-var-preview xr-preview'>...</div><input id='attrs-0d2b92b0-72d0-4d1e-8b5e-8a27773c32f1' class='xr-var-attrs-in' type='checkbox' ><label for='attrs-0d2b92b0-72d0-4d1e-8b5e-8a27773c32f1' title='Show/Hide attributes'><svg class='icon xr-icon-file-text2'><use xlink:href='#icon-file-text2'></use></svg></label><input id='data-17b11816-a05d-400b-9389-2e3c6a138c60' class='xr-var-data-in' type='checkbox'><label for='data-17b11816-a05d-400b-9389-2e3c6a138c60' title='Show/Hide data repr'><svg class='icon xr-icon-database'><use xlink:href='#icon-database'></use></svg></label><div class='xr-var-attrs'><dl class='xr-attrs'><dt><span>acknowledgement :</span></dt><dd>Bermuda Institute of Ocean Sciences</dd><dt><span>comment :</span></dt><dd>nan</dd><dt><span>data_source :</span></dt><dd>Bermuda Institute of Ocean Sciences</dd><dt><span>dataset_description :</span></dt><dd>The BATS Bottle dataset is a collection of discrete bottle samples from 1988-2022, including in-situ measurements of CO2, nutrients, carbon, oxygen, temperature, and Prochlorococcus and Synechococcus abundance. Note all bottle fires are included that do not have any BATS core parameters so as to be of use for other ancillary measurements.\n",
       "\n",
       "This description has been reproduced using https://www.dropbox.com/s/4sdk2tewx46cla8/bats_bottle.txt?dl=0</dd><dt><span>dataset_id :</span></dt><dd>676</dd><dt><span>dataset_name :</span></dt><dd>Bermuda Atlantic Time-Series Study (BATS) Bottle</dd><dt><span>dataset_short_name :</span></dt><dd>BATS_Bottle</dd><dt><span>depth_max :</span></dt><dd>4987.3</dd><dt><span>depth_min :</span></dt><dd>0.1</dd><dt><span>distributor :</span></dt><dd>Bermuda Institute of Ocean Sciences</dd><dt><span>id :</span></dt><dd>17036</dd><dt><span>keywords :</span></dt><dd>AE0811, AE0813, AE0816, AE0820, AE0823, AE0826, AE0829, AE0901, AE0902, AE0903, AE0904, AE0905, AE0907, AE0909, AE0911, AE0916, AE0919, AE0921, AE0924, AE0926, AE0928, AE1001, AE1003, AE1005, AE1006, AE1007, AE1009, AE1012, AE1016, AE1021, AE1024, AE1026, AE1031, AE1033, AE1036, AE1102, AE1105, AE1106, AE1108, AE1109, AE1111, AE1113, AE1116, AE1119, AE1121, AE1125, AE1128, AE1131, AE1201, AE1202, AE1205, AE1207, AE1209, AE1210, AE1212, AE1214, AE1218, AE1222, AE1223, AE1228, AE1231, AE1234, AE1301, AE1302, AE1303, AE1304, AE1305, AE1306, AE1307, AE1309, AE1310, AE1313, AE1315, AE1318, AE1320, AE1323, AE1326, AE1328, AE1402, AE1406, AE1408, AE1411, AE1413, AE1416, AE1418, AE1422, AE1424, AE1425, AE1502, AE1503, AE1505, AE1508, AE1510, AE1511, AE1512, AE1515, AE1517, AE1520, AE1523, AE1528, AE1529, AE1531, AE1602, AE1603, AE1604, AE1605, AE1608, AE1611, AE1615, AE1618, AE1621, AE1624, AE1627, AE1629, AE1701, AE1704, AE1705, AE1707, AE1708, AE1709, AE1713, AE1715, AE1718, AE1722, AE1726, AE1729, AE1802, AE1805, AE1806, AE1808, AE1810, AE1811, AE1814, AE1817, AE1820, AE1822, AE1825, AE1829, AE1831, AE1836, AE1902, AE1905, AE1906, AE1909, AE1912, AE1917, AE1921, AE1923, AE1927, AE1930, AE1932, AE2003, AE2005, AE2009, AE2010, AE2012, AE2014, AE2015, AE2017, AE2019, AE2021, AE2022, AE2101, AE2102, AE2103, AE2104, AE2105, AE2107, AE2109, AE2110, AE2112, AE2116, AE2117, AE2120, AE2124, AE2126, AE2201, AE2204, AE2205, AE2208, AE2210, AE2212, AE2214, AE2217, AE2219, AE2222, AE2224, AE2226, BATS, bats_bottle, Bermuda Atlantic Time-series Study, Bermuda Atlantic Time-series Study (BATS) Bottle, Bermuda Institute of Ocean Sciences, bio, biogeo, biogeochemistry, biology, BIOS, Bottle, cruise, Discrete, EN592, EN629, EN631, in situ, insitu, in-situ, North Atlantic Ocean, observation, OC449-10, rep, reprocessed, sigma_theta, Sigma-Theta, station</dd><dt><span>lat_max :</span></dt><dd>35.667</dd><dt><span>lat_min :</span></dt><dd>24.759</dd><dt><span>lon_max :</span></dt><dd>-60.447</dd><dt><span>lon_min :</span></dt><dd>-66.169</dd><dt><span>long_name :</span></dt><dd>Sigma-Theta</dd><dt><span>make :</span></dt><dd>Observation</dd><dt><span>process_level :</span></dt><dd>Reprocessed</dd><dt><span>refrences :</span></dt><dd>nan</dd><dt><span>sensor :</span></dt><dd>Uncategorized</dd><dt><span>spatial_resolution :</span></dt><dd>Irregular</dd><dt><span>study_domain :</span></dt><dd>Biogeochemistry</dd><dt><span>table_name :</span></dt><dd>tblBATS_Bottle</dd><dt><span>temporal_resolution :</span></dt><dd>Irregular</dd><dt><span>time_max :</span></dt><dd>2022-12-16T19:08:00.000Z</dd><dt><span>time_min :</span></dt><dd>1988-10-20T22:30:00.000Z</dd><dt><span>units :</span></dt><dd>kg/m^3</dd><dt><span>variable_25th :</span></dt><dd>25.593</dd><dt><span>variable_50th :</span></dt><dd>26.141</dd><dt><span>variable_75th :</span></dt><dd>26.465</dd><dt><span>variable_count :</span></dt><dd>67085.0</dd><dt><span>variable_max :</span></dt><dd>27.915</dd><dt><span>variable_mean :</span></dt><dd>26.0331667288</dd><dt><span>variable_min :</span></dt><dd>22.882</dd><dt><span>variable_std :</span></dt><dd>1.1055934171</dd><dt><span>visualize :</span></dt><dd>1.0</dd></dl></div><div class='xr-var-data'><pre>[35424 values with dtype=float64]</pre></div></li><li class='xr-var-item'><div class='xr-var-name'><span>silicate</span></div><div class='xr-var-dims'>(time, depth, latitude, longitude)</div><div class='xr-var-dtype'>float64</div><div class='xr-var-preview xr-preview'>...</div><input id='attrs-4099d6e6-bb4f-43f3-b797-c32193d8ef25' class='xr-var-attrs-in' type='checkbox' ><label for='attrs-4099d6e6-bb4f-43f3-b797-c32193d8ef25' title='Show/Hide attributes'><svg class='icon xr-icon-file-text2'><use xlink:href='#icon-file-text2'></use></svg></label><input id='data-fd3a7526-a7f7-4d68-b850-446fb5285463' class='xr-var-data-in' type='checkbox'><label for='data-fd3a7526-a7f7-4d68-b850-446fb5285463' title='Show/Hide data repr'><svg class='icon xr-icon-database'><use xlink:href='#icon-database'></use></svg></label><div class='xr-var-attrs'><dl class='xr-attrs'><dt><span>acknowledgement :</span></dt><dd>Bermuda Institute of Ocean Sciences</dd><dt><span>comment :</span></dt><dd>nan</dd><dt><span>data_source :</span></dt><dd>Bermuda Institute of Ocean Sciences</dd><dt><span>dataset_description :</span></dt><dd>The BATS Bottle dataset is a collection of discrete bottle samples from 1988-2022, including in-situ measurements of CO2, nutrients, carbon, oxygen, temperature, and Prochlorococcus and Synechococcus abundance. Note all bottle fires are included that do not have any BATS core parameters so as to be of use for other ancillary measurements.\n",
       "\n",
       "This description has been reproduced using https://www.dropbox.com/s/4sdk2tewx46cla8/bats_bottle.txt?dl=0</dd><dt><span>dataset_id :</span></dt><dd>676</dd><dt><span>dataset_name :</span></dt><dd>Bermuda Atlantic Time-Series Study (BATS) Bottle</dd><dt><span>dataset_short_name :</span></dt><dd>BATS_Bottle</dd><dt><span>depth_max :</span></dt><dd>4987.3</dd><dt><span>depth_min :</span></dt><dd>0.1</dd><dt><span>distributor :</span></dt><dd>Bermuda Institute of Ocean Sciences</dd><dt><span>id :</span></dt><dd>17045</dd><dt><span>keywords :</span></dt><dd>AE0811, AE0813, AE0816, AE0820, AE0823, AE0826, AE0829, AE0901, AE0902, AE0903, AE0904, AE0905, AE0907, AE0909, AE0911, AE0916, AE0919, AE0921, AE0924, AE0926, AE0928, AE1001, AE1003, AE1005, AE1006, AE1007, AE1009, AE1012, AE1016, AE1021, AE1024, AE1026, AE1031, AE1033, AE1036, AE1102, AE1105, AE1106, AE1108, AE1109, AE1111, AE1113, AE1116, AE1119, AE1121, AE1125, AE1128, AE1131, AE1201, AE1202, AE1205, AE1207, AE1209, AE1210, AE1212, AE1214, AE1218, AE1222, AE1223, AE1228, AE1231, AE1234, AE1301, AE1302, AE1303, AE1304, AE1305, AE1306, AE1307, AE1309, AE1310, AE1313, AE1315, AE1318, AE1320, AE1323, AE1326, AE1328, AE1402, AE1406, AE1408, AE1411, AE1413, AE1416, AE1418, AE1422, AE1424, AE1425, AE1502, AE1503, AE1505, AE1508, AE1510, AE1511, AE1512, AE1515, AE1517, AE1520, AE1523, AE1528, AE1529, AE1531, AE1602, AE1603, AE1604, AE1605, AE1608, AE1611, AE1615, AE1618, AE1621, AE1624, AE1627, AE1629, AE1701, AE1704, AE1705, AE1707, AE1708, AE1709, AE1713, AE1715, AE1718, AE1722, AE1726, AE1729, AE1802, AE1805, AE1806, AE1808, AE1810, AE1811, AE1814, AE1817, AE1820, AE1822, AE1825, AE1829, AE1831, AE1836, AE1902, AE1905, AE1906, AE1909, AE1912, AE1917, AE1921, AE1923, AE1927, AE1930, AE1932, AE2003, AE2005, AE2009, AE2010, AE2012, AE2014, AE2015, AE2017, AE2019, AE2021, AE2022, AE2101, AE2102, AE2103, AE2104, AE2105, AE2107, AE2109, AE2110, AE2112, AE2116, AE2117, AE2120, AE2124, AE2126, AE2201, AE2204, AE2205, AE2208, AE2210, AE2212, AE2214, AE2217, AE2219, AE2222, AE2224, AE2226, Autoanalyzer, BATS, bats_bottle, Bermuda Atlantic Time-series Study, Bermuda Atlantic Time-series Study (BATS) Bottle, Bermuda Institute of Ocean Sciences, bio, biogeo, biogeochemistry, biology, BIOS, Bottle, cruise, Discrete, EN592, EN629, EN631, in situ, insitu, in-situ, North Atlantic Ocean, observation, OC449-10, rep, reprocessed, silicate, Silicate-1, SiO4, station</dd><dt><span>lat_max :</span></dt><dd>35.667</dd><dt><span>lat_min :</span></dt><dd>24.759</dd><dt><span>lon_max :</span></dt><dd>-60.447</dd><dt><span>lon_min :</span></dt><dd>-66.169</dd><dt><span>long_name :</span></dt><dd>Silicate-1</dd><dt><span>make :</span></dt><dd>Observation</dd><dt><span>process_level :</span></dt><dd>Reprocessed</dd><dt><span>refrences :</span></dt><dd>nan</dd><dt><span>sensor :</span></dt><dd>Autoanalyzer</dd><dt><span>spatial_resolution :</span></dt><dd>Irregular</dd><dt><span>study_domain :</span></dt><dd>Biogeochemistry</dd><dt><span>table_name :</span></dt><dd>tblBATS_Bottle</dd><dt><span>temporal_resolution :</span></dt><dd>Irregular</dd><dt><span>time_max :</span></dt><dd>2022-12-16T19:08:00.000Z</dd><dt><span>time_min :</span></dt><dd>1988-10-20T22:30:00.000Z</dd><dt><span>units :</span></dt><dd>umol/kg</dd><dt><span>variable_25th :</span></dt><dd>0.87</dd><dt><span>variable_50th :</span></dt><dd>2.5</dd><dt><span>variable_75th :</span></dt><dd>14.42</dd><dt><span>variable_count :</span></dt><dd>16271.0</dd><dt><span>variable_max :</span></dt><dd>50.52</dd><dt><span>variable_mean :</span></dt><dd>9.0847317313</dd><dt><span>variable_min :</span></dt><dd>0.0</dd><dt><span>variable_std :</span></dt><dd>10.1164692631</dd><dt><span>visualize :</span></dt><dd>1.0</dd></dl></div><div class='xr-var-data'><pre>[35424 values with dtype=float64]</pre></div></li><li class='xr-var-item'><div class='xr-var-name'><span>synechococcus</span></div><div class='xr-var-dims'>(time, depth, latitude, longitude)</div><div class='xr-var-dtype'>float64</div><div class='xr-var-preview xr-preview'>...</div><input id='attrs-a178b78a-677c-4508-b5f1-3f89353a55b4' class='xr-var-attrs-in' type='checkbox' ><label for='attrs-a178b78a-677c-4508-b5f1-3f89353a55b4' title='Show/Hide attributes'><svg class='icon xr-icon-file-text2'><use xlink:href='#icon-file-text2'></use></svg></label><input id='data-d6351699-6a77-4480-a9e1-5fc8ff75f5c9' class='xr-var-data-in' type='checkbox'><label for='data-d6351699-6a77-4480-a9e1-5fc8ff75f5c9' title='Show/Hide data repr'><svg class='icon xr-icon-database'><use xlink:href='#icon-database'></use></svg></label><div class='xr-var-attrs'><dl class='xr-attrs'><dt><span>acknowledgement :</span></dt><dd>Bermuda Institute of Ocean Sciences</dd><dt><span>comment :</span></dt><dd>nan</dd><dt><span>data_source :</span></dt><dd>Bermuda Institute of Ocean Sciences</dd><dt><span>dataset_description :</span></dt><dd>The BATS Bottle dataset is a collection of discrete bottle samples from 1988-2022, including in-situ measurements of CO2, nutrients, carbon, oxygen, temperature, and Prochlorococcus and Synechococcus abundance. Note all bottle fires are included that do not have any BATS core parameters so as to be of use for other ancillary measurements.\n",
       "\n",
       "This description has been reproduced using https://www.dropbox.com/s/4sdk2tewx46cla8/bats_bottle.txt?dl=0</dd><dt><span>dataset_id :</span></dt><dd>676</dd><dt><span>dataset_name :</span></dt><dd>Bermuda Atlantic Time-Series Study (BATS) Bottle</dd><dt><span>dataset_short_name :</span></dt><dd>BATS_Bottle</dd><dt><span>depth_max :</span></dt><dd>4987.3</dd><dt><span>depth_min :</span></dt><dd>0.1</dd><dt><span>distributor :</span></dt><dd>Bermuda Institute of Ocean Sciences</dd><dt><span>id :</span></dt><dd>17057</dd><dt><span>keywords :</span></dt><dd>AE0811, AE0813, AE0816, AE0820, AE0823, AE0826, AE0829, AE0901, AE0902, AE0903, AE0904, AE0905, AE0907, AE0909, AE0911, AE0916, AE0919, AE0921, AE0924, AE0926, AE0928, AE1001, AE1003, AE1005, AE1006, AE1007, AE1009, AE1012, AE1016, AE1021, AE1024, AE1026, AE1031, AE1033, AE1036, AE1102, AE1105, AE1106, AE1108, AE1109, AE1111, AE1113, AE1116, AE1119, AE1121, AE1125, AE1128, AE1131, AE1201, AE1202, AE1205, AE1207, AE1209, AE1210, AE1212, AE1214, AE1218, AE1222, AE1223, AE1228, AE1231, AE1234, AE1301, AE1302, AE1303, AE1304, AE1305, AE1306, AE1307, AE1309, AE1310, AE1313, AE1315, AE1318, AE1320, AE1323, AE1326, AE1328, AE1402, AE1406, AE1408, AE1411, AE1413, AE1416, AE1418, AE1422, AE1424, AE1425, AE1502, AE1503, AE1505, AE1508, AE1510, AE1511, AE1512, AE1515, AE1517, AE1520, AE1523, AE1528, AE1529, AE1531, AE1602, AE1603, AE1604, AE1605, AE1608, AE1611, AE1615, AE1618, AE1621, AE1624, AE1627, AE1629, AE1701, AE1704, AE1705, AE1707, AE1708, AE1709, AE1713, AE1715, AE1718, AE1722, AE1726, AE1729, AE1802, AE1805, AE1806, AE1808, AE1810, AE1811, AE1814, AE1817, AE1820, AE1822, AE1825, AE1829, AE1831, AE1836, AE1902, AE1905, AE1906, AE1909, AE1912, AE1917, AE1921, AE1923, AE1927, AE1930, AE1932, AE2003, AE2005, AE2009, AE2010, AE2012, AE2014, AE2015, AE2017, AE2019, AE2021, AE2022, AE2101, AE2102, AE2103, AE2104, AE2105, AE2107, AE2109, AE2110, AE2112, AE2116, AE2117, AE2120, AE2124, AE2126, AE2201, AE2204, AE2205, AE2208, AE2210, AE2212, AE2214, AE2217, AE2219, AE2222, AE2224, AE2226, BATS, bats_bottle, Bermuda Atlantic Time-series Study, Bermuda Atlantic Time-series Study (BATS) Bottle, Bermuda Institute of Ocean Sciences, bio, biogeo, biogeochemistry, biology, BIOS, Bottle, cruise, Discrete, EN592, EN629, EN631, Flow Cytometer, in situ, insitu, in-situ, North Atlantic Ocean, observation, OC449-10, rep, reprocessed, station, Synechococcus</dd><dt><span>lat_max :</span></dt><dd>35.667</dd><dt><span>lat_min :</span></dt><dd>24.759</dd><dt><span>lon_max :</span></dt><dd>-60.447</dd><dt><span>lon_min :</span></dt><dd>-66.169</dd><dt><span>long_name :</span></dt><dd>Synechococcus</dd><dt><span>make :</span></dt><dd>Observation</dd><dt><span>process_level :</span></dt><dd>Reprocessed</dd><dt><span>refrences :</span></dt><dd>nan</dd><dt><span>sensor :</span></dt><dd>Flow Cytometer</dd><dt><span>spatial_resolution :</span></dt><dd>Irregular</dd><dt><span>study_domain :</span></dt><dd>Biogeochemistry</dd><dt><span>table_name :</span></dt><dd>tblBATS_Bottle</dd><dt><span>temporal_resolution :</span></dt><dd>Irregular</dd><dt><span>time_max :</span></dt><dd>2022-12-16T19:08:00.000Z</dd><dt><span>time_min :</span></dt><dd>1988-10-20T22:30:00.000Z</dd><dt><span>units :</span></dt><dd>cells/ml</dd><dt><span>variable_25th :</span></dt><dd>448.0</dd><dt><span>variable_50th :</span></dt><dd>6067.0</dd><dt><span>variable_75th :</span></dt><dd>12315.0</dd><dt><span>variable_count :</span></dt><dd>3309.0</dd><dt><span>variable_max :</span></dt><dd>160285.0</dd><dt><span>variable_mean :</span></dt><dd>8556.5539437897</dd><dt><span>variable_min :</span></dt><dd>10.0</dd><dt><span>variable_std :</span></dt><dd>10979.5450859461</dd><dt><span>visualize :</span></dt><dd>1.0</dd></dl></div><div class='xr-var-data'><pre>[35424 values with dtype=float64]</pre></div></li><li class='xr-var-item'><div class='xr-var-name'><span>t0</span></div><div class='xr-var-dims'>(time, depth, latitude, longitude)</div><div class='xr-var-dtype'>float64</div><div class='xr-var-preview xr-preview'>...</div><input id='attrs-d3bdb81f-8b89-45aa-8ae7-0dbedc9cc74c' class='xr-var-attrs-in' type='checkbox' ><label for='attrs-d3bdb81f-8b89-45aa-8ae7-0dbedc9cc74c' title='Show/Hide attributes'><svg class='icon xr-icon-file-text2'><use xlink:href='#icon-file-text2'></use></svg></label><input id='data-6cfea67a-486f-4021-a59b-21e19ae1e7aa' class='xr-var-data-in' type='checkbox'><label for='data-6cfea67a-486f-4021-a59b-21e19ae1e7aa' title='Show/Hide data repr'><svg class='icon xr-icon-database'><use xlink:href='#icon-database'></use></svg></label><div class='xr-var-attrs'><dl class='xr-attrs'><dt><span>acknowledgement :</span></dt><dd>Bermuda Institute of Ocean Sciences</dd><dt><span>comment :</span></dt><dd>https://bats.bios.asu.edu/wp-content/uploads/2017/07/chapter18.pdf</dd><dt><span>data_source :</span></dt><dd>Bermuda Institute of Ocean Sciences</dd><dt><span>dataset_description :</span></dt><dd>The BATS (Bermuda Atlantic Time-series Study) primary production rates dataset is time-series spanning from 1988 to 2022. The dataset contains six primary production bottle estimates, along with CTD temperature and salinity measurements.\n",
       "\n",
       "This description has been reproduced using https://www.dropbox.com/sh/8dbumf8tx3uidjv/AADlDuNqqGVOQ08TLyjQ7nxAa/bats_primary_production_v002.txt?dl=0</dd><dt><span>dataset_id :</span></dt><dd>677</dd><dt><span>dataset_name :</span></dt><dd>Bermuda Atlantic Time-Series Study (BATS) Primary Production</dd><dt><span>dataset_short_name :</span></dt><dd>BATS_Primary_Production</dd><dt><span>depth_max :</span></dt><dd>160.7</dd><dt><span>depth_min :</span></dt><dd>0</dd><dt><span>distributor :</span></dt><dd>Bermuda Institute of Ocean Sciences</dd><dt><span>id :</span></dt><dd>17073</dd><dt><span>keywords :</span></dt><dd>14C Primary Production Time Zero, AE0811, AE0813, AE0820, AE0823, AE0826, AE0829, AE0901, AE0902, AE0903, AE0905, AE0907, AE0909, AE0911, AE0916, AE0919, AE0921, AE0924, AE0926, AE0928, AE1003, AE1006, AE1007, AE1009, AE1012, AE1016, AE1021, AE1024, AE1026, AE1031, AE1033, AE1036, AE1102, AE1105, AE1106, AE1108, AE1111, AE1113, AE1116, AE1119, AE1121, AE1125, AE1128, AE1131, AE1201, AE1202, AE1205, AE1207, AE1209, AE1210, AE1212, AE1214, AE1218, AE1222, AE1223, AE1228, AE1231, AE1234, AE1301, AE1303, AE1304, AE1307, AE1309, AE1313, AE1315, AE1318, AE1320, AE1323, AE1326, AE1328, AE1402, AE1406, AE1408, AE1411, AE1413, AE1416, AE1418, AE1422, AE1424, AE1425, AE1502, AE1503, AE1505, AE1508, AE1510, AE1511, AE1515, AE1517, AE1520, AE1523, AE1529, AE1531, AE1602, AE1603, AE1605, AE1608, AE1611, AE1615, AE1618, AE1621, AE1624, AE1627, AE1629, AE1701, AE1704, AE1707, AE1708, AE1709, AE1713, AE1715, AE1718, AE1722, AE1726, AE1729, AE1802, AE1805, AE1806, AE1808, AE1810, AE1811, AE1814, AE1817, AE1820, AE1822, AE1825, AE1829, AE1831, AE1836, AE1902, AE1905, AE1906, AE1909, AE1912, AE1917, AE1921, AE1923, AE1927, AE1930, AE1932, AE2003, AE2005, AE2009, AE2010, AE2012, AE2015, AE2017, AE2019, AE2021, AE2102, AE2103, AE2104, AE2107, AE2109, AE2110, AE2112, AE2116, AE2117, AE2120, AE2124, AE2126, AE2201, AE2205, AE2208, AE2210, AE2212, AE2214, AE2217, AE2219, AE2224, AE2226, BATS, bats_primary_production, Bermuda Atlantic Time-series Study, Bermuda Atlantic Time-Series Study (BATS) Primary Production, Bermuda Institute of Ocean Sciences, bio, biogeo, biogeochemistry, biology, BIOS, cruise, CTD, EN592, EN629, EN631, in situ, insitu, in-situ, North Atlantic Ocean, observation, PP, Primary Production, rep, reprocessed, station, t0</dd><dt><span>lat_max :</span></dt><dd>32.108</dd><dt><span>lat_min :</span></dt><dd>31.135</dd><dt><span>lon_max :</span></dt><dd>-64.012</dd><dt><span>lon_min :</span></dt><dd>-64.914</dd><dt><span>long_name :</span></dt><dd>14C Primary Production Time Zero</dd><dt><span>make :</span></dt><dd>Observation</dd><dt><span>process_level :</span></dt><dd>Reprocessed</dd><dt><span>refrences :</span></dt><dd>nan</dd><dt><span>sensor :</span></dt><dd>Uncategorized</dd><dt><span>spatial_resolution :</span></dt><dd>Irregular</dd><dt><span>study_domain :</span></dt><dd>Biogeochemistry</dd><dt><span>table_name :</span></dt><dd>tblBATS_Primary_Production</dd><dt><span>temporal_resolution :</span></dt><dd>Irregular</dd><dt><span>time_max :</span></dt><dd>2022-12-16T08:11:00.000Z</dd><dt><span>time_min :</span></dt><dd>1988-12-18T00:00:00.000Z</dd><dt><span>units :</span></dt><dd>mgC/m^3/day</dd><dt><span>variable_25th :</span></dt><dd>0.31</dd><dt><span>variable_50th :</span></dt><dd>0.49</dd><dt><span>variable_75th :</span></dt><dd>0.84</dd><dt><span>variable_count :</span></dt><dd>3413.0</dd><dt><span>variable_max :</span></dt><dd>77.6</dd><dt><span>variable_mean :</span></dt><dd>1.0992880164</dd><dt><span>variable_min :</span></dt><dd>0.0</dd><dt><span>variable_std :</span></dt><dd>2.7275514621</dd><dt><span>visualize :</span></dt><dd>nan</dd></dl></div><div class='xr-var-data'><pre>[35424 values with dtype=float64]</pre></div></li><li class='xr-var-item'><div class='xr-var-name'><span>temp</span></div><div class='xr-var-dims'>(time, depth, latitude, longitude)</div><div class='xr-var-dtype'>float64</div><div class='xr-var-preview xr-preview'>...</div><input id='attrs-3994d2d0-2a11-487a-ba70-bf0d369a5d7f' class='xr-var-attrs-in' type='checkbox' ><label for='attrs-3994d2d0-2a11-487a-ba70-bf0d369a5d7f' title='Show/Hide attributes'><svg class='icon xr-icon-file-text2'><use xlink:href='#icon-file-text2'></use></svg></label><input id='data-21efae32-3a39-4098-bfa5-57e3b39e0dec' class='xr-var-data-in' type='checkbox'><label for='data-21efae32-3a39-4098-bfa5-57e3b39e0dec' title='Show/Hide data repr'><svg class='icon xr-icon-database'><use xlink:href='#icon-database'></use></svg></label><div class='xr-var-attrs'><dl class='xr-attrs'><dt><span>acknowledgement :</span></dt><dd>Bermuda Institute of Ocean Sciences</dd><dt><span>comment :</span></dt><dd>nan</dd><dt><span>data_source :</span></dt><dd>Bermuda Institute of Ocean Sciences</dd><dt><span>dataset_description :</span></dt><dd>The BATS (Bermuda Atlantic Time-series Study) primary production rates dataset is time-series spanning from 1988 to 2022. The dataset contains six primary production bottle estimates, along with CTD temperature and salinity measurements.\n",
       "\n",
       "This description has been reproduced using https://www.dropbox.com/sh/8dbumf8tx3uidjv/AADlDuNqqGVOQ08TLyjQ7nxAa/bats_primary_production_v002.txt?dl=0</dd><dt><span>dataset_id :</span></dt><dd>677</dd><dt><span>dataset_name :</span></dt><dd>Bermuda Atlantic Time-Series Study (BATS) Primary Production</dd><dt><span>dataset_short_name :</span></dt><dd>BATS_Primary_Production</dd><dt><span>depth_max :</span></dt><dd>160.7</dd><dt><span>depth_min :</span></dt><dd>0</dd><dt><span>distributor :</span></dt><dd>Bermuda Institute of Ocean Sciences</dd><dt><span>id :</span></dt><dd>17067</dd><dt><span>keywords :</span></dt><dd>AE0811, AE0813, AE0820, AE0823, AE0826, AE0829, AE0901, AE0902, AE0903, AE0905, AE0907, AE0909, AE0911, AE0916, AE0919, AE0921, AE0924, AE0926, AE0928, AE1003, AE1006, AE1007, AE1009, AE1012, AE1016, AE1021, AE1024, AE1026, AE1031, AE1033, AE1036, AE1102, AE1105, AE1106, AE1108, AE1111, AE1113, AE1116, AE1119, AE1121, AE1125, AE1128, AE1131, AE1201, AE1202, AE1205, AE1207, AE1209, AE1210, AE1212, AE1214, AE1218, AE1222, AE1223, AE1228, AE1231, AE1234, AE1301, AE1303, AE1304, AE1307, AE1309, AE1313, AE1315, AE1318, AE1320, AE1323, AE1326, AE1328, AE1402, AE1406, AE1408, AE1411, AE1413, AE1416, AE1418, AE1422, AE1424, AE1425, AE1502, AE1503, AE1505, AE1508, AE1510, AE1511, AE1515, AE1517, AE1520, AE1523, AE1529, AE1531, AE1602, AE1603, AE1605, AE1608, AE1611, AE1615, AE1618, AE1621, AE1624, AE1627, AE1629, AE1701, AE1704, AE1707, AE1708, AE1709, AE1713, AE1715, AE1718, AE1722, AE1726, AE1729, AE1802, AE1805, AE1806, AE1808, AE1810, AE1811, AE1814, AE1817, AE1820, AE1822, AE1825, AE1829, AE1831, AE1836, AE1902, AE1905, AE1906, AE1909, AE1912, AE1917, AE1921, AE1923, AE1927, AE1930, AE1932, AE2003, AE2005, AE2009, AE2010, AE2012, AE2015, AE2017, AE2019, AE2021, AE2102, AE2103, AE2104, AE2107, AE2109, AE2110, AE2112, AE2116, AE2117, AE2120, AE2124, AE2126, AE2201, AE2205, AE2208, AE2210, AE2212, AE2214, AE2217, AE2219, AE2224, AE2226, BATS, bats_primary_production, Bermuda Atlantic Time-series Study, Bermuda Atlantic Time-Series Study (BATS) Primary Production, Bermuda Institute of Ocean Sciences, bio, biogeo, biogeochemistry, biology, BIOS, cruise, CTD, CTD Temperature, EN592, EN629, EN631, in situ, insitu, in-situ, North Atlantic Ocean, observation, PP, Primary Production, rep, reprocessed, station, temp</dd><dt><span>lat_max :</span></dt><dd>32.108</dd><dt><span>lat_min :</span></dt><dd>31.135</dd><dt><span>lon_max :</span></dt><dd>-64.012</dd><dt><span>lon_min :</span></dt><dd>-64.914</dd><dt><span>long_name :</span></dt><dd>CTD Temperature</dd><dt><span>make :</span></dt><dd>Observation</dd><dt><span>process_level :</span></dt><dd>Reprocessed</dd><dt><span>refrences :</span></dt><dd>nan</dd><dt><span>sensor :</span></dt><dd>CTD</dd><dt><span>spatial_resolution :</span></dt><dd>Irregular</dd><dt><span>study_domain :</span></dt><dd>Biogeochemistry</dd><dt><span>table_name :</span></dt><dd>tblBATS_Primary_Production</dd><dt><span>temporal_resolution :</span></dt><dd>Irregular</dd><dt><span>time_max :</span></dt><dd>2022-12-16T08:11:00.000Z</dd><dt><span>time_min :</span></dt><dd>1988-12-18T00:00:00.000Z</dd><dt><span>units :</span></dt><dd>C</dd><dt><span>variable_25th :</span></dt><dd>19.832</dd><dt><span>variable_50th :</span></dt><dd>20.668</dd><dt><span>variable_75th :</span></dt><dd>22.577</dd><dt><span>variable_count :</span></dt><dd>1553.0</dd><dt><span>variable_max :</span></dt><dd>29.425</dd><dt><span>variable_mean :</span></dt><dd>21.4898551191</dd><dt><span>variable_min :</span></dt><dd>18.285</dd><dt><span>variable_std :</span></dt><dd>2.4262844303</dd><dt><span>visualize :</span></dt><dd>1.0</dd></dl></div><div class='xr-var-data'><pre>[35424 values with dtype=float64]</pre></div></li><li class='xr-var-item'><div class='xr-var-name'><span>total_dissolved_phosphorus</span></div><div class='xr-var-dims'>(time, depth, latitude, longitude)</div><div class='xr-var-dtype'>float64</div><div class='xr-var-preview xr-preview'>...</div><input id='attrs-cbd451a6-a82e-40c2-b42f-c0734f8283f6' class='xr-var-attrs-in' type='checkbox' ><label for='attrs-cbd451a6-a82e-40c2-b42f-c0734f8283f6' title='Show/Hide attributes'><svg class='icon xr-icon-file-text2'><use xlink:href='#icon-file-text2'></use></svg></label><input id='data-c679d5e4-6644-48a8-8876-5cc06fe55fde' class='xr-var-data-in' type='checkbox'><label for='data-c679d5e4-6644-48a8-8876-5cc06fe55fde' title='Show/Hide data repr'><svg class='icon xr-icon-database'><use xlink:href='#icon-database'></use></svg></label><div class='xr-var-attrs'><dl class='xr-attrs'><dt><span>acknowledgement :</span></dt><dd>Bermuda Institute of Ocean Sciences</dd><dt><span>comment :</span></dt><dd>nan</dd><dt><span>data_source :</span></dt><dd>Bermuda Institute of Ocean Sciences</dd><dt><span>dataset_description :</span></dt><dd>The BATS Bottle dataset is a collection of discrete bottle samples from 1988-2022, including in-situ measurements of CO2, nutrients, carbon, oxygen, temperature, and Prochlorococcus and Synechococcus abundance. Note all bottle fires are included that do not have any BATS core parameters so as to be of use for other ancillary measurements.\n",
       "\n",
       "This description has been reproduced using https://www.dropbox.com/s/4sdk2tewx46cla8/bats_bottle.txt?dl=0</dd><dt><span>dataset_id :</span></dt><dd>676</dd><dt><span>dataset_name :</span></dt><dd>Bermuda Atlantic Time-Series Study (BATS) Bottle</dd><dt><span>dataset_short_name :</span></dt><dd>BATS_Bottle</dd><dt><span>depth_max :</span></dt><dd>4987.3</dd><dt><span>depth_min :</span></dt><dd>0.1</dd><dt><span>distributor :</span></dt><dd>Bermuda Institute of Ocean Sciences</dd><dt><span>id :</span></dt><dd>17052</dd><dt><span>keywords :</span></dt><dd>AE0811, AE0813, AE0816, AE0820, AE0823, AE0826, AE0829, AE0901, AE0902, AE0903, AE0904, AE0905, AE0907, AE0909, AE0911, AE0916, AE0919, AE0921, AE0924, AE0926, AE0928, AE1001, AE1003, AE1005, AE1006, AE1007, AE1009, AE1012, AE1016, AE1021, AE1024, AE1026, AE1031, AE1033, AE1036, AE1102, AE1105, AE1106, AE1108, AE1109, AE1111, AE1113, AE1116, AE1119, AE1121, AE1125, AE1128, AE1131, AE1201, AE1202, AE1205, AE1207, AE1209, AE1210, AE1212, AE1214, AE1218, AE1222, AE1223, AE1228, AE1231, AE1234, AE1301, AE1302, AE1303, AE1304, AE1305, AE1306, AE1307, AE1309, AE1310, AE1313, AE1315, AE1318, AE1320, AE1323, AE1326, AE1328, AE1402, AE1406, AE1408, AE1411, AE1413, AE1416, AE1418, AE1422, AE1424, AE1425, AE1502, AE1503, AE1505, AE1508, AE1510, AE1511, AE1512, AE1515, AE1517, AE1520, AE1523, AE1528, AE1529, AE1531, AE1602, AE1603, AE1604, AE1605, AE1608, AE1611, AE1615, AE1618, AE1621, AE1624, AE1627, AE1629, AE1701, AE1704, AE1705, AE1707, AE1708, AE1709, AE1713, AE1715, AE1718, AE1722, AE1726, AE1729, AE1802, AE1805, AE1806, AE1808, AE1810, AE1811, AE1814, AE1817, AE1820, AE1822, AE1825, AE1829, AE1831, AE1836, AE1902, AE1905, AE1906, AE1909, AE1912, AE1917, AE1921, AE1923, AE1927, AE1930, AE1932, AE2003, AE2005, AE2009, AE2010, AE2012, AE2014, AE2015, AE2017, AE2019, AE2021, AE2022, AE2101, AE2102, AE2103, AE2104, AE2105, AE2107, AE2109, AE2110, AE2112, AE2116, AE2117, AE2120, AE2124, AE2126, AE2201, AE2204, AE2205, AE2208, AE2210, AE2212, AE2214, AE2217, AE2219, AE2222, AE2224, AE2226, BATS, bats_bottle, Bermuda Atlantic Time-series Study, Bermuda Atlantic Time-series Study (BATS) Bottle, Bermuda Institute of Ocean Sciences, bio, biogeo, biogeochemistry, biology, BIOS, Bottle, cruise, Discrete, EN592, EN629, EN631, in situ, insitu, in-situ, North Atlantic Ocean, observation, OC449-10, rep, reprocessed, station, Total Dissolved Phosphorus, total_dissolved_phosphorus</dd><dt><span>lat_max :</span></dt><dd>35.667</dd><dt><span>lat_min :</span></dt><dd>24.759</dd><dt><span>lon_max :</span></dt><dd>-60.447</dd><dt><span>lon_min :</span></dt><dd>-66.169</dd><dt><span>long_name :</span></dt><dd>Total Dissolved Phosphorus</dd><dt><span>make :</span></dt><dd>Observation</dd><dt><span>process_level :</span></dt><dd>Reprocessed</dd><dt><span>refrences :</span></dt><dd>nan</dd><dt><span>sensor :</span></dt><dd>Uncategorized</dd><dt><span>spatial_resolution :</span></dt><dd>Irregular</dd><dt><span>study_domain :</span></dt><dd>Biogeochemistry</dd><dt><span>table_name :</span></dt><dd>tblBATS_Bottle</dd><dt><span>temporal_resolution :</span></dt><dd>Irregular</dd><dt><span>time_max :</span></dt><dd>2022-12-16T19:08:00.000Z</dd><dt><span>time_min :</span></dt><dd>1988-10-20T22:30:00.000Z</dd><dt><span>units :</span></dt><dd>nmol/kg</dd><dt><span>variable_25th :</span></dt><dd>64.0</dd><dt><span>variable_50th :</span></dt><dd>97.0</dd><dt><span>variable_75th :</span></dt><dd>162.0</dd><dt><span>variable_count :</span></dt><dd>3180.0</dd><dt><span>variable_max :</span></dt><dd>1081.0</dd><dt><span>variable_mean :</span></dt><dd>132.6264150943</dd><dt><span>variable_min :</span></dt><dd>11.0</dd><dt><span>variable_std :</span></dt><dd>109.4371544647</dd><dt><span>visualize :</span></dt><dd>1.0</dd></dl></div><div class='xr-var-data'><pre>[35424 values with dtype=float64]</pre></div></li><li class='xr-var-item'><div class='xr-var-name'><span>wet_weight_vol_water_ratio</span></div><div class='xr-var-dims'>(time, is_day, depth, latitude, longitude, sieve_size)</div><div class='xr-var-dtype'>float64</div><div class='xr-var-preview xr-preview'>...</div><input id='attrs-c205377c-f569-4d38-8b78-1806e3662304' class='xr-var-attrs-in' type='checkbox' ><label for='attrs-c205377c-f569-4d38-8b78-1806e3662304' title='Show/Hide attributes'><svg class='icon xr-icon-file-text2'><use xlink:href='#icon-file-text2'></use></svg></label><input id='data-2f96a685-d3a8-4875-b994-8e5276891eef' class='xr-var-data-in' type='checkbox'><label for='data-2f96a685-d3a8-4875-b994-8e5276891eef' title='Show/Hide data repr'><svg class='icon xr-icon-database'><use xlink:href='#icon-database'></use></svg></label><div class='xr-var-attrs'><dl class='xr-attrs'><dt><span>acknowledgement :</span></dt><dd>Bermuda Institute of Ocean Sciences</dd><dt><span>comment :</span></dt><dd>nan</dd><dt><span>data_source :</span></dt><dd>Bermuda Institute of Ocean Sciences</dd><dt><span>dataset_description :</span></dt><dd>The BATS (Bermuda Atlantic Time-series Study) zooplankton biomass dataset is time-series spanning from 1994 to 2022. The dataset contains zooplankton biomass measurements.\n",
       "Due to an ambiguity with depth a subset of the dataset been removed as part of the Simons CMAP curation process. Â The full dataset is available at: https://10.5281/zenodo.10182499. The following dates were impacted by this depth ambiguity: 1994 (4/6 â 12/12); 1995 (1/11 â 4/27, 8/22); 2000 (2/28); 2001 (1/30, 8/7-8/8, 9/12, 10/16); 2004 (2/14, 3/23, 4/7, 7/14-15, 8/16-17); 2005 (1/27); 2006 (5/11, 6/26, 9/4-9/5); 2007 (7/18, 8/9, 10/6); 2008 (6/22); 2009 (2/10, 4/1, 4/15, 5/16, 5/19, 10/10); 2017 (5/9); 2018: (8/13); 2022: (6/29). This description has been reproduced using https://www.dropbox.com/sh/xo6c72qaeznyv05/AACCiijqHcd2chjbwrqNcxica?dl=0&amp;preview=BATS_zooplankton.txt</dd><dt><span>dataset_id :</span></dt><dd>689</dd><dt><span>dataset_name :</span></dt><dd>Bermuda Atlantic Time-Series Study (BATS) Zooplankton Biomass</dd><dt><span>dataset_short_name :</span></dt><dd>BATS_Zooplankton_Biomass</dd><dt><span>depth_max :</span></dt><dd>306.2</dd><dt><span>depth_min :</span></dt><dd>40</dd><dt><span>distributor :</span></dt><dd>Bermuda Institute of Ocean Sciences</dd><dt><span>id :</span></dt><dd>17275</dd><dt><span>keywords :</span></dt><dd>AE0811, AE0813, AE0816, AE0820, AE0823, AE0826, AE0902, AE0903, AE0904, AE0905, AE0911, AE0916, AE0919, AE0921, AE0924, AE0926, AE0928, AE1003, AE1005, AE1006, AE1007, AE1009, AE1012, AE1016, AE1021, AE1024, AE1026, AE1031, AE1033, AE1036, AE1102, AE1105, AE1106, AE1108, AE1109, AE1111, AE1113, AE1116, AE1119, AE1121, AE1125, AE1128, AE1131, AE1201, AE1202, AE1205, AE1209, AE1210, AE1212, AE1214, AE1218, AE1222, AE1223, AE1228, AE1231, AE1234, AE1301, AE1303, AE1304, AE1305, AE1306, AE1307, AE1309, AE1310, AE1313, AE1315, AE1318, AE1320, AE1323, AE1326, AE1328, AE1402, AE1406, AE1408, AE1411, AE1413, AE1416, AE1418, AE1422, AE1424, AE1425, AE1502, AE1503, AE1505, AE1508, AE1510, AE1511, AE1512, AE1515, AE1517, AE1520, AE1523, AE1529, AE1531, AE1602, AE1603, AE1604, AE1605, AE1608, AE1611, AE1615, AE1618, AE1621, AE1624, AE1627, AE1629, AE1701, AE1704, AE1707, AE1708, AE1709, AE1713, AE1715, AE1718, AE1722, AE1726, AE1729, AE1802, AE1805, AE1806, AE1808, AE1810, AE1811, AE1814, AE1817, AE1820, AE1822, AE1825, AE1829, AE1831, AE1836, AE1902, AE1905, AE1906, AE1909, AE1912, AE1917, AE1921, AE1923, AE1927, AE1930, AE1932, AE2003, AE2005, AE2009, AE2010, AE2012, AE2015, AE2017, AE2019, AE2021, AE2101, AE2102, AE2103, AE2104, AE2105, AE2107, AE2109, AE2110, AE2112, AE2116, AE2117, AE2120, AE2124, AE2126, AE2201, AE2204, AE2208, AE2210, AE2212, AE2214, AE2217, AE2219, AE2222, AE2224, AE2226, BATS, bats_zooplankton_biomass, Bermuda Atlantic Time-series Study, Bermuda Atlantic Time-Series Study (BATS) Zooplankton Biomass, Bermuda Institute of Ocean Sciences, bio, biogeo, biogeochemistry, biology, BIOS, cruise, EN592, EN629, EN631, in situ, insitu, in-situ, North Atlantic Ocean, observation, rep, reprocessed, station, Wet Weight / Volume of Water, wet_weight_vol_water_ratio, Zooplankton Biomass, Zooplankton Net</dd><dt><span>lat_max :</span></dt><dd>31.9190833333</dd><dt><span>lat_min :</span></dt><dd>31.4113166667</dd><dt><span>lon_max :</span></dt><dd>-63.8625</dd><dt><span>lon_min :</span></dt><dd>-64.5048333333</dd><dt><span>long_name :</span></dt><dd>Wet Weight / Volume of Water</dd><dt><span>make :</span></dt><dd>Observation</dd><dt><span>process_level :</span></dt><dd>Reprocessed</dd><dt><span>refrences :</span></dt><dd>nan</dd><dt><span>sensor :</span></dt><dd>Zooplankton Net</dd><dt><span>spatial_resolution :</span></dt><dd>Irregular</dd><dt><span>study_domain :</span></dt><dd>Biogeochemistry</dd><dt><span>table_name :</span></dt><dd>tblBATS_Zooplankton_Biomass</dd><dt><span>temporal_resolution :</span></dt><dd>Irregular</dd><dt><span>time_max :</span></dt><dd>2022-12-13T00:00:00.000Z</dd><dt><span>time_min :</span></dt><dd>1995-05-10T00:00:00.000Z</dd><dt><span>units :</span></dt><dd>mg/m^3</dd><dt><span>variable_25th :</span></dt><dd>1.29</dd><dt><span>variable_50th :</span></dt><dd>2.82</dd><dt><span>variable_75th :</span></dt><dd>5.09</dd><dt><span>variable_count :</span></dt><dd>6665.0</dd><dt><span>variable_max :</span></dt><dd>211.27</dd><dt><span>variable_mean :</span></dt><dd>4.0117884471</dd><dt><span>variable_min :</span></dt><dd>0.0</dd><dt><span>variable_std :</span></dt><dd>5.3923645426</dd><dt><span>visualize :</span></dt><dd>1.0</dd></dl></div><div class='xr-var-data'><pre>[354240 values with dtype=float64]</pre></div></li></ul></div></li><li class='xr-section-item'><input id='section-a9c6261f-ace9-4629-8cce-1098f4791dde' class='xr-section-summary-in' type='checkbox'  ><label for='section-a9c6261f-ace9-4629-8cce-1098f4791dde' class='xr-section-summary' >Indexes: <span>(6)</span></label><div class='xr-section-inline-details'></div><div class='xr-section-details'><ul class='xr-var-list'><li class='xr-var-item'><div class='xr-index-name'><div>depth</div></div><div class='xr-index-preview'>PandasIndex</div><div></div><input id='index-20c237fa-390f-42cf-8df5-4ddfe5e3de72' class='xr-index-data-in' type='checkbox'/><label for='index-20c237fa-390f-42cf-8df5-4ddfe5e3de72' title='Show/Hide index repr'><svg class='icon xr-icon-database'><use xlink:href='#icon-database'></use></svg></label><div class='xr-index-data'><pre>PandasIndex(Index([50.0, 100.0, 150.0, 200.0, 250.0, 300.0, 350.0, 400.0], dtype=&#x27;float64&#x27;, name=&#x27;depth&#x27;))</pre></div></li><li class='xr-var-item'><div class='xr-index-name'><div>is_day</div></div><div class='xr-index-preview'>PandasIndex</div><div></div><input id='index-0f397a66-656b-4585-9b1a-8f9ba68af1cd' class='xr-index-data-in' type='checkbox'/><label for='index-0f397a66-656b-4585-9b1a-8f9ba68af1cd' title='Show/Hide index repr'><svg class='icon xr-icon-database'><use xlink:href='#icon-database'></use></svg></label><div class='xr-index-data'><pre>PandasIndex(Index([False, True], dtype=&#x27;bool&#x27;, name=&#x27;is_day&#x27;))</pre></div></li><li class='xr-var-item'><div class='xr-index-name'><div>latitude</div></div><div class='xr-index-preview'>PandasIndex</div><div></div><input id='index-280458f0-5230-4326-850e-895b3b7443c4' class='xr-index-data-in' type='checkbox'/><label for='index-280458f0-5230-4326-850e-895b3b7443c4' title='Show/Hide index repr'><svg class='icon xr-icon-database'><use xlink:href='#icon-database'></use></svg></label><div class='xr-index-data'><pre>PandasIndex(Index([31.6], dtype=&#x27;float64&#x27;, name=&#x27;latitude&#x27;))</pre></div></li><li class='xr-var-item'><div class='xr-index-name'><div>longitude</div></div><div class='xr-index-preview'>PandasIndex</div><div></div><input id='index-7e576944-1382-415a-aedd-5562943c7fa3' class='xr-index-data-in' type='checkbox'/><label for='index-7e576944-1382-415a-aedd-5562943c7fa3' title='Show/Hide index repr'><svg class='icon xr-icon-database'><use xlink:href='#icon-database'></use></svg></label><div class='xr-index-data'><pre>PandasIndex(Index([-64.2], dtype=&#x27;float64&#x27;, name=&#x27;longitude&#x27;))</pre></div></li><li class='xr-var-item'><div class='xr-index-name'><div>sieve_size</div></div><div class='xr-index-preview'>PandasIndex</div><div></div><input id='index-28b833e3-406e-458c-bd31-f967ab5e44d8' class='xr-index-data-in' type='checkbox'/><label for='index-28b833e3-406e-458c-bd31-f967ab5e44d8' title='Show/Hide index repr'><svg class='icon xr-icon-database'><use xlink:href='#icon-database'></use></svg></label><div class='xr-index-data'><pre>PandasIndex(Index([0.2, 0.5, 1.0, 2.0, 5.0], dtype=&#x27;float64&#x27;, name=&#x27;sieve_size&#x27;))</pre></div></li><li class='xr-var-item'><div class='xr-index-name'><div>time</div></div><div class='xr-index-preview'>PandasIndex</div><div></div><input id='index-2b972d9a-1b9b-44f8-8803-48bb7a8dee56' class='xr-index-data-in' type='checkbox'/><label for='index-2b972d9a-1b9b-44f8-8803-48bb7a8dee56' title='Show/Hide index repr'><svg class='icon xr-icon-database'><use xlink:href='#icon-database'></use></svg></label><div class='xr-index-data'><pre>PandasIndex(DatetimeIndex([&#x27;1988-10-21 04:55:00&#x27;, &#x27;1988-11-23 14:00:00&#x27;,\n",
       "               &#x27;1988-11-23 20:45:00&#x27;, &#x27;1988-11-24 02:30:00&#x27;,\n",
       "               &#x27;1988-12-18 00:00:00&#x27;, &#x27;1988-12-19 04:25:00&#x27;,\n",
       "               &#x27;1988-12-19 10:05:00&#x27;, &#x27;1988-12-19 14:31:00&#x27;,\n",
       "               &#x27;1988-12-19 17:30:00&#x27;, &#x27;1989-01-26 08:20:00&#x27;,\n",
       "               ...\n",
       "               &#x27;2022-12-13 19:51:00&#x27;, &#x27;2022-12-14 06:45:00&#x27;,\n",
       "               &#x27;2022-12-14 19:42:00&#x27;, &#x27;2022-12-15 07:59:00&#x27;,\n",
       "               &#x27;2022-12-15 13:28:00&#x27;, &#x27;2022-12-16 04:37:00&#x27;,\n",
       "               &#x27;2022-12-16 08:11:00&#x27;, &#x27;2022-12-16 10:36:00&#x27;,\n",
       "               &#x27;2022-12-16 14:01:00&#x27;, &#x27;2022-12-16 16:07:00&#x27;],\n",
       "              dtype=&#x27;datetime64[ns]&#x27;, name=&#x27;time&#x27;, length=4428, freq=None))</pre></div></li></ul></div></li><li class='xr-section-item'><input id='section-04b43977-0539-4223-ba48-3c32467a6110' class='xr-section-summary-in' type='checkbox' disabled ><label for='section-04b43977-0539-4223-ba48-3c32467a6110' class='xr-section-summary'  title='Expand/collapse section'>Attributes: <span>(0)</span></label><div class='xr-section-inline-details'></div><div class='xr-section-details'><dl class='xr-attrs'></dl></div></li></ul></div></div>"
      ],
      "text/plain": [
       "<xarray.Dataset> Size: 16MB\n",
       "Dimensions:                        (time: 4428, depth: 8, latitude: 1,\n",
       "                                    longitude: 1, is_day: 2, sieve_size: 5)\n",
       "Coordinates:\n",
       "  * depth                          (depth) float64 64B 50.0 100.0 ... 400.0\n",
       "  * is_day                         (is_day) bool 2B False True\n",
       "  * latitude                       (latitude) float64 8B 31.6\n",
       "  * longitude                      (longitude) float64 8B -64.2\n",
       "  * sieve_size                     (sieve_size) float64 40B 0.2 0.5 1.0 2.0 5.0\n",
       "  * time                           (time) datetime64[ns] 35kB 1988-10-21T04:5...\n",
       "Data variables: (12/37)\n",
       "    CO2                            (time, depth, latitude, longitude) float64 283kB ...\n",
       "    CTD_salinity                   (time, depth, latitude, longitude) float64 283kB ...\n",
       "    POC                            (time, depth, latitude, longitude) float64 283kB ...\n",
       "    PON                            (time, depth, latitude, longitude) float64 283kB ...\n",
       "    POP                            (time, depth, latitude, longitude) float64 283kB ...\n",
       "    TN                             (time, depth, latitude, longitude) float64 283kB ...\n",
       "    ...                             ...\n",
       "    silicate                       (time, depth, latitude, longitude) float64 283kB ...\n",
       "    synechococcus                  (time, depth, latitude, longitude) float64 283kB ...\n",
       "    t0                             (time, depth, latitude, longitude) float64 283kB ...\n",
       "    temp                           (time, depth, latitude, longitude) float64 283kB ...\n",
       "    total_dissolved_phosphorus     (time, depth, latitude, longitude) float64 283kB ...\n",
       "    wet_weight_vol_water_ratio     (time, is_day, depth, latitude, longitude, sieve_size) float64 3MB ..."
      ]
     },
     "execution_count": 60,
     "metadata": {},
     "output_type": "execute_result"
    }
   ],
   "source": [
    "data_bats = xr.open_dataset(\n",
    "    \"../stations/bats/3_post_processed/bats_product.zarr\", engine=\"zarr\"\n",
    ")\n",
    "data_bats"
   ]
  },
  {
   "cell_type": "code",
   "execution_count": 61,
   "metadata": {},
   "outputs": [
    {
     "data": {
      "text/html": [
       "<div><svg style=\"position: absolute; width: 0; height: 0; overflow: hidden\">\n",
       "<defs>\n",
       "<symbol id=\"icon-database\" viewBox=\"0 0 32 32\">\n",
       "<path d=\"M16 0c-8.837 0-16 2.239-16 5v4c0 2.761 7.163 5 16 5s16-2.239 16-5v-4c0-2.761-7.163-5-16-5z\"></path>\n",
       "<path d=\"M16 17c-8.837 0-16-2.239-16-5v6c0 2.761 7.163 5 16 5s16-2.239 16-5v-6c0 2.761-7.163 5-16 5z\"></path>\n",
       "<path d=\"M16 26c-8.837 0-16-2.239-16-5v6c0 2.761 7.163 5 16 5s16-2.239 16-5v-6c0 2.761-7.163 5-16 5z\"></path>\n",
       "</symbol>\n",
       "<symbol id=\"icon-file-text2\" viewBox=\"0 0 32 32\">\n",
       "<path d=\"M28.681 7.159c-0.694-0.947-1.662-2.053-2.724-3.116s-2.169-2.030-3.116-2.724c-1.612-1.182-2.393-1.319-2.841-1.319h-15.5c-1.378 0-2.5 1.121-2.5 2.5v27c0 1.378 1.122 2.5 2.5 2.5h23c1.378 0 2.5-1.122 2.5-2.5v-19.5c0-0.448-0.137-1.23-1.319-2.841zM24.543 5.457c0.959 0.959 1.712 1.825 2.268 2.543h-4.811v-4.811c0.718 0.556 1.584 1.309 2.543 2.268zM28 29.5c0 0.271-0.229 0.5-0.5 0.5h-23c-0.271 0-0.5-0.229-0.5-0.5v-27c0-0.271 0.229-0.5 0.5-0.5 0 0 15.499-0 15.5 0v7c0 0.552 0.448 1 1 1h7v19.5z\"></path>\n",
       "<path d=\"M23 26h-14c-0.552 0-1-0.448-1-1s0.448-1 1-1h14c0.552 0 1 0.448 1 1s-0.448 1-1 1z\"></path>\n",
       "<path d=\"M23 22h-14c-0.552 0-1-0.448-1-1s0.448-1 1-1h14c0.552 0 1 0.448 1 1s-0.448 1-1 1z\"></path>\n",
       "<path d=\"M23 18h-14c-0.552 0-1-0.448-1-1s0.448-1 1-1h14c0.552 0 1 0.448 1 1s-0.448 1-1 1z\"></path>\n",
       "</symbol>\n",
       "</defs>\n",
       "</svg>\n",
       "<style>/* CSS stylesheet for displaying xarray objects in jupyterlab.\n",
       " *\n",
       " */\n",
       "\n",
       ":root {\n",
       "  --xr-font-color0: var(--jp-content-font-color0, rgba(0, 0, 0, 1));\n",
       "  --xr-font-color2: var(--jp-content-font-color2, rgba(0, 0, 0, 0.54));\n",
       "  --xr-font-color3: var(--jp-content-font-color3, rgba(0, 0, 0, 0.38));\n",
       "  --xr-border-color: var(--jp-border-color2, #e0e0e0);\n",
       "  --xr-disabled-color: var(--jp-layout-color3, #bdbdbd);\n",
       "  --xr-background-color: var(--jp-layout-color0, white);\n",
       "  --xr-background-color-row-even: var(--jp-layout-color1, white);\n",
       "  --xr-background-color-row-odd: var(--jp-layout-color2, #eeeeee);\n",
       "}\n",
       "\n",
       "html[theme=dark],\n",
       "body[data-theme=dark],\n",
       "body.vscode-dark {\n",
       "  --xr-font-color0: rgba(255, 255, 255, 1);\n",
       "  --xr-font-color2: rgba(255, 255, 255, 0.54);\n",
       "  --xr-font-color3: rgba(255, 255, 255, 0.38);\n",
       "  --xr-border-color: #1F1F1F;\n",
       "  --xr-disabled-color: #515151;\n",
       "  --xr-background-color: #111111;\n",
       "  --xr-background-color-row-even: #111111;\n",
       "  --xr-background-color-row-odd: #313131;\n",
       "}\n",
       "\n",
       ".xr-wrap {\n",
       "  display: block !important;\n",
       "  min-width: 300px;\n",
       "  max-width: 700px;\n",
       "}\n",
       "\n",
       ".xr-text-repr-fallback {\n",
       "  /* fallback to plain text repr when CSS is not injected (untrusted notebook) */\n",
       "  display: none;\n",
       "}\n",
       "\n",
       ".xr-header {\n",
       "  padding-top: 6px;\n",
       "  padding-bottom: 6px;\n",
       "  margin-bottom: 4px;\n",
       "  border-bottom: solid 1px var(--xr-border-color);\n",
       "}\n",
       "\n",
       ".xr-header > div,\n",
       ".xr-header > ul {\n",
       "  display: inline;\n",
       "  margin-top: 0;\n",
       "  margin-bottom: 0;\n",
       "}\n",
       "\n",
       ".xr-obj-type,\n",
       ".xr-array-name {\n",
       "  margin-left: 2px;\n",
       "  margin-right: 10px;\n",
       "}\n",
       "\n",
       ".xr-obj-type {\n",
       "  color: var(--xr-font-color2);\n",
       "}\n",
       "\n",
       ".xr-sections {\n",
       "  padding-left: 0 !important;\n",
       "  display: grid;\n",
       "  grid-template-columns: 150px auto auto 1fr 20px 20px;\n",
       "}\n",
       "\n",
       ".xr-section-item {\n",
       "  display: contents;\n",
       "}\n",
       "\n",
       ".xr-section-item input {\n",
       "  display: none;\n",
       "}\n",
       "\n",
       ".xr-section-item input + label {\n",
       "  color: var(--xr-disabled-color);\n",
       "}\n",
       "\n",
       ".xr-section-item input:enabled + label {\n",
       "  cursor: pointer;\n",
       "  color: var(--xr-font-color2);\n",
       "}\n",
       "\n",
       ".xr-section-item input:enabled + label:hover {\n",
       "  color: var(--xr-font-color0);\n",
       "}\n",
       "\n",
       ".xr-section-summary {\n",
       "  grid-column: 1;\n",
       "  color: var(--xr-font-color2);\n",
       "  font-weight: 500;\n",
       "}\n",
       "\n",
       ".xr-section-summary > span {\n",
       "  display: inline-block;\n",
       "  padding-left: 0.5em;\n",
       "}\n",
       "\n",
       ".xr-section-summary-in:disabled + label {\n",
       "  color: var(--xr-font-color2);\n",
       "}\n",
       "\n",
       ".xr-section-summary-in + label:before {\n",
       "  display: inline-block;\n",
       "  content: '►';\n",
       "  font-size: 11px;\n",
       "  width: 15px;\n",
       "  text-align: center;\n",
       "}\n",
       "\n",
       ".xr-section-summary-in:disabled + label:before {\n",
       "  color: var(--xr-disabled-color);\n",
       "}\n",
       "\n",
       ".xr-section-summary-in:checked + label:before {\n",
       "  content: '▼';\n",
       "}\n",
       "\n",
       ".xr-section-summary-in:checked + label > span {\n",
       "  display: none;\n",
       "}\n",
       "\n",
       ".xr-section-summary,\n",
       ".xr-section-inline-details {\n",
       "  padding-top: 4px;\n",
       "  padding-bottom: 4px;\n",
       "}\n",
       "\n",
       ".xr-section-inline-details {\n",
       "  grid-column: 2 / -1;\n",
       "}\n",
       "\n",
       ".xr-section-details {\n",
       "  display: none;\n",
       "  grid-column: 1 / -1;\n",
       "  margin-bottom: 5px;\n",
       "}\n",
       "\n",
       ".xr-section-summary-in:checked ~ .xr-section-details {\n",
       "  display: contents;\n",
       "}\n",
       "\n",
       ".xr-array-wrap {\n",
       "  grid-column: 1 / -1;\n",
       "  display: grid;\n",
       "  grid-template-columns: 20px auto;\n",
       "}\n",
       "\n",
       ".xr-array-wrap > label {\n",
       "  grid-column: 1;\n",
       "  vertical-align: top;\n",
       "}\n",
       "\n",
       ".xr-preview {\n",
       "  color: var(--xr-font-color3);\n",
       "}\n",
       "\n",
       ".xr-array-preview,\n",
       ".xr-array-data {\n",
       "  padding: 0 5px !important;\n",
       "  grid-column: 2;\n",
       "}\n",
       "\n",
       ".xr-array-data,\n",
       ".xr-array-in:checked ~ .xr-array-preview {\n",
       "  display: none;\n",
       "}\n",
       "\n",
       ".xr-array-in:checked ~ .xr-array-data,\n",
       ".xr-array-preview {\n",
       "  display: inline-block;\n",
       "}\n",
       "\n",
       ".xr-dim-list {\n",
       "  display: inline-block !important;\n",
       "  list-style: none;\n",
       "  padding: 0 !important;\n",
       "  margin: 0;\n",
       "}\n",
       "\n",
       ".xr-dim-list li {\n",
       "  display: inline-block;\n",
       "  padding: 0;\n",
       "  margin: 0;\n",
       "}\n",
       "\n",
       ".xr-dim-list:before {\n",
       "  content: '(';\n",
       "}\n",
       "\n",
       ".xr-dim-list:after {\n",
       "  content: ')';\n",
       "}\n",
       "\n",
       ".xr-dim-list li:not(:last-child):after {\n",
       "  content: ',';\n",
       "  padding-right: 5px;\n",
       "}\n",
       "\n",
       ".xr-has-index {\n",
       "  font-weight: bold;\n",
       "}\n",
       "\n",
       ".xr-var-list,\n",
       ".xr-var-item {\n",
       "  display: contents;\n",
       "}\n",
       "\n",
       ".xr-var-item > div,\n",
       ".xr-var-item label,\n",
       ".xr-var-item > .xr-var-name span {\n",
       "  background-color: var(--xr-background-color-row-even);\n",
       "  margin-bottom: 0;\n",
       "}\n",
       "\n",
       ".xr-var-item > .xr-var-name:hover span {\n",
       "  padding-right: 5px;\n",
       "}\n",
       "\n",
       ".xr-var-list > li:nth-child(odd) > div,\n",
       ".xr-var-list > li:nth-child(odd) > label,\n",
       ".xr-var-list > li:nth-child(odd) > .xr-var-name span {\n",
       "  background-color: var(--xr-background-color-row-odd);\n",
       "}\n",
       "\n",
       ".xr-var-name {\n",
       "  grid-column: 1;\n",
       "}\n",
       "\n",
       ".xr-var-dims {\n",
       "  grid-column: 2;\n",
       "}\n",
       "\n",
       ".xr-var-dtype {\n",
       "  grid-column: 3;\n",
       "  text-align: right;\n",
       "  color: var(--xr-font-color2);\n",
       "}\n",
       "\n",
       ".xr-var-preview {\n",
       "  grid-column: 4;\n",
       "}\n",
       "\n",
       ".xr-index-preview {\n",
       "  grid-column: 2 / 5;\n",
       "  color: var(--xr-font-color2);\n",
       "}\n",
       "\n",
       ".xr-var-name,\n",
       ".xr-var-dims,\n",
       ".xr-var-dtype,\n",
       ".xr-preview,\n",
       ".xr-attrs dt {\n",
       "  white-space: nowrap;\n",
       "  overflow: hidden;\n",
       "  text-overflow: ellipsis;\n",
       "  padding-right: 10px;\n",
       "}\n",
       "\n",
       ".xr-var-name:hover,\n",
       ".xr-var-dims:hover,\n",
       ".xr-var-dtype:hover,\n",
       ".xr-attrs dt:hover {\n",
       "  overflow: visible;\n",
       "  width: auto;\n",
       "  z-index: 1;\n",
       "}\n",
       "\n",
       ".xr-var-attrs,\n",
       ".xr-var-data,\n",
       ".xr-index-data {\n",
       "  display: none;\n",
       "  background-color: var(--xr-background-color) !important;\n",
       "  padding-bottom: 5px !important;\n",
       "}\n",
       "\n",
       ".xr-var-attrs-in:checked ~ .xr-var-attrs,\n",
       ".xr-var-data-in:checked ~ .xr-var-data,\n",
       ".xr-index-data-in:checked ~ .xr-index-data {\n",
       "  display: block;\n",
       "}\n",
       "\n",
       ".xr-var-data > table {\n",
       "  float: right;\n",
       "}\n",
       "\n",
       ".xr-var-name span,\n",
       ".xr-var-data,\n",
       ".xr-index-name div,\n",
       ".xr-index-data,\n",
       ".xr-attrs {\n",
       "  padding-left: 25px !important;\n",
       "}\n",
       "\n",
       ".xr-attrs,\n",
       ".xr-var-attrs,\n",
       ".xr-var-data,\n",
       ".xr-index-data {\n",
       "  grid-column: 1 / -1;\n",
       "}\n",
       "\n",
       "dl.xr-attrs {\n",
       "  padding: 0;\n",
       "  margin: 0;\n",
       "  display: grid;\n",
       "  grid-template-columns: 125px auto;\n",
       "}\n",
       "\n",
       ".xr-attrs dt,\n",
       ".xr-attrs dd {\n",
       "  padding: 0;\n",
       "  margin: 0;\n",
       "  float: left;\n",
       "  padding-right: 10px;\n",
       "  width: auto;\n",
       "}\n",
       "\n",
       ".xr-attrs dt {\n",
       "  font-weight: normal;\n",
       "  grid-column: 1;\n",
       "}\n",
       "\n",
       ".xr-attrs dt:hover span {\n",
       "  display: inline-block;\n",
       "  background: var(--xr-background-color);\n",
       "  padding-right: 10px;\n",
       "}\n",
       "\n",
       ".xr-attrs dd {\n",
       "  grid-column: 2;\n",
       "  white-space: pre-wrap;\n",
       "  word-break: break-all;\n",
       "}\n",
       "\n",
       ".xr-icon-database,\n",
       ".xr-icon-file-text2,\n",
       ".xr-no-icon {\n",
       "  display: inline-block;\n",
       "  vertical-align: middle;\n",
       "  width: 1em;\n",
       "  height: 1.5em !important;\n",
       "  stroke-width: 0;\n",
       "  stroke: currentColor;\n",
       "  fill: currentColor;\n",
       "}\n",
       "</style><pre class='xr-text-repr-fallback'>&lt;xarray.Dataset&gt; Size: 4MB\n",
       "Dimensions:     (time: 687, is_day: 2, latitude: 1, longitude: 1, depth: 8,\n",
       "                 sieve_size: 5)\n",
       "Coordinates:\n",
       "  * depth       (depth) int64 64B 50 100 150 200 250 300 350 400\n",
       "  * is_day      (is_day) bool 2B False True\n",
       "  * latitude    (latitude) float64 8B 22.75\n",
       "  * longitude   (longitude) int64 8B -158\n",
       "  * sieve_size  (sieve_size) float64 40B 0.2 0.5 1.0 2.0 5.0\n",
       "  * time        (time) datetime64[ns] 5kB 1988-10-31 1988-12-02 ... 2022-09-02\n",
       "Data variables: (12/25)\n",
       "    abnd        (time, is_day, latitude, longitude, depth, sieve_size) float64 440kB ...\n",
       "    bsal        (time, latitude, longitude, depth) float64 44kB ...\n",
       "    carb        (time, is_day, latitude, longitude, depth, sieve_size) float64 440kB ...\n",
       "    chl         (time, latitude, longitude, depth) float64 44kB ...\n",
       "    d12         (time, latitude, longitude, depth) float64 44kB ...\n",
       "    dwt         (time, is_day, latitude, longitude, depth, sieve_size) float64 440kB ...\n",
       "    ...          ...\n",
       "    svol        (time, is_day, latitude, longitude, depth, sieve_size) float64 440kB ...\n",
       "    temp        (time, latitude, longitude, depth) float64 44kB ...\n",
       "    theta       (time, latitude, longitude, depth) float64 44kB ...\n",
       "    vol         (time, is_day, latitude, longitude, depth, sieve_size) float64 440kB ...\n",
       "    wwt         (time, is_day, latitude, longitude, depth, sieve_size) float64 440kB ...\n",
       "    xmiss       (time, latitude, longitude, depth) float64 44kB ...</pre><div class='xr-wrap' style='display:none'><div class='xr-header'><div class='xr-obj-type'>xarray.Dataset</div></div><ul class='xr-sections'><li class='xr-section-item'><input id='section-7320cabf-6eab-438b-8684-da099ffc8f2b' class='xr-section-summary-in' type='checkbox' disabled ><label for='section-7320cabf-6eab-438b-8684-da099ffc8f2b' class='xr-section-summary'  title='Expand/collapse section'>Dimensions:</label><div class='xr-section-inline-details'><ul class='xr-dim-list'><li><span class='xr-has-index'>time</span>: 687</li><li><span class='xr-has-index'>is_day</span>: 2</li><li><span class='xr-has-index'>latitude</span>: 1</li><li><span class='xr-has-index'>longitude</span>: 1</li><li><span class='xr-has-index'>depth</span>: 8</li><li><span class='xr-has-index'>sieve_size</span>: 5</li></ul></div><div class='xr-section-details'></div></li><li class='xr-section-item'><input id='section-c95a8579-5d7b-4417-be87-4e4995ed871c' class='xr-section-summary-in' type='checkbox'  checked><label for='section-c95a8579-5d7b-4417-be87-4e4995ed871c' class='xr-section-summary' >Coordinates: <span>(6)</span></label><div class='xr-section-inline-details'></div><div class='xr-section-details'><ul class='xr-var-list'><li class='xr-var-item'><div class='xr-var-name'><span class='xr-has-index'>depth</span></div><div class='xr-var-dims'>(depth)</div><div class='xr-var-dtype'>int64</div><div class='xr-var-preview xr-preview'>50 100 150 200 250 300 350 400</div><input id='attrs-0f440fa4-4eee-4aa9-bb10-38b3644cd84a' class='xr-var-attrs-in' type='checkbox' ><label for='attrs-0f440fa4-4eee-4aa9-bb10-38b3644cd84a' title='Show/Hide attributes'><svg class='icon xr-icon-file-text2'><use xlink:href='#icon-file-text2'></use></svg></label><input id='data-d38dd135-e0c4-4497-877f-8e77cb72fe93' class='xr-var-data-in' type='checkbox'><label for='data-d38dd135-e0c4-4497-877f-8e77cb72fe93' title='Show/Hide data repr'><svg class='icon xr-icon-database'><use xlink:href='#icon-database'></use></svg></label><div class='xr-var-attrs'><dl class='xr-attrs'><dt><span>axis :</span></dt><dd>Z</dd><dt><span>long_name :</span></dt><dd>depth</dd><dt><span>standard_name :</span></dt><dd>depth</dd><dt><span>units :</span></dt><dd>m</dd></dl></div><div class='xr-var-data'><pre>array([ 50, 100, 150, 200, 250, 300, 350, 400])</pre></div></li><li class='xr-var-item'><div class='xr-var-name'><span class='xr-has-index'>is_day</span></div><div class='xr-var-dims'>(is_day)</div><div class='xr-var-dtype'>bool</div><div class='xr-var-preview xr-preview'>False True</div><input id='attrs-dcaca016-20c7-48c2-b1b6-ae5a57730225' class='xr-var-attrs-in' type='checkbox' ><label for='attrs-dcaca016-20c7-48c2-b1b6-ae5a57730225' title='Show/Hide attributes'><svg class='icon xr-icon-file-text2'><use xlink:href='#icon-file-text2'></use></svg></label><input id='data-1959557d-60e8-4a3f-8590-bd055b62fb23' class='xr-var-data-in' type='checkbox'><label for='data-1959557d-60e8-4a3f-8590-bd055b62fb23' title='Show/Hide data repr'><svg class='icon xr-icon-database'><use xlink:href='#icon-database'></use></svg></label><div class='xr-var-attrs'><dl class='xr-attrs'><dt><span>description :</span></dt><dd>Flag to indicate if the time is during the day or night</dd><dt><span>flag_meanings :</span></dt><dd>day night</dd><dt><span>flag_values :</span></dt><dd>[True, False]</dd><dt><span>long_name :</span></dt><dd>Is day</dd><dt><span>standard_name :</span></dt><dd>is_day</dd></dl></div><div class='xr-var-data'><pre>array([False,  True])</pre></div></li><li class='xr-var-item'><div class='xr-var-name'><span class='xr-has-index'>latitude</span></div><div class='xr-var-dims'>(latitude)</div><div class='xr-var-dtype'>float64</div><div class='xr-var-preview xr-preview'>22.75</div><input id='attrs-d5ccea62-e4f8-4aa4-ae6b-1482019684d2' class='xr-var-attrs-in' type='checkbox' ><label for='attrs-d5ccea62-e4f8-4aa4-ae6b-1482019684d2' title='Show/Hide attributes'><svg class='icon xr-icon-file-text2'><use xlink:href='#icon-file-text2'></use></svg></label><input id='data-8ad1ff38-edfa-4482-bcd4-1ea7d9fdf2aa' class='xr-var-data-in' type='checkbox'><label for='data-8ad1ff38-edfa-4482-bcd4-1ea7d9fdf2aa' title='Show/Hide data repr'><svg class='icon xr-icon-database'><use xlink:href='#icon-database'></use></svg></label><div class='xr-var-attrs'><dl class='xr-attrs'><dt><span>axis :</span></dt><dd>Y</dd><dt><span>long_name :</span></dt><dd>latitude</dd><dt><span>standard_name :</span></dt><dd>latitude</dd><dt><span>units :</span></dt><dd>degrees_north</dd></dl></div><div class='xr-var-data'><pre>array([22.75])</pre></div></li><li class='xr-var-item'><div class='xr-var-name'><span class='xr-has-index'>longitude</span></div><div class='xr-var-dims'>(longitude)</div><div class='xr-var-dtype'>int64</div><div class='xr-var-preview xr-preview'>-158</div><input id='attrs-9705e275-4d01-454f-94bb-dddf6130b62f' class='xr-var-attrs-in' type='checkbox' ><label for='attrs-9705e275-4d01-454f-94bb-dddf6130b62f' title='Show/Hide attributes'><svg class='icon xr-icon-file-text2'><use xlink:href='#icon-file-text2'></use></svg></label><input id='data-c201edad-05c2-4947-b7b6-f3a8c85616d1' class='xr-var-data-in' type='checkbox'><label for='data-c201edad-05c2-4947-b7b6-f3a8c85616d1' title='Show/Hide data repr'><svg class='icon xr-icon-database'><use xlink:href='#icon-database'></use></svg></label><div class='xr-var-attrs'><dl class='xr-attrs'><dt><span>axis :</span></dt><dd>X</dd><dt><span>long_name :</span></dt><dd>longitude</dd><dt><span>standard_name :</span></dt><dd>longitude</dd><dt><span>units :</span></dt><dd>degrees_east</dd></dl></div><div class='xr-var-data'><pre>array([-158])</pre></div></li><li class='xr-var-item'><div class='xr-var-name'><span class='xr-has-index'>sieve_size</span></div><div class='xr-var-dims'>(sieve_size)</div><div class='xr-var-dtype'>float64</div><div class='xr-var-preview xr-preview'>0.2 0.5 1.0 2.0 5.0</div><input id='attrs-c7408c3b-185d-4138-9444-5cbeebf908a5' class='xr-var-attrs-in' type='checkbox' ><label for='attrs-c7408c3b-185d-4138-9444-5cbeebf908a5' title='Show/Hide attributes'><svg class='icon xr-icon-file-text2'><use xlink:href='#icon-file-text2'></use></svg></label><input id='data-c1429963-78ff-409c-ad69-5b422850df49' class='xr-var-data-in' type='checkbox'><label for='data-c1429963-78ff-409c-ad69-5b422850df49' title='Show/Hide data repr'><svg class='icon xr-icon-database'><use xlink:href='#icon-database'></use></svg></label><div class='xr-var-attrs'><dl class='xr-attrs'><dt><span>long_name :</span></dt><dd>fraction</dd><dt><span>standard_name :</span></dt><dd>fraction</dd><dt><span>units :</span></dt><dd>mm</dd></dl></div><div class='xr-var-data'><pre>array([0.2, 0.5, 1. , 2. , 5. ])</pre></div></li><li class='xr-var-item'><div class='xr-var-name'><span class='xr-has-index'>time</span></div><div class='xr-var-dims'>(time)</div><div class='xr-var-dtype'>datetime64[ns]</div><div class='xr-var-preview xr-preview'>1988-10-31 ... 2022-09-02</div><input id='attrs-0bf087bf-4b38-4ba4-a36b-57c21d3acacc' class='xr-var-attrs-in' type='checkbox' ><label for='attrs-0bf087bf-4b38-4ba4-a36b-57c21d3acacc' title='Show/Hide attributes'><svg class='icon xr-icon-file-text2'><use xlink:href='#icon-file-text2'></use></svg></label><input id='data-da10b5f8-002c-46a3-9fcf-65f0fded79d7' class='xr-var-data-in' type='checkbox'><label for='data-da10b5f8-002c-46a3-9fcf-65f0fded79d7' title='Show/Hide data repr'><svg class='icon xr-icon-database'><use xlink:href='#icon-database'></use></svg></label><div class='xr-var-attrs'><dl class='xr-attrs'><dt><span>axis :</span></dt><dd>T</dd><dt><span>long_name :</span></dt><dd>time</dd><dt><span>standard_name :</span></dt><dd>time</dd></dl></div><div class='xr-var-data'><pre>array([&#x27;1988-10-31T00:00:00.000000000&#x27;, &#x27;1988-12-02T00:00:00.000000000&#x27;,\n",
       "       &#x27;1989-01-08T00:00:00.000000000&#x27;, ..., &#x27;2022-07-31T00:00:00.000000000&#x27;,\n",
       "       &#x27;2022-09-01T00:00:00.000000000&#x27;, &#x27;2022-09-02T00:00:00.000000000&#x27;],\n",
       "      dtype=&#x27;datetime64[ns]&#x27;)</pre></div></li></ul></div></li><li class='xr-section-item'><input id='section-50fcaf30-0846-4179-8726-4ed0e352d14f' class='xr-section-summary-in' type='checkbox'  ><label for='section-50fcaf30-0846-4179-8726-4ed0e352d14f' class='xr-section-summary' >Data variables: <span>(25)</span></label><div class='xr-section-inline-details'></div><div class='xr-section-details'><ul class='xr-var-list'><li class='xr-var-item'><div class='xr-var-name'><span>abnd</span></div><div class='xr-var-dims'>(time, is_day, latitude, longitude, depth, sieve_size)</div><div class='xr-var-dtype'>float64</div><div class='xr-var-preview xr-preview'>...</div><input id='attrs-8dc93015-9a40-4fee-9d4e-78ab849ffb3e' class='xr-var-attrs-in' type='checkbox' ><label for='attrs-8dc93015-9a40-4fee-9d4e-78ab849ffb3e' title='Show/Hide attributes'><svg class='icon xr-icon-file-text2'><use xlink:href='#icon-file-text2'></use></svg></label><input id='data-7733bdbe-4ba0-4e46-8df5-6fe48a363966' class='xr-var-data-in' type='checkbox'><label for='data-7733bdbe-4ba0-4e46-8df5-6fe48a363966' title='Show/Hide data repr'><svg class='icon xr-icon-database'><use xlink:href='#icon-database'></use></svg></label><div class='xr-var-attrs'><dl class='xr-attrs'><dt><span>acknowledgement :</span></dt><dd>&#x27;&#x27;Data obtained via the Hawaii Ocean Time-series HOT-DOGS application; University of Hawai&#x27;i at Manoa. National Science Foundation Award # 1756517&#x27;&#x27;. https://hahana.soest.hawaii.edu/hot/hot-dogs/</dd><dt><span>comment :</span></dt><dd>nan</dd><dt><span>data_source :</span></dt><dd>Hawaii Ocean Time-series (HOT)</dd><dt><span>dataset_description :</span></dt><dd>âLarge zooplankton and micronekton play important roles in the export of organic material from surface waters in the open ocean. Global Ocean Flux planning models suggest that the relationship between primary production and passive particulate export flux is strongly influenced by size structure of the zooplankton community (e.g., PaffenhÃ¶ffer &amp; Knowles, 1979; Small et al., 1987; Frost, 1984). Active vertical migrations also have important implications for the transport and transformation of surface-derived organic particulates to dissolved inorganic constituents at depth (Longhurst &amp; Harrison, 1988; Longhurst et al., 1990; Al-Mutairi &amp; Landry, 2001; Hannides et al., 2008). The zooplankton component of the time-series sampling effort allows such processes to be considered in the interpretation of seasonal and interannual variations in measured flux and the elemental mass balance (e.g., carbon and nitrogen sources and sinks) of the euphotic zone. At Station ALOHA, 6 net tows are scheduled per cruise. Three midnight (2200 - 0200) and 3 mid-day (1000 - 1400) oblique tows are done using a 1-m2 net (3-m length) with 202-Âµm mesh Nitex netting. The net is towed obliquely at approximately 1 knot, from the surface to approximately 175 m and then back to the surface. Towing time is approximately 20-30 minutes. The tows are subsequently size-fractioned and analyzed for mesozooplankton wet and dry weight and C and N biomass.â Rows with no depth value have been removed. Time is in local time (HST). [https://hahana.soest.hawaii.edu/hot/methods/plankton.html](https://hahana.soest.hawaii.edu/hot/methods/plankton.html)</dd><dt><span>dataset_id :</span></dt><dd>758</dd><dt><span>dataset_name :</span></dt><dd>Zooplankton Community Structure HOT v2022</dd><dt><span>dataset_short_name :</span></dt><dd>HOT_Macrozooplankton_v2022</dd><dt><span>depth_max :</span></dt><dd>271</dd><dt><span>depth_min :</span></dt><dd>9</dd><dt><span>distributor :</span></dt><dd>Hawaii Ocean Time-series http://hahana.soest.hawaii.edu/hot/hot-dogs/</dd><dt><span>id :</span></dt><dd>18835</dd><dt><span>keywords :</span></dt><dd>abnd, Abundance, ALOHA, Angel White Lab, &#x27;&#x27;Data obtained via the Hawaii Ocean Time-series HOT-DOGS application; University of Hawai&#x27;i at Manoa. National Science Foundation Award # 1756517&#x27;&#x27;. https://hahana.soest.hawaii.edu/hot/hot-dogs/, David Karl Lab, Hawaii Ocean Time Series, Hawaii Ocean Time-series (HOT), Hawaii Ocean Time-series Data Organization &amp; Graphical System (HOT-DOGS) http://hahana.soest.hawaii.edu/hot/hot-dogs/, HOT, HOT_Macrozooplankton_v2022, HOT052, HOT053, HOT054, HOT055, HOT056, HOT057, HOT058, HOT060, HOT061, HOT062, HOT063, HOT064, HOT065, HOT066, HOT067, HOT068, HOT069, HOT070, HOT071, HOT072, HOT073, HOT074, HOT075, HOT076, HOT077, HOT078, HOT079, HOT080, HOT081, HOT082, HOT083, HOT084, HOT085, HOT086, HOT087, HOT088, HOT089, HOT090, HOT091, HOT092, HOT093, HOT094, HOT095, HOT096, HOT097, HOT098, HOT099, HOT100, HOT101, HOT102, HOT103, HOT104, HOT105, HOT106, HOT107, HOT108, HOT109, HOT110, HOT111, HOT112, HOT113, HOT114, HOT115, HOT116, HOT117, HOT118, HOT119, HOT120, HOT121, HOT122, HOT123, HOT124, HOT125, HOT126, HOT127, HOT129, HOT130, HOT131, HOT132, HOT133, HOT134, HOT135, HOT136, HOT137, HOT138, HOT139, HOT140, HOT141, HOT143, HOT144, HOT145, HOT146, HOT147, HOT148, HOT149, HOT150, HOT151, HOT152, HOT153, HOT154, HOT155, HOT156, HOT157, HOT158, HOT159, HOT160, HOT162, HOT163, HOT164, HOT165, HOT166, HOT167, HOT168, HOT170, HOT171, HOT172, HOT174, HOT175, HOT176, HOT178, HOT179, HOT180, HOT181, HOT182, HOT183, HOT184, HOT185, HOT186, HOT187, HOT188, HOT189, HOT190, HOT191, HOT192, HOT193, HOT194, HOT195, HOT196, HOT197, HOT198, HOT199, HOT200, HOT201, HOT202, HOT203, HOT204, HOT205, HOT206, HOT208, HOT209, HOT210, HOT211, HOT212, HOT213, HOT214, HOT215, HOT216, HOT217, HOT220, HOT221, HOT222, HOT223, HOT224, HOT225, HOT226, HOT227, HOT228, HOT229, HOT230, HOT231, HOT232, HOT233, HOT234, HOT235, HOT236, HOT237, HOT238, HOT239, HOT240, HOT241, HOT242, HOT243, HOT244, HOT245, HOT246, HOT247, HOT248, HOT249, HOT250, HOT251, HOT252, HOT253, HOT254, HOT255, HOT256, HOT257, HOT258, HOT259, HOT260, HOT261, HOT262, HOT263, HOT264, HOT265, HOT266, HOT267, HOT268, HOT269, HOT270, HOT271, HOT272, HOT273, HOT274, HOT275, HOT277, HOT278, HOT279, HOT280, HOT281, HOT282, HOT283, HOT284, HOT285, HOT286, HOT287, HOT288, HOT289, HOT290, HOT291, HOT292, HOT293, HOT294, HOT295, HOT296, HOT297, HOT298, HOT299, HOT300, HOT301, HOT302, HOT303, HOT304, HOT305, HOT306, HOT307, HOT309, HOT310, HOT311, HOT312, HOT313, HOT314, HOT315, HOT316, HOT317, HOT319, HOT320, HOT321, HOT322, HOT323, HOT324, HOT325, HOT326, HOT327, HOT328, HOT329, HOT330, HOT331, HOT332, HOT333, HOT334, HOT335, HOT336, HOT337, HOT338, HOT339, in situ, insitu, in-situ, Macrozooplankton, North Pacific Ocean, observation, Pacific Ocean, rep, reprocessed, UH, University of Hawaii, University of Hawai&#x27;i at Manoa, zooplankton, Zooplankton Community Structure HOT v2022, Zooplankton Net</dd><dt><span>lat_max :</span></dt><dd>22.75</dd><dt><span>lat_min :</span></dt><dd>22.75</dd><dt><span>lon_max :</span></dt><dd>-158</dd><dt><span>lon_min :</span></dt><dd>-158</dd><dt><span>long_name :</span></dt><dd>Abundance</dd><dt><span>make :</span></dt><dd>Observation</dd><dt><span>process_level :</span></dt><dd>Reprocessed</dd><dt><span>refrences :</span></dt><dd>nan</dd><dt><span>sensor :</span></dt><dd>Zooplankton Net</dd><dt><span>spatial_resolution :</span></dt><dd>Irregular</dd><dt><span>study_domain :</span></dt><dd>Biology</dd><dt><span>table_name :</span></dt><dd>tblHOT_Macrozooplankton_v2022</dd><dt><span>temporal_resolution :</span></dt><dd>Irregular</dd><dt><span>time_max :</span></dt><dd>2022-09-02T22:13:00.000Z</dd><dt><span>time_min :</span></dt><dd>1994-02-17T11:08:00.000Z</dd><dt><span>units :</span></dt><dd>#/m3</dd><dt><span>variable_25th :</span></dt><dd>515.25</dd><dt><span>variable_50th :</span></dt><dd>3940.5</dd><dt><span>variable_75th :</span></dt><dd>17627.5</dd><dt><span>variable_count :</span></dt><dd>856.0</dd><dt><span>variable_max :</span></dt><dd>110395.0</dd><dt><span>variable_mean :</span></dt><dd>11502.9813084112</dd><dt><span>variable_min :</span></dt><dd>0.0</dd><dt><span>variable_std :</span></dt><dd>16344.4242837398</dd><dt><span>visualize :</span></dt><dd>1.0</dd></dl></div><div class='xr-var-data'><pre>[54960 values with dtype=float64]</pre></div></li><li class='xr-var-item'><div class='xr-var-name'><span>bsal</span></div><div class='xr-var-dims'>(time, latitude, longitude, depth)</div><div class='xr-var-dtype'>float64</div><div class='xr-var-preview xr-preview'>...</div><input id='attrs-d1f725bb-fbc1-4a74-950a-598ee08f2445' class='xr-var-attrs-in' type='checkbox' ><label for='attrs-d1f725bb-fbc1-4a74-950a-598ee08f2445' title='Show/Hide attributes'><svg class='icon xr-icon-file-text2'><use xlink:href='#icon-file-text2'></use></svg></label><input id='data-acdb18c2-0d35-422c-a7c9-cc6c0ea9e798' class='xr-var-data-in' type='checkbox'><label for='data-acdb18c2-0d35-422c-a7c9-cc6c0ea9e798' title='Show/Hide data repr'><svg class='icon xr-icon-database'><use xlink:href='#icon-database'></use></svg></label><div class='xr-var-attrs'><dl class='xr-attrs'><dt><span>acknowledgement :</span></dt><dd>&#x27;&#x27;Data obtained via the Hawaii Ocean Time-series HOT-DOGS application; University of Hawai&#x27;i at Manoa. National Science Foundation Award # 1756517&#x27;&#x27;. https://hahana.soest.hawaii.edu/hot/hot-dogs/</dd><dt><span>comment :</span></dt><dd>nan</dd><dt><span>data_source :</span></dt><dd>Hawaii Ocean Time-series (HOT)</dd><dt><span>dataset_description :</span></dt><dd>This dataset consists of measurements of photosynthetic primary production, chlorophyll a and phaeopigment concentrations, and flow cytometry-based determinations of the abundances of heterotrophic bacteria and the picophytoplankton - Prochlorococcus, Synechococcus and small eukaryotic phytoplankton. All samples were collected through the Hawaii Ocean Time-series (HOT) program, which began in 1988 with ~monthly cruises to Station ALOHA (A Long-term Oligotrophic Habitat Assessment; 22Â° 10 N, 158Â° 00 W). Photosynthetic production of organic matter was measured by the 14C tracer method. Details on the methods employed over the years are detailed in Karl et al., Progress in Oceanography ([https://doi.org/10.1016/j.pocean.2021.102563](https://doi.org/10.1016/j.pocean.2021.102563)). Flow cytometry-based determinations of microbial abundances were made using an EPICS 753 flow cytometer on HOT 22-173 (December 1980 â September 2005) and a B/D Influx flow cytometer beginning with HOT 174 . Details on the flow cytometry methods are provided at [https://hahana.soest.hawaii.edu/hot/methods/bact.html](https://hahana.soest.hawaii.edu/hot/methods/bact.html). Samples for chlorophyll a and phaeopigments were collected onto Whatman GF/F filters and extracted with 100% acetone and measured on a Turner Designs Model 10-AU fluorometer based on standard techniques described in Strickland and Parsons, 1972. Method details available at [https://hahana.soest.hawaii.edu/hot/methods/chl.html](https://hahana.soest.hawaii.edu/hot/methods/chl.html). Time is in a separate column from date. Dates and times are in local time (HST).</dd><dt><span>dataset_id :</span></dt><dd>750</dd><dt><span>dataset_name :</span></dt><dd>HOT Primary Production and Flow Cytometry v2022</dd><dt><span>dataset_short_name :</span></dt><dd>HOT_PP_v2022</dd><dt><span>depth_max :</span></dt><dd>178</dd><dt><span>depth_min :</span></dt><dd>0</dd><dt><span>distributor :</span></dt><dd>Hawaii Ocean Time-series http://hahana.soest.hawaii.edu/hot/hot-dogs/</dd><dt><span>id :</span></dt><dd>18795</dd><dt><span>keywords :</span></dt><dd>ALOHA, Angel White Lab, biology, bsal, &#x27;&#x27;Data obtained via the Hawaii Ocean Time-series HOT-DOGS application; University of Hawai&#x27;i at Manoa. National Science Foundation Award # 1756517&#x27;&#x27;. https://hahana.soest.hawaii.edu/hot/hot-dogs/, David Karl Lab, fluorometer, Hawaii Ocean Time Series, Hawaii Ocean Time-series (HOT), Hawaii Ocean Time-series Data Organization &amp; Graphical System (HOT-DOGS) http://hahana.soest.hawaii.edu/hot/hot-dogs/, HOT, HOT Primary Production and Flow Cytometry v2022, HOT_PP_v2022, HOT001, HOT002, HOT003, HOT004, HOT005, HOT006, HOT007, HOT008, HOT009, HOT010, HOT011, HOT012, HOT013, HOT014, HOT015, HOT016, HOT017, HOT018, HOT019, HOT022, HOT023, HOT025, HOT026, HOT027, HOT028, HOT029, HOT030, HOT031, HOT032, HOT033, HOT034, HOT035, HOT036, HOT037, HOT038, HOT039, HOT040, HOT041, HOT044, HOT045, HOT046, HOT047, HOT049, HOT050, HOT051, HOT052, HOT053, HOT054, HOT055, HOT056, HOT057, HOT058, HOT060, HOT061, HOT062, HOT063, HOT064, HOT065, HOT066, HOT067, HOT068, HOT069, HOT070, HOT071, HOT072, HOT073, HOT074, HOT075, HOT076, HOT077, HOT078, HOT079, HOT080, HOT081, HOT082, HOT083, HOT084, HOT085, HOT086, HOT087, HOT089, HOT090, HOT091, HOT092, HOT093, HOT094, HOT095, HOT096, HOT097, HOT098, HOT099, HOT100, HOT101, HOT102, HOT103, HOT104, HOT105, HOT106, HOT107, HOT108, HOT109, HOT110, HOT111, HOT112, HOT113, HOT114, HOT115, HOT116, HOT117, HOT118, HOT119, HOT120, HOT121, HOT122, HOT124, HOT125, HOT126, HOT127, HOT128, HOT129, HOT130, HOT131, HOT132, HOT134, HOT135, HOT136, HOT137, HOT139, HOT140, HOT141, HOT142, HOT143, HOT144, HOT145, HOT146, HOT147, HOT148, HOT149, HOT150, HOT151, HOT152, HOT153, HOT154, HOT155, HOT156, HOT157, HOT158, HOT159, HOT160, HOT162, HOT163, HOT164, HOT165, HOT166, HOT167, HOT168, HOT169, HOT170, HOT171, HOT172, HOT173, HOT174, HOT175, HOT176, HOT177, HOT178, HOT179, HOT180, HOT181, HOT182, HOT184, HOT185, HOT186, HOT187, HOT188, HOT189, HOT190, HOT191, HOT193, HOT194, HOT195, HOT196, HOT197, HOT198, HOT199, HOT200, HOT201, HOT202, HOT203, HOT204, HOT205, HOT206, HOT208, HOT209, HOT210, HOT211, HOT212, HOT213, HOT214, HOT215, HOT216, HOT217, HOT220, HOT221, HOT222, HOT223, HOT224, HOT225, HOT226, HOT227, HOT228, HOT229, HOT230, HOT231, HOT232, HOT233, HOT234, HOT235, HOT236, HOT237, HOT239, HOT241, HOT242, HOT243, HOT244, HOT245, HOT246, HOT247, HOT248, HOT249, HOT250, HOT251, HOT252, HOT253, HOT254, HOT255, HOT256, HOT257, HOT258, HOT259, HOT260, HOT261, HOT262, HOT263, HOT264, HOT265, HOT266, HOT267, HOT268, HOT269, HOT270, HOT271, HOT272, HOT273, HOT274, HOT275, HOT277, HOT279, HOT280, HOT281, HOT283, HOT284, HOT285, HOT286, HOT287, HOT289, HOT290, HOT291, HOT292, HOT293, HOT294, HOT295, HOT296, HOT297, HOT298, HOT300, HOT301, HOT303, HOT304, HOT305, HOT306, HOT307, HOT309, HOT311, HOT312, HOT313, HOT314, HOT315, HOT316, HOT317, HOT319, HOT320, HOT321, HOT322, HOT323, HOT324, HOT325, HOT326, HOT327, HOT328, HOT329, HOT330, HOT331, HOT332, HOT333, HOT335, HOT336, HOT337, HOT338, HOT339, in situ, insitu, in-situ, North Pacific Ocean, observation, Pacific Ocean, primary production, rep, reprocessed, Salinity, Salinometer, UH, University of Hawaii, University of Hawai&#x27;i at Manoa</dd><dt><span>lat_max :</span></dt><dd>22.75</dd><dt><span>lat_min :</span></dt><dd>22.75</dd><dt><span>lon_max :</span></dt><dd>-158</dd><dt><span>lon_min :</span></dt><dd>-158</dd><dt><span>long_name :</span></dt><dd>Salinity</dd><dt><span>make :</span></dt><dd>Observation</dd><dt><span>process_level :</span></dt><dd>Reprocessed</dd><dt><span>refrences :</span></dt><dd>nan</dd><dt><span>sensor :</span></dt><dd>Salinometer</dd><dt><span>spatial_resolution :</span></dt><dd>Irregular</dd><dt><span>study_domain :</span></dt><dd>Biology+Biogeochemistry</dd><dt><span>table_name :</span></dt><dd>tblHOT_PP_v2022</dd><dt><span>temporal_resolution :</span></dt><dd>Irregular</dd><dt><span>time_max :</span></dt><dd>2022-09-01T00:00:00.000Z</dd><dt><span>time_min :</span></dt><dd>1988-10-31T00:00:00.000Z</dd><dt><span>units :</span></dt><dd>PSS-78</dd><dt><span>variable_25th :</span></dt><dd>35.0364</dd><dt><span>variable_50th :</span></dt><dd>35.1695</dd><dt><span>variable_75th :</span></dt><dd>35.2816</dd><dt><span>variable_count :</span></dt><dd>2121.0</dd><dt><span>variable_max :</span></dt><dd>35.5255</dd><dt><span>variable_mean :</span></dt><dd>35.1434074493</dd><dt><span>variable_min :</span></dt><dd>34.3871</dd><dt><span>variable_std :</span></dt><dd>0.1855814898</dd><dt><span>visualize :</span></dt><dd>1.0</dd></dl></div><div class='xr-var-data'><pre>[5496 values with dtype=float64]</pre></div></li><li class='xr-var-item'><div class='xr-var-name'><span>carb</span></div><div class='xr-var-dims'>(time, is_day, latitude, longitude, depth, sieve_size)</div><div class='xr-var-dtype'>float64</div><div class='xr-var-preview xr-preview'>...</div><input id='attrs-7d05b500-7b35-4beb-87cb-fafc7939f75a' class='xr-var-attrs-in' type='checkbox' ><label for='attrs-7d05b500-7b35-4beb-87cb-fafc7939f75a' title='Show/Hide attributes'><svg class='icon xr-icon-file-text2'><use xlink:href='#icon-file-text2'></use></svg></label><input id='data-a69485e8-0ae9-4ab3-8a72-740cacec407d' class='xr-var-data-in' type='checkbox'><label for='data-a69485e8-0ae9-4ab3-8a72-740cacec407d' title='Show/Hide data repr'><svg class='icon xr-icon-database'><use xlink:href='#icon-database'></use></svg></label><div class='xr-var-attrs'><dl class='xr-attrs'><dt><span>acknowledgement :</span></dt><dd>&#x27;&#x27;Data obtained via the Hawaii Ocean Time-series HOT-DOGS application; University of Hawai&#x27;i at Manoa. National Science Foundation Award # 1756517&#x27;&#x27;. https://hahana.soest.hawaii.edu/hot/hot-dogs/</dd><dt><span>comment :</span></dt><dd>nan</dd><dt><span>data_source :</span></dt><dd>Hawaii Ocean Time-series (HOT)</dd><dt><span>dataset_description :</span></dt><dd>âLarge zooplankton and micronekton play important roles in the export of organic material from surface waters in the open ocean. Global Ocean Flux planning models suggest that the relationship between primary production and passive particulate export flux is strongly influenced by size structure of the zooplankton community (e.g., PaffenhÃ¶ffer &amp; Knowles, 1979; Small et al., 1987; Frost, 1984). Active vertical migrations also have important implications for the transport and transformation of surface-derived organic particulates to dissolved inorganic constituents at depth (Longhurst &amp; Harrison, 1988; Longhurst et al., 1990; Al-Mutairi &amp; Landry, 2001; Hannides et al., 2008). The zooplankton component of the time-series sampling effort allows such processes to be considered in the interpretation of seasonal and interannual variations in measured flux and the elemental mass balance (e.g., carbon and nitrogen sources and sinks) of the euphotic zone. At Station ALOHA, 6 net tows are scheduled per cruise. Three midnight (2200 - 0200) and 3 mid-day (1000 - 1400) oblique tows are done using a 1-m2 net (3-m length) with 202-Âµm mesh Nitex netting. The net is towed obliquely at approximately 1 knot, from the surface to approximately 175 m and then back to the surface. Towing time is approximately 20-30 minutes. The tows are subsequently size-fractioned and analyzed for mesozooplankton wet and dry weight and C and N biomass.â Rows with no depth value have been removed. Time is in local time (HST). [https://hahana.soest.hawaii.edu/hot/methods/plankton.html](https://hahana.soest.hawaii.edu/hot/methods/plankton.html)</dd><dt><span>dataset_id :</span></dt><dd>758</dd><dt><span>dataset_name :</span></dt><dd>Zooplankton Community Structure HOT v2022</dd><dt><span>dataset_short_name :</span></dt><dd>HOT_Macrozooplankton_v2022</dd><dt><span>depth_max :</span></dt><dd>271</dd><dt><span>depth_min :</span></dt><dd>9</dd><dt><span>distributor :</span></dt><dd>Hawaii Ocean Time-series http://hahana.soest.hawaii.edu/hot/hot-dogs/</dd><dt><span>id :</span></dt><dd>18833</dd><dt><span>keywords :</span></dt><dd>ALOHA, Angel White Lab, carb, Carbon, &#x27;&#x27;Data obtained via the Hawaii Ocean Time-series HOT-DOGS application; University of Hawai&#x27;i at Manoa. National Science Foundation Award # 1756517&#x27;&#x27;. https://hahana.soest.hawaii.edu/hot/hot-dogs/, David Karl Lab, Elemental Analyzer, Hawaii Ocean Time Series, Hawaii Ocean Time-series (HOT), Hawaii Ocean Time-series Data Organization &amp; Graphical System (HOT-DOGS) http://hahana.soest.hawaii.edu/hot/hot-dogs/, HOT, HOT_Macrozooplankton_v2022, HOT052, HOT053, HOT054, HOT055, HOT056, HOT057, HOT058, HOT060, HOT061, HOT062, HOT063, HOT064, HOT065, HOT066, HOT067, HOT068, HOT069, HOT070, HOT071, HOT072, HOT073, HOT074, HOT075, HOT076, HOT077, HOT078, HOT079, HOT080, HOT081, HOT082, HOT083, HOT084, HOT085, HOT086, HOT087, HOT088, HOT089, HOT090, HOT091, HOT092, HOT093, HOT094, HOT095, HOT096, HOT097, HOT098, HOT099, HOT100, HOT101, HOT102, HOT103, HOT104, HOT105, HOT106, HOT107, HOT108, HOT109, HOT110, HOT111, HOT112, HOT113, HOT114, HOT115, HOT116, HOT117, HOT118, HOT119, HOT120, HOT121, HOT122, HOT123, HOT124, HOT125, HOT126, HOT127, HOT129, HOT130, HOT131, HOT132, HOT133, HOT134, HOT135, HOT136, HOT137, HOT138, HOT139, HOT140, HOT141, HOT143, HOT144, HOT145, HOT146, HOT147, HOT148, HOT149, HOT150, HOT151, HOT152, HOT153, HOT154, HOT155, HOT156, HOT157, HOT158, HOT159, HOT160, HOT162, HOT163, HOT164, HOT165, HOT166, HOT167, HOT168, HOT170, HOT171, HOT172, HOT174, HOT175, HOT176, HOT178, HOT179, HOT180, HOT181, HOT182, HOT183, HOT184, HOT185, HOT186, HOT187, HOT188, HOT189, HOT190, HOT191, HOT192, HOT193, HOT194, HOT195, HOT196, HOT197, HOT198, HOT199, HOT200, HOT201, HOT202, HOT203, HOT204, HOT205, HOT206, HOT208, HOT209, HOT210, HOT211, HOT212, HOT213, HOT214, HOT215, HOT216, HOT217, HOT220, HOT221, HOT222, HOT223, HOT224, HOT225, HOT226, HOT227, HOT228, HOT229, HOT230, HOT231, HOT232, HOT233, HOT234, HOT235, HOT236, HOT237, HOT238, HOT239, HOT240, HOT241, HOT242, HOT243, HOT244, HOT245, HOT246, HOT247, HOT248, HOT249, HOT250, HOT251, HOT252, HOT253, HOT254, HOT255, HOT256, HOT257, HOT258, HOT259, HOT260, HOT261, HOT262, HOT263, HOT264, HOT265, HOT266, HOT267, HOT268, HOT269, HOT270, HOT271, HOT272, HOT273, HOT274, HOT275, HOT277, HOT278, HOT279, HOT280, HOT281, HOT282, HOT283, HOT284, HOT285, HOT286, HOT287, HOT288, HOT289, HOT290, HOT291, HOT292, HOT293, HOT294, HOT295, HOT296, HOT297, HOT298, HOT299, HOT300, HOT301, HOT302, HOT303, HOT304, HOT305, HOT306, HOT307, HOT309, HOT310, HOT311, HOT312, HOT313, HOT314, HOT315, HOT316, HOT317, HOT319, HOT320, HOT321, HOT322, HOT323, HOT324, HOT325, HOT326, HOT327, HOT328, HOT329, HOT330, HOT331, HOT332, HOT333, HOT334, HOT335, HOT336, HOT337, HOT338, HOT339, in situ, insitu, in-situ, Macrozooplankton, North Pacific Ocean, observation, Pacific Ocean, rep, reprocessed, UH, University of Hawaii, University of Hawai&#x27;i at Manoa, zooplankton, Zooplankton Community Structure HOT v2022</dd><dt><span>lat_max :</span></dt><dd>22.75</dd><dt><span>lat_min :</span></dt><dd>22.75</dd><dt><span>lon_max :</span></dt><dd>-158</dd><dt><span>lon_min :</span></dt><dd>-158</dd><dt><span>long_name :</span></dt><dd>Carbon</dd><dt><span>make :</span></dt><dd>Observation</dd><dt><span>process_level :</span></dt><dd>Reprocessed</dd><dt><span>refrences :</span></dt><dd>nan</dd><dt><span>sensor :</span></dt><dd>Elemental Analyzer</dd><dt><span>spatial_resolution :</span></dt><dd>Irregular</dd><dt><span>study_domain :</span></dt><dd>Biology</dd><dt><span>table_name :</span></dt><dd>tblHOT_Macrozooplankton_v2022</dd><dt><span>temporal_resolution :</span></dt><dd>Irregular</dd><dt><span>time_max :</span></dt><dd>2022-09-02T22:13:00.000Z</dd><dt><span>time_min :</span></dt><dd>1994-02-17T11:08:00.000Z</dd><dt><span>units :</span></dt><dd>mg/m3</dd><dt><span>variable_25th :</span></dt><dd>37.52</dd><dt><span>variable_50th :</span></dt><dd>69.79</dd><dt><span>variable_75th :</span></dt><dd>121.31</dd><dt><span>variable_count :</span></dt><dd>7833.0</dd><dt><span>variable_max :</span></dt><dd>1330.39</dd><dt><span>variable_mean :</span></dt><dd>109.2451321333</dd><dt><span>variable_min :</span></dt><dd>-0.02</dd><dt><span>variable_std :</span></dt><dd>125.3129471554</dd><dt><span>visualize :</span></dt><dd>1.0</dd></dl></div><div class='xr-var-data'><pre>[54960 values with dtype=float64]</pre></div></li><li class='xr-var-item'><div class='xr-var-name'><span>chl</span></div><div class='xr-var-dims'>(time, latitude, longitude, depth)</div><div class='xr-var-dtype'>float64</div><div class='xr-var-preview xr-preview'>...</div><input id='attrs-c0658687-64fd-49eb-a21f-3ee421dd51ab' class='xr-var-attrs-in' type='checkbox' ><label for='attrs-c0658687-64fd-49eb-a21f-3ee421dd51ab' title='Show/Hide attributes'><svg class='icon xr-icon-file-text2'><use xlink:href='#icon-file-text2'></use></svg></label><input id='data-2fa2c096-5541-4e97-8813-5a81b9bbd3da' class='xr-var-data-in' type='checkbox'><label for='data-2fa2c096-5541-4e97-8813-5a81b9bbd3da' title='Show/Hide data repr'><svg class='icon xr-icon-database'><use xlink:href='#icon-database'></use></svg></label><div class='xr-var-attrs'><dl class='xr-attrs'><dt><span>acknowledgement :</span></dt><dd>&#x27;&#x27;Data obtained via the Hawaii Ocean Time-series HOT-DOGS application; University of Hawai&#x27;i at Manoa. National Science Foundation Award # 1756517&#x27;&#x27;. https://hahana.soest.hawaii.edu/hot/hot-dogs/</dd><dt><span>comment :</span></dt><dd>nan</dd><dt><span>data_source :</span></dt><dd>Hawaii Ocean Time-series (HOT)</dd><dt><span>dataset_description :</span></dt><dd>This dataset consists of measurements of photosynthetic primary production, chlorophyll a and phaeopigment concentrations, and flow cytometry-based determinations of the abundances of heterotrophic bacteria and the picophytoplankton - Prochlorococcus, Synechococcus and small eukaryotic phytoplankton. All samples were collected through the Hawaii Ocean Time-series (HOT) program, which began in 1988 with ~monthly cruises to Station ALOHA (A Long-term Oligotrophic Habitat Assessment; 22Â° 10 N, 158Â° 00 W). Photosynthetic production of organic matter was measured by the 14C tracer method. Details on the methods employed over the years are detailed in Karl et al., Progress in Oceanography ([https://doi.org/10.1016/j.pocean.2021.102563](https://doi.org/10.1016/j.pocean.2021.102563)). Flow cytometry-based determinations of microbial abundances were made using an EPICS 753 flow cytometer on HOT 22-173 (December 1980 â September 2005) and a B/D Influx flow cytometer beginning with HOT 174 . Details on the flow cytometry methods are provided at [https://hahana.soest.hawaii.edu/hot/methods/bact.html](https://hahana.soest.hawaii.edu/hot/methods/bact.html). Samples for chlorophyll a and phaeopigments were collected onto Whatman GF/F filters and extracted with 100% acetone and measured on a Turner Designs Model 10-AU fluorometer based on standard techniques described in Strickland and Parsons, 1972. Method details available at [https://hahana.soest.hawaii.edu/hot/methods/chl.html](https://hahana.soest.hawaii.edu/hot/methods/chl.html). Time is in a separate column from date. Dates and times are in local time (HST).</dd><dt><span>dataset_id :</span></dt><dd>750</dd><dt><span>dataset_name :</span></dt><dd>HOT Primary Production and Flow Cytometry v2022</dd><dt><span>dataset_short_name :</span></dt><dd>HOT_PP_v2022</dd><dt><span>depth_max :</span></dt><dd>178</dd><dt><span>depth_min :</span></dt><dd>0</dd><dt><span>distributor :</span></dt><dd>Hawaii Ocean Time-series http://hahana.soest.hawaii.edu/hot/hot-dogs/</dd><dt><span>id :</span></dt><dd>18791</dd><dt><span>keywords :</span></dt><dd>ALOHA, Angel White Lab, biology, chl, Chlorophyll a, &#x27;&#x27;Data obtained via the Hawaii Ocean Time-series HOT-DOGS application; University of Hawai&#x27;i at Manoa. National Science Foundation Award # 1756517&#x27;&#x27;. https://hahana.soest.hawaii.edu/hot/hot-dogs/, David Karl Lab, fluorometer, Hawaii Ocean Time Series, Hawaii Ocean Time-series (HOT), Hawaii Ocean Time-series Data Organization &amp; Graphical System (HOT-DOGS) http://hahana.soest.hawaii.edu/hot/hot-dogs/, HOT, HOT Primary Production and Flow Cytometry v2022, HOT_PP_v2022, HOT001, HOT002, HOT003, HOT004, HOT005, HOT006, HOT007, HOT008, HOT009, HOT010, HOT011, HOT012, HOT013, HOT014, HOT015, HOT016, HOT017, HOT018, HOT019, HOT022, HOT023, HOT025, HOT026, HOT027, HOT028, HOT029, HOT030, HOT031, HOT032, HOT033, HOT034, HOT035, HOT036, HOT037, HOT038, HOT039, HOT040, HOT041, HOT044, HOT045, HOT046, HOT047, HOT049, HOT050, HOT051, HOT052, HOT053, HOT054, HOT055, HOT056, HOT057, HOT058, HOT060, HOT061, HOT062, HOT063, HOT064, HOT065, HOT066, HOT067, HOT068, HOT069, HOT070, HOT071, HOT072, HOT073, HOT074, HOT075, HOT076, HOT077, HOT078, HOT079, HOT080, HOT081, HOT082, HOT083, HOT084, HOT085, HOT086, HOT087, HOT089, HOT090, HOT091, HOT092, HOT093, HOT094, HOT095, HOT096, HOT097, HOT098, HOT099, HOT100, HOT101, HOT102, HOT103, HOT104, HOT105, HOT106, HOT107, HOT108, HOT109, HOT110, HOT111, HOT112, HOT113, HOT114, HOT115, HOT116, HOT117, HOT118, HOT119, HOT120, HOT121, HOT122, HOT124, HOT125, HOT126, HOT127, HOT128, HOT129, HOT130, HOT131, HOT132, HOT134, HOT135, HOT136, HOT137, HOT139, HOT140, HOT141, HOT142, HOT143, HOT144, HOT145, HOT146, HOT147, HOT148, HOT149, HOT150, HOT151, HOT152, HOT153, HOT154, HOT155, HOT156, HOT157, HOT158, HOT159, HOT160, HOT162, HOT163, HOT164, HOT165, HOT166, HOT167, HOT168, HOT169, HOT170, HOT171, HOT172, HOT173, HOT174, HOT175, HOT176, HOT177, HOT178, HOT179, HOT180, HOT181, HOT182, HOT184, HOT185, HOT186, HOT187, HOT188, HOT189, HOT190, HOT191, HOT193, HOT194, HOT195, HOT196, HOT197, HOT198, HOT199, HOT200, HOT201, HOT202, HOT203, HOT204, HOT205, HOT206, HOT208, HOT209, HOT210, HOT211, HOT212, HOT213, HOT214, HOT215, HOT216, HOT217, HOT220, HOT221, HOT222, HOT223, HOT224, HOT225, HOT226, HOT227, HOT228, HOT229, HOT230, HOT231, HOT232, HOT233, HOT234, HOT235, HOT236, HOT237, HOT239, HOT241, HOT242, HOT243, HOT244, HOT245, HOT246, HOT247, HOT248, HOT249, HOT250, HOT251, HOT252, HOT253, HOT254, HOT255, HOT256, HOT257, HOT258, HOT259, HOT260, HOT261, HOT262, HOT263, HOT264, HOT265, HOT266, HOT267, HOT268, HOT269, HOT270, HOT271, HOT272, HOT273, HOT274, HOT275, HOT277, HOT279, HOT280, HOT281, HOT283, HOT284, HOT285, HOT286, HOT287, HOT289, HOT290, HOT291, HOT292, HOT293, HOT294, HOT295, HOT296, HOT297, HOT298, HOT300, HOT301, HOT303, HOT304, HOT305, HOT306, HOT307, HOT309, HOT311, HOT312, HOT313, HOT314, HOT315, HOT316, HOT317, HOT319, HOT320, HOT321, HOT322, HOT323, HOT324, HOT325, HOT326, HOT327, HOT328, HOT329, HOT330, HOT331, HOT332, HOT333, HOT335, HOT336, HOT337, HOT338, HOT339, in situ, insitu, in-situ, North Pacific Ocean, observation, Pacific Ocean, primary production, rep, reprocessed, UH, University of Hawaii, University of Hawai&#x27;i at Manoa</dd><dt><span>lat_max :</span></dt><dd>22.75</dd><dt><span>lat_min :</span></dt><dd>22.75</dd><dt><span>lon_max :</span></dt><dd>-158</dd><dt><span>lon_min :</span></dt><dd>-158</dd><dt><span>long_name :</span></dt><dd>Chlorophyll a</dd><dt><span>make :</span></dt><dd>Observation</dd><dt><span>process_level :</span></dt><dd>Reprocessed</dd><dt><span>refrences :</span></dt><dd>nan</dd><dt><span>sensor :</span></dt><dd>fluorometer</dd><dt><span>spatial_resolution :</span></dt><dd>Irregular</dd><dt><span>study_domain :</span></dt><dd>Biology+Biogeochemistry</dd><dt><span>table_name :</span></dt><dd>tblHOT_PP_v2022</dd><dt><span>temporal_resolution :</span></dt><dd>Irregular</dd><dt><span>time_max :</span></dt><dd>2022-09-01T00:00:00.000Z</dd><dt><span>time_min :</span></dt><dd>1988-10-31T00:00:00.000Z</dd><dt><span>units :</span></dt><dd>mg/m3</dd><dt><span>variable_25th :</span></dt><dd>0.069</dd><dt><span>variable_50th :</span></dt><dd>0.101</dd><dt><span>variable_75th :</span></dt><dd>0.158</dd><dt><span>variable_count :</span></dt><dd>2579.0</dd><dt><span>variable_max :</span></dt><dd>0.5</dd><dt><span>variable_mean :</span></dt><dd>0.1185114385</dd><dt><span>variable_min :</span></dt><dd>0.004</dd><dt><span>variable_std :</span></dt><dd>0.0699850267</dd><dt><span>visualize :</span></dt><dd>1.0</dd></dl></div><div class='xr-var-data'><pre>[5496 values with dtype=float64]</pre></div></li><li class='xr-var-item'><div class='xr-var-name'><span>d12</span></div><div class='xr-var-dims'>(time, latitude, longitude, depth)</div><div class='xr-var-dtype'>float64</div><div class='xr-var-preview xr-preview'>...</div><input id='attrs-9187ac20-820d-4a22-82a9-c6f5e48e20f7' class='xr-var-attrs-in' type='checkbox' ><label for='attrs-9187ac20-820d-4a22-82a9-c6f5e48e20f7' title='Show/Hide attributes'><svg class='icon xr-icon-file-text2'><use xlink:href='#icon-file-text2'></use></svg></label><input id='data-d77657f4-34a4-478f-938b-2fcd73dc2beb' class='xr-var-data-in' type='checkbox'><label for='data-d77657f4-34a4-478f-938b-2fcd73dc2beb' title='Show/Hide data repr'><svg class='icon xr-icon-database'><use xlink:href='#icon-database'></use></svg></label><div class='xr-var-attrs'><dl class='xr-attrs'><dt><span>acknowledgement :</span></dt><dd>&#x27;&#x27;Data obtained via the Hawaii Ocean Time-series HOT-DOGS application; University of Hawai&#x27;i at Manoa. National Science Foundation Award # 1756517&#x27;&#x27;. https://hahana.soest.hawaii.edu/hot/hot-dogs/</dd><dt><span>comment :</span></dt><dd>nan</dd><dt><span>data_source :</span></dt><dd>Hawaii Ocean Time-series (HOT)</dd><dt><span>dataset_description :</span></dt><dd>This dataset consists of measurements of photosynthetic primary production, chlorophyll a and phaeopigment concentrations, and flow cytometry-based determinations of the abundances of heterotrophic bacteria and the picophytoplankton - Prochlorococcus, Synechococcus and small eukaryotic phytoplankton. All samples were collected through the Hawaii Ocean Time-series (HOT) program, which began in 1988 with ~monthly cruises to Station ALOHA (A Long-term Oligotrophic Habitat Assessment; 22Â° 10 N, 158Â° 00 W). Photosynthetic production of organic matter was measured by the 14C tracer method. Details on the methods employed over the years are detailed in Karl et al., Progress in Oceanography ([https://doi.org/10.1016/j.pocean.2021.102563](https://doi.org/10.1016/j.pocean.2021.102563)). Flow cytometry-based determinations of microbial abundances were made using an EPICS 753 flow cytometer on HOT 22-173 (December 1980 â September 2005) and a B/D Influx flow cytometer beginning with HOT 174 . Details on the flow cytometry methods are provided at [https://hahana.soest.hawaii.edu/hot/methods/bact.html](https://hahana.soest.hawaii.edu/hot/methods/bact.html). Samples for chlorophyll a and phaeopigments were collected onto Whatman GF/F filters and extracted with 100% acetone and measured on a Turner Designs Model 10-AU fluorometer based on standard techniques described in Strickland and Parsons, 1972. Method details available at [https://hahana.soest.hawaii.edu/hot/methods/chl.html](https://hahana.soest.hawaii.edu/hot/methods/chl.html). Time is in a separate column from date. Dates and times are in local time (HST).</dd><dt><span>dataset_id :</span></dt><dd>750</dd><dt><span>dataset_name :</span></dt><dd>HOT Primary Production and Flow Cytometry v2022</dd><dt><span>dataset_short_name :</span></dt><dd>HOT_PP_v2022</dd><dt><span>depth_max :</span></dt><dd>178</dd><dt><span>depth_min :</span></dt><dd>0</dd><dt><span>distributor :</span></dt><dd>Hawaii Ocean Time-series http://hahana.soest.hawaii.edu/hot/hot-dogs/</dd><dt><span>id :</span></dt><dd>18794</dd><dt><span>keywords :</span></dt><dd>ALOHA, Angel White Lab, biology, d12, Dark 12, &#x27;&#x27;Data obtained via the Hawaii Ocean Time-series HOT-DOGS application; University of Hawai&#x27;i at Manoa. National Science Foundation Award # 1756517&#x27;&#x27;. https://hahana.soest.hawaii.edu/hot/hot-dogs/, David Karl Lab, fluorometer, Hawaii Ocean Time Series, Hawaii Ocean Time-series (HOT), Hawaii Ocean Time-series Data Organization &amp; Graphical System (HOT-DOGS) http://hahana.soest.hawaii.edu/hot/hot-dogs/, HOT, HOT Primary Production and Flow Cytometry v2022, HOT_PP_v2022, HOT001, HOT002, HOT003, HOT004, HOT005, HOT006, HOT007, HOT008, HOT009, HOT010, HOT011, HOT012, HOT013, HOT014, HOT015, HOT016, HOT017, HOT018, HOT019, HOT022, HOT023, HOT025, HOT026, HOT027, HOT028, HOT029, HOT030, HOT031, HOT032, HOT033, HOT034, HOT035, HOT036, HOT037, HOT038, HOT039, HOT040, HOT041, HOT044, HOT045, HOT046, HOT047, HOT049, HOT050, HOT051, HOT052, HOT053, HOT054, HOT055, HOT056, HOT057, HOT058, HOT060, HOT061, HOT062, HOT063, HOT064, HOT065, HOT066, HOT067, HOT068, HOT069, HOT070, HOT071, HOT072, HOT073, HOT074, HOT075, HOT076, HOT077, HOT078, HOT079, HOT080, HOT081, HOT082, HOT083, HOT084, HOT085, HOT086, HOT087, HOT089, HOT090, HOT091, HOT092, HOT093, HOT094, HOT095, HOT096, HOT097, HOT098, HOT099, HOT100, HOT101, HOT102, HOT103, HOT104, HOT105, HOT106, HOT107, HOT108, HOT109, HOT110, HOT111, HOT112, HOT113, HOT114, HOT115, HOT116, HOT117, HOT118, HOT119, HOT120, HOT121, HOT122, HOT124, HOT125, HOT126, HOT127, HOT128, HOT129, HOT130, HOT131, HOT132, HOT134, HOT135, HOT136, HOT137, HOT139, HOT140, HOT141, HOT142, HOT143, HOT144, HOT145, HOT146, HOT147, HOT148, HOT149, HOT150, HOT151, HOT152, HOT153, HOT154, HOT155, HOT156, HOT157, HOT158, HOT159, HOT160, HOT162, HOT163, HOT164, HOT165, HOT166, HOT167, HOT168, HOT169, HOT170, HOT171, HOT172, HOT173, HOT174, HOT175, HOT176, HOT177, HOT178, HOT179, HOT180, HOT181, HOT182, HOT184, HOT185, HOT186, HOT187, HOT188, HOT189, HOT190, HOT191, HOT193, HOT194, HOT195, HOT196, HOT197, HOT198, HOT199, HOT200, HOT201, HOT202, HOT203, HOT204, HOT205, HOT206, HOT208, HOT209, HOT210, HOT211, HOT212, HOT213, HOT214, HOT215, HOT216, HOT217, HOT220, HOT221, HOT222, HOT223, HOT224, HOT225, HOT226, HOT227, HOT228, HOT229, HOT230, HOT231, HOT232, HOT233, HOT234, HOT235, HOT236, HOT237, HOT239, HOT241, HOT242, HOT243, HOT244, HOT245, HOT246, HOT247, HOT248, HOT249, HOT250, HOT251, HOT252, HOT253, HOT254, HOT255, HOT256, HOT257, HOT258, HOT259, HOT260, HOT261, HOT262, HOT263, HOT264, HOT265, HOT266, HOT267, HOT268, HOT269, HOT270, HOT271, HOT272, HOT273, HOT274, HOT275, HOT277, HOT279, HOT280, HOT281, HOT283, HOT284, HOT285, HOT286, HOT287, HOT289, HOT290, HOT291, HOT292, HOT293, HOT294, HOT295, HOT296, HOT297, HOT298, HOT300, HOT301, HOT303, HOT304, HOT305, HOT306, HOT307, HOT309, HOT311, HOT312, HOT313, HOT314, HOT315, HOT316, HOT317, HOT319, HOT320, HOT321, HOT322, HOT323, HOT324, HOT325, HOT326, HOT327, HOT328, HOT329, HOT330, HOT331, HOT332, HOT333, HOT335, HOT336, HOT337, HOT338, HOT339, in situ, insitu, in-situ, Liquid Scintillation Counter, North Pacific Ocean, observation, Pacific Ocean, primary production, rep, reprocessed, UH, University of Hawaii, University of Hawai&#x27;i at Manoa</dd><dt><span>lat_max :</span></dt><dd>22.75</dd><dt><span>lat_min :</span></dt><dd>22.75</dd><dt><span>lon_max :</span></dt><dd>-158</dd><dt><span>lon_min :</span></dt><dd>-158</dd><dt><span>long_name :</span></dt><dd>Dark 12</dd><dt><span>make :</span></dt><dd>Observation</dd><dt><span>process_level :</span></dt><dd>Reprocessed</dd><dt><span>refrences :</span></dt><dd>nan</dd><dt><span>sensor :</span></dt><dd>Liquid Scintillation Counter</dd><dt><span>spatial_resolution :</span></dt><dd>Irregular</dd><dt><span>study_domain :</span></dt><dd>Biology+Biogeochemistry</dd><dt><span>table_name :</span></dt><dd>tblHOT_PP_v2022</dd><dt><span>temporal_resolution :</span></dt><dd>Irregular</dd><dt><span>time_max :</span></dt><dd>2022-09-01T00:00:00.000Z</dd><dt><span>time_min :</span></dt><dd>1988-10-31T00:00:00.000Z</dd><dt><span>units :</span></dt><dd>mg C/m3</dd><dt><span>variable_25th :</span></dt><dd>0.07</dd><dt><span>variable_50th :</span></dt><dd>0.116</dd><dt><span>variable_75th :</span></dt><dd>0.173</dd><dt><span>variable_count :</span></dt><dd>900.0</dd><dt><span>variable_max :</span></dt><dd>0.71</dd><dt><span>variable_mean :</span></dt><dd>0.1316233333</dd><dt><span>variable_min :</span></dt><dd>0.0</dd><dt><span>variable_std :</span></dt><dd>0.0845980966</dd><dt><span>visualize :</span></dt><dd>1.0</dd></dl></div><div class='xr-var-data'><pre>[5496 values with dtype=float64]</pre></div></li><li class='xr-var-item'><div class='xr-var-name'><span>dwt</span></div><div class='xr-var-dims'>(time, is_day, latitude, longitude, depth, sieve_size)</div><div class='xr-var-dtype'>float64</div><div class='xr-var-preview xr-preview'>...</div><input id='attrs-83388fb8-326d-43ee-aed5-6ce78e9a16b2' class='xr-var-attrs-in' type='checkbox' ><label for='attrs-83388fb8-326d-43ee-aed5-6ce78e9a16b2' title='Show/Hide attributes'><svg class='icon xr-icon-file-text2'><use xlink:href='#icon-file-text2'></use></svg></label><input id='data-a2c28faa-ac0a-4a04-a550-6ae61bb45bba' class='xr-var-data-in' type='checkbox'><label for='data-a2c28faa-ac0a-4a04-a550-6ae61bb45bba' title='Show/Hide data repr'><svg class='icon xr-icon-database'><use xlink:href='#icon-database'></use></svg></label><div class='xr-var-attrs'><dl class='xr-attrs'><dt><span>acknowledgement :</span></dt><dd>&#x27;&#x27;Data obtained via the Hawaii Ocean Time-series HOT-DOGS application; University of Hawai&#x27;i at Manoa. National Science Foundation Award # 1756517&#x27;&#x27;. https://hahana.soest.hawaii.edu/hot/hot-dogs/</dd><dt><span>comment :</span></dt><dd>nan</dd><dt><span>data_source :</span></dt><dd>Hawaii Ocean Time-series (HOT)</dd><dt><span>dataset_description :</span></dt><dd>âLarge zooplankton and micronekton play important roles in the export of organic material from surface waters in the open ocean. Global Ocean Flux planning models suggest that the relationship between primary production and passive particulate export flux is strongly influenced by size structure of the zooplankton community (e.g., PaffenhÃ¶ffer &amp; Knowles, 1979; Small et al., 1987; Frost, 1984). Active vertical migrations also have important implications for the transport and transformation of surface-derived organic particulates to dissolved inorganic constituents at depth (Longhurst &amp; Harrison, 1988; Longhurst et al., 1990; Al-Mutairi &amp; Landry, 2001; Hannides et al., 2008). The zooplankton component of the time-series sampling effort allows such processes to be considered in the interpretation of seasonal and interannual variations in measured flux and the elemental mass balance (e.g., carbon and nitrogen sources and sinks) of the euphotic zone. At Station ALOHA, 6 net tows are scheduled per cruise. Three midnight (2200 - 0200) and 3 mid-day (1000 - 1400) oblique tows are done using a 1-m2 net (3-m length) with 202-Âµm mesh Nitex netting. The net is towed obliquely at approximately 1 knot, from the surface to approximately 175 m and then back to the surface. Towing time is approximately 20-30 minutes. The tows are subsequently size-fractioned and analyzed for mesozooplankton wet and dry weight and C and N biomass.â Rows with no depth value have been removed. Time is in local time (HST). [https://hahana.soest.hawaii.edu/hot/methods/plankton.html](https://hahana.soest.hawaii.edu/hot/methods/plankton.html)</dd><dt><span>dataset_id :</span></dt><dd>758</dd><dt><span>dataset_name :</span></dt><dd>Zooplankton Community Structure HOT v2022</dd><dt><span>dataset_short_name :</span></dt><dd>HOT_Macrozooplankton_v2022</dd><dt><span>depth_max :</span></dt><dd>271</dd><dt><span>depth_min :</span></dt><dd>9</dd><dt><span>distributor :</span></dt><dd>Hawaii Ocean Time-series http://hahana.soest.hawaii.edu/hot/hot-dogs/</dd><dt><span>id :</span></dt><dd>18832</dd><dt><span>keywords :</span></dt><dd>ALOHA, Angel White Lab, &#x27;&#x27;Data obtained via the Hawaii Ocean Time-series HOT-DOGS application; University of Hawai&#x27;i at Manoa. National Science Foundation Award # 1756517&#x27;&#x27;. https://hahana.soest.hawaii.edu/hot/hot-dogs/, David Karl Lab, Dry Weight, dwt, Hawaii Ocean Time Series, Hawaii Ocean Time-series (HOT), Hawaii Ocean Time-series Data Organization &amp; Graphical System (HOT-DOGS) http://hahana.soest.hawaii.edu/hot/hot-dogs/, HOT, HOT_Macrozooplankton_v2022, HOT052, HOT053, HOT054, HOT055, HOT056, HOT057, HOT058, HOT060, HOT061, HOT062, HOT063, HOT064, HOT065, HOT066, HOT067, HOT068, HOT069, HOT070, HOT071, HOT072, HOT073, HOT074, HOT075, HOT076, HOT077, HOT078, HOT079, HOT080, HOT081, HOT082, HOT083, HOT084, HOT085, HOT086, HOT087, HOT088, HOT089, HOT090, HOT091, HOT092, HOT093, HOT094, HOT095, HOT096, HOT097, HOT098, HOT099, HOT100, HOT101, HOT102, HOT103, HOT104, HOT105, HOT106, HOT107, HOT108, HOT109, HOT110, HOT111, HOT112, HOT113, HOT114, HOT115, HOT116, HOT117, HOT118, HOT119, HOT120, HOT121, HOT122, HOT123, HOT124, HOT125, HOT126, HOT127, HOT129, HOT130, HOT131, HOT132, HOT133, HOT134, HOT135, HOT136, HOT137, HOT138, HOT139, HOT140, HOT141, HOT143, HOT144, HOT145, HOT146, HOT147, HOT148, HOT149, HOT150, HOT151, HOT152, HOT153, HOT154, HOT155, HOT156, HOT157, HOT158, HOT159, HOT160, HOT162, HOT163, HOT164, HOT165, HOT166, HOT167, HOT168, HOT170, HOT171, HOT172, HOT174, HOT175, HOT176, HOT178, HOT179, HOT180, HOT181, HOT182, HOT183, HOT184, HOT185, HOT186, HOT187, HOT188, HOT189, HOT190, HOT191, HOT192, HOT193, HOT194, HOT195, HOT196, HOT197, HOT198, HOT199, HOT200, HOT201, HOT202, HOT203, HOT204, HOT205, HOT206, HOT208, HOT209, HOT210, HOT211, HOT212, HOT213, HOT214, HOT215, HOT216, HOT217, HOT220, HOT221, HOT222, HOT223, HOT224, HOT225, HOT226, HOT227, HOT228, HOT229, HOT230, HOT231, HOT232, HOT233, HOT234, HOT235, HOT236, HOT237, HOT238, HOT239, HOT240, HOT241, HOT242, HOT243, HOT244, HOT245, HOT246, HOT247, HOT248, HOT249, HOT250, HOT251, HOT252, HOT253, HOT254, HOT255, HOT256, HOT257, HOT258, HOT259, HOT260, HOT261, HOT262, HOT263, HOT264, HOT265, HOT266, HOT267, HOT268, HOT269, HOT270, HOT271, HOT272, HOT273, HOT274, HOT275, HOT277, HOT278, HOT279, HOT280, HOT281, HOT282, HOT283, HOT284, HOT285, HOT286, HOT287, HOT288, HOT289, HOT290, HOT291, HOT292, HOT293, HOT294, HOT295, HOT296, HOT297, HOT298, HOT299, HOT300, HOT301, HOT302, HOT303, HOT304, HOT305, HOT306, HOT307, HOT309, HOT310, HOT311, HOT312, HOT313, HOT314, HOT315, HOT316, HOT317, HOT319, HOT320, HOT321, HOT322, HOT323, HOT324, HOT325, HOT326, HOT327, HOT328, HOT329, HOT330, HOT331, HOT332, HOT333, HOT334, HOT335, HOT336, HOT337, HOT338, HOT339, in situ, insitu, in-situ, Macrozooplankton, North Pacific Ocean, observation, Pacific Ocean, rep, reprocessed, UH, University of Hawaii, University of Hawai&#x27;i at Manoa, zooplankton, Zooplankton Community Structure HOT v2022, Zooplankton Net</dd><dt><span>lat_max :</span></dt><dd>22.75</dd><dt><span>lat_min :</span></dt><dd>22.75</dd><dt><span>lon_max :</span></dt><dd>-158</dd><dt><span>lon_min :</span></dt><dd>-158</dd><dt><span>long_name :</span></dt><dd>Dry Weight</dd><dt><span>make :</span></dt><dd>Observation</dd><dt><span>process_level :</span></dt><dd>Reprocessed</dd><dt><span>refrences :</span></dt><dd>nan</dd><dt><span>sensor :</span></dt><dd>Zooplankton Net</dd><dt><span>spatial_resolution :</span></dt><dd>Irregular</dd><dt><span>study_domain :</span></dt><dd>Biology</dd><dt><span>table_name :</span></dt><dd>tblHOT_Macrozooplankton_v2022</dd><dt><span>temporal_resolution :</span></dt><dd>Irregular</dd><dt><span>time_max :</span></dt><dd>2022-09-02T22:13:00.000Z</dd><dt><span>time_min :</span></dt><dd>1994-02-17T11:08:00.000Z</dd><dt><span>units :</span></dt><dd>g/m3</dd><dt><span>variable_25th :</span></dt><dd>0.117775</dd><dt><span>variable_50th :</span></dt><dd>0.2068</dd><dt><span>variable_75th :</span></dt><dd>0.34865</dd><dt><span>variable_count :</span></dt><dd>9264.0</dd><dt><span>variable_max :</span></dt><dd>3.5814</dd><dt><span>variable_mean :</span></dt><dd>0.3244671092</dd><dt><span>variable_min :</span></dt><dd>-0.087</dd><dt><span>variable_std :</span></dt><dd>0.3636227501</dd><dt><span>visualize :</span></dt><dd>1.0</dd></dl></div><div class='xr-var-data'><pre>[54960 values with dtype=float64]</pre></div></li><li class='xr-var-item'><div class='xr-var-name'><span>ebact</span></div><div class='xr-var-dims'>(time, latitude, longitude, depth)</div><div class='xr-var-dtype'>float64</div><div class='xr-var-preview xr-preview'>...</div><input id='attrs-add610bf-e12c-49d3-b87a-505d7ba6edaf' class='xr-var-attrs-in' type='checkbox' ><label for='attrs-add610bf-e12c-49d3-b87a-505d7ba6edaf' title='Show/Hide attributes'><svg class='icon xr-icon-file-text2'><use xlink:href='#icon-file-text2'></use></svg></label><input id='data-72decadd-562c-4761-8ada-e9314d556cb5' class='xr-var-data-in' type='checkbox'><label for='data-72decadd-562c-4761-8ada-e9314d556cb5' title='Show/Hide data repr'><svg class='icon xr-icon-database'><use xlink:href='#icon-database'></use></svg></label><div class='xr-var-attrs'><dl class='xr-attrs'><dt><span>acknowledgement :</span></dt><dd>&#x27;&#x27;Data obtained via the Hawaii Ocean Time-series HOT-DOGS application; University of Hawai&#x27;i at Manoa. National Science Foundation Award # 1756517&#x27;&#x27;. https://hahana.soest.hawaii.edu/hot/hot-dogs/</dd><dt><span>comment :</span></dt><dd>nan</dd><dt><span>data_source :</span></dt><dd>Hawaii Ocean Time-series (HOT)</dd><dt><span>dataset_description :</span></dt><dd>This dataset consists of measurements of photosynthetic primary production, chlorophyll a and phaeopigment concentrations, and flow cytometry-based determinations of the abundances of heterotrophic bacteria and the picophytoplankton - Prochlorococcus, Synechococcus and small eukaryotic phytoplankton. All samples were collected through the Hawaii Ocean Time-series (HOT) program, which began in 1988 with ~monthly cruises to Station ALOHA (A Long-term Oligotrophic Habitat Assessment; 22Â° 10 N, 158Â° 00 W). Photosynthetic production of organic matter was measured by the 14C tracer method. Details on the methods employed over the years are detailed in Karl et al., Progress in Oceanography ([https://doi.org/10.1016/j.pocean.2021.102563](https://doi.org/10.1016/j.pocean.2021.102563)). Flow cytometry-based determinations of microbial abundances were made using an EPICS 753 flow cytometer on HOT 22-173 (December 1980 â September 2005) and a B/D Influx flow cytometer beginning with HOT 174 . Details on the flow cytometry methods are provided at [https://hahana.soest.hawaii.edu/hot/methods/bact.html](https://hahana.soest.hawaii.edu/hot/methods/bact.html). Samples for chlorophyll a and phaeopigments were collected onto Whatman GF/F filters and extracted with 100% acetone and measured on a Turner Designs Model 10-AU fluorometer based on standard techniques described in Strickland and Parsons, 1972. Method details available at [https://hahana.soest.hawaii.edu/hot/methods/chl.html](https://hahana.soest.hawaii.edu/hot/methods/chl.html). Time is in a separate column from date. Dates and times are in local time (HST).</dd><dt><span>dataset_id :</span></dt><dd>750</dd><dt><span>dataset_name :</span></dt><dd>HOT Primary Production and Flow Cytometry v2022</dd><dt><span>dataset_short_name :</span></dt><dd>HOT_PP_v2022</dd><dt><span>depth_max :</span></dt><dd>178</dd><dt><span>depth_min :</span></dt><dd>0</dd><dt><span>distributor :</span></dt><dd>Hawaii Ocean Time-series http://hahana.soest.hawaii.edu/hot/hot-dogs/</dd><dt><span>id :</span></dt><dd>18799</dd><dt><span>keywords :</span></dt><dd>ALOHA, Angel White Lab, biology, &#x27;&#x27;Data obtained via the Hawaii Ocean Time-series HOT-DOGS application; University of Hawai&#x27;i at Manoa. National Science Foundation Award # 1756517&#x27;&#x27;. https://hahana.soest.hawaii.edu/hot/hot-dogs/, David Karl Lab, ebact, Flow Cytometer, fluorometer, Hawaii Ocean Time Series, Hawaii Ocean Time-series (HOT), Hawaii Ocean Time-series Data Organization &amp; Graphical System (HOT-DOGS) http://hahana.soest.hawaii.edu/hot/hot-dogs/, HOT, HOT Primary Production and Flow Cytometry v2022, HOT_PP_v2022, HOT001, HOT002, HOT003, HOT004, HOT005, HOT006, HOT007, HOT008, HOT009, HOT010, HOT011, HOT012, HOT013, HOT014, HOT015, HOT016, HOT017, HOT018, HOT019, HOT022, HOT023, HOT025, HOT026, HOT027, HOT028, HOT029, HOT030, HOT031, HOT032, HOT033, HOT034, HOT035, HOT036, HOT037, HOT038, HOT039, HOT040, HOT041, HOT044, HOT045, HOT046, HOT047, HOT049, HOT050, HOT051, HOT052, HOT053, HOT054, HOT055, HOT056, HOT057, HOT058, HOT060, HOT061, HOT062, HOT063, HOT064, HOT065, HOT066, HOT067, HOT068, HOT069, HOT070, HOT071, HOT072, HOT073, HOT074, HOT075, HOT076, HOT077, HOT078, HOT079, HOT080, HOT081, HOT082, HOT083, HOT084, HOT085, HOT086, HOT087, HOT089, HOT090, HOT091, HOT092, HOT093, HOT094, HOT095, HOT096, HOT097, HOT098, HOT099, HOT100, HOT101, HOT102, HOT103, HOT104, HOT105, HOT106, HOT107, HOT108, HOT109, HOT110, HOT111, HOT112, HOT113, HOT114, HOT115, HOT116, HOT117, HOT118, HOT119, HOT120, HOT121, HOT122, HOT124, HOT125, HOT126, HOT127, HOT128, HOT129, HOT130, HOT131, HOT132, HOT134, HOT135, HOT136, HOT137, HOT139, HOT140, HOT141, HOT142, HOT143, HOT144, HOT145, HOT146, HOT147, HOT148, HOT149, HOT150, HOT151, HOT152, HOT153, HOT154, HOT155, HOT156, HOT157, HOT158, HOT159, HOT160, HOT162, HOT163, HOT164, HOT165, HOT166, HOT167, HOT168, HOT169, HOT170, HOT171, HOT172, HOT173, HOT174, HOT175, HOT176, HOT177, HOT178, HOT179, HOT180, HOT181, HOT182, HOT184, HOT185, HOT186, HOT187, HOT188, HOT189, HOT190, HOT191, HOT193, HOT194, HOT195, HOT196, HOT197, HOT198, HOT199, HOT200, HOT201, HOT202, HOT203, HOT204, HOT205, HOT206, HOT208, HOT209, HOT210, HOT211, HOT212, HOT213, HOT214, HOT215, HOT216, HOT217, HOT220, HOT221, HOT222, HOT223, HOT224, HOT225, HOT226, HOT227, HOT228, HOT229, HOT230, HOT231, HOT232, HOT233, HOT234, HOT235, HOT236, HOT237, HOT239, HOT241, HOT242, HOT243, HOT244, HOT245, HOT246, HOT247, HOT248, HOT249, HOT250, HOT251, HOT252, HOT253, HOT254, HOT255, HOT256, HOT257, HOT258, HOT259, HOT260, HOT261, HOT262, HOT263, HOT264, HOT265, HOT266, HOT267, HOT268, HOT269, HOT270, HOT271, HOT272, HOT273, HOT274, HOT275, HOT277, HOT279, HOT280, HOT281, HOT283, HOT284, HOT285, HOT286, HOT287, HOT289, HOT290, HOT291, HOT292, HOT293, HOT294, HOT295, HOT296, HOT297, HOT298, HOT300, HOT301, HOT303, HOT304, HOT305, HOT306, HOT307, HOT309, HOT311, HOT312, HOT313, HOT314, HOT315, HOT316, HOT317, HOT319, HOT320, HOT321, HOT322, HOT323, HOT324, HOT325, HOT326, HOT327, HOT328, HOT329, HOT330, HOT331, HOT332, HOT333, HOT335, HOT336, HOT337, HOT338, HOT339, in situ, insitu, in-situ, North Pacific Ocean, observation, Pacific Ocean, picoEukaryotes, primary production, rep, reprocessed, UH, University of Hawaii, University of Hawai&#x27;i at Manoa</dd><dt><span>lat_max :</span></dt><dd>22.75</dd><dt><span>lat_min :</span></dt><dd>22.75</dd><dt><span>lon_max :</span></dt><dd>-158</dd><dt><span>lon_min :</span></dt><dd>-158</dd><dt><span>long_name :</span></dt><dd>picoEukaryotes</dd><dt><span>make :</span></dt><dd>Observation</dd><dt><span>process_level :</span></dt><dd>Reprocessed</dd><dt><span>refrences :</span></dt><dd>nan</dd><dt><span>sensor :</span></dt><dd>Flow Cytometer</dd><dt><span>spatial_resolution :</span></dt><dd>Irregular</dd><dt><span>study_domain :</span></dt><dd>Biology+Biogeochemistry</dd><dt><span>table_name :</span></dt><dd>tblHOT_PP_v2022</dd><dt><span>temporal_resolution :</span></dt><dd>Irregular</dd><dt><span>time_max :</span></dt><dd>2022-09-01T00:00:00.000Z</dd><dt><span>time_min :</span></dt><dd>1988-10-31T00:00:00.000Z</dd><dt><span>units :</span></dt><dd>#/ml</dd><dt><span>variable_25th :</span></dt><dd>496.0</dd><dt><span>variable_50th :</span></dt><dd>843.5</dd><dt><span>variable_75th :</span></dt><dd>1240.5</dd><dt><span>variable_count :</span></dt><dd>1988.0</dd><dt><span>variable_max :</span></dt><dd>6670.0</dd><dt><span>variable_mean :</span></dt><dd>952.5115694165</dd><dt><span>variable_min :</span></dt><dd>0.0</dd><dt><span>variable_std :</span></dt><dd>695.5187926346</dd><dt><span>visualize :</span></dt><dd>1.0</dd></dl></div><div class='xr-var-data'><pre>[5496 values with dtype=float64]</pre></div></li><li class='xr-var-item'><div class='xr-var-name'><span>fluor</span></div><div class='xr-var-dims'>(time, latitude, longitude, depth)</div><div class='xr-var-dtype'>float64</div><div class='xr-var-preview xr-preview'>...</div><input id='attrs-21c013c2-1841-4869-ae14-8b705279e5f0' class='xr-var-attrs-in' type='checkbox' ><label for='attrs-21c013c2-1841-4869-ae14-8b705279e5f0' title='Show/Hide attributes'><svg class='icon xr-icon-file-text2'><use xlink:href='#icon-file-text2'></use></svg></label><input id='data-44716d05-6652-4ce9-bc62-f591828ee1e0' class='xr-var-data-in' type='checkbox'><label for='data-44716d05-6652-4ce9-bc62-f591828ee1e0' title='Show/Hide data repr'><svg class='icon xr-icon-database'><use xlink:href='#icon-database'></use></svg></label><div class='xr-var-attrs'><dl class='xr-attrs'><dt><span>acknowledgement :</span></dt><dd>&#x27;&#x27;Data obtained via the Hawaii Ocean Time-series HOT-DOGS application; University of Hawai&#x27;i at Manoa. National Science Foundation Award # 1756517&#x27;&#x27;. https://hahana.soest.hawaii.edu/hot/hot-dogs/</dd><dt><span>comment :</span></dt><dd>nan</dd><dt><span>data_source :</span></dt><dd>Hawaii Ocean Time-series (HOT)</dd><dt><span>dataset_description :</span></dt><dd>âThe majority of our sampling effort, approximately 60-72 h per standard HOT cruise, is spent at Station ALOHA. High vertical resolution environmental data are collected with a Sea-Bird CTD having external temperature (T), conductivity (C), dissolved oxygen (DO) and fluorescence (F) sensors and an internal pressure (P) sensor. A Sea-Bird 24-place carousel and an aluminum rosette that is capable of supporting 24 12-L PVC bottles are used to obtain water samples from desired depths. The CTD and rosette are deployed on a 3-conductor cable allowing for real-time display of data and for tripping the bottles at specific depths of interest. The CTD system takes 24 samples s-1 and the raw data are stored both on the computer and, for redundancy, on VHS-format video tapes. In February 2006, before cruise 178, we replaced our 24 aging 12-L PVC rosette bottles with new 12-L bottles fabricated at the University of Hawaii Engineering Support Facility, using plans and specifications from John Bullister (PMEL).â Time is in GMT.  [https://www.soest.hawaii.edu/HOT_WOCE/intro.html](https://www.soest.hawaii.edu/HOT_WOCE/intro.html)</dd><dt><span>dataset_id :</span></dt><dd>749</dd><dt><span>dataset_name :</span></dt><dd>CTD Hydrography HOT v2022</dd><dt><span>dataset_short_name :</span></dt><dd>HOT_CTD_v2022</dd><dt><span>depth_max :</span></dt><dd>4732.3762993821</dd><dt><span>depth_min :</span></dt><dd>0</dd><dt><span>distributor :</span></dt><dd>http://hahana.soest.hawaii.edu/hot/hot-dogs/</dd><dt><span>id :</span></dt><dd>18785</dd><dt><span>keywords :</span></dt><dd>ALOHA, Angel White Lab, Chloropigment, CTD, CTD Hydrography HOT v2022, &#x27;&#x27;Data obtained via the Hawaii Ocean Time-series HOT-DOGS application; University of Hawai&#x27;i at Manoa. National Science Foundation Award # 1756517&#x27;&#x27;. https://hahana.soest.hawaii.edu/hot/hot-dogs/, David Karl Lab, fluor, Hawaii Ocean Time Series, Hawaii Ocean Time-series (HOT), HOT, HOT_CTD_v2022, HOT001, HOT002, HOT003, HOT004, HOT005, HOT006, HOT007, HOT008, HOT009, HOT010, HOT011, HOT012, HOT013, HOT014, HOT015, HOT016, HOT017, HOT018, HOT019, HOT020, HOT022, HOT023, HOT024, HOT025, HOT026, HOT027, HOT028, HOT029, HOT030, HOT031, HOT032, HOT033, HOT034, HOT035, HOT036, HOT037, HOT038, HOT039, HOT040, HOT041, HOT042, HOT043, HOT044, HOT045, HOT046, HOT047, HOT049, HOT050, HOT051, HOT052, HOT053, HOT054, HOT055, HOT056, HOT057, HOT058, HOT059, HOT060, HOT061, HOT062, HOT063, HOT064, HOT065, HOT066, HOT067, HOT068, HOT069, HOT070, HOT071, HOT072, HOT073, HOT074, HOT075, HOT076, HOT077, HOT078, HOT079, HOT080, HOT081, HOT082, HOT083, HOT084, HOT085, HOT086, HOT087, HOT088, HOT089, HOT090, HOT091, HOT092, HOT093, HOT094, HOT095, HOT096, HOT097, HOT098, HOT099, HOT100, HOT101, HOT102, HOT103, HOT104, HOT105, HOT106, HOT107, HOT108, HOT109, HOT110, HOT111, HOT112, HOT113, HOT114, HOT115, HOT116, HOT117, HOT118, HOT119, HOT120, HOT121, HOT122, HOT123, HOT124, HOT125, HOT126, HOT127, HOT128, HOT129, HOT130, HOT131, HOT132, HOT133, HOT134, HOT135, HOT136, HOT137, HOT138, HOT139, HOT140, HOT141, HOT142, HOT143, HOT144, HOT145, HOT146, HOT147, HOT148, HOT149, HOT150, HOT151, HOT152, HOT153, HOT154, HOT155, HOT156, HOT157, HOT158, HOT159, HOT160, HOT161, HOT162, HOT163, HOT164, HOT165, HOT166, HOT167, HOT168, HOT169, HOT170, HOT171, HOT172, HOT173, HOT174, HOT175, HOT176, HOT177, HOT178, HOT179, HOT180, HOT181, HOT182, HOT183, HOT184, HOT185, HOT186, HOT187, HOT188, HOT189, HOT190, HOT191, HOT192, HOT193, HOT194, HOT195, HOT196, HOT197, HOT198, HOT199, HOT200, HOT201, HOT202, HOT203, HOT204, HOT205, HOT206, HOT208, HOT209, HOT210, HOT211, HOT212, HOT213, HOT214, HOT215, HOT216, HOT217, HOT219, HOT220, HOT221, HOT222, HOT223, HOT224, HOT225, HOT226, HOT227, HOT228, HOT229, HOT230, HOT231, HOT232, HOT233, HOT234, HOT235, HOT236, HOT237, HOT238, HOT239, HOT240, HOT241, HOT242, HOT243, HOT244, HOT245, HOT246, HOT247, HOT248, HOT249, HOT250, HOT251, HOT252, HOT253, HOT254, HOT255, HOT256, HOT257, HOT258, HOT259, HOT260, HOT261, HOT262, HOT263, HOT264, HOT265, HOT266, HOT267, HOT268, HOT269, HOT270, HOT271, HOT272, HOT273, HOT274, HOT275, HOT277, HOT278, HOT279, HOT280, HOT281, HOT282, HOT283, HOT284, HOT285, HOT286, HOT287, HOT288, HOT289, HOT290, HOT291, HOT292, HOT293, HOT294, HOT295, HOT296, HOT297, HOT298, HOT299, HOT300, HOT301, HOT302, HOT303, HOT304, HOT305, HOT306, HOT307, HOT308, HOT309, HOT310, HOT311, HOT312, HOT313, HOT314, HOT315, HOT316, HOT317, HOT318, HOT319, HOT320, HOT321, HOT322, HOT323, HOT324, HOT325, HOT326, HOT327, HOT328, HOT329, HOT330, HOT331, HOT332, HOT333, HOT334, HOT335, HOT336, HOT337, HOT338, HOT339, http://hahana.soest.hawaii.edu/hot/hot-dogs/, hydrography, in situ, insitu, in-situ, North Pacific Ocean, observation, Pacific Ocean, rep, reprocessed, UH, University of Hawaii, University of Hawai&#x27;i at Manoa</dd><dt><span>lat_max :</span></dt><dd>22.75</dd><dt><span>lat_min :</span></dt><dd>22.75</dd><dt><span>lon_max :</span></dt><dd>-158</dd><dt><span>lon_min :</span></dt><dd>-158</dd><dt><span>long_name :</span></dt><dd>Chloropigment</dd><dt><span>make :</span></dt><dd>Observation</dd><dt><span>process_level :</span></dt><dd>Reprocessed</dd><dt><span>refrences :</span></dt><dd>nan</dd><dt><span>sensor :</span></dt><dd>CTD</dd><dt><span>spatial_resolution :</span></dt><dd>Irregular</dd><dt><span>study_domain :</span></dt><dd>Biogeochemistry</dd><dt><span>table_name :</span></dt><dd>tblHOT_CTD_v2022</dd><dt><span>temporal_resolution :</span></dt><dd>Irregular</dd><dt><span>time_max :</span></dt><dd>2022-09-01T00:00:00.000Z</dd><dt><span>time_min :</span></dt><dd>1988-10-31T00:00:00.000Z</dd><dt><span>units :</span></dt><dd>Âµg/l</dd><dt><span>variable_25th :</span></dt><dd>0.0357</dd><dt><span>variable_50th :</span></dt><dd>0.0566</dd><dt><span>variable_75th :</span></dt><dd>0.0815</dd><dt><span>variable_count :</span></dt><dd>547541.0</dd><dt><span>variable_max :</span></dt><dd>40407.715</dd><dt><span>variable_mean :</span></dt><dd>0.3670678888</dd><dt><span>variable_min :</span></dt><dd>-0.0626</dd><dt><span>variable_std :</span></dt><dd>83.1049125142</dd><dt><span>visualize :</span></dt><dd>1.0</dd></dl></div><div class='xr-var-data'><pre>[5496 values with dtype=float64]</pre></div></li><li class='xr-var-item'><div class='xr-var-name'><span>hbact</span></div><div class='xr-var-dims'>(time, latitude, longitude, depth)</div><div class='xr-var-dtype'>float64</div><div class='xr-var-preview xr-preview'>...</div><input id='attrs-7aa126d8-41f1-40bc-8b5f-aa364099c1c5' class='xr-var-attrs-in' type='checkbox' ><label for='attrs-7aa126d8-41f1-40bc-8b5f-aa364099c1c5' title='Show/Hide attributes'><svg class='icon xr-icon-file-text2'><use xlink:href='#icon-file-text2'></use></svg></label><input id='data-fd531559-c96f-4368-b16b-c28754c275a2' class='xr-var-data-in' type='checkbox'><label for='data-fd531559-c96f-4368-b16b-c28754c275a2' title='Show/Hide data repr'><svg class='icon xr-icon-database'><use xlink:href='#icon-database'></use></svg></label><div class='xr-var-attrs'><dl class='xr-attrs'><dt><span>acknowledgement :</span></dt><dd>&#x27;&#x27;Data obtained via the Hawaii Ocean Time-series HOT-DOGS application; University of Hawai&#x27;i at Manoa. National Science Foundation Award # 1756517&#x27;&#x27;. https://hahana.soest.hawaii.edu/hot/hot-dogs/</dd><dt><span>comment :</span></dt><dd>nan</dd><dt><span>data_source :</span></dt><dd>Hawaii Ocean Time-series (HOT)</dd><dt><span>dataset_description :</span></dt><dd>This dataset consists of measurements of photosynthetic primary production, chlorophyll a and phaeopigment concentrations, and flow cytometry-based determinations of the abundances of heterotrophic bacteria and the picophytoplankton - Prochlorococcus, Synechococcus and small eukaryotic phytoplankton. All samples were collected through the Hawaii Ocean Time-series (HOT) program, which began in 1988 with ~monthly cruises to Station ALOHA (A Long-term Oligotrophic Habitat Assessment; 22Â° 10 N, 158Â° 00 W). Photosynthetic production of organic matter was measured by the 14C tracer method. Details on the methods employed over the years are detailed in Karl et al., Progress in Oceanography ([https://doi.org/10.1016/j.pocean.2021.102563](https://doi.org/10.1016/j.pocean.2021.102563)). Flow cytometry-based determinations of microbial abundances were made using an EPICS 753 flow cytometer on HOT 22-173 (December 1980 â September 2005) and a B/D Influx flow cytometer beginning with HOT 174 . Details on the flow cytometry methods are provided at [https://hahana.soest.hawaii.edu/hot/methods/bact.html](https://hahana.soest.hawaii.edu/hot/methods/bact.html). Samples for chlorophyll a and phaeopigments were collected onto Whatman GF/F filters and extracted with 100% acetone and measured on a Turner Designs Model 10-AU fluorometer based on standard techniques described in Strickland and Parsons, 1972. Method details available at [https://hahana.soest.hawaii.edu/hot/methods/chl.html](https://hahana.soest.hawaii.edu/hot/methods/chl.html). Time is in a separate column from date. Dates and times are in local time (HST).</dd><dt><span>dataset_id :</span></dt><dd>750</dd><dt><span>dataset_name :</span></dt><dd>HOT Primary Production and Flow Cytometry v2022</dd><dt><span>dataset_short_name :</span></dt><dd>HOT_PP_v2022</dd><dt><span>depth_max :</span></dt><dd>178</dd><dt><span>depth_min :</span></dt><dd>0</dd><dt><span>distributor :</span></dt><dd>Hawaii Ocean Time-series http://hahana.soest.hawaii.edu/hot/hot-dogs/</dd><dt><span>id :</span></dt><dd>18797</dd><dt><span>keywords :</span></dt><dd>ALOHA, Angel White Lab, biology, &#x27;&#x27;Data obtained via the Hawaii Ocean Time-series HOT-DOGS application; University of Hawai&#x27;i at Manoa. National Science Foundation Award # 1756517&#x27;&#x27;. https://hahana.soest.hawaii.edu/hot/hot-dogs/, David Karl Lab, Flow Cytometer, fluorometer, Hawaii Ocean Time Series, Hawaii Ocean Time-series (HOT), Hawaii Ocean Time-series Data Organization &amp; Graphical System (HOT-DOGS) http://hahana.soest.hawaii.edu/hot/hot-dogs/, hbact, Heterotrophic Bacteria, HOT, HOT Primary Production and Flow Cytometry v2022, HOT_PP_v2022, HOT001, HOT002, HOT003, HOT004, HOT005, HOT006, HOT007, HOT008, HOT009, HOT010, HOT011, HOT012, HOT013, HOT014, HOT015, HOT016, HOT017, HOT018, HOT019, HOT022, HOT023, HOT025, HOT026, HOT027, HOT028, HOT029, HOT030, HOT031, HOT032, HOT033, HOT034, HOT035, HOT036, HOT037, HOT038, HOT039, HOT040, HOT041, HOT044, HOT045, HOT046, HOT047, HOT049, HOT050, HOT051, HOT052, HOT053, HOT054, HOT055, HOT056, HOT057, HOT058, HOT060, HOT061, HOT062, HOT063, HOT064, HOT065, HOT066, HOT067, HOT068, HOT069, HOT070, HOT071, HOT072, HOT073, HOT074, HOT075, HOT076, HOT077, HOT078, HOT079, HOT080, HOT081, HOT082, HOT083, HOT084, HOT085, HOT086, HOT087, HOT089, HOT090, HOT091, HOT092, HOT093, HOT094, HOT095, HOT096, HOT097, HOT098, HOT099, HOT100, HOT101, HOT102, HOT103, HOT104, HOT105, HOT106, HOT107, HOT108, HOT109, HOT110, HOT111, HOT112, HOT113, HOT114, HOT115, HOT116, HOT117, HOT118, HOT119, HOT120, HOT121, HOT122, HOT124, HOT125, HOT126, HOT127, HOT128, HOT129, HOT130, HOT131, HOT132, HOT134, HOT135, HOT136, HOT137, HOT139, HOT140, HOT141, HOT142, HOT143, HOT144, HOT145, HOT146, HOT147, HOT148, HOT149, HOT150, HOT151, HOT152, HOT153, HOT154, HOT155, HOT156, HOT157, HOT158, HOT159, HOT160, HOT162, HOT163, HOT164, HOT165, HOT166, HOT167, HOT168, HOT169, HOT170, HOT171, HOT172, HOT173, HOT174, HOT175, HOT176, HOT177, HOT178, HOT179, HOT180, HOT181, HOT182, HOT184, HOT185, HOT186, HOT187, HOT188, HOT189, HOT190, HOT191, HOT193, HOT194, HOT195, HOT196, HOT197, HOT198, HOT199, HOT200, HOT201, HOT202, HOT203, HOT204, HOT205, HOT206, HOT208, HOT209, HOT210, HOT211, HOT212, HOT213, HOT214, HOT215, HOT216, HOT217, HOT220, HOT221, HOT222, HOT223, HOT224, HOT225, HOT226, HOT227, HOT228, HOT229, HOT230, HOT231, HOT232, HOT233, HOT234, HOT235, HOT236, HOT237, HOT239, HOT241, HOT242, HOT243, HOT244, HOT245, HOT246, HOT247, HOT248, HOT249, HOT250, HOT251, HOT252, HOT253, HOT254, HOT255, HOT256, HOT257, HOT258, HOT259, HOT260, HOT261, HOT262, HOT263, HOT264, HOT265, HOT266, HOT267, HOT268, HOT269, HOT270, HOT271, HOT272, HOT273, HOT274, HOT275, HOT277, HOT279, HOT280, HOT281, HOT283, HOT284, HOT285, HOT286, HOT287, HOT289, HOT290, HOT291, HOT292, HOT293, HOT294, HOT295, HOT296, HOT297, HOT298, HOT300, HOT301, HOT303, HOT304, HOT305, HOT306, HOT307, HOT309, HOT311, HOT312, HOT313, HOT314, HOT315, HOT316, HOT317, HOT319, HOT320, HOT321, HOT322, HOT323, HOT324, HOT325, HOT326, HOT327, HOT328, HOT329, HOT330, HOT331, HOT332, HOT333, HOT335, HOT336, HOT337, HOT338, HOT339, in situ, insitu, in-situ, North Pacific Ocean, observation, Pacific Ocean, primary production, rep, reprocessed, UH, University of Hawaii, University of Hawai&#x27;i at Manoa</dd><dt><span>lat_max :</span></dt><dd>22.75</dd><dt><span>lat_min :</span></dt><dd>22.75</dd><dt><span>lon_max :</span></dt><dd>-158</dd><dt><span>lon_min :</span></dt><dd>-158</dd><dt><span>long_name :</span></dt><dd>Heterotrophic Bacteria</dd><dt><span>make :</span></dt><dd>Observation</dd><dt><span>process_level :</span></dt><dd>Reprocessed</dd><dt><span>refrences :</span></dt><dd>nan</dd><dt><span>sensor :</span></dt><dd>Flow Cytometer</dd><dt><span>spatial_resolution :</span></dt><dd>Irregular</dd><dt><span>study_domain :</span></dt><dd>Biology+Biogeochemistry</dd><dt><span>table_name :</span></dt><dd>tblHOT_PP_v2022</dd><dt><span>temporal_resolution :</span></dt><dd>Irregular</dd><dt><span>time_max :</span></dt><dd>2022-09-01T00:00:00.000Z</dd><dt><span>time_min :</span></dt><dd>1988-10-31T00:00:00.000Z</dd><dt><span>units :</span></dt><dd>#/ml</dd><dt><span>variable_25th :</span></dt><dd>266712.0</dd><dt><span>variable_50th :</span></dt><dd>392558.0</dd><dt><span>variable_75th :</span></dt><dd>479802.0</dd><dt><span>variable_count :</span></dt><dd>1977.0</dd><dt><span>variable_max :</span></dt><dd>840648.0</dd><dt><span>variable_mean :</span></dt><dd>382577.0374304502</dd><dt><span>variable_min :</span></dt><dd>60189.0</dd><dt><span>variable_std :</span></dt><dd>136839.2594339277</dd><dt><span>visualize :</span></dt><dd>1.0</dd></dl></div><div class='xr-var-data'><pre>[5496 values with dtype=float64]</pre></div></li><li class='xr-var-item'><div class='xr-var-name'><span>l12</span></div><div class='xr-var-dims'>(time, latitude, longitude, depth)</div><div class='xr-var-dtype'>float64</div><div class='xr-var-preview xr-preview'>...</div><input id='attrs-74fe7049-1db3-42a6-84e7-9277aba1330a' class='xr-var-attrs-in' type='checkbox' ><label for='attrs-74fe7049-1db3-42a6-84e7-9277aba1330a' title='Show/Hide attributes'><svg class='icon xr-icon-file-text2'><use xlink:href='#icon-file-text2'></use></svg></label><input id='data-f6d6c292-9557-4b91-be10-876066a65586' class='xr-var-data-in' type='checkbox'><label for='data-f6d6c292-9557-4b91-be10-876066a65586' title='Show/Hide data repr'><svg class='icon xr-icon-database'><use xlink:href='#icon-database'></use></svg></label><div class='xr-var-attrs'><dl class='xr-attrs'><dt><span>acknowledgement :</span></dt><dd>&#x27;&#x27;Data obtained via the Hawaii Ocean Time-series HOT-DOGS application; University of Hawai&#x27;i at Manoa. National Science Foundation Award # 1756517&#x27;&#x27;. https://hahana.soest.hawaii.edu/hot/hot-dogs/</dd><dt><span>comment :</span></dt><dd>nan</dd><dt><span>data_source :</span></dt><dd>Hawaii Ocean Time-series (HOT)</dd><dt><span>dataset_description :</span></dt><dd>This dataset consists of measurements of photosynthetic primary production, chlorophyll a and phaeopigment concentrations, and flow cytometry-based determinations of the abundances of heterotrophic bacteria and the picophytoplankton - Prochlorococcus, Synechococcus and small eukaryotic phytoplankton. All samples were collected through the Hawaii Ocean Time-series (HOT) program, which began in 1988 with ~monthly cruises to Station ALOHA (A Long-term Oligotrophic Habitat Assessment; 22Â° 10 N, 158Â° 00 W). Photosynthetic production of organic matter was measured by the 14C tracer method. Details on the methods employed over the years are detailed in Karl et al., Progress in Oceanography ([https://doi.org/10.1016/j.pocean.2021.102563](https://doi.org/10.1016/j.pocean.2021.102563)). Flow cytometry-based determinations of microbial abundances were made using an EPICS 753 flow cytometer on HOT 22-173 (December 1980 â September 2005) and a B/D Influx flow cytometer beginning with HOT 174 . Details on the flow cytometry methods are provided at [https://hahana.soest.hawaii.edu/hot/methods/bact.html](https://hahana.soest.hawaii.edu/hot/methods/bact.html). Samples for chlorophyll a and phaeopigments were collected onto Whatman GF/F filters and extracted with 100% acetone and measured on a Turner Designs Model 10-AU fluorometer based on standard techniques described in Strickland and Parsons, 1972. Method details available at [https://hahana.soest.hawaii.edu/hot/methods/chl.html](https://hahana.soest.hawaii.edu/hot/methods/chl.html). Time is in a separate column from date. Dates and times are in local time (HST).</dd><dt><span>dataset_id :</span></dt><dd>750</dd><dt><span>dataset_name :</span></dt><dd>HOT Primary Production and Flow Cytometry v2022</dd><dt><span>dataset_short_name :</span></dt><dd>HOT_PP_v2022</dd><dt><span>depth_max :</span></dt><dd>178</dd><dt><span>depth_min :</span></dt><dd>0</dd><dt><span>distributor :</span></dt><dd>Hawaii Ocean Time-series http://hahana.soest.hawaii.edu/hot/hot-dogs/</dd><dt><span>id :</span></dt><dd>18793</dd><dt><span>keywords :</span></dt><dd>ALOHA, Angel White Lab, biology, &#x27;&#x27;Data obtained via the Hawaii Ocean Time-series HOT-DOGS application; University of Hawai&#x27;i at Manoa. National Science Foundation Award # 1756517&#x27;&#x27;. https://hahana.soest.hawaii.edu/hot/hot-dogs/, David Karl Lab, fluorometer, Hawaii Ocean Time Series, Hawaii Ocean Time-series (HOT), Hawaii Ocean Time-series Data Organization &amp; Graphical System (HOT-DOGS) http://hahana.soest.hawaii.edu/hot/hot-dogs/, HOT, HOT Primary Production and Flow Cytometry v2022, HOT_PP_v2022, HOT001, HOT002, HOT003, HOT004, HOT005, HOT006, HOT007, HOT008, HOT009, HOT010, HOT011, HOT012, HOT013, HOT014, HOT015, HOT016, HOT017, HOT018, HOT019, HOT022, HOT023, HOT025, HOT026, HOT027, HOT028, HOT029, HOT030, HOT031, HOT032, HOT033, HOT034, HOT035, HOT036, HOT037, HOT038, HOT039, HOT040, HOT041, HOT044, HOT045, HOT046, HOT047, HOT049, HOT050, HOT051, HOT052, HOT053, HOT054, HOT055, HOT056, HOT057, HOT058, HOT060, HOT061, HOT062, HOT063, HOT064, HOT065, HOT066, HOT067, HOT068, HOT069, HOT070, HOT071, HOT072, HOT073, HOT074, HOT075, HOT076, HOT077, HOT078, HOT079, HOT080, HOT081, HOT082, HOT083, HOT084, HOT085, HOT086, HOT087, HOT089, HOT090, HOT091, HOT092, HOT093, HOT094, HOT095, HOT096, HOT097, HOT098, HOT099, HOT100, HOT101, HOT102, HOT103, HOT104, HOT105, HOT106, HOT107, HOT108, HOT109, HOT110, HOT111, HOT112, HOT113, HOT114, HOT115, HOT116, HOT117, HOT118, HOT119, HOT120, HOT121, HOT122, HOT124, HOT125, HOT126, HOT127, HOT128, HOT129, HOT130, HOT131, HOT132, HOT134, HOT135, HOT136, HOT137, HOT139, HOT140, HOT141, HOT142, HOT143, HOT144, HOT145, HOT146, HOT147, HOT148, HOT149, HOT150, HOT151, HOT152, HOT153, HOT154, HOT155, HOT156, HOT157, HOT158, HOT159, HOT160, HOT162, HOT163, HOT164, HOT165, HOT166, HOT167, HOT168, HOT169, HOT170, HOT171, HOT172, HOT173, HOT174, HOT175, HOT176, HOT177, HOT178, HOT179, HOT180, HOT181, HOT182, HOT184, HOT185, HOT186, HOT187, HOT188, HOT189, HOT190, HOT191, HOT193, HOT194, HOT195, HOT196, HOT197, HOT198, HOT199, HOT200, HOT201, HOT202, HOT203, HOT204, HOT205, HOT206, HOT208, HOT209, HOT210, HOT211, HOT212, HOT213, HOT214, HOT215, HOT216, HOT217, HOT220, HOT221, HOT222, HOT223, HOT224, HOT225, HOT226, HOT227, HOT228, HOT229, HOT230, HOT231, HOT232, HOT233, HOT234, HOT235, HOT236, HOT237, HOT239, HOT241, HOT242, HOT243, HOT244, HOT245, HOT246, HOT247, HOT248, HOT249, HOT250, HOT251, HOT252, HOT253, HOT254, HOT255, HOT256, HOT257, HOT258, HOT259, HOT260, HOT261, HOT262, HOT263, HOT264, HOT265, HOT266, HOT267, HOT268, HOT269, HOT270, HOT271, HOT272, HOT273, HOT274, HOT275, HOT277, HOT279, HOT280, HOT281, HOT283, HOT284, HOT285, HOT286, HOT287, HOT289, HOT290, HOT291, HOT292, HOT293, HOT294, HOT295, HOT296, HOT297, HOT298, HOT300, HOT301, HOT303, HOT304, HOT305, HOT306, HOT307, HOT309, HOT311, HOT312, HOT313, HOT314, HOT315, HOT316, HOT317, HOT319, HOT320, HOT321, HOT322, HOT323, HOT324, HOT325, HOT326, HOT327, HOT328, HOT329, HOT330, HOT331, HOT332, HOT333, HOT335, HOT336, HOT337, HOT338, HOT339, in situ, insitu, in-situ, l12, Light 12, Liquid Scintillation Counter, North Pacific Ocean, observation, Pacific Ocean, primary production, rep, reprocessed, UH, University of Hawaii, University of Hawai&#x27;i at Manoa</dd><dt><span>lat_max :</span></dt><dd>22.75</dd><dt><span>lat_min :</span></dt><dd>22.75</dd><dt><span>lon_max :</span></dt><dd>-158</dd><dt><span>lon_min :</span></dt><dd>-158</dd><dt><span>long_name :</span></dt><dd>Light 12</dd><dt><span>make :</span></dt><dd>Observation</dd><dt><span>process_level :</span></dt><dd>Reprocessed</dd><dt><span>refrences :</span></dt><dd>nan</dd><dt><span>sensor :</span></dt><dd>Liquid Scintillation Counter</dd><dt><span>spatial_resolution :</span></dt><dd>Irregular</dd><dt><span>study_domain :</span></dt><dd>Biology+Biogeochemistry</dd><dt><span>table_name :</span></dt><dd>tblHOT_PP_v2022</dd><dt><span>temporal_resolution :</span></dt><dd>Irregular</dd><dt><span>time_max :</span></dt><dd>2022-09-01T00:00:00.000Z</dd><dt><span>time_min :</span></dt><dd>1988-10-31T00:00:00.000Z</dd><dt><span>units :</span></dt><dd>mg C/m3</dd><dt><span>variable_25th :</span></dt><dd>0.94</dd><dt><span>variable_50th :</span></dt><dd>3.53</dd><dt><span>variable_75th :</span></dt><dd>5.953</dd><dt><span>variable_count :</span></dt><dd>2153.0</dd><dt><span>variable_max :</span></dt><dd>27.22</dd><dt><span>variable_mean :</span></dt><dd>3.7070334417</dd><dt><span>variable_min :</span></dt><dd>0.015</dd><dt><span>variable_std :</span></dt><dd>2.9437358664</dd><dt><span>visualize :</span></dt><dd>1.0</dd></dl></div><div class='xr-var-data'><pre>[5496 values with dtype=float64]</pre></div></li><li class='xr-var-item'><div class='xr-var-name'><span>nitrate</span></div><div class='xr-var-dims'>(time, latitude, longitude, depth)</div><div class='xr-var-dtype'>float64</div><div class='xr-var-preview xr-preview'>...</div><input id='attrs-ab96a7ae-c115-45f7-8c1f-50883f56c423' class='xr-var-attrs-in' type='checkbox' ><label for='attrs-ab96a7ae-c115-45f7-8c1f-50883f56c423' title='Show/Hide attributes'><svg class='icon xr-icon-file-text2'><use xlink:href='#icon-file-text2'></use></svg></label><input id='data-6a7f17f4-87df-4384-8c46-228822c53298' class='xr-var-data-in' type='checkbox'><label for='data-6a7f17f4-87df-4384-8c46-228822c53298' title='Show/Hide data repr'><svg class='icon xr-icon-database'><use xlink:href='#icon-database'></use></svg></label><div class='xr-var-attrs'><dl class='xr-attrs'><dt><span>acknowledgement :</span></dt><dd>&#x27;&#x27;Data obtained via the Hawaii Ocean Time-series HOT-DOGS application; University of Hawai&#x27;i at Manoa. National Science Foundation Award # 1756517&#x27;&#x27;. https://hahana.soest.hawaii.edu/hot/hot-dogs/</dd><dt><span>comment :</span></dt><dd>nan</dd><dt><span>data_source :</span></dt><dd>Hawaii Ocean Time-series (HOT)</dd><dt><span>dataset_description :</span></dt><dd>âThe majority of our sampling effort, approximately 60-72 h per standard HOT cruise, is spent at Station ALOHA. High vertical resolution environmental data are collected with a Sea-Bird CTD having external temperature (T), conductivity (C), dissolved oxygen (DO) and fluorescence (F) sensors and an internal pressure (P) sensor. A Sea-Bird 24-place carousel and an aluminum rosette that is capable of supporting 24 12-L PVC bottles are used to obtain water samples from desired depths. The CTD and rosette are deployed on a 3-conductor cable allowing for real-time display of data and for tripping the bottles at specific depths of interest. The CTD system takes 24 samples s-1 and the raw data are stored both on the computer and, for redundancy, on VHS-format video tapes. In February 2006, before cruise 178, we replaced our 24 aging 12-L PVC rosette bottles with new 12-L bottles fabricated at the University of Hawaii Engineering Support Facility, using plans and specifications from John Bullister (PMEL).â Time is in GMT.  [https://www.soest.hawaii.edu/HOT_WOCE/intro.html](https://www.soest.hawaii.edu/HOT_WOCE/intro.html)</dd><dt><span>dataset_id :</span></dt><dd>749</dd><dt><span>dataset_name :</span></dt><dd>CTD Hydrography HOT v2022</dd><dt><span>dataset_short_name :</span></dt><dd>HOT_CTD_v2022</dd><dt><span>depth_max :</span></dt><dd>4732.3762993821</dd><dt><span>depth_min :</span></dt><dd>0</dd><dt><span>distributor :</span></dt><dd>http://hahana.soest.hawaii.edu/hot/hot-dogs/</dd><dt><span>id :</span></dt><dd>18786</dd><dt><span>keywords :</span></dt><dd>ALOHA, Angel White Lab, Bottle, CTD, CTD Hydrography HOT v2022, &#x27;&#x27;Data obtained via the Hawaii Ocean Time-series HOT-DOGS application; University of Hawai&#x27;i at Manoa. National Science Foundation Award # 1756517&#x27;&#x27;. https://hahana.soest.hawaii.edu/hot/hot-dogs/, David Karl Lab, Hawaii Ocean Time Series, Hawaii Ocean Time-series (HOT), HOT, HOT_CTD_v2022, HOT001, HOT002, HOT003, HOT004, HOT005, HOT006, HOT007, HOT008, HOT009, HOT010, HOT011, HOT012, HOT013, HOT014, HOT015, HOT016, HOT017, HOT018, HOT019, HOT020, HOT022, HOT023, HOT024, HOT025, HOT026, HOT027, HOT028, HOT029, HOT030, HOT031, HOT032, HOT033, HOT034, HOT035, HOT036, HOT037, HOT038, HOT039, HOT040, HOT041, HOT042, HOT043, HOT044, HOT045, HOT046, HOT047, HOT049, HOT050, HOT051, HOT052, HOT053, HOT054, HOT055, HOT056, HOT057, HOT058, HOT059, HOT060, HOT061, HOT062, HOT063, HOT064, HOT065, HOT066, HOT067, HOT068, HOT069, HOT070, HOT071, HOT072, HOT073, HOT074, HOT075, HOT076, HOT077, HOT078, HOT079, HOT080, HOT081, HOT082, HOT083, HOT084, HOT085, HOT086, HOT087, HOT088, HOT089, HOT090, HOT091, HOT092, HOT093, HOT094, HOT095, HOT096, HOT097, HOT098, HOT099, HOT100, HOT101, HOT102, HOT103, HOT104, HOT105, HOT106, HOT107, HOT108, HOT109, HOT110, HOT111, HOT112, HOT113, HOT114, HOT115, HOT116, HOT117, HOT118, HOT119, HOT120, HOT121, HOT122, HOT123, HOT124, HOT125, HOT126, HOT127, HOT128, HOT129, HOT130, HOT131, HOT132, HOT133, HOT134, HOT135, HOT136, HOT137, HOT138, HOT139, HOT140, HOT141, HOT142, HOT143, HOT144, HOT145, HOT146, HOT147, HOT148, HOT149, HOT150, HOT151, HOT152, HOT153, HOT154, HOT155, HOT156, HOT157, HOT158, HOT159, HOT160, HOT161, HOT162, HOT163, HOT164, HOT165, HOT166, HOT167, HOT168, HOT169, HOT170, HOT171, HOT172, HOT173, HOT174, HOT175, HOT176, HOT177, HOT178, HOT179, HOT180, HOT181, HOT182, HOT183, HOT184, HOT185, HOT186, HOT187, HOT188, HOT189, HOT190, HOT191, HOT192, HOT193, HOT194, HOT195, HOT196, HOT197, HOT198, HOT199, HOT200, HOT201, HOT202, HOT203, HOT204, HOT205, HOT206, HOT208, HOT209, HOT210, HOT211, HOT212, HOT213, HOT214, HOT215, HOT216, HOT217, HOT219, HOT220, HOT221, HOT222, HOT223, HOT224, HOT225, HOT226, HOT227, HOT228, HOT229, HOT230, HOT231, HOT232, HOT233, HOT234, HOT235, HOT236, HOT237, HOT238, HOT239, HOT240, HOT241, HOT242, HOT243, HOT244, HOT245, HOT246, HOT247, HOT248, HOT249, HOT250, HOT251, HOT252, HOT253, HOT254, HOT255, HOT256, HOT257, HOT258, HOT259, HOT260, HOT261, HOT262, HOT263, HOT264, HOT265, HOT266, HOT267, HOT268, HOT269, HOT270, HOT271, HOT272, HOT273, HOT274, HOT275, HOT277, HOT278, HOT279, HOT280, HOT281, HOT282, HOT283, HOT284, HOT285, HOT286, HOT287, HOT288, HOT289, HOT290, HOT291, HOT292, HOT293, HOT294, HOT295, HOT296, HOT297, HOT298, HOT299, HOT300, HOT301, HOT302, HOT303, HOT304, HOT305, HOT306, HOT307, HOT308, HOT309, HOT310, HOT311, HOT312, HOT313, HOT314, HOT315, HOT316, HOT317, HOT318, HOT319, HOT320, HOT321, HOT322, HOT323, HOT324, HOT325, HOT326, HOT327, HOT328, HOT329, HOT330, HOT331, HOT332, HOT333, HOT334, HOT335, HOT336, HOT337, HOT338, HOT339, http://hahana.soest.hawaii.edu/hot/hot-dogs/, hydrography, in situ, insitu, in-situ, nit, Nitrate (NO3), North Pacific Ocean, observation, Pacific Ocean, rep, reprocessed, UH, University of Hawaii, University of Hawai&#x27;i at Manoa</dd><dt><span>lat_max :</span></dt><dd>22.75</dd><dt><span>lat_min :</span></dt><dd>22.75</dd><dt><span>lon_max :</span></dt><dd>-158</dd><dt><span>lon_min :</span></dt><dd>-158</dd><dt><span>long_name :</span></dt><dd>Nitrate (NO3)</dd><dt><span>make :</span></dt><dd>Observation</dd><dt><span>process_level :</span></dt><dd>Reprocessed</dd><dt><span>refrences :</span></dt><dd>nan</dd><dt><span>sensor :</span></dt><dd>Bottle</dd><dt><span>spatial_resolution :</span></dt><dd>Irregular</dd><dt><span>study_domain :</span></dt><dd>Biogeochemistry</dd><dt><span>table_name :</span></dt><dd>tblHOT_CTD_v2022</dd><dt><span>temporal_resolution :</span></dt><dd>Irregular</dd><dt><span>time_max :</span></dt><dd>2022-09-01T00:00:00.000Z</dd><dt><span>time_min :</span></dt><dd>1988-10-31T00:00:00.000Z</dd><dt><span>units :</span></dt><dd>Âµmol/kg</dd><dt><span>variable_25th :</span></dt><dd>18.5535</dd><dt><span>variable_50th :</span></dt><dd>41.315</dd><dt><span>variable_75th :</span></dt><dd>117.622</dd><dt><span>variable_count :</span></dt><dd>97876.0</dd><dt><span>variable_max :</span></dt><dd>126.992</dd><dt><span>variable_mean :</span></dt><dd>58.5273810944</dd><dt><span>variable_min :</span></dt><dd>-4.861</dd><dt><span>variable_std :</span></dt><dd>45.9353097477</dd><dt><span>visualize :</span></dt><dd>1.0</dd></dl></div><div class='xr-var-data'><pre>[5496 values with dtype=float64]</pre></div></li><li class='xr-var-item'><div class='xr-var-name'><span>nitrogen</span></div><div class='xr-var-dims'>(time, is_day, latitude, longitude, depth, sieve_size)</div><div class='xr-var-dtype'>float64</div><div class='xr-var-preview xr-preview'>...</div><input id='attrs-a734c58b-82a0-4f0f-a7d1-49a9575b58e1' class='xr-var-attrs-in' type='checkbox' ><label for='attrs-a734c58b-82a0-4f0f-a7d1-49a9575b58e1' title='Show/Hide attributes'><svg class='icon xr-icon-file-text2'><use xlink:href='#icon-file-text2'></use></svg></label><input id='data-a4c6207d-4dd3-4cd0-a447-ed79011ca99e' class='xr-var-data-in' type='checkbox'><label for='data-a4c6207d-4dd3-4cd0-a447-ed79011ca99e' title='Show/Hide data repr'><svg class='icon xr-icon-database'><use xlink:href='#icon-database'></use></svg></label><div class='xr-var-attrs'><dl class='xr-attrs'><dt><span>acknowledgement :</span></dt><dd>&#x27;&#x27;Data obtained via the Hawaii Ocean Time-series HOT-DOGS application; University of Hawai&#x27;i at Manoa. National Science Foundation Award # 1756517&#x27;&#x27;. https://hahana.soest.hawaii.edu/hot/hot-dogs/</dd><dt><span>comment :</span></dt><dd>nan</dd><dt><span>data_source :</span></dt><dd>Hawaii Ocean Time-series (HOT)</dd><dt><span>dataset_description :</span></dt><dd>âLarge zooplankton and micronekton play important roles in the export of organic material from surface waters in the open ocean. Global Ocean Flux planning models suggest that the relationship between primary production and passive particulate export flux is strongly influenced by size structure of the zooplankton community (e.g., PaffenhÃ¶ffer &amp; Knowles, 1979; Small et al., 1987; Frost, 1984). Active vertical migrations also have important implications for the transport and transformation of surface-derived organic particulates to dissolved inorganic constituents at depth (Longhurst &amp; Harrison, 1988; Longhurst et al., 1990; Al-Mutairi &amp; Landry, 2001; Hannides et al., 2008). The zooplankton component of the time-series sampling effort allows such processes to be considered in the interpretation of seasonal and interannual variations in measured flux and the elemental mass balance (e.g., carbon and nitrogen sources and sinks) of the euphotic zone. At Station ALOHA, 6 net tows are scheduled per cruise. Three midnight (2200 - 0200) and 3 mid-day (1000 - 1400) oblique tows are done using a 1-m2 net (3-m length) with 202-Âµm mesh Nitex netting. The net is towed obliquely at approximately 1 knot, from the surface to approximately 175 m and then back to the surface. Towing time is approximately 20-30 minutes. The tows are subsequently size-fractioned and analyzed for mesozooplankton wet and dry weight and C and N biomass.â Rows with no depth value have been removed. Time is in local time (HST). [https://hahana.soest.hawaii.edu/hot/methods/plankton.html](https://hahana.soest.hawaii.edu/hot/methods/plankton.html)</dd><dt><span>dataset_id :</span></dt><dd>758</dd><dt><span>dataset_name :</span></dt><dd>Zooplankton Community Structure HOT v2022</dd><dt><span>dataset_short_name :</span></dt><dd>HOT_Macrozooplankton_v2022</dd><dt><span>depth_max :</span></dt><dd>271</dd><dt><span>depth_min :</span></dt><dd>9</dd><dt><span>distributor :</span></dt><dd>Hawaii Ocean Time-series http://hahana.soest.hawaii.edu/hot/hot-dogs/</dd><dt><span>id :</span></dt><dd>18834</dd><dt><span>keywords :</span></dt><dd>ALOHA, Angel White Lab, &#x27;&#x27;Data obtained via the Hawaii Ocean Time-series HOT-DOGS application; University of Hawai&#x27;i at Manoa. National Science Foundation Award # 1756517&#x27;&#x27;. https://hahana.soest.hawaii.edu/hot/hot-dogs/, David Karl Lab, Elemental Analyzer, Hawaii Ocean Time Series, Hawaii Ocean Time-series (HOT), Hawaii Ocean Time-series Data Organization &amp; Graphical System (HOT-DOGS) http://hahana.soest.hawaii.edu/hot/hot-dogs/, HOT, HOT_Macrozooplankton_v2022, HOT052, HOT053, HOT054, HOT055, HOT056, HOT057, HOT058, HOT060, HOT061, HOT062, HOT063, HOT064, HOT065, HOT066, HOT067, HOT068, HOT069, HOT070, HOT071, HOT072, HOT073, HOT074, HOT075, HOT076, HOT077, HOT078, HOT079, HOT080, HOT081, HOT082, HOT083, HOT084, HOT085, HOT086, HOT087, HOT088, HOT089, HOT090, HOT091, HOT092, HOT093, HOT094, HOT095, HOT096, HOT097, HOT098, HOT099, HOT100, HOT101, HOT102, HOT103, HOT104, HOT105, HOT106, HOT107, HOT108, HOT109, HOT110, HOT111, HOT112, HOT113, HOT114, HOT115, HOT116, HOT117, HOT118, HOT119, HOT120, HOT121, HOT122, HOT123, HOT124, HOT125, HOT126, HOT127, HOT129, HOT130, HOT131, HOT132, HOT133, HOT134, HOT135, HOT136, HOT137, HOT138, HOT139, HOT140, HOT141, HOT143, HOT144, HOT145, HOT146, HOT147, HOT148, HOT149, HOT150, HOT151, HOT152, HOT153, HOT154, HOT155, HOT156, HOT157, HOT158, HOT159, HOT160, HOT162, HOT163, HOT164, HOT165, HOT166, HOT167, HOT168, HOT170, HOT171, HOT172, HOT174, HOT175, HOT176, HOT178, HOT179, HOT180, HOT181, HOT182, HOT183, HOT184, HOT185, HOT186, HOT187, HOT188, HOT189, HOT190, HOT191, HOT192, HOT193, HOT194, HOT195, HOT196, HOT197, HOT198, HOT199, HOT200, HOT201, HOT202, HOT203, HOT204, HOT205, HOT206, HOT208, HOT209, HOT210, HOT211, HOT212, HOT213, HOT214, HOT215, HOT216, HOT217, HOT220, HOT221, HOT222, HOT223, HOT224, HOT225, HOT226, HOT227, HOT228, HOT229, HOT230, HOT231, HOT232, HOT233, HOT234, HOT235, HOT236, HOT237, HOT238, HOT239, HOT240, HOT241, HOT242, HOT243, HOT244, HOT245, HOT246, HOT247, HOT248, HOT249, HOT250, HOT251, HOT252, HOT253, HOT254, HOT255, HOT256, HOT257, HOT258, HOT259, HOT260, HOT261, HOT262, HOT263, HOT264, HOT265, HOT266, HOT267, HOT268, HOT269, HOT270, HOT271, HOT272, HOT273, HOT274, HOT275, HOT277, HOT278, HOT279, HOT280, HOT281, HOT282, HOT283, HOT284, HOT285, HOT286, HOT287, HOT288, HOT289, HOT290, HOT291, HOT292, HOT293, HOT294, HOT295, HOT296, HOT297, HOT298, HOT299, HOT300, HOT301, HOT302, HOT303, HOT304, HOT305, HOT306, HOT307, HOT309, HOT310, HOT311, HOT312, HOT313, HOT314, HOT315, HOT316, HOT317, HOT319, HOT320, HOT321, HOT322, HOT323, HOT324, HOT325, HOT326, HOT327, HOT328, HOT329, HOT330, HOT331, HOT332, HOT333, HOT334, HOT335, HOT336, HOT337, HOT338, HOT339, in situ, insitu, in-situ, Macrozooplankton, nit, Nitrogen, North Pacific Ocean, observation, Pacific Ocean, rep, reprocessed, UH, University of Hawaii, University of Hawai&#x27;i at Manoa, zooplankton, Zooplankton Community Structure HOT v2022</dd><dt><span>lat_max :</span></dt><dd>22.75</dd><dt><span>lat_min :</span></dt><dd>22.75</dd><dt><span>lon_max :</span></dt><dd>-158</dd><dt><span>lon_min :</span></dt><dd>-158</dd><dt><span>long_name :</span></dt><dd>Nitrogen</dd><dt><span>make :</span></dt><dd>Observation</dd><dt><span>process_level :</span></dt><dd>Reprocessed</dd><dt><span>refrences :</span></dt><dd>nan</dd><dt><span>sensor :</span></dt><dd>Elemental Analyzer</dd><dt><span>spatial_resolution :</span></dt><dd>Irregular</dd><dt><span>study_domain :</span></dt><dd>Biology</dd><dt><span>table_name :</span></dt><dd>tblHOT_Macrozooplankton_v2022</dd><dt><span>temporal_resolution :</span></dt><dd>Irregular</dd><dt><span>time_max :</span></dt><dd>2022-09-02T22:13:00.000Z</dd><dt><span>time_min :</span></dt><dd>1994-02-17T11:08:00.000Z</dd><dt><span>units :</span></dt><dd>mg/m3</dd><dt><span>variable_25th :</span></dt><dd>8.77</dd><dt><span>variable_50th :</span></dt><dd>16.65</dd><dt><span>variable_75th :</span></dt><dd>29.1</dd><dt><span>variable_count :</span></dt><dd>7833.0</dd><dt><span>variable_max :</span></dt><dd>316.22</dd><dt><span>variable_mean :</span></dt><dd>26.1673037151</dd><dt><span>variable_min :</span></dt><dd>0.0</dd><dt><span>variable_std :</span></dt><dd>30.1510475429</dd><dt><span>visualize :</span></dt><dd>1.0</dd></dl></div><div class='xr-var-data'><pre>[54960 values with dtype=float64]</pre></div></li><li class='xr-var-item'><div class='xr-var-name'><span>oxy</span></div><div class='xr-var-dims'>(time, latitude, longitude, depth)</div><div class='xr-var-dtype'>float64</div><div class='xr-var-preview xr-preview'>...</div><input id='attrs-95fff454-cd3c-4cc3-913d-a4af2d84d129' class='xr-var-attrs-in' type='checkbox' ><label for='attrs-95fff454-cd3c-4cc3-913d-a4af2d84d129' title='Show/Hide attributes'><svg class='icon xr-icon-file-text2'><use xlink:href='#icon-file-text2'></use></svg></label><input id='data-f1ede329-4b75-4bf8-a196-657b80990368' class='xr-var-data-in' type='checkbox'><label for='data-f1ede329-4b75-4bf8-a196-657b80990368' title='Show/Hide data repr'><svg class='icon xr-icon-database'><use xlink:href='#icon-database'></use></svg></label><div class='xr-var-attrs'><dl class='xr-attrs'><dt><span>acknowledgement :</span></dt><dd>&#x27;&#x27;Data obtained via the Hawaii Ocean Time-series HOT-DOGS application; University of Hawai&#x27;i at Manoa. National Science Foundation Award # 1756517&#x27;&#x27;. https://hahana.soest.hawaii.edu/hot/hot-dogs/</dd><dt><span>comment :</span></dt><dd>nan</dd><dt><span>data_source :</span></dt><dd>Hawaii Ocean Time-series (HOT)</dd><dt><span>dataset_description :</span></dt><dd>âThe majority of our sampling effort, approximately 60-72 h per standard HOT cruise, is spent at Station ALOHA. High vertical resolution environmental data are collected with a Sea-Bird CTD having external temperature (T), conductivity (C), dissolved oxygen (DO) and fluorescence (F) sensors and an internal pressure (P) sensor. A Sea-Bird 24-place carousel and an aluminum rosette that is capable of supporting 24 12-L PVC bottles are used to obtain water samples from desired depths. The CTD and rosette are deployed on a 3-conductor cable allowing for real-time display of data and for tripping the bottles at specific depths of interest. The CTD system takes 24 samples s-1 and the raw data are stored both on the computer and, for redundancy, on VHS-format video tapes. In February 2006, before cruise 178, we replaced our 24 aging 12-L PVC rosette bottles with new 12-L bottles fabricated at the University of Hawaii Engineering Support Facility, using plans and specifications from John Bullister (PMEL).â Time is in GMT.  [https://www.soest.hawaii.edu/HOT_WOCE/intro.html](https://www.soest.hawaii.edu/HOT_WOCE/intro.html)</dd><dt><span>dataset_id :</span></dt><dd>749</dd><dt><span>dataset_name :</span></dt><dd>CTD Hydrography HOT v2022</dd><dt><span>dataset_short_name :</span></dt><dd>HOT_CTD_v2022</dd><dt><span>depth_max :</span></dt><dd>4732.3762993821</dd><dt><span>depth_min :</span></dt><dd>0</dd><dt><span>distributor :</span></dt><dd>http://hahana.soest.hawaii.edu/hot/hot-dogs/</dd><dt><span>id :</span></dt><dd>18783</dd><dt><span>keywords :</span></dt><dd>ALOHA, Angel White Lab, CTD, CTD Hydrography HOT v2022, &#x27;&#x27;Data obtained via the Hawaii Ocean Time-series HOT-DOGS application; University of Hawai&#x27;i at Manoa. National Science Foundation Award # 1756517&#x27;&#x27;. https://hahana.soest.hawaii.edu/hot/hot-dogs/, David Karl Lab, Hawaii Ocean Time Series, Hawaii Ocean Time-series (HOT), HOT, HOT_CTD_v2022, HOT001, HOT002, HOT003, HOT004, HOT005, HOT006, HOT007, HOT008, HOT009, HOT010, HOT011, HOT012, HOT013, HOT014, HOT015, HOT016, HOT017, HOT018, HOT019, HOT020, HOT022, HOT023, HOT024, HOT025, HOT026, HOT027, HOT028, HOT029, HOT030, HOT031, HOT032, HOT033, HOT034, HOT035, HOT036, HOT037, HOT038, HOT039, HOT040, HOT041, HOT042, HOT043, HOT044, HOT045, HOT046, HOT047, HOT049, HOT050, HOT051, HOT052, HOT053, HOT054, HOT055, HOT056, HOT057, HOT058, HOT059, HOT060, HOT061, HOT062, HOT063, HOT064, HOT065, HOT066, HOT067, HOT068, HOT069, HOT070, HOT071, HOT072, HOT073, HOT074, HOT075, HOT076, HOT077, HOT078, HOT079, HOT080, HOT081, HOT082, HOT083, HOT084, HOT085, HOT086, HOT087, HOT088, HOT089, HOT090, HOT091, HOT092, HOT093, HOT094, HOT095, HOT096, HOT097, HOT098, HOT099, HOT100, HOT101, HOT102, HOT103, HOT104, HOT105, HOT106, HOT107, HOT108, HOT109, HOT110, HOT111, HOT112, HOT113, HOT114, HOT115, HOT116, HOT117, HOT118, HOT119, HOT120, HOT121, HOT122, HOT123, HOT124, HOT125, HOT126, HOT127, HOT128, HOT129, HOT130, HOT131, HOT132, HOT133, HOT134, HOT135, HOT136, HOT137, HOT138, HOT139, HOT140, HOT141, HOT142, HOT143, HOT144, HOT145, HOT146, HOT147, HOT148, HOT149, HOT150, HOT151, HOT152, HOT153, HOT154, HOT155, HOT156, HOT157, HOT158, HOT159, HOT160, HOT161, HOT162, HOT163, HOT164, HOT165, HOT166, HOT167, HOT168, HOT169, HOT170, HOT171, HOT172, HOT173, HOT174, HOT175, HOT176, HOT177, HOT178, HOT179, HOT180, HOT181, HOT182, HOT183, HOT184, HOT185, HOT186, HOT187, HOT188, HOT189, HOT190, HOT191, HOT192, HOT193, HOT194, HOT195, HOT196, HOT197, HOT198, HOT199, HOT200, HOT201, HOT202, HOT203, HOT204, HOT205, HOT206, HOT208, HOT209, HOT210, HOT211, HOT212, HOT213, HOT214, HOT215, HOT216, HOT217, HOT219, HOT220, HOT221, HOT222, HOT223, HOT224, HOT225, HOT226, HOT227, HOT228, HOT229, HOT230, HOT231, HOT232, HOT233, HOT234, HOT235, HOT236, HOT237, HOT238, HOT239, HOT240, HOT241, HOT242, HOT243, HOT244, HOT245, HOT246, HOT247, HOT248, HOT249, HOT250, HOT251, HOT252, HOT253, HOT254, HOT255, HOT256, HOT257, HOT258, HOT259, HOT260, HOT261, HOT262, HOT263, HOT264, HOT265, HOT266, HOT267, HOT268, HOT269, HOT270, HOT271, HOT272, HOT273, HOT274, HOT275, HOT277, HOT278, HOT279, HOT280, HOT281, HOT282, HOT283, HOT284, HOT285, HOT286, HOT287, HOT288, HOT289, HOT290, HOT291, HOT292, HOT293, HOT294, HOT295, HOT296, HOT297, HOT298, HOT299, HOT300, HOT301, HOT302, HOT303, HOT304, HOT305, HOT306, HOT307, HOT308, HOT309, HOT310, HOT311, HOT312, HOT313, HOT314, HOT315, HOT316, HOT317, HOT318, HOT319, HOT320, HOT321, HOT322, HOT323, HOT324, HOT325, HOT326, HOT327, HOT328, HOT329, HOT330, HOT331, HOT332, HOT333, HOT334, HOT335, HOT336, HOT337, HOT338, HOT339, http://hahana.soest.hawaii.edu/hot/hot-dogs/, hydrography, in situ, insitu, in-situ, North Pacific Ocean, observation, oxy, Oxygen, Pacific Ocean, rep, reprocessed, UH, University of Hawaii, University of Hawai&#x27;i at Manoa</dd><dt><span>lat_max :</span></dt><dd>22.75</dd><dt><span>lat_min :</span></dt><dd>22.75</dd><dt><span>lon_max :</span></dt><dd>-158</dd><dt><span>lon_min :</span></dt><dd>-158</dd><dt><span>long_name :</span></dt><dd>Oxygen</dd><dt><span>make :</span></dt><dd>Observation</dd><dt><span>process_level :</span></dt><dd>Reprocessed</dd><dt><span>refrences :</span></dt><dd>nan</dd><dt><span>sensor :</span></dt><dd>CTD</dd><dt><span>spatial_resolution :</span></dt><dd>Irregular</dd><dt><span>study_domain :</span></dt><dd>Biogeochemistry</dd><dt><span>table_name :</span></dt><dd>tblHOT_CTD_v2022</dd><dt><span>temporal_resolution :</span></dt><dd>Irregular</dd><dt><span>time_max :</span></dt><dd>2022-09-01T00:00:00.000Z</dd><dt><span>time_min :</span></dt><dd>1988-10-31T00:00:00.000Z</dd><dt><span>units :</span></dt><dd>Âµmol/kg</dd><dt><span>variable_25th :</span></dt><dd>76.0</dd><dt><span>variable_50th :</span></dt><dd>118.7</dd><dt><span>variable_75th :</span></dt><dd>148.1</dd><dt><span>variable_count :</span></dt><dd>764753.0</dd><dt><span>variable_max :</span></dt><dd>234.1</dd><dt><span>variable_mean :</span></dt><dd>113.5036685047</dd><dt><span>variable_min :</span></dt><dd>4.9</dd><dt><span>variable_std :</span></dt><dd>46.6146292699</dd><dt><span>visualize :</span></dt><dd>1.0</dd></dl></div><div class='xr-var-data'><pre>[5496 values with dtype=float64]</pre></div></li><li class='xr-var-item'><div class='xr-var-name'><span>pbact</span></div><div class='xr-var-dims'>(time, latitude, longitude, depth)</div><div class='xr-var-dtype'>float64</div><div class='xr-var-preview xr-preview'>...</div><input id='attrs-ecf0cc00-f26b-4101-9fcb-8d874abec9f1' class='xr-var-attrs-in' type='checkbox' ><label for='attrs-ecf0cc00-f26b-4101-9fcb-8d874abec9f1' title='Show/Hide attributes'><svg class='icon xr-icon-file-text2'><use xlink:href='#icon-file-text2'></use></svg></label><input id='data-30b980cc-111f-4aa9-8aac-bcf784c9e799' class='xr-var-data-in' type='checkbox'><label for='data-30b980cc-111f-4aa9-8aac-bcf784c9e799' title='Show/Hide data repr'><svg class='icon xr-icon-database'><use xlink:href='#icon-database'></use></svg></label><div class='xr-var-attrs'><dl class='xr-attrs'><dt><span>acknowledgement :</span></dt><dd>&#x27;&#x27;Data obtained via the Hawaii Ocean Time-series HOT-DOGS application; University of Hawai&#x27;i at Manoa. National Science Foundation Award # 1756517&#x27;&#x27;. https://hahana.soest.hawaii.edu/hot/hot-dogs/</dd><dt><span>comment :</span></dt><dd>nan</dd><dt><span>data_source :</span></dt><dd>Hawaii Ocean Time-series (HOT)</dd><dt><span>dataset_description :</span></dt><dd>This dataset consists of measurements of photosynthetic primary production, chlorophyll a and phaeopigment concentrations, and flow cytometry-based determinations of the abundances of heterotrophic bacteria and the picophytoplankton - Prochlorococcus, Synechococcus and small eukaryotic phytoplankton. All samples were collected through the Hawaii Ocean Time-series (HOT) program, which began in 1988 with ~monthly cruises to Station ALOHA (A Long-term Oligotrophic Habitat Assessment; 22Â° 10 N, 158Â° 00 W). Photosynthetic production of organic matter was measured by the 14C tracer method. Details on the methods employed over the years are detailed in Karl et al., Progress in Oceanography ([https://doi.org/10.1016/j.pocean.2021.102563](https://doi.org/10.1016/j.pocean.2021.102563)). Flow cytometry-based determinations of microbial abundances were made using an EPICS 753 flow cytometer on HOT 22-173 (December 1980 â September 2005) and a B/D Influx flow cytometer beginning with HOT 174 . Details on the flow cytometry methods are provided at [https://hahana.soest.hawaii.edu/hot/methods/bact.html](https://hahana.soest.hawaii.edu/hot/methods/bact.html). Samples for chlorophyll a and phaeopigments were collected onto Whatman GF/F filters and extracted with 100% acetone and measured on a Turner Designs Model 10-AU fluorometer based on standard techniques described in Strickland and Parsons, 1972. Method details available at [https://hahana.soest.hawaii.edu/hot/methods/chl.html](https://hahana.soest.hawaii.edu/hot/methods/chl.html). Time is in a separate column from date. Dates and times are in local time (HST).</dd><dt><span>dataset_id :</span></dt><dd>750</dd><dt><span>dataset_name :</span></dt><dd>HOT Primary Production and Flow Cytometry v2022</dd><dt><span>dataset_short_name :</span></dt><dd>HOT_PP_v2022</dd><dt><span>depth_max :</span></dt><dd>178</dd><dt><span>depth_min :</span></dt><dd>0</dd><dt><span>distributor :</span></dt><dd>Hawaii Ocean Time-series http://hahana.soest.hawaii.edu/hot/hot-dogs/</dd><dt><span>id :</span></dt><dd>18796</dd><dt><span>keywords :</span></dt><dd>ALOHA, Angel White Lab, biology, &#x27;&#x27;Data obtained via the Hawaii Ocean Time-series HOT-DOGS application; University of Hawai&#x27;i at Manoa. National Science Foundation Award # 1756517&#x27;&#x27;. https://hahana.soest.hawaii.edu/hot/hot-dogs/, David Karl Lab, Flow Cytometer, fluorometer, Hawaii Ocean Time Series, Hawaii Ocean Time-series (HOT), Hawaii Ocean Time-series Data Organization &amp; Graphical System (HOT-DOGS) http://hahana.soest.hawaii.edu/hot/hot-dogs/, HOT, HOT Primary Production and Flow Cytometry v2022, HOT_PP_v2022, HOT001, HOT002, HOT003, HOT004, HOT005, HOT006, HOT007, HOT008, HOT009, HOT010, HOT011, HOT012, HOT013, HOT014, HOT015, HOT016, HOT017, HOT018, HOT019, HOT022, HOT023, HOT025, HOT026, HOT027, HOT028, HOT029, HOT030, HOT031, HOT032, HOT033, HOT034, HOT035, HOT036, HOT037, HOT038, HOT039, HOT040, HOT041, HOT044, HOT045, HOT046, HOT047, HOT049, HOT050, HOT051, HOT052, HOT053, HOT054, HOT055, HOT056, HOT057, HOT058, HOT060, HOT061, HOT062, HOT063, HOT064, HOT065, HOT066, HOT067, HOT068, HOT069, HOT070, HOT071, HOT072, HOT073, HOT074, HOT075, HOT076, HOT077, HOT078, HOT079, HOT080, HOT081, HOT082, HOT083, HOT084, HOT085, HOT086, HOT087, HOT089, HOT090, HOT091, HOT092, HOT093, HOT094, HOT095, HOT096, HOT097, HOT098, HOT099, HOT100, HOT101, HOT102, HOT103, HOT104, HOT105, HOT106, HOT107, HOT108, HOT109, HOT110, HOT111, HOT112, HOT113, HOT114, HOT115, HOT116, HOT117, HOT118, HOT119, HOT120, HOT121, HOT122, HOT124, HOT125, HOT126, HOT127, HOT128, HOT129, HOT130, HOT131, HOT132, HOT134, HOT135, HOT136, HOT137, HOT139, HOT140, HOT141, HOT142, HOT143, HOT144, HOT145, HOT146, HOT147, HOT148, HOT149, HOT150, HOT151, HOT152, HOT153, HOT154, HOT155, HOT156, HOT157, HOT158, HOT159, HOT160, HOT162, HOT163, HOT164, HOT165, HOT166, HOT167, HOT168, HOT169, HOT170, HOT171, HOT172, HOT173, HOT174, HOT175, HOT176, HOT177, HOT178, HOT179, HOT180, HOT181, HOT182, HOT184, HOT185, HOT186, HOT187, HOT188, HOT189, HOT190, HOT191, HOT193, HOT194, HOT195, HOT196, HOT197, HOT198, HOT199, HOT200, HOT201, HOT202, HOT203, HOT204, HOT205, HOT206, HOT208, HOT209, HOT210, HOT211, HOT212, HOT213, HOT214, HOT215, HOT216, HOT217, HOT220, HOT221, HOT222, HOT223, HOT224, HOT225, HOT226, HOT227, HOT228, HOT229, HOT230, HOT231, HOT232, HOT233, HOT234, HOT235, HOT236, HOT237, HOT239, HOT241, HOT242, HOT243, HOT244, HOT245, HOT246, HOT247, HOT248, HOT249, HOT250, HOT251, HOT252, HOT253, HOT254, HOT255, HOT256, HOT257, HOT258, HOT259, HOT260, HOT261, HOT262, HOT263, HOT264, HOT265, HOT266, HOT267, HOT268, HOT269, HOT270, HOT271, HOT272, HOT273, HOT274, HOT275, HOT277, HOT279, HOT280, HOT281, HOT283, HOT284, HOT285, HOT286, HOT287, HOT289, HOT290, HOT291, HOT292, HOT293, HOT294, HOT295, HOT296, HOT297, HOT298, HOT300, HOT301, HOT303, HOT304, HOT305, HOT306, HOT307, HOT309, HOT311, HOT312, HOT313, HOT314, HOT315, HOT316, HOT317, HOT319, HOT320, HOT321, HOT322, HOT323, HOT324, HOT325, HOT326, HOT327, HOT328, HOT329, HOT330, HOT331, HOT332, HOT333, HOT335, HOT336, HOT337, HOT338, HOT339, in situ, insitu, in-situ, North Pacific Ocean, observation, Pacific Ocean, pbact, primary production, Prochlorococcus, rep, reprocessed, UH, University of Hawaii, University of Hawai&#x27;i at Manoa</dd><dt><span>lat_max :</span></dt><dd>22.75</dd><dt><span>lat_min :</span></dt><dd>22.75</dd><dt><span>lon_max :</span></dt><dd>-158</dd><dt><span>lon_min :</span></dt><dd>-158</dd><dt><span>long_name :</span></dt><dd>Prochlorococcus</dd><dt><span>make :</span></dt><dd>Observation</dd><dt><span>process_level :</span></dt><dd>Reprocessed</dd><dt><span>refrences :</span></dt><dd>nan</dd><dt><span>sensor :</span></dt><dd>Flow Cytometer</dd><dt><span>spatial_resolution :</span></dt><dd>Irregular</dd><dt><span>study_domain :</span></dt><dd>Biology+Biogeochemistry</dd><dt><span>table_name :</span></dt><dd>tblHOT_PP_v2022</dd><dt><span>temporal_resolution :</span></dt><dd>Irregular</dd><dt><span>time_max :</span></dt><dd>2022-09-01T00:00:00.000Z</dd><dt><span>time_min :</span></dt><dd>1988-10-31T00:00:00.000Z</dd><dt><span>units :</span></dt><dd>#/ml</dd><dt><span>variable_25th :</span></dt><dd>30709.0</dd><dt><span>variable_50th :</span></dt><dd>137536.0</dd><dt><span>variable_75th :</span></dt><dd>204649.0</dd><dt><span>variable_count :</span></dt><dd>1981.0</dd><dt><span>variable_max :</span></dt><dd>369400.0</dd><dt><span>variable_mean :</span></dt><dd>126099.200908632</dd><dt><span>variable_min :</span></dt><dd>15.0</dd><dt><span>variable_std :</span></dt><dd>92719.8502366352</dd><dt><span>visualize :</span></dt><dd>1.0</dd></dl></div><div class='xr-var-data'><pre>[5496 values with dtype=float64]</pre></div></li><li class='xr-var-item'><div class='xr-var-name'><span>phaeo</span></div><div class='xr-var-dims'>(time, latitude, longitude, depth)</div><div class='xr-var-dtype'>float64</div><div class='xr-var-preview xr-preview'>...</div><input id='attrs-cb78f8f0-ca0d-4007-8380-826531e20ac8' class='xr-var-attrs-in' type='checkbox' ><label for='attrs-cb78f8f0-ca0d-4007-8380-826531e20ac8' title='Show/Hide attributes'><svg class='icon xr-icon-file-text2'><use xlink:href='#icon-file-text2'></use></svg></label><input id='data-40567d96-1e8d-416f-a9c9-82cf3aad51c6' class='xr-var-data-in' type='checkbox'><label for='data-40567d96-1e8d-416f-a9c9-82cf3aad51c6' title='Show/Hide data repr'><svg class='icon xr-icon-database'><use xlink:href='#icon-database'></use></svg></label><div class='xr-var-attrs'><dl class='xr-attrs'><dt><span>acknowledgement :</span></dt><dd>&#x27;&#x27;Data obtained via the Hawaii Ocean Time-series HOT-DOGS application; University of Hawai&#x27;i at Manoa. National Science Foundation Award # 1756517&#x27;&#x27;. https://hahana.soest.hawaii.edu/hot/hot-dogs/</dd><dt><span>comment :</span></dt><dd>nan</dd><dt><span>data_source :</span></dt><dd>Hawaii Ocean Time-series (HOT)</dd><dt><span>dataset_description :</span></dt><dd>This dataset consists of measurements of photosynthetic primary production, chlorophyll a and phaeopigment concentrations, and flow cytometry-based determinations of the abundances of heterotrophic bacteria and the picophytoplankton - Prochlorococcus, Synechococcus and small eukaryotic phytoplankton. All samples were collected through the Hawaii Ocean Time-series (HOT) program, which began in 1988 with ~monthly cruises to Station ALOHA (A Long-term Oligotrophic Habitat Assessment; 22Â° 10 N, 158Â° 00 W). Photosynthetic production of organic matter was measured by the 14C tracer method. Details on the methods employed over the years are detailed in Karl et al., Progress in Oceanography ([https://doi.org/10.1016/j.pocean.2021.102563](https://doi.org/10.1016/j.pocean.2021.102563)). Flow cytometry-based determinations of microbial abundances were made using an EPICS 753 flow cytometer on HOT 22-173 (December 1980 â September 2005) and a B/D Influx flow cytometer beginning with HOT 174 . Details on the flow cytometry methods are provided at [https://hahana.soest.hawaii.edu/hot/methods/bact.html](https://hahana.soest.hawaii.edu/hot/methods/bact.html). Samples for chlorophyll a and phaeopigments were collected onto Whatman GF/F filters and extracted with 100% acetone and measured on a Turner Designs Model 10-AU fluorometer based on standard techniques described in Strickland and Parsons, 1972. Method details available at [https://hahana.soest.hawaii.edu/hot/methods/chl.html](https://hahana.soest.hawaii.edu/hot/methods/chl.html). Time is in a separate column from date. Dates and times are in local time (HST).</dd><dt><span>dataset_id :</span></dt><dd>750</dd><dt><span>dataset_name :</span></dt><dd>HOT Primary Production and Flow Cytometry v2022</dd><dt><span>dataset_short_name :</span></dt><dd>HOT_PP_v2022</dd><dt><span>depth_max :</span></dt><dd>178</dd><dt><span>depth_min :</span></dt><dd>0</dd><dt><span>distributor :</span></dt><dd>Hawaii Ocean Time-series http://hahana.soest.hawaii.edu/hot/hot-dogs/</dd><dt><span>id :</span></dt><dd>18792</dd><dt><span>keywords :</span></dt><dd>ALOHA, Angel White Lab, biology, &#x27;&#x27;Data obtained via the Hawaii Ocean Time-series HOT-DOGS application; University of Hawai&#x27;i at Manoa. National Science Foundation Award # 1756517&#x27;&#x27;. https://hahana.soest.hawaii.edu/hot/hot-dogs/, David Karl Lab, fluorometer, Hawaii Ocean Time Series, Hawaii Ocean Time-series (HOT), Hawaii Ocean Time-series Data Organization &amp; Graphical System (HOT-DOGS) http://hahana.soest.hawaii.edu/hot/hot-dogs/, HOT, HOT Primary Production and Flow Cytometry v2022, HOT_PP_v2022, HOT001, HOT002, HOT003, HOT004, HOT005, HOT006, HOT007, HOT008, HOT009, HOT010, HOT011, HOT012, HOT013, HOT014, HOT015, HOT016, HOT017, HOT018, HOT019, HOT022, HOT023, HOT025, HOT026, HOT027, HOT028, HOT029, HOT030, HOT031, HOT032, HOT033, HOT034, HOT035, HOT036, HOT037, HOT038, HOT039, HOT040, HOT041, HOT044, HOT045, HOT046, HOT047, HOT049, HOT050, HOT051, HOT052, HOT053, HOT054, HOT055, HOT056, HOT057, HOT058, HOT060, HOT061, HOT062, HOT063, HOT064, HOT065, HOT066, HOT067, HOT068, HOT069, HOT070, HOT071, HOT072, HOT073, HOT074, HOT075, HOT076, HOT077, HOT078, HOT079, HOT080, HOT081, HOT082, HOT083, HOT084, HOT085, HOT086, HOT087, HOT089, HOT090, HOT091, HOT092, HOT093, HOT094, HOT095, HOT096, HOT097, HOT098, HOT099, HOT100, HOT101, HOT102, HOT103, HOT104, HOT105, HOT106, HOT107, HOT108, HOT109, HOT110, HOT111, HOT112, HOT113, HOT114, HOT115, HOT116, HOT117, HOT118, HOT119, HOT120, HOT121, HOT122, HOT124, HOT125, HOT126, HOT127, HOT128, HOT129, HOT130, HOT131, HOT132, HOT134, HOT135, HOT136, HOT137, HOT139, HOT140, HOT141, HOT142, HOT143, HOT144, HOT145, HOT146, HOT147, HOT148, HOT149, HOT150, HOT151, HOT152, HOT153, HOT154, HOT155, HOT156, HOT157, HOT158, HOT159, HOT160, HOT162, HOT163, HOT164, HOT165, HOT166, HOT167, HOT168, HOT169, HOT170, HOT171, HOT172, HOT173, HOT174, HOT175, HOT176, HOT177, HOT178, HOT179, HOT180, HOT181, HOT182, HOT184, HOT185, HOT186, HOT187, HOT188, HOT189, HOT190, HOT191, HOT193, HOT194, HOT195, HOT196, HOT197, HOT198, HOT199, HOT200, HOT201, HOT202, HOT203, HOT204, HOT205, HOT206, HOT208, HOT209, HOT210, HOT211, HOT212, HOT213, HOT214, HOT215, HOT216, HOT217, HOT220, HOT221, HOT222, HOT223, HOT224, HOT225, HOT226, HOT227, HOT228, HOT229, HOT230, HOT231, HOT232, HOT233, HOT234, HOT235, HOT236, HOT237, HOT239, HOT241, HOT242, HOT243, HOT244, HOT245, HOT246, HOT247, HOT248, HOT249, HOT250, HOT251, HOT252, HOT253, HOT254, HOT255, HOT256, HOT257, HOT258, HOT259, HOT260, HOT261, HOT262, HOT263, HOT264, HOT265, HOT266, HOT267, HOT268, HOT269, HOT270, HOT271, HOT272, HOT273, HOT274, HOT275, HOT277, HOT279, HOT280, HOT281, HOT283, HOT284, HOT285, HOT286, HOT287, HOT289, HOT290, HOT291, HOT292, HOT293, HOT294, HOT295, HOT296, HOT297, HOT298, HOT300, HOT301, HOT303, HOT304, HOT305, HOT306, HOT307, HOT309, HOT311, HOT312, HOT313, HOT314, HOT315, HOT316, HOT317, HOT319, HOT320, HOT321, HOT322, HOT323, HOT324, HOT325, HOT326, HOT327, HOT328, HOT329, HOT330, HOT331, HOT332, HOT333, HOT335, HOT336, HOT337, HOT338, HOT339, in situ, insitu, in-situ, North Pacific Ocean, observation, Pacific Ocean, phaeo, Pheopigments, primary production, rep, reprocessed, UH, University of Hawaii, University of Hawai&#x27;i at Manoa</dd><dt><span>lat_max :</span></dt><dd>22.75</dd><dt><span>lat_min :</span></dt><dd>22.75</dd><dt><span>lon_max :</span></dt><dd>-158</dd><dt><span>lon_min :</span></dt><dd>-158</dd><dt><span>long_name :</span></dt><dd>Pheopigments</dd><dt><span>make :</span></dt><dd>Observation</dd><dt><span>process_level :</span></dt><dd>Reprocessed</dd><dt><span>refrences :</span></dt><dd>nan</dd><dt><span>sensor :</span></dt><dd>fluorometer</dd><dt><span>spatial_resolution :</span></dt><dd>Irregular</dd><dt><span>study_domain :</span></dt><dd>Biology+Biogeochemistry</dd><dt><span>table_name :</span></dt><dd>tblHOT_PP_v2022</dd><dt><span>temporal_resolution :</span></dt><dd>Irregular</dd><dt><span>time_max :</span></dt><dd>2022-09-01T00:00:00.000Z</dd><dt><span>time_min :</span></dt><dd>1988-10-31T00:00:00.000Z</dd><dt><span>units :</span></dt><dd>mg/m3</dd><dt><span>variable_25th :</span></dt><dd>0.065</dd><dt><span>variable_50th :</span></dt><dd>0.116</dd><dt><span>variable_75th :</span></dt><dd>0.238</dd><dt><span>variable_count :</span></dt><dd>2579.0</dd><dt><span>variable_max :</span></dt><dd>0.887</dd><dt><span>variable_mean :</span></dt><dd>0.1697029857</dd><dt><span>variable_min :</span></dt><dd>0.0</dd><dt><span>variable_std :</span></dt><dd>0.140998804</dd><dt><span>visualize :</span></dt><dd>1.0</dd></dl></div><div class='xr-var-data'><pre>[5496 values with dtype=float64]</pre></div></li><li class='xr-var-item'><div class='xr-var-name'><span>press</span></div><div class='xr-var-dims'>(time, latitude, longitude, depth)</div><div class='xr-var-dtype'>float64</div><div class='xr-var-preview xr-preview'>...</div><input id='attrs-88f9c4f2-8081-4988-b12e-0ebb64506bff' class='xr-var-attrs-in' type='checkbox' ><label for='attrs-88f9c4f2-8081-4988-b12e-0ebb64506bff' title='Show/Hide attributes'><svg class='icon xr-icon-file-text2'><use xlink:href='#icon-file-text2'></use></svg></label><input id='data-e115ba8c-89bb-45c0-9b8b-85f39ee31673' class='xr-var-data-in' type='checkbox'><label for='data-e115ba8c-89bb-45c0-9b8b-85f39ee31673' title='Show/Hide data repr'><svg class='icon xr-icon-database'><use xlink:href='#icon-database'></use></svg></label><div class='xr-var-attrs'><dl class='xr-attrs'><dt><span>acknowledgement :</span></dt><dd>&#x27;&#x27;Data obtained via the Hawaii Ocean Time-series HOT-DOGS application; University of Hawai&#x27;i at Manoa. National Science Foundation Award # 1756517&#x27;&#x27;. https://hahana.soest.hawaii.edu/hot/hot-dogs/</dd><dt><span>comment :</span></dt><dd>nan</dd><dt><span>data_source :</span></dt><dd>Hawaii Ocean Time-series (HOT)</dd><dt><span>dataset_description :</span></dt><dd>âThe majority of our sampling effort, approximately 60-72 h per standard HOT cruise, is spent at Station ALOHA. High vertical resolution environmental data are collected with a Sea-Bird CTD having external temperature (T), conductivity (C), dissolved oxygen (DO) and fluorescence (F) sensors and an internal pressure (P) sensor. A Sea-Bird 24-place carousel and an aluminum rosette that is capable of supporting 24 12-L PVC bottles are used to obtain water samples from desired depths. The CTD and rosette are deployed on a 3-conductor cable allowing for real-time display of data and for tripping the bottles at specific depths of interest. The CTD system takes 24 samples s-1 and the raw data are stored both on the computer and, for redundancy, on VHS-format video tapes. In February 2006, before cruise 178, we replaced our 24 aging 12-L PVC rosette bottles with new 12-L bottles fabricated at the University of Hawaii Engineering Support Facility, using plans and specifications from John Bullister (PMEL).â Time is in GMT.  [https://www.soest.hawaii.edu/HOT_WOCE/intro.html](https://www.soest.hawaii.edu/HOT_WOCE/intro.html)</dd><dt><span>dataset_id :</span></dt><dd>749</dd><dt><span>dataset_name :</span></dt><dd>CTD Hydrography HOT v2022</dd><dt><span>dataset_short_name :</span></dt><dd>HOT_CTD_v2022</dd><dt><span>depth_max :</span></dt><dd>4732.3762993821</dd><dt><span>depth_min :</span></dt><dd>0</dd><dt><span>distributor :</span></dt><dd>http://hahana.soest.hawaii.edu/hot/hot-dogs/</dd><dt><span>id :</span></dt><dd>18778</dd><dt><span>keywords :</span></dt><dd>ALOHA, Angel White Lab, CTD, CTD Hydrography HOT v2022, &#x27;&#x27;Data obtained via the Hawaii Ocean Time-series HOT-DOGS application; University of Hawai&#x27;i at Manoa. National Science Foundation Award # 1756517&#x27;&#x27;. https://hahana.soest.hawaii.edu/hot/hot-dogs/, David Karl Lab, Hawaii Ocean Time Series, Hawaii Ocean Time-series (HOT), HOT, HOT_CTD_v2022, HOT001, HOT002, HOT003, HOT004, HOT005, HOT006, HOT007, HOT008, HOT009, HOT010, HOT011, HOT012, HOT013, HOT014, HOT015, HOT016, HOT017, HOT018, HOT019, HOT020, HOT022, HOT023, HOT024, HOT025, HOT026, HOT027, HOT028, HOT029, HOT030, HOT031, HOT032, HOT033, HOT034, HOT035, HOT036, HOT037, HOT038, HOT039, HOT040, HOT041, HOT042, HOT043, HOT044, HOT045, HOT046, HOT047, HOT049, HOT050, HOT051, HOT052, HOT053, HOT054, HOT055, HOT056, HOT057, HOT058, HOT059, HOT060, HOT061, HOT062, HOT063, HOT064, HOT065, HOT066, HOT067, HOT068, HOT069, HOT070, HOT071, HOT072, HOT073, HOT074, HOT075, HOT076, HOT077, HOT078, HOT079, HOT080, HOT081, HOT082, HOT083, HOT084, HOT085, HOT086, HOT087, HOT088, HOT089, HOT090, HOT091, HOT092, HOT093, HOT094, HOT095, HOT096, HOT097, HOT098, HOT099, HOT100, HOT101, HOT102, HOT103, HOT104, HOT105, HOT106, HOT107, HOT108, HOT109, HOT110, HOT111, HOT112, HOT113, HOT114, HOT115, HOT116, HOT117, HOT118, HOT119, HOT120, HOT121, HOT122, HOT123, HOT124, HOT125, HOT126, HOT127, HOT128, HOT129, HOT130, HOT131, HOT132, HOT133, HOT134, HOT135, HOT136, HOT137, HOT138, HOT139, HOT140, HOT141, HOT142, HOT143, HOT144, HOT145, HOT146, HOT147, HOT148, HOT149, HOT150, HOT151, HOT152, HOT153, HOT154, HOT155, HOT156, HOT157, HOT158, HOT159, HOT160, HOT161, HOT162, HOT163, HOT164, HOT165, HOT166, HOT167, HOT168, HOT169, HOT170, HOT171, HOT172, HOT173, HOT174, HOT175, HOT176, HOT177, HOT178, HOT179, HOT180, HOT181, HOT182, HOT183, HOT184, HOT185, HOT186, HOT187, HOT188, HOT189, HOT190, HOT191, HOT192, HOT193, HOT194, HOT195, HOT196, HOT197, HOT198, HOT199, HOT200, HOT201, HOT202, HOT203, HOT204, HOT205, HOT206, HOT208, HOT209, HOT210, HOT211, HOT212, HOT213, HOT214, HOT215, HOT216, HOT217, HOT219, HOT220, HOT221, HOT222, HOT223, HOT224, HOT225, HOT226, HOT227, HOT228, HOT229, HOT230, HOT231, HOT232, HOT233, HOT234, HOT235, HOT236, HOT237, HOT238, HOT239, HOT240, HOT241, HOT242, HOT243, HOT244, HOT245, HOT246, HOT247, HOT248, HOT249, HOT250, HOT251, HOT252, HOT253, HOT254, HOT255, HOT256, HOT257, HOT258, HOT259, HOT260, HOT261, HOT262, HOT263, HOT264, HOT265, HOT266, HOT267, HOT268, HOT269, HOT270, HOT271, HOT272, HOT273, HOT274, HOT275, HOT277, HOT278, HOT279, HOT280, HOT281, HOT282, HOT283, HOT284, HOT285, HOT286, HOT287, HOT288, HOT289, HOT290, HOT291, HOT292, HOT293, HOT294, HOT295, HOT296, HOT297, HOT298, HOT299, HOT300, HOT301, HOT302, HOT303, HOT304, HOT305, HOT306, HOT307, HOT308, HOT309, HOT310, HOT311, HOT312, HOT313, HOT314, HOT315, HOT316, HOT317, HOT318, HOT319, HOT320, HOT321, HOT322, HOT323, HOT324, HOT325, HOT326, HOT327, HOT328, HOT329, HOT330, HOT331, HOT332, HOT333, HOT334, HOT335, HOT336, HOT337, HOT338, HOT339, http://hahana.soest.hawaii.edu/hot/hot-dogs/, hydrography, in situ, insitu, in-situ, North Pacific Ocean, observation, Pacific Ocean, press, Pressure, rep, reprocessed, UH, University of Hawaii, University of Hawai&#x27;i at Manoa</dd><dt><span>lat_max :</span></dt><dd>22.75</dd><dt><span>lat_min :</span></dt><dd>22.75</dd><dt><span>lon_max :</span></dt><dd>-158</dd><dt><span>lon_min :</span></dt><dd>-158</dd><dt><span>long_name :</span></dt><dd>Pressure</dd><dt><span>make :</span></dt><dd>Observation</dd><dt><span>process_level :</span></dt><dd>Reprocessed</dd><dt><span>refrences :</span></dt><dd>nan</dd><dt><span>sensor :</span></dt><dd>CTD</dd><dt><span>spatial_resolution :</span></dt><dd>Irregular</dd><dt><span>study_domain :</span></dt><dd>Biogeochemistry</dd><dt><span>table_name :</span></dt><dd>tblHOT_CTD_v2022</dd><dt><span>temporal_resolution :</span></dt><dd>Irregular</dd><dt><span>time_max :</span></dt><dd>2022-09-01T00:00:00.000Z</dd><dt><span>time_min :</span></dt><dd>1988-10-31T00:00:00.000Z</dd><dt><span>units :</span></dt><dd>decibars</dd><dt><span>variable_25th :</span></dt><dd>1184.0</dd><dt><span>variable_50th :</span></dt><dd>2382.0</dd><dt><span>variable_75th :</span></dt><dd>3586.0</dd><dt><span>variable_count :</span></dt><dd>787345.0</dd><dt><span>variable_max :</span></dt><dd>4816.0</dd><dt><span>variable_mean :</span></dt><dd>2386.6229543593</dd><dt><span>variable_min :</span></dt><dd>0.0</dd><dt><span>variable_std :</span></dt><dd>1385.5224317547</dd><dt><span>visualize :</span></dt><dd>1.0</dd></dl></div><div class='xr-var-data'><pre>[5496 values with dtype=float64]</pre></div></li><li class='xr-var-item'><div class='xr-var-name'><span>sal</span></div><div class='xr-var-dims'>(time, latitude, longitude, depth)</div><div class='xr-var-dtype'>float64</div><div class='xr-var-preview xr-preview'>...</div><input id='attrs-8f55f3ac-b3d1-4fe6-ad16-695ae8f8c76a' class='xr-var-attrs-in' type='checkbox' ><label for='attrs-8f55f3ac-b3d1-4fe6-ad16-695ae8f8c76a' title='Show/Hide attributes'><svg class='icon xr-icon-file-text2'><use xlink:href='#icon-file-text2'></use></svg></label><input id='data-70dd3091-11b1-417b-bcf0-d8218d24d0df' class='xr-var-data-in' type='checkbox'><label for='data-70dd3091-11b1-417b-bcf0-d8218d24d0df' title='Show/Hide data repr'><svg class='icon xr-icon-database'><use xlink:href='#icon-database'></use></svg></label><div class='xr-var-attrs'><dl class='xr-attrs'><dt><span>acknowledgement :</span></dt><dd>&#x27;&#x27;Data obtained via the Hawaii Ocean Time-series HOT-DOGS application; University of Hawai&#x27;i at Manoa. National Science Foundation Award # 1756517&#x27;&#x27;. https://hahana.soest.hawaii.edu/hot/hot-dogs/</dd><dt><span>comment :</span></dt><dd>nan</dd><dt><span>data_source :</span></dt><dd>Hawaii Ocean Time-series (HOT)</dd><dt><span>dataset_description :</span></dt><dd>âThe majority of our sampling effort, approximately 60-72 h per standard HOT cruise, is spent at Station ALOHA. High vertical resolution environmental data are collected with a Sea-Bird CTD having external temperature (T), conductivity (C), dissolved oxygen (DO) and fluorescence (F) sensors and an internal pressure (P) sensor. A Sea-Bird 24-place carousel and an aluminum rosette that is capable of supporting 24 12-L PVC bottles are used to obtain water samples from desired depths. The CTD and rosette are deployed on a 3-conductor cable allowing for real-time display of data and for tripping the bottles at specific depths of interest. The CTD system takes 24 samples s-1 and the raw data are stored both on the computer and, for redundancy, on VHS-format video tapes. In February 2006, before cruise 178, we replaced our 24 aging 12-L PVC rosette bottles with new 12-L bottles fabricated at the University of Hawaii Engineering Support Facility, using plans and specifications from John Bullister (PMEL).â Time is in GMT.  [https://www.soest.hawaii.edu/HOT_WOCE/intro.html](https://www.soest.hawaii.edu/HOT_WOCE/intro.html)</dd><dt><span>dataset_id :</span></dt><dd>749</dd><dt><span>dataset_name :</span></dt><dd>CTD Hydrography HOT v2022</dd><dt><span>dataset_short_name :</span></dt><dd>HOT_CTD_v2022</dd><dt><span>depth_max :</span></dt><dd>4732.3762993821</dd><dt><span>depth_min :</span></dt><dd>0</dd><dt><span>distributor :</span></dt><dd>http://hahana.soest.hawaii.edu/hot/hot-dogs/</dd><dt><span>id :</span></dt><dd>18782</dd><dt><span>keywords :</span></dt><dd>ALOHA, Angel White Lab, CTD, CTD Hydrography HOT v2022, &#x27;&#x27;Data obtained via the Hawaii Ocean Time-series HOT-DOGS application; University of Hawai&#x27;i at Manoa. National Science Foundation Award # 1756517&#x27;&#x27;. https://hahana.soest.hawaii.edu/hot/hot-dogs/, David Karl Lab, Hawaii Ocean Time Series, Hawaii Ocean Time-series (HOT), HOT, HOT_CTD_v2022, HOT001, HOT002, HOT003, HOT004, HOT005, HOT006, HOT007, HOT008, HOT009, HOT010, HOT011, HOT012, HOT013, HOT014, HOT015, HOT016, HOT017, HOT018, HOT019, HOT020, HOT022, HOT023, HOT024, HOT025, HOT026, HOT027, HOT028, HOT029, HOT030, HOT031, HOT032, HOT033, HOT034, HOT035, HOT036, HOT037, HOT038, HOT039, HOT040, HOT041, HOT042, HOT043, HOT044, HOT045, HOT046, HOT047, HOT049, HOT050, HOT051, HOT052, HOT053, HOT054, HOT055, HOT056, HOT057, HOT058, HOT059, HOT060, HOT061, HOT062, HOT063, HOT064, HOT065, HOT066, HOT067, HOT068, HOT069, HOT070, HOT071, HOT072, HOT073, HOT074, HOT075, HOT076, HOT077, HOT078, HOT079, HOT080, HOT081, HOT082, HOT083, HOT084, HOT085, HOT086, HOT087, HOT088, HOT089, HOT090, HOT091, HOT092, HOT093, HOT094, HOT095, HOT096, HOT097, HOT098, HOT099, HOT100, HOT101, HOT102, HOT103, HOT104, HOT105, HOT106, HOT107, HOT108, HOT109, HOT110, HOT111, HOT112, HOT113, HOT114, HOT115, HOT116, HOT117, HOT118, HOT119, HOT120, HOT121, HOT122, HOT123, HOT124, HOT125, HOT126, HOT127, HOT128, HOT129, HOT130, HOT131, HOT132, HOT133, HOT134, HOT135, HOT136, HOT137, HOT138, HOT139, HOT140, HOT141, HOT142, HOT143, HOT144, HOT145, HOT146, HOT147, HOT148, HOT149, HOT150, HOT151, HOT152, HOT153, HOT154, HOT155, HOT156, HOT157, HOT158, HOT159, HOT160, HOT161, HOT162, HOT163, HOT164, HOT165, HOT166, HOT167, HOT168, HOT169, HOT170, HOT171, HOT172, HOT173, HOT174, HOT175, HOT176, HOT177, HOT178, HOT179, HOT180, HOT181, HOT182, HOT183, HOT184, HOT185, HOT186, HOT187, HOT188, HOT189, HOT190, HOT191, HOT192, HOT193, HOT194, HOT195, HOT196, HOT197, HOT198, HOT199, HOT200, HOT201, HOT202, HOT203, HOT204, HOT205, HOT206, HOT208, HOT209, HOT210, HOT211, HOT212, HOT213, HOT214, HOT215, HOT216, HOT217, HOT219, HOT220, HOT221, HOT222, HOT223, HOT224, HOT225, HOT226, HOT227, HOT228, HOT229, HOT230, HOT231, HOT232, HOT233, HOT234, HOT235, HOT236, HOT237, HOT238, HOT239, HOT240, HOT241, HOT242, HOT243, HOT244, HOT245, HOT246, HOT247, HOT248, HOT249, HOT250, HOT251, HOT252, HOT253, HOT254, HOT255, HOT256, HOT257, HOT258, HOT259, HOT260, HOT261, HOT262, HOT263, HOT264, HOT265, HOT266, HOT267, HOT268, HOT269, HOT270, HOT271, HOT272, HOT273, HOT274, HOT275, HOT277, HOT278, HOT279, HOT280, HOT281, HOT282, HOT283, HOT284, HOT285, HOT286, HOT287, HOT288, HOT289, HOT290, HOT291, HOT292, HOT293, HOT294, HOT295, HOT296, HOT297, HOT298, HOT299, HOT300, HOT301, HOT302, HOT303, HOT304, HOT305, HOT306, HOT307, HOT308, HOT309, HOT310, HOT311, HOT312, HOT313, HOT314, HOT315, HOT316, HOT317, HOT318, HOT319, HOT320, HOT321, HOT322, HOT323, HOT324, HOT325, HOT326, HOT327, HOT328, HOT329, HOT330, HOT331, HOT332, HOT333, HOT334, HOT335, HOT336, HOT337, HOT338, HOT339, http://hahana.soest.hawaii.edu/hot/hot-dogs/, hydrography, in situ, insitu, in-situ, North Pacific Ocean, observation, Pacific Ocean, rep, reprocessed, sal, Salinity, UH, University of Hawaii, University of Hawai&#x27;i at Manoa</dd><dt><span>lat_max :</span></dt><dd>22.75</dd><dt><span>lat_min :</span></dt><dd>22.75</dd><dt><span>lon_max :</span></dt><dd>-158</dd><dt><span>lon_min :</span></dt><dd>-158</dd><dt><span>long_name :</span></dt><dd>Salinity</dd><dt><span>make :</span></dt><dd>Observation</dd><dt><span>process_level :</span></dt><dd>Reprocessed</dd><dt><span>refrences :</span></dt><dd>nan</dd><dt><span>sensor :</span></dt><dd>CTD</dd><dt><span>spatial_resolution :</span></dt><dd>Irregular</dd><dt><span>study_domain :</span></dt><dd>Biogeochemistry</dd><dt><span>table_name :</span></dt><dd>tblHOT_CTD_v2022</dd><dt><span>temporal_resolution :</span></dt><dd>Irregular</dd><dt><span>time_max :</span></dt><dd>2022-09-01T00:00:00.000Z</dd><dt><span>time_min :</span></dt><dd>1988-10-31T00:00:00.000Z</dd><dt><span>units :</span></dt><dd>PSS-78</dd><dt><span>variable_25th :</span></dt><dd>34.5617</dd><dt><span>variable_50th :</span></dt><dd>34.6542</dd><dt><span>variable_75th :</span></dt><dd>34.6838</dd><dt><span>variable_count :</span></dt><dd>782881.0</dd><dt><span>variable_max :</span></dt><dd>38.0968</dd><dt><span>variable_mean :</span></dt><dd>34.6026392578</dd><dt><span>variable_min :</span></dt><dd>34.0165</dd><dt><span>variable_std :</span></dt><dd>0.1985516996</dd><dt><span>visualize :</span></dt><dd>1.0</dd></dl></div><div class='xr-var-data'><pre>[5496 values with dtype=float64]</pre></div></li><li class='xr-var-item'><div class='xr-var-name'><span>sbact</span></div><div class='xr-var-dims'>(time, latitude, longitude, depth)</div><div class='xr-var-dtype'>float64</div><div class='xr-var-preview xr-preview'>...</div><input id='attrs-a0a98d89-b088-4cb7-bead-fd5e72eaf9eb' class='xr-var-attrs-in' type='checkbox' ><label for='attrs-a0a98d89-b088-4cb7-bead-fd5e72eaf9eb' title='Show/Hide attributes'><svg class='icon xr-icon-file-text2'><use xlink:href='#icon-file-text2'></use></svg></label><input id='data-2096e256-91b5-4cca-a3fd-c01b17eca61a' class='xr-var-data-in' type='checkbox'><label for='data-2096e256-91b5-4cca-a3fd-c01b17eca61a' title='Show/Hide data repr'><svg class='icon xr-icon-database'><use xlink:href='#icon-database'></use></svg></label><div class='xr-var-attrs'><dl class='xr-attrs'><dt><span>acknowledgement :</span></dt><dd>&#x27;&#x27;Data obtained via the Hawaii Ocean Time-series HOT-DOGS application; University of Hawai&#x27;i at Manoa. National Science Foundation Award # 1756517&#x27;&#x27;. https://hahana.soest.hawaii.edu/hot/hot-dogs/</dd><dt><span>comment :</span></dt><dd>nan</dd><dt><span>data_source :</span></dt><dd>Hawaii Ocean Time-series (HOT)</dd><dt><span>dataset_description :</span></dt><dd>This dataset consists of measurements of photosynthetic primary production, chlorophyll a and phaeopigment concentrations, and flow cytometry-based determinations of the abundances of heterotrophic bacteria and the picophytoplankton - Prochlorococcus, Synechococcus and small eukaryotic phytoplankton. All samples were collected through the Hawaii Ocean Time-series (HOT) program, which began in 1988 with ~monthly cruises to Station ALOHA (A Long-term Oligotrophic Habitat Assessment; 22Â° 10 N, 158Â° 00 W). Photosynthetic production of organic matter was measured by the 14C tracer method. Details on the methods employed over the years are detailed in Karl et al., Progress in Oceanography ([https://doi.org/10.1016/j.pocean.2021.102563](https://doi.org/10.1016/j.pocean.2021.102563)). Flow cytometry-based determinations of microbial abundances were made using an EPICS 753 flow cytometer on HOT 22-173 (December 1980 â September 2005) and a B/D Influx flow cytometer beginning with HOT 174 . Details on the flow cytometry methods are provided at [https://hahana.soest.hawaii.edu/hot/methods/bact.html](https://hahana.soest.hawaii.edu/hot/methods/bact.html). Samples for chlorophyll a and phaeopigments were collected onto Whatman GF/F filters and extracted with 100% acetone and measured on a Turner Designs Model 10-AU fluorometer based on standard techniques described in Strickland and Parsons, 1972. Method details available at [https://hahana.soest.hawaii.edu/hot/methods/chl.html](https://hahana.soest.hawaii.edu/hot/methods/chl.html). Time is in a separate column from date. Dates and times are in local time (HST).</dd><dt><span>dataset_id :</span></dt><dd>750</dd><dt><span>dataset_name :</span></dt><dd>HOT Primary Production and Flow Cytometry v2022</dd><dt><span>dataset_short_name :</span></dt><dd>HOT_PP_v2022</dd><dt><span>depth_max :</span></dt><dd>178</dd><dt><span>depth_min :</span></dt><dd>0</dd><dt><span>distributor :</span></dt><dd>Hawaii Ocean Time-series http://hahana.soest.hawaii.edu/hot/hot-dogs/</dd><dt><span>id :</span></dt><dd>18798</dd><dt><span>keywords :</span></dt><dd>ALOHA, Angel White Lab, biology, &#x27;&#x27;Data obtained via the Hawaii Ocean Time-series HOT-DOGS application; University of Hawai&#x27;i at Manoa. National Science Foundation Award # 1756517&#x27;&#x27;. https://hahana.soest.hawaii.edu/hot/hot-dogs/, David Karl Lab, Flow Cytometer, fluorometer, Hawaii Ocean Time Series, Hawaii Ocean Time-series (HOT), Hawaii Ocean Time-series Data Organization &amp; Graphical System (HOT-DOGS) http://hahana.soest.hawaii.edu/hot/hot-dogs/, HOT, HOT Primary Production and Flow Cytometry v2022, HOT_PP_v2022, HOT001, HOT002, HOT003, HOT004, HOT005, HOT006, HOT007, HOT008, HOT009, HOT010, HOT011, HOT012, HOT013, HOT014, HOT015, HOT016, HOT017, HOT018, HOT019, HOT022, HOT023, HOT025, HOT026, HOT027, HOT028, HOT029, HOT030, HOT031, HOT032, HOT033, HOT034, HOT035, HOT036, HOT037, HOT038, HOT039, HOT040, HOT041, HOT044, HOT045, HOT046, HOT047, HOT049, HOT050, HOT051, HOT052, HOT053, HOT054, HOT055, HOT056, HOT057, HOT058, HOT060, HOT061, HOT062, HOT063, HOT064, HOT065, HOT066, HOT067, HOT068, HOT069, HOT070, HOT071, HOT072, HOT073, HOT074, HOT075, HOT076, HOT077, HOT078, HOT079, HOT080, HOT081, HOT082, HOT083, HOT084, HOT085, HOT086, HOT087, HOT089, HOT090, HOT091, HOT092, HOT093, HOT094, HOT095, HOT096, HOT097, HOT098, HOT099, HOT100, HOT101, HOT102, HOT103, HOT104, HOT105, HOT106, HOT107, HOT108, HOT109, HOT110, HOT111, HOT112, HOT113, HOT114, HOT115, HOT116, HOT117, HOT118, HOT119, HOT120, HOT121, HOT122, HOT124, HOT125, HOT126, HOT127, HOT128, HOT129, HOT130, HOT131, HOT132, HOT134, HOT135, HOT136, HOT137, HOT139, HOT140, HOT141, HOT142, HOT143, HOT144, HOT145, HOT146, HOT147, HOT148, HOT149, HOT150, HOT151, HOT152, HOT153, HOT154, HOT155, HOT156, HOT157, HOT158, HOT159, HOT160, HOT162, HOT163, HOT164, HOT165, HOT166, HOT167, HOT168, HOT169, HOT170, HOT171, HOT172, HOT173, HOT174, HOT175, HOT176, HOT177, HOT178, HOT179, HOT180, HOT181, HOT182, HOT184, HOT185, HOT186, HOT187, HOT188, HOT189, HOT190, HOT191, HOT193, HOT194, HOT195, HOT196, HOT197, HOT198, HOT199, HOT200, HOT201, HOT202, HOT203, HOT204, HOT205, HOT206, HOT208, HOT209, HOT210, HOT211, HOT212, HOT213, HOT214, HOT215, HOT216, HOT217, HOT220, HOT221, HOT222, HOT223, HOT224, HOT225, HOT226, HOT227, HOT228, HOT229, HOT230, HOT231, HOT232, HOT233, HOT234, HOT235, HOT236, HOT237, HOT239, HOT241, HOT242, HOT243, HOT244, HOT245, HOT246, HOT247, HOT248, HOT249, HOT250, HOT251, HOT252, HOT253, HOT254, HOT255, HOT256, HOT257, HOT258, HOT259, HOT260, HOT261, HOT262, HOT263, HOT264, HOT265, HOT266, HOT267, HOT268, HOT269, HOT270, HOT271, HOT272, HOT273, HOT274, HOT275, HOT277, HOT279, HOT280, HOT281, HOT283, HOT284, HOT285, HOT286, HOT287, HOT289, HOT290, HOT291, HOT292, HOT293, HOT294, HOT295, HOT296, HOT297, HOT298, HOT300, HOT301, HOT303, HOT304, HOT305, HOT306, HOT307, HOT309, HOT311, HOT312, HOT313, HOT314, HOT315, HOT316, HOT317, HOT319, HOT320, HOT321, HOT322, HOT323, HOT324, HOT325, HOT326, HOT327, HOT328, HOT329, HOT330, HOT331, HOT332, HOT333, HOT335, HOT336, HOT337, HOT338, HOT339, in situ, insitu, in-situ, North Pacific Ocean, observation, Pacific Ocean, primary production, rep, reprocessed, sbact, Synechococcus, UH, University of Hawaii, University of Hawai&#x27;i at Manoa</dd><dt><span>lat_max :</span></dt><dd>22.75</dd><dt><span>lat_min :</span></dt><dd>22.75</dd><dt><span>lon_max :</span></dt><dd>-158</dd><dt><span>lon_min :</span></dt><dd>-158</dd><dt><span>long_name :</span></dt><dd>Synechococcus</dd><dt><span>make :</span></dt><dd>Observation</dd><dt><span>process_level :</span></dt><dd>Reprocessed</dd><dt><span>refrences :</span></dt><dd>nan</dd><dt><span>sensor :</span></dt><dd>Flow Cytometer</dd><dt><span>spatial_resolution :</span></dt><dd>Irregular</dd><dt><span>study_domain :</span></dt><dd>Biology+Biogeochemistry</dd><dt><span>table_name :</span></dt><dd>tblHOT_PP_v2022</dd><dt><span>temporal_resolution :</span></dt><dd>Irregular</dd><dt><span>time_max :</span></dt><dd>2022-09-01T00:00:00.000Z</dd><dt><span>time_min :</span></dt><dd>1988-10-31T00:00:00.000Z</dd><dt><span>units :</span></dt><dd>#/ml</dd><dt><span>variable_25th :</span></dt><dd>47.75</dd><dt><span>variable_50th :</span></dt><dd>909.5</dd><dt><span>variable_75th :</span></dt><dd>1699.25</dd><dt><span>variable_count :</span></dt><dd>1988.0</dd><dt><span>variable_max :</span></dt><dd>9823.0</dd><dt><span>variable_mean :</span></dt><dd>1119.0457746479</dd><dt><span>variable_min :</span></dt><dd>0.0</dd><dt><span>variable_std :</span></dt><dd>1212.6668131085</dd><dt><span>visualize :</span></dt><dd>1.0</dd></dl></div><div class='xr-var-data'><pre>[5496 values with dtype=float64]</pre></div></li><li class='xr-var-item'><div class='xr-var-name'><span>sigma</span></div><div class='xr-var-dims'>(time, latitude, longitude, depth)</div><div class='xr-var-dtype'>float64</div><div class='xr-var-preview xr-preview'>...</div><input id='attrs-ef9a112a-a8a8-4f07-a966-55346c41c3c7' class='xr-var-attrs-in' type='checkbox' ><label for='attrs-ef9a112a-a8a8-4f07-a966-55346c41c3c7' title='Show/Hide attributes'><svg class='icon xr-icon-file-text2'><use xlink:href='#icon-file-text2'></use></svg></label><input id='data-c5662708-6d4b-42a6-8b4d-fbef44db2f68' class='xr-var-data-in' type='checkbox'><label for='data-c5662708-6d4b-42a6-8b4d-fbef44db2f68' title='Show/Hide data repr'><svg class='icon xr-icon-database'><use xlink:href='#icon-database'></use></svg></label><div class='xr-var-attrs'><dl class='xr-attrs'><dt><span>acknowledgement :</span></dt><dd>&#x27;&#x27;Data obtained via the Hawaii Ocean Time-series HOT-DOGS application; University of Hawai&#x27;i at Manoa. National Science Foundation Award # 1756517&#x27;&#x27;. https://hahana.soest.hawaii.edu/hot/hot-dogs/</dd><dt><span>comment :</span></dt><dd>nan</dd><dt><span>data_source :</span></dt><dd>Hawaii Ocean Time-series (HOT)</dd><dt><span>dataset_description :</span></dt><dd>âThe majority of our sampling effort, approximately 60-72 h per standard HOT cruise, is spent at Station ALOHA. High vertical resolution environmental data are collected with a Sea-Bird CTD having external temperature (T), conductivity (C), dissolved oxygen (DO) and fluorescence (F) sensors and an internal pressure (P) sensor. A Sea-Bird 24-place carousel and an aluminum rosette that is capable of supporting 24 12-L PVC bottles are used to obtain water samples from desired depths. The CTD and rosette are deployed on a 3-conductor cable allowing for real-time display of data and for tripping the bottles at specific depths of interest. The CTD system takes 24 samples s-1 and the raw data are stored both on the computer and, for redundancy, on VHS-format video tapes. In February 2006, before cruise 178, we replaced our 24 aging 12-L PVC rosette bottles with new 12-L bottles fabricated at the University of Hawaii Engineering Support Facility, using plans and specifications from John Bullister (PMEL).â Time is in GMT.  [https://www.soest.hawaii.edu/HOT_WOCE/intro.html](https://www.soest.hawaii.edu/HOT_WOCE/intro.html)</dd><dt><span>dataset_id :</span></dt><dd>749</dd><dt><span>dataset_name :</span></dt><dd>CTD Hydrography HOT v2022</dd><dt><span>dataset_short_name :</span></dt><dd>HOT_CTD_v2022</dd><dt><span>depth_max :</span></dt><dd>4732.3762993821</dd><dt><span>depth_min :</span></dt><dd>0</dd><dt><span>distributor :</span></dt><dd>http://hahana.soest.hawaii.edu/hot/hot-dogs/</dd><dt><span>id :</span></dt><dd>18780</dd><dt><span>keywords :</span></dt><dd>ALOHA, Angel White Lab, CTD, CTD Hydrography HOT v2022, &#x27;&#x27;Data obtained via the Hawaii Ocean Time-series HOT-DOGS application; University of Hawai&#x27;i at Manoa. National Science Foundation Award # 1756517&#x27;&#x27;. https://hahana.soest.hawaii.edu/hot/hot-dogs/, David Karl Lab, Hawaii Ocean Time Series, Hawaii Ocean Time-series (HOT), HOT, HOT_CTD_v2022, HOT001, HOT002, HOT003, HOT004, HOT005, HOT006, HOT007, HOT008, HOT009, HOT010, HOT011, HOT012, HOT013, HOT014, HOT015, HOT016, HOT017, HOT018, HOT019, HOT020, HOT022, HOT023, HOT024, HOT025, HOT026, HOT027, HOT028, HOT029, HOT030, HOT031, HOT032, HOT033, HOT034, HOT035, HOT036, HOT037, HOT038, HOT039, HOT040, HOT041, HOT042, HOT043, HOT044, HOT045, HOT046, HOT047, HOT049, HOT050, HOT051, HOT052, HOT053, HOT054, HOT055, HOT056, HOT057, HOT058, HOT059, HOT060, HOT061, HOT062, HOT063, HOT064, HOT065, HOT066, HOT067, HOT068, HOT069, HOT070, HOT071, HOT072, HOT073, HOT074, HOT075, HOT076, HOT077, HOT078, HOT079, HOT080, HOT081, HOT082, HOT083, HOT084, HOT085, HOT086, HOT087, HOT088, HOT089, HOT090, HOT091, HOT092, HOT093, HOT094, HOT095, HOT096, HOT097, HOT098, HOT099, HOT100, HOT101, HOT102, HOT103, HOT104, HOT105, HOT106, HOT107, HOT108, HOT109, HOT110, HOT111, HOT112, HOT113, HOT114, HOT115, HOT116, HOT117, HOT118, HOT119, HOT120, HOT121, HOT122, HOT123, HOT124, HOT125, HOT126, HOT127, HOT128, HOT129, HOT130, HOT131, HOT132, HOT133, HOT134, HOT135, HOT136, HOT137, HOT138, HOT139, HOT140, HOT141, HOT142, HOT143, HOT144, HOT145, HOT146, HOT147, HOT148, HOT149, HOT150, HOT151, HOT152, HOT153, HOT154, HOT155, HOT156, HOT157, HOT158, HOT159, HOT160, HOT161, HOT162, HOT163, HOT164, HOT165, HOT166, HOT167, HOT168, HOT169, HOT170, HOT171, HOT172, HOT173, HOT174, HOT175, HOT176, HOT177, HOT178, HOT179, HOT180, HOT181, HOT182, HOT183, HOT184, HOT185, HOT186, HOT187, HOT188, HOT189, HOT190, HOT191, HOT192, HOT193, HOT194, HOT195, HOT196, HOT197, HOT198, HOT199, HOT200, HOT201, HOT202, HOT203, HOT204, HOT205, HOT206, HOT208, HOT209, HOT210, HOT211, HOT212, HOT213, HOT214, HOT215, HOT216, HOT217, HOT219, HOT220, HOT221, HOT222, HOT223, HOT224, HOT225, HOT226, HOT227, HOT228, HOT229, HOT230, HOT231, HOT232, HOT233, HOT234, HOT235, HOT236, HOT237, HOT238, HOT239, HOT240, HOT241, HOT242, HOT243, HOT244, HOT245, HOT246, HOT247, HOT248, HOT249, HOT250, HOT251, HOT252, HOT253, HOT254, HOT255, HOT256, HOT257, HOT258, HOT259, HOT260, HOT261, HOT262, HOT263, HOT264, HOT265, HOT266, HOT267, HOT268, HOT269, HOT270, HOT271, HOT272, HOT273, HOT274, HOT275, HOT277, HOT278, HOT279, HOT280, HOT281, HOT282, HOT283, HOT284, HOT285, HOT286, HOT287, HOT288, HOT289, HOT290, HOT291, HOT292, HOT293, HOT294, HOT295, HOT296, HOT297, HOT298, HOT299, HOT300, HOT301, HOT302, HOT303, HOT304, HOT305, HOT306, HOT307, HOT308, HOT309, HOT310, HOT311, HOT312, HOT313, HOT314, HOT315, HOT316, HOT317, HOT318, HOT319, HOT320, HOT321, HOT322, HOT323, HOT324, HOT325, HOT326, HOT327, HOT328, HOT329, HOT330, HOT331, HOT332, HOT333, HOT334, HOT335, HOT336, HOT337, HOT338, HOT339, http://hahana.soest.hawaii.edu/hot/hot-dogs/, hydrography, in situ, insitu, in-situ, North Pacific Ocean, observation, Pacific Ocean, Potential Density, rep, reprocessed, sigma, UH, University of Hawaii, University of Hawai&#x27;i at Manoa</dd><dt><span>lat_max :</span></dt><dd>22.75</dd><dt><span>lat_min :</span></dt><dd>22.75</dd><dt><span>lon_max :</span></dt><dd>-158</dd><dt><span>lon_min :</span></dt><dd>-158</dd><dt><span>long_name :</span></dt><dd>Potential Density</dd><dt><span>make :</span></dt><dd>Observation</dd><dt><span>process_level :</span></dt><dd>Reprocessed</dd><dt><span>refrences :</span></dt><dd>nan</dd><dt><span>sensor :</span></dt><dd>CTD</dd><dt><span>spatial_resolution :</span></dt><dd>Irregular</dd><dt><span>study_domain :</span></dt><dd>Biogeochemistry</dd><dt><span>table_name :</span></dt><dd>tblHOT_CTD_v2022</dd><dt><span>temporal_resolution :</span></dt><dd>Irregular</dd><dt><span>time_max :</span></dt><dd>2022-09-01T00:00:00.000Z</dd><dt><span>time_min :</span></dt><dd>1988-10-31T00:00:00.000Z</dd><dt><span>units :</span></dt><dd>kg/m3</dd><dt><span>variable_25th :</span></dt><dd>27.457</dd><dt><span>variable_50th :</span></dt><dd>27.712</dd><dt><span>variable_75th :</span></dt><dd>27.776</dd><dt><span>variable_count :</span></dt><dd>782540.0</dd><dt><span>variable_max :</span></dt><dd>30.145</dd><dt><span>variable_mean :</span></dt><dd>27.3803937895</dd><dt><span>variable_min :</span></dt><dd>22.134</dd><dt><span>variable_std :</span></dt><dd>0.8343038408</dd><dt><span>visualize :</span></dt><dd>1.0</dd></dl></div><div class='xr-var-data'><pre>[5496 values with dtype=float64]</pre></div></li><li class='xr-var-item'><div class='xr-var-name'><span>svol</span></div><div class='xr-var-dims'>(time, is_day, latitude, longitude, depth, sieve_size)</div><div class='xr-var-dtype'>float64</div><div class='xr-var-preview xr-preview'>...</div><input id='attrs-64070084-8fbc-4066-82cf-aa467e7bb7ee' class='xr-var-attrs-in' type='checkbox' ><label for='attrs-64070084-8fbc-4066-82cf-aa467e7bb7ee' title='Show/Hide attributes'><svg class='icon xr-icon-file-text2'><use xlink:href='#icon-file-text2'></use></svg></label><input id='data-13da08be-97ef-4cce-bf14-a467314cb4c4' class='xr-var-data-in' type='checkbox'><label for='data-13da08be-97ef-4cce-bf14-a467314cb4c4' title='Show/Hide data repr'><svg class='icon xr-icon-database'><use xlink:href='#icon-database'></use></svg></label><div class='xr-var-attrs'><dl class='xr-attrs'><dt><span>acknowledgement :</span></dt><dd>&#x27;&#x27;Data obtained via the Hawaii Ocean Time-series HOT-DOGS application; University of Hawai&#x27;i at Manoa. National Science Foundation Award # 1756517&#x27;&#x27;. https://hahana.soest.hawaii.edu/hot/hot-dogs/</dd><dt><span>comment :</span></dt><dd>nan</dd><dt><span>data_source :</span></dt><dd>Hawaii Ocean Time-series (HOT)</dd><dt><span>dataset_description :</span></dt><dd>âLarge zooplankton and micronekton play important roles in the export of organic material from surface waters in the open ocean. Global Ocean Flux planning models suggest that the relationship between primary production and passive particulate export flux is strongly influenced by size structure of the zooplankton community (e.g., PaffenhÃ¶ffer &amp; Knowles, 1979; Small et al., 1987; Frost, 1984). Active vertical migrations also have important implications for the transport and transformation of surface-derived organic particulates to dissolved inorganic constituents at depth (Longhurst &amp; Harrison, 1988; Longhurst et al., 1990; Al-Mutairi &amp; Landry, 2001; Hannides et al., 2008). The zooplankton component of the time-series sampling effort allows such processes to be considered in the interpretation of seasonal and interannual variations in measured flux and the elemental mass balance (e.g., carbon and nitrogen sources and sinks) of the euphotic zone. At Station ALOHA, 6 net tows are scheduled per cruise. Three midnight (2200 - 0200) and 3 mid-day (1000 - 1400) oblique tows are done using a 1-m2 net (3-m length) with 202-Âµm mesh Nitex netting. The net is towed obliquely at approximately 1 knot, from the surface to approximately 175 m and then back to the surface. Towing time is approximately 20-30 minutes. The tows are subsequently size-fractioned and analyzed for mesozooplankton wet and dry weight and C and N biomass.â Rows with no depth value have been removed. Time is in local time (HST). [https://hahana.soest.hawaii.edu/hot/methods/plankton.html](https://hahana.soest.hawaii.edu/hot/methods/plankton.html)</dd><dt><span>dataset_id :</span></dt><dd>758</dd><dt><span>dataset_name :</span></dt><dd>Zooplankton Community Structure HOT v2022</dd><dt><span>dataset_short_name :</span></dt><dd>HOT_Macrozooplankton_v2022</dd><dt><span>depth_max :</span></dt><dd>271</dd><dt><span>depth_min :</span></dt><dd>9</dd><dt><span>distributor :</span></dt><dd>Hawaii Ocean Time-series http://hahana.soest.hawaii.edu/hot/hot-dogs/</dd><dt><span>id :</span></dt><dd>18830</dd><dt><span>keywords :</span></dt><dd>ALOHA, Angel White Lab, &#x27;&#x27;Data obtained via the Hawaii Ocean Time-series HOT-DOGS application; University of Hawai&#x27;i at Manoa. National Science Foundation Award # 1756517&#x27;&#x27;. https://hahana.soest.hawaii.edu/hot/hot-dogs/, David Karl Lab, Hawaii Ocean Time Series, Hawaii Ocean Time-series (HOT), Hawaii Ocean Time-series Data Organization &amp; Graphical System (HOT-DOGS) http://hahana.soest.hawaii.edu/hot/hot-dogs/, HOT, HOT_Macrozooplankton_v2022, HOT052, HOT053, HOT054, HOT055, HOT056, HOT057, HOT058, HOT060, HOT061, HOT062, HOT063, HOT064, HOT065, HOT066, HOT067, HOT068, HOT069, HOT070, HOT071, HOT072, HOT073, HOT074, HOT075, HOT076, HOT077, HOT078, HOT079, HOT080, HOT081, HOT082, HOT083, HOT084, HOT085, HOT086, HOT087, HOT088, HOT089, HOT090, HOT091, HOT092, HOT093, HOT094, HOT095, HOT096, HOT097, HOT098, HOT099, HOT100, HOT101, HOT102, HOT103, HOT104, HOT105, HOT106, HOT107, HOT108, HOT109, HOT110, HOT111, HOT112, HOT113, HOT114, HOT115, HOT116, HOT117, HOT118, HOT119, HOT120, HOT121, HOT122, HOT123, HOT124, HOT125, HOT126, HOT127, HOT129, HOT130, HOT131, HOT132, HOT133, HOT134, HOT135, HOT136, HOT137, HOT138, HOT139, HOT140, HOT141, HOT143, HOT144, HOT145, HOT146, HOT147, HOT148, HOT149, HOT150, HOT151, HOT152, HOT153, HOT154, HOT155, HOT156, HOT157, HOT158, HOT159, HOT160, HOT162, HOT163, HOT164, HOT165, HOT166, HOT167, HOT168, HOT170, HOT171, HOT172, HOT174, HOT175, HOT176, HOT178, HOT179, HOT180, HOT181, HOT182, HOT183, HOT184, HOT185, HOT186, HOT187, HOT188, HOT189, HOT190, HOT191, HOT192, HOT193, HOT194, HOT195, HOT196, HOT197, HOT198, HOT199, HOT200, HOT201, HOT202, HOT203, HOT204, HOT205, HOT206, HOT208, HOT209, HOT210, HOT211, HOT212, HOT213, HOT214, HOT215, HOT216, HOT217, HOT220, HOT221, HOT222, HOT223, HOT224, HOT225, HOT226, HOT227, HOT228, HOT229, HOT230, HOT231, HOT232, HOT233, HOT234, HOT235, HOT236, HOT237, HOT238, HOT239, HOT240, HOT241, HOT242, HOT243, HOT244, HOT245, HOT246, HOT247, HOT248, HOT249, HOT250, HOT251, HOT252, HOT253, HOT254, HOT255, HOT256, HOT257, HOT258, HOT259, HOT260, HOT261, HOT262, HOT263, HOT264, HOT265, HOT266, HOT267, HOT268, HOT269, HOT270, HOT271, HOT272, HOT273, HOT274, HOT275, HOT277, HOT278, HOT279, HOT280, HOT281, HOT282, HOT283, HOT284, HOT285, HOT286, HOT287, HOT288, HOT289, HOT290, HOT291, HOT292, HOT293, HOT294, HOT295, HOT296, HOT297, HOT298, HOT299, HOT300, HOT301, HOT302, HOT303, HOT304, HOT305, HOT306, HOT307, HOT309, HOT310, HOT311, HOT312, HOT313, HOT314, HOT315, HOT316, HOT317, HOT319, HOT320, HOT321, HOT322, HOT323, HOT324, HOT325, HOT326, HOT327, HOT328, HOT329, HOT330, HOT331, HOT332, HOT333, HOT334, HOT335, HOT336, HOT337, HOT338, HOT339, in situ, insitu, in-situ, Macrozooplankton, North Pacific Ocean, observation, Pacific Ocean, rep, reprocessed, Settled Volume, svol, UH, University of Hawaii, University of Hawai&#x27;i at Manoa, zooplankton, Zooplankton Community Structure HOT v2022, Zooplankton Net</dd><dt><span>lat_max :</span></dt><dd>22.75</dd><dt><span>lat_min :</span></dt><dd>22.75</dd><dt><span>lon_max :</span></dt><dd>-158</dd><dt><span>lon_min :</span></dt><dd>-158</dd><dt><span>long_name :</span></dt><dd>Settled Volume</dd><dt><span>make :</span></dt><dd>Observation</dd><dt><span>process_level :</span></dt><dd>Reprocessed</dd><dt><span>refrences :</span></dt><dd>nan</dd><dt><span>sensor :</span></dt><dd>Zooplankton Net</dd><dt><span>spatial_resolution :</span></dt><dd>Irregular</dd><dt><span>study_domain :</span></dt><dd>Biology</dd><dt><span>table_name :</span></dt><dd>tblHOT_Macrozooplankton_v2022</dd><dt><span>temporal_resolution :</span></dt><dd>Irregular</dd><dt><span>time_max :</span></dt><dd>2022-09-02T22:13:00.000Z</dd><dt><span>time_min :</span></dt><dd>1994-02-17T11:08:00.000Z</dd><dt><span>units :</span></dt><dd>ml/m3</dd><dt><span>variable_25th :</span></dt><dd>300.1</dd><dt><span>variable_50th :</span></dt><dd>364.75</dd><dt><span>variable_75th :</span></dt><dd>430.1</dd><dt><span>variable_count :</span></dt><dd>348.0</dd><dt><span>variable_max :</span></dt><dd>1063.5</dd><dt><span>variable_mean :</span></dt><dd>387.9879310345</dd><dt><span>variable_min :</span></dt><dd>97.9</dd><dt><span>variable_std :</span></dt><dd>157.8138739669</dd><dt><span>visualize :</span></dt><dd>1.0</dd></dl></div><div class='xr-var-data'><pre>[54960 values with dtype=float64]</pre></div></li><li class='xr-var-item'><div class='xr-var-name'><span>temp</span></div><div class='xr-var-dims'>(time, latitude, longitude, depth)</div><div class='xr-var-dtype'>float64</div><div class='xr-var-preview xr-preview'>...</div><input id='attrs-c04f4429-783d-44f1-bb25-c2464abe9fef' class='xr-var-attrs-in' type='checkbox' ><label for='attrs-c04f4429-783d-44f1-bb25-c2464abe9fef' title='Show/Hide attributes'><svg class='icon xr-icon-file-text2'><use xlink:href='#icon-file-text2'></use></svg></label><input id='data-79624869-27df-4356-b680-1b4518d237f4' class='xr-var-data-in' type='checkbox'><label for='data-79624869-27df-4356-b680-1b4518d237f4' title='Show/Hide data repr'><svg class='icon xr-icon-database'><use xlink:href='#icon-database'></use></svg></label><div class='xr-var-attrs'><dl class='xr-attrs'><dt><span>acknowledgement :</span></dt><dd>&#x27;&#x27;Data obtained via the Hawaii Ocean Time-series HOT-DOGS application; University of Hawai&#x27;i at Manoa. National Science Foundation Award # 1756517&#x27;&#x27;. https://hahana.soest.hawaii.edu/hot/hot-dogs/</dd><dt><span>comment :</span></dt><dd>nan</dd><dt><span>data_source :</span></dt><dd>Hawaii Ocean Time-series (HOT)</dd><dt><span>dataset_description :</span></dt><dd>âThe majority of our sampling effort, approximately 60-72 h per standard HOT cruise, is spent at Station ALOHA. High vertical resolution environmental data are collected with a Sea-Bird CTD having external temperature (T), conductivity (C), dissolved oxygen (DO) and fluorescence (F) sensors and an internal pressure (P) sensor. A Sea-Bird 24-place carousel and an aluminum rosette that is capable of supporting 24 12-L PVC bottles are used to obtain water samples from desired depths. The CTD and rosette are deployed on a 3-conductor cable allowing for real-time display of data and for tripping the bottles at specific depths of interest. The CTD system takes 24 samples s-1 and the raw data are stored both on the computer and, for redundancy, on VHS-format video tapes. In February 2006, before cruise 178, we replaced our 24 aging 12-L PVC rosette bottles with new 12-L bottles fabricated at the University of Hawaii Engineering Support Facility, using plans and specifications from John Bullister (PMEL).â Time is in GMT.  [https://www.soest.hawaii.edu/HOT_WOCE/intro.html](https://www.soest.hawaii.edu/HOT_WOCE/intro.html)</dd><dt><span>dataset_id :</span></dt><dd>749</dd><dt><span>dataset_name :</span></dt><dd>CTD Hydrography HOT v2022</dd><dt><span>dataset_short_name :</span></dt><dd>HOT_CTD_v2022</dd><dt><span>depth_max :</span></dt><dd>4732.3762993821</dd><dt><span>depth_min :</span></dt><dd>0</dd><dt><span>distributor :</span></dt><dd>http://hahana.soest.hawaii.edu/hot/hot-dogs/</dd><dt><span>id :</span></dt><dd>18781</dd><dt><span>keywords :</span></dt><dd>ALOHA, Angel White Lab, CTD, CTD Hydrography HOT v2022, &#x27;&#x27;Data obtained via the Hawaii Ocean Time-series HOT-DOGS application; University of Hawai&#x27;i at Manoa. National Science Foundation Award # 1756517&#x27;&#x27;. https://hahana.soest.hawaii.edu/hot/hot-dogs/, David Karl Lab, Hawaii Ocean Time Series, Hawaii Ocean Time-series (HOT), HOT, HOT_CTD_v2022, HOT001, HOT002, HOT003, HOT004, HOT005, HOT006, HOT007, HOT008, HOT009, HOT010, HOT011, HOT012, HOT013, HOT014, HOT015, HOT016, HOT017, HOT018, HOT019, HOT020, HOT022, HOT023, HOT024, HOT025, HOT026, HOT027, HOT028, HOT029, HOT030, HOT031, HOT032, HOT033, HOT034, HOT035, HOT036, HOT037, HOT038, HOT039, HOT040, HOT041, HOT042, HOT043, HOT044, HOT045, HOT046, HOT047, HOT049, HOT050, HOT051, HOT052, HOT053, HOT054, HOT055, HOT056, HOT057, HOT058, HOT059, HOT060, HOT061, HOT062, HOT063, HOT064, HOT065, HOT066, HOT067, HOT068, HOT069, HOT070, HOT071, HOT072, HOT073, HOT074, HOT075, HOT076, HOT077, HOT078, HOT079, HOT080, HOT081, HOT082, HOT083, HOT084, HOT085, HOT086, HOT087, HOT088, HOT089, HOT090, HOT091, HOT092, HOT093, HOT094, HOT095, HOT096, HOT097, HOT098, HOT099, HOT100, HOT101, HOT102, HOT103, HOT104, HOT105, HOT106, HOT107, HOT108, HOT109, HOT110, HOT111, HOT112, HOT113, HOT114, HOT115, HOT116, HOT117, HOT118, HOT119, HOT120, HOT121, HOT122, HOT123, HOT124, HOT125, HOT126, HOT127, HOT128, HOT129, HOT130, HOT131, HOT132, HOT133, HOT134, HOT135, HOT136, HOT137, HOT138, HOT139, HOT140, HOT141, HOT142, HOT143, HOT144, HOT145, HOT146, HOT147, HOT148, HOT149, HOT150, HOT151, HOT152, HOT153, HOT154, HOT155, HOT156, HOT157, HOT158, HOT159, HOT160, HOT161, HOT162, HOT163, HOT164, HOT165, HOT166, HOT167, HOT168, HOT169, HOT170, HOT171, HOT172, HOT173, HOT174, HOT175, HOT176, HOT177, HOT178, HOT179, HOT180, HOT181, HOT182, HOT183, HOT184, HOT185, HOT186, HOT187, HOT188, HOT189, HOT190, HOT191, HOT192, HOT193, HOT194, HOT195, HOT196, HOT197, HOT198, HOT199, HOT200, HOT201, HOT202, HOT203, HOT204, HOT205, HOT206, HOT208, HOT209, HOT210, HOT211, HOT212, HOT213, HOT214, HOT215, HOT216, HOT217, HOT219, HOT220, HOT221, HOT222, HOT223, HOT224, HOT225, HOT226, HOT227, HOT228, HOT229, HOT230, HOT231, HOT232, HOT233, HOT234, HOT235, HOT236, HOT237, HOT238, HOT239, HOT240, HOT241, HOT242, HOT243, HOT244, HOT245, HOT246, HOT247, HOT248, HOT249, HOT250, HOT251, HOT252, HOT253, HOT254, HOT255, HOT256, HOT257, HOT258, HOT259, HOT260, HOT261, HOT262, HOT263, HOT264, HOT265, HOT266, HOT267, HOT268, HOT269, HOT270, HOT271, HOT272, HOT273, HOT274, HOT275, HOT277, HOT278, HOT279, HOT280, HOT281, HOT282, HOT283, HOT284, HOT285, HOT286, HOT287, HOT288, HOT289, HOT290, HOT291, HOT292, HOT293, HOT294, HOT295, HOT296, HOT297, HOT298, HOT299, HOT300, HOT301, HOT302, HOT303, HOT304, HOT305, HOT306, HOT307, HOT308, HOT309, HOT310, HOT311, HOT312, HOT313, HOT314, HOT315, HOT316, HOT317, HOT318, HOT319, HOT320, HOT321, HOT322, HOT323, HOT324, HOT325, HOT326, HOT327, HOT328, HOT329, HOT330, HOT331, HOT332, HOT333, HOT334, HOT335, HOT336, HOT337, HOT338, HOT339, http://hahana.soest.hawaii.edu/hot/hot-dogs/, hydrography, in situ, insitu, in-situ, North Pacific Ocean, observation, Pacific Ocean, rep, reprocessed, temp, Temperature, UH, University of Hawaii, University of Hawai&#x27;i at Manoa</dd><dt><span>lat_max :</span></dt><dd>22.75</dd><dt><span>lat_min :</span></dt><dd>22.75</dd><dt><span>lon_max :</span></dt><dd>-158</dd><dt><span>lon_min :</span></dt><dd>-158</dd><dt><span>long_name :</span></dt><dd>Temperature</dd><dt><span>make :</span></dt><dd>Observation</dd><dt><span>process_level :</span></dt><dd>Reprocessed</dd><dt><span>refrences :</span></dt><dd>nan</dd><dt><span>sensor :</span></dt><dd>CTD</dd><dt><span>spatial_resolution :</span></dt><dd>Irregular</dd><dt><span>study_domain :</span></dt><dd>Biogeochemistry</dd><dt><span>table_name :</span></dt><dd>tblHOT_CTD_v2022</dd><dt><span>temporal_resolution :</span></dt><dd>Irregular</dd><dt><span>time_max :</span></dt><dd>2022-09-01T00:00:00.000Z</dd><dt><span>time_min :</span></dt><dd>1988-10-31T00:00:00.000Z</dd><dt><span>units :</span></dt><dd>ITS-90</dd><dt><span>variable_25th :</span></dt><dd>1.4915</dd><dt><span>variable_50th :</span></dt><dd>1.8153</dd><dt><span>variable_75th :</span></dt><dd>3.5652</dd><dt><span>variable_count :</span></dt><dd>784862.0</dd><dt><span>variable_max :</span></dt><dd>28.1028</dd><dt><span>variable_mean :</span></dt><dd>3.7859856163</dd><dt><span>variable_min :</span></dt><dd>1.4394</dd><dt><span>variable_std :</span></dt><dd>4.8205537726</dd><dt><span>visualize :</span></dt><dd>1.0</dd></dl></div><div class='xr-var-data'><pre>[5496 values with dtype=float64]</pre></div></li><li class='xr-var-item'><div class='xr-var-name'><span>theta</span></div><div class='xr-var-dims'>(time, latitude, longitude, depth)</div><div class='xr-var-dtype'>float64</div><div class='xr-var-preview xr-preview'>...</div><input id='attrs-da9a8e09-9ee8-4d39-93ca-d8b55453e8a5' class='xr-var-attrs-in' type='checkbox' ><label for='attrs-da9a8e09-9ee8-4d39-93ca-d8b55453e8a5' title='Show/Hide attributes'><svg class='icon xr-icon-file-text2'><use xlink:href='#icon-file-text2'></use></svg></label><input id='data-b5ac5a48-6a60-45b8-8789-281b110f20d0' class='xr-var-data-in' type='checkbox'><label for='data-b5ac5a48-6a60-45b8-8789-281b110f20d0' title='Show/Hide data repr'><svg class='icon xr-icon-database'><use xlink:href='#icon-database'></use></svg></label><div class='xr-var-attrs'><dl class='xr-attrs'><dt><span>acknowledgement :</span></dt><dd>&#x27;&#x27;Data obtained via the Hawaii Ocean Time-series HOT-DOGS application; University of Hawai&#x27;i at Manoa. National Science Foundation Award # 1756517&#x27;&#x27;. https://hahana.soest.hawaii.edu/hot/hot-dogs/</dd><dt><span>comment :</span></dt><dd>nan</dd><dt><span>data_source :</span></dt><dd>Hawaii Ocean Time-series (HOT)</dd><dt><span>dataset_description :</span></dt><dd>âThe majority of our sampling effort, approximately 60-72 h per standard HOT cruise, is spent at Station ALOHA. High vertical resolution environmental data are collected with a Sea-Bird CTD having external temperature (T), conductivity (C), dissolved oxygen (DO) and fluorescence (F) sensors and an internal pressure (P) sensor. A Sea-Bird 24-place carousel and an aluminum rosette that is capable of supporting 24 12-L PVC bottles are used to obtain water samples from desired depths. The CTD and rosette are deployed on a 3-conductor cable allowing for real-time display of data and for tripping the bottles at specific depths of interest. The CTD system takes 24 samples s-1 and the raw data are stored both on the computer and, for redundancy, on VHS-format video tapes. In February 2006, before cruise 178, we replaced our 24 aging 12-L PVC rosette bottles with new 12-L bottles fabricated at the University of Hawaii Engineering Support Facility, using plans and specifications from John Bullister (PMEL).â Time is in GMT.  [https://www.soest.hawaii.edu/HOT_WOCE/intro.html](https://www.soest.hawaii.edu/HOT_WOCE/intro.html)</dd><dt><span>dataset_id :</span></dt><dd>749</dd><dt><span>dataset_name :</span></dt><dd>CTD Hydrography HOT v2022</dd><dt><span>dataset_short_name :</span></dt><dd>HOT_CTD_v2022</dd><dt><span>depth_max :</span></dt><dd>4732.3762993821</dd><dt><span>depth_min :</span></dt><dd>0</dd><dt><span>distributor :</span></dt><dd>http://hahana.soest.hawaii.edu/hot/hot-dogs/</dd><dt><span>id :</span></dt><dd>18779</dd><dt><span>keywords :</span></dt><dd>ALOHA, Angel White Lab, CTD, CTD Hydrography HOT v2022, &#x27;&#x27;Data obtained via the Hawaii Ocean Time-series HOT-DOGS application; University of Hawai&#x27;i at Manoa. National Science Foundation Award # 1756517&#x27;&#x27;. https://hahana.soest.hawaii.edu/hot/hot-dogs/, David Karl Lab, Hawaii Ocean Time Series, Hawaii Ocean Time-series (HOT), HOT, HOT_CTD_v2022, HOT001, HOT002, HOT003, HOT004, HOT005, HOT006, HOT007, HOT008, HOT009, HOT010, HOT011, HOT012, HOT013, HOT014, HOT015, HOT016, HOT017, HOT018, HOT019, HOT020, HOT022, HOT023, HOT024, HOT025, HOT026, HOT027, HOT028, HOT029, HOT030, HOT031, HOT032, HOT033, HOT034, HOT035, HOT036, HOT037, HOT038, HOT039, HOT040, HOT041, HOT042, HOT043, HOT044, HOT045, HOT046, HOT047, HOT049, HOT050, HOT051, HOT052, HOT053, HOT054, HOT055, HOT056, HOT057, HOT058, HOT059, HOT060, HOT061, HOT062, HOT063, HOT064, HOT065, HOT066, HOT067, HOT068, HOT069, HOT070, HOT071, HOT072, HOT073, HOT074, HOT075, HOT076, HOT077, HOT078, HOT079, HOT080, HOT081, HOT082, HOT083, HOT084, HOT085, HOT086, HOT087, HOT088, HOT089, HOT090, HOT091, HOT092, HOT093, HOT094, HOT095, HOT096, HOT097, HOT098, HOT099, HOT100, HOT101, HOT102, HOT103, HOT104, HOT105, HOT106, HOT107, HOT108, HOT109, HOT110, HOT111, HOT112, HOT113, HOT114, HOT115, HOT116, HOT117, HOT118, HOT119, HOT120, HOT121, HOT122, HOT123, HOT124, HOT125, HOT126, HOT127, HOT128, HOT129, HOT130, HOT131, HOT132, HOT133, HOT134, HOT135, HOT136, HOT137, HOT138, HOT139, HOT140, HOT141, HOT142, HOT143, HOT144, HOT145, HOT146, HOT147, HOT148, HOT149, HOT150, HOT151, HOT152, HOT153, HOT154, HOT155, HOT156, HOT157, HOT158, HOT159, HOT160, HOT161, HOT162, HOT163, HOT164, HOT165, HOT166, HOT167, HOT168, HOT169, HOT170, HOT171, HOT172, HOT173, HOT174, HOT175, HOT176, HOT177, HOT178, HOT179, HOT180, HOT181, HOT182, HOT183, HOT184, HOT185, HOT186, HOT187, HOT188, HOT189, HOT190, HOT191, HOT192, HOT193, HOT194, HOT195, HOT196, HOT197, HOT198, HOT199, HOT200, HOT201, HOT202, HOT203, HOT204, HOT205, HOT206, HOT208, HOT209, HOT210, HOT211, HOT212, HOT213, HOT214, HOT215, HOT216, HOT217, HOT219, HOT220, HOT221, HOT222, HOT223, HOT224, HOT225, HOT226, HOT227, HOT228, HOT229, HOT230, HOT231, HOT232, HOT233, HOT234, HOT235, HOT236, HOT237, HOT238, HOT239, HOT240, HOT241, HOT242, HOT243, HOT244, HOT245, HOT246, HOT247, HOT248, HOT249, HOT250, HOT251, HOT252, HOT253, HOT254, HOT255, HOT256, HOT257, HOT258, HOT259, HOT260, HOT261, HOT262, HOT263, HOT264, HOT265, HOT266, HOT267, HOT268, HOT269, HOT270, HOT271, HOT272, HOT273, HOT274, HOT275, HOT277, HOT278, HOT279, HOT280, HOT281, HOT282, HOT283, HOT284, HOT285, HOT286, HOT287, HOT288, HOT289, HOT290, HOT291, HOT292, HOT293, HOT294, HOT295, HOT296, HOT297, HOT298, HOT299, HOT300, HOT301, HOT302, HOT303, HOT304, HOT305, HOT306, HOT307, HOT308, HOT309, HOT310, HOT311, HOT312, HOT313, HOT314, HOT315, HOT316, HOT317, HOT318, HOT319, HOT320, HOT321, HOT322, HOT323, HOT324, HOT325, HOT326, HOT327, HOT328, HOT329, HOT330, HOT331, HOT332, HOT333, HOT334, HOT335, HOT336, HOT337, HOT338, HOT339, http://hahana.soest.hawaii.edu/hot/hot-dogs/, hydrography, in situ, insitu, in-situ, North Pacific Ocean, observation, Pacific Ocean, Potential Temperature, rep, reprocessed, theta, UH, University of Hawaii, University of Hawai&#x27;i at Manoa</dd><dt><span>lat_max :</span></dt><dd>22.75</dd><dt><span>lat_min :</span></dt><dd>22.75</dd><dt><span>lon_max :</span></dt><dd>-158</dd><dt><span>lon_min :</span></dt><dd>-158</dd><dt><span>long_name :</span></dt><dd>Potential Temperature</dd><dt><span>make :</span></dt><dd>Observation</dd><dt><span>process_level :</span></dt><dd>Reprocessed</dd><dt><span>refrences :</span></dt><dd>nan</dd><dt><span>sensor :</span></dt><dd>CTD</dd><dt><span>spatial_resolution :</span></dt><dd>Irregular</dd><dt><span>study_domain :</span></dt><dd>Biogeochemistry</dd><dt><span>table_name :</span></dt><dd>tblHOT_CTD_v2022</dd><dt><span>temporal_resolution :</span></dt><dd>Irregular</dd><dt><span>time_max :</span></dt><dd>2022-09-01T00:00:00.000Z</dd><dt><span>time_min :</span></dt><dd>1988-10-31T00:00:00.000Z</dd><dt><span>units :</span></dt><dd>ITS-90</dd><dt><span>variable_25th :</span></dt><dd>1.1931</dd><dt><span>variable_50th :</span></dt><dd>1.6499</dd><dt><span>variable_75th :</span></dt><dd>3.4852</dd><dt><span>variable_count :</span></dt><dd>782540.0</dd><dt><span>variable_max :</span></dt><dd>28.1023</dd><dt><span>variable_mean :</span></dt><dd>3.6066431667</dd><dt><span>variable_min :</span></dt><dd>1.0737</dd><dt><span>variable_std :</span></dt><dd>4.8908941605</dd><dt><span>visualize :</span></dt><dd>1.0</dd></dl></div><div class='xr-var-data'><pre>[5496 values with dtype=float64]</pre></div></li><li class='xr-var-item'><div class='xr-var-name'><span>vol</span></div><div class='xr-var-dims'>(time, is_day, latitude, longitude, depth, sieve_size)</div><div class='xr-var-dtype'>float64</div><div class='xr-var-preview xr-preview'>...</div><input id='attrs-b4125054-bc64-4754-91cb-1d35e6c5f204' class='xr-var-attrs-in' type='checkbox' ><label for='attrs-b4125054-bc64-4754-91cb-1d35e6c5f204' title='Show/Hide attributes'><svg class='icon xr-icon-file-text2'><use xlink:href='#icon-file-text2'></use></svg></label><input id='data-7f11bd1f-802a-4c3e-9eff-d7acf077cea8' class='xr-var-data-in' type='checkbox'><label for='data-7f11bd1f-802a-4c3e-9eff-d7acf077cea8' title='Show/Hide data repr'><svg class='icon xr-icon-database'><use xlink:href='#icon-database'></use></svg></label><div class='xr-var-attrs'><dl class='xr-attrs'><dt><span>acknowledgement :</span></dt><dd>&#x27;&#x27;Data obtained via the Hawaii Ocean Time-series HOT-DOGS application; University of Hawai&#x27;i at Manoa. National Science Foundation Award # 1756517&#x27;&#x27;. https://hahana.soest.hawaii.edu/hot/hot-dogs/</dd><dt><span>comment :</span></dt><dd>nan</dd><dt><span>data_source :</span></dt><dd>Hawaii Ocean Time-series (HOT)</dd><dt><span>dataset_description :</span></dt><dd>âLarge zooplankton and micronekton play important roles in the export of organic material from surface waters in the open ocean. Global Ocean Flux planning models suggest that the relationship between primary production and passive particulate export flux is strongly influenced by size structure of the zooplankton community (e.g., PaffenhÃ¶ffer &amp; Knowles, 1979; Small et al., 1987; Frost, 1984). Active vertical migrations also have important implications for the transport and transformation of surface-derived organic particulates to dissolved inorganic constituents at depth (Longhurst &amp; Harrison, 1988; Longhurst et al., 1990; Al-Mutairi &amp; Landry, 2001; Hannides et al., 2008). The zooplankton component of the time-series sampling effort allows such processes to be considered in the interpretation of seasonal and interannual variations in measured flux and the elemental mass balance (e.g., carbon and nitrogen sources and sinks) of the euphotic zone. At Station ALOHA, 6 net tows are scheduled per cruise. Three midnight (2200 - 0200) and 3 mid-day (1000 - 1400) oblique tows are done using a 1-m2 net (3-m length) with 202-Âµm mesh Nitex netting. The net is towed obliquely at approximately 1 knot, from the surface to approximately 175 m and then back to the surface. Towing time is approximately 20-30 minutes. The tows are subsequently size-fractioned and analyzed for mesozooplankton wet and dry weight and C and N biomass.â Rows with no depth value have been removed. Time is in local time (HST). [https://hahana.soest.hawaii.edu/hot/methods/plankton.html](https://hahana.soest.hawaii.edu/hot/methods/plankton.html)</dd><dt><span>dataset_id :</span></dt><dd>758</dd><dt><span>dataset_name :</span></dt><dd>Zooplankton Community Structure HOT v2022</dd><dt><span>dataset_short_name :</span></dt><dd>HOT_Macrozooplankton_v2022</dd><dt><span>depth_max :</span></dt><dd>271</dd><dt><span>depth_min :</span></dt><dd>9</dd><dt><span>distributor :</span></dt><dd>Hawaii Ocean Time-series http://hahana.soest.hawaii.edu/hot/hot-dogs/</dd><dt><span>id :</span></dt><dd>18829</dd><dt><span>keywords :</span></dt><dd>ALOHA, Angel White Lab, &#x27;&#x27;Data obtained via the Hawaii Ocean Time-series HOT-DOGS application; University of Hawai&#x27;i at Manoa. National Science Foundation Award # 1756517&#x27;&#x27;. https://hahana.soest.hawaii.edu/hot/hot-dogs/, David Karl Lab, Hawaii Ocean Time Series, Hawaii Ocean Time-series (HOT), Hawaii Ocean Time-series Data Organization &amp; Graphical System (HOT-DOGS) http://hahana.soest.hawaii.edu/hot/hot-dogs/, HOT, HOT_Macrozooplankton_v2022, HOT052, HOT053, HOT054, HOT055, HOT056, HOT057, HOT058, HOT060, HOT061, HOT062, HOT063, HOT064, HOT065, HOT066, HOT067, HOT068, HOT069, HOT070, HOT071, HOT072, HOT073, HOT074, HOT075, HOT076, HOT077, HOT078, HOT079, HOT080, HOT081, HOT082, HOT083, HOT084, HOT085, HOT086, HOT087, HOT088, HOT089, HOT090, HOT091, HOT092, HOT093, HOT094, HOT095, HOT096, HOT097, HOT098, HOT099, HOT100, HOT101, HOT102, HOT103, HOT104, HOT105, HOT106, HOT107, HOT108, HOT109, HOT110, HOT111, HOT112, HOT113, HOT114, HOT115, HOT116, HOT117, HOT118, HOT119, HOT120, HOT121, HOT122, HOT123, HOT124, HOT125, HOT126, HOT127, HOT129, HOT130, HOT131, HOT132, HOT133, HOT134, HOT135, HOT136, HOT137, HOT138, HOT139, HOT140, HOT141, HOT143, HOT144, HOT145, HOT146, HOT147, HOT148, HOT149, HOT150, HOT151, HOT152, HOT153, HOT154, HOT155, HOT156, HOT157, HOT158, HOT159, HOT160, HOT162, HOT163, HOT164, HOT165, HOT166, HOT167, HOT168, HOT170, HOT171, HOT172, HOT174, HOT175, HOT176, HOT178, HOT179, HOT180, HOT181, HOT182, HOT183, HOT184, HOT185, HOT186, HOT187, HOT188, HOT189, HOT190, HOT191, HOT192, HOT193, HOT194, HOT195, HOT196, HOT197, HOT198, HOT199, HOT200, HOT201, HOT202, HOT203, HOT204, HOT205, HOT206, HOT208, HOT209, HOT210, HOT211, HOT212, HOT213, HOT214, HOT215, HOT216, HOT217, HOT220, HOT221, HOT222, HOT223, HOT224, HOT225, HOT226, HOT227, HOT228, HOT229, HOT230, HOT231, HOT232, HOT233, HOT234, HOT235, HOT236, HOT237, HOT238, HOT239, HOT240, HOT241, HOT242, HOT243, HOT244, HOT245, HOT246, HOT247, HOT248, HOT249, HOT250, HOT251, HOT252, HOT253, HOT254, HOT255, HOT256, HOT257, HOT258, HOT259, HOT260, HOT261, HOT262, HOT263, HOT264, HOT265, HOT266, HOT267, HOT268, HOT269, HOT270, HOT271, HOT272, HOT273, HOT274, HOT275, HOT277, HOT278, HOT279, HOT280, HOT281, HOT282, HOT283, HOT284, HOT285, HOT286, HOT287, HOT288, HOT289, HOT290, HOT291, HOT292, HOT293, HOT294, HOT295, HOT296, HOT297, HOT298, HOT299, HOT300, HOT301, HOT302, HOT303, HOT304, HOT305, HOT306, HOT307, HOT309, HOT310, HOT311, HOT312, HOT313, HOT314, HOT315, HOT316, HOT317, HOT319, HOT320, HOT321, HOT322, HOT323, HOT324, HOT325, HOT326, HOT327, HOT328, HOT329, HOT330, HOT331, HOT332, HOT333, HOT334, HOT335, HOT336, HOT337, HOT338, HOT339, in situ, insitu, in-situ, Macrozooplankton, North Pacific Ocean, observation, Pacific Ocean, rep, reprocessed, UH, University of Hawaii, University of Hawai&#x27;i at Manoa, vol, Volume, zooplankton, Zooplankton Community Structure HOT v2022, Zooplankton Net</dd><dt><span>lat_max :</span></dt><dd>22.75</dd><dt><span>lat_min :</span></dt><dd>22.75</dd><dt><span>lon_max :</span></dt><dd>-158</dd><dt><span>lon_min :</span></dt><dd>-158</dd><dt><span>long_name :</span></dt><dd>Volume</dd><dt><span>make :</span></dt><dd>Observation</dd><dt><span>process_level :</span></dt><dd>Reprocessed</dd><dt><span>refrences :</span></dt><dd>nan</dd><dt><span>sensor :</span></dt><dd>Zooplankton Net</dd><dt><span>spatial_resolution :</span></dt><dd>Irregular</dd><dt><span>study_domain :</span></dt><dd>Biology</dd><dt><span>table_name :</span></dt><dd>tblHOT_Macrozooplankton_v2022</dd><dt><span>temporal_resolution :</span></dt><dd>Irregular</dd><dt><span>time_max :</span></dt><dd>2022-09-02T22:13:00.000Z</dd><dt><span>time_min :</span></dt><dd>1994-02-17T11:08:00.000Z</dd><dt><span>units :</span></dt><dd>m3</dd><dt><span>variable_25th :</span></dt><dd>296.0</dd><dt><span>variable_50th :</span></dt><dd>393.0</dd><dt><span>variable_75th :</span></dt><dd>488.0</dd><dt><span>variable_count :</span></dt><dd>9348.0</dd><dt><span>variable_max :</span></dt><dd>4789.0</dd><dt><span>variable_mean :</span></dt><dd>402.1148908858</dd><dt><span>variable_min :</span></dt><dd>57.0</dd><dt><span>variable_std :</span></dt><dd>187.0833390131</dd><dt><span>visualize :</span></dt><dd>1.0</dd></dl></div><div class='xr-var-data'><pre>[54960 values with dtype=float64]</pre></div></li><li class='xr-var-item'><div class='xr-var-name'><span>wwt</span></div><div class='xr-var-dims'>(time, is_day, latitude, longitude, depth, sieve_size)</div><div class='xr-var-dtype'>float64</div><div class='xr-var-preview xr-preview'>...</div><input id='attrs-3b1c4372-a007-47ef-940d-30e9bef07d58' class='xr-var-attrs-in' type='checkbox' ><label for='attrs-3b1c4372-a007-47ef-940d-30e9bef07d58' title='Show/Hide attributes'><svg class='icon xr-icon-file-text2'><use xlink:href='#icon-file-text2'></use></svg></label><input id='data-2f36855a-3758-4d49-a539-fd6289918c74' class='xr-var-data-in' type='checkbox'><label for='data-2f36855a-3758-4d49-a539-fd6289918c74' title='Show/Hide data repr'><svg class='icon xr-icon-database'><use xlink:href='#icon-database'></use></svg></label><div class='xr-var-attrs'><dl class='xr-attrs'><dt><span>acknowledgement :</span></dt><dd>&#x27;&#x27;Data obtained via the Hawaii Ocean Time-series HOT-DOGS application; University of Hawai&#x27;i at Manoa. National Science Foundation Award # 1756517&#x27;&#x27;. https://hahana.soest.hawaii.edu/hot/hot-dogs/</dd><dt><span>comment :</span></dt><dd>nan</dd><dt><span>data_source :</span></dt><dd>Hawaii Ocean Time-series (HOT)</dd><dt><span>dataset_description :</span></dt><dd>âLarge zooplankton and micronekton play important roles in the export of organic material from surface waters in the open ocean. Global Ocean Flux planning models suggest that the relationship between primary production and passive particulate export flux is strongly influenced by size structure of the zooplankton community (e.g., PaffenhÃ¶ffer &amp; Knowles, 1979; Small et al., 1987; Frost, 1984). Active vertical migrations also have important implications for the transport and transformation of surface-derived organic particulates to dissolved inorganic constituents at depth (Longhurst &amp; Harrison, 1988; Longhurst et al., 1990; Al-Mutairi &amp; Landry, 2001; Hannides et al., 2008). The zooplankton component of the time-series sampling effort allows such processes to be considered in the interpretation of seasonal and interannual variations in measured flux and the elemental mass balance (e.g., carbon and nitrogen sources and sinks) of the euphotic zone. At Station ALOHA, 6 net tows are scheduled per cruise. Three midnight (2200 - 0200) and 3 mid-day (1000 - 1400) oblique tows are done using a 1-m2 net (3-m length) with 202-Âµm mesh Nitex netting. The net is towed obliquely at approximately 1 knot, from the surface to approximately 175 m and then back to the surface. Towing time is approximately 20-30 minutes. The tows are subsequently size-fractioned and analyzed for mesozooplankton wet and dry weight and C and N biomass.â Rows with no depth value have been removed. Time is in local time (HST). [https://hahana.soest.hawaii.edu/hot/methods/plankton.html](https://hahana.soest.hawaii.edu/hot/methods/plankton.html)</dd><dt><span>dataset_id :</span></dt><dd>758</dd><dt><span>dataset_name :</span></dt><dd>Zooplankton Community Structure HOT v2022</dd><dt><span>dataset_short_name :</span></dt><dd>HOT_Macrozooplankton_v2022</dd><dt><span>depth_max :</span></dt><dd>271</dd><dt><span>depth_min :</span></dt><dd>9</dd><dt><span>distributor :</span></dt><dd>Hawaii Ocean Time-series http://hahana.soest.hawaii.edu/hot/hot-dogs/</dd><dt><span>id :</span></dt><dd>18831</dd><dt><span>keywords :</span></dt><dd>ALOHA, Angel White Lab, &#x27;&#x27;Data obtained via the Hawaii Ocean Time-series HOT-DOGS application; University of Hawai&#x27;i at Manoa. National Science Foundation Award # 1756517&#x27;&#x27;. https://hahana.soest.hawaii.edu/hot/hot-dogs/, David Karl Lab, Hawaii Ocean Time Series, Hawaii Ocean Time-series (HOT), Hawaii Ocean Time-series Data Organization &amp; Graphical System (HOT-DOGS) http://hahana.soest.hawaii.edu/hot/hot-dogs/, HOT, HOT_Macrozooplankton_v2022, HOT052, HOT053, HOT054, HOT055, HOT056, HOT057, HOT058, HOT060, HOT061, HOT062, HOT063, HOT064, HOT065, HOT066, HOT067, HOT068, HOT069, HOT070, HOT071, HOT072, HOT073, HOT074, HOT075, HOT076, HOT077, HOT078, HOT079, HOT080, HOT081, HOT082, HOT083, HOT084, HOT085, HOT086, HOT087, HOT088, HOT089, HOT090, HOT091, HOT092, HOT093, HOT094, HOT095, HOT096, HOT097, HOT098, HOT099, HOT100, HOT101, HOT102, HOT103, HOT104, HOT105, HOT106, HOT107, HOT108, HOT109, HOT110, HOT111, HOT112, HOT113, HOT114, HOT115, HOT116, HOT117, HOT118, HOT119, HOT120, HOT121, HOT122, HOT123, HOT124, HOT125, HOT126, HOT127, HOT129, HOT130, HOT131, HOT132, HOT133, HOT134, HOT135, HOT136, HOT137, HOT138, HOT139, HOT140, HOT141, HOT143, HOT144, HOT145, HOT146, HOT147, HOT148, HOT149, HOT150, HOT151, HOT152, HOT153, HOT154, HOT155, HOT156, HOT157, HOT158, HOT159, HOT160, HOT162, HOT163, HOT164, HOT165, HOT166, HOT167, HOT168, HOT170, HOT171, HOT172, HOT174, HOT175, HOT176, HOT178, HOT179, HOT180, HOT181, HOT182, HOT183, HOT184, HOT185, HOT186, HOT187, HOT188, HOT189, HOT190, HOT191, HOT192, HOT193, HOT194, HOT195, HOT196, HOT197, HOT198, HOT199, HOT200, HOT201, HOT202, HOT203, HOT204, HOT205, HOT206, HOT208, HOT209, HOT210, HOT211, HOT212, HOT213, HOT214, HOT215, HOT216, HOT217, HOT220, HOT221, HOT222, HOT223, HOT224, HOT225, HOT226, HOT227, HOT228, HOT229, HOT230, HOT231, HOT232, HOT233, HOT234, HOT235, HOT236, HOT237, HOT238, HOT239, HOT240, HOT241, HOT242, HOT243, HOT244, HOT245, HOT246, HOT247, HOT248, HOT249, HOT250, HOT251, HOT252, HOT253, HOT254, HOT255, HOT256, HOT257, HOT258, HOT259, HOT260, HOT261, HOT262, HOT263, HOT264, HOT265, HOT266, HOT267, HOT268, HOT269, HOT270, HOT271, HOT272, HOT273, HOT274, HOT275, HOT277, HOT278, HOT279, HOT280, HOT281, HOT282, HOT283, HOT284, HOT285, HOT286, HOT287, HOT288, HOT289, HOT290, HOT291, HOT292, HOT293, HOT294, HOT295, HOT296, HOT297, HOT298, HOT299, HOT300, HOT301, HOT302, HOT303, HOT304, HOT305, HOT306, HOT307, HOT309, HOT310, HOT311, HOT312, HOT313, HOT314, HOT315, HOT316, HOT317, HOT319, HOT320, HOT321, HOT322, HOT323, HOT324, HOT325, HOT326, HOT327, HOT328, HOT329, HOT330, HOT331, HOT332, HOT333, HOT334, HOT335, HOT336, HOT337, HOT338, HOT339, in situ, insitu, in-situ, Macrozooplankton, North Pacific Ocean, observation, Pacific Ocean, rep, reprocessed, UH, University of Hawaii, University of Hawai&#x27;i at Manoa, Wet Weight, wwt, zooplankton, Zooplankton Community Structure HOT v2022, Zooplankton Net</dd><dt><span>lat_max :</span></dt><dd>22.75</dd><dt><span>lat_min :</span></dt><dd>22.75</dd><dt><span>lon_max :</span></dt><dd>-158</dd><dt><span>lon_min :</span></dt><dd>-158</dd><dt><span>long_name :</span></dt><dd>Wet Weight</dd><dt><span>make :</span></dt><dd>Observation</dd><dt><span>process_level :</span></dt><dd>Reprocessed</dd><dt><span>refrences :</span></dt><dd>nan</dd><dt><span>sensor :</span></dt><dd>Zooplankton Net</dd><dt><span>spatial_resolution :</span></dt><dd>Irregular</dd><dt><span>study_domain :</span></dt><dd>Biology</dd><dt><span>table_name :</span></dt><dd>tblHOT_Macrozooplankton_v2022</dd><dt><span>temporal_resolution :</span></dt><dd>Irregular</dd><dt><span>time_max :</span></dt><dd>2022-09-02T22:13:00.000Z</dd><dt><span>time_min :</span></dt><dd>1994-02-17T11:08:00.000Z</dd><dt><span>units :</span></dt><dd>g/m3</dd><dt><span>variable_25th :</span></dt><dd>0.92145</dd><dt><span>variable_50th :</span></dt><dd>1.5543</dd><dt><span>variable_75th :</span></dt><dd>2.567225</dd><dt><span>variable_count :</span></dt><dd>8682.0</dd><dt><span>variable_max :</span></dt><dd>28.2872</dd><dt><span>variable_mean :</span></dt><dd>2.4719013707</dd><dt><span>variable_min :</span></dt><dd>-0.0554</dd><dt><span>variable_std :</span></dt><dd>2.8067152069</dd><dt><span>visualize :</span></dt><dd>1.0</dd></dl></div><div class='xr-var-data'><pre>[54960 values with dtype=float64]</pre></div></li><li class='xr-var-item'><div class='xr-var-name'><span>xmiss</span></div><div class='xr-var-dims'>(time, latitude, longitude, depth)</div><div class='xr-var-dtype'>float64</div><div class='xr-var-preview xr-preview'>...</div><input id='attrs-61b1b3cb-96d0-45bb-b40d-fe5e7fc1c9af' class='xr-var-attrs-in' type='checkbox' ><label for='attrs-61b1b3cb-96d0-45bb-b40d-fe5e7fc1c9af' title='Show/Hide attributes'><svg class='icon xr-icon-file-text2'><use xlink:href='#icon-file-text2'></use></svg></label><input id='data-4c2e9384-d985-46e1-8be9-4b234c7c6584' class='xr-var-data-in' type='checkbox'><label for='data-4c2e9384-d985-46e1-8be9-4b234c7c6584' title='Show/Hide data repr'><svg class='icon xr-icon-database'><use xlink:href='#icon-database'></use></svg></label><div class='xr-var-attrs'><dl class='xr-attrs'><dt><span>acknowledgement :</span></dt><dd>&#x27;&#x27;Data obtained via the Hawaii Ocean Time-series HOT-DOGS application; University of Hawai&#x27;i at Manoa. National Science Foundation Award # 1756517&#x27;&#x27;. https://hahana.soest.hawaii.edu/hot/hot-dogs/</dd><dt><span>comment :</span></dt><dd>nan</dd><dt><span>data_source :</span></dt><dd>Hawaii Ocean Time-series (HOT)</dd><dt><span>dataset_description :</span></dt><dd>âThe majority of our sampling effort, approximately 60-72 h per standard HOT cruise, is spent at Station ALOHA. High vertical resolution environmental data are collected with a Sea-Bird CTD having external temperature (T), conductivity (C), dissolved oxygen (DO) and fluorescence (F) sensors and an internal pressure (P) sensor. A Sea-Bird 24-place carousel and an aluminum rosette that is capable of supporting 24 12-L PVC bottles are used to obtain water samples from desired depths. The CTD and rosette are deployed on a 3-conductor cable allowing for real-time display of data and for tripping the bottles at specific depths of interest. The CTD system takes 24 samples s-1 and the raw data are stored both on the computer and, for redundancy, on VHS-format video tapes. In February 2006, before cruise 178, we replaced our 24 aging 12-L PVC rosette bottles with new 12-L bottles fabricated at the University of Hawaii Engineering Support Facility, using plans and specifications from John Bullister (PMEL).â Time is in GMT.  [https://www.soest.hawaii.edu/HOT_WOCE/intro.html](https://www.soest.hawaii.edu/HOT_WOCE/intro.html)</dd><dt><span>dataset_id :</span></dt><dd>749</dd><dt><span>dataset_name :</span></dt><dd>CTD Hydrography HOT v2022</dd><dt><span>dataset_short_name :</span></dt><dd>HOT_CTD_v2022</dd><dt><span>depth_max :</span></dt><dd>4732.3762993821</dd><dt><span>depth_min :</span></dt><dd>0</dd><dt><span>distributor :</span></dt><dd>http://hahana.soest.hawaii.edu/hot/hot-dogs/</dd><dt><span>id :</span></dt><dd>18784</dd><dt><span>keywords :</span></dt><dd>ALOHA, Angel White Lab, CTD, CTD Hydrography HOT v2022, &#x27;&#x27;Data obtained via the Hawaii Ocean Time-series HOT-DOGS application; University of Hawai&#x27;i at Manoa. National Science Foundation Award # 1756517&#x27;&#x27;. https://hahana.soest.hawaii.edu/hot/hot-dogs/, David Karl Lab, Hawaii Ocean Time Series, Hawaii Ocean Time-series (HOT), HOT, HOT_CTD_v2022, HOT001, HOT002, HOT003, HOT004, HOT005, HOT006, HOT007, HOT008, HOT009, HOT010, HOT011, HOT012, HOT013, HOT014, HOT015, HOT016, HOT017, HOT018, HOT019, HOT020, HOT022, HOT023, HOT024, HOT025, HOT026, HOT027, HOT028, HOT029, HOT030, HOT031, HOT032, HOT033, HOT034, HOT035, HOT036, HOT037, HOT038, HOT039, HOT040, HOT041, HOT042, HOT043, HOT044, HOT045, HOT046, HOT047, HOT049, HOT050, HOT051, HOT052, HOT053, HOT054, HOT055, HOT056, HOT057, HOT058, HOT059, HOT060, HOT061, HOT062, HOT063, HOT064, HOT065, HOT066, HOT067, HOT068, HOT069, HOT070, HOT071, HOT072, HOT073, HOT074, HOT075, HOT076, HOT077, HOT078, HOT079, HOT080, HOT081, HOT082, HOT083, HOT084, HOT085, HOT086, HOT087, HOT088, HOT089, HOT090, HOT091, HOT092, HOT093, HOT094, HOT095, HOT096, HOT097, HOT098, HOT099, HOT100, HOT101, HOT102, HOT103, HOT104, HOT105, HOT106, HOT107, HOT108, HOT109, HOT110, HOT111, HOT112, HOT113, HOT114, HOT115, HOT116, HOT117, HOT118, HOT119, HOT120, HOT121, HOT122, HOT123, HOT124, HOT125, HOT126, HOT127, HOT128, HOT129, HOT130, HOT131, HOT132, HOT133, HOT134, HOT135, HOT136, HOT137, HOT138, HOT139, HOT140, HOT141, HOT142, HOT143, HOT144, HOT145, HOT146, HOT147, HOT148, HOT149, HOT150, HOT151, HOT152, HOT153, HOT154, HOT155, HOT156, HOT157, HOT158, HOT159, HOT160, HOT161, HOT162, HOT163, HOT164, HOT165, HOT166, HOT167, HOT168, HOT169, HOT170, HOT171, HOT172, HOT173, HOT174, HOT175, HOT176, HOT177, HOT178, HOT179, HOT180, HOT181, HOT182, HOT183, HOT184, HOT185, HOT186, HOT187, HOT188, HOT189, HOT190, HOT191, HOT192, HOT193, HOT194, HOT195, HOT196, HOT197, HOT198, HOT199, HOT200, HOT201, HOT202, HOT203, HOT204, HOT205, HOT206, HOT208, HOT209, HOT210, HOT211, HOT212, HOT213, HOT214, HOT215, HOT216, HOT217, HOT219, HOT220, HOT221, HOT222, HOT223, HOT224, HOT225, HOT226, HOT227, HOT228, HOT229, HOT230, HOT231, HOT232, HOT233, HOT234, HOT235, HOT236, HOT237, HOT238, HOT239, HOT240, HOT241, HOT242, HOT243, HOT244, HOT245, HOT246, HOT247, HOT248, HOT249, HOT250, HOT251, HOT252, HOT253, HOT254, HOT255, HOT256, HOT257, HOT258, HOT259, HOT260, HOT261, HOT262, HOT263, HOT264, HOT265, HOT266, HOT267, HOT268, HOT269, HOT270, HOT271, HOT272, HOT273, HOT274, HOT275, HOT277, HOT278, HOT279, HOT280, HOT281, HOT282, HOT283, HOT284, HOT285, HOT286, HOT287, HOT288, HOT289, HOT290, HOT291, HOT292, HOT293, HOT294, HOT295, HOT296, HOT297, HOT298, HOT299, HOT300, HOT301, HOT302, HOT303, HOT304, HOT305, HOT306, HOT307, HOT308, HOT309, HOT310, HOT311, HOT312, HOT313, HOT314, HOT315, HOT316, HOT317, HOT318, HOT319, HOT320, HOT321, HOT322, HOT323, HOT324, HOT325, HOT326, HOT327, HOT328, HOT329, HOT330, HOT331, HOT332, HOT333, HOT334, HOT335, HOT336, HOT337, HOT338, HOT339, http://hahana.soest.hawaii.edu/hot/hot-dogs/, hydrography, in situ, insitu, in-situ, North Pacific Ocean, observation, Pacific Ocean, rep, reprocessed, Transmission, UH, University of Hawaii, University of Hawai&#x27;i at Manoa, xmiss</dd><dt><span>lat_max :</span></dt><dd>22.75</dd><dt><span>lat_min :</span></dt><dd>22.75</dd><dt><span>lon_max :</span></dt><dd>-158</dd><dt><span>lon_min :</span></dt><dd>-158</dd><dt><span>long_name :</span></dt><dd>Transmission</dd><dt><span>make :</span></dt><dd>Observation</dd><dt><span>process_level :</span></dt><dd>Reprocessed</dd><dt><span>refrences :</span></dt><dd>nan</dd><dt><span>sensor :</span></dt><dd>CTD</dd><dt><span>spatial_resolution :</span></dt><dd>Irregular</dd><dt><span>study_domain :</span></dt><dd>Biogeochemistry</dd><dt><span>table_name :</span></dt><dd>tblHOT_CTD_v2022</dd><dt><span>temporal_resolution :</span></dt><dd>Irregular</dd><dt><span>time_max :</span></dt><dd>2022-09-01T00:00:00.000Z</dd><dt><span>time_min :</span></dt><dd>1988-10-31T00:00:00.000Z</dd><dt><span>units :</span></dt><dd>% transmission</dd><dt><span>variable_25th :</span></dt><dd>89.8635</dd><dt><span>variable_50th :</span></dt><dd>90.73</dd><dt><span>variable_75th :</span></dt><dd>90.989</dd><dt><span>variable_count :</span></dt><dd>12464.0</dd><dt><span>variable_max :</span></dt><dd>91.965</dd><dt><span>variable_mean :</span></dt><dd>79.2659367779</dd><dt><span>variable_min :</span></dt><dd>0.0</dd><dt><span>variable_std :</span></dt><dd>29.8556715999</dd><dt><span>visualize :</span></dt><dd>1.0</dd></dl></div><div class='xr-var-data'><pre>[5496 values with dtype=float64]</pre></div></li></ul></div></li><li class='xr-section-item'><input id='section-dff7f554-a424-4c7e-857d-ab7977f59ec9' class='xr-section-summary-in' type='checkbox'  ><label for='section-dff7f554-a424-4c7e-857d-ab7977f59ec9' class='xr-section-summary' >Indexes: <span>(6)</span></label><div class='xr-section-inline-details'></div><div class='xr-section-details'><ul class='xr-var-list'><li class='xr-var-item'><div class='xr-index-name'><div>depth</div></div><div class='xr-index-preview'>PandasIndex</div><div></div><input id='index-0794e2b6-8b2b-4fc9-bfc7-0e0cc9375a9c' class='xr-index-data-in' type='checkbox'/><label for='index-0794e2b6-8b2b-4fc9-bfc7-0e0cc9375a9c' title='Show/Hide index repr'><svg class='icon xr-icon-database'><use xlink:href='#icon-database'></use></svg></label><div class='xr-index-data'><pre>PandasIndex(Index([50, 100, 150, 200, 250, 300, 350, 400], dtype=&#x27;int64&#x27;, name=&#x27;depth&#x27;))</pre></div></li><li class='xr-var-item'><div class='xr-index-name'><div>is_day</div></div><div class='xr-index-preview'>PandasIndex</div><div></div><input id='index-e94e65c5-06b0-45e2-80d0-9d66b21d5106' class='xr-index-data-in' type='checkbox'/><label for='index-e94e65c5-06b0-45e2-80d0-9d66b21d5106' title='Show/Hide index repr'><svg class='icon xr-icon-database'><use xlink:href='#icon-database'></use></svg></label><div class='xr-index-data'><pre>PandasIndex(Index([False, True], dtype=&#x27;bool&#x27;, name=&#x27;is_day&#x27;))</pre></div></li><li class='xr-var-item'><div class='xr-index-name'><div>latitude</div></div><div class='xr-index-preview'>PandasIndex</div><div></div><input id='index-58e203c1-fb07-4901-894b-989bbde62517' class='xr-index-data-in' type='checkbox'/><label for='index-58e203c1-fb07-4901-894b-989bbde62517' title='Show/Hide index repr'><svg class='icon xr-icon-database'><use xlink:href='#icon-database'></use></svg></label><div class='xr-index-data'><pre>PandasIndex(Index([22.75], dtype=&#x27;float64&#x27;, name=&#x27;latitude&#x27;))</pre></div></li><li class='xr-var-item'><div class='xr-index-name'><div>longitude</div></div><div class='xr-index-preview'>PandasIndex</div><div></div><input id='index-0be6593e-0606-4b3c-b0a6-c343f8ebc436' class='xr-index-data-in' type='checkbox'/><label for='index-0be6593e-0606-4b3c-b0a6-c343f8ebc436' title='Show/Hide index repr'><svg class='icon xr-icon-database'><use xlink:href='#icon-database'></use></svg></label><div class='xr-index-data'><pre>PandasIndex(Index([-158], dtype=&#x27;int64&#x27;, name=&#x27;longitude&#x27;))</pre></div></li><li class='xr-var-item'><div class='xr-index-name'><div>sieve_size</div></div><div class='xr-index-preview'>PandasIndex</div><div></div><input id='index-e531942c-362c-4d6a-86f6-c6d1b06e1fea' class='xr-index-data-in' type='checkbox'/><label for='index-e531942c-362c-4d6a-86f6-c6d1b06e1fea' title='Show/Hide index repr'><svg class='icon xr-icon-database'><use xlink:href='#icon-database'></use></svg></label><div class='xr-index-data'><pre>PandasIndex(Index([0.2, 0.5, 1.0, 2.0, 5.0], dtype=&#x27;float64&#x27;, name=&#x27;sieve_size&#x27;))</pre></div></li><li class='xr-var-item'><div class='xr-index-name'><div>time</div></div><div class='xr-index-preview'>PandasIndex</div><div></div><input id='index-095045a5-2af9-45f9-8d93-debdd6f616c3' class='xr-index-data-in' type='checkbox'/><label for='index-095045a5-2af9-45f9-8d93-debdd6f616c3' title='Show/Hide index repr'><svg class='icon xr-icon-database'><use xlink:href='#icon-database'></use></svg></label><div class='xr-index-data'><pre>PandasIndex(DatetimeIndex([&#x27;1988-10-31&#x27;, &#x27;1988-12-02&#x27;, &#x27;1989-01-08&#x27;, &#x27;1989-02-26&#x27;,\n",
       "               &#x27;1989-02-28&#x27;, &#x27;1989-03-27&#x27;, &#x27;1989-05-18&#x27;, &#x27;1989-06-24&#x27;,\n",
       "               &#x27;1989-07-29&#x27;, &#x27;1989-08-24&#x27;,\n",
       "               ...\n",
       "               &#x27;2022-03-27&#x27;, &#x27;2022-03-28&#x27;, &#x27;2022-05-26&#x27;, &#x27;2022-05-27&#x27;,\n",
       "               &#x27;2022-07-09&#x27;, &#x27;2022-07-10&#x27;, &#x27;2022-07-30&#x27;, &#x27;2022-07-31&#x27;,\n",
       "               &#x27;2022-09-01&#x27;, &#x27;2022-09-02&#x27;],\n",
       "              dtype=&#x27;datetime64[ns]&#x27;, name=&#x27;time&#x27;, length=687, freq=None))</pre></div></li></ul></div></li><li class='xr-section-item'><input id='section-59a1a89c-5336-4255-a653-f5c12d5d8f20' class='xr-section-summary-in' type='checkbox' disabled ><label for='section-59a1a89c-5336-4255-a653-f5c12d5d8f20' class='xr-section-summary'  title='Expand/collapse section'>Attributes: <span>(0)</span></label><div class='xr-section-inline-details'></div><div class='xr-section-details'><dl class='xr-attrs'></dl></div></li></ul></div></div>"
      ],
      "text/plain": [
       "<xarray.Dataset> Size: 4MB\n",
       "Dimensions:     (time: 687, is_day: 2, latitude: 1, longitude: 1, depth: 8,\n",
       "                 sieve_size: 5)\n",
       "Coordinates:\n",
       "  * depth       (depth) int64 64B 50 100 150 200 250 300 350 400\n",
       "  * is_day      (is_day) bool 2B False True\n",
       "  * latitude    (latitude) float64 8B 22.75\n",
       "  * longitude   (longitude) int64 8B -158\n",
       "  * sieve_size  (sieve_size) float64 40B 0.2 0.5 1.0 2.0 5.0\n",
       "  * time        (time) datetime64[ns] 5kB 1988-10-31 1988-12-02 ... 2022-09-02\n",
       "Data variables: (12/25)\n",
       "    abnd        (time, is_day, latitude, longitude, depth, sieve_size) float64 440kB ...\n",
       "    bsal        (time, latitude, longitude, depth) float64 44kB ...\n",
       "    carb        (time, is_day, latitude, longitude, depth, sieve_size) float64 440kB ...\n",
       "    chl         (time, latitude, longitude, depth) float64 44kB ...\n",
       "    d12         (time, latitude, longitude, depth) float64 44kB ...\n",
       "    dwt         (time, is_day, latitude, longitude, depth, sieve_size) float64 440kB ...\n",
       "    ...          ...\n",
       "    svol        (time, is_day, latitude, longitude, depth, sieve_size) float64 440kB ...\n",
       "    temp        (time, latitude, longitude, depth) float64 44kB ...\n",
       "    theta       (time, latitude, longitude, depth) float64 44kB ...\n",
       "    vol         (time, is_day, latitude, longitude, depth, sieve_size) float64 440kB ...\n",
       "    wwt         (time, is_day, latitude, longitude, depth, sieve_size) float64 440kB ...\n",
       "    xmiss       (time, latitude, longitude, depth) float64 44kB ..."
      ]
     },
     "execution_count": 61,
     "metadata": {},
     "output_type": "execute_result"
    }
   ],
   "source": [
    "data_hot = xr.open_dataset(\n",
    "    \"../stations/hot/3_post_processed/hot_product.zarr\", engine=\"zarr\"\n",
    ")\n",
    "data_hot"
   ]
  },
  {
   "cell_type": "code",
   "execution_count": 62,
   "metadata": {},
   "outputs": [
    {
     "data": {
      "text/html": [
       "<div><svg style=\"position: absolute; width: 0; height: 0; overflow: hidden\">\n",
       "<defs>\n",
       "<symbol id=\"icon-database\" viewBox=\"0 0 32 32\">\n",
       "<path d=\"M16 0c-8.837 0-16 2.239-16 5v4c0 2.761 7.163 5 16 5s16-2.239 16-5v-4c0-2.761-7.163-5-16-5z\"></path>\n",
       "<path d=\"M16 17c-8.837 0-16-2.239-16-5v6c0 2.761 7.163 5 16 5s16-2.239 16-5v-6c0 2.761-7.163 5-16 5z\"></path>\n",
       "<path d=\"M16 26c-8.837 0-16-2.239-16-5v6c0 2.761 7.163 5 16 5s16-2.239 16-5v-6c0 2.761-7.163 5-16 5z\"></path>\n",
       "</symbol>\n",
       "<symbol id=\"icon-file-text2\" viewBox=\"0 0 32 32\">\n",
       "<path d=\"M28.681 7.159c-0.694-0.947-1.662-2.053-2.724-3.116s-2.169-2.030-3.116-2.724c-1.612-1.182-2.393-1.319-2.841-1.319h-15.5c-1.378 0-2.5 1.121-2.5 2.5v27c0 1.378 1.122 2.5 2.5 2.5h23c1.378 0 2.5-1.122 2.5-2.5v-19.5c0-0.448-0.137-1.23-1.319-2.841zM24.543 5.457c0.959 0.959 1.712 1.825 2.268 2.543h-4.811v-4.811c0.718 0.556 1.584 1.309 2.543 2.268zM28 29.5c0 0.271-0.229 0.5-0.5 0.5h-23c-0.271 0-0.5-0.229-0.5-0.5v-27c0-0.271 0.229-0.5 0.5-0.5 0 0 15.499-0 15.5 0v7c0 0.552 0.448 1 1 1h7v19.5z\"></path>\n",
       "<path d=\"M23 26h-14c-0.552 0-1-0.448-1-1s0.448-1 1-1h14c0.552 0 1 0.448 1 1s-0.448 1-1 1z\"></path>\n",
       "<path d=\"M23 22h-14c-0.552 0-1-0.448-1-1s0.448-1 1-1h14c0.552 0 1 0.448 1 1s-0.448 1-1 1z\"></path>\n",
       "<path d=\"M23 18h-14c-0.552 0-1-0.448-1-1s0.448-1 1-1h14c0.552 0 1 0.448 1 1s-0.448 1-1 1z\"></path>\n",
       "</symbol>\n",
       "</defs>\n",
       "</svg>\n",
       "<style>/* CSS stylesheet for displaying xarray objects in jupyterlab.\n",
       " *\n",
       " */\n",
       "\n",
       ":root {\n",
       "  --xr-font-color0: var(--jp-content-font-color0, rgba(0, 0, 0, 1));\n",
       "  --xr-font-color2: var(--jp-content-font-color2, rgba(0, 0, 0, 0.54));\n",
       "  --xr-font-color3: var(--jp-content-font-color3, rgba(0, 0, 0, 0.38));\n",
       "  --xr-border-color: var(--jp-border-color2, #e0e0e0);\n",
       "  --xr-disabled-color: var(--jp-layout-color3, #bdbdbd);\n",
       "  --xr-background-color: var(--jp-layout-color0, white);\n",
       "  --xr-background-color-row-even: var(--jp-layout-color1, white);\n",
       "  --xr-background-color-row-odd: var(--jp-layout-color2, #eeeeee);\n",
       "}\n",
       "\n",
       "html[theme=dark],\n",
       "body[data-theme=dark],\n",
       "body.vscode-dark {\n",
       "  --xr-font-color0: rgba(255, 255, 255, 1);\n",
       "  --xr-font-color2: rgba(255, 255, 255, 0.54);\n",
       "  --xr-font-color3: rgba(255, 255, 255, 0.38);\n",
       "  --xr-border-color: #1F1F1F;\n",
       "  --xr-disabled-color: #515151;\n",
       "  --xr-background-color: #111111;\n",
       "  --xr-background-color-row-even: #111111;\n",
       "  --xr-background-color-row-odd: #313131;\n",
       "}\n",
       "\n",
       ".xr-wrap {\n",
       "  display: block !important;\n",
       "  min-width: 300px;\n",
       "  max-width: 700px;\n",
       "}\n",
       "\n",
       ".xr-text-repr-fallback {\n",
       "  /* fallback to plain text repr when CSS is not injected (untrusted notebook) */\n",
       "  display: none;\n",
       "}\n",
       "\n",
       ".xr-header {\n",
       "  padding-top: 6px;\n",
       "  padding-bottom: 6px;\n",
       "  margin-bottom: 4px;\n",
       "  border-bottom: solid 1px var(--xr-border-color);\n",
       "}\n",
       "\n",
       ".xr-header > div,\n",
       ".xr-header > ul {\n",
       "  display: inline;\n",
       "  margin-top: 0;\n",
       "  margin-bottom: 0;\n",
       "}\n",
       "\n",
       ".xr-obj-type,\n",
       ".xr-array-name {\n",
       "  margin-left: 2px;\n",
       "  margin-right: 10px;\n",
       "}\n",
       "\n",
       ".xr-obj-type {\n",
       "  color: var(--xr-font-color2);\n",
       "}\n",
       "\n",
       ".xr-sections {\n",
       "  padding-left: 0 !important;\n",
       "  display: grid;\n",
       "  grid-template-columns: 150px auto auto 1fr 20px 20px;\n",
       "}\n",
       "\n",
       ".xr-section-item {\n",
       "  display: contents;\n",
       "}\n",
       "\n",
       ".xr-section-item input {\n",
       "  display: none;\n",
       "}\n",
       "\n",
       ".xr-section-item input + label {\n",
       "  color: var(--xr-disabled-color);\n",
       "}\n",
       "\n",
       ".xr-section-item input:enabled + label {\n",
       "  cursor: pointer;\n",
       "  color: var(--xr-font-color2);\n",
       "}\n",
       "\n",
       ".xr-section-item input:enabled + label:hover {\n",
       "  color: var(--xr-font-color0);\n",
       "}\n",
       "\n",
       ".xr-section-summary {\n",
       "  grid-column: 1;\n",
       "  color: var(--xr-font-color2);\n",
       "  font-weight: 500;\n",
       "}\n",
       "\n",
       ".xr-section-summary > span {\n",
       "  display: inline-block;\n",
       "  padding-left: 0.5em;\n",
       "}\n",
       "\n",
       ".xr-section-summary-in:disabled + label {\n",
       "  color: var(--xr-font-color2);\n",
       "}\n",
       "\n",
       ".xr-section-summary-in + label:before {\n",
       "  display: inline-block;\n",
       "  content: '►';\n",
       "  font-size: 11px;\n",
       "  width: 15px;\n",
       "  text-align: center;\n",
       "}\n",
       "\n",
       ".xr-section-summary-in:disabled + label:before {\n",
       "  color: var(--xr-disabled-color);\n",
       "}\n",
       "\n",
       ".xr-section-summary-in:checked + label:before {\n",
       "  content: '▼';\n",
       "}\n",
       "\n",
       ".xr-section-summary-in:checked + label > span {\n",
       "  display: none;\n",
       "}\n",
       "\n",
       ".xr-section-summary,\n",
       ".xr-section-inline-details {\n",
       "  padding-top: 4px;\n",
       "  padding-bottom: 4px;\n",
       "}\n",
       "\n",
       ".xr-section-inline-details {\n",
       "  grid-column: 2 / -1;\n",
       "}\n",
       "\n",
       ".xr-section-details {\n",
       "  display: none;\n",
       "  grid-column: 1 / -1;\n",
       "  margin-bottom: 5px;\n",
       "}\n",
       "\n",
       ".xr-section-summary-in:checked ~ .xr-section-details {\n",
       "  display: contents;\n",
       "}\n",
       "\n",
       ".xr-array-wrap {\n",
       "  grid-column: 1 / -1;\n",
       "  display: grid;\n",
       "  grid-template-columns: 20px auto;\n",
       "}\n",
       "\n",
       ".xr-array-wrap > label {\n",
       "  grid-column: 1;\n",
       "  vertical-align: top;\n",
       "}\n",
       "\n",
       ".xr-preview {\n",
       "  color: var(--xr-font-color3);\n",
       "}\n",
       "\n",
       ".xr-array-preview,\n",
       ".xr-array-data {\n",
       "  padding: 0 5px !important;\n",
       "  grid-column: 2;\n",
       "}\n",
       "\n",
       ".xr-array-data,\n",
       ".xr-array-in:checked ~ .xr-array-preview {\n",
       "  display: none;\n",
       "}\n",
       "\n",
       ".xr-array-in:checked ~ .xr-array-data,\n",
       ".xr-array-preview {\n",
       "  display: inline-block;\n",
       "}\n",
       "\n",
       ".xr-dim-list {\n",
       "  display: inline-block !important;\n",
       "  list-style: none;\n",
       "  padding: 0 !important;\n",
       "  margin: 0;\n",
       "}\n",
       "\n",
       ".xr-dim-list li {\n",
       "  display: inline-block;\n",
       "  padding: 0;\n",
       "  margin: 0;\n",
       "}\n",
       "\n",
       ".xr-dim-list:before {\n",
       "  content: '(';\n",
       "}\n",
       "\n",
       ".xr-dim-list:after {\n",
       "  content: ')';\n",
       "}\n",
       "\n",
       ".xr-dim-list li:not(:last-child):after {\n",
       "  content: ',';\n",
       "  padding-right: 5px;\n",
       "}\n",
       "\n",
       ".xr-has-index {\n",
       "  font-weight: bold;\n",
       "}\n",
       "\n",
       ".xr-var-list,\n",
       ".xr-var-item {\n",
       "  display: contents;\n",
       "}\n",
       "\n",
       ".xr-var-item > div,\n",
       ".xr-var-item label,\n",
       ".xr-var-item > .xr-var-name span {\n",
       "  background-color: var(--xr-background-color-row-even);\n",
       "  margin-bottom: 0;\n",
       "}\n",
       "\n",
       ".xr-var-item > .xr-var-name:hover span {\n",
       "  padding-right: 5px;\n",
       "}\n",
       "\n",
       ".xr-var-list > li:nth-child(odd) > div,\n",
       ".xr-var-list > li:nth-child(odd) > label,\n",
       ".xr-var-list > li:nth-child(odd) > .xr-var-name span {\n",
       "  background-color: var(--xr-background-color-row-odd);\n",
       "}\n",
       "\n",
       ".xr-var-name {\n",
       "  grid-column: 1;\n",
       "}\n",
       "\n",
       ".xr-var-dims {\n",
       "  grid-column: 2;\n",
       "}\n",
       "\n",
       ".xr-var-dtype {\n",
       "  grid-column: 3;\n",
       "  text-align: right;\n",
       "  color: var(--xr-font-color2);\n",
       "}\n",
       "\n",
       ".xr-var-preview {\n",
       "  grid-column: 4;\n",
       "}\n",
       "\n",
       ".xr-index-preview {\n",
       "  grid-column: 2 / 5;\n",
       "  color: var(--xr-font-color2);\n",
       "}\n",
       "\n",
       ".xr-var-name,\n",
       ".xr-var-dims,\n",
       ".xr-var-dtype,\n",
       ".xr-preview,\n",
       ".xr-attrs dt {\n",
       "  white-space: nowrap;\n",
       "  overflow: hidden;\n",
       "  text-overflow: ellipsis;\n",
       "  padding-right: 10px;\n",
       "}\n",
       "\n",
       ".xr-var-name:hover,\n",
       ".xr-var-dims:hover,\n",
       ".xr-var-dtype:hover,\n",
       ".xr-attrs dt:hover {\n",
       "  overflow: visible;\n",
       "  width: auto;\n",
       "  z-index: 1;\n",
       "}\n",
       "\n",
       ".xr-var-attrs,\n",
       ".xr-var-data,\n",
       ".xr-index-data {\n",
       "  display: none;\n",
       "  background-color: var(--xr-background-color) !important;\n",
       "  padding-bottom: 5px !important;\n",
       "}\n",
       "\n",
       ".xr-var-attrs-in:checked ~ .xr-var-attrs,\n",
       ".xr-var-data-in:checked ~ .xr-var-data,\n",
       ".xr-index-data-in:checked ~ .xr-index-data {\n",
       "  display: block;\n",
       "}\n",
       "\n",
       ".xr-var-data > table {\n",
       "  float: right;\n",
       "}\n",
       "\n",
       ".xr-var-name span,\n",
       ".xr-var-data,\n",
       ".xr-index-name div,\n",
       ".xr-index-data,\n",
       ".xr-attrs {\n",
       "  padding-left: 25px !important;\n",
       "}\n",
       "\n",
       ".xr-attrs,\n",
       ".xr-var-attrs,\n",
       ".xr-var-data,\n",
       ".xr-index-data {\n",
       "  grid-column: 1 / -1;\n",
       "}\n",
       "\n",
       "dl.xr-attrs {\n",
       "  padding: 0;\n",
       "  margin: 0;\n",
       "  display: grid;\n",
       "  grid-template-columns: 125px auto;\n",
       "}\n",
       "\n",
       ".xr-attrs dt,\n",
       ".xr-attrs dd {\n",
       "  padding: 0;\n",
       "  margin: 0;\n",
       "  float: left;\n",
       "  padding-right: 10px;\n",
       "  width: auto;\n",
       "}\n",
       "\n",
       ".xr-attrs dt {\n",
       "  font-weight: normal;\n",
       "  grid-column: 1;\n",
       "}\n",
       "\n",
       ".xr-attrs dt:hover span {\n",
       "  display: inline-block;\n",
       "  background: var(--xr-background-color);\n",
       "  padding-right: 10px;\n",
       "}\n",
       "\n",
       ".xr-attrs dd {\n",
       "  grid-column: 2;\n",
       "  white-space: pre-wrap;\n",
       "  word-break: break-all;\n",
       "}\n",
       "\n",
       ".xr-icon-database,\n",
       ".xr-icon-file-text2,\n",
       ".xr-no-icon {\n",
       "  display: inline-block;\n",
       "  vertical-align: middle;\n",
       "  width: 1em;\n",
       "  height: 1.5em !important;\n",
       "  stroke-width: 0;\n",
       "  stroke: currentColor;\n",
       "  fill: currentColor;\n",
       "}\n",
       "</style><pre class='xr-text-repr-fallback'>&lt;xarray.Dataset&gt; Size: 36kB\n",
       "Dimensions:           (time: 69, is_day: 2, latitude: 1, longitude: 1, depth: 4)\n",
       "Coordinates:\n",
       "  * depth             (depth) int64 32B 150 200 250 300\n",
       "  * is_day            (is_day) bool 2B False True\n",
       "  * latitude          (latitude) int64 8B 50\n",
       "  * longitude         (longitude) int64 8B -150\n",
       "  * time              (time) datetime64[ns] 552B 1997-02-21 ... 2020-08-20\n",
       "Data variables:\n",
       "    chaetognaths      (time, is_day, latitude, longitude, depth) float64 4kB ...\n",
       "    crustaceans       (time, is_day, latitude, longitude, depth) float64 4kB ...\n",
       "    foram             (time, is_day, latitude, longitude, depth) float64 4kB ...\n",
       "    larvae            (time, is_day, latitude, longitude, depth) float64 4kB ...\n",
       "    other             (time, is_day, latitude, longitude, depth) float64 4kB ...\n",
       "    pteropods         (time, is_day, latitude, longitude, depth) float64 4kB ...\n",
       "    small_gelatinous  (time, is_day, latitude, longitude, depth) float64 4kB ...\n",
       "    thaliaceans       (time, is_day, latitude, longitude, depth) float64 4kB ...</pre><div class='xr-wrap' style='display:none'><div class='xr-header'><div class='xr-obj-type'>xarray.Dataset</div></div><ul class='xr-sections'><li class='xr-section-item'><input id='section-0f2dea65-4989-4d32-a3f2-8118f86670bc' class='xr-section-summary-in' type='checkbox' disabled ><label for='section-0f2dea65-4989-4d32-a3f2-8118f86670bc' class='xr-section-summary'  title='Expand/collapse section'>Dimensions:</label><div class='xr-section-inline-details'><ul class='xr-dim-list'><li><span class='xr-has-index'>time</span>: 69</li><li><span class='xr-has-index'>is_day</span>: 2</li><li><span class='xr-has-index'>latitude</span>: 1</li><li><span class='xr-has-index'>longitude</span>: 1</li><li><span class='xr-has-index'>depth</span>: 4</li></ul></div><div class='xr-section-details'></div></li><li class='xr-section-item'><input id='section-e9b67858-49f5-40bb-9bf4-206fd3f5535d' class='xr-section-summary-in' type='checkbox'  checked><label for='section-e9b67858-49f5-40bb-9bf4-206fd3f5535d' class='xr-section-summary' >Coordinates: <span>(5)</span></label><div class='xr-section-inline-details'></div><div class='xr-section-details'><ul class='xr-var-list'><li class='xr-var-item'><div class='xr-var-name'><span class='xr-has-index'>depth</span></div><div class='xr-var-dims'>(depth)</div><div class='xr-var-dtype'>int64</div><div class='xr-var-preview xr-preview'>150 200 250 300</div><input id='attrs-34e626c5-2f21-49bf-95a9-da36a5069bc1' class='xr-var-attrs-in' type='checkbox' ><label for='attrs-34e626c5-2f21-49bf-95a9-da36a5069bc1' title='Show/Hide attributes'><svg class='icon xr-icon-file-text2'><use xlink:href='#icon-file-text2'></use></svg></label><input id='data-35f023d8-c483-438e-a9bc-0e391c78294a' class='xr-var-data-in' type='checkbox'><label for='data-35f023d8-c483-438e-a9bc-0e391c78294a' title='Show/Hide data repr'><svg class='icon xr-icon-database'><use xlink:href='#icon-database'></use></svg></label><div class='xr-var-attrs'><dl class='xr-attrs'><dt><span>axis :</span></dt><dd>Z</dd><dt><span>long_name :</span></dt><dd>depth</dd><dt><span>standard_name :</span></dt><dd>depth</dd><dt><span>units :</span></dt><dd>m</dd></dl></div><div class='xr-var-data'><pre>array([150, 200, 250, 300])</pre></div></li><li class='xr-var-item'><div class='xr-var-name'><span class='xr-has-index'>is_day</span></div><div class='xr-var-dims'>(is_day)</div><div class='xr-var-dtype'>bool</div><div class='xr-var-preview xr-preview'>False True</div><input id='attrs-bf5b2153-4612-4de5-b353-714f3ef5b8d0' class='xr-var-attrs-in' type='checkbox' ><label for='attrs-bf5b2153-4612-4de5-b353-714f3ef5b8d0' title='Show/Hide attributes'><svg class='icon xr-icon-file-text2'><use xlink:href='#icon-file-text2'></use></svg></label><input id='data-f9fe21ed-c0cb-4444-af6a-c5d617fdb86e' class='xr-var-data-in' type='checkbox'><label for='data-f9fe21ed-c0cb-4444-af6a-c5d617fdb86e' title='Show/Hide data repr'><svg class='icon xr-icon-database'><use xlink:href='#icon-database'></use></svg></label><div class='xr-var-attrs'><dl class='xr-attrs'><dt><span>description :</span></dt><dd>Flag to indicate if the time is during the day or night</dd><dt><span>flag_meanings :</span></dt><dd>day night</dd><dt><span>flag_values :</span></dt><dd>[True, False]</dd><dt><span>long_name :</span></dt><dd>Is day</dd><dt><span>standard_name :</span></dt><dd>is_day</dd></dl></div><div class='xr-var-data'><pre>array([False,  True])</pre></div></li><li class='xr-var-item'><div class='xr-var-name'><span class='xr-has-index'>latitude</span></div><div class='xr-var-dims'>(latitude)</div><div class='xr-var-dtype'>int64</div><div class='xr-var-preview xr-preview'>50</div><input id='attrs-d6e37b04-00a6-4342-80c2-5ad83157d5f4' class='xr-var-attrs-in' type='checkbox' ><label for='attrs-d6e37b04-00a6-4342-80c2-5ad83157d5f4' title='Show/Hide attributes'><svg class='icon xr-icon-file-text2'><use xlink:href='#icon-file-text2'></use></svg></label><input id='data-67e0a7a8-d242-4b53-bf7d-351975134271' class='xr-var-data-in' type='checkbox'><label for='data-67e0a7a8-d242-4b53-bf7d-351975134271' title='Show/Hide data repr'><svg class='icon xr-icon-database'><use xlink:href='#icon-database'></use></svg></label><div class='xr-var-attrs'><dl class='xr-attrs'><dt><span>axis :</span></dt><dd>Y</dd><dt><span>long_name :</span></dt><dd>latitude</dd><dt><span>standard_name :</span></dt><dd>latitude</dd><dt><span>units :</span></dt><dd>degrees_north</dd></dl></div><div class='xr-var-data'><pre>array([50])</pre></div></li><li class='xr-var-item'><div class='xr-var-name'><span class='xr-has-index'>longitude</span></div><div class='xr-var-dims'>(longitude)</div><div class='xr-var-dtype'>int64</div><div class='xr-var-preview xr-preview'>-150</div><input id='attrs-537e68b7-5555-4a0b-a13e-1c94e22d25e2' class='xr-var-attrs-in' type='checkbox' ><label for='attrs-537e68b7-5555-4a0b-a13e-1c94e22d25e2' title='Show/Hide attributes'><svg class='icon xr-icon-file-text2'><use xlink:href='#icon-file-text2'></use></svg></label><input id='data-4c348e17-6fc2-418d-8f94-0a1a38ffce73' class='xr-var-data-in' type='checkbox'><label for='data-4c348e17-6fc2-418d-8f94-0a1a38ffce73' title='Show/Hide data repr'><svg class='icon xr-icon-database'><use xlink:href='#icon-database'></use></svg></label><div class='xr-var-attrs'><dl class='xr-attrs'><dt><span>axis :</span></dt><dd>X</dd><dt><span>long_name :</span></dt><dd>longitude</dd><dt><span>standard_name :</span></dt><dd>longitude</dd><dt><span>units :</span></dt><dd>degrees_east</dd></dl></div><div class='xr-var-data'><pre>array([-150])</pre></div></li><li class='xr-var-item'><div class='xr-var-name'><span class='xr-has-index'>time</span></div><div class='xr-var-dims'>(time)</div><div class='xr-var-dtype'>datetime64[ns]</div><div class='xr-var-preview xr-preview'>1997-02-21 ... 2020-08-20</div><input id='attrs-9759422c-4c4f-4321-a101-a3f55844a47d' class='xr-var-attrs-in' type='checkbox' ><label for='attrs-9759422c-4c4f-4321-a101-a3f55844a47d' title='Show/Hide attributes'><svg class='icon xr-icon-file-text2'><use xlink:href='#icon-file-text2'></use></svg></label><input id='data-7c0eb98c-1f14-4cdb-928c-252f0f7d615b' class='xr-var-data-in' type='checkbox'><label for='data-7c0eb98c-1f14-4cdb-928c-252f0f7d615b' title='Show/Hide data repr'><svg class='icon xr-icon-database'><use xlink:href='#icon-database'></use></svg></label><div class='xr-var-attrs'><dl class='xr-attrs'><dt><span>axis :</span></dt><dd>T</dd><dt><span>long_name :</span></dt><dd>time</dd><dt><span>standard_name :</span></dt><dd>time</dd></dl></div><div class='xr-var-data'><pre>array([&#x27;1997-02-21T00:00:00.000000000&#x27;, &#x27;1997-06-15T00:00:00.000000000&#x27;,\n",
       "       &#x27;1997-06-16T00:00:00.000000000&#x27;, &#x27;1997-09-04T00:00:00.000000000&#x27;,\n",
       "       &#x27;1997-09-05T00:00:00.000000000&#x27;, &#x27;1998-02-27T00:00:00.000000000&#x27;,\n",
       "       &#x27;1998-02-28T00:00:00.000000000&#x27;, &#x27;1998-06-13T00:00:00.000000000&#x27;,\n",
       "       &#x27;1998-09-05T00:00:00.000000000&#x27;, &#x27;1999-02-18T00:00:00.000000000&#x27;,\n",
       "       &#x27;1999-09-02T00:00:00.000000000&#x27;, &#x27;2000-06-09T00:00:00.000000000&#x27;,\n",
       "       &#x27;2000-09-14T00:00:00.000000000&#x27;, &#x27;2001-02-12T00:00:00.000000000&#x27;,\n",
       "       &#x27;2002-02-13T00:00:00.000000000&#x27;, &#x27;2002-07-05T00:00:00.000000000&#x27;,\n",
       "       &#x27;2002-09-03T00:00:00.000000000&#x27;, &#x27;2003-02-12T00:00:00.000000000&#x27;,\n",
       "       &#x27;2003-06-03T00:00:00.000000000&#x27;, &#x27;2003-09-06T00:00:00.000000000&#x27;,\n",
       "       &#x27;2003-09-07T00:00:00.000000000&#x27;, &#x27;2004-02-24T00:00:00.000000000&#x27;,\n",
       "       &#x27;2004-06-07T00:00:00.000000000&#x27;, &#x27;2004-08-26T00:00:00.000000000&#x27;,\n",
       "       &#x27;2005-02-18T00:00:00.000000000&#x27;, &#x27;2005-06-07T00:00:00.000000000&#x27;,\n",
       "       &#x27;2005-08-23T00:00:00.000000000&#x27;, &#x27;2006-02-13T00:00:00.000000000&#x27;,\n",
       "       &#x27;2006-07-17T00:00:00.000000000&#x27;, &#x27;2006-09-28T00:00:00.000000000&#x27;,\n",
       "       &#x27;2007-02-15T00:00:00.000000000&#x27;, &#x27;2007-06-07T00:00:00.000000000&#x27;,\n",
       "       &#x27;2007-08-22T00:00:00.000000000&#x27;, &#x27;2008-02-10T00:00:00.000000000&#x27;,\n",
       "       &#x27;2008-06-08T00:00:00.000000000&#x27;, &#x27;2008-08-21T00:00:00.000000000&#x27;,\n",
       "       &#x27;2009-02-05T00:00:00.000000000&#x27;, &#x27;2009-06-14T00:00:00.000000000&#x27;,\n",
       "       &#x27;2009-08-27T00:00:00.000000000&#x27;, &#x27;2010-06-14T00:00:00.000000000&#x27;,\n",
       "       &#x27;2010-08-26T00:00:00.000000000&#x27;, &#x27;2011-02-16T00:00:00.000000000&#x27;,\n",
       "       &#x27;2011-06-13T00:00:00.000000000&#x27;, &#x27;2011-08-26T00:00:00.000000000&#x27;,\n",
       "       &#x27;2012-02-15T00:00:00.000000000&#x27;, &#x27;2012-06-03T00:00:00.000000000&#x27;,\n",
       "       &#x27;2012-08-24T00:00:00.000000000&#x27;, &#x27;2013-02-13T00:00:00.000000000&#x27;,\n",
       "       &#x27;2013-06-18T00:00:00.000000000&#x27;, &#x27;2013-08-30T00:00:00.000000000&#x27;,\n",
       "       &#x27;2014-06-17T00:00:00.000000000&#x27;, &#x27;2014-08-26T00:00:00.000000000&#x27;,\n",
       "       &#x27;2015-02-19T00:00:00.000000000&#x27;, &#x27;2015-06-17T00:00:00.000000000&#x27;,\n",
       "       &#x27;2015-08-28T00:00:00.000000000&#x27;, &#x27;2016-02-16T00:00:00.000000000&#x27;,\n",
       "       &#x27;2016-06-14T00:00:00.000000000&#x27;, &#x27;2016-08-26T00:00:00.000000000&#x27;,\n",
       "       &#x27;2017-02-12T00:00:00.000000000&#x27;, &#x27;2017-06-13T00:00:00.000000000&#x27;,\n",
       "       &#x27;2017-08-24T00:00:00.000000000&#x27;, &#x27;2018-02-26T00:00:00.000000000&#x27;,\n",
       "       &#x27;2018-06-13T00:00:00.000000000&#x27;, &#x27;2018-09-20T00:00:00.000000000&#x27;,\n",
       "       &#x27;2019-02-12T00:00:00.000000000&#x27;, &#x27;2019-06-11T00:00:00.000000000&#x27;,\n",
       "       &#x27;2019-08-23T00:00:00.000000000&#x27;, &#x27;2020-02-16T00:00:00.000000000&#x27;,\n",
       "       &#x27;2020-08-20T00:00:00.000000000&#x27;], dtype=&#x27;datetime64[ns]&#x27;)</pre></div></li></ul></div></li><li class='xr-section-item'><input id='section-3c36dc3c-5152-48dc-9e44-30de65d5acbe' class='xr-section-summary-in' type='checkbox'  checked><label for='section-3c36dc3c-5152-48dc-9e44-30de65d5acbe' class='xr-section-summary' >Data variables: <span>(8)</span></label><div class='xr-section-inline-details'></div><div class='xr-section-details'><ul class='xr-var-list'><li class='xr-var-item'><div class='xr-var-name'><span>chaetognaths</span></div><div class='xr-var-dims'>(time, is_day, latitude, longitude, depth)</div><div class='xr-var-dtype'>float64</div><div class='xr-var-preview xr-preview'>0.301 nan nan nan ... nan nan nan</div><input id='attrs-d2d215c3-3679-4446-ba68-08389dbc187a' class='xr-var-attrs-in' type='checkbox' ><label for='attrs-d2d215c3-3679-4446-ba68-08389dbc187a' title='Show/Hide attributes'><svg class='icon xr-icon-file-text2'><use xlink:href='#icon-file-text2'></use></svg></label><input id='data-ce07bc01-40f5-47c8-8a2f-f4cf6ae5a2a8' class='xr-var-data-in' type='checkbox'><label for='data-ce07bc01-40f5-47c8-8a2f-f4cf6ae5a2a8' title='Show/Hide data repr'><svg class='icon xr-icon-database'><use xlink:href='#icon-database'></use></svg></label><div class='xr-var-attrs'><dl class='xr-attrs'><dt><span>units :</span></dt><dd>mg/m3</dd></dl></div><div class='xr-var-data'><pre>array([[[[[ 0.30098   ,         nan,         nan,         nan]]],\n",
       "\n",
       "\n",
       "        [[[        nan,         nan,         nan,         nan]]]],\n",
       "\n",
       "\n",
       "\n",
       "       [[[[ 9.71564   ,         nan,         nan,         nan]]],\n",
       "\n",
       "\n",
       "        [[[        nan,         nan,         nan,         nan]]]],\n",
       "\n",
       "\n",
       "\n",
       "       [[[[        nan,         nan,         nan,         nan]]],\n",
       "\n",
       "\n",
       "        [[[ 8.15264818,         nan,         nan,         nan]]]],\n",
       "\n",
       "\n",
       "...\n",
       "\n",
       "\n",
       "       [[[[        nan,         nan,         nan,         nan]]],\n",
       "\n",
       "\n",
       "        [[[        nan,         nan,  3.34029   ,         nan]]]],\n",
       "\n",
       "\n",
       "\n",
       "       [[[[        nan,         nan,         nan,         nan]]],\n",
       "\n",
       "\n",
       "        [[[        nan,         nan,         nan,  2.46445   ]]]],\n",
       "\n",
       "\n",
       "\n",
       "       [[[[        nan,         nan,         nan,  5.02856   ]]],\n",
       "\n",
       "\n",
       "        [[[        nan,         nan,         nan,         nan]]]]])</pre></div></li><li class='xr-var-item'><div class='xr-var-name'><span>crustaceans</span></div><div class='xr-var-dims'>(time, is_day, latitude, longitude, depth)</div><div class='xr-var-dtype'>float64</div><div class='xr-var-preview xr-preview'>5.353 nan nan nan ... nan nan nan</div><input id='attrs-3f1454e5-d007-419c-be95-53b8acfd9cd9' class='xr-var-attrs-in' type='checkbox' ><label for='attrs-3f1454e5-d007-419c-be95-53b8acfd9cd9' title='Show/Hide attributes'><svg class='icon xr-icon-file-text2'><use xlink:href='#icon-file-text2'></use></svg></label><input id='data-4b9960a2-2360-4b22-8f4b-84ea6b29863b' class='xr-var-data-in' type='checkbox'><label for='data-4b9960a2-2360-4b22-8f4b-84ea6b29863b' title='Show/Hide data repr'><svg class='icon xr-icon-database'><use xlink:href='#icon-database'></use></svg></label><div class='xr-var-attrs'><dl class='xr-attrs'><dt><span>units :</span></dt><dd>mg/m3</dd></dl></div><div class='xr-var-data'><pre>array([[[[[ 5.35320667,         nan,         nan,         nan]]],\n",
       "\n",
       "\n",
       "        [[[        nan,         nan,         nan,         nan]]]],\n",
       "\n",
       "\n",
       "\n",
       "       [[[[ 8.6019    ,         nan,         nan,         nan]]],\n",
       "\n",
       "\n",
       "        [[[        nan,         nan,         nan,         nan]]]],\n",
       "\n",
       "\n",
       "\n",
       "       [[[[        nan,         nan,         nan,         nan]]],\n",
       "\n",
       "\n",
       "        [[[18.27906182,         nan,         nan,         nan]]]],\n",
       "\n",
       "\n",
       "...\n",
       "\n",
       "\n",
       "       [[[[        nan,         nan,         nan,         nan]]],\n",
       "\n",
       "\n",
       "        [[[        nan,         nan,  3.0931    ,         nan]]]],\n",
       "\n",
       "\n",
       "\n",
       "       [[[[        nan,         nan,         nan,         nan]]],\n",
       "\n",
       "\n",
       "        [[[        nan,         nan,         nan,  2.68974   ]]]],\n",
       "\n",
       "\n",
       "\n",
       "       [[[[        nan,         nan,         nan, 26.6579    ]]],\n",
       "\n",
       "\n",
       "        [[[        nan,         nan,         nan,         nan]]]]])</pre></div></li><li class='xr-var-item'><div class='xr-var-name'><span>foram</span></div><div class='xr-var-dims'>(time, is_day, latitude, longitude, depth)</div><div class='xr-var-dtype'>float64</div><div class='xr-var-preview xr-preview'>0.005687 nan nan ... nan nan nan</div><input id='attrs-36d4e9cd-b3b4-4b33-8a66-304b1246223d' class='xr-var-attrs-in' type='checkbox' ><label for='attrs-36d4e9cd-b3b4-4b33-8a66-304b1246223d' title='Show/Hide attributes'><svg class='icon xr-icon-file-text2'><use xlink:href='#icon-file-text2'></use></svg></label><input id='data-d7dd3994-94e2-4ae4-8417-572754b400e4' class='xr-var-data-in' type='checkbox'><label for='data-d7dd3994-94e2-4ae4-8417-572754b400e4' title='Show/Hide data repr'><svg class='icon xr-icon-database'><use xlink:href='#icon-database'></use></svg></label><div class='xr-var-attrs'><dl class='xr-attrs'><dt><span>units :</span></dt><dd>mg/m3</dd></dl></div><div class='xr-var-data'><pre>array([[[[[5.68666667e-03,            nan,            nan,\n",
       "                      nan]]],\n",
       "\n",
       "\n",
       "        [[[           nan,            nan,            nan,\n",
       "                      nan]]]],\n",
       "\n",
       "\n",
       "\n",
       "       [[[[4.43900000e-02,            nan,            nan,\n",
       "                      nan]]],\n",
       "\n",
       "\n",
       "        [[[           nan,            nan,            nan,\n",
       "                      nan]]]],\n",
       "\n",
       "\n",
       "\n",
       "       [[[[           nan,            nan,            nan,\n",
       "                      nan]]],\n",
       "...\n",
       "        [[[           nan,            nan, 5.32400000e-02,\n",
       "                      nan]]]],\n",
       "\n",
       "\n",
       "\n",
       "       [[[[           nan,            nan,            nan,\n",
       "                      nan]]],\n",
       "\n",
       "\n",
       "        [[[           nan,            nan,            nan,\n",
       "           2.97210000e-01]]]],\n",
       "\n",
       "\n",
       "\n",
       "       [[[[           nan,            nan,            nan,\n",
       "           4.11380000e-01]]],\n",
       "\n",
       "\n",
       "        [[[           nan,            nan,            nan,\n",
       "                      nan]]]]])</pre></div></li><li class='xr-var-item'><div class='xr-var-name'><span>larvae</span></div><div class='xr-var-dims'>(time, is_day, latitude, longitude, depth)</div><div class='xr-var-dtype'>float64</div><div class='xr-var-preview xr-preview'>0.2258 nan nan nan ... nan nan nan</div><input id='attrs-87be76fa-cea8-402b-8b67-cd5922be49da' class='xr-var-attrs-in' type='checkbox' ><label for='attrs-87be76fa-cea8-402b-8b67-cd5922be49da' title='Show/Hide attributes'><svg class='icon xr-icon-file-text2'><use xlink:href='#icon-file-text2'></use></svg></label><input id='data-3efeb49e-f0b5-4a8f-966f-e81aee1db3c0' class='xr-var-data-in' type='checkbox'><label for='data-3efeb49e-f0b5-4a8f-966f-e81aee1db3c0' title='Show/Hide data repr'><svg class='icon xr-icon-database'><use xlink:href='#icon-database'></use></svg></label><div class='xr-var-attrs'><dl class='xr-attrs'><dt><span>units :</span></dt><dd>mg/m3</dd></dl></div><div class='xr-var-data'><pre>array([[[[[0.22576   ,        nan,        nan,        nan]]],\n",
       "\n",
       "\n",
       "        [[[       nan,        nan,        nan,        nan]]]],\n",
       "\n",
       "\n",
       "\n",
       "       [[[[0.1077    ,        nan,        nan,        nan]]],\n",
       "\n",
       "\n",
       "        [[[       nan,        nan,        nan,        nan]]]],\n",
       "\n",
       "\n",
       "\n",
       "       [[[[       nan,        nan,        nan,        nan]]],\n",
       "\n",
       "\n",
       "        [[[0.01356   ,        nan,        nan,        nan]]]],\n",
       "\n",
       "\n",
       "...\n",
       "\n",
       "\n",
       "       [[[[       nan,        nan,        nan,        nan]]],\n",
       "\n",
       "\n",
       "        [[[       nan,        nan, 0.        ,        nan]]]],\n",
       "\n",
       "\n",
       "\n",
       "       [[[[       nan,        nan,        nan,        nan]]],\n",
       "\n",
       "\n",
       "        [[[       nan,        nan,        nan, 0.11673   ]]]],\n",
       "\n",
       "\n",
       "\n",
       "       [[[[       nan,        nan,        nan, 0.15629   ]]],\n",
       "\n",
       "\n",
       "        [[[       nan,        nan,        nan,        nan]]]]])</pre></div></li><li class='xr-var-item'><div class='xr-var-name'><span>other</span></div><div class='xr-var-dims'>(time, is_day, latitude, longitude, depth)</div><div class='xr-var-dtype'>float64</div><div class='xr-var-preview xr-preview'>0.2265 nan nan nan ... nan nan nan</div><input id='attrs-dec267c8-d6e3-4f8a-ba80-33ac72828855' class='xr-var-attrs-in' type='checkbox' ><label for='attrs-dec267c8-d6e3-4f8a-ba80-33ac72828855' title='Show/Hide attributes'><svg class='icon xr-icon-file-text2'><use xlink:href='#icon-file-text2'></use></svg></label><input id='data-83bc78da-82e2-4882-a985-c1dc9d11f036' class='xr-var-data-in' type='checkbox'><label for='data-83bc78da-82e2-4882-a985-c1dc9d11f036' title='Show/Hide data repr'><svg class='icon xr-icon-database'><use xlink:href='#icon-database'></use></svg></label><div class='xr-var-attrs'><dl class='xr-attrs'><dt><span>units :</span></dt><dd>mg/m3</dd></dl></div><div class='xr-var-data'><pre>array([[[[[2.26450000e-01,            nan,            nan,\n",
       "                      nan]]],\n",
       "\n",
       "\n",
       "        [[[           nan,            nan,            nan,\n",
       "                      nan]]]],\n",
       "\n",
       "\n",
       "\n",
       "       [[[[5.67000000e-03,            nan,            nan,\n",
       "                      nan]]],\n",
       "\n",
       "\n",
       "        [[[           nan,            nan,            nan,\n",
       "                      nan]]]],\n",
       "\n",
       "\n",
       "\n",
       "       [[[[           nan,            nan,            nan,\n",
       "                      nan]]],\n",
       "...\n",
       "        [[[           nan,            nan, 0.00000000e+00,\n",
       "                      nan]]]],\n",
       "\n",
       "\n",
       "\n",
       "       [[[[           nan,            nan,            nan,\n",
       "                      nan]]],\n",
       "\n",
       "\n",
       "        [[[           nan,            nan,            nan,\n",
       "           2.92680000e-01]]]],\n",
       "\n",
       "\n",
       "\n",
       "       [[[[           nan,            nan,            nan,\n",
       "           5.36780000e-01]]],\n",
       "\n",
       "\n",
       "        [[[           nan,            nan,            nan,\n",
       "                      nan]]]]])</pre></div></li><li class='xr-var-item'><div class='xr-var-name'><span>pteropods</span></div><div class='xr-var-dims'>(time, is_day, latitude, longitude, depth)</div><div class='xr-var-dtype'>float64</div><div class='xr-var-preview xr-preview'>0.07408 nan nan nan ... nan nan nan</div><input id='attrs-18f1302d-8466-461c-9011-cf4477377f73' class='xr-var-attrs-in' type='checkbox' ><label for='attrs-18f1302d-8466-461c-9011-cf4477377f73' title='Show/Hide attributes'><svg class='icon xr-icon-file-text2'><use xlink:href='#icon-file-text2'></use></svg></label><input id='data-305175af-d4fe-4b03-b3bf-f59d54a281b6' class='xr-var-data-in' type='checkbox'><label for='data-305175af-d4fe-4b03-b3bf-f59d54a281b6' title='Show/Hide data repr'><svg class='icon xr-icon-database'><use xlink:href='#icon-database'></use></svg></label><div class='xr-var-attrs'><dl class='xr-attrs'><dt><span>units :</span></dt><dd>mg/m3</dd></dl></div><div class='xr-var-data'><pre>array([[[[[7.40766667e-02,            nan,            nan,\n",
       "                      nan]]],\n",
       "\n",
       "\n",
       "        [[[           nan,            nan,            nan,\n",
       "                      nan]]]],\n",
       "\n",
       "\n",
       "\n",
       "       [[[[5.90960000e-01,            nan,            nan,\n",
       "                      nan]]],\n",
       "\n",
       "\n",
       "        [[[           nan,            nan,            nan,\n",
       "                      nan]]]],\n",
       "\n",
       "\n",
       "\n",
       "       [[[[           nan,            nan,            nan,\n",
       "                      nan]]],\n",
       "...\n",
       "        [[[           nan,            nan, 5.84500000e-02,\n",
       "                      nan]]]],\n",
       "\n",
       "\n",
       "\n",
       "       [[[[           nan,            nan,            nan,\n",
       "                      nan]]],\n",
       "\n",
       "\n",
       "        [[[           nan,            nan,            nan,\n",
       "           1.62250000e-01]]]],\n",
       "\n",
       "\n",
       "\n",
       "       [[[[           nan,            nan,            nan,\n",
       "           4.50860000e-01]]],\n",
       "\n",
       "\n",
       "        [[[           nan,            nan,            nan,\n",
       "                      nan]]]]])</pre></div></li><li class='xr-var-item'><div class='xr-var-name'><span>small_gelatinous</span></div><div class='xr-var-dims'>(time, is_day, latitude, longitude, depth)</div><div class='xr-var-dtype'>float64</div><div class='xr-var-preview xr-preview'>0.9322 nan nan nan ... nan nan nan</div><input id='attrs-08ade794-e413-442b-9a70-aa80d00a0d84' class='xr-var-attrs-in' type='checkbox' ><label for='attrs-08ade794-e413-442b-9a70-aa80d00a0d84' title='Show/Hide attributes'><svg class='icon xr-icon-file-text2'><use xlink:href='#icon-file-text2'></use></svg></label><input id='data-306e6a90-6999-44ba-ad02-6d818cb8aff7' class='xr-var-data-in' type='checkbox'><label for='data-306e6a90-6999-44ba-ad02-6d818cb8aff7' title='Show/Hide data repr'><svg class='icon xr-icon-database'><use xlink:href='#icon-database'></use></svg></label><div class='xr-var-attrs'><dl class='xr-attrs'><dt><span>units :</span></dt><dd>mg/m3</dd></dl></div><div class='xr-var-data'><pre>array([[[[[ 0.93224   ,         nan,         nan,         nan]]],\n",
       "\n",
       "\n",
       "        [[[        nan,         nan,         nan,         nan]]]],\n",
       "\n",
       "\n",
       "\n",
       "       [[[[ 0.61364   ,         nan,         nan,         nan]]],\n",
       "\n",
       "\n",
       "        [[[        nan,         nan,         nan,         nan]]]],\n",
       "\n",
       "\n",
       "\n",
       "       [[[[        nan,         nan,         nan,         nan]]],\n",
       "\n",
       "\n",
       "        [[[ 0.65183636,         nan,         nan,         nan]]]],\n",
       "\n",
       "\n",
       "...\n",
       "\n",
       "\n",
       "       [[[[        nan,         nan,         nan,         nan]]],\n",
       "\n",
       "\n",
       "        [[[        nan,         nan,  0.26676   ,         nan]]]],\n",
       "\n",
       "\n",
       "\n",
       "       [[[[        nan,         nan,         nan,         nan]]],\n",
       "\n",
       "\n",
       "        [[[        nan,         nan,         nan,  1.88788   ]]]],\n",
       "\n",
       "\n",
       "\n",
       "       [[[[        nan,         nan,         nan,  3.90876   ]]],\n",
       "\n",
       "\n",
       "        [[[        nan,         nan,         nan,         nan]]]]])</pre></div></li><li class='xr-var-item'><div class='xr-var-name'><span>thaliaceans</span></div><div class='xr-var-dims'>(time, is_day, latitude, longitude, depth)</div><div class='xr-var-dtype'>float64</div><div class='xr-var-preview xr-preview'>0.0 nan nan nan ... nan nan nan nan</div><input id='attrs-d7f221d2-61f0-4413-a858-31fa3cb41a1c' class='xr-var-attrs-in' type='checkbox' ><label for='attrs-d7f221d2-61f0-4413-a858-31fa3cb41a1c' title='Show/Hide attributes'><svg class='icon xr-icon-file-text2'><use xlink:href='#icon-file-text2'></use></svg></label><input id='data-cf18484e-1ee2-4118-b0e2-947d0cff6f0a' class='xr-var-data-in' type='checkbox'><label for='data-cf18484e-1ee2-4118-b0e2-947d0cff6f0a' title='Show/Hide data repr'><svg class='icon xr-icon-database'><use xlink:href='#icon-database'></use></svg></label><div class='xr-var-attrs'><dl class='xr-attrs'><dt><span>units :</span></dt><dd>mg/m3</dd></dl></div><div class='xr-var-data'><pre>array([[[[[0.00000000e+00,            nan,            nan,\n",
       "                      nan]]],\n",
       "\n",
       "\n",
       "        [[[           nan,            nan,            nan,\n",
       "                      nan]]]],\n",
       "\n",
       "\n",
       "\n",
       "       [[[[8.50310000e-01,            nan,            nan,\n",
       "                      nan]]],\n",
       "\n",
       "\n",
       "        [[[           nan,            nan,            nan,\n",
       "                      nan]]]],\n",
       "\n",
       "\n",
       "\n",
       "       [[[[           nan,            nan,            nan,\n",
       "                      nan]]],\n",
       "...\n",
       "        [[[           nan,            nan, 0.00000000e+00,\n",
       "                      nan]]]],\n",
       "\n",
       "\n",
       "\n",
       "       [[[[           nan,            nan,            nan,\n",
       "                      nan]]],\n",
       "\n",
       "\n",
       "        [[[           nan,            nan,            nan,\n",
       "           4.51000000e-03]]]],\n",
       "\n",
       "\n",
       "\n",
       "       [[[[           nan,            nan,            nan,\n",
       "           9.00122000e+00]]],\n",
       "\n",
       "\n",
       "        [[[           nan,            nan,            nan,\n",
       "                      nan]]]]])</pre></div></li></ul></div></li><li class='xr-section-item'><input id='section-1f704120-1081-4d70-b483-c7d5c67d7af2' class='xr-section-summary-in' type='checkbox'  ><label for='section-1f704120-1081-4d70-b483-c7d5c67d7af2' class='xr-section-summary' >Indexes: <span>(5)</span></label><div class='xr-section-inline-details'></div><div class='xr-section-details'><ul class='xr-var-list'><li class='xr-var-item'><div class='xr-index-name'><div>depth</div></div><div class='xr-index-preview'>PandasIndex</div><div></div><input id='index-cfd0e3ec-4509-43e9-a8e3-1d207ea5a1e2' class='xr-index-data-in' type='checkbox'/><label for='index-cfd0e3ec-4509-43e9-a8e3-1d207ea5a1e2' title='Show/Hide index repr'><svg class='icon xr-icon-database'><use xlink:href='#icon-database'></use></svg></label><div class='xr-index-data'><pre>PandasIndex(Index([150, 200, 250, 300], dtype=&#x27;int64&#x27;, name=&#x27;depth&#x27;))</pre></div></li><li class='xr-var-item'><div class='xr-index-name'><div>is_day</div></div><div class='xr-index-preview'>PandasIndex</div><div></div><input id='index-64afe6a3-d069-4a97-afa5-f61fec80c00a' class='xr-index-data-in' type='checkbox'/><label for='index-64afe6a3-d069-4a97-afa5-f61fec80c00a' title='Show/Hide index repr'><svg class='icon xr-icon-database'><use xlink:href='#icon-database'></use></svg></label><div class='xr-index-data'><pre>PandasIndex(Index([False, True], dtype=&#x27;bool&#x27;, name=&#x27;is_day&#x27;))</pre></div></li><li class='xr-var-item'><div class='xr-index-name'><div>latitude</div></div><div class='xr-index-preview'>PandasIndex</div><div></div><input id='index-c2fcf979-9a40-496a-ad67-eaad52eb7841' class='xr-index-data-in' type='checkbox'/><label for='index-c2fcf979-9a40-496a-ad67-eaad52eb7841' title='Show/Hide index repr'><svg class='icon xr-icon-database'><use xlink:href='#icon-database'></use></svg></label><div class='xr-index-data'><pre>PandasIndex(Index([50], dtype=&#x27;int64&#x27;, name=&#x27;latitude&#x27;))</pre></div></li><li class='xr-var-item'><div class='xr-index-name'><div>longitude</div></div><div class='xr-index-preview'>PandasIndex</div><div></div><input id='index-27e62408-e77e-414a-a5b6-cb27241fd60e' class='xr-index-data-in' type='checkbox'/><label for='index-27e62408-e77e-414a-a5b6-cb27241fd60e' title='Show/Hide index repr'><svg class='icon xr-icon-database'><use xlink:href='#icon-database'></use></svg></label><div class='xr-index-data'><pre>PandasIndex(Index([-150], dtype=&#x27;int64&#x27;, name=&#x27;longitude&#x27;))</pre></div></li><li class='xr-var-item'><div class='xr-index-name'><div>time</div></div><div class='xr-index-preview'>PandasIndex</div><div></div><input id='index-f50acaaa-880e-4a91-ad90-9eec2575857c' class='xr-index-data-in' type='checkbox'/><label for='index-f50acaaa-880e-4a91-ad90-9eec2575857c' title='Show/Hide index repr'><svg class='icon xr-icon-database'><use xlink:href='#icon-database'></use></svg></label><div class='xr-index-data'><pre>PandasIndex(DatetimeIndex([&#x27;1997-02-21&#x27;, &#x27;1997-06-15&#x27;, &#x27;1997-06-16&#x27;, &#x27;1997-09-04&#x27;,\n",
       "               &#x27;1997-09-05&#x27;, &#x27;1998-02-27&#x27;, &#x27;1998-02-28&#x27;, &#x27;1998-06-13&#x27;,\n",
       "               &#x27;1998-09-05&#x27;, &#x27;1999-02-18&#x27;, &#x27;1999-09-02&#x27;, &#x27;2000-06-09&#x27;,\n",
       "               &#x27;2000-09-14&#x27;, &#x27;2001-02-12&#x27;, &#x27;2002-02-13&#x27;, &#x27;2002-07-05&#x27;,\n",
       "               &#x27;2002-09-03&#x27;, &#x27;2003-02-12&#x27;, &#x27;2003-06-03&#x27;, &#x27;2003-09-06&#x27;,\n",
       "               &#x27;2003-09-07&#x27;, &#x27;2004-02-24&#x27;, &#x27;2004-06-07&#x27;, &#x27;2004-08-26&#x27;,\n",
       "               &#x27;2005-02-18&#x27;, &#x27;2005-06-07&#x27;, &#x27;2005-08-23&#x27;, &#x27;2006-02-13&#x27;,\n",
       "               &#x27;2006-07-17&#x27;, &#x27;2006-09-28&#x27;, &#x27;2007-02-15&#x27;, &#x27;2007-06-07&#x27;,\n",
       "               &#x27;2007-08-22&#x27;, &#x27;2008-02-10&#x27;, &#x27;2008-06-08&#x27;, &#x27;2008-08-21&#x27;,\n",
       "               &#x27;2009-02-05&#x27;, &#x27;2009-06-14&#x27;, &#x27;2009-08-27&#x27;, &#x27;2010-06-14&#x27;,\n",
       "               &#x27;2010-08-26&#x27;, &#x27;2011-02-16&#x27;, &#x27;2011-06-13&#x27;, &#x27;2011-08-26&#x27;,\n",
       "               &#x27;2012-02-15&#x27;, &#x27;2012-06-03&#x27;, &#x27;2012-08-24&#x27;, &#x27;2013-02-13&#x27;,\n",
       "               &#x27;2013-06-18&#x27;, &#x27;2013-08-30&#x27;, &#x27;2014-06-17&#x27;, &#x27;2014-08-26&#x27;,\n",
       "               &#x27;2015-02-19&#x27;, &#x27;2015-06-17&#x27;, &#x27;2015-08-28&#x27;, &#x27;2016-02-16&#x27;,\n",
       "               &#x27;2016-06-14&#x27;, &#x27;2016-08-26&#x27;, &#x27;2017-02-12&#x27;, &#x27;2017-06-13&#x27;,\n",
       "               &#x27;2017-08-24&#x27;, &#x27;2018-02-26&#x27;, &#x27;2018-06-13&#x27;, &#x27;2018-09-20&#x27;,\n",
       "               &#x27;2019-02-12&#x27;, &#x27;2019-06-11&#x27;, &#x27;2019-08-23&#x27;, &#x27;2020-02-16&#x27;,\n",
       "               &#x27;2020-08-20&#x27;],\n",
       "              dtype=&#x27;datetime64[ns]&#x27;, name=&#x27;time&#x27;, freq=None))</pre></div></li></ul></div></li><li class='xr-section-item'><input id='section-4c980164-f8e8-4b02-91ef-3d11d08d1282' class='xr-section-summary-in' type='checkbox' disabled ><label for='section-4c980164-f8e8-4b02-91ef-3d11d08d1282' class='xr-section-summary'  title='Expand/collapse section'>Attributes: <span>(0)</span></label><div class='xr-section-inline-details'></div><div class='xr-section-details'><dl class='xr-attrs'></dl></div></li></ul></div></div>"
      ],
      "text/plain": [
       "<xarray.Dataset> Size: 36kB\n",
       "Dimensions:           (time: 69, is_day: 2, latitude: 1, longitude: 1, depth: 4)\n",
       "Coordinates:\n",
       "  * depth             (depth) int64 32B 150 200 250 300\n",
       "  * is_day            (is_day) bool 2B False True\n",
       "  * latitude          (latitude) int64 8B 50\n",
       "  * longitude         (longitude) int64 8B -150\n",
       "  * time              (time) datetime64[ns] 552B 1997-02-21 ... 2020-08-20\n",
       "Data variables:\n",
       "    chaetognaths      (time, is_day, latitude, longitude, depth) float64 4kB ...\n",
       "    crustaceans       (time, is_day, latitude, longitude, depth) float64 4kB ...\n",
       "    foram             (time, is_day, latitude, longitude, depth) float64 4kB ...\n",
       "    larvae            (time, is_day, latitude, longitude, depth) float64 4kB ...\n",
       "    other             (time, is_day, latitude, longitude, depth) float64 4kB ...\n",
       "    pteropods         (time, is_day, latitude, longitude, depth) float64 4kB ...\n",
       "    small_gelatinous  (time, is_day, latitude, longitude, depth) float64 4kB ...\n",
       "    thaliaceans       (time, is_day, latitude, longitude, depth) float64 4kB ..."
      ]
     },
     "execution_count": 62,
     "metadata": {},
     "output_type": "execute_result"
    }
   ],
   "source": [
    "data_papa = xr.open_dataset(\n",
    "    \"../stations/papa/3_post_processed/papa_product.zarr\", engine=\"zarr\"\n",
    ")\n",
    "data_papa.load()"
   ]
  },
  {
   "cell_type": "markdown",
   "metadata": {},
   "source": [
    "---\n",
    "\n",
    "## Vizualization\n",
    "\n",
    "### BAT station\n"
   ]
  },
  {
   "cell_type": "code",
   "execution_count": 63,
   "metadata": {},
   "outputs": [
    {
     "data": {
      "text/html": [
       "<div>\n",
       "<style scoped>\n",
       "    .dataframe tbody tr th:only-of-type {\n",
       "        vertical-align: middle;\n",
       "    }\n",
       "\n",
       "    .dataframe tbody tr th {\n",
       "        vertical-align: top;\n",
       "    }\n",
       "\n",
       "    .dataframe thead th {\n",
       "        text-align: right;\n",
       "    }\n",
       "</style>\n",
       "<table border=\"1\" class=\"dataframe\">\n",
       "  <thead>\n",
       "    <tr style=\"text-align: right;\">\n",
       "      <th></th>\n",
       "      <th>night</th>\n",
       "      <th>day</th>\n",
       "    </tr>\n",
       "    <tr>\n",
       "      <th>time</th>\n",
       "      <th></th>\n",
       "      <th></th>\n",
       "    </tr>\n",
       "  </thead>\n",
       "  <tbody>\n",
       "    <tr>\n",
       "      <th>1995-05-10</th>\n",
       "      <td>2.770</td>\n",
       "      <td>NaN</td>\n",
       "    </tr>\n",
       "    <tr>\n",
       "      <th>1995-05-11</th>\n",
       "      <td>NaN</td>\n",
       "      <td>2.410</td>\n",
       "    </tr>\n",
       "    <tr>\n",
       "      <th>1995-06-13</th>\n",
       "      <td>2.210</td>\n",
       "      <td>1.780</td>\n",
       "    </tr>\n",
       "    <tr>\n",
       "      <th>1995-06-14</th>\n",
       "      <td>3.370</td>\n",
       "      <td>NaN</td>\n",
       "    </tr>\n",
       "    <tr>\n",
       "      <th>1995-07-11</th>\n",
       "      <td>3.145</td>\n",
       "      <td>2.605</td>\n",
       "    </tr>\n",
       "    <tr>\n",
       "      <th>...</th>\n",
       "      <td>...</td>\n",
       "      <td>...</td>\n",
       "    </tr>\n",
       "    <tr>\n",
       "      <th>2022-09-17</th>\n",
       "      <td>1.780</td>\n",
       "      <td>NaN</td>\n",
       "    </tr>\n",
       "    <tr>\n",
       "      <th>2022-09-18</th>\n",
       "      <td>1.875</td>\n",
       "      <td>NaN</td>\n",
       "    </tr>\n",
       "    <tr>\n",
       "      <th>2022-11-23</th>\n",
       "      <td>1.465</td>\n",
       "      <td>NaN</td>\n",
       "    </tr>\n",
       "    <tr>\n",
       "      <th>2022-11-24</th>\n",
       "      <td>NaN</td>\n",
       "      <td>0.925</td>\n",
       "    </tr>\n",
       "    <tr>\n",
       "      <th>2022-12-13</th>\n",
       "      <td>2.775</td>\n",
       "      <td>0.905</td>\n",
       "    </tr>\n",
       "  </tbody>\n",
       "</table>\n",
       "<p>538 rows × 2 columns</p>\n",
       "</div>"
      ],
      "text/plain": [
       "            night    day\n",
       "time                    \n",
       "1995-05-10  2.770    NaN\n",
       "1995-05-11    NaN  2.410\n",
       "1995-06-13  2.210  1.780\n",
       "1995-06-14  3.370    NaN\n",
       "1995-07-11  3.145  2.605\n",
       "...           ...    ...\n",
       "2022-09-17  1.780    NaN\n",
       "2022-09-18  1.875    NaN\n",
       "2022-11-23  1.465    NaN\n",
       "2022-11-24    NaN  0.925\n",
       "2022-12-13  2.775  0.905\n",
       "\n",
       "[538 rows x 2 columns]"
      ]
     },
     "execution_count": 63,
     "metadata": {},
     "output_type": "execute_result"
    }
   ],
   "source": [
    "zoo_bats = (\n",
    "    data_bats[\"dry_weight_vol_water_ratio\"]\n",
    "    .dropna(\"time\", how=\"all\")\n",
    "    .mean(\"depth\")\n",
    "    .isel(latitude=0, longitude=0)\n",
    "    .sum(\"sieve_size\")\n",
    ")\n",
    "zoo_bats_d_n = zoo_bats.to_dataframe().pivot_table(\n",
    "    index=[\"time\"], columns=[\"is_day\"], values=[\"dry_weight_vol_water_ratio\"]\n",
    ")\n",
    "zoo_bats_d_n.columns = [\"night\", \"day\"]\n",
    "# transform 0 to nan\n",
    "zoo_bats_d_n = zoo_bats_d_n.map(lambda x: None if x == 0 else x)\n",
    "zoo_bats_d_n"
   ]
  },
  {
   "cell_type": "code",
   "execution_count": 64,
   "metadata": {},
   "outputs": [
    {
     "data": {
      "application/vnd.plotly.v1+json": {
       "config": {
        "plotlyServerURL": "https://plot.ly"
       },
       "data": [
        {
         "mode": "lines",
         "name": "Day",
         "type": "scatter",
         "x": [
          "1995-05-11T00:00:00",
          "1995-06-13T00:00:00",
          "1995-07-11T00:00:00",
          "1995-09-12T00:00:00",
          "1995-10-10T00:00:00",
          "1995-11-06T00:00:00",
          "1995-12-16T00:00:00",
          "1996-01-30T00:00:00",
          "1996-02-28T00:00:00",
          "1996-03-15T00:00:00",
          "1996-03-28T00:00:00",
          "1996-04-09T00:00:00",
          "1996-04-23T00:00:00",
          "1996-05-06T00:00:00",
          "1996-06-10T00:00:00",
          "1996-07-10T00:00:00",
          "1996-08-05T00:00:00",
          "1996-09-03T00:00:00",
          "1996-10-08T00:00:00",
          "1996-11-05T00:00:00",
          "1996-12-14T00:00:00",
          "1997-01-13T00:00:00",
          "1997-01-28T00:00:00",
          "1997-02-07T00:00:00",
          "1997-02-21T00:00:00",
          "1997-03-04T00:00:00",
          "1997-03-19T00:00:00",
          "1997-04-08T00:00:00",
          "1997-05-05T00:00:00",
          "1997-06-11T00:00:00",
          "1997-07-15T00:00:00",
          "1997-08-11T00:00:00",
          "1997-09-12T00:00:00",
          "1997-10-06T00:00:00",
          "1997-11-14T00:00:00",
          "1997-12-09T00:00:00",
          "1998-01-14T00:00:00",
          "1998-02-11T00:00:00",
          "1998-02-28T00:00:00",
          "1998-03-13T00:00:00",
          "1998-03-25T00:00:00",
          "1998-04-08T00:00:00",
          "1998-05-06T00:00:00",
          "1998-06-03T00:00:00",
          "1998-07-08T00:00:00",
          "1998-08-11T00:00:00",
          "1998-09-08T00:00:00",
          "1998-10-22T00:00:00",
          "1998-11-19T00:00:00",
          "1998-12-08T00:00:00",
          "1999-01-15T00:00:00",
          "1999-01-27T00:00:00",
          "1999-02-12T00:00:00",
          "1999-02-24T00:00:00",
          "1999-03-23T00:00:00",
          "1999-04-07T00:00:00",
          "1999-05-03T00:00:00",
          "1999-06-01T00:00:00",
          "1999-06-04T00:00:00",
          "1999-07-06T00:00:00",
          "1999-09-15T00:00:00",
          "1999-10-12T00:00:00",
          "1999-11-10T00:00:00",
          "1999-12-09T00:00:00",
          "2000-04-11T00:00:00",
          "2000-06-06T00:00:00",
          "2000-07-11T00:00:00",
          "2000-08-08T00:00:00",
          "2000-09-13T00:00:00",
          "2000-10-18T00:00:00",
          "2000-11-14T00:00:00",
          "2000-12-12T00:00:00",
          "2001-02-20T00:00:00",
          "2001-03-09T00:00:00",
          "2001-03-20T00:00:00",
          "2001-04-04T00:00:00",
          "2001-04-19T00:00:00",
          "2001-05-15T00:00:00",
          "2001-06-05T00:00:00",
          "2001-07-18T00:00:00",
          "2001-09-12T00:00:00",
          "2001-10-16T00:00:00",
          "2001-11-09T00:00:00",
          "2001-12-11T00:00:00",
          "2002-01-22T00:00:00",
          "2002-02-13T00:00:00",
          "2002-02-27T00:00:00",
          "2002-03-07T00:00:00",
          "2002-03-19T00:00:00",
          "2002-04-04T00:00:00",
          "2002-04-16T00:00:00",
          "2002-05-14T00:00:00",
          "2002-06-04T00:00:00",
          "2002-07-02T00:00:00",
          "2002-08-20T00:00:00",
          "2002-09-17T00:00:00",
          "2002-10-08T00:00:00",
          "2002-11-13T00:00:00",
          "2002-12-10T00:00:00",
          "2003-02-04T00:00:00",
          "2003-02-21T00:00:00",
          "2003-03-04T00:00:00",
          "2003-03-21T00:00:00",
          "2003-04-03T00:00:00",
          "2003-04-22T00:00:00",
          "2003-05-20T00:00:00",
          "2003-07-04T00:00:00",
          "2003-07-15T00:00:00",
          "2003-08-12T00:00:00",
          "2003-09-19T00:00:00",
          "2003-10-07T00:00:00",
          "2003-11-04T00:00:00",
          "2003-12-02T00:00:00",
          "2004-01-27T00:00:00",
          "2004-02-14T00:00:00",
          "2004-02-24T00:00:00",
          "2004-04-07T00:00:00",
          "2004-04-21T00:00:00",
          "2004-05-18T00:00:00",
          "2004-06-15T00:00:00",
          "2004-09-14T00:00:00",
          "2004-10-13T00:00:00",
          "2004-11-12T00:00:00",
          "2004-12-08T00:00:00",
          "2005-01-27T00:00:00",
          "2005-02-08T00:00:00",
          "2005-02-24T00:00:00",
          "2005-03-08T00:00:00",
          "2005-03-21T00:00:00",
          "2005-04-06T00:00:00",
          "2005-04-19T00:00:00",
          "2005-05-17T00:00:00",
          "2005-06-14T00:00:00",
          "2005-07-19T00:00:00",
          "2005-08-10T00:00:00",
          "2005-09-06T00:00:00",
          "2005-10-11T00:00:00",
          "2005-11-10T00:00:00",
          "2006-01-29T00:00:00",
          "2006-02-08T00:00:00",
          "2006-02-22T00:00:00",
          "2006-05-10T00:00:00",
          "2006-07-18T00:00:00",
          "2006-08-08T00:00:00",
          "2006-10-10T00:00:00",
          "2006-11-07T00:00:00",
          "2006-12-04T00:00:00",
          "2007-02-01T00:00:00",
          "2007-02-22T00:00:00",
          "2007-03-07T00:00:00",
          "2007-03-20T00:00:00",
          "2007-04-03T00:00:00",
          "2007-04-14T00:00:00",
          "2007-05-16T00:00:00",
          "2007-06-21T00:00:00",
          "2007-07-18T00:00:00",
          "2007-08-17T00:00:00",
          "2007-11-14T00:00:00",
          "2007-12-06T00:00:00",
          "2008-01-17T00:00:00",
          "2008-02-12T00:00:00",
          "2008-02-23T00:00:00",
          "2008-03-13T00:00:00",
          "2008-03-25T00:00:00",
          "2008-04-17T00:00:00",
          "2008-05-29T00:00:00",
          "2008-07-18T00:00:00",
          "2008-08-14T00:00:00",
          "2008-09-12T00:00:00",
          "2008-10-09T00:00:00",
          "2009-02-22T00:00:00",
          "2009-03-06T00:00:00",
          "2009-03-19T00:00:00",
          "2009-04-01T00:00:00",
          "2009-06-11T00:00:00",
          "2009-07-15T00:00:00",
          "2009-08-15T00:00:00",
          "2009-09-11T00:00:00",
          "2009-10-10T00:00:00",
          "2009-11-08T00:00:00",
          "2009-12-09T00:00:00",
          "2010-02-24T00:00:00",
          "2010-03-09T00:00:00",
          "2010-03-25T00:00:00",
          "2010-04-07T00:00:00",
          "2010-04-21T00:00:00",
          "2010-05-13T00:00:00",
          "2010-06-23T00:00:00",
          "2010-07-24T00:00:00",
          "2010-09-06T00:00:00",
          "2010-10-06T00:00:00",
          "2010-11-10T00:00:00",
          "2010-12-09T00:00:00",
          "2011-03-04T00:00:00",
          "2011-03-26T00:00:00",
          "2011-04-07T00:00:00",
          "2011-04-27T00:00:00",
          "2011-05-17T00:00:00",
          "2011-06-15T00:00:00",
          "2011-07-06T00:00:00",
          "2011-08-19T00:00:00",
          "2011-09-17T00:00:00",
          "2011-11-01T00:00:00",
          "2011-11-17T00:00:00",
          "2011-12-08T00:00:00",
          "2012-01-29T00:00:00",
          "2012-02-10T00:00:00",
          "2012-03-08T00:00:00",
          "2012-04-11T00:00:00",
          "2012-04-26T00:00:00",
          "2012-05-19T00:00:00",
          "2012-06-18T00:00:00",
          "2012-07-12T00:00:00",
          "2012-08-20T00:00:00",
          "2012-09-12T00:00:00",
          "2012-10-19T00:00:00",
          "2012-11-16T00:00:00",
          "2012-12-11T00:00:00",
          "2013-01-22T00:00:00",
          "2013-02-12T00:00:00",
          "2013-02-26T00:00:00",
          "2013-03-12T00:00:00",
          "2013-04-06T00:00:00",
          "2013-04-24T00:00:00",
          "2013-05-15T00:00:00",
          "2013-06-16T00:00:00",
          "2013-07-05T00:00:00",
          "2013-08-02T00:00:00",
          "2013-09-17T00:00:00",
          "2013-10-19T00:00:00",
          "2013-11-14T00:00:00",
          "2013-12-09T00:00:00",
          "2014-03-06T00:00:00",
          "2014-04-11T00:00:00",
          "2014-04-29T00:00:00",
          "2014-06-12T00:00:00",
          "2014-07-10T00:00:00",
          "2014-08-20T00:00:00",
          "2014-09-13T00:00:00",
          "2014-10-28T00:00:00",
          "2014-11-20T00:00:00",
          "2014-12-11T00:00:00",
          "2015-02-05T00:00:00",
          "2015-02-20T00:00:00",
          "2015-03-12T00:00:00",
          "2015-04-08T00:00:00",
          "2015-04-24T00:00:00",
          "2015-05-13T00:00:00",
          "2015-06-23T00:00:00",
          "2015-07-15T00:00:00",
          "2015-08-18T00:00:00",
          "2015-09-12T00:00:00",
          "2015-11-30T00:00:00",
          "2015-12-12T00:00:00",
          "2016-03-08T00:00:00",
          "2016-03-23T00:00:00",
          "2016-04-05T00:00:00",
          "2016-04-15T00:00:00",
          "2016-05-04T00:00:00",
          "2016-06-14T00:00:00",
          "2016-07-22T00:00:00",
          "2016-08-17T00:00:00",
          "2016-09-20T00:00:00",
          "2016-10-19T00:00:00",
          "2016-11-19T00:00:00",
          "2016-12-13T00:00:00",
          "2017-01-07T00:00:00",
          "2017-02-19T00:00:00",
          "2017-04-09T00:00:00",
          "2017-05-09T00:00:00",
          "2017-05-30T00:00:00",
          "2017-06-13T00:00:00",
          "2017-07-18T00:00:00",
          "2017-08-15T00:00:00",
          "2017-09-12T00:00:00",
          "2017-10-17T00:00:00",
          "2017-10-18T00:00:00",
          "2017-11-17T00:00:00",
          "2017-12-12T00:00:00",
          "2018-01-15T00:00:00",
          "2018-02-10T00:00:00",
          "2018-02-27T00:00:00",
          "2018-04-16T00:00:00",
          "2018-04-26T00:00:00",
          "2018-05-23T00:00:00",
          "2018-06-12T00:00:00",
          "2018-07-20T00:00:00",
          "2018-08-13T00:00:00",
          "2018-09-12T00:00:00",
          "2018-10-18T00:00:00",
          "2018-11-06T00:00:00",
          "2018-12-14T00:00:00",
          "2019-01-11T00:00:00",
          "2019-02-17T00:00:00",
          "2019-03-12T00:00:00",
          "2019-04-10T00:00:00",
          "2019-04-22T00:00:00",
          "2019-05-13T00:00:00",
          "2019-06-07T00:00:00",
          "2019-07-16T00:00:00",
          "2019-08-19T00:00:00",
          "2019-09-09T00:00:00",
          "2019-10-23T00:00:00",
          "2019-11-17T00:00:00",
          "2019-12-11T00:00:00",
          "2020-01-26T00:00:00",
          "2020-02-27T00:00:00",
          "2020-07-10T00:00:00",
          "2020-07-31T00:00:00",
          "2020-08-18T00:00:00",
          "2020-09-24T00:00:00",
          "2020-10-26T00:00:00",
          "2020-11-18T00:00:00",
          "2020-12-11T00:00:00",
          "2021-01-25T00:00:00",
          "2021-02-13T00:00:00",
          "2021-03-18T00:00:00",
          "2021-03-25T00:00:00",
          "2021-04-06T00:00:00",
          "2021-04-30T00:00:00",
          "2021-05-12T00:00:00",
          "2021-06-15T00:00:00",
          "2021-07-11T00:00:00",
          "2021-08-19T00:00:00",
          "2021-09-12T00:00:00",
          "2021-10-05T00:00:00",
          "2021-11-17T00:00:00",
          "2021-12-13T00:00:00",
          "2022-01-12T00:00:00",
          "2022-03-29T00:00:00",
          "2022-05-01T00:00:00",
          "2022-05-23T00:00:00",
          "2022-06-30T00:00:00",
          "2022-07-16T00:00:00",
          "2022-08-13T00:00:00",
          "2022-11-24T00:00:00",
          "2022-12-13T00:00:00"
         ],
         "y": [
          2.41,
          1.7799999999999998,
          2.605,
          1.21,
          0.935,
          0.8600000000000001,
          0.96,
          1.26,
          1.24,
          1.475,
          1.47,
          4.245,
          4.5649999999999995,
          1.985,
          1.19,
          2.96,
          1.58,
          1.2,
          2.1750000000000003,
          1.84,
          3.1799999999999997,
          0.97,
          1.18,
          1.635,
          1.3350000000000002,
          1.4,
          1.2950000000000002,
          1.975,
          2.275,
          3.105,
          1.6150000000000002,
          1.69,
          1.5350000000000001,
          1.555,
          1.945,
          2.4400000000000004,
          1.7049999999999998,
          2.42,
          1.995,
          3.71,
          2.91,
          2.21,
          1.195,
          3.195,
          3.925,
          1.905,
          1.8050000000000002,
          0.885,
          1.74,
          1.24,
          0.49,
          0.6349999999999999,
          1.25,
          2.1750000000000003,
          3.3400000000000003,
          2.92,
          1.47,
          4.585,
          5.909999999999999,
          1.14,
          1.4000000000000001,
          1.4450000000000003,
          1.5599999999999998,
          0.92,
          2.315,
          1.31,
          1.41,
          1.7399999999999998,
          1.91,
          0.92,
          1.9449999999999998,
          1.15,
          2.4749999999999996,
          2.36,
          3.13,
          1.915,
          0.835,
          2.24,
          1.4849999999999999,
          2.365,
          1.28,
          1.495,
          1.18,
          1.5350000000000001,
          1.3100000000000003,
          1.2149999999999999,
          2.725,
          2.38,
          5.81,
          4,
          1.115,
          1.47,
          1.32,
          2.03,
          1.9349999999999998,
          2.62,
          2.02,
          1.58,
          1.595,
          1.6849999999999998,
          3.285,
          4.194999999999999,
          1.74,
          3.25,
          1.8150000000000004,
          1.62,
          2.1,
          2.21,
          2.4549999999999996,
          3.4299999999999997,
          2.2,
          1.27,
          0.9349999999999999,
          1.66,
          3.34,
          4.2299999999999995,
          2.99,
          5.055000000000001,
          2.175,
          1.76,
          1.88,
          1.1,
          1.485,
          1.5699999999999998,
          1.4000000000000001,
          2.8299999999999996,
          3.5799999999999996,
          3.2350000000000003,
          4.579999999999999,
          2.6199999999999997,
          4.155,
          3.0450000000000004,
          2.06,
          1.675,
          1.4949999999999999,
          2.005,
          1.2600000000000002,
          1.4300000000000002,
          3.6049999999999995,
          5.435,
          3.2649999999999997,
          1.7149999999999999,
          1.515,
          2.17,
          2.1449999999999996,
          1.2950000000000002,
          1.05,
          1.4849999999999999,
          2.02,
          3.725,
          3.615,
          2.1650000000000005,
          1.34,
          1.75,
          1.4700000000000002,
          2.3300000000000005,
          1.315,
          2.255,
          1.14,
          2.9399999999999995,
          1.195,
          2.1650000000000005,
          1.45,
          2.98,
          0.2,
          4.365,
          1.42,
          1.495,
          1.4749999999999999,
          1.47,
          2.12,
          1.89,
          3.4250000000000003,
          1.0850000000000002,
          2.3183333333333334,
          2.67,
          2.8150000000000004,
          1.81,
          1.65,
          1.77,
          1.2400000000000002,
          1.175,
          4.305,
          7.574999999999999,
          1.1800000000000002,
          0.615,
          4.8549999999999995,
          2.5650000000000004,
          1.17,
          2.9000000000000004,
          4.07,
          1.7550000000000001,
          2.17,
          2.5999999999999996,
          9.780000000000001,
          5.28,
          4.209999999999999,
          3.6600000000000006,
          2.8750000000000004,
          3.875,
          1.6,
          2.6,
          1.2,
          3.235,
          1.7249999999999999,
          2.965,
          3.1150000000000007,
          3.615,
          5.515,
          2.8450000000000006,
          3.18,
          2.3350000000000004,
          2.94,
          2.635,
          1.3850000000000002,
          2.4050000000000002,
          3.38,
          2.5100000000000002,
          3.415,
          4.225,
          4.470000000000001,
          2.375,
          3.3550000000000004,
          2.6900000000000004,
          1.79,
          3.57,
          3.5699999999999994,
          4.2075000000000005,
          1.955,
          1.82,
          1.9350000000000003,
          1.97,
          4.609999999999999,
          2.395,
          2.3,
          3.89,
          4.85,
          2.145,
          1.54,
          1.8699999999999999,
          1.3250000000000002,
          0.9000000000000001,
          1.34,
          1.745,
          6.059999999999999,
          2.895,
          1.345,
          11.950000000000001,
          1.565,
          2.1450000000000005,
          3.455,
          3.14,
          1.4200000000000002,
          1.28,
          1.265,
          2.665,
          2.06,
          1.42,
          4.05,
          1.1549999999999998,
          1.2650000000000001,
          1.065,
          0.6150000000000001,
          1.2500000000000002,
          0.92,
          1.365,
          1.15,
          1.255,
          7.055,
          1.37,
          2.5250000000000004,
          2.67,
          1.37,
          2.015,
          2.2150000000000003,
          1.07,
          1.5599999999999998,
          1.2049999999999998,
          1.1849999999999998,
          1.5350000000000001,
          2.17,
          0.945,
          3.285,
          1.5749999999999997,
          2.2199999999999998,
          1.55,
          1.2249999999999999,
          1.7600000000000002,
          1.04,
          1.315,
          2.16,
          1.985,
          1.935,
          6.59,
          5.2,
          2.63,
          6.41,
          5.055000000000001,
          4.55,
          2.455,
          4.225,
          2.795,
          2.185,
          1.97,
          1.715,
          1.075,
          1.77,
          0.7050000000000001,
          3.7649999999999997,
          2.1849999999999996,
          2.255,
          1.8900000000000001,
          0.8049999999999999,
          1.035,
          1.085,
          3.24,
          1.5200000000000002,
          2.57,
          2.6700000000000004,
          5.805000000000001,
          3.39,
          1.425,
          2.515,
          2.265,
          2,
          1.83,
          1.625,
          2.165,
          0.89,
          1.1549999999999998,
          1.46,
          1.22,
          1.835,
          1.665,
          1.645,
          0.9249999999999998,
          0.905
         ]
        },
        {
         "mode": "lines",
         "name": "Night",
         "type": "scatter",
         "x": [
          "1995-05-10T00:00:00",
          "1995-06-13T00:00:00",
          "1995-06-14T00:00:00",
          "1995-07-11T00:00:00",
          "1995-08-18T00:00:00",
          "1995-09-12T00:00:00",
          "1995-10-10T00:00:00",
          "1995-12-15T00:00:00",
          "1996-01-30T00:00:00",
          "1996-02-14T00:00:00",
          "1996-02-27T00:00:00",
          "1996-03-15T00:00:00",
          "1996-03-16T00:00:00",
          "1996-03-27T00:00:00",
          "1996-04-12T00:00:00",
          "1996-04-22T00:00:00",
          "1996-05-07T00:00:00",
          "1996-06-10T00:00:00",
          "1996-07-08T00:00:00",
          "1996-08-05T00:00:00",
          "1996-09-02T00:00:00",
          "1996-10-08T00:00:00",
          "1996-10-09T00:00:00",
          "1996-11-05T00:00:00",
          "1996-12-11T00:00:00",
          "1997-01-13T00:00:00",
          "1997-01-27T00:00:00",
          "1997-02-06T00:00:00",
          "1997-02-20T00:00:00",
          "1997-03-04T00:00:00",
          "1997-03-18T00:00:00",
          "1997-04-08T00:00:00",
          "1997-05-05T00:00:00",
          "1997-06-11T00:00:00",
          "1997-07-15T00:00:00",
          "1997-08-11T00:00:00",
          "1997-09-11T00:00:00",
          "1997-10-06T00:00:00",
          "1997-11-11T00:00:00",
          "1997-12-09T00:00:00",
          "1998-01-12T00:00:00",
          "1998-01-13T00:00:00",
          "1998-02-11T00:00:00",
          "1998-02-28T00:00:00",
          "1998-03-09T00:00:00",
          "1998-03-25T00:00:00",
          "1998-04-07T00:00:00",
          "1998-05-04T00:00:00",
          "1998-05-05T00:00:00",
          "1998-06-02T00:00:00",
          "1998-07-08T00:00:00",
          "1998-08-10T00:00:00",
          "1998-09-10T00:00:00",
          "1998-10-22T00:00:00",
          "1998-11-18T00:00:00",
          "1998-12-07T00:00:00",
          "1999-01-14T00:00:00",
          "1999-01-27T00:00:00",
          "1999-01-28T00:00:00",
          "1999-02-12T00:00:00",
          "1999-02-23T00:00:00",
          "1999-03-23T00:00:00",
          "1999-03-24T00:00:00",
          "1999-04-08T00:00:00",
          "1999-05-03T00:00:00",
          "1999-06-01T00:00:00",
          "1999-06-03T00:00:00",
          "1999-07-05T00:00:00",
          "1999-08-03T00:00:00",
          "1999-09-14T00:00:00",
          "1999-10-11T00:00:00",
          "1999-11-10T00:00:00",
          "1999-12-08T00:00:00",
          "2000-02-16T00:00:00",
          "2000-04-10T00:00:00",
          "2000-04-11T00:00:00",
          "2000-06-06T00:00:00",
          "2000-07-10T00:00:00",
          "2000-07-11T00:00:00",
          "2000-08-07T00:00:00",
          "2000-08-08T00:00:00",
          "2000-09-12T00:00:00",
          "2000-10-18T00:00:00",
          "2000-11-14T00:00:00",
          "2000-12-12T00:00:00",
          "2001-02-21T00:00:00",
          "2001-03-09T00:00:00",
          "2001-03-21T00:00:00",
          "2001-04-04T00:00:00",
          "2001-04-18T00:00:00",
          "2001-05-15T00:00:00",
          "2001-06-05T00:00:00",
          "2001-07-18T00:00:00",
          "2001-09-13T00:00:00",
          "2001-10-16T00:00:00",
          "2001-11-09T00:00:00",
          "2001-12-10T00:00:00",
          "2001-12-11T00:00:00",
          "2002-01-22T00:00:00",
          "2002-02-12T00:00:00",
          "2002-02-28T00:00:00",
          "2002-03-07T00:00:00",
          "2002-03-19T00:00:00",
          "2002-04-03T00:00:00",
          "2002-04-15T00:00:00",
          "2002-04-16T00:00:00",
          "2002-05-14T00:00:00",
          "2002-06-04T00:00:00",
          "2002-07-01T00:00:00",
          "2002-08-20T00:00:00",
          "2002-09-17T00:00:00",
          "2002-10-08T00:00:00",
          "2002-11-13T00:00:00",
          "2002-12-09T00:00:00",
          "2003-01-27T00:00:00",
          "2003-02-21T00:00:00",
          "2003-03-04T00:00:00",
          "2003-03-21T00:00:00",
          "2003-03-22T00:00:00",
          "2003-04-03T00:00:00",
          "2003-04-22T00:00:00",
          "2003-07-05T00:00:00",
          "2003-07-15T00:00:00",
          "2003-08-13T00:00:00",
          "2003-09-20T00:00:00",
          "2003-10-06T00:00:00",
          "2003-11-03T00:00:00",
          "2003-12-02T00:00:00",
          "2004-02-14T00:00:00",
          "2004-02-23T00:00:00",
          "2004-03-09T00:00:00",
          "2004-03-23T00:00:00",
          "2004-04-20T00:00:00",
          "2004-05-17T00:00:00",
          "2004-06-15T00:00:00",
          "2004-09-14T00:00:00",
          "2004-10-13T00:00:00",
          "2004-11-12T00:00:00",
          "2004-12-08T00:00:00",
          "2005-01-26T00:00:00",
          "2005-02-08T00:00:00",
          "2005-02-23T00:00:00",
          "2005-02-24T00:00:00",
          "2005-03-07T00:00:00",
          "2005-03-20T00:00:00",
          "2005-04-05T00:00:00",
          "2005-04-18T00:00:00",
          "2005-05-16T00:00:00",
          "2005-06-15T00:00:00",
          "2005-07-19T00:00:00",
          "2005-08-09T00:00:00",
          "2005-10-11T00:00:00",
          "2005-12-08T00:00:00",
          "2006-01-29T00:00:00",
          "2006-01-30T00:00:00",
          "2006-02-08T00:00:00",
          "2006-02-20T00:00:00",
          "2006-02-21T00:00:00",
          "2006-04-04T00:00:00",
          "2006-06-26T00:00:00",
          "2006-07-16T00:00:00",
          "2006-08-07T00:00:00",
          "2006-08-08T00:00:00",
          "2006-10-10T00:00:00",
          "2006-11-07T00:00:00",
          "2006-12-03T00:00:00",
          "2007-01-30T00:00:00",
          "2007-02-20T00:00:00",
          "2007-03-06T00:00:00",
          "2007-03-07T00:00:00",
          "2007-03-19T00:00:00",
          "2007-03-20T00:00:00",
          "2007-04-02T00:00:00",
          "2007-04-14T00:00:00",
          "2007-05-15T00:00:00",
          "2007-06-21T00:00:00",
          "2007-07-19T00:00:00",
          "2007-08-15T00:00:00",
          "2007-09-08T00:00:00",
          "2007-11-14T00:00:00",
          "2007-12-06T00:00:00",
          "2008-01-15T00:00:00",
          "2008-02-12T00:00:00",
          "2008-02-22T00:00:00",
          "2008-03-13T00:00:00",
          "2008-04-14T00:00:00",
          "2008-05-29T00:00:00",
          "2008-06-22T00:00:00",
          "2008-07-16T00:00:00",
          "2008-08-14T00:00:00",
          "2008-09-10T00:00:00",
          "2008-10-09T00:00:00",
          "2009-03-19T00:00:00",
          "2009-06-11T00:00:00",
          "2009-06-12T00:00:00",
          "2009-07-15T00:00:00",
          "2009-07-16T00:00:00",
          "2009-08-15T00:00:00",
          "2009-09-10T00:00:00",
          "2009-10-10T00:00:00",
          "2009-11-08T00:00:00",
          "2009-12-09T00:00:00",
          "2010-03-10T00:00:00",
          "2010-03-25T00:00:00",
          "2010-04-06T00:00:00",
          "2010-04-22T00:00:00",
          "2010-04-23T00:00:00",
          "2010-05-14T00:00:00",
          "2010-06-23T00:00:00",
          "2010-06-24T00:00:00",
          "2010-07-24T00:00:00",
          "2010-09-06T00:00:00",
          "2010-10-05T00:00:00",
          "2010-11-09T00:00:00",
          "2010-12-09T00:00:00",
          "2011-03-05T00:00:00",
          "2011-03-26T00:00:00",
          "2011-04-07T00:00:00",
          "2011-04-28T00:00:00",
          "2011-05-17T00:00:00",
          "2011-06-15T00:00:00",
          "2011-07-05T00:00:00",
          "2011-08-20T00:00:00",
          "2011-09-17T00:00:00",
          "2011-11-17T00:00:00",
          "2011-12-07T00:00:00",
          "2012-01-28T00:00:00",
          "2012-01-29T00:00:00",
          "2012-02-09T00:00:00",
          "2012-03-07T00:00:00",
          "2012-04-12T00:00:00",
          "2012-04-26T00:00:00",
          "2012-05-18T00:00:00",
          "2012-06-18T00:00:00",
          "2012-07-12T00:00:00",
          "2012-08-21T00:00:00",
          "2012-09-11T00:00:00",
          "2012-10-18T00:00:00",
          "2012-11-13T00:00:00",
          "2012-12-10T00:00:00",
          "2013-01-21T00:00:00",
          "2013-01-22T00:00:00",
          "2013-02-11T00:00:00",
          "2013-02-25T00:00:00",
          "2013-03-11T00:00:00",
          "2013-03-12T00:00:00",
          "2013-03-27T00:00:00",
          "2013-04-05T00:00:00",
          "2013-04-24T00:00:00",
          "2013-05-16T00:00:00",
          "2013-06-14T00:00:00",
          "2013-07-08T00:00:00",
          "2013-08-02T00:00:00",
          "2013-09-16T00:00:00",
          "2013-10-18T00:00:00",
          "2013-11-13T00:00:00",
          "2013-12-08T00:00:00",
          "2014-03-05T00:00:00",
          "2014-04-11T00:00:00",
          "2014-04-28T00:00:00",
          "2014-06-11T00:00:00",
          "2014-07-09T00:00:00",
          "2014-08-19T00:00:00",
          "2014-09-13T00:00:00",
          "2014-10-28T00:00:00",
          "2014-11-19T00:00:00",
          "2014-12-11T00:00:00",
          "2015-02-03T00:00:00",
          "2015-02-20T00:00:00",
          "2015-03-12T00:00:00",
          "2015-04-07T00:00:00",
          "2015-04-23T00:00:00",
          "2015-05-12T00:00:00",
          "2015-05-27T00:00:00",
          "2015-06-23T00:00:00",
          "2015-07-14T00:00:00",
          "2015-08-18T00:00:00",
          "2015-09-12T00:00:00",
          "2015-11-29T00:00:00",
          "2015-12-11T00:00:00",
          "2016-03-08T00:00:00",
          "2016-03-23T00:00:00",
          "2016-04-05T00:00:00",
          "2016-04-14T00:00:00",
          "2016-05-04T00:00:00",
          "2016-06-16T00:00:00",
          "2016-07-22T00:00:00",
          "2016-08-17T00:00:00",
          "2016-09-21T00:00:00",
          "2016-10-19T00:00:00",
          "2016-11-19T00:00:00",
          "2016-12-13T00:00:00",
          "2017-01-06T00:00:00",
          "2017-02-19T00:00:00",
          "2017-02-20T00:00:00",
          "2017-04-09T00:00:00",
          "2017-05-30T00:00:00",
          "2017-05-31T00:00:00",
          "2017-06-13T00:00:00",
          "2017-07-18T00:00:00",
          "2017-08-15T00:00:00",
          "2017-09-12T00:00:00",
          "2017-10-16T00:00:00",
          "2017-11-17T00:00:00",
          "2017-12-12T00:00:00",
          "2018-01-15T00:00:00",
          "2018-02-09T00:00:00",
          "2018-02-10T00:00:00",
          "2018-02-26T00:00:00",
          "2018-03-14T00:00:00",
          "2018-03-15T00:00:00",
          "2018-03-23T00:00:00",
          "2018-04-15T00:00:00",
          "2018-04-25T00:00:00",
          "2018-05-23T00:00:00",
          "2018-06-12T00:00:00",
          "2018-07-20T00:00:00",
          "2018-08-13T00:00:00",
          "2018-09-11T00:00:00",
          "2018-10-18T00:00:00",
          "2018-10-19T00:00:00",
          "2018-11-06T00:00:00",
          "2018-11-07T00:00:00",
          "2018-12-14T00:00:00",
          "2019-01-11T00:00:00",
          "2019-02-17T00:00:00",
          "2019-03-12T00:00:00",
          "2019-03-15T00:00:00",
          "2019-04-09T00:00:00",
          "2019-04-21T00:00:00",
          "2019-05-13T00:00:00",
          "2019-06-06T00:00:00",
          "2019-07-16T00:00:00",
          "2019-08-18T00:00:00",
          "2019-09-09T00:00:00",
          "2019-09-10T00:00:00",
          "2019-10-22T00:00:00",
          "2019-11-17T00:00:00",
          "2019-12-11T00:00:00",
          "2020-01-25T00:00:00",
          "2020-02-28T00:00:00",
          "2020-07-10T00:00:00",
          "2020-07-30T00:00:00",
          "2020-07-31T00:00:00",
          "2020-08-17T00:00:00",
          "2020-08-18T00:00:00",
          "2020-09-23T00:00:00",
          "2020-10-26T00:00:00",
          "2020-11-17T00:00:00",
          "2020-12-10T00:00:00",
          "2021-02-12T00:00:00",
          "2021-03-18T00:00:00",
          "2021-03-24T00:00:00",
          "2021-04-05T00:00:00",
          "2021-04-29T00:00:00",
          "2021-05-11T00:00:00",
          "2021-06-14T00:00:00",
          "2021-07-10T00:00:00",
          "2021-08-19T00:00:00",
          "2021-09-12T00:00:00",
          "2021-10-04T00:00:00",
          "2021-11-16T00:00:00",
          "2021-12-13T00:00:00",
          "2022-01-12T00:00:00",
          "2022-03-29T00:00:00",
          "2022-05-01T00:00:00",
          "2022-05-23T00:00:00",
          "2022-07-15T00:00:00",
          "2022-08-13T00:00:00",
          "2022-09-17T00:00:00",
          "2022-09-18T00:00:00",
          "2022-11-23T00:00:00",
          "2022-12-13T00:00:00"
         ],
         "y": [
          2.77,
          2.21,
          3.3699999999999997,
          3.1450000000000005,
          1.9349999999999998,
          1.28,
          1.985,
          2.23,
          1.4800000000000002,
          1.015,
          2.88,
          2.01,
          1.78,
          2.375,
          2.6750000000000003,
          6.19,
          2.45,
          1.9649999999999999,
          3.0100000000000002,
          2.5100000000000002,
          1.985,
          2.51,
          2.07,
          1.73,
          4.405,
          1.88,
          2.3550000000000004,
          2.215,
          2.5650000000000004,
          2.215,
          2.2199999999999998,
          3.1049999999999995,
          4.154999999999999,
          4.85,
          3.23,
          3.0200000000000005,
          2.625,
          2.2800000000000002,
          1.75,
          3.2249999999999996,
          2.3200000000000003,
          2.01,
          4.705,
          5.27,
          4.63,
          9.944999999999999,
          4.515000000000001,
          3.6900000000000004,
          2.14,
          4.5600000000000005,
          5.435,
          1.69,
          1.565,
          1.845,
          2.55,
          2.065,
          1.5699999999999998,
          1.49,
          1.2799999999999998,
          1.985,
          4.345,
          6.09,
          6.03,
          5.585,
          3.715,
          6.29,
          4.6850000000000005,
          1.92,
          2.29,
          3.155,
          2.23,
          1.785,
          2.655,
          2.29,
          3.54,
          5.84,
          2.6149999999999998,
          2.51,
          4.27,
          2.8200000000000003,
          2.0999999999999996,
          2.0949999999999998,
          1.835,
          2.3100000000000005,
          3.1300000000000003,
          3.8949999999999996,
          3.24,
          4.915,
          3.31,
          5.5200000000000005,
          3.885,
          1.885,
          5.33,
          3.335,
          2.48,
          1.9500000000000002,
          1.78,
          2,
          3.295,
          3.9299999999999997,
          3.2199999999999998,
          2.4499999999999997,
          5.005,
          5.175,
          2.2600000000000002,
          2.0599999999999996,
          5.375,
          3.055,
          3.18,
          4.33,
          3.915,
          2.94,
          2.6,
          4.235,
          2.5999999999999996,
          4.585,
          5.585000000000001,
          12.3,
          6.17,
          5.84,
          2.625,
          4.31,
          4.15,
          3.77,
          4.42,
          3.3150000000000004,
          1.8950000000000002,
          2.005,
          5.15,
          6.779999999999999,
          5.460000000000001,
          7.07,
          8.290000000000001,
          3.3999999999999995,
          3.8499999999999996,
          3.99,
          1.685,
          3.435,
          3.28,
          1.75,
          5.11,
          5.449999999999999,
          5.66,
          6.949999999999999,
          6.3100000000000005,
          5.930000000000001,
          9,
          5.98,
          2.67,
          1.575,
          3.7950000000000004,
          1.9000000000000001,
          1.8599999999999999,
          2.93,
          1.79,
          8.69,
          5.42,
          5.369999999999999,
          7.369999999999999,
          1.7750000000000001,
          2.63,
          2.69,
          2.9200000000000004,
          2.91,
          2.735,
          2.25,
          2.2,
          4.4750000000000005,
          4.11,
          4.869999999999999,
          3.5,
          4.760000000000001,
          4.5,
          3.7649999999999997,
          2.71,
          2.5500000000000003,
          3.92,
          2.885,
          4.4,
          1.665,
          2.14,
          3.1950000000000003,
          2.9499999999999997,
          3.2600000000000002,
          3.37,
          2.36,
          7.6,
          2.3299999999999996,
          6.015,
          2.935,
          3.2550000000000003,
          2.5749999999999997,
          4.005,
          3.2988888888888885,
          2.55,
          2.42,
          3.79,
          4.34,
          2.755,
          4.484999999999999,
          2.5900000000000003,
          3.945,
          4.99,
          10.015,
          10.489999999999998,
          2.74,
          3.5500000000000007,
          8.360000000000001,
          0.95,
          0.9299999999999999,
          2.075,
          3.42,
          5.5,
          2.485,
          3.56,
          6.504999999999999,
          5.235,
          8.905000000000001,
          7.47,
          8.95,
          5.664999999999999,
          5.114999999999999,
          2.5599999999999996,
          4.46,
          3.585,
          2.325,
          4.76,
          3.22,
          4.145,
          3.9,
          6.365,
          7.37,
          6.0200000000000005,
          3.9,
          7.635000000000001,
          4.7700000000000005,
          2.625,
          2.5949999999999998,
          3.3499999999999996,
          4.4799999999999995,
          5.24,
          4.22,
          5.91,
          6.06,
          3.84,
          3.97,
          8.13,
          8.895,
          4.35,
          3.325,
          3.7950000000000004,
          5.1899999999999995,
          5.38,
          3.77,
          3.4000000000000004,
          3.5300000000000002,
          2.365,
          6.455,
          5.174999999999999,
          4,
          10.205,
          8.815,
          4.220000000000001,
          2.775,
          2.9949999999999997,
          2,
          2.835,
          1.53,
          3.265,
          7.220000000000001,
          3.925,
          2.52,
          8.135,
          5.825,
          1.98,
          2.9299999999999997,
          5.085000000000001,
          2.76,
          2.47,
          1.895,
          2.215,
          3.6,
          3.035,
          2.38,
          5.595000000000001,
          1.0050000000000001,
          2.225,
          1.8350000000000002,
          0.935,
          0.835,
          1.635,
          1.5450000000000004,
          2.01,
          2.4,
          2.9499999999999997,
          9.135,
          4.26,
          3.44,
          5.52,
          3.9950000000000006,
          4.085,
          2.83,
          2.745,
          1.71,
          1.92,
          1.475,
          2.75,
          3.5700000000000003,
          1.7,
          2.86,
          3.41,
          5.135,
          5.15,
          3.705,
          5.909999999999999,
          4.04,
          3.075,
          2.4749999999999996,
          1.7750000000000001,
          2.02,
          1.6600000000000001,
          3.51,
          2.52,
          3.0700000000000003,
          4.32,
          8.950000000000001,
          6.9399999999999995,
          7.039999999999999,
          10.035,
          10.875,
          6.854999999999999,
          5.17,
          7.6499999999999995,
          2.575,
          6.6,
          7.07,
          2.67,
          5.289999999999999,
          3.0999999999999996,
          1.8400000000000003,
          3.3299999999999996,
          1.865,
          4.38,
          5.16,
          4.55,
          5.07,
          1.6800000000000002,
          2.74,
          1.465,
          2.19,
          5.365000000000001,
          3.3649999999999998,
          5.365,
          3.835,
          7.4750000000000005,
          9.195,
          2.64,
          4.8950000000000005,
          4.75,
          9.705,
          3.650000000000001,
          2.42,
          5.51,
          1.3700000000000003,
          2.52,
          3.16,
          1.7599999999999998,
          3.795,
          3.65,
          1.7799999999999998,
          1.875,
          1.465,
          2.775
         ]
        }
       ],
       "layout": {
        "legend": {
         "title": {
          "text": "Time of Day"
         }
        },
        "template": {
         "data": {
          "bar": [
           {
            "error_x": {
             "color": "#2a3f5f"
            },
            "error_y": {
             "color": "#2a3f5f"
            },
            "marker": {
             "line": {
              "color": "#E5ECF6",
              "width": 0.5
             },
             "pattern": {
              "fillmode": "overlay",
              "size": 10,
              "solidity": 0.2
             }
            },
            "type": "bar"
           }
          ],
          "barpolar": [
           {
            "marker": {
             "line": {
              "color": "#E5ECF6",
              "width": 0.5
             },
             "pattern": {
              "fillmode": "overlay",
              "size": 10,
              "solidity": 0.2
             }
            },
            "type": "barpolar"
           }
          ],
          "carpet": [
           {
            "aaxis": {
             "endlinecolor": "#2a3f5f",
             "gridcolor": "white",
             "linecolor": "white",
             "minorgridcolor": "white",
             "startlinecolor": "#2a3f5f"
            },
            "baxis": {
             "endlinecolor": "#2a3f5f",
             "gridcolor": "white",
             "linecolor": "white",
             "minorgridcolor": "white",
             "startlinecolor": "#2a3f5f"
            },
            "type": "carpet"
           }
          ],
          "choropleth": [
           {
            "colorbar": {
             "outlinewidth": 0,
             "ticks": ""
            },
            "type": "choropleth"
           }
          ],
          "contour": [
           {
            "colorbar": {
             "outlinewidth": 0,
             "ticks": ""
            },
            "colorscale": [
             [
              0,
              "#0d0887"
             ],
             [
              0.1111111111111111,
              "#46039f"
             ],
             [
              0.2222222222222222,
              "#7201a8"
             ],
             [
              0.3333333333333333,
              "#9c179e"
             ],
             [
              0.4444444444444444,
              "#bd3786"
             ],
             [
              0.5555555555555556,
              "#d8576b"
             ],
             [
              0.6666666666666666,
              "#ed7953"
             ],
             [
              0.7777777777777778,
              "#fb9f3a"
             ],
             [
              0.8888888888888888,
              "#fdca26"
             ],
             [
              1,
              "#f0f921"
             ]
            ],
            "type": "contour"
           }
          ],
          "contourcarpet": [
           {
            "colorbar": {
             "outlinewidth": 0,
             "ticks": ""
            },
            "type": "contourcarpet"
           }
          ],
          "heatmap": [
           {
            "colorbar": {
             "outlinewidth": 0,
             "ticks": ""
            },
            "colorscale": [
             [
              0,
              "#0d0887"
             ],
             [
              0.1111111111111111,
              "#46039f"
             ],
             [
              0.2222222222222222,
              "#7201a8"
             ],
             [
              0.3333333333333333,
              "#9c179e"
             ],
             [
              0.4444444444444444,
              "#bd3786"
             ],
             [
              0.5555555555555556,
              "#d8576b"
             ],
             [
              0.6666666666666666,
              "#ed7953"
             ],
             [
              0.7777777777777778,
              "#fb9f3a"
             ],
             [
              0.8888888888888888,
              "#fdca26"
             ],
             [
              1,
              "#f0f921"
             ]
            ],
            "type": "heatmap"
           }
          ],
          "heatmapgl": [
           {
            "colorbar": {
             "outlinewidth": 0,
             "ticks": ""
            },
            "colorscale": [
             [
              0,
              "#0d0887"
             ],
             [
              0.1111111111111111,
              "#46039f"
             ],
             [
              0.2222222222222222,
              "#7201a8"
             ],
             [
              0.3333333333333333,
              "#9c179e"
             ],
             [
              0.4444444444444444,
              "#bd3786"
             ],
             [
              0.5555555555555556,
              "#d8576b"
             ],
             [
              0.6666666666666666,
              "#ed7953"
             ],
             [
              0.7777777777777778,
              "#fb9f3a"
             ],
             [
              0.8888888888888888,
              "#fdca26"
             ],
             [
              1,
              "#f0f921"
             ]
            ],
            "type": "heatmapgl"
           }
          ],
          "histogram": [
           {
            "marker": {
             "pattern": {
              "fillmode": "overlay",
              "size": 10,
              "solidity": 0.2
             }
            },
            "type": "histogram"
           }
          ],
          "histogram2d": [
           {
            "colorbar": {
             "outlinewidth": 0,
             "ticks": ""
            },
            "colorscale": [
             [
              0,
              "#0d0887"
             ],
             [
              0.1111111111111111,
              "#46039f"
             ],
             [
              0.2222222222222222,
              "#7201a8"
             ],
             [
              0.3333333333333333,
              "#9c179e"
             ],
             [
              0.4444444444444444,
              "#bd3786"
             ],
             [
              0.5555555555555556,
              "#d8576b"
             ],
             [
              0.6666666666666666,
              "#ed7953"
             ],
             [
              0.7777777777777778,
              "#fb9f3a"
             ],
             [
              0.8888888888888888,
              "#fdca26"
             ],
             [
              1,
              "#f0f921"
             ]
            ],
            "type": "histogram2d"
           }
          ],
          "histogram2dcontour": [
           {
            "colorbar": {
             "outlinewidth": 0,
             "ticks": ""
            },
            "colorscale": [
             [
              0,
              "#0d0887"
             ],
             [
              0.1111111111111111,
              "#46039f"
             ],
             [
              0.2222222222222222,
              "#7201a8"
             ],
             [
              0.3333333333333333,
              "#9c179e"
             ],
             [
              0.4444444444444444,
              "#bd3786"
             ],
             [
              0.5555555555555556,
              "#d8576b"
             ],
             [
              0.6666666666666666,
              "#ed7953"
             ],
             [
              0.7777777777777778,
              "#fb9f3a"
             ],
             [
              0.8888888888888888,
              "#fdca26"
             ],
             [
              1,
              "#f0f921"
             ]
            ],
            "type": "histogram2dcontour"
           }
          ],
          "mesh3d": [
           {
            "colorbar": {
             "outlinewidth": 0,
             "ticks": ""
            },
            "type": "mesh3d"
           }
          ],
          "parcoords": [
           {
            "line": {
             "colorbar": {
              "outlinewidth": 0,
              "ticks": ""
             }
            },
            "type": "parcoords"
           }
          ],
          "pie": [
           {
            "automargin": true,
            "type": "pie"
           }
          ],
          "scatter": [
           {
            "fillpattern": {
             "fillmode": "overlay",
             "size": 10,
             "solidity": 0.2
            },
            "type": "scatter"
           }
          ],
          "scatter3d": [
           {
            "line": {
             "colorbar": {
              "outlinewidth": 0,
              "ticks": ""
             }
            },
            "marker": {
             "colorbar": {
              "outlinewidth": 0,
              "ticks": ""
             }
            },
            "type": "scatter3d"
           }
          ],
          "scattercarpet": [
           {
            "marker": {
             "colorbar": {
              "outlinewidth": 0,
              "ticks": ""
             }
            },
            "type": "scattercarpet"
           }
          ],
          "scattergeo": [
           {
            "marker": {
             "colorbar": {
              "outlinewidth": 0,
              "ticks": ""
             }
            },
            "type": "scattergeo"
           }
          ],
          "scattergl": [
           {
            "marker": {
             "colorbar": {
              "outlinewidth": 0,
              "ticks": ""
             }
            },
            "type": "scattergl"
           }
          ],
          "scattermapbox": [
           {
            "marker": {
             "colorbar": {
              "outlinewidth": 0,
              "ticks": ""
             }
            },
            "type": "scattermapbox"
           }
          ],
          "scatterpolar": [
           {
            "marker": {
             "colorbar": {
              "outlinewidth": 0,
              "ticks": ""
             }
            },
            "type": "scatterpolar"
           }
          ],
          "scatterpolargl": [
           {
            "marker": {
             "colorbar": {
              "outlinewidth": 0,
              "ticks": ""
             }
            },
            "type": "scatterpolargl"
           }
          ],
          "scatterternary": [
           {
            "marker": {
             "colorbar": {
              "outlinewidth": 0,
              "ticks": ""
             }
            },
            "type": "scatterternary"
           }
          ],
          "surface": [
           {
            "colorbar": {
             "outlinewidth": 0,
             "ticks": ""
            },
            "colorscale": [
             [
              0,
              "#0d0887"
             ],
             [
              0.1111111111111111,
              "#46039f"
             ],
             [
              0.2222222222222222,
              "#7201a8"
             ],
             [
              0.3333333333333333,
              "#9c179e"
             ],
             [
              0.4444444444444444,
              "#bd3786"
             ],
             [
              0.5555555555555556,
              "#d8576b"
             ],
             [
              0.6666666666666666,
              "#ed7953"
             ],
             [
              0.7777777777777778,
              "#fb9f3a"
             ],
             [
              0.8888888888888888,
              "#fdca26"
             ],
             [
              1,
              "#f0f921"
             ]
            ],
            "type": "surface"
           }
          ],
          "table": [
           {
            "cells": {
             "fill": {
              "color": "#EBF0F8"
             },
             "line": {
              "color": "white"
             }
            },
            "header": {
             "fill": {
              "color": "#C8D4E3"
             },
             "line": {
              "color": "white"
             }
            },
            "type": "table"
           }
          ]
         },
         "layout": {
          "annotationdefaults": {
           "arrowcolor": "#2a3f5f",
           "arrowhead": 0,
           "arrowwidth": 1
          },
          "autotypenumbers": "strict",
          "coloraxis": {
           "colorbar": {
            "outlinewidth": 0,
            "ticks": ""
           }
          },
          "colorscale": {
           "diverging": [
            [
             0,
             "#8e0152"
            ],
            [
             0.1,
             "#c51b7d"
            ],
            [
             0.2,
             "#de77ae"
            ],
            [
             0.3,
             "#f1b6da"
            ],
            [
             0.4,
             "#fde0ef"
            ],
            [
             0.5,
             "#f7f7f7"
            ],
            [
             0.6,
             "#e6f5d0"
            ],
            [
             0.7,
             "#b8e186"
            ],
            [
             0.8,
             "#7fbc41"
            ],
            [
             0.9,
             "#4d9221"
            ],
            [
             1,
             "#276419"
            ]
           ],
           "sequential": [
            [
             0,
             "#0d0887"
            ],
            [
             0.1111111111111111,
             "#46039f"
            ],
            [
             0.2222222222222222,
             "#7201a8"
            ],
            [
             0.3333333333333333,
             "#9c179e"
            ],
            [
             0.4444444444444444,
             "#bd3786"
            ],
            [
             0.5555555555555556,
             "#d8576b"
            ],
            [
             0.6666666666666666,
             "#ed7953"
            ],
            [
             0.7777777777777778,
             "#fb9f3a"
            ],
            [
             0.8888888888888888,
             "#fdca26"
            ],
            [
             1,
             "#f0f921"
            ]
           ],
           "sequentialminus": [
            [
             0,
             "#0d0887"
            ],
            [
             0.1111111111111111,
             "#46039f"
            ],
            [
             0.2222222222222222,
             "#7201a8"
            ],
            [
             0.3333333333333333,
             "#9c179e"
            ],
            [
             0.4444444444444444,
             "#bd3786"
            ],
            [
             0.5555555555555556,
             "#d8576b"
            ],
            [
             0.6666666666666666,
             "#ed7953"
            ],
            [
             0.7777777777777778,
             "#fb9f3a"
            ],
            [
             0.8888888888888888,
             "#fdca26"
            ],
            [
             1,
             "#f0f921"
            ]
           ]
          },
          "colorway": [
           "#636efa",
           "#EF553B",
           "#00cc96",
           "#ab63fa",
           "#FFA15A",
           "#19d3f3",
           "#FF6692",
           "#B6E880",
           "#FF97FF",
           "#FECB52"
          ],
          "font": {
           "color": "#2a3f5f"
          },
          "geo": {
           "bgcolor": "white",
           "lakecolor": "white",
           "landcolor": "#E5ECF6",
           "showlakes": true,
           "showland": true,
           "subunitcolor": "white"
          },
          "hoverlabel": {
           "align": "left"
          },
          "hovermode": "closest",
          "mapbox": {
           "style": "light"
          },
          "paper_bgcolor": "white",
          "plot_bgcolor": "#E5ECF6",
          "polar": {
           "angularaxis": {
            "gridcolor": "white",
            "linecolor": "white",
            "ticks": ""
           },
           "bgcolor": "#E5ECF6",
           "radialaxis": {
            "gridcolor": "white",
            "linecolor": "white",
            "ticks": ""
           }
          },
          "scene": {
           "xaxis": {
            "backgroundcolor": "#E5ECF6",
            "gridcolor": "white",
            "gridwidth": 2,
            "linecolor": "white",
            "showbackground": true,
            "ticks": "",
            "zerolinecolor": "white"
           },
           "yaxis": {
            "backgroundcolor": "#E5ECF6",
            "gridcolor": "white",
            "gridwidth": 2,
            "linecolor": "white",
            "showbackground": true,
            "ticks": "",
            "zerolinecolor": "white"
           },
           "zaxis": {
            "backgroundcolor": "#E5ECF6",
            "gridcolor": "white",
            "gridwidth": 2,
            "linecolor": "white",
            "showbackground": true,
            "ticks": "",
            "zerolinecolor": "white"
           }
          },
          "shapedefaults": {
           "line": {
            "color": "#2a3f5f"
           }
          },
          "ternary": {
           "aaxis": {
            "gridcolor": "white",
            "linecolor": "white",
            "ticks": ""
           },
           "baxis": {
            "gridcolor": "white",
            "linecolor": "white",
            "ticks": ""
           },
           "bgcolor": "#E5ECF6",
           "caxis": {
            "gridcolor": "white",
            "linecolor": "white",
            "ticks": ""
           }
          },
          "title": {
           "x": 0.05
          },
          "xaxis": {
           "automargin": true,
           "gridcolor": "white",
           "linecolor": "white",
           "ticks": "",
           "title": {
            "standoff": 15
           },
           "zerolinecolor": "white",
           "zerolinewidth": 2
          },
          "yaxis": {
           "automargin": true,
           "gridcolor": "white",
           "linecolor": "white",
           "ticks": "",
           "title": {
            "standoff": 15
           },
           "zerolinecolor": "white",
           "zerolinewidth": 2
          }
         }
        },
        "title": {
         "text": "BATS : zooplankton dry weight by cube meter of sea water"
        },
        "xaxis": {
         "title": {
          "text": "Time"
         }
        },
        "yaxis": {
         "title": {
          "text": "Dry Weight (mg/m3)"
         }
        }
       }
      }
     },
     "metadata": {},
     "output_type": "display_data"
    }
   ],
   "source": [
    "day = zoo_bats_d_n[\"day\"].dropna()\n",
    "night = zoo_bats_d_n[\"night\"].dropna()\n",
    "go.Figure(\n",
    "    data=[\n",
    "        go.Scatter(x=day.index, y=day, mode=\"lines\", name=\"Day\"),\n",
    "        go.Scatter(x=night.index, y=night, mode=\"lines\", name=\"Night\"),\n",
    "    ]\n",
    ").update_layout(\n",
    "    title=\"BATS : zooplankton dry weight by cube meter of sea water\",\n",
    "    xaxis_title=\"Time\",\n",
    "    yaxis_title=\"Dry Weight (mg/m3)\",\n",
    "    legend_title=\"Time of Day\",\n",
    ").show()"
   ]
  },
  {
   "cell_type": "markdown",
   "metadata": {},
   "source": [
    "### HOT station\n"
   ]
  },
  {
   "cell_type": "code",
   "execution_count": 65,
   "metadata": {},
   "outputs": [
    {
     "data": {
      "text/html": [
       "<div>\n",
       "<style scoped>\n",
       "    .dataframe tbody tr th:only-of-type {\n",
       "        vertical-align: middle;\n",
       "    }\n",
       "\n",
       "    .dataframe tbody tr th {\n",
       "        vertical-align: top;\n",
       "    }\n",
       "\n",
       "    .dataframe thead th {\n",
       "        text-align: right;\n",
       "    }\n",
       "</style>\n",
       "<table border=\"1\" class=\"dataframe\">\n",
       "  <thead>\n",
       "    <tr style=\"text-align: right;\">\n",
       "      <th></th>\n",
       "      <th>night</th>\n",
       "      <th>day</th>\n",
       "    </tr>\n",
       "    <tr>\n",
       "      <th>time</th>\n",
       "      <th></th>\n",
       "      <th></th>\n",
       "    </tr>\n",
       "  </thead>\n",
       "  <tbody>\n",
       "    <tr>\n",
       "      <th>1994-02-17</th>\n",
       "      <td>3.699338</td>\n",
       "      <td>1.051934</td>\n",
       "    </tr>\n",
       "    <tr>\n",
       "      <th>1994-02-18</th>\n",
       "      <td>3.925000</td>\n",
       "      <td>0.604762</td>\n",
       "    </tr>\n",
       "    <tr>\n",
       "      <th>1994-02-19</th>\n",
       "      <td>3.259854</td>\n",
       "      <td>3.321583</td>\n",
       "    </tr>\n",
       "    <tr>\n",
       "      <th>1994-03-09</th>\n",
       "      <td>2.529457</td>\n",
       "      <td>2.003175</td>\n",
       "    </tr>\n",
       "    <tr>\n",
       "      <th>1994-03-10</th>\n",
       "      <td>3.760984</td>\n",
       "      <td>1.545122</td>\n",
       "    </tr>\n",
       "    <tr>\n",
       "      <th>...</th>\n",
       "      <td>...</td>\n",
       "      <td>...</td>\n",
       "    </tr>\n",
       "    <tr>\n",
       "      <th>2022-07-10</th>\n",
       "      <td>10.020219</td>\n",
       "      <td>7.180867</td>\n",
       "    </tr>\n",
       "    <tr>\n",
       "      <th>2022-07-30</th>\n",
       "      <td>13.231735</td>\n",
       "      <td>NaN</td>\n",
       "    </tr>\n",
       "    <tr>\n",
       "      <th>2022-07-31</th>\n",
       "      <td>9.892350</td>\n",
       "      <td>5.472701</td>\n",
       "    </tr>\n",
       "    <tr>\n",
       "      <th>2022-09-01</th>\n",
       "      <td>6.061400</td>\n",
       "      <td>5.704000</td>\n",
       "    </tr>\n",
       "    <tr>\n",
       "      <th>2022-09-02</th>\n",
       "      <td>6.409959</td>\n",
       "      <td>8.728396</td>\n",
       "    </tr>\n",
       "  </tbody>\n",
       "</table>\n",
       "<p>546 rows × 2 columns</p>\n",
       "</div>"
      ],
      "text/plain": [
       "                night       day\n",
       "time                           \n",
       "1994-02-17   3.699338  1.051934\n",
       "1994-02-18   3.925000  0.604762\n",
       "1994-02-19   3.259854  3.321583\n",
       "1994-03-09   2.529457  2.003175\n",
       "1994-03-10   3.760984  1.545122\n",
       "...               ...       ...\n",
       "2022-07-10  10.020219  7.180867\n",
       "2022-07-30  13.231735       NaN\n",
       "2022-07-31   9.892350  5.472701\n",
       "2022-09-01   6.061400  5.704000\n",
       "2022-09-02   6.409959  8.728396\n",
       "\n",
       "[546 rows x 2 columns]"
      ]
     },
     "execution_count": 65,
     "metadata": {},
     "output_type": "execute_result"
    }
   ],
   "source": [
    "zoo_hot = (\n",
    "    data_hot[\"dwt\"]\n",
    "    .dropna(\"time\", how=\"all\")\n",
    "    .mean(\"depth\")\n",
    "    .isel(latitude=0, longitude=0)\n",
    "    .sum(\"sieve_size\")\n",
    ")\n",
    "zoo_hot = zoo_hot.pint.quantify(\"g/m3\").pint.to(\"mg/m^3\").pint.dequantify()\n",
    "zoo_hot_d_n = zoo_hot.to_dataframe().pivot_table(\n",
    "    index=[\"time\"], columns=[\"is_day\"], values=[\"dwt\"]\n",
    ")\n",
    "zoo_hot_d_n.columns = [\"night\", \"day\"]\n",
    "# # transform 0 to nan\n",
    "zoo_hot_d_n = zoo_hot_d_n.map(lambda x: None if x == 0 else x)\n",
    "zoo_hot_d_n"
   ]
  },
  {
   "cell_type": "code",
   "execution_count": 66,
   "metadata": {},
   "outputs": [
    {
     "data": {
      "application/vnd.plotly.v1+json": {
       "config": {
        "plotlyServerURL": "https://plot.ly"
       },
       "data": [
        {
         "mode": "lines",
         "name": "Day",
         "type": "scatter",
         "x": [
          "1994-02-17T00:00:00",
          "1994-02-18T00:00:00",
          "1994-02-19T00:00:00",
          "1994-03-09T00:00:00",
          "1994-03-10T00:00:00",
          "1994-03-11T00:00:00",
          "1994-06-19T00:00:00",
          "1994-07-25T00:00:00",
          "1994-08-30T00:00:00",
          "1994-08-31T00:00:00",
          "1994-09-22T00:00:00",
          "1994-09-23T00:00:00",
          "1994-09-24T00:00:00",
          "1994-10-16T00:00:00",
          "1994-10-17T00:00:00",
          "1995-02-07T00:00:00",
          "1995-03-04T00:00:00",
          "1995-03-05T00:00:00",
          "1995-04-05T00:00:00",
          "1995-04-06T00:00:00",
          "1995-05-06T00:00:00",
          "1995-05-07T00:00:00",
          "1995-07-30T00:00:00",
          "1995-08-28T00:00:00",
          "1995-08-29T00:00:00",
          "1995-08-30T00:00:00",
          "1995-09-28T00:00:00",
          "1995-10-26T00:00:00",
          "1995-11-17T00:00:00",
          "1996-01-16T00:00:00",
          "1996-03-26T00:00:00",
          "1996-03-27T00:00:00",
          "1996-04-23T00:00:00",
          "1996-04-24T00:00:00",
          "1996-05-21T00:00:00",
          "1996-05-22T00:00:00",
          "1996-06-25T00:00:00",
          "1996-07-26T00:00:00",
          "1996-07-27T00:00:00",
          "1996-08-20T00:00:00",
          "1996-10-01T00:00:00",
          "1996-10-29T00:00:00",
          "1996-12-10T00:00:00",
          "1996-12-11T00:00:00",
          "1997-01-07T00:00:00",
          "1997-01-08T00:00:00",
          "1997-02-17T00:00:00",
          "1997-02-18T00:00:00",
          "1997-03-11T00:00:00",
          "1997-03-12T00:00:00",
          "1997-04-08T00:00:00",
          "1997-04-09T00:00:00",
          "1997-05-06T00:00:00",
          "1997-05-07T00:00:00",
          "1997-06-03T00:00:00",
          "1997-06-04T00:00:00",
          "1997-07-08T00:00:00",
          "1997-08-02T00:00:00",
          "1997-12-04T00:00:00",
          "1997-12-05T00:00:00",
          "1998-01-10T00:00:00",
          "1998-01-11T00:00:00",
          "1998-02-18T00:00:00",
          "1998-03-17T00:00:00",
          "1998-03-18T00:00:00",
          "1998-04-14T00:00:00",
          "1998-04-15T00:00:00",
          "1998-05-12T00:00:00",
          "1998-05-13T00:00:00",
          "1998-06-16T00:00:00",
          "1998-06-17T00:00:00",
          "1998-07-14T00:00:00",
          "1998-07-15T00:00:00",
          "1998-08-09T00:00:00",
          "1998-09-27T00:00:00",
          "1998-10-18T00:00:00",
          "1998-10-19T00:00:00",
          "1998-11-10T00:00:00",
          "1998-11-11T00:00:00",
          "1998-12-08T00:00:00",
          "1999-01-12T00:00:00",
          "1999-01-13T00:00:00",
          "1999-02-17T00:00:00",
          "1999-03-16T00:00:00",
          "1999-03-17T00:00:00",
          "1999-04-13T00:00:00",
          "1999-04-15T00:00:00",
          "1999-05-09T00:00:00",
          "1999-07-13T00:00:00",
          "1999-07-14T00:00:00",
          "1999-08-13T00:00:00",
          "1999-10-14T00:00:00",
          "1999-10-15T00:00:00",
          "1999-11-08T00:00:00",
          "1999-11-09T00:00:00",
          "1999-12-14T00:00:00",
          "1999-12-15T00:00:00",
          "2000-01-30T00:00:00",
          "2000-01-31T00:00:00",
          "2000-02-01T00:00:00",
          "2000-02-02T00:00:00",
          "2000-02-03T00:00:00",
          "2000-02-29T00:00:00",
          "2000-03-28T00:00:00",
          "2000-03-29T00:00:00",
          "2000-04-25T00:00:00",
          "2000-05-23T00:00:00",
          "2000-05-25T00:00:00",
          "2000-06-20T00:00:00",
          "2000-06-21T00:00:00",
          "2000-07-14T00:00:00",
          "2000-07-15T00:00:00",
          "2000-07-16T00:00:00",
          "2000-07-25T00:00:00",
          "2000-08-22T00:00:00",
          "2000-08-23T00:00:00",
          "2000-10-17T00:00:00",
          "2000-10-18T00:00:00",
          "2000-11-29T00:00:00",
          "2000-12-19T00:00:00",
          "2000-12-20T00:00:00",
          "2001-01-16T00:00:00",
          "2001-01-17T00:00:00",
          "2001-03-20T00:00:00",
          "2001-03-21T00:00:00",
          "2001-04-17T00:00:00",
          "2001-04-18T00:00:00",
          "2001-05-15T00:00:00",
          "2001-05-16T00:00:00",
          "2001-06-13T00:00:00",
          "2001-08-07T00:00:00",
          "2001-08-08T00:00:00",
          "2001-10-01T00:00:00",
          "2001-10-02T00:00:00",
          "2001-10-22T00:00:00",
          "2001-10-23T00:00:00",
          "2001-11-16T00:00:00",
          "2001-11-17T00:00:00",
          "2002-01-15T00:00:00",
          "2002-01-16T00:00:00",
          "2002-02-20T00:00:00",
          "2002-02-21T00:00:00",
          "2002-03-12T00:00:00",
          "2002-03-13T00:00:00",
          "2002-05-20T00:00:00",
          "2002-05-21T00:00:00",
          "2002-06-29T00:00:00",
          "2002-08-27T00:00:00",
          "2002-08-28T00:00:00",
          "2002-10-06T00:00:00",
          "2002-10-07T00:00:00",
          "2002-11-03T00:00:00",
          "2002-12-13T00:00:00",
          "2002-12-14T00:00:00",
          "2003-01-16T00:00:00",
          "2003-01-17T00:00:00",
          "2003-02-25T00:00:00",
          "2003-03-27T00:00:00",
          "2003-03-28T00:00:00",
          "2003-04-23T00:00:00",
          "2003-05-20T00:00:00",
          "2003-05-21T00:00:00",
          "2003-06-19T00:00:00",
          "2003-06-20T00:00:00",
          "2003-07-19T00:00:00",
          "2003-07-20T00:00:00",
          "2003-08-20T00:00:00",
          "2003-08-21T00:00:00",
          "2003-10-14T00:00:00",
          "2003-10-15T00:00:00",
          "2003-11-09T00:00:00",
          "2003-11-10T00:00:00",
          "2003-12-19T00:00:00",
          "2003-12-20T00:00:00",
          "2004-01-21T00:00:00",
          "2004-02-24T00:00:00",
          "2004-03-19T00:00:00",
          "2004-03-20T00:00:00",
          "2004-04-20T00:00:00",
          "2004-04-21T00:00:00",
          "2004-05-18T00:00:00",
          "2004-05-19T00:00:00",
          "2004-06-15T00:00:00",
          "2004-06-16T00:00:00",
          "2004-08-15T00:00:00",
          "2004-08-16T00:00:00",
          "2004-09-28T00:00:00",
          "2004-09-29T00:00:00",
          "2004-10-30T00:00:00",
          "2004-10-31T00:00:00",
          "2004-11-27T00:00:00",
          "2004-11-28T00:00:00",
          "2004-12-20T00:00:00",
          "2004-12-21T00:00:00",
          "2005-02-02T00:00:00",
          "2005-02-04T00:00:00",
          "2005-03-04T00:00:00",
          "2005-03-05T00:00:00",
          "2005-06-14T00:00:00",
          "2005-06-15T00:00:00",
          "2005-07-16T00:00:00",
          "2005-07-17T00:00:00",
          "2005-08-13T00:00:00",
          "2005-08-14T00:00:00",
          "2005-10-10T00:00:00",
          "2005-11-12T00:00:00",
          "2005-11-13T00:00:00",
          "2005-12-13T00:00:00",
          "2005-12-14T00:00:00",
          "2006-02-15T00:00:00",
          "2006-02-16T00:00:00",
          "2006-03-10T00:00:00",
          "2006-03-11T00:00:00",
          "2006-04-02T00:00:00",
          "2006-04-03T00:00:00",
          "2006-05-27T00:00:00",
          "2006-05-28T00:00:00",
          "2006-06-14T00:00:00",
          "2006-06-15T00:00:00",
          "2006-07-13T00:00:00",
          "2006-07-14T00:00:00",
          "2006-08-09T00:00:00",
          "2006-08-10T00:00:00",
          "2006-09-16T00:00:00",
          "2006-09-17T00:00:00",
          "2006-10-20T00:00:00",
          "2006-10-21T00:00:00",
          "2006-10-22T00:00:00",
          "2006-11-09T00:00:00",
          "2006-11-10T00:00:00",
          "2006-12-10T00:00:00",
          "2006-12-11T00:00:00",
          "2007-02-07T00:00:00",
          "2007-02-09T00:00:00",
          "2007-03-21T00:00:00",
          "2007-03-22T00:00:00",
          "2007-05-05T00:00:00",
          "2007-05-06T00:00:00",
          "2007-06-10T00:00:00",
          "2007-06-11T00:00:00",
          "2007-07-08T00:00:00",
          "2007-07-09T00:00:00",
          "2007-08-04T00:00:00",
          "2007-09-03T00:00:00",
          "2007-09-04T00:00:00",
          "2007-10-03T00:00:00",
          "2007-10-04T00:00:00",
          "2007-12-02T00:00:00",
          "2007-12-03T00:00:00",
          "2007-12-21T00:00:00",
          "2007-12-22T00:00:00",
          "2008-01-30T00:00:00",
          "2008-01-31T00:00:00",
          "2008-02-24T00:00:00",
          "2008-02-25T00:00:00",
          "2008-05-28T00:00:00",
          "2008-05-29T00:00:00",
          "2008-06-26T00:00:00",
          "2008-06-27T00:00:00",
          "2008-07-26T00:00:00",
          "2008-07-27T00:00:00",
          "2008-08-16T00:00:00",
          "2008-08-17T00:00:00",
          "2008-10-10T00:00:00",
          "2008-10-11T00:00:00",
          "2008-11-30T00:00:00",
          "2008-12-01T00:00:00",
          "2009-01-20T00:00:00",
          "2009-01-21T00:00:00",
          "2009-02-17T00:00:00",
          "2009-02-18T00:00:00",
          "2009-04-28T00:00:00",
          "2009-04-29T00:00:00",
          "2009-05-27T00:00:00",
          "2009-05-28T00:00:00",
          "2009-07-03T00:00:00",
          "2009-07-04T00:00:00",
          "2009-07-24T00:00:00",
          "2009-07-25T00:00:00",
          "2009-07-26T00:00:00",
          "2009-08-18T00:00:00",
          "2009-08-19T00:00:00",
          "2009-09-24T00:00:00",
          "2009-09-25T00:00:00",
          "2009-11-03T00:00:00",
          "2009-11-04T00:00:00",
          "2009-12-09T00:00:00",
          "2009-12-10T00:00:00",
          "2010-04-06T00:00:00",
          "2010-04-07T00:00:00",
          "2010-05-17T00:00:00",
          "2010-05-18T00:00:00",
          "2010-06-07T00:00:00",
          "2010-06-08T00:00:00",
          "2010-07-07T00:00:00",
          "2010-07-08T00:00:00",
          "2010-08-06T00:00:00",
          "2010-08-07T00:00:00",
          "2010-09-02T00:00:00",
          "2010-09-03T00:00:00",
          "2010-10-01T00:00:00",
          "2010-10-02T00:00:00",
          "2010-10-03T00:00:00",
          "2010-11-20T00:00:00",
          "2011-01-08T00:00:00",
          "2011-01-27T00:00:00",
          "2011-01-28T00:00:00",
          "2011-02-27T00:00:00",
          "2011-02-28T00:00:00",
          "2011-04-10T00:00:00",
          "2011-04-11T00:00:00",
          "2011-05-08T00:00:00",
          "2011-05-09T00:00:00",
          "2011-07-18T00:00:00",
          "2011-07-19T00:00:00",
          "2011-08-29T00:00:00",
          "2011-08-30T00:00:00",
          "2011-09-25T00:00:00",
          "2011-09-26T00:00:00",
          "2011-11-03T00:00:00",
          "2011-11-04T00:00:00",
          "2011-11-28T00:00:00",
          "2011-12-18T00:00:00",
          "2011-12-19T00:00:00",
          "2012-01-17T00:00:00",
          "2012-01-18T00:00:00",
          "2012-03-23T00:00:00",
          "2012-04-30T00:00:00",
          "2012-05-01T00:00:00",
          "2012-05-29T00:00:00",
          "2012-05-30T00:00:00",
          "2012-06-25T00:00:00",
          "2012-06-26T00:00:00",
          "2012-07-30T00:00:00",
          "2012-07-31T00:00:00",
          "2012-08-16T00:00:00",
          "2012-08-17T00:00:00",
          "2012-09-13T00:00:00",
          "2012-09-14T00:00:00",
          "2012-10-07T00:00:00",
          "2012-10-08T00:00:00",
          "2012-12-03T00:00:00",
          "2012-12-04T00:00:00",
          "2013-02-12T00:00:00",
          "2013-02-13T00:00:00",
          "2013-03-06T00:00:00",
          "2013-03-07T00:00:00",
          "2013-04-05T00:00:00",
          "2013-04-06T00:00:00",
          "2013-05-17T00:00:00",
          "2013-05-18T00:00:00",
          "2013-06-25T00:00:00",
          "2013-06-26T00:00:00",
          "2013-09-11T00:00:00",
          "2013-09-12T00:00:00",
          "2013-10-01T00:00:00",
          "2013-10-02T00:00:00",
          "2013-10-27T00:00:00",
          "2013-10-28T00:00:00",
          "2013-11-26T00:00:00",
          "2013-11-27T00:00:00",
          "2013-12-20T00:00:00",
          "2013-12-21T00:00:00",
          "2014-01-15T00:00:00",
          "2014-01-16T00:00:00",
          "2014-02-14T00:00:00",
          "2014-02-15T00:00:00",
          "2014-03-05T00:00:00",
          "2014-03-06T00:00:00",
          "2014-04-10T00:00:00",
          "2014-04-11T00:00:00",
          "2014-05-31T00:00:00",
          "2014-06-01T00:00:00",
          "2014-06-30T00:00:00",
          "2014-07-01T00:00:00",
          "2014-09-14T00:00:00",
          "2014-09-15T00:00:00",
          "2014-10-13T00:00:00",
          "2014-10-14T00:00:00",
          "2014-11-21T00:00:00",
          "2014-11-22T00:00:00",
          "2014-12-16T00:00:00",
          "2014-12-17T00:00:00",
          "2015-02-24T00:00:00",
          "2015-02-25T00:00:00",
          "2015-03-28T00:00:00",
          "2015-04-21T00:00:00",
          "2015-04-22T00:00:00",
          "2015-05-23T00:00:00",
          "2015-05-24T00:00:00",
          "2015-06-19T00:00:00",
          "2015-06-20T00:00:00",
          "2015-07-19T00:00:00",
          "2015-07-20T00:00:00",
          "2015-08-12T00:00:00",
          "2015-08-13T00:00:00",
          "2015-10-13T00:00:00",
          "2015-10-14T00:00:00",
          "2015-11-13T00:00:00",
          "2015-11-14T00:00:00",
          "2015-12-08T00:00:00",
          "2015-12-09T00:00:00",
          "2016-01-12T00:00:00",
          "2016-01-13T00:00:00",
          "2016-02-09T00:00:00",
          "2016-02-10T00:00:00",
          "2016-03-08T00:00:00",
          "2016-03-09T00:00:00",
          "2016-04-14T00:00:00",
          "2016-04-15T00:00:00",
          "2016-05-28T00:00:00",
          "2016-05-29T00:00:00",
          "2016-07-11T00:00:00",
          "2016-07-12T00:00:00",
          "2016-08-09T00:00:00",
          "2016-08-10T00:00:00",
          "2016-10-15T00:00:00",
          "2016-10-16T00:00:00",
          "2016-11-28T00:00:00",
          "2017-01-24T00:00:00",
          "2017-02-24T00:00:00",
          "2017-02-25T00:00:00",
          "2017-03-28T00:00:00",
          "2017-03-29T00:00:00",
          "2017-04-25T00:00:00",
          "2017-04-26T00:00:00",
          "2017-05-23T00:00:00",
          "2017-05-24T00:00:00",
          "2017-06-20T00:00:00",
          "2017-06-21T00:00:00",
          "2017-08-08T00:00:00",
          "2017-08-09T00:00:00",
          "2017-10-07T00:00:00",
          "2017-11-08T00:00:00",
          "2017-11-09T00:00:00",
          "2017-12-13T00:00:00",
          "2018-02-25T00:00:00",
          "2018-02-26T00:00:00",
          "2018-04-18T00:00:00",
          "2018-05-15T00:00:00",
          "2018-06-26T00:00:00",
          "2018-06-27T00:00:00",
          "2018-07-24T00:00:00",
          "2018-07-25T00:00:00",
          "2018-09-10T00:00:00",
          "2018-09-11T00:00:00",
          "2018-10-12T00:00:00",
          "2018-10-13T00:00:00",
          "2018-11-16T00:00:00",
          "2018-11-17T00:00:00",
          "2019-01-16T00:00:00",
          "2019-02-20T00:00:00",
          "2019-05-02T00:00:00",
          "2019-05-03T00:00:00",
          "2019-06-12T00:00:00",
          "2019-07-01T00:00:00",
          "2019-07-02T00:00:00",
          "2019-08-03T00:00:00",
          "2019-09-04T00:00:00",
          "2019-09-05T00:00:00",
          "2019-10-18T00:00:00",
          "2019-12-20T00:00:00",
          "2020-08-07T00:00:00",
          "2020-08-08T00:00:00",
          "2020-08-09T00:00:00",
          "2020-09-02T00:00:00",
          "2020-09-03T00:00:00",
          "2020-09-26T00:00:00",
          "2020-09-27T00:00:00",
          "2020-11-18T00:00:00",
          "2020-11-19T00:00:00",
          "2020-12-18T00:00:00",
          "2020-12-19T00:00:00",
          "2021-01-12T00:00:00",
          "2021-01-13T00:00:00",
          "2021-02-16T00:00:00",
          "2021-02-17T00:00:00",
          "2021-03-23T00:00:00",
          "2021-04-13T00:00:00",
          "2021-04-14T00:00:00",
          "2021-05-16T00:00:00",
          "2021-05-17T00:00:00",
          "2021-06-22T00:00:00",
          "2021-06-23T00:00:00",
          "2021-07-16T00:00:00",
          "2021-07-17T00:00:00",
          "2021-10-30T00:00:00",
          "2021-11-01T00:00:00",
          "2021-12-06T00:00:00",
          "2022-03-27T00:00:00",
          "2022-03-28T00:00:00",
          "2022-05-26T00:00:00",
          "2022-05-27T00:00:00",
          "2022-07-09T00:00:00",
          "2022-07-10T00:00:00",
          "2022-07-31T00:00:00",
          "2022-09-01T00:00:00",
          "2022-09-02T00:00:00"
         ],
         "y": [
          1.0519337016574586,
          0.6047619047619047,
          3.3215827338129498,
          2.003174603174603,
          1.5451219512195122,
          1.8412844036697247,
          2.7908267023499445,
          4.090525192368504,
          4.548387096774194,
          4.607477319285922,
          3.627113526570048,
          3.7287179487179487,
          2.924698795180723,
          3.4402116402116403,
          2.8310185185185186,
          1.1561904761904762,
          2.8692913385826775,
          1.721078431372549,
          1.4175675675675676,
          1.9719178082191784,
          4.536667282638824,
          3.0603773584905656,
          4.13982377753476,
          4.778222222222222,
          2.8360700051984056,
          3.89766081871345,
          6.045945945945945,
          3.9345006334105173,
          2.801525862068966,
          3.2884317414440223,
          4.770566811221032,
          3.986274509803922,
          4.717494824016563,
          5.209090909090909,
          5.079698581560283,
          3.5,
          3.7729644771153463,
          8.206707317073171,
          7.4478308823529416,
          4.515412698412698,
          4.800440917039232,
          4.456136316545522,
          2.89601677148847,
          3.005917159763314,
          1.3293233082706768,
          2.733036709667145,
          2.4577158999192896,
          2.47125,
          2.5501077586206895,
          3.9230769230769234,
          4.82758006198347,
          5.505042016806723,
          5.237921554252199,
          4.754477611940299,
          5.1138828828828835,
          4.3297297297297295,
          3.6181178789039885,
          6.437203520302943,
          4.161494252873563,
          3.083359163115072,
          2.0605629889283117,
          2.2300751879699248,
          2.6082079371210654,
          5.384927636796194,
          5.578082191780822,
          5.004032258064516,
          5.328654970760233,
          1.9721804511278196,
          9.160871440897324,
          6.0685714285714285,
          7.9699663447468545,
          6.776100628930817,
          5.551421682740273,
          6.5731242372190914,
          2.069117725957783,
          4.516181268401369,
          3.8795774647887327,
          4.743767617310563,
          1.9737142857142858,
          1.7510078915766,
          3.2704026845637584,
          3.0060606060606063,
          3.551787286770996,
          3.1416666666666666,
          4.603669724770643,
          4.242371541501976,
          4.6055865921787715,
          6.002421903241401,
          5.430898876404494,
          4.055831571529245,
          6.468928571428572,
          3.0986842105263155,
          3.7498033921059357,
          3.2223793103448273,
          2.0730392156862747,
          3.710020665513896,
          4.6956204379562045,
          3.2316582914572862,
          2.8311418306779133,
          4.6212341880341885,
          2.6407035848047085,
          2.1685314685314685,
          3.519285714285714,
          3.3337209302325577,
          3.3621919673247107,
          4.473454346644187,
          6.044250645994832,
          5.2767441860465105,
          6.426463855421687,
          8.583168316831681,
          6.086021505376344,
          6.033701657458564,
          10.145142857142858,
          5.6581023343957275,
          5.553743583322899,
          4.3059701492537314,
          5.608996586417535,
          6.696551724137931,
          6.451174244030705,
          3.7786956521739135,
          3.993162393162393,
          4.096093238822247,
          4.856962025316456,
          6.081750160051217,
          5.871428571428572,
          5.614880952380953,
          5.4605119825708055,
          5.025370281892021,
          5.106936416184971,
          5.833112240627639,
          7.865013393604554,
          6.5093749999999995,
          8.330831168831168,
          6.18476821192053,
          14.109541984732825,
          6.393457943925234,
          8.03938679245283,
          3.9770270270270274,
          2.5835315182330105,
          2.931818181818182,
          2.9289772727272725,
          3.6980891719745226,
          3.272523128679563,
          3.2703703703703706,
          5.342486495334753,
          5.403125,
          8.856129391390402,
          4.916450549450549,
          7.183908045977011,
          6.174282719046569,
          5.240760869565217,
          5.066539840678739,
          3.6995158002038737,
          4.015625,
          4.768031719730146,
          3.0307228915662647,
          4.550592215717725,
          4.198136645962733,
          3.960123626373627,
          5.010293354473134,
          3.4424113156713068,
          3.8,
          4.3726000860955665,
          4.41025641025641,
          6.95703228659885,
          6.792857142857143,
          5.944303613524073,
          5.412921348314606,
          6.063950158656451,
          7.503968253968254,
          6.075611413043479,
          3.5949494949494945,
          6.665301405325444,
          6.719000000000001,
          4.3435938330675175,
          5.021124712532564,
          3.9426322090770176,
          4.6646511627906975,
          6.667328893821679,
          4.758974358974359,
          5.602879728966686,
          5.681773399014779,
          6.871133946536361,
          5.422751322751323,
          5.098687277869071,
          5.725766871165645,
          8.1434447108181,
          9.023204419889503,
          6.536636363636363,
          4.0044519317160825,
          4.535388046387154,
          3.0776397515527947,
          4.086209651645894,
          3.4526627218934913,
          2.8499333777481675,
          2.571354166666666,
          4.48445573691955,
          4.20164609053498,
          5.289944262798709,
          6.48659793814433,
          6.143805309734513,
          6.642014900662251,
          8.12127659574468,
          7.21990905739216,
          5.604117647058824,
          6.394400000000001,
          5.8816039426523306,
          4.2545949918897,
          3.9877419354838715,
          4.715753424657534,
          3.7294520547945207,
          4.496070429104477,
          4.087903225806452,
          3.6348392921632358,
          3.7906250000000004,
          7.290950310559007,
          5.207692307692307,
          5.139914285714286,
          4.152857142857143,
          4.581220779220779,
          6.044186046511628,
          9.922766917293234,
          10.76315789473684,
          4.615675675675676,
          6.353333333333334,
          2.395762711864407,
          4.704,
          5.40650406504065,
          2.7865591397849463,
          3.7150536616161616,
          2.4035008741258745,
          2.5575129533678758,
          6.101966292134831,
          7.966292134831462,
          3.831401931401931,
          5.355263157894737,
          10.850407008086254,
          5.844324324324324,
          6.684686746987952,
          5.351219512195122,
          5.405179245283019,
          6.545161290322581,
          8.319549999999998,
          7.44543758043758,
          8.8336,
          3.5151861702127656,
          5.172327044025158,
          3.1987500000000004,
          3.2115646258503405,
          7.269640725710194,
          4.698717948717949,
          3.7226743952018673,
          2.476388888888889,
          2.402686090225564,
          2.80126582278481,
          4.919912204166213,
          5.061946902654868,
          7.5992754251995835,
          12.151315789473685,
          16.572067039106145,
          7.58804347826087,
          5.671590436590436,
          5.79618320610687,
          5.238453098006257,
          5.558282208588957,
          3.619375,
          5.168215394029459,
          1.7894999999999999,
          1.060958904109589,
          3.4297752808988764,
          3.631490015360983,
          3.9384215734784758,
          2.7469767441860466,
          7.638474025974026,
          9.46271186440678,
          2.480168776371308,
          2.5243749999999996,
          3.722631578947368,
          7.088666666666667,
          6.902666666666668,
          6.899247491638795,
          5.3226415094339625,
          7.064942591580099,
          3.580813953488372,
          2.213095238095238,
          3.692039800995025,
          4.354660934615759,
          4.690196078431372,
          3.8731617647058822,
          4.058571428571429,
          5.784308659777297,
          2.686335403726708,
          3.5581055182909647,
          3.305389221556886,
          5.398387096774194,
          4.58860465116279,
          4.470198675496689,
          15.429139072847681,
          7.571558688420719,
          4.101333333333334,
          3.147107438016529,
          5.70859375,
          4.953658536585366,
          4.065168444753067,
          2.260977822580645,
          5.222361111111112,
          6.681666666666667,
          3.7521857923497266,
          2.4742857142857146,
          4.7492857142857146,
          5.622857142857143,
          2.606,
          5.236752136752137,
          4.739858745799396,
          7.180662983425414,
          14.679452054794522,
          15.862499999999999,
          20.455740355740353,
          13.084426229508194,
          5.101731601731602,
          6.988205128205128,
          4.951366120218579,
          4.544946808510638,
          3.7239795918367347,
          3.4585526315789474,
          4.029515029047739,
          3.623166282642089,
          7.4262195121951216,
          5.170618556701031,
          6.175401069518716,
          7.07635295112464,
          4.1662100456621,
          4.261236130457755,
          5.04353448275862,
          6.811555555555555,
          4.23491124260355,
          3.9622495674981866,
          3.6981927710843374,
          5.728214573268921,
          5.048305084745763,
          3.8574067210279215,
          4.520408163265306,
          3.087978063212584,
          2.89030303030303,
          2.9220563427800266,
          1.8504587155963301,
          8.034436974789916,
          4.238,
          6.854305555555555,
          5.178817733990147,
          3.5195848677602948,
          12.792929292929294,
          12.742133572389063,
          4.521142857142857,
          5.234766917293233,
          4.02621359223301,
          7.107536437966583,
          6.106285714285714,
          10.837138429752065,
          3.1111675126903555,
          3.753524417345718,
          2.9723684210526313,
          3.652044509385186,
          4.067479674796749,
          2.3386181729984785,
          2.7243243243243245,
          2.217884665621735,
          4.119811320754717,
          3.6300014378834358,
          5.239130434782609,
          7.07975315620878,
          4.555454545454546,
          3.864937127024723,
          3.963265306122449,
          5.6351222943722945,
          4.251973684210526,
          5.980019934758971,
          5.887378640776699,
          5.792156862745098,
          5.345679012345679,
          4.294837609704288,
          2.943859649122807,
          4.836905206942591,
          5.725984251968504,
          4.701817172978221,
          3.445132850241546,
          4.793243243243243,
          7.123476068633354,
          6.300735294117647,
          5.874095050920135,
          7.233783783783784,
          8.028726495726497,
          5.338095238095239,
          7.435096621221103,
          5.93728813559322,
          8.578294930875577,
          6.691269841269841,
          7.464940706012134,
          5.371830985915493,
          5.424528301886793,
          4.635326086956521,
          3.2263641403342045,
          3.2497297297297294,
          3.6362039582188017,
          3.736324786324787,
          2.53934439262243,
          2.2795811518324607,
          3.388,
          3.4777327935222675,
          4.800857142857144,
          3.3038461538461537,
          5.0132404181184675,
          5.922137404580153,
          4.656125356125355,
          2.5060323886639675,
          2.7088397790055248,
          3.0092485549132943,
          3.1874727398889773,
          3.304086850064813,
          2.907768072289157,
          2.253349289499037,
          1.773394495412844,
          2.799465240641711,
          3.240609477782253,
          3.2672131147540986,
          4.42526501252257,
          3.1431818181818185,
          2.7033163265306124,
          4.171641791044776,
          3.392364948005887,
          2.8079831932773103,
          3.806707266550667,
          3.748702879954377,
          2.53411214953271,
          3.8637190082644626,
          3.861780076211214,
          2.090070921985815,
          1.6023016467065867,
          2.9639967263748828,
          4.098534756928669,
          2.433093525179856,
          3.7584051292326186,
          5.871264367816091,
          9.151719576719577,
          1.8846741832773584,
          2.770526315789473,
          4.136170212765958,
          5.430043312543313,
          2.757142857142857,
          3.805153380390058,
          5.559723502304147,
          3.1895059661512235,
          2.6536697247706424,
          3.908783100869213,
          5.73412676056338,
          3.2060606060606065,
          3.3422895189003436,
          4.725420307948398,
          4.8275,
          4.528717948717949,
          3.438430041296283,
          2.9662983425414367,
          3.492857142857143,
          4.83609756097561,
          5.7694117647058825,
          4.467484662576687,
          3.9526983310050734,
          4.3597989949748746,
          4.9375651167277645,
          2.897787610619469,
          2.9509302325581395,
          1.979601990049751,
          2.2849339788732395,
          2.087272727272727,
          2.0341260655496765,
          2.1402439024390247,
          1.9092739945719222,
          2.5561832513802623,
          3.9340909090909086,
          4.6150387129210655,
          3.5736318407960197,
          3.5483443188951664,
          4.114583333333334,
          4.457336825915601,
          4.866896551724139,
          4.693509204470742,
          2.9096787495205216,
          3.4784232365145233,
          2.1362928879800047,
          3.1532407407407406,
          2.754641606691305,
          5.3096774193548395,
          5.223026413048835,
          7.1930000000000005,
          7.180867346938775,
          5.4727010658914725,
          5.704,
          8.728396211139897
         ]
        },
        {
         "mode": "lines",
         "name": "Night",
         "type": "scatter",
         "x": [
          "1994-02-17T00:00:00",
          "1994-02-18T00:00:00",
          "1994-02-19T00:00:00",
          "1994-03-09T00:00:00",
          "1994-03-10T00:00:00",
          "1994-06-19T00:00:00",
          "1994-07-24T00:00:00",
          "1994-07-25T00:00:00",
          "1994-08-30T00:00:00",
          "1994-08-31T00:00:00",
          "1994-09-23T00:00:00",
          "1994-09-24T00:00:00",
          "1994-10-15T00:00:00",
          "1994-10-16T00:00:00",
          "1994-10-17T00:00:00",
          "1995-02-05T00:00:00",
          "1995-03-04T00:00:00",
          "1995-04-06T00:00:00",
          "1995-04-07T00:00:00",
          "1995-05-06T00:00:00",
          "1995-05-07T00:00:00",
          "1995-07-30T00:00:00",
          "1995-08-29T00:00:00",
          "1995-08-30T00:00:00",
          "1995-09-26T00:00:00",
          "1995-09-27T00:00:00",
          "1995-09-28T00:00:00",
          "1995-10-26T00:00:00",
          "1995-11-16T00:00:00",
          "1995-11-17T00:00:00",
          "1996-01-16T00:00:00",
          "1996-03-26T00:00:00",
          "1996-03-27T00:00:00",
          "1996-04-23T00:00:00",
          "1996-04-24T00:00:00",
          "1996-05-21T00:00:00",
          "1996-05-22T00:00:00",
          "1996-06-25T00:00:00",
          "1996-07-26T00:00:00",
          "1996-07-27T00:00:00",
          "1996-08-20T00:00:00",
          "1996-10-01T00:00:00",
          "1996-10-29T00:00:00",
          "1996-12-10T00:00:00",
          "1996-12-11T00:00:00",
          "1997-01-07T00:00:00",
          "1997-01-08T00:00:00",
          "1997-02-17T00:00:00",
          "1997-02-18T00:00:00",
          "1997-03-11T00:00:00",
          "1997-03-12T00:00:00",
          "1997-04-08T00:00:00",
          "1997-04-09T00:00:00",
          "1997-05-06T00:00:00",
          "1997-05-07T00:00:00",
          "1997-06-03T00:00:00",
          "1997-06-04T00:00:00",
          "1997-07-08T00:00:00",
          "1997-08-01T00:00:00",
          "1997-09-24T00:00:00",
          "1997-12-04T00:00:00",
          "1997-12-05T00:00:00",
          "1998-01-10T00:00:00",
          "1998-01-11T00:00:00",
          "1998-02-18T00:00:00",
          "1998-03-17T00:00:00",
          "1998-03-18T00:00:00",
          "1998-04-14T00:00:00",
          "1998-04-15T00:00:00",
          "1998-05-12T00:00:00",
          "1998-05-13T00:00:00",
          "1998-06-16T00:00:00",
          "1998-06-17T00:00:00",
          "1998-07-14T00:00:00",
          "1998-07-15T00:00:00",
          "1998-08-09T00:00:00",
          "1998-09-27T00:00:00",
          "1998-10-18T00:00:00",
          "1998-10-19T00:00:00",
          "1998-11-10T00:00:00",
          "1998-11-11T00:00:00",
          "1998-12-08T00:00:00",
          "1999-01-12T00:00:00",
          "1999-01-13T00:00:00",
          "1999-02-17T00:00:00",
          "1999-03-16T00:00:00",
          "1999-03-17T00:00:00",
          "1999-04-13T00:00:00",
          "1999-04-14T00:00:00",
          "1999-05-09T00:00:00",
          "1999-07-13T00:00:00",
          "1999-07-14T00:00:00",
          "1999-08-12T00:00:00",
          "1999-08-13T00:00:00",
          "1999-08-14T00:00:00",
          "1999-10-14T00:00:00",
          "1999-10-15T00:00:00",
          "1999-11-08T00:00:00",
          "1999-11-09T00:00:00",
          "1999-12-14T00:00:00",
          "1999-12-15T00:00:00",
          "2000-01-31T00:00:00",
          "2000-02-02T00:00:00",
          "2000-02-03T00:00:00",
          "2000-02-29T00:00:00",
          "2000-03-28T00:00:00",
          "2000-03-29T00:00:00",
          "2000-04-25T00:00:00",
          "2000-05-23T00:00:00",
          "2000-05-24T00:00:00",
          "2000-06-20T00:00:00",
          "2000-06-21T00:00:00",
          "2000-07-14T00:00:00",
          "2000-07-25T00:00:00",
          "2000-08-22T00:00:00",
          "2000-08-23T00:00:00",
          "2000-10-17T00:00:00",
          "2000-10-18T00:00:00",
          "2000-11-29T00:00:00",
          "2000-12-19T00:00:00",
          "2000-12-20T00:00:00",
          "2001-01-16T00:00:00",
          "2001-01-17T00:00:00",
          "2001-02-13T00:00:00",
          "2001-03-20T00:00:00",
          "2001-03-21T00:00:00",
          "2001-04-17T00:00:00",
          "2001-04-18T00:00:00",
          "2001-05-15T00:00:00",
          "2001-05-16T00:00:00",
          "2001-06-13T00:00:00",
          "2001-08-07T00:00:00",
          "2001-08-08T00:00:00",
          "2001-10-01T00:00:00",
          "2001-10-02T00:00:00",
          "2001-10-22T00:00:00",
          "2001-10-23T00:00:00",
          "2001-11-16T00:00:00",
          "2001-11-17T00:00:00",
          "2002-01-15T00:00:00",
          "2002-01-16T00:00:00",
          "2002-02-20T00:00:00",
          "2002-02-21T00:00:00",
          "2002-03-12T00:00:00",
          "2002-03-13T00:00:00",
          "2002-05-20T00:00:00",
          "2002-05-21T00:00:00",
          "2002-06-29T00:00:00",
          "2002-06-30T00:00:00",
          "2002-08-27T00:00:00",
          "2002-08-28T00:00:00",
          "2002-10-06T00:00:00",
          "2002-10-07T00:00:00",
          "2002-11-03T00:00:00",
          "2002-12-12T00:00:00",
          "2002-12-13T00:00:00",
          "2003-01-16T00:00:00",
          "2003-01-17T00:00:00",
          "2003-02-24T00:00:00",
          "2003-02-25T00:00:00",
          "2003-03-27T00:00:00",
          "2003-03-28T00:00:00",
          "2003-04-23T00:00:00",
          "2003-04-24T00:00:00",
          "2003-05-20T00:00:00",
          "2003-05-21T00:00:00",
          "2003-06-19T00:00:00",
          "2003-06-20T00:00:00",
          "2003-07-19T00:00:00",
          "2003-08-20T00:00:00",
          "2003-08-21T00:00:00",
          "2003-10-14T00:00:00",
          "2003-10-15T00:00:00",
          "2003-11-08T00:00:00",
          "2003-11-09T00:00:00",
          "2003-11-10T00:00:00",
          "2003-12-19T00:00:00",
          "2003-12-20T00:00:00",
          "2004-01-21T00:00:00",
          "2004-01-22T00:00:00",
          "2004-02-24T00:00:00",
          "2004-03-19T00:00:00",
          "2004-03-20T00:00:00",
          "2004-04-20T00:00:00",
          "2004-04-21T00:00:00",
          "2004-05-18T00:00:00",
          "2004-06-15T00:00:00",
          "2004-06-16T00:00:00",
          "2004-08-15T00:00:00",
          "2004-08-16T00:00:00",
          "2004-08-17T00:00:00",
          "2004-09-28T00:00:00",
          "2004-09-29T00:00:00",
          "2004-10-30T00:00:00",
          "2004-10-31T00:00:00",
          "2004-11-27T00:00:00",
          "2004-11-28T00:00:00",
          "2004-12-19T00:00:00",
          "2004-12-20T00:00:00",
          "2004-12-21T00:00:00",
          "2005-02-01T00:00:00",
          "2005-02-02T00:00:00",
          "2005-03-04T00:00:00",
          "2005-03-05T00:00:00",
          "2005-06-14T00:00:00",
          "2005-06-15T00:00:00",
          "2005-07-16T00:00:00",
          "2005-07-17T00:00:00",
          "2005-07-18T00:00:00",
          "2005-08-13T00:00:00",
          "2005-08-14T00:00:00",
          "2005-10-10T00:00:00",
          "2005-11-12T00:00:00",
          "2005-11-13T00:00:00",
          "2005-12-13T00:00:00",
          "2005-12-14T00:00:00",
          "2006-02-15T00:00:00",
          "2006-02-16T00:00:00",
          "2006-03-10T00:00:00",
          "2006-03-11T00:00:00",
          "2006-03-12T00:00:00",
          "2006-04-02T00:00:00",
          "2006-04-03T00:00:00",
          "2006-05-27T00:00:00",
          "2006-05-28T00:00:00",
          "2006-06-14T00:00:00",
          "2006-06-15T00:00:00",
          "2006-07-14T00:00:00",
          "2006-08-09T00:00:00",
          "2006-08-10T00:00:00",
          "2006-09-16T00:00:00",
          "2006-09-17T00:00:00",
          "2006-10-21T00:00:00",
          "2006-10-22T00:00:00",
          "2006-11-09T00:00:00",
          "2006-11-10T00:00:00",
          "2006-12-10T00:00:00",
          "2006-12-11T00:00:00",
          "2007-02-07T00:00:00",
          "2007-02-08T00:00:00",
          "2007-03-21T00:00:00",
          "2007-03-22T00:00:00",
          "2007-05-05T00:00:00",
          "2007-05-06T00:00:00",
          "2007-06-10T00:00:00",
          "2007-06-11T00:00:00",
          "2007-07-08T00:00:00",
          "2007-07-09T00:00:00",
          "2007-08-04T00:00:00",
          "2007-08-05T00:00:00",
          "2007-09-03T00:00:00",
          "2007-09-04T00:00:00",
          "2007-10-03T00:00:00",
          "2007-10-04T00:00:00",
          "2007-12-02T00:00:00",
          "2007-12-03T00:00:00",
          "2007-12-21T00:00:00",
          "2007-12-22T00:00:00",
          "2008-01-30T00:00:00",
          "2008-01-31T00:00:00",
          "2008-02-24T00:00:00",
          "2008-02-25T00:00:00",
          "2008-05-28T00:00:00",
          "2008-05-29T00:00:00",
          "2008-06-26T00:00:00",
          "2008-06-27T00:00:00",
          "2008-07-26T00:00:00",
          "2008-07-27T00:00:00",
          "2008-08-16T00:00:00",
          "2008-08-17T00:00:00",
          "2008-10-10T00:00:00",
          "2008-10-11T00:00:00",
          "2008-11-30T00:00:00",
          "2008-12-01T00:00:00",
          "2009-01-20T00:00:00",
          "2009-01-21T00:00:00",
          "2009-02-17T00:00:00",
          "2009-02-18T00:00:00",
          "2009-04-28T00:00:00",
          "2009-04-29T00:00:00",
          "2009-05-27T00:00:00",
          "2009-05-28T00:00:00",
          "2009-07-03T00:00:00",
          "2009-07-04T00:00:00",
          "2009-07-25T00:00:00",
          "2009-07-26T00:00:00",
          "2009-08-18T00:00:00",
          "2009-08-19T00:00:00",
          "2009-09-24T00:00:00",
          "2009-09-25T00:00:00",
          "2009-11-03T00:00:00",
          "2009-11-04T00:00:00",
          "2009-12-09T00:00:00",
          "2009-12-10T00:00:00",
          "2010-04-06T00:00:00",
          "2010-04-07T00:00:00",
          "2010-05-17T00:00:00",
          "2010-05-18T00:00:00",
          "2010-06-07T00:00:00",
          "2010-06-08T00:00:00",
          "2010-07-07T00:00:00",
          "2010-07-08T00:00:00",
          "2010-08-06T00:00:00",
          "2010-08-07T00:00:00",
          "2010-09-02T00:00:00",
          "2010-09-03T00:00:00",
          "2010-10-02T00:00:00",
          "2010-10-03T00:00:00",
          "2010-11-19T00:00:00",
          "2010-11-20T00:00:00",
          "2011-01-27T00:00:00",
          "2011-01-28T00:00:00",
          "2011-02-27T00:00:00",
          "2011-02-28T00:00:00",
          "2011-04-10T00:00:00",
          "2011-04-11T00:00:00",
          "2011-05-08T00:00:00",
          "2011-05-09T00:00:00",
          "2011-07-19T00:00:00",
          "2011-08-29T00:00:00",
          "2011-08-30T00:00:00",
          "2011-09-25T00:00:00",
          "2011-09-26T00:00:00",
          "2011-11-03T00:00:00",
          "2011-11-04T00:00:00",
          "2011-11-28T00:00:00",
          "2011-12-18T00:00:00",
          "2011-12-19T00:00:00",
          "2012-01-17T00:00:00",
          "2012-01-18T00:00:00",
          "2012-03-23T00:00:00",
          "2012-03-24T00:00:00",
          "2012-04-30T00:00:00",
          "2012-05-01T00:00:00",
          "2012-05-29T00:00:00",
          "2012-05-30T00:00:00",
          "2012-06-25T00:00:00",
          "2012-06-26T00:00:00",
          "2012-07-30T00:00:00",
          "2012-07-31T00:00:00",
          "2012-08-16T00:00:00",
          "2012-08-17T00:00:00",
          "2012-09-13T00:00:00",
          "2012-09-14T00:00:00",
          "2012-10-07T00:00:00",
          "2012-10-08T00:00:00",
          "2012-12-04T00:00:00",
          "2013-02-12T00:00:00",
          "2013-02-13T00:00:00",
          "2013-03-06T00:00:00",
          "2013-03-07T00:00:00",
          "2013-04-05T00:00:00",
          "2013-04-06T00:00:00",
          "2013-05-17T00:00:00",
          "2013-05-18T00:00:00",
          "2013-06-25T00:00:00",
          "2013-06-26T00:00:00",
          "2013-09-11T00:00:00",
          "2013-09-12T00:00:00",
          "2013-10-01T00:00:00",
          "2013-10-02T00:00:00",
          "2013-10-27T00:00:00",
          "2013-10-28T00:00:00",
          "2013-11-26T00:00:00",
          "2013-11-27T00:00:00",
          "2013-12-20T00:00:00",
          "2013-12-21T00:00:00",
          "2014-01-15T00:00:00",
          "2014-01-16T00:00:00",
          "2014-02-15T00:00:00",
          "2014-03-05T00:00:00",
          "2014-03-06T00:00:00",
          "2014-04-10T00:00:00",
          "2014-04-11T00:00:00",
          "2014-05-31T00:00:00",
          "2014-06-01T00:00:00",
          "2014-06-30T00:00:00",
          "2014-07-01T00:00:00",
          "2014-09-14T00:00:00",
          "2014-09-15T00:00:00",
          "2014-10-13T00:00:00",
          "2014-10-14T00:00:00",
          "2014-11-21T00:00:00",
          "2014-11-22T00:00:00",
          "2014-12-16T00:00:00",
          "2014-12-17T00:00:00",
          "2015-02-24T00:00:00",
          "2015-02-25T00:00:00",
          "2015-03-29T00:00:00",
          "2015-04-21T00:00:00",
          "2015-04-22T00:00:00",
          "2015-05-23T00:00:00",
          "2015-05-24T00:00:00",
          "2015-06-19T00:00:00",
          "2015-06-20T00:00:00",
          "2015-07-19T00:00:00",
          "2015-07-20T00:00:00",
          "2015-08-12T00:00:00",
          "2015-08-13T00:00:00",
          "2015-10-13T00:00:00",
          "2015-10-14T00:00:00",
          "2015-11-13T00:00:00",
          "2015-12-08T00:00:00",
          "2015-12-09T00:00:00",
          "2016-01-12T00:00:00",
          "2016-01-13T00:00:00",
          "2016-02-09T00:00:00",
          "2016-02-10T00:00:00",
          "2016-04-14T00:00:00",
          "2016-04-15T00:00:00",
          "2016-05-28T00:00:00",
          "2016-05-29T00:00:00",
          "2016-07-11T00:00:00",
          "2016-07-12T00:00:00",
          "2016-08-09T00:00:00",
          "2016-08-10T00:00:00",
          "2016-10-15T00:00:00",
          "2016-10-16T00:00:00",
          "2016-11-26T00:00:00",
          "2017-01-23T00:00:00",
          "2017-01-24T00:00:00",
          "2017-02-23T00:00:00",
          "2017-02-24T00:00:00",
          "2017-03-28T00:00:00",
          "2017-03-29T00:00:00",
          "2017-04-25T00:00:00",
          "2017-04-26T00:00:00",
          "2017-05-23T00:00:00",
          "2017-05-24T00:00:00",
          "2017-06-20T00:00:00",
          "2017-06-21T00:00:00",
          "2017-08-08T00:00:00",
          "2017-08-09T00:00:00",
          "2017-10-06T00:00:00",
          "2017-10-07T00:00:00",
          "2017-11-08T00:00:00",
          "2017-11-09T00:00:00",
          "2017-12-12T00:00:00",
          "2018-01-17T00:00:00",
          "2018-02-25T00:00:00",
          "2018-04-17T00:00:00",
          "2018-05-15T00:00:00",
          "2018-06-26T00:00:00",
          "2018-07-24T00:00:00",
          "2018-07-25T00:00:00",
          "2018-09-10T00:00:00",
          "2018-10-12T00:00:00",
          "2018-10-13T00:00:00",
          "2018-11-16T00:00:00",
          "2018-11-17T00:00:00",
          "2019-01-15T00:00:00",
          "2019-01-16T00:00:00",
          "2019-02-19T00:00:00",
          "2019-02-20T00:00:00",
          "2019-05-02T00:00:00",
          "2019-05-03T00:00:00",
          "2019-06-11T00:00:00",
          "2019-06-12T00:00:00",
          "2019-07-01T00:00:00",
          "2019-07-02T00:00:00",
          "2019-08-02T00:00:00",
          "2019-08-03T00:00:00",
          "2019-09-04T00:00:00",
          "2019-09-05T00:00:00",
          "2019-10-17T00:00:00",
          "2019-10-18T00:00:00",
          "2019-12-19T00:00:00",
          "2019-12-20T00:00:00",
          "2020-08-07T00:00:00",
          "2020-08-08T00:00:00",
          "2020-09-02T00:00:00",
          "2020-09-03T00:00:00",
          "2020-09-26T00:00:00",
          "2020-09-28T00:00:00",
          "2020-11-18T00:00:00",
          "2020-11-19T00:00:00",
          "2020-12-18T00:00:00",
          "2020-12-19T00:00:00",
          "2021-01-12T00:00:00",
          "2021-01-13T00:00:00",
          "2021-02-16T00:00:00",
          "2021-02-17T00:00:00",
          "2021-03-23T00:00:00",
          "2021-03-24T00:00:00",
          "2021-04-13T00:00:00",
          "2021-04-14T00:00:00",
          "2021-05-16T00:00:00",
          "2021-05-17T00:00:00",
          "2021-06-22T00:00:00",
          "2021-06-23T00:00:00",
          "2021-07-16T00:00:00",
          "2021-07-17T00:00:00",
          "2021-10-28T00:00:00",
          "2021-10-29T00:00:00",
          "2021-12-06T00:00:00",
          "2022-03-27T00:00:00",
          "2022-03-28T00:00:00",
          "2022-05-26T00:00:00",
          "2022-05-27T00:00:00",
          "2022-07-09T00:00:00",
          "2022-07-10T00:00:00",
          "2022-07-30T00:00:00",
          "2022-07-31T00:00:00",
          "2022-09-01T00:00:00",
          "2022-09-02T00:00:00"
         ],
         "y": [
          3.6993377483443703,
          3.925,
          3.2598540145985404,
          2.5294573643410856,
          3.7609841745481782,
          4.179456688962599,
          5.945714285714286,
          4.4338797814207656,
          7.4339805825242715,
          6.725543071161048,
          3.6983870967741934,
          4.926595744680851,
          3.969014084507042,
          4.164840182648402,
          6.481679389312977,
          3.71055900621118,
          6.118567518248176,
          5.122461291568843,
          9.067307692307692,
          6.7602623456790125,
          5.450877192982456,
          5.435826204653303,
          4.571794871794872,
          7.396551724137931,
          4.738513513513514,
          10.394392523364486,
          8.666911764705882,
          5.677558446455505,
          5.758823529411764,
          4.169879518072289,
          4.984037733177587,
          6.968181818181818,
          6.106297379970741,
          7.860908023335101,
          11.251572327044023,
          10.40908893520931,
          6.703937007874015,
          7.329754622787181,
          13.63006534024017,
          14.894230769230768,
          6.422821154024265,
          10.611918564527262,
          6.616292209597967,
          5.454611707089553,
          3.742156862745098,
          2.8509426092759425,
          6.094594594594595,
          4.157252252252253,
          4.180451127819548,
          4.301639648230558,
          5.730769230769231,
          8.592307991899052,
          7.210752688172043,
          4.556969696969697,
          6.046143018018018,
          7.987329545454545,
          8.4,
          7.035390976352821,
          5.66120218579235,
          10.613953488372093,
          4.426188599947466,
          4.5511904761904765,
          3.8390990542558487,
          5.4639999999999995,
          4.371537761334273,
          8.306098722545945,
          7.115151515151515,
          5.912426035502959,
          10.180687483600106,
          5.3425,
          5.635258538899431,
          10.544700797872341,
          11.125675675675675,
          9.289056075833715,
          10.718181818181817,
          7.582883832178911,
          4.286715099670694,
          5.093391181988743,
          6.245774647887324,
          5.355953322784811,
          5.961538461538462,
          5.04835968671494,
          7.5269054054054045,
          4.4686170212765965,
          6.036404869998198,
          5.082272498743087,
          5.407692307692308,
          6.162885208012326,
          7.4287769784172655,
          6.757967515364354,
          9.379545454545454,
          7.137211398163248,
          9.145999999999999,
          8.24549603174603,
          5.35625,
          5.944202898550724,
          4.341142857142858,
          5.881877667140825,
          5.465822784810126,
          5.929500000000001,
          5.935220125786164,
          7.057423494923494,
          5.916652040368582,
          4.626515151515151,
          6.660482014388489,
          6.967488337574216,
          9.882142857142858,
          8.345421036601515,
          10.987066810781597,
          11.573684210526316,
          6.9215,
          10.333505154639177,
          11.708899939981137,
          8.434393168604652,
          6.698093447905478,
          7.33989898989899,
          8.798463901689708,
          7.66140350877193,
          9.767432059450059,
          9.083006535947712,
          5.048308155557824,
          8.167592592592593,
          7.014571886446886,
          8.014705882352942,
          8.077884615384615,
          7.5054945054945055,
          8.878564822460778,
          8.512903225806452,
          7.443715170278638,
          8.311640211640212,
          7.842167387422807,
          7.545408163265305,
          7.091829593824399,
          11.11052582422714,
          9.646052631578948,
          9.586718750000001,
          9.405293740653708,
          8.91377027027027,
          8.816666666666666,
          6.047875928711426,
          4.015897435897435,
          4.360164835164834,
          6.614423076923077,
          5.308523000963391,
          4.35,
          8.012425404944587,
          7.819339622641509,
          9.25989010989011,
          6.722395833333334,
          8.90198367808662,
          9.700000000000001,
          5.686221227621483,
          9.234239130434784,
          6.927443754667663,
          4.667164179104478,
          5.921028103209447,
          5.7235576923076925,
          6.2353731074261,
          7.1550239234449755,
          7.577693523581681,
          5.815875576036866,
          5.946268656716418,
          8.14856616500312,
          8.327230046948356,
          7.4189655172413795,
          5.946140530332835,
          5.487484576062048,
          5.0165094339622645,
          7.676574365085784,
          7.04054054054054,
          8.525781799899448,
          8.162933445190156,
          7.7617391304347825,
          6.48989898989899,
          8.290055248618785,
          5.853110047846889,
          5.317365269461078,
          6.253529716920024,
          7.911014954306286,
          6.1915,
          6.301118157624146,
          6.7187649911584995,
          6.681967213114754,
          11.45521739130435,
          7.484595873754674,
          8.49625668449198,
          9.51604995854063,
          10.316891891891892,
          7.312019230769231,
          7.8075,
          7.76144578313253,
          8.506710158434295,
          7.431012658227849,
          8.16853146853147,
          6.2081035539215685,
          4.306164383561644,
          6.145375722543353,
          6.490070921985817,
          6.972727272727273,
          7.055629139072848,
          5.724254658385092,
          6.843537414965986,
          7.618941426227927,
          8.059217877094971,
          7.2874136008918615,
          13.977840909090908,
          7.740331491712707,
          8.579005524861879,
          7.816883116883118,
          10.779885057471265,
          11.418293246993523,
          5.777058823529411,
          9.4536,
          7.295822222222222,
          6.307096774193549,
          6.205806451612903,
          6.1219178082191785,
          7.030821917808219,
          8.485806451612904,
          6.7780645161290325,
          5.2535483870967745,
          9.28062015503876,
          6.835803066989508,
          5.9461538461538455,
          4.832761904761905,
          8.057333333333332,
          7.071336032388664,
          5.756809523809524,
          6.093157894736842,
          12.201739130434783,
          5.413684210526315,
          7.6647592753678,
          5.925879557384026,
          8.24,
          7.463414634146341,
          6.577364161849712,
          5.032857142857143,
          4.412332651849898,
          8.590449438202247,
          9.649438202247191,
          9.161016949152541,
          6.894170984455959,
          9.802824858757061,
          10.655582137161085,
          8.645625,
          8.511111111111111,
          9.243506493506494,
          10.154033738001129,
          16.135199999999998,
          15.72967991604355,
          12.666101694915255,
          13.630467720685113,
          8.255,
          7.287212009803922,
          5.593782383419689,
          5.8013157894736835,
          6.3396039603960395,
          5.637954206072673,
          4.661637931034483,
          5.549229203025014,
          4.564,
          6.083710865561695,
          7.272499999999999,
          4.256875,
          9.36568047337278,
          13.504418584678804,
          15.234020618556704,
          16.020926490514903,
          8.018285714285714,
          6.358006230529595,
          6.946428571428572,
          5.216478568171454,
          10.977500000000001,
          10.941704528244738,
          0.8105769230769231,
          3.164063030920829,
          2.1033707865168543,
          4.506371300605954,
          4.891304347826086,
          4.988771967195655,
          10.835449735449735,
          9.095665902724726,
          5.021935483870967,
          9.229908088235295,
          6.878931955211025,
          5.698235294117646,
          6.058620689655172,
          3.166279069767442,
          8.297241379310346,
          5.1043963972929935,
          5.6499999999999995,
          3.109553207267334,
          16.21081081081081,
          6.932559896395426,
          10.137588652482268,
          4.8313492063492065,
          5.868316831683169,
          3.7500841121495334,
          4.752027027027027,
          3.328742331288344,
          5.803896103896105,
          6.398260869565218,
          8.380794701986755,
          8.168543046357616,
          16.134258856125076,
          6.813445378151261,
          3.4000000000000004,
          5.135168711656442,
          4.8445,
          5.056508124576845,
          15.730927835051547,
          6.806922348484848,
          4.413888888888888,
          7.9278571428571425,
          7.227999999999999,
          9.35209338173139,
          6.637719298245615,
          5.762765957446808,
          13.11429245283019,
          10.687333333333333,
          17.62625,
          22.51858407079646,
          29.983450429352068,
          8.888108108108108,
          6.887112403100774,
          9.99130434782609,
          10.512571428571428,
          10.74972972972973,
          5.313020833333334,
          6.470551397205588,
          5.875758062787957,
          6.114835164835165,
          6.9481283422459885,
          7.945991561181434,
          9.637161661104932,
          7.60896860986547,
          7.64442463732481,
          9.623750000000001,
          8.249817251461987,
          10.340104166666666,
          6.515098261526832,
          5.725625,
          5.916624149659864,
          6.784567901234568,
          7.9489544025157235,
          8.26056338028169,
          4.59970596526016,
          6.504855366315221,
          6.201973684210526,
          8.43318791232177,
          8.056923076923075,
          5.03497159090909,
          8.589655172413794,
          4.794320720310007,
          5.284662576687117,
          15.211156536534643,
          13.1045197740113,
          10.748285714285714,
          9.410526315789474,
          8.775373544275983,
          12.298816568047338,
          11.418507751937984,
          11.544144144144143,
          8.312417140151517,
          10.698275862068966,
          3.729377289377289,
          8.438815789473685,
          3.5529990583804145,
          4.615753424657535,
          5.03292328042328,
          6.1992,
          7.824137931034482,
          9.024547251332965,
          9.488157894736842,
          5.812688170149832,
          6.816666666666666,
          7.4114597340505,
          10.151333333333334,
          9.943914451261078,
          7.2,
          8.245391304347827,
          14.158730158730158,
          8.082584759444623,
          6.989119170984456,
          5.3011512451696,
          4.926666666666666,
          9.097439368966329,
          7.057368421052631,
          7.941002252252253,
          9.162887682764731,
          9.206103286384975,
          7.402687823834197,
          7.369186046511628,
          16.606921101774045,
          11.66,
          9.603867082416238,
          10.659459459459459,
          13.068426216640502,
          11.631521739130434,
          8.794243831785037,
          9.077083333333333,
          8.887134502923976,
          7.402206959706959,
          7.096713615023475,
          8.919772350993378,
          8.559887005649717,
          4.9848231304304775,
          9.076106194690265,
          7.037720304515591,
          9.993142857142857,
          5.940873744926298,
          7.4403225806451605,
          7.262695692951446,
          6.718181818181818,
          6.422959313683853,
          4.866341463414635,
          5.035093616486556,
          4.631764705882353,
          3.2546959275030023,
          5.010104308832131,
          4.9245,
          3.4835010914382734,
          4.992592592592592,
          5.150305832147937,
          5.108056872037914,
          7.8062589888261975,
          6.22232142857143,
          7.057119205298013,
          6.268613138686132,
          6.892578125,
          4.9790322580645165,
          4.52588713865328,
          4.375342465753424,
          6.816686217008797,
          5.927272727272727,
          4.707807509106193,
          6.168918918918919,
          4.417977528089888,
          4.966340765703985,
          4.516800000000001,
          7.918369963369964,
          5.203808082460733,
          6.255322062552832,
          7.353571428571428,
          6.957692307692309,
          4.460430014430014,
          6.054309671298622,
          7.892857142857142,
          5.5172192513369,
          5.3577464788732385,
          7.623127705627706,
          8.77695652173913,
          4.69233276034952,
          3.8746341463414633,
          8.455608478960318,
          9.36578947368421,
          6.051013348373753,
          11.02709677419355,
          7.722818430049793,
          8.5875,
          5.53195357690216,
          6.675520833333334,
          6.402376105848274,
          5.3977272727272725,
          11.582075471698113,
          5.971612903225806,
          3.8398319743019522,
          4.030701754385965,
          6.2386307910698156,
          6.9326732673267335,
          4.750655292327755,
          4.244196428571429,
          5.971746632996632,
          5.129611650485438,
          7.69156220322887,
          4.014035087719298,
          5.360902255639098,
          5.521737891737892,
          4.238481742472774,
          4.750561797752809,
          3.8500915750915756,
          4.3674208144796385,
          5.136896411616269,
          4.126388888888889,
          7.832500000000001,
          7.760000000000001,
          8.273951766448064,
          7.443367346938776,
          15.281245380635623,
          5.660986547085202,
          4.598770946458807,
          3.3529411764705883,
          4.229393049437102,
          3.73771186440678,
          4.015672723339823,
          4.485082274115676,
          5.0005376344086025,
          8.272802197802198,
          6.830845771144279,
          10.071571906354517,
          10.020218579234973,
          13.231734949832777,
          9.892349726775956,
          6.0614002145922745,
          6.409958506224067
         ]
        }
       ],
       "layout": {
        "legend": {
         "title": {
          "text": "Time of Day"
         }
        },
        "template": {
         "data": {
          "bar": [
           {
            "error_x": {
             "color": "#2a3f5f"
            },
            "error_y": {
             "color": "#2a3f5f"
            },
            "marker": {
             "line": {
              "color": "#E5ECF6",
              "width": 0.5
             },
             "pattern": {
              "fillmode": "overlay",
              "size": 10,
              "solidity": 0.2
             }
            },
            "type": "bar"
           }
          ],
          "barpolar": [
           {
            "marker": {
             "line": {
              "color": "#E5ECF6",
              "width": 0.5
             },
             "pattern": {
              "fillmode": "overlay",
              "size": 10,
              "solidity": 0.2
             }
            },
            "type": "barpolar"
           }
          ],
          "carpet": [
           {
            "aaxis": {
             "endlinecolor": "#2a3f5f",
             "gridcolor": "white",
             "linecolor": "white",
             "minorgridcolor": "white",
             "startlinecolor": "#2a3f5f"
            },
            "baxis": {
             "endlinecolor": "#2a3f5f",
             "gridcolor": "white",
             "linecolor": "white",
             "minorgridcolor": "white",
             "startlinecolor": "#2a3f5f"
            },
            "type": "carpet"
           }
          ],
          "choropleth": [
           {
            "colorbar": {
             "outlinewidth": 0,
             "ticks": ""
            },
            "type": "choropleth"
           }
          ],
          "contour": [
           {
            "colorbar": {
             "outlinewidth": 0,
             "ticks": ""
            },
            "colorscale": [
             [
              0,
              "#0d0887"
             ],
             [
              0.1111111111111111,
              "#46039f"
             ],
             [
              0.2222222222222222,
              "#7201a8"
             ],
             [
              0.3333333333333333,
              "#9c179e"
             ],
             [
              0.4444444444444444,
              "#bd3786"
             ],
             [
              0.5555555555555556,
              "#d8576b"
             ],
             [
              0.6666666666666666,
              "#ed7953"
             ],
             [
              0.7777777777777778,
              "#fb9f3a"
             ],
             [
              0.8888888888888888,
              "#fdca26"
             ],
             [
              1,
              "#f0f921"
             ]
            ],
            "type": "contour"
           }
          ],
          "contourcarpet": [
           {
            "colorbar": {
             "outlinewidth": 0,
             "ticks": ""
            },
            "type": "contourcarpet"
           }
          ],
          "heatmap": [
           {
            "colorbar": {
             "outlinewidth": 0,
             "ticks": ""
            },
            "colorscale": [
             [
              0,
              "#0d0887"
             ],
             [
              0.1111111111111111,
              "#46039f"
             ],
             [
              0.2222222222222222,
              "#7201a8"
             ],
             [
              0.3333333333333333,
              "#9c179e"
             ],
             [
              0.4444444444444444,
              "#bd3786"
             ],
             [
              0.5555555555555556,
              "#d8576b"
             ],
             [
              0.6666666666666666,
              "#ed7953"
             ],
             [
              0.7777777777777778,
              "#fb9f3a"
             ],
             [
              0.8888888888888888,
              "#fdca26"
             ],
             [
              1,
              "#f0f921"
             ]
            ],
            "type": "heatmap"
           }
          ],
          "heatmapgl": [
           {
            "colorbar": {
             "outlinewidth": 0,
             "ticks": ""
            },
            "colorscale": [
             [
              0,
              "#0d0887"
             ],
             [
              0.1111111111111111,
              "#46039f"
             ],
             [
              0.2222222222222222,
              "#7201a8"
             ],
             [
              0.3333333333333333,
              "#9c179e"
             ],
             [
              0.4444444444444444,
              "#bd3786"
             ],
             [
              0.5555555555555556,
              "#d8576b"
             ],
             [
              0.6666666666666666,
              "#ed7953"
             ],
             [
              0.7777777777777778,
              "#fb9f3a"
             ],
             [
              0.8888888888888888,
              "#fdca26"
             ],
             [
              1,
              "#f0f921"
             ]
            ],
            "type": "heatmapgl"
           }
          ],
          "histogram": [
           {
            "marker": {
             "pattern": {
              "fillmode": "overlay",
              "size": 10,
              "solidity": 0.2
             }
            },
            "type": "histogram"
           }
          ],
          "histogram2d": [
           {
            "colorbar": {
             "outlinewidth": 0,
             "ticks": ""
            },
            "colorscale": [
             [
              0,
              "#0d0887"
             ],
             [
              0.1111111111111111,
              "#46039f"
             ],
             [
              0.2222222222222222,
              "#7201a8"
             ],
             [
              0.3333333333333333,
              "#9c179e"
             ],
             [
              0.4444444444444444,
              "#bd3786"
             ],
             [
              0.5555555555555556,
              "#d8576b"
             ],
             [
              0.6666666666666666,
              "#ed7953"
             ],
             [
              0.7777777777777778,
              "#fb9f3a"
             ],
             [
              0.8888888888888888,
              "#fdca26"
             ],
             [
              1,
              "#f0f921"
             ]
            ],
            "type": "histogram2d"
           }
          ],
          "histogram2dcontour": [
           {
            "colorbar": {
             "outlinewidth": 0,
             "ticks": ""
            },
            "colorscale": [
             [
              0,
              "#0d0887"
             ],
             [
              0.1111111111111111,
              "#46039f"
             ],
             [
              0.2222222222222222,
              "#7201a8"
             ],
             [
              0.3333333333333333,
              "#9c179e"
             ],
             [
              0.4444444444444444,
              "#bd3786"
             ],
             [
              0.5555555555555556,
              "#d8576b"
             ],
             [
              0.6666666666666666,
              "#ed7953"
             ],
             [
              0.7777777777777778,
              "#fb9f3a"
             ],
             [
              0.8888888888888888,
              "#fdca26"
             ],
             [
              1,
              "#f0f921"
             ]
            ],
            "type": "histogram2dcontour"
           }
          ],
          "mesh3d": [
           {
            "colorbar": {
             "outlinewidth": 0,
             "ticks": ""
            },
            "type": "mesh3d"
           }
          ],
          "parcoords": [
           {
            "line": {
             "colorbar": {
              "outlinewidth": 0,
              "ticks": ""
             }
            },
            "type": "parcoords"
           }
          ],
          "pie": [
           {
            "automargin": true,
            "type": "pie"
           }
          ],
          "scatter": [
           {
            "fillpattern": {
             "fillmode": "overlay",
             "size": 10,
             "solidity": 0.2
            },
            "type": "scatter"
           }
          ],
          "scatter3d": [
           {
            "line": {
             "colorbar": {
              "outlinewidth": 0,
              "ticks": ""
             }
            },
            "marker": {
             "colorbar": {
              "outlinewidth": 0,
              "ticks": ""
             }
            },
            "type": "scatter3d"
           }
          ],
          "scattercarpet": [
           {
            "marker": {
             "colorbar": {
              "outlinewidth": 0,
              "ticks": ""
             }
            },
            "type": "scattercarpet"
           }
          ],
          "scattergeo": [
           {
            "marker": {
             "colorbar": {
              "outlinewidth": 0,
              "ticks": ""
             }
            },
            "type": "scattergeo"
           }
          ],
          "scattergl": [
           {
            "marker": {
             "colorbar": {
              "outlinewidth": 0,
              "ticks": ""
             }
            },
            "type": "scattergl"
           }
          ],
          "scattermapbox": [
           {
            "marker": {
             "colorbar": {
              "outlinewidth": 0,
              "ticks": ""
             }
            },
            "type": "scattermapbox"
           }
          ],
          "scatterpolar": [
           {
            "marker": {
             "colorbar": {
              "outlinewidth": 0,
              "ticks": ""
             }
            },
            "type": "scatterpolar"
           }
          ],
          "scatterpolargl": [
           {
            "marker": {
             "colorbar": {
              "outlinewidth": 0,
              "ticks": ""
             }
            },
            "type": "scatterpolargl"
           }
          ],
          "scatterternary": [
           {
            "marker": {
             "colorbar": {
              "outlinewidth": 0,
              "ticks": ""
             }
            },
            "type": "scatterternary"
           }
          ],
          "surface": [
           {
            "colorbar": {
             "outlinewidth": 0,
             "ticks": ""
            },
            "colorscale": [
             [
              0,
              "#0d0887"
             ],
             [
              0.1111111111111111,
              "#46039f"
             ],
             [
              0.2222222222222222,
              "#7201a8"
             ],
             [
              0.3333333333333333,
              "#9c179e"
             ],
             [
              0.4444444444444444,
              "#bd3786"
             ],
             [
              0.5555555555555556,
              "#d8576b"
             ],
             [
              0.6666666666666666,
              "#ed7953"
             ],
             [
              0.7777777777777778,
              "#fb9f3a"
             ],
             [
              0.8888888888888888,
              "#fdca26"
             ],
             [
              1,
              "#f0f921"
             ]
            ],
            "type": "surface"
           }
          ],
          "table": [
           {
            "cells": {
             "fill": {
              "color": "#EBF0F8"
             },
             "line": {
              "color": "white"
             }
            },
            "header": {
             "fill": {
              "color": "#C8D4E3"
             },
             "line": {
              "color": "white"
             }
            },
            "type": "table"
           }
          ]
         },
         "layout": {
          "annotationdefaults": {
           "arrowcolor": "#2a3f5f",
           "arrowhead": 0,
           "arrowwidth": 1
          },
          "autotypenumbers": "strict",
          "coloraxis": {
           "colorbar": {
            "outlinewidth": 0,
            "ticks": ""
           }
          },
          "colorscale": {
           "diverging": [
            [
             0,
             "#8e0152"
            ],
            [
             0.1,
             "#c51b7d"
            ],
            [
             0.2,
             "#de77ae"
            ],
            [
             0.3,
             "#f1b6da"
            ],
            [
             0.4,
             "#fde0ef"
            ],
            [
             0.5,
             "#f7f7f7"
            ],
            [
             0.6,
             "#e6f5d0"
            ],
            [
             0.7,
             "#b8e186"
            ],
            [
             0.8,
             "#7fbc41"
            ],
            [
             0.9,
             "#4d9221"
            ],
            [
             1,
             "#276419"
            ]
           ],
           "sequential": [
            [
             0,
             "#0d0887"
            ],
            [
             0.1111111111111111,
             "#46039f"
            ],
            [
             0.2222222222222222,
             "#7201a8"
            ],
            [
             0.3333333333333333,
             "#9c179e"
            ],
            [
             0.4444444444444444,
             "#bd3786"
            ],
            [
             0.5555555555555556,
             "#d8576b"
            ],
            [
             0.6666666666666666,
             "#ed7953"
            ],
            [
             0.7777777777777778,
             "#fb9f3a"
            ],
            [
             0.8888888888888888,
             "#fdca26"
            ],
            [
             1,
             "#f0f921"
            ]
           ],
           "sequentialminus": [
            [
             0,
             "#0d0887"
            ],
            [
             0.1111111111111111,
             "#46039f"
            ],
            [
             0.2222222222222222,
             "#7201a8"
            ],
            [
             0.3333333333333333,
             "#9c179e"
            ],
            [
             0.4444444444444444,
             "#bd3786"
            ],
            [
             0.5555555555555556,
             "#d8576b"
            ],
            [
             0.6666666666666666,
             "#ed7953"
            ],
            [
             0.7777777777777778,
             "#fb9f3a"
            ],
            [
             0.8888888888888888,
             "#fdca26"
            ],
            [
             1,
             "#f0f921"
            ]
           ]
          },
          "colorway": [
           "#636efa",
           "#EF553B",
           "#00cc96",
           "#ab63fa",
           "#FFA15A",
           "#19d3f3",
           "#FF6692",
           "#B6E880",
           "#FF97FF",
           "#FECB52"
          ],
          "font": {
           "color": "#2a3f5f"
          },
          "geo": {
           "bgcolor": "white",
           "lakecolor": "white",
           "landcolor": "#E5ECF6",
           "showlakes": true,
           "showland": true,
           "subunitcolor": "white"
          },
          "hoverlabel": {
           "align": "left"
          },
          "hovermode": "closest",
          "mapbox": {
           "style": "light"
          },
          "paper_bgcolor": "white",
          "plot_bgcolor": "#E5ECF6",
          "polar": {
           "angularaxis": {
            "gridcolor": "white",
            "linecolor": "white",
            "ticks": ""
           },
           "bgcolor": "#E5ECF6",
           "radialaxis": {
            "gridcolor": "white",
            "linecolor": "white",
            "ticks": ""
           }
          },
          "scene": {
           "xaxis": {
            "backgroundcolor": "#E5ECF6",
            "gridcolor": "white",
            "gridwidth": 2,
            "linecolor": "white",
            "showbackground": true,
            "ticks": "",
            "zerolinecolor": "white"
           },
           "yaxis": {
            "backgroundcolor": "#E5ECF6",
            "gridcolor": "white",
            "gridwidth": 2,
            "linecolor": "white",
            "showbackground": true,
            "ticks": "",
            "zerolinecolor": "white"
           },
           "zaxis": {
            "backgroundcolor": "#E5ECF6",
            "gridcolor": "white",
            "gridwidth": 2,
            "linecolor": "white",
            "showbackground": true,
            "ticks": "",
            "zerolinecolor": "white"
           }
          },
          "shapedefaults": {
           "line": {
            "color": "#2a3f5f"
           }
          },
          "ternary": {
           "aaxis": {
            "gridcolor": "white",
            "linecolor": "white",
            "ticks": ""
           },
           "baxis": {
            "gridcolor": "white",
            "linecolor": "white",
            "ticks": ""
           },
           "bgcolor": "#E5ECF6",
           "caxis": {
            "gridcolor": "white",
            "linecolor": "white",
            "ticks": ""
           }
          },
          "title": {
           "x": 0.05
          },
          "xaxis": {
           "automargin": true,
           "gridcolor": "white",
           "linecolor": "white",
           "ticks": "",
           "title": {
            "standoff": 15
           },
           "zerolinecolor": "white",
           "zerolinewidth": 2
          },
          "yaxis": {
           "automargin": true,
           "gridcolor": "white",
           "linecolor": "white",
           "ticks": "",
           "title": {
            "standoff": 15
           },
           "zerolinecolor": "white",
           "zerolinewidth": 2
          }
         }
        },
        "title": {
         "text": "HOT : zooplankton dry weight by cube meter of sea water"
        },
        "xaxis": {
         "title": {
          "text": "Time"
         }
        },
        "yaxis": {
         "title": {
          "text": "Dry Weight (g/m3)"
         }
        }
       }
      }
     },
     "metadata": {},
     "output_type": "display_data"
    }
   ],
   "source": [
    "day = zoo_hot_d_n[\"day\"].dropna()\n",
    "night = zoo_hot_d_n[\"night\"].dropna()\n",
    "go.Figure(\n",
    "    data=[\n",
    "        go.Scatter(x=day.index, y=day, mode=\"lines\", name=\"Day\"),\n",
    "        go.Scatter(x=night.index, y=night, mode=\"lines\", name=\"Night\"),\n",
    "    ]\n",
    ").update_layout(\n",
    "    title=\"HOT : zooplankton dry weight by cube meter of sea water\",\n",
    "    xaxis_title=\"Time\",\n",
    "    yaxis_title=\"Dry Weight (g/m3)\",\n",
    "    legend_title=\"Time of Day\",\n",
    ").show()"
   ]
  },
  {
   "cell_type": "markdown",
   "metadata": {},
   "source": [
    "### PAPA station\n"
   ]
  },
  {
   "cell_type": "code",
   "execution_count": 67,
   "metadata": {},
   "outputs": [
    {
     "data": {
      "text/html": [
       "<div>\n",
       "<style scoped>\n",
       "    .dataframe tbody tr th:only-of-type {\n",
       "        vertical-align: middle;\n",
       "    }\n",
       "\n",
       "    .dataframe tbody tr th {\n",
       "        vertical-align: top;\n",
       "    }\n",
       "\n",
       "    .dataframe thead th {\n",
       "        text-align: right;\n",
       "    }\n",
       "</style>\n",
       "<table border=\"1\" class=\"dataframe\">\n",
       "  <thead>\n",
       "    <tr style=\"text-align: right;\">\n",
       "      <th></th>\n",
       "      <th>time</th>\n",
       "      <th>is_day</th>\n",
       "      <th>species</th>\n",
       "      <th>zoo dry weight</th>\n",
       "    </tr>\n",
       "  </thead>\n",
       "  <tbody>\n",
       "    <tr>\n",
       "      <th>0</th>\n",
       "      <td>1997-02-21</td>\n",
       "      <td>False</td>\n",
       "      <td>chaetognaths</td>\n",
       "      <td>0.30098</td>\n",
       "    </tr>\n",
       "    <tr>\n",
       "      <th>1</th>\n",
       "      <td>1997-02-21</td>\n",
       "      <td>False</td>\n",
       "      <td>crustaceans</td>\n",
       "      <td>5.353207</td>\n",
       "    </tr>\n",
       "    <tr>\n",
       "      <th>2</th>\n",
       "      <td>1997-02-21</td>\n",
       "      <td>False</td>\n",
       "      <td>foram</td>\n",
       "      <td>0.005687</td>\n",
       "    </tr>\n",
       "    <tr>\n",
       "      <th>3</th>\n",
       "      <td>1997-02-21</td>\n",
       "      <td>False</td>\n",
       "      <td>larvae</td>\n",
       "      <td>0.22576</td>\n",
       "    </tr>\n",
       "    <tr>\n",
       "      <th>4</th>\n",
       "      <td>1997-02-21</td>\n",
       "      <td>False</td>\n",
       "      <td>other</td>\n",
       "      <td>0.22645</td>\n",
       "    </tr>\n",
       "    <tr>\n",
       "      <th>...</th>\n",
       "      <td>...</td>\n",
       "      <td>...</td>\n",
       "      <td>...</td>\n",
       "      <td>...</td>\n",
       "    </tr>\n",
       "    <tr>\n",
       "      <th>522</th>\n",
       "      <td>2020-08-20</td>\n",
       "      <td>False</td>\n",
       "      <td>larvae</td>\n",
       "      <td>0.15629</td>\n",
       "    </tr>\n",
       "    <tr>\n",
       "      <th>523</th>\n",
       "      <td>2020-08-20</td>\n",
       "      <td>False</td>\n",
       "      <td>other</td>\n",
       "      <td>0.53678</td>\n",
       "    </tr>\n",
       "    <tr>\n",
       "      <th>524</th>\n",
       "      <td>2020-08-20</td>\n",
       "      <td>False</td>\n",
       "      <td>pteropods</td>\n",
       "      <td>0.45086</td>\n",
       "    </tr>\n",
       "    <tr>\n",
       "      <th>525</th>\n",
       "      <td>2020-08-20</td>\n",
       "      <td>False</td>\n",
       "      <td>small_gelatinous</td>\n",
       "      <td>3.90876</td>\n",
       "    </tr>\n",
       "    <tr>\n",
       "      <th>526</th>\n",
       "      <td>2020-08-20</td>\n",
       "      <td>False</td>\n",
       "      <td>thaliaceans</td>\n",
       "      <td>9.00122</td>\n",
       "    </tr>\n",
       "  </tbody>\n",
       "</table>\n",
       "<p>527 rows × 4 columns</p>\n",
       "</div>"
      ],
      "text/plain": [
       "          time  is_day           species zoo dry weight\n",
       "0   1997-02-21   False      chaetognaths        0.30098\n",
       "1   1997-02-21   False       crustaceans       5.353207\n",
       "2   1997-02-21   False             foram       0.005687\n",
       "3   1997-02-21   False            larvae        0.22576\n",
       "4   1997-02-21   False             other        0.22645\n",
       "..         ...     ...               ...            ...\n",
       "522 2020-08-20   False            larvae        0.15629\n",
       "523 2020-08-20   False             other        0.53678\n",
       "524 2020-08-20   False         pteropods        0.45086\n",
       "525 2020-08-20   False  small_gelatinous        3.90876\n",
       "526 2020-08-20   False       thaliaceans        9.00122\n",
       "\n",
       "[527 rows x 4 columns]"
      ]
     },
     "execution_count": 67,
     "metadata": {},
     "output_type": "execute_result"
    }
   ],
   "source": [
    "# data = data_papa.to_dataframe().droplevel([2, 3], axis=0)\n",
    "zoo_papa_d_n = (\n",
    "    data_papa.mean(\"depth\")\n",
    "    .isel(latitude=0, longitude=0)\n",
    "    .to_dataframe()\n",
    "    .replace(0, None)\n",
    ")\n",
    "# enlève les colonnes \"latitude\" et \"longitude\"\n",
    "zoo_papa_d_n = zoo_papa_d_n.drop([\"latitude\", \"longitude\"], axis=1)\n",
    "zoo_papa_d_n = (\n",
    "    zoo_papa_d_n.stack()\n",
    "    .rename(\"zoo dry weight\")\n",
    "    .to_frame()\n",
    "    .rename_axis([\"time\", \"is_day\", \"species\"])\n",
    ")\n",
    "zoo_papa_d_n = zoo_papa_d_n.reset_index()\n",
    "zoo_papa_d_n"
   ]
  },
  {
   "cell_type": "code",
   "execution_count": 68,
   "metadata": {},
   "outputs": [
    {
     "data": {
      "application/vnd.plotly.v1+json": {
       "config": {
        "plotlyServerURL": "https://plot.ly"
       },
       "data": [
        {
         "fillpattern": {
          "shape": ""
         },
         "hovertemplate": "species=chaetognaths<br>is_day=False<br>time=%{x}<br>zoo dry weight=%{y}<extra></extra>",
         "legendgroup": "chaetognaths",
         "line": {
          "color": "#636efa"
         },
         "marker": {
          "symbol": "circle"
         },
         "mode": "lines",
         "name": "chaetognaths",
         "orientation": "v",
         "showlegend": true,
         "stackgroup": "1",
         "type": "scatter",
         "x": [
          "1997-02-21T00:00:00",
          "1997-06-15T00:00:00",
          "1998-02-27T00:00:00",
          "1998-06-13T00:00:00",
          "1999-02-18T00:00:00",
          "1999-09-02T00:00:00",
          "2000-06-09T00:00:00",
          "2000-09-14T00:00:00",
          "2001-02-12T00:00:00",
          "2003-09-07T00:00:00",
          "2004-02-24T00:00:00",
          "2004-08-26T00:00:00",
          "2005-02-18T00:00:00",
          "2007-06-07T00:00:00",
          "2008-08-21T00:00:00",
          "2009-02-05T00:00:00",
          "2009-06-14T00:00:00",
          "2012-02-15T00:00:00",
          "2012-06-03T00:00:00",
          "2013-02-13T00:00:00",
          "2013-06-18T00:00:00",
          "2014-08-26T00:00:00",
          "2015-02-19T00:00:00",
          "2015-08-28T00:00:00",
          "2016-08-26T00:00:00",
          "2017-02-12T00:00:00",
          "2018-09-20T00:00:00",
          "2019-02-12T00:00:00",
          "2020-08-20T00:00:00"
         ],
         "xaxis": "x2",
         "y": [
          0.30098,
          9.71564,
          1.49249,
          7.9975000000000005,
          0.77803,
          1.88784,
          3.41891,
          1.24035,
          2.51154,
          21.2732,
          0.60497,
          4.44223,
          5.18215,
          12.49323,
          9.440589999999998,
          2.22362,
          9.702949999999998,
          7.39659,
          5.078930000000001,
          9.70913,
          5.31371,
          4.14801,
          3.76924,
          7.53794,
          9.86611,
          0.45826999999999996,
          3.9127,
          2.21695,
          5.028560000000001
         ],
         "yaxis": "y2"
        },
        {
         "fillpattern": {
          "shape": ""
         },
         "hovertemplate": "species=chaetognaths<br>is_day=True<br>time=%{x}<br>zoo dry weight=%{y}<extra></extra>",
         "legendgroup": "chaetognaths",
         "line": {
          "color": "#636efa"
         },
         "marker": {
          "symbol": "circle"
         },
         "mode": "lines",
         "name": "chaetognaths",
         "orientation": "v",
         "showlegend": false,
         "stackgroup": "1",
         "type": "scatter",
         "x": [
          "1997-06-16T00:00:00",
          "1997-09-04T00:00:00",
          "1997-09-05T00:00:00",
          "1998-02-27T00:00:00",
          "1998-02-28T00:00:00",
          "1998-09-05T00:00:00",
          "1999-02-18T00:00:00",
          "2002-02-13T00:00:00",
          "2002-07-05T00:00:00",
          "2002-09-03T00:00:00",
          "2003-02-12T00:00:00",
          "2003-06-03T00:00:00",
          "2003-09-06T00:00:00",
          "2004-06-07T00:00:00",
          "2005-02-18T00:00:00",
          "2005-06-07T00:00:00",
          "2005-08-23T00:00:00",
          "2006-02-13T00:00:00",
          "2006-07-17T00:00:00",
          "2006-09-28T00:00:00",
          "2007-02-15T00:00:00",
          "2007-08-22T00:00:00",
          "2008-02-10T00:00:00",
          "2008-06-08T00:00:00",
          "2009-08-27T00:00:00",
          "2010-06-14T00:00:00",
          "2010-08-26T00:00:00",
          "2011-02-16T00:00:00",
          "2011-06-13T00:00:00",
          "2011-08-26T00:00:00",
          "2012-08-24T00:00:00",
          "2013-08-30T00:00:00",
          "2014-06-17T00:00:00",
          "2015-06-17T00:00:00",
          "2016-02-16T00:00:00",
          "2016-06-14T00:00:00",
          "2017-06-13T00:00:00",
          "2017-08-24T00:00:00",
          "2018-02-26T00:00:00",
          "2018-06-13T00:00:00",
          "2019-06-11T00:00:00",
          "2019-08-23T00:00:00",
          "2020-02-16T00:00:00"
         ],
         "xaxis": "x",
         "y": [
          8.152648181818181,
          1.543882142857143,
          0.03105,
          0.9255383333333332,
          0.3587981818181818,
          1.75275,
          0.46587,
          0.38437,
          4.085979999999999,
          7.09817,
          7.77322,
          5.9789,
          6.8813699999999995,
          4.465949999999999,
          1.86011,
          18.172269999999997,
          5.44602,
          7.89863,
          6.00098,
          4.42984,
          3.83804,
          5.40744,
          0.82645,
          11.70229,
          2.4298100000000002,
          7.778,
          7.10883,
          1.46373,
          6.00291,
          5.34444,
          4.765000000000001,
          3.6852899999999997,
          3.85628,
          12.052059999999999,
          6.64363,
          8.448039999999999,
          1.1575300000000002,
          4.27048,
          4.40291,
          4.5526599999999995,
          6.65629,
          3.34029,
          2.46445
         ],
         "yaxis": "y"
        },
        {
         "fillpattern": {
          "shape": ""
         },
         "hovertemplate": "species=crustaceans<br>is_day=False<br>time=%{x}<br>zoo dry weight=%{y}<extra></extra>",
         "legendgroup": "crustaceans",
         "line": {
          "color": "#EF553B"
         },
         "marker": {
          "symbol": "circle"
         },
         "mode": "lines",
         "name": "crustaceans",
         "orientation": "v",
         "showlegend": true,
         "stackgroup": "1",
         "type": "scatter",
         "x": [
          "1997-02-21T00:00:00",
          "1997-06-15T00:00:00",
          "1998-02-27T00:00:00",
          "1998-06-13T00:00:00",
          "1999-02-18T00:00:00",
          "1999-09-02T00:00:00",
          "2000-06-09T00:00:00",
          "2000-09-14T00:00:00",
          "2001-02-12T00:00:00",
          "2003-09-07T00:00:00",
          "2004-02-24T00:00:00",
          "2004-08-26T00:00:00",
          "2005-02-18T00:00:00",
          "2007-06-07T00:00:00",
          "2008-08-21T00:00:00",
          "2009-02-05T00:00:00",
          "2009-06-14T00:00:00",
          "2012-02-15T00:00:00",
          "2012-06-03T00:00:00",
          "2013-02-13T00:00:00",
          "2013-06-18T00:00:00",
          "2014-08-26T00:00:00",
          "2015-02-19T00:00:00",
          "2015-08-28T00:00:00",
          "2016-08-26T00:00:00",
          "2017-02-12T00:00:00",
          "2018-09-20T00:00:00",
          "2019-02-12T00:00:00",
          "2020-08-20T00:00:00"
         ],
         "xaxis": "x2",
         "y": [
          5.353206666666666,
          8.6019,
          15.909410000000001,
          28.277639999999995,
          12.9824,
          18.9421,
          18.47525,
          16.8041,
          8.022459999999999,
          18.74115,
          5.479520000000001,
          14.520340000000001,
          15.733439999999998,
          44.03242,
          21.94815,
          6.17317,
          23.047420000000002,
          29.56812,
          20.48861,
          15.771109999999998,
          17.9495,
          14.191830000000001,
          14.45091,
          27.245549999999998,
          11.73576,
          3.5099600000000004,
          13.020120000000004,
          4.01363,
          26.657899999999994
         ],
         "yaxis": "y2"
        },
        {
         "fillpattern": {
          "shape": ""
         },
         "hovertemplate": "species=crustaceans<br>is_day=True<br>time=%{x}<br>zoo dry weight=%{y}<extra></extra>",
         "legendgroup": "crustaceans",
         "line": {
          "color": "#EF553B"
         },
         "marker": {
          "symbol": "circle"
         },
         "mode": "lines",
         "name": "crustaceans",
         "orientation": "v",
         "showlegend": false,
         "stackgroup": "1",
         "type": "scatter",
         "x": [
          "1997-06-16T00:00:00",
          "1997-09-04T00:00:00",
          "1997-09-05T00:00:00",
          "1998-02-27T00:00:00",
          "1998-02-28T00:00:00",
          "1998-09-05T00:00:00",
          "1999-02-18T00:00:00",
          "2002-02-13T00:00:00",
          "2002-07-05T00:00:00",
          "2002-09-03T00:00:00",
          "2003-02-12T00:00:00",
          "2003-06-03T00:00:00",
          "2003-09-06T00:00:00",
          "2004-06-07T00:00:00",
          "2005-02-18T00:00:00",
          "2005-06-07T00:00:00",
          "2005-08-23T00:00:00",
          "2006-02-13T00:00:00",
          "2006-07-17T00:00:00",
          "2006-09-28T00:00:00",
          "2007-02-15T00:00:00",
          "2007-08-22T00:00:00",
          "2008-02-10T00:00:00",
          "2008-06-08T00:00:00",
          "2009-08-27T00:00:00",
          "2010-06-14T00:00:00",
          "2010-08-26T00:00:00",
          "2011-02-16T00:00:00",
          "2011-06-13T00:00:00",
          "2011-08-26T00:00:00",
          "2012-08-24T00:00:00",
          "2013-08-30T00:00:00",
          "2014-06-17T00:00:00",
          "2015-06-17T00:00:00",
          "2016-02-16T00:00:00",
          "2016-06-14T00:00:00",
          "2017-06-13T00:00:00",
          "2017-08-24T00:00:00",
          "2018-02-26T00:00:00",
          "2018-06-13T00:00:00",
          "2019-06-11T00:00:00",
          "2019-08-23T00:00:00",
          "2020-02-16T00:00:00"
         ],
         "xaxis": "x",
         "y": [
          18.27906181818182,
          6.308143571428571,
          4.08542,
          3.31991,
          2.553650909090909,
          3.26547,
          1.41572,
          5.986980000000001,
          12.0634,
          11.468740000000002,
          16.667709999999996,
          26.304309999999994,
          3.0771399999999995,
          15.491330000000001,
          1.67248,
          42.66532000000001,
          23.657040000000002,
          7.839980000000001,
          28.829690000000006,
          3.93079,
          6.2415600000000016,
          8.39388,
          2.95451,
          57.285959999999996,
          5.4941699999999996,
          29.91911,
          17.815060000000003,
          5.21883,
          44.12279999999999,
          26.0531,
          3.49607,
          19.249649999999995,
          28.288200000000003,
          41.80123,
          15.394079999999999,
          25.390349999999994,
          15.31037,
          9.18688,
          8.624239999999999,
          25.5368,
          10.27576,
          3.0930999999999997,
          2.68974
         ],
         "yaxis": "y"
        },
        {
         "fillpattern": {
          "shape": ""
         },
         "hovertemplate": "species=foram<br>is_day=False<br>time=%{x}<br>zoo dry weight=%{y}<extra></extra>",
         "legendgroup": "foram",
         "line": {
          "color": "#00cc96"
         },
         "marker": {
          "symbol": "circle"
         },
         "mode": "lines",
         "name": "foram",
         "orientation": "v",
         "showlegend": true,
         "stackgroup": "1",
         "type": "scatter",
         "x": [
          "1997-02-21T00:00:00",
          "1997-06-15T00:00:00",
          "1998-02-27T00:00:00",
          "1998-06-13T00:00:00",
          "1999-02-18T00:00:00",
          "1999-09-02T00:00:00",
          "2000-06-09T00:00:00",
          "2000-09-14T00:00:00",
          "2001-02-12T00:00:00",
          "2003-09-07T00:00:00",
          "2004-02-24T00:00:00",
          "2004-08-26T00:00:00",
          "2005-02-18T00:00:00",
          "2007-06-07T00:00:00",
          "2008-08-21T00:00:00",
          "2009-02-05T00:00:00",
          "2009-06-14T00:00:00",
          "2012-02-15T00:00:00",
          "2012-06-03T00:00:00",
          "2013-02-13T00:00:00",
          "2013-06-18T00:00:00",
          "2014-08-26T00:00:00",
          "2015-02-19T00:00:00",
          "2015-08-28T00:00:00",
          "2016-08-26T00:00:00",
          "2017-02-12T00:00:00",
          "2018-09-20T00:00:00",
          "2019-02-12T00:00:00",
          "2020-08-20T00:00:00"
         ],
         "xaxis": "x2",
         "y": [
          0.005686666666666666,
          0.04439,
          0.13513,
          0.14012,
          0.018619999999999998,
          0.10386,
          0.47348,
          0.01537,
          0.05357,
          0.6885600000000001,
          0.0331,
          0.43179,
          1.19296,
          0.72116,
          0.47665,
          0.0017950000000000002,
          0.04849,
          0.15177000000000002,
          0.02282,
          0.33075,
          0.15093,
          0.30782,
          0.37813,
          3.13766,
          0.02001,
          0.01871,
          0.21513000000000002,
          0.00471,
          0.41137999999999997
         ],
         "yaxis": "y2"
        },
        {
         "fillpattern": {
          "shape": ""
         },
         "hovertemplate": "species=foram<br>is_day=True<br>time=%{x}<br>zoo dry weight=%{y}<extra></extra>",
         "legendgroup": "foram",
         "line": {
          "color": "#00cc96"
         },
         "marker": {
          "symbol": "circle"
         },
         "mode": "lines",
         "name": "foram",
         "orientation": "v",
         "showlegend": false,
         "stackgroup": "1",
         "type": "scatter",
         "x": [
          "1997-06-16T00:00:00",
          "1997-09-04T00:00:00",
          "1997-09-05T00:00:00",
          "1998-02-27T00:00:00",
          "1998-02-28T00:00:00",
          "1998-09-05T00:00:00",
          "1999-02-18T00:00:00",
          "2002-02-13T00:00:00",
          "2002-07-05T00:00:00",
          "2002-09-03T00:00:00",
          "2003-02-12T00:00:00",
          "2003-06-03T00:00:00",
          "2004-06-07T00:00:00",
          "2005-02-18T00:00:00",
          "2005-06-07T00:00:00",
          "2005-08-23T00:00:00",
          "2006-02-13T00:00:00",
          "2006-07-17T00:00:00",
          "2006-09-28T00:00:00",
          "2007-02-15T00:00:00",
          "2007-08-22T00:00:00",
          "2008-02-10T00:00:00",
          "2008-06-08T00:00:00",
          "2009-08-27T00:00:00",
          "2010-06-14T00:00:00",
          "2010-08-26T00:00:00",
          "2011-02-16T00:00:00",
          "2011-06-13T00:00:00",
          "2011-08-26T00:00:00",
          "2012-08-24T00:00:00",
          "2013-08-30T00:00:00",
          "2014-06-17T00:00:00",
          "2015-06-17T00:00:00",
          "2016-02-16T00:00:00",
          "2017-06-13T00:00:00",
          "2017-08-24T00:00:00",
          "2018-02-26T00:00:00",
          "2018-06-13T00:00:00",
          "2019-06-11T00:00:00",
          "2019-08-23T00:00:00",
          "2020-02-16T00:00:00"
         ],
         "xaxis": "x",
         "y": [
          0.018067272727272727,
          0.1480892857142857,
          0.00139,
          0.020461666666666666,
          0.009458181818181819,
          0.6018,
          0.0045000000000000005,
          0.031,
          0.14701999999999998,
          0.28259999999999996,
          0.00925,
          0.11885,
          0.01233,
          0.20047,
          0.31654,
          1.53464,
          0.8563000000000001,
          0.41975,
          0.56565,
          0.33421,
          0.45329,
          0.058499999999999996,
          1.76074,
          0.16607999999999998,
          0.0794,
          0.64885,
          0.07458999999999999,
          0.22176,
          0.5454800000000001,
          0.055889999999999995,
          0.22118,
          0.0393,
          0.27918,
          0.52334,
          0.11747,
          0.31216,
          0.26652,
          0.01035,
          0.01633,
          0.05324,
          0.29721
         ],
         "yaxis": "y"
        },
        {
         "fillpattern": {
          "shape": ""
         },
         "hovertemplate": "species=larvae<br>is_day=False<br>time=%{x}<br>zoo dry weight=%{y}<extra></extra>",
         "legendgroup": "larvae",
         "line": {
          "color": "#ab63fa"
         },
         "marker": {
          "symbol": "circle"
         },
         "mode": "lines",
         "name": "larvae",
         "orientation": "v",
         "showlegend": true,
         "stackgroup": "1",
         "type": "scatter",
         "x": [
          "1997-02-21T00:00:00",
          "1997-06-15T00:00:00",
          "1998-02-27T00:00:00",
          "1998-06-13T00:00:00",
          "1999-02-18T00:00:00",
          "2001-02-12T00:00:00",
          "2004-02-24T00:00:00",
          "2004-08-26T00:00:00",
          "2005-02-18T00:00:00",
          "2007-06-07T00:00:00",
          "2009-02-05T00:00:00",
          "2009-06-14T00:00:00",
          "2012-02-15T00:00:00",
          "2012-06-03T00:00:00",
          "2013-02-13T00:00:00",
          "2013-06-18T00:00:00",
          "2015-02-19T00:00:00",
          "2015-08-28T00:00:00",
          "2016-08-26T00:00:00",
          "2017-02-12T00:00:00",
          "2018-09-20T00:00:00",
          "2019-02-12T00:00:00",
          "2020-08-20T00:00:00"
         ],
         "xaxis": "x2",
         "y": [
          0.22575999999999996,
          0.10769999999999999,
          0.13758,
          0.7249,
          0.49620000000000003,
          0.07129,
          0.0076500000000000005,
          0.0134,
          0.11907999999999999,
          0.17018999999999998,
          0.02114,
          0.04302,
          0.062189999999999995,
          0.14211,
          0.09324,
          0.05001,
          1.17406,
          0.07248,
          0.00301,
          0.00748,
          0.00408,
          0.013389999999999999,
          0.15629
         ],
         "yaxis": "y2"
        },
        {
         "fillpattern": {
          "shape": ""
         },
         "hovertemplate": "species=larvae<br>is_day=True<br>time=%{x}<br>zoo dry weight=%{y}<extra></extra>",
         "legendgroup": "larvae",
         "line": {
          "color": "#ab63fa"
         },
         "marker": {
          "symbol": "circle"
         },
         "mode": "lines",
         "name": "larvae",
         "orientation": "v",
         "showlegend": false,
         "stackgroup": "1",
         "type": "scatter",
         "x": [
          "1997-06-16T00:00:00",
          "1997-09-04T00:00:00",
          "1998-02-27T00:00:00",
          "1998-02-28T00:00:00",
          "1999-02-18T00:00:00",
          "2002-02-13T00:00:00",
          "2002-07-05T00:00:00",
          "2002-09-03T00:00:00",
          "2003-02-12T00:00:00",
          "2004-06-07T00:00:00",
          "2005-02-18T00:00:00",
          "2005-06-07T00:00:00",
          "2006-02-13T00:00:00",
          "2007-02-15T00:00:00",
          "2008-02-10T00:00:00",
          "2008-06-08T00:00:00",
          "2009-08-27T00:00:00",
          "2010-06-14T00:00:00",
          "2011-02-16T00:00:00",
          "2011-06-13T00:00:00",
          "2014-06-17T00:00:00",
          "2015-06-17T00:00:00",
          "2016-02-16T00:00:00",
          "2016-06-14T00:00:00",
          "2017-06-13T00:00:00",
          "2017-08-24T00:00:00",
          "2018-02-26T00:00:00",
          "2018-06-13T00:00:00",
          "2019-06-11T00:00:00",
          "2020-02-16T00:00:00"
         ],
         "xaxis": "x",
         "y": [
          0.01356,
          0.08221514285714285,
          0.127555,
          0.10190909090909091,
          0.08099,
          0.08267,
          0.41754,
          0.16677,
          0.54799,
          0.00899,
          0.03887,
          0.07487,
          0.0075,
          0.027069999999999997,
          0.00768,
          0.33742,
          0.00573,
          0.09223999999999999,
          0.03909,
          0.0211,
          0.00969,
          1.80092,
          0.10394,
          0.30935,
          0.03624,
          0.04709,
          0.06175,
          0.042319999999999997,
          0.01821,
          0.11673
         ],
         "yaxis": "y"
        },
        {
         "fillpattern": {
          "shape": ""
         },
         "hovertemplate": "species=other<br>is_day=False<br>time=%{x}<br>zoo dry weight=%{y}<extra></extra>",
         "legendgroup": "other",
         "line": {
          "color": "#FFA15A"
         },
         "marker": {
          "symbol": "circle"
         },
         "mode": "lines",
         "name": "other",
         "orientation": "v",
         "showlegend": true,
         "stackgroup": "1",
         "type": "scatter",
         "x": [
          "1997-02-21T00:00:00",
          "1997-06-15T00:00:00",
          "1998-06-13T00:00:00",
          "1999-02-18T00:00:00",
          "1999-09-02T00:00:00",
          "2000-06-09T00:00:00",
          "2000-09-14T00:00:00",
          "2001-02-12T00:00:00",
          "2003-09-07T00:00:00",
          "2004-02-24T00:00:00",
          "2004-08-26T00:00:00",
          "2005-02-18T00:00:00",
          "2007-06-07T00:00:00",
          "2008-08-21T00:00:00",
          "2009-02-05T00:00:00",
          "2009-06-14T00:00:00",
          "2012-02-15T00:00:00",
          "2012-06-03T00:00:00",
          "2013-02-13T00:00:00",
          "2013-06-18T00:00:00",
          "2014-08-26T00:00:00",
          "2015-02-19T00:00:00",
          "2015-08-28T00:00:00",
          "2016-08-26T00:00:00",
          "2017-02-12T00:00:00",
          "2018-09-20T00:00:00",
          "2019-02-12T00:00:00",
          "2020-08-20T00:00:00"
         ],
         "xaxis": "x2",
         "y": [
          0.22645,
          0.00567,
          1.03515,
          0.22052,
          0.51038,
          2.6887,
          0.76754,
          0.06509999999999999,
          0.15544,
          0.10466,
          2.4077,
          0.02842,
          0.08581,
          14.040890000000001,
          0.14976,
          2.35345,
          0.14533000000000001,
          0.20889,
          0.19232,
          3.4635599999999998,
          0.01535,
          0.27097,
          0.40098,
          1.4711599999999998,
          0.029519999999999998,
          0.25647,
          0.03556,
          0.53678
         ],
         "yaxis": "y2"
        },
        {
         "fillpattern": {
          "shape": ""
         },
         "hovertemplate": "species=other<br>is_day=True<br>time=%{x}<br>zoo dry weight=%{y}<extra></extra>",
         "legendgroup": "other",
         "line": {
          "color": "#FFA15A"
         },
         "marker": {
          "symbol": "circle"
         },
         "mode": "lines",
         "name": "other",
         "orientation": "v",
         "showlegend": false,
         "stackgroup": "1",
         "type": "scatter",
         "x": [
          "1997-06-16T00:00:00",
          "1997-09-04T00:00:00",
          "1997-09-05T00:00:00",
          "1998-02-27T00:00:00",
          "1998-02-28T00:00:00",
          "1998-09-05T00:00:00",
          "1999-02-18T00:00:00",
          "2002-07-05T00:00:00",
          "2002-09-03T00:00:00",
          "2003-02-12T00:00:00",
          "2003-06-03T00:00:00",
          "2003-09-06T00:00:00",
          "2004-06-07T00:00:00",
          "2005-02-18T00:00:00",
          "2005-06-07T00:00:00",
          "2005-08-23T00:00:00",
          "2006-07-17T00:00:00",
          "2006-09-28T00:00:00",
          "2007-02-15T00:00:00",
          "2007-08-22T00:00:00",
          "2008-02-10T00:00:00",
          "2008-06-08T00:00:00",
          "2009-08-27T00:00:00",
          "2010-06-14T00:00:00",
          "2010-08-26T00:00:00",
          "2011-02-16T00:00:00",
          "2011-06-13T00:00:00",
          "2011-08-26T00:00:00",
          "2012-08-24T00:00:00",
          "2013-08-30T00:00:00",
          "2014-06-17T00:00:00",
          "2015-06-17T00:00:00",
          "2016-06-14T00:00:00",
          "2017-06-13T00:00:00",
          "2017-08-24T00:00:00",
          "2018-06-13T00:00:00",
          "2019-06-11T00:00:00",
          "2020-02-16T00:00:00"
         ],
         "xaxis": "x",
         "y": [
          0.05385363636363636,
          0.037700285714285714,
          0.009909999999999999,
          0.29333,
          0.05946727272727272,
          0.26496000000000003,
          0.02942,
          0.06046,
          0.02173,
          0.07188,
          0.04409,
          0.40509999999999996,
          0.21994999999999998,
          0.22810000000000002,
          0.96058,
          0.06092,
          0.67465,
          0.011680000000000001,
          0.06981,
          0.7434200000000001,
          0.01056,
          0.23767,
          9.66804,
          0.36431,
          0.48284,
          0.010509999999999999,
          0.10882,
          0.1623,
          0.03284,
          0.04695,
          0.01696,
          0.13109,
          0.40876999999999997,
          0.58413,
          0.12876,
          0.39864,
          0.15832999999999997,
          0.29268
         ],
         "yaxis": "y"
        },
        {
         "fillpattern": {
          "shape": ""
         },
         "hovertemplate": "species=pteropods<br>is_day=False<br>time=%{x}<br>zoo dry weight=%{y}<extra></extra>",
         "legendgroup": "pteropods",
         "line": {
          "color": "#19d3f3"
         },
         "marker": {
          "symbol": "circle"
         },
         "mode": "lines",
         "name": "pteropods",
         "orientation": "v",
         "showlegend": true,
         "stackgroup": "1",
         "type": "scatter",
         "x": [
          "1997-02-21T00:00:00",
          "1997-06-15T00:00:00",
          "1998-02-27T00:00:00",
          "1998-06-13T00:00:00",
          "1999-02-18T00:00:00",
          "1999-09-02T00:00:00",
          "2000-06-09T00:00:00",
          "2000-09-14T00:00:00",
          "2001-02-12T00:00:00",
          "2003-09-07T00:00:00",
          "2004-02-24T00:00:00",
          "2004-08-26T00:00:00",
          "2005-02-18T00:00:00",
          "2007-06-07T00:00:00",
          "2008-08-21T00:00:00",
          "2009-02-05T00:00:00",
          "2009-06-14T00:00:00",
          "2012-02-15T00:00:00",
          "2012-06-03T00:00:00",
          "2013-02-13T00:00:00",
          "2013-06-18T00:00:00",
          "2014-08-26T00:00:00",
          "2015-02-19T00:00:00",
          "2015-08-28T00:00:00",
          "2016-08-26T00:00:00",
          "2017-02-12T00:00:00",
          "2018-09-20T00:00:00",
          "2019-02-12T00:00:00",
          "2020-08-20T00:00:00"
         ],
         "xaxis": "x2",
         "y": [
          0.07407666666666667,
          0.5909599999999999,
          1.21274,
          4.04912,
          0.63386,
          2.07137,
          3.0868599999999997,
          0.29745,
          0.90969,
          10.536059999999999,
          5.53298,
          1.11126,
          1.36941,
          0.77586,
          4.73122,
          0.17688,
          2.20911,
          0.45965,
          1.1757300000000002,
          0.8483,
          2.02756,
          2.13567,
          0.83124,
          7.068809999999999,
          53.28311000000001,
          2.4199599999999997,
          5.35985,
          0.22672,
          0.45086
         ],
         "yaxis": "y2"
        },
        {
         "fillpattern": {
          "shape": ""
         },
         "hovertemplate": "species=pteropods<br>is_day=True<br>time=%{x}<br>zoo dry weight=%{y}<extra></extra>",
         "legendgroup": "pteropods",
         "line": {
          "color": "#19d3f3"
         },
         "marker": {
          "symbol": "circle"
         },
         "mode": "lines",
         "name": "pteropods",
         "orientation": "v",
         "showlegend": false,
         "stackgroup": "1",
         "type": "scatter",
         "x": [
          "1997-06-16T00:00:00",
          "1997-09-04T00:00:00",
          "1997-09-05T00:00:00",
          "1998-02-27T00:00:00",
          "1998-02-28T00:00:00",
          "1998-09-05T00:00:00",
          "1999-02-18T00:00:00",
          "2002-02-13T00:00:00",
          "2002-07-05T00:00:00",
          "2002-09-03T00:00:00",
          "2003-02-12T00:00:00",
          "2003-06-03T00:00:00",
          "2003-09-06T00:00:00",
          "2004-06-07T00:00:00",
          "2005-02-18T00:00:00",
          "2005-06-07T00:00:00",
          "2005-08-23T00:00:00",
          "2006-07-17T00:00:00",
          "2006-09-28T00:00:00",
          "2007-08-22T00:00:00",
          "2008-02-10T00:00:00",
          "2009-08-27T00:00:00",
          "2010-06-14T00:00:00",
          "2010-08-26T00:00:00",
          "2011-02-16T00:00:00",
          "2011-06-13T00:00:00",
          "2011-08-26T00:00:00",
          "2012-08-24T00:00:00",
          "2013-08-30T00:00:00",
          "2014-06-17T00:00:00",
          "2015-06-17T00:00:00",
          "2016-02-16T00:00:00",
          "2016-06-14T00:00:00",
          "2017-06-13T00:00:00",
          "2017-08-24T00:00:00",
          "2018-02-26T00:00:00",
          "2018-06-13T00:00:00",
          "2019-06-11T00:00:00",
          "2019-08-23T00:00:00",
          "2020-02-16T00:00:00"
         ],
         "xaxis": "x",
         "y": [
          0.97848,
          0.21605599999999997,
          0.11875000000000001,
          1.6870866666666666,
          1.344819090909091,
          1.5906099999999999,
          0.8976000000000001,
          0.31488,
          6.9414,
          2.80986,
          1.71388,
          3.43288,
          3.1239399999999997,
          0.84637,
          0.10545,
          4.63042,
          0.53303,
          0.93407,
          0.30697,
          0.17669,
          0.16966,
          2.67718,
          7.71984,
          2.6318599999999996,
          0.10394,
          13.64737,
          0.12169,
          0.21783000000000002,
          0.03118,
          0.08074,
          0.90046,
          1.44898,
          2.52273,
          0.8436099999999999,
          0.38968,
          0.64043,
          0.5334099999999999,
          0.10518999999999999,
          0.058449999999999995,
          0.16225
         ],
         "yaxis": "y"
        },
        {
         "fillpattern": {
          "shape": ""
         },
         "hovertemplate": "species=small_gelatinous<br>is_day=False<br>time=%{x}<br>zoo dry weight=%{y}<extra></extra>",
         "legendgroup": "small_gelatinous",
         "line": {
          "color": "#FF6692"
         },
         "marker": {
          "symbol": "circle"
         },
         "mode": "lines",
         "name": "small_gelatinous",
         "orientation": "v",
         "showlegend": true,
         "stackgroup": "1",
         "type": "scatter",
         "x": [
          "1997-02-21T00:00:00",
          "1997-06-15T00:00:00",
          "1998-02-27T00:00:00",
          "1998-06-13T00:00:00",
          "1999-02-18T00:00:00",
          "1999-09-02T00:00:00",
          "2000-06-09T00:00:00",
          "2000-09-14T00:00:00",
          "2001-02-12T00:00:00",
          "2003-09-07T00:00:00",
          "2004-02-24T00:00:00",
          "2004-08-26T00:00:00",
          "2005-02-18T00:00:00",
          "2007-06-07T00:00:00",
          "2008-08-21T00:00:00",
          "2009-02-05T00:00:00",
          "2009-06-14T00:00:00",
          "2012-02-15T00:00:00",
          "2012-06-03T00:00:00",
          "2013-02-13T00:00:00",
          "2013-06-18T00:00:00",
          "2014-08-26T00:00:00",
          "2015-02-19T00:00:00",
          "2015-08-28T00:00:00",
          "2016-08-26T00:00:00",
          "2017-02-12T00:00:00",
          "2018-09-20T00:00:00",
          "2019-02-12T00:00:00",
          "2020-08-20T00:00:00"
         ],
         "xaxis": "x2",
         "y": [
          0.9322400000000001,
          0.61364,
          2.35988,
          7.78606,
          12.258299999999998,
          4.36278,
          9.88701,
          0.80893,
          7.46324,
          17.63401,
          1.99637,
          0.58847,
          21.66576,
          1.14904,
          0.8086800000000001,
          6.0620199999999995,
          2.0053799999999997,
          1.98733,
          0.96644,
          1.55904,
          2.2935100000000004,
          0.11243,
          1.4207200000000002,
          3.95969,
          3.0639399999999997,
          0.14074,
          0.87393,
          0.55387,
          3.9087600000000005
         ],
         "yaxis": "y2"
        },
        {
         "fillpattern": {
          "shape": ""
         },
         "hovertemplate": "species=small_gelatinous<br>is_day=True<br>time=%{x}<br>zoo dry weight=%{y}<extra></extra>",
         "legendgroup": "small_gelatinous",
         "line": {
          "color": "#FF6692"
         },
         "marker": {
          "symbol": "circle"
         },
         "mode": "lines",
         "name": "small_gelatinous",
         "orientation": "v",
         "showlegend": false,
         "stackgroup": "1",
         "type": "scatter",
         "x": [
          "1997-06-16T00:00:00",
          "1997-09-04T00:00:00",
          "1997-09-05T00:00:00",
          "1998-02-27T00:00:00",
          "1998-02-28T00:00:00",
          "1998-09-05T00:00:00",
          "1999-02-18T00:00:00",
          "2002-02-13T00:00:00",
          "2002-07-05T00:00:00",
          "2002-09-03T00:00:00",
          "2003-02-12T00:00:00",
          "2003-06-03T00:00:00",
          "2003-09-06T00:00:00",
          "2004-06-07T00:00:00",
          "2005-02-18T00:00:00",
          "2005-06-07T00:00:00",
          "2005-08-23T00:00:00",
          "2006-02-13T00:00:00",
          "2006-07-17T00:00:00",
          "2006-09-28T00:00:00",
          "2007-02-15T00:00:00",
          "2007-08-22T00:00:00",
          "2008-02-10T00:00:00",
          "2008-06-08T00:00:00",
          "2009-08-27T00:00:00",
          "2010-06-14T00:00:00",
          "2010-08-26T00:00:00",
          "2011-02-16T00:00:00",
          "2011-06-13T00:00:00",
          "2011-08-26T00:00:00",
          "2012-08-24T00:00:00",
          "2013-08-30T00:00:00",
          "2014-06-17T00:00:00",
          "2015-06-17T00:00:00",
          "2016-02-16T00:00:00",
          "2016-06-14T00:00:00",
          "2017-06-13T00:00:00",
          "2017-08-24T00:00:00",
          "2018-02-26T00:00:00",
          "2018-06-13T00:00:00",
          "2019-06-11T00:00:00",
          "2019-08-23T00:00:00",
          "2020-02-16T00:00:00"
         ],
         "xaxis": "x",
         "y": [
          0.6518363636363637,
          2.9038211428571428,
          0.23246,
          2.641835,
          1.214730909090909,
          1.0259200000000002,
          8.804730000000001,
          1.18973,
          1.26953,
          3.6879299999999997,
          2.99577,
          0.8092299999999999,
          9.270579999999999,
          0.40584000000000003,
          4.966149999999999,
          24.19757,
          6.74509,
          0.53402,
          1.36576,
          3.479,
          2.6008500000000003,
          1.84623,
          1.2071699999999999,
          5.4927,
          2.9493199999999997,
          8.47384,
          2.30463,
          0.22888,
          0.40195000000000003,
          1.5686,
          0.61266,
          1.54883,
          0.6637000000000001,
          1.8591099999999998,
          2.09312,
          1.30478,
          0.49943999999999994,
          1.24678,
          0.42568,
          1.0398100000000001,
          0.11689,
          0.26676,
          1.88788
         ],
         "yaxis": "y"
        },
        {
         "fillpattern": {
          "shape": ""
         },
         "hovertemplate": "species=thaliaceans<br>is_day=False<br>time=%{x}<br>zoo dry weight=%{y}<extra></extra>",
         "legendgroup": "thaliaceans",
         "line": {
          "color": "#B6E880"
         },
         "marker": {
          "symbol": "circle"
         },
         "mode": "lines",
         "name": "thaliaceans",
         "orientation": "v",
         "showlegend": true,
         "stackgroup": "1",
         "type": "scatter",
         "x": [
          "1997-06-15T00:00:00",
          "2000-06-09T00:00:00",
          "2003-09-07T00:00:00",
          "2004-02-24T00:00:00",
          "2004-08-26T00:00:00",
          "2007-06-07T00:00:00",
          "2008-08-21T00:00:00",
          "2009-06-14T00:00:00",
          "2012-02-15T00:00:00",
          "2012-06-03T00:00:00",
          "2013-02-13T00:00:00",
          "2013-06-18T00:00:00",
          "2014-08-26T00:00:00",
          "2015-02-19T00:00:00",
          "2015-08-28T00:00:00",
          "2016-08-26T00:00:00",
          "2017-02-12T00:00:00",
          "2019-02-12T00:00:00",
          "2020-08-20T00:00:00"
         ],
         "xaxis": "x2",
         "y": [
          0.85031,
          2.16756,
          0.37944,
          0.19349,
          2.0683599999999998,
          0.18592,
          0.07436,
          0.21514000000000003,
          0.01803,
          0.12568000000000001,
          0.17119,
          5.7167200000000005,
          0.01084,
          0.0489,
          0.02718,
          6.53983,
          0.06445,
          0.01805,
          9.00122
         ],
         "yaxis": "y2"
        },
        {
         "fillpattern": {
          "shape": ""
         },
         "hovertemplate": "species=thaliaceans<br>is_day=True<br>time=%{x}<br>zoo dry weight=%{y}<extra></extra>",
         "legendgroup": "thaliaceans",
         "line": {
          "color": "#B6E880"
         },
         "marker": {
          "symbol": "circle"
         },
         "mode": "lines",
         "name": "thaliaceans",
         "orientation": "v",
         "showlegend": false,
         "stackgroup": "1",
         "type": "scatter",
         "x": [
          "1997-06-16T00:00:00",
          "1997-09-04T00:00:00",
          "1997-09-05T00:00:00",
          "2002-02-13T00:00:00",
          "2002-07-05T00:00:00",
          "2003-02-12T00:00:00",
          "2003-06-03T00:00:00",
          "2004-06-07T00:00:00",
          "2005-06-07T00:00:00",
          "2005-08-23T00:00:00",
          "2006-02-13T00:00:00",
          "2006-07-17T00:00:00",
          "2006-09-28T00:00:00",
          "2007-02-15T00:00:00",
          "2007-08-22T00:00:00",
          "2008-02-10T00:00:00",
          "2008-06-08T00:00:00",
          "2009-08-27T00:00:00",
          "2010-06-14T00:00:00",
          "2010-08-26T00:00:00",
          "2011-06-13T00:00:00",
          "2011-08-26T00:00:00",
          "2012-08-24T00:00:00",
          "2013-08-30T00:00:00",
          "2014-06-17T00:00:00",
          "2015-06-17T00:00:00",
          "2016-02-16T00:00:00",
          "2016-06-14T00:00:00",
          "2017-06-13T00:00:00",
          "2017-08-24T00:00:00",
          "2018-02-26T00:00:00",
          "2018-06-13T00:00:00",
          "2019-06-11T00:00:00",
          "2020-02-16T00:00:00"
         ],
         "xaxis": "x",
         "y": [
          0.6999181818181819,
          0.6713375714285714,
          1.9754099999999999,
          0.8590300000000001,
          0.02687,
          0.05638,
          2.9091,
          1.95472,
          0.04159,
          0.01218,
          0.01874,
          0.07169,
          0.00312,
          0.02741,
          0.01528,
          0.00154,
          0.08793,
          1.4397400000000002,
          0.28591999999999995,
          0.06028,
          0.0844,
          0.01947,
          0.08032,
          0.05892,
          11.13283,
          0.20827,
          0.02446,
          0.0741,
          0.00351,
          0.10629000000000001,
          0.00611,
          23.28542,
          0.014759999999999999,
          0.00451
         ],
         "yaxis": "y"
        }
       ],
       "layout": {
        "annotations": [
         {
          "font": {},
          "showarrow": false,
          "text": "is_day=True",
          "textangle": 90,
          "x": 0.98,
          "xanchor": "left",
          "xref": "paper",
          "y": 0.2425,
          "yanchor": "middle",
          "yref": "paper"
         },
         {
          "font": {},
          "showarrow": false,
          "text": "is_day=False",
          "textangle": 90,
          "x": 0.98,
          "xanchor": "left",
          "xref": "paper",
          "y": 0.7575000000000001,
          "yanchor": "middle",
          "yref": "paper"
         }
        ],
        "legend": {
         "title": {
          "text": "Species"
         },
         "tracegroupgap": 0
        },
        "margin": {
         "t": 60
        },
        "template": {
         "data": {
          "bar": [
           {
            "error_x": {
             "color": "#2a3f5f"
            },
            "error_y": {
             "color": "#2a3f5f"
            },
            "marker": {
             "line": {
              "color": "#E5ECF6",
              "width": 0.5
             },
             "pattern": {
              "fillmode": "overlay",
              "size": 10,
              "solidity": 0.2
             }
            },
            "type": "bar"
           }
          ],
          "barpolar": [
           {
            "marker": {
             "line": {
              "color": "#E5ECF6",
              "width": 0.5
             },
             "pattern": {
              "fillmode": "overlay",
              "size": 10,
              "solidity": 0.2
             }
            },
            "type": "barpolar"
           }
          ],
          "carpet": [
           {
            "aaxis": {
             "endlinecolor": "#2a3f5f",
             "gridcolor": "white",
             "linecolor": "white",
             "minorgridcolor": "white",
             "startlinecolor": "#2a3f5f"
            },
            "baxis": {
             "endlinecolor": "#2a3f5f",
             "gridcolor": "white",
             "linecolor": "white",
             "minorgridcolor": "white",
             "startlinecolor": "#2a3f5f"
            },
            "type": "carpet"
           }
          ],
          "choropleth": [
           {
            "colorbar": {
             "outlinewidth": 0,
             "ticks": ""
            },
            "type": "choropleth"
           }
          ],
          "contour": [
           {
            "colorbar": {
             "outlinewidth": 0,
             "ticks": ""
            },
            "colorscale": [
             [
              0,
              "#0d0887"
             ],
             [
              0.1111111111111111,
              "#46039f"
             ],
             [
              0.2222222222222222,
              "#7201a8"
             ],
             [
              0.3333333333333333,
              "#9c179e"
             ],
             [
              0.4444444444444444,
              "#bd3786"
             ],
             [
              0.5555555555555556,
              "#d8576b"
             ],
             [
              0.6666666666666666,
              "#ed7953"
             ],
             [
              0.7777777777777778,
              "#fb9f3a"
             ],
             [
              0.8888888888888888,
              "#fdca26"
             ],
             [
              1,
              "#f0f921"
             ]
            ],
            "type": "contour"
           }
          ],
          "contourcarpet": [
           {
            "colorbar": {
             "outlinewidth": 0,
             "ticks": ""
            },
            "type": "contourcarpet"
           }
          ],
          "heatmap": [
           {
            "colorbar": {
             "outlinewidth": 0,
             "ticks": ""
            },
            "colorscale": [
             [
              0,
              "#0d0887"
             ],
             [
              0.1111111111111111,
              "#46039f"
             ],
             [
              0.2222222222222222,
              "#7201a8"
             ],
             [
              0.3333333333333333,
              "#9c179e"
             ],
             [
              0.4444444444444444,
              "#bd3786"
             ],
             [
              0.5555555555555556,
              "#d8576b"
             ],
             [
              0.6666666666666666,
              "#ed7953"
             ],
             [
              0.7777777777777778,
              "#fb9f3a"
             ],
             [
              0.8888888888888888,
              "#fdca26"
             ],
             [
              1,
              "#f0f921"
             ]
            ],
            "type": "heatmap"
           }
          ],
          "heatmapgl": [
           {
            "colorbar": {
             "outlinewidth": 0,
             "ticks": ""
            },
            "colorscale": [
             [
              0,
              "#0d0887"
             ],
             [
              0.1111111111111111,
              "#46039f"
             ],
             [
              0.2222222222222222,
              "#7201a8"
             ],
             [
              0.3333333333333333,
              "#9c179e"
             ],
             [
              0.4444444444444444,
              "#bd3786"
             ],
             [
              0.5555555555555556,
              "#d8576b"
             ],
             [
              0.6666666666666666,
              "#ed7953"
             ],
             [
              0.7777777777777778,
              "#fb9f3a"
             ],
             [
              0.8888888888888888,
              "#fdca26"
             ],
             [
              1,
              "#f0f921"
             ]
            ],
            "type": "heatmapgl"
           }
          ],
          "histogram": [
           {
            "marker": {
             "pattern": {
              "fillmode": "overlay",
              "size": 10,
              "solidity": 0.2
             }
            },
            "type": "histogram"
           }
          ],
          "histogram2d": [
           {
            "colorbar": {
             "outlinewidth": 0,
             "ticks": ""
            },
            "colorscale": [
             [
              0,
              "#0d0887"
             ],
             [
              0.1111111111111111,
              "#46039f"
             ],
             [
              0.2222222222222222,
              "#7201a8"
             ],
             [
              0.3333333333333333,
              "#9c179e"
             ],
             [
              0.4444444444444444,
              "#bd3786"
             ],
             [
              0.5555555555555556,
              "#d8576b"
             ],
             [
              0.6666666666666666,
              "#ed7953"
             ],
             [
              0.7777777777777778,
              "#fb9f3a"
             ],
             [
              0.8888888888888888,
              "#fdca26"
             ],
             [
              1,
              "#f0f921"
             ]
            ],
            "type": "histogram2d"
           }
          ],
          "histogram2dcontour": [
           {
            "colorbar": {
             "outlinewidth": 0,
             "ticks": ""
            },
            "colorscale": [
             [
              0,
              "#0d0887"
             ],
             [
              0.1111111111111111,
              "#46039f"
             ],
             [
              0.2222222222222222,
              "#7201a8"
             ],
             [
              0.3333333333333333,
              "#9c179e"
             ],
             [
              0.4444444444444444,
              "#bd3786"
             ],
             [
              0.5555555555555556,
              "#d8576b"
             ],
             [
              0.6666666666666666,
              "#ed7953"
             ],
             [
              0.7777777777777778,
              "#fb9f3a"
             ],
             [
              0.8888888888888888,
              "#fdca26"
             ],
             [
              1,
              "#f0f921"
             ]
            ],
            "type": "histogram2dcontour"
           }
          ],
          "mesh3d": [
           {
            "colorbar": {
             "outlinewidth": 0,
             "ticks": ""
            },
            "type": "mesh3d"
           }
          ],
          "parcoords": [
           {
            "line": {
             "colorbar": {
              "outlinewidth": 0,
              "ticks": ""
             }
            },
            "type": "parcoords"
           }
          ],
          "pie": [
           {
            "automargin": true,
            "type": "pie"
           }
          ],
          "scatter": [
           {
            "fillpattern": {
             "fillmode": "overlay",
             "size": 10,
             "solidity": 0.2
            },
            "type": "scatter"
           }
          ],
          "scatter3d": [
           {
            "line": {
             "colorbar": {
              "outlinewidth": 0,
              "ticks": ""
             }
            },
            "marker": {
             "colorbar": {
              "outlinewidth": 0,
              "ticks": ""
             }
            },
            "type": "scatter3d"
           }
          ],
          "scattercarpet": [
           {
            "marker": {
             "colorbar": {
              "outlinewidth": 0,
              "ticks": ""
             }
            },
            "type": "scattercarpet"
           }
          ],
          "scattergeo": [
           {
            "marker": {
             "colorbar": {
              "outlinewidth": 0,
              "ticks": ""
             }
            },
            "type": "scattergeo"
           }
          ],
          "scattergl": [
           {
            "marker": {
             "colorbar": {
              "outlinewidth": 0,
              "ticks": ""
             }
            },
            "type": "scattergl"
           }
          ],
          "scattermapbox": [
           {
            "marker": {
             "colorbar": {
              "outlinewidth": 0,
              "ticks": ""
             }
            },
            "type": "scattermapbox"
           }
          ],
          "scatterpolar": [
           {
            "marker": {
             "colorbar": {
              "outlinewidth": 0,
              "ticks": ""
             }
            },
            "type": "scatterpolar"
           }
          ],
          "scatterpolargl": [
           {
            "marker": {
             "colorbar": {
              "outlinewidth": 0,
              "ticks": ""
             }
            },
            "type": "scatterpolargl"
           }
          ],
          "scatterternary": [
           {
            "marker": {
             "colorbar": {
              "outlinewidth": 0,
              "ticks": ""
             }
            },
            "type": "scatterternary"
           }
          ],
          "surface": [
           {
            "colorbar": {
             "outlinewidth": 0,
             "ticks": ""
            },
            "colorscale": [
             [
              0,
              "#0d0887"
             ],
             [
              0.1111111111111111,
              "#46039f"
             ],
             [
              0.2222222222222222,
              "#7201a8"
             ],
             [
              0.3333333333333333,
              "#9c179e"
             ],
             [
              0.4444444444444444,
              "#bd3786"
             ],
             [
              0.5555555555555556,
              "#d8576b"
             ],
             [
              0.6666666666666666,
              "#ed7953"
             ],
             [
              0.7777777777777778,
              "#fb9f3a"
             ],
             [
              0.8888888888888888,
              "#fdca26"
             ],
             [
              1,
              "#f0f921"
             ]
            ],
            "type": "surface"
           }
          ],
          "table": [
           {
            "cells": {
             "fill": {
              "color": "#EBF0F8"
             },
             "line": {
              "color": "white"
             }
            },
            "header": {
             "fill": {
              "color": "#C8D4E3"
             },
             "line": {
              "color": "white"
             }
            },
            "type": "table"
           }
          ]
         },
         "layout": {
          "annotationdefaults": {
           "arrowcolor": "#2a3f5f",
           "arrowhead": 0,
           "arrowwidth": 1
          },
          "autotypenumbers": "strict",
          "coloraxis": {
           "colorbar": {
            "outlinewidth": 0,
            "ticks": ""
           }
          },
          "colorscale": {
           "diverging": [
            [
             0,
             "#8e0152"
            ],
            [
             0.1,
             "#c51b7d"
            ],
            [
             0.2,
             "#de77ae"
            ],
            [
             0.3,
             "#f1b6da"
            ],
            [
             0.4,
             "#fde0ef"
            ],
            [
             0.5,
             "#f7f7f7"
            ],
            [
             0.6,
             "#e6f5d0"
            ],
            [
             0.7,
             "#b8e186"
            ],
            [
             0.8,
             "#7fbc41"
            ],
            [
             0.9,
             "#4d9221"
            ],
            [
             1,
             "#276419"
            ]
           ],
           "sequential": [
            [
             0,
             "#0d0887"
            ],
            [
             0.1111111111111111,
             "#46039f"
            ],
            [
             0.2222222222222222,
             "#7201a8"
            ],
            [
             0.3333333333333333,
             "#9c179e"
            ],
            [
             0.4444444444444444,
             "#bd3786"
            ],
            [
             0.5555555555555556,
             "#d8576b"
            ],
            [
             0.6666666666666666,
             "#ed7953"
            ],
            [
             0.7777777777777778,
             "#fb9f3a"
            ],
            [
             0.8888888888888888,
             "#fdca26"
            ],
            [
             1,
             "#f0f921"
            ]
           ],
           "sequentialminus": [
            [
             0,
             "#0d0887"
            ],
            [
             0.1111111111111111,
             "#46039f"
            ],
            [
             0.2222222222222222,
             "#7201a8"
            ],
            [
             0.3333333333333333,
             "#9c179e"
            ],
            [
             0.4444444444444444,
             "#bd3786"
            ],
            [
             0.5555555555555556,
             "#d8576b"
            ],
            [
             0.6666666666666666,
             "#ed7953"
            ],
            [
             0.7777777777777778,
             "#fb9f3a"
            ],
            [
             0.8888888888888888,
             "#fdca26"
            ],
            [
             1,
             "#f0f921"
            ]
           ]
          },
          "colorway": [
           "#636efa",
           "#EF553B",
           "#00cc96",
           "#ab63fa",
           "#FFA15A",
           "#19d3f3",
           "#FF6692",
           "#B6E880",
           "#FF97FF",
           "#FECB52"
          ],
          "font": {
           "color": "#2a3f5f"
          },
          "geo": {
           "bgcolor": "white",
           "lakecolor": "white",
           "landcolor": "#E5ECF6",
           "showlakes": true,
           "showland": true,
           "subunitcolor": "white"
          },
          "hoverlabel": {
           "align": "left"
          },
          "hovermode": "closest",
          "mapbox": {
           "style": "light"
          },
          "paper_bgcolor": "white",
          "plot_bgcolor": "#E5ECF6",
          "polar": {
           "angularaxis": {
            "gridcolor": "white",
            "linecolor": "white",
            "ticks": ""
           },
           "bgcolor": "#E5ECF6",
           "radialaxis": {
            "gridcolor": "white",
            "linecolor": "white",
            "ticks": ""
           }
          },
          "scene": {
           "xaxis": {
            "backgroundcolor": "#E5ECF6",
            "gridcolor": "white",
            "gridwidth": 2,
            "linecolor": "white",
            "showbackground": true,
            "ticks": "",
            "zerolinecolor": "white"
           },
           "yaxis": {
            "backgroundcolor": "#E5ECF6",
            "gridcolor": "white",
            "gridwidth": 2,
            "linecolor": "white",
            "showbackground": true,
            "ticks": "",
            "zerolinecolor": "white"
           },
           "zaxis": {
            "backgroundcolor": "#E5ECF6",
            "gridcolor": "white",
            "gridwidth": 2,
            "linecolor": "white",
            "showbackground": true,
            "ticks": "",
            "zerolinecolor": "white"
           }
          },
          "shapedefaults": {
           "line": {
            "color": "#2a3f5f"
           }
          },
          "ternary": {
           "aaxis": {
            "gridcolor": "white",
            "linecolor": "white",
            "ticks": ""
           },
           "baxis": {
            "gridcolor": "white",
            "linecolor": "white",
            "ticks": ""
           },
           "bgcolor": "#E5ECF6",
           "caxis": {
            "gridcolor": "white",
            "linecolor": "white",
            "ticks": ""
           }
          },
          "title": {
           "x": 0.05
          },
          "xaxis": {
           "automargin": true,
           "gridcolor": "white",
           "linecolor": "white",
           "ticks": "",
           "title": {
            "standoff": 15
           },
           "zerolinecolor": "white",
           "zerolinewidth": 2
          },
          "yaxis": {
           "automargin": true,
           "gridcolor": "white",
           "linecolor": "white",
           "ticks": "",
           "title": {
            "standoff": 15
           },
           "zerolinecolor": "white",
           "zerolinewidth": 2
          }
         }
        },
        "title": {
         "text": "PAPA : zooplankton dry weight by cube meter of sea water"
        },
        "xaxis": {
         "anchor": "y",
         "domain": [
          0,
          0.98
         ],
         "title": {
          "text": "Time"
         }
        },
        "xaxis2": {
         "anchor": "y2",
         "domain": [
          0,
          0.98
         ],
         "matches": "x",
         "showticklabels": false
        },
        "yaxis": {
         "anchor": "x",
         "domain": [
          0,
          0.485
         ],
         "title": {
          "text": "Dry Weight (mg/m3)"
         }
        },
        "yaxis2": {
         "anchor": "x2",
         "domain": [
          0.515,
          1
         ],
         "matches": "y",
         "title": {
          "text": "zoo dry weight"
         }
        }
       }
      }
     },
     "metadata": {},
     "output_type": "display_data"
    }
   ],
   "source": [
    "fig = px.area(\n",
    "    zoo_papa_d_n,\n",
    "    x=\"time\",\n",
    "    y=\"zoo dry weight\",\n",
    "    line_group=\"species\",\n",
    "    color=\"species\",\n",
    "    facet_row=\"is_day\",\n",
    ")\n",
    "fig.update_layout(\n",
    "    title=\"PAPA : zooplankton dry weight by cube meter of sea water\",\n",
    "    xaxis_title=\"Time\",\n",
    "    yaxis_title=\"Dry Weight (mg/m3)\",\n",
    "    legend_title=\"Species\",\n",
    ")"
   ]
  },
  {
   "cell_type": "code",
   "execution_count": 69,
   "metadata": {},
   "outputs": [],
   "source": [
    "# fig.write_html(\"zoo_dry_weight.html\")"
   ]
  },
  {
   "cell_type": "markdown",
   "metadata": {},
   "source": [
    "We remove the chaetognaths from the dataset, as they are not feeding on phytoplankton.\n"
   ]
  },
  {
   "cell_type": "code",
   "execution_count": 70,
   "metadata": {},
   "outputs": [
    {
     "data": {
      "text/html": [
       "<div>\n",
       "<style scoped>\n",
       "    .dataframe tbody tr th:only-of-type {\n",
       "        vertical-align: middle;\n",
       "    }\n",
       "\n",
       "    .dataframe tbody tr th {\n",
       "        vertical-align: top;\n",
       "    }\n",
       "\n",
       "    .dataframe thead th {\n",
       "        text-align: right;\n",
       "    }\n",
       "</style>\n",
       "<table border=\"1\" class=\"dataframe\">\n",
       "  <thead>\n",
       "    <tr style=\"text-align: right;\">\n",
       "      <th></th>\n",
       "      <th>time</th>\n",
       "      <th>night</th>\n",
       "      <th>day</th>\n",
       "    </tr>\n",
       "  </thead>\n",
       "  <tbody>\n",
       "    <tr>\n",
       "      <th>0</th>\n",
       "      <td>1997-02-21</td>\n",
       "      <td>6.81742</td>\n",
       "      <td>NaN</td>\n",
       "    </tr>\n",
       "    <tr>\n",
       "      <th>1</th>\n",
       "      <td>1997-06-15</td>\n",
       "      <td>10.81457</td>\n",
       "      <td>NaN</td>\n",
       "    </tr>\n",
       "    <tr>\n",
       "      <th>2</th>\n",
       "      <td>1997-06-16</td>\n",
       "      <td>NaN</td>\n",
       "      <td>20.694777</td>\n",
       "    </tr>\n",
       "    <tr>\n",
       "      <th>3</th>\n",
       "      <td>1997-09-04</td>\n",
       "      <td>NaN</td>\n",
       "      <td>10.367363</td>\n",
       "    </tr>\n",
       "    <tr>\n",
       "      <th>4</th>\n",
       "      <td>1997-09-05</td>\n",
       "      <td>NaN</td>\n",
       "      <td>6.42334</td>\n",
       "    </tr>\n",
       "    <tr>\n",
       "      <th>...</th>\n",
       "      <td>...</td>\n",
       "      <td>...</td>\n",
       "      <td>...</td>\n",
       "    </tr>\n",
       "    <tr>\n",
       "      <th>64</th>\n",
       "      <td>2019-02-12</td>\n",
       "      <td>4.86593</td>\n",
       "      <td>NaN</td>\n",
       "    </tr>\n",
       "    <tr>\n",
       "      <th>65</th>\n",
       "      <td>2019-06-11</td>\n",
       "      <td>NaN</td>\n",
       "      <td>10.70547</td>\n",
       "    </tr>\n",
       "    <tr>\n",
       "      <th>66</th>\n",
       "      <td>2019-08-23</td>\n",
       "      <td>NaN</td>\n",
       "      <td>3.47155</td>\n",
       "    </tr>\n",
       "    <tr>\n",
       "      <th>67</th>\n",
       "      <td>2020-02-16</td>\n",
       "      <td>NaN</td>\n",
       "      <td>5.451</td>\n",
       "    </tr>\n",
       "    <tr>\n",
       "      <th>68</th>\n",
       "      <td>2020-08-20</td>\n",
       "      <td>41.12319</td>\n",
       "      <td>NaN</td>\n",
       "    </tr>\n",
       "  </tbody>\n",
       "</table>\n",
       "<p>69 rows × 3 columns</p>\n",
       "</div>"
      ],
      "text/plain": [
       "         time     night        day\n",
       "0  1997-02-21   6.81742        NaN\n",
       "1  1997-06-15  10.81457        NaN\n",
       "2  1997-06-16       NaN  20.694777\n",
       "3  1997-09-04       NaN  10.367363\n",
       "4  1997-09-05       NaN    6.42334\n",
       "..        ...       ...        ...\n",
       "64 2019-02-12   4.86593        NaN\n",
       "65 2019-06-11       NaN   10.70547\n",
       "66 2019-08-23       NaN    3.47155\n",
       "67 2020-02-16       NaN      5.451\n",
       "68 2020-08-20  41.12319        NaN\n",
       "\n",
       "[69 rows x 3 columns]"
      ]
     },
     "execution_count": 70,
     "metadata": {},
     "output_type": "execute_result"
    }
   ],
   "source": [
    "zoo_papa_d_n = (\n",
    "    zoo_papa_d_n[zoo_papa_d_n[\"species\"] != \"chaetognaths\"]\n",
    "    .groupby([\"time\", \"is_day\"])[\"zoo dry weight\"]\n",
    "    .sum()\n",
    "    .to_frame()\n",
    ")\n",
    "zoo_papa_d_n = zoo_papa_d_n.reset_index().pivot(\n",
    "    index=\"time\", columns=\"is_day\", values=\"zoo dry weight\"\n",
    ")\n",
    "zoo_papa_d_n.columns = [\"night\", \"day\"]\n",
    "zoo_papa_d_n = zoo_papa_d_n.reset_index()\n",
    "zoo_papa_d_n"
   ]
  },
  {
   "cell_type": "code",
   "execution_count": 71,
   "metadata": {},
   "outputs": [
    {
     "data": {
      "application/vnd.plotly.v1+json": {
       "config": {
        "plotlyServerURL": "https://plot.ly"
       },
       "data": [
        {
         "mode": "lines",
         "name": "Day",
         "type": "scatter",
         "x": [
          2,
          3,
          4,
          5,
          6,
          8,
          9,
          14,
          15,
          16,
          17,
          18,
          19,
          22,
          24,
          25,
          26,
          27,
          28,
          29,
          30,
          32,
          33,
          34,
          38,
          39,
          40,
          41,
          42,
          43,
          46,
          49,
          50,
          53,
          55,
          56,
          59,
          60,
          61,
          62,
          65,
          66,
          67
         ],
         "y": [
          20.694777272727272,
          10.367363,
          6.42334,
          8.090178333333334,
          5.284035454545455,
          6.74876,
          11.232960000000002,
          8.46429,
          20.92622,
          18.437630000000002,
          22.062859999999997,
          33.61845999999999,
          15.876759999999997,
          18.939530000000005,
          7.211519999999998,
          72.88689000000001,
          32.5429,
          9.256540000000001,
          32.29561,
          8.29721,
          9.300910000000002,
          11.628790000000002,
          4.40962,
          65.20242,
          22.40026,
          46.93466,
          23.94352,
          5.675839999999999,
          58.6082,
          28.47064,
          4.495610000000001,
          21.156709999999993,
          40.23142,
          46.980259999999994,
          19.587919999999997,
          30.010079999999995,
          17.394769999999998,
          11.41764,
          10.024729999999998,
          50.84675,
          10.70547,
          3.47155,
          5.451
         ]
        },
        {
         "mode": "lines",
         "name": "Night",
         "type": "scatter",
         "x": [
          0,
          1,
          5,
          7,
          9,
          10,
          11,
          12,
          13,
          20,
          21,
          23,
          24,
          31,
          35,
          36,
          37,
          44,
          45,
          47,
          48,
          51,
          52,
          54,
          57,
          58,
          63,
          64,
          68
         ],
         "y": [
          6.817419999999999,
          10.81457,
          19.75474,
          42.012989999999995,
          26.6099,
          25.99049,
          36.77886,
          18.69339,
          16.58535,
          48.13466,
          13.347770000000002,
          21.14132,
          40.109069999999996,
          47.120400000000004,
          42.07995,
          12.584764999999999,
          29.92201,
          32.39242000000001,
          23.13028,
          18.96595,
          31.651790000000005,
          16.773940000000003,
          18.57493,
          41.912349999999996,
          76.11682,
          6.19082,
          19.729580000000006,
          4.8659300000000005,
          41.123189999999994
         ]
        }
       ],
       "layout": {
        "legend": {
         "title": {
          "text": "Time of Day"
         }
        },
        "template": {
         "data": {
          "bar": [
           {
            "error_x": {
             "color": "#2a3f5f"
            },
            "error_y": {
             "color": "#2a3f5f"
            },
            "marker": {
             "line": {
              "color": "#E5ECF6",
              "width": 0.5
             },
             "pattern": {
              "fillmode": "overlay",
              "size": 10,
              "solidity": 0.2
             }
            },
            "type": "bar"
           }
          ],
          "barpolar": [
           {
            "marker": {
             "line": {
              "color": "#E5ECF6",
              "width": 0.5
             },
             "pattern": {
              "fillmode": "overlay",
              "size": 10,
              "solidity": 0.2
             }
            },
            "type": "barpolar"
           }
          ],
          "carpet": [
           {
            "aaxis": {
             "endlinecolor": "#2a3f5f",
             "gridcolor": "white",
             "linecolor": "white",
             "minorgridcolor": "white",
             "startlinecolor": "#2a3f5f"
            },
            "baxis": {
             "endlinecolor": "#2a3f5f",
             "gridcolor": "white",
             "linecolor": "white",
             "minorgridcolor": "white",
             "startlinecolor": "#2a3f5f"
            },
            "type": "carpet"
           }
          ],
          "choropleth": [
           {
            "colorbar": {
             "outlinewidth": 0,
             "ticks": ""
            },
            "type": "choropleth"
           }
          ],
          "contour": [
           {
            "colorbar": {
             "outlinewidth": 0,
             "ticks": ""
            },
            "colorscale": [
             [
              0,
              "#0d0887"
             ],
             [
              0.1111111111111111,
              "#46039f"
             ],
             [
              0.2222222222222222,
              "#7201a8"
             ],
             [
              0.3333333333333333,
              "#9c179e"
             ],
             [
              0.4444444444444444,
              "#bd3786"
             ],
             [
              0.5555555555555556,
              "#d8576b"
             ],
             [
              0.6666666666666666,
              "#ed7953"
             ],
             [
              0.7777777777777778,
              "#fb9f3a"
             ],
             [
              0.8888888888888888,
              "#fdca26"
             ],
             [
              1,
              "#f0f921"
             ]
            ],
            "type": "contour"
           }
          ],
          "contourcarpet": [
           {
            "colorbar": {
             "outlinewidth": 0,
             "ticks": ""
            },
            "type": "contourcarpet"
           }
          ],
          "heatmap": [
           {
            "colorbar": {
             "outlinewidth": 0,
             "ticks": ""
            },
            "colorscale": [
             [
              0,
              "#0d0887"
             ],
             [
              0.1111111111111111,
              "#46039f"
             ],
             [
              0.2222222222222222,
              "#7201a8"
             ],
             [
              0.3333333333333333,
              "#9c179e"
             ],
             [
              0.4444444444444444,
              "#bd3786"
             ],
             [
              0.5555555555555556,
              "#d8576b"
             ],
             [
              0.6666666666666666,
              "#ed7953"
             ],
             [
              0.7777777777777778,
              "#fb9f3a"
             ],
             [
              0.8888888888888888,
              "#fdca26"
             ],
             [
              1,
              "#f0f921"
             ]
            ],
            "type": "heatmap"
           }
          ],
          "heatmapgl": [
           {
            "colorbar": {
             "outlinewidth": 0,
             "ticks": ""
            },
            "colorscale": [
             [
              0,
              "#0d0887"
             ],
             [
              0.1111111111111111,
              "#46039f"
             ],
             [
              0.2222222222222222,
              "#7201a8"
             ],
             [
              0.3333333333333333,
              "#9c179e"
             ],
             [
              0.4444444444444444,
              "#bd3786"
             ],
             [
              0.5555555555555556,
              "#d8576b"
             ],
             [
              0.6666666666666666,
              "#ed7953"
             ],
             [
              0.7777777777777778,
              "#fb9f3a"
             ],
             [
              0.8888888888888888,
              "#fdca26"
             ],
             [
              1,
              "#f0f921"
             ]
            ],
            "type": "heatmapgl"
           }
          ],
          "histogram": [
           {
            "marker": {
             "pattern": {
              "fillmode": "overlay",
              "size": 10,
              "solidity": 0.2
             }
            },
            "type": "histogram"
           }
          ],
          "histogram2d": [
           {
            "colorbar": {
             "outlinewidth": 0,
             "ticks": ""
            },
            "colorscale": [
             [
              0,
              "#0d0887"
             ],
             [
              0.1111111111111111,
              "#46039f"
             ],
             [
              0.2222222222222222,
              "#7201a8"
             ],
             [
              0.3333333333333333,
              "#9c179e"
             ],
             [
              0.4444444444444444,
              "#bd3786"
             ],
             [
              0.5555555555555556,
              "#d8576b"
             ],
             [
              0.6666666666666666,
              "#ed7953"
             ],
             [
              0.7777777777777778,
              "#fb9f3a"
             ],
             [
              0.8888888888888888,
              "#fdca26"
             ],
             [
              1,
              "#f0f921"
             ]
            ],
            "type": "histogram2d"
           }
          ],
          "histogram2dcontour": [
           {
            "colorbar": {
             "outlinewidth": 0,
             "ticks": ""
            },
            "colorscale": [
             [
              0,
              "#0d0887"
             ],
             [
              0.1111111111111111,
              "#46039f"
             ],
             [
              0.2222222222222222,
              "#7201a8"
             ],
             [
              0.3333333333333333,
              "#9c179e"
             ],
             [
              0.4444444444444444,
              "#bd3786"
             ],
             [
              0.5555555555555556,
              "#d8576b"
             ],
             [
              0.6666666666666666,
              "#ed7953"
             ],
             [
              0.7777777777777778,
              "#fb9f3a"
             ],
             [
              0.8888888888888888,
              "#fdca26"
             ],
             [
              1,
              "#f0f921"
             ]
            ],
            "type": "histogram2dcontour"
           }
          ],
          "mesh3d": [
           {
            "colorbar": {
             "outlinewidth": 0,
             "ticks": ""
            },
            "type": "mesh3d"
           }
          ],
          "parcoords": [
           {
            "line": {
             "colorbar": {
              "outlinewidth": 0,
              "ticks": ""
             }
            },
            "type": "parcoords"
           }
          ],
          "pie": [
           {
            "automargin": true,
            "type": "pie"
           }
          ],
          "scatter": [
           {
            "fillpattern": {
             "fillmode": "overlay",
             "size": 10,
             "solidity": 0.2
            },
            "type": "scatter"
           }
          ],
          "scatter3d": [
           {
            "line": {
             "colorbar": {
              "outlinewidth": 0,
              "ticks": ""
             }
            },
            "marker": {
             "colorbar": {
              "outlinewidth": 0,
              "ticks": ""
             }
            },
            "type": "scatter3d"
           }
          ],
          "scattercarpet": [
           {
            "marker": {
             "colorbar": {
              "outlinewidth": 0,
              "ticks": ""
             }
            },
            "type": "scattercarpet"
           }
          ],
          "scattergeo": [
           {
            "marker": {
             "colorbar": {
              "outlinewidth": 0,
              "ticks": ""
             }
            },
            "type": "scattergeo"
           }
          ],
          "scattergl": [
           {
            "marker": {
             "colorbar": {
              "outlinewidth": 0,
              "ticks": ""
             }
            },
            "type": "scattergl"
           }
          ],
          "scattermapbox": [
           {
            "marker": {
             "colorbar": {
              "outlinewidth": 0,
              "ticks": ""
             }
            },
            "type": "scattermapbox"
           }
          ],
          "scatterpolar": [
           {
            "marker": {
             "colorbar": {
              "outlinewidth": 0,
              "ticks": ""
             }
            },
            "type": "scatterpolar"
           }
          ],
          "scatterpolargl": [
           {
            "marker": {
             "colorbar": {
              "outlinewidth": 0,
              "ticks": ""
             }
            },
            "type": "scatterpolargl"
           }
          ],
          "scatterternary": [
           {
            "marker": {
             "colorbar": {
              "outlinewidth": 0,
              "ticks": ""
             }
            },
            "type": "scatterternary"
           }
          ],
          "surface": [
           {
            "colorbar": {
             "outlinewidth": 0,
             "ticks": ""
            },
            "colorscale": [
             [
              0,
              "#0d0887"
             ],
             [
              0.1111111111111111,
              "#46039f"
             ],
             [
              0.2222222222222222,
              "#7201a8"
             ],
             [
              0.3333333333333333,
              "#9c179e"
             ],
             [
              0.4444444444444444,
              "#bd3786"
             ],
             [
              0.5555555555555556,
              "#d8576b"
             ],
             [
              0.6666666666666666,
              "#ed7953"
             ],
             [
              0.7777777777777778,
              "#fb9f3a"
             ],
             [
              0.8888888888888888,
              "#fdca26"
             ],
             [
              1,
              "#f0f921"
             ]
            ],
            "type": "surface"
           }
          ],
          "table": [
           {
            "cells": {
             "fill": {
              "color": "#EBF0F8"
             },
             "line": {
              "color": "white"
             }
            },
            "header": {
             "fill": {
              "color": "#C8D4E3"
             },
             "line": {
              "color": "white"
             }
            },
            "type": "table"
           }
          ]
         },
         "layout": {
          "annotationdefaults": {
           "arrowcolor": "#2a3f5f",
           "arrowhead": 0,
           "arrowwidth": 1
          },
          "autotypenumbers": "strict",
          "coloraxis": {
           "colorbar": {
            "outlinewidth": 0,
            "ticks": ""
           }
          },
          "colorscale": {
           "diverging": [
            [
             0,
             "#8e0152"
            ],
            [
             0.1,
             "#c51b7d"
            ],
            [
             0.2,
             "#de77ae"
            ],
            [
             0.3,
             "#f1b6da"
            ],
            [
             0.4,
             "#fde0ef"
            ],
            [
             0.5,
             "#f7f7f7"
            ],
            [
             0.6,
             "#e6f5d0"
            ],
            [
             0.7,
             "#b8e186"
            ],
            [
             0.8,
             "#7fbc41"
            ],
            [
             0.9,
             "#4d9221"
            ],
            [
             1,
             "#276419"
            ]
           ],
           "sequential": [
            [
             0,
             "#0d0887"
            ],
            [
             0.1111111111111111,
             "#46039f"
            ],
            [
             0.2222222222222222,
             "#7201a8"
            ],
            [
             0.3333333333333333,
             "#9c179e"
            ],
            [
             0.4444444444444444,
             "#bd3786"
            ],
            [
             0.5555555555555556,
             "#d8576b"
            ],
            [
             0.6666666666666666,
             "#ed7953"
            ],
            [
             0.7777777777777778,
             "#fb9f3a"
            ],
            [
             0.8888888888888888,
             "#fdca26"
            ],
            [
             1,
             "#f0f921"
            ]
           ],
           "sequentialminus": [
            [
             0,
             "#0d0887"
            ],
            [
             0.1111111111111111,
             "#46039f"
            ],
            [
             0.2222222222222222,
             "#7201a8"
            ],
            [
             0.3333333333333333,
             "#9c179e"
            ],
            [
             0.4444444444444444,
             "#bd3786"
            ],
            [
             0.5555555555555556,
             "#d8576b"
            ],
            [
             0.6666666666666666,
             "#ed7953"
            ],
            [
             0.7777777777777778,
             "#fb9f3a"
            ],
            [
             0.8888888888888888,
             "#fdca26"
            ],
            [
             1,
             "#f0f921"
            ]
           ]
          },
          "colorway": [
           "#636efa",
           "#EF553B",
           "#00cc96",
           "#ab63fa",
           "#FFA15A",
           "#19d3f3",
           "#FF6692",
           "#B6E880",
           "#FF97FF",
           "#FECB52"
          ],
          "font": {
           "color": "#2a3f5f"
          },
          "geo": {
           "bgcolor": "white",
           "lakecolor": "white",
           "landcolor": "#E5ECF6",
           "showlakes": true,
           "showland": true,
           "subunitcolor": "white"
          },
          "hoverlabel": {
           "align": "left"
          },
          "hovermode": "closest",
          "mapbox": {
           "style": "light"
          },
          "paper_bgcolor": "white",
          "plot_bgcolor": "#E5ECF6",
          "polar": {
           "angularaxis": {
            "gridcolor": "white",
            "linecolor": "white",
            "ticks": ""
           },
           "bgcolor": "#E5ECF6",
           "radialaxis": {
            "gridcolor": "white",
            "linecolor": "white",
            "ticks": ""
           }
          },
          "scene": {
           "xaxis": {
            "backgroundcolor": "#E5ECF6",
            "gridcolor": "white",
            "gridwidth": 2,
            "linecolor": "white",
            "showbackground": true,
            "ticks": "",
            "zerolinecolor": "white"
           },
           "yaxis": {
            "backgroundcolor": "#E5ECF6",
            "gridcolor": "white",
            "gridwidth": 2,
            "linecolor": "white",
            "showbackground": true,
            "ticks": "",
            "zerolinecolor": "white"
           },
           "zaxis": {
            "backgroundcolor": "#E5ECF6",
            "gridcolor": "white",
            "gridwidth": 2,
            "linecolor": "white",
            "showbackground": true,
            "ticks": "",
            "zerolinecolor": "white"
           }
          },
          "shapedefaults": {
           "line": {
            "color": "#2a3f5f"
           }
          },
          "ternary": {
           "aaxis": {
            "gridcolor": "white",
            "linecolor": "white",
            "ticks": ""
           },
           "baxis": {
            "gridcolor": "white",
            "linecolor": "white",
            "ticks": ""
           },
           "bgcolor": "#E5ECF6",
           "caxis": {
            "gridcolor": "white",
            "linecolor": "white",
            "ticks": ""
           }
          },
          "title": {
           "x": 0.05
          },
          "xaxis": {
           "automargin": true,
           "gridcolor": "white",
           "linecolor": "white",
           "ticks": "",
           "title": {
            "standoff": 15
           },
           "zerolinecolor": "white",
           "zerolinewidth": 2
          },
          "yaxis": {
           "automargin": true,
           "gridcolor": "white",
           "linecolor": "white",
           "ticks": "",
           "title": {
            "standoff": 15
           },
           "zerolinecolor": "white",
           "zerolinewidth": 2
          }
         }
        },
        "title": {
         "text": "HOT : zooplankton dry weight by cube meter of sea water"
        },
        "xaxis": {
         "title": {
          "text": "Time"
         }
        },
        "yaxis": {
         "title": {
          "text": "Dry Weight (g/m3)"
         }
        }
       }
      }
     },
     "metadata": {},
     "output_type": "display_data"
    }
   ],
   "source": [
    "day = zoo_papa_d_n[\"day\"].dropna()\n",
    "night = zoo_papa_d_n[\"night\"].dropna()\n",
    "go.Figure(\n",
    "    data=[\n",
    "        go.Scatter(x=day.index, y=day, mode=\"lines\", name=\"Day\"),\n",
    "        go.Scatter(x=night.index, y=night, mode=\"lines\", name=\"Night\"),\n",
    "    ]\n",
    ").update_layout(\n",
    "    title=\"HOT : zooplankton dry weight by cube meter of sea water\",\n",
    "    xaxis_title=\"Time\",\n",
    "    yaxis_title=\"Dry Weight (g/m3)\",\n",
    "    legend_title=\"Time of Day\",\n",
    ").show()"
   ]
  },
  {
   "cell_type": "markdown",
   "metadata": {},
   "source": [
    "---\n",
    "\n",
    "## Export the products in netCDF format\n"
   ]
  },
  {
   "cell_type": "code",
   "execution_count": 87,
   "metadata": {},
   "outputs": [],
   "source": [
    "for df_zoo, name_zoo in zip(\n",
    "    [zoo_hot_d_n, zoo_bats_d_n, zoo_papa_d_n], [\"hot\", \"bats\", \"papa\"]\n",
    "):\n",
    "    as_xarray = xr.Dataset.from_dataframe(df_zoo)\n",
    "    as_xarray[\"time\"].attrs = {\n",
    "        \"axis\": \"T\",\n",
    "        \"standard_name\": \"time\",\n",
    "        \"long_name\": \"time\",\n",
    "    }\n",
    "    as_xarray[\"night\"].attrs = {\n",
    "        \"units\": \"mg/m3\",\n",
    "        \"description\": \"Zooplankton dry weight by cube meter of sea water at night\",\n",
    "    }\n",
    "    as_xarray[\"day\"].attrs = {\n",
    "        \"units\": \"mg/m3\",\n",
    "        \"description\": \"Zooplankton dry weight by cube meter of sea water during the day\",\n",
    "    }\n",
    "    as_xarray.attrs = {\"station\": name_zoo, \"creation date\": datetime.now().isoformat()}\n",
    "    as_xarray.to_netcdf(f\"{name_zoo}_zooplankton.nc\")"
   ]
  }
 ],
 "metadata": {
  "kernelspec": {
   "display_name": ".venv",
   "language": "python",
   "name": "python3"
  },
  "language_info": {
   "codemirror_mode": {
    "name": "ipython",
    "version": 3
   },
   "file_extension": ".py",
   "mimetype": "text/x-python",
   "name": "python",
   "nbconvert_exporter": "python",
   "pygments_lexer": "ipython3",
   "version": "3.12.5"
  }
 },
 "nbformat": 4,
 "nbformat_minor": 2
}
